{
 "cells": [
  {
   "cell_type": "code",
   "execution_count": 75,
   "metadata": {},
   "outputs": [],
   "source": [
    "import numpy as np\n",
    "import pandas as pd\n",
    "import re\n",
    "import matplotlib.pyplot as plt\n",
    "%matplotlib inline \n",
    "import math\n",
    "from sklearn.model_selection import train_test_split\n",
    "from scipy.optimize import brute\n",
    "import time\n",
    "from sklearn.model_selection import RandomizedSearchCV\n",
    "from functools import partial\n",
    "import swifter\n",
    "from tqdm import tqdm"
   ]
  },
  {
   "cell_type": "code",
   "execution_count": 54,
   "metadata": {},
   "outputs": [],
   "source": [
    "\n",
    "df=pd.read_csv('final.csv', sep=',')"
   ]
  },
  {
   "cell_type": "code",
   "execution_count": 55,
   "metadata": {},
   "outputs": [
    {
     "data": {
      "text/html": [
       "<div>\n",
       "<style scoped>\n",
       "    .dataframe tbody tr th:only-of-type {\n",
       "        vertical-align: middle;\n",
       "    }\n",
       "\n",
       "    .dataframe tbody tr th {\n",
       "        vertical-align: top;\n",
       "    }\n",
       "\n",
       "    .dataframe thead th {\n",
       "        text-align: right;\n",
       "    }\n",
       "</style>\n",
       "<table border=\"1\" class=\"dataframe\">\n",
       "  <thead>\n",
       "    <tr style=\"text-align: right;\">\n",
       "      <th></th>\n",
       "      <th>user_id</th>\n",
       "      <th>tag_code</th>\n",
       "      <th>is_right</th>\n",
       "    </tr>\n",
       "  </thead>\n",
       "  <tbody>\n",
       "    <tr>\n",
       "      <th>0</th>\n",
       "      <td>29110</td>\n",
       "      <td>c050101</td>\n",
       "      <td>[0, 0, 1, 0, 1]</td>\n",
       "    </tr>\n",
       "    <tr>\n",
       "      <th>1</th>\n",
       "      <td>29110</td>\n",
       "      <td>c050102</td>\n",
       "      <td>[1, 0, 0, 1, 1]</td>\n",
       "    </tr>\n",
       "    <tr>\n",
       "      <th>2</th>\n",
       "      <td>29110</td>\n",
       "      <td>c050103</td>\n",
       "      <td>[1, 0, 0, 0, 1]</td>\n",
       "    </tr>\n",
       "    <tr>\n",
       "      <th>3</th>\n",
       "      <td>29110</td>\n",
       "      <td>c050104</td>\n",
       "      <td>[0, 0, 1, 1, 1]</td>\n",
       "    </tr>\n",
       "    <tr>\n",
       "      <th>4</th>\n",
       "      <td>29110</td>\n",
       "      <td>c050201</td>\n",
       "      <td>[1, 0, 1, 0, 1]</td>\n",
       "    </tr>\n",
       "  </tbody>\n",
       "</table>\n",
       "</div>"
      ],
      "text/plain": [
       "   user_id tag_code         is_right\n",
       "0    29110  c050101  [0, 0, 1, 0, 1]\n",
       "1    29110  c050102  [1, 0, 0, 1, 1]\n",
       "2    29110  c050103  [1, 0, 0, 0, 1]\n",
       "3    29110  c050104  [0, 0, 1, 1, 1]\n",
       "4    29110  c050201  [1, 0, 1, 0, 1]"
      ]
     },
     "execution_count": 55,
     "metadata": {},
     "output_type": "execute_result"
    }
   ],
   "source": [
    "df.head()"
   ]
  },
  {
   "cell_type": "code",
   "execution_count": 56,
   "metadata": {},
   "outputs": [
    {
     "data": {
      "text/plain": [
       "(83563, 3)"
      ]
     },
     "execution_count": 56,
     "metadata": {},
     "output_type": "execute_result"
    }
   ],
   "source": [
    "df.shape\n",
    "# a = df.is_right.head()\n",
    "# type(a[0])"
   ]
  },
  {
   "cell_type": "code",
   "execution_count": 57,
   "metadata": {},
   "outputs": [],
   "source": [
    "# 不需要这个进行转换\n",
    "def map_li(x):\n",
    "    x = x.lstrip('[').rstrip(']').split(', ')\n",
    "    return list(map(int, x))"
   ]
  },
  {
   "cell_type": "code",
   "execution_count": 58,
   "metadata": {},
   "outputs": [],
   "source": [
    "df['is_right'] = df['is_right'].map(lambda x: map_li(x))"
   ]
  },
  {
   "cell_type": "code",
   "execution_count": 59,
   "metadata": {},
   "outputs": [
    {
     "data": {
      "text/html": [
       "<div>\n",
       "<style scoped>\n",
       "    .dataframe tbody tr th:only-of-type {\n",
       "        vertical-align: middle;\n",
       "    }\n",
       "\n",
       "    .dataframe tbody tr th {\n",
       "        vertical-align: top;\n",
       "    }\n",
       "\n",
       "    .dataframe thead th {\n",
       "        text-align: right;\n",
       "    }\n",
       "</style>\n",
       "<table border=\"1\" class=\"dataframe\">\n",
       "  <thead>\n",
       "    <tr style=\"text-align: right;\">\n",
       "      <th></th>\n",
       "      <th>user_id</th>\n",
       "      <th>tag_code</th>\n",
       "      <th>is_right</th>\n",
       "    </tr>\n",
       "  </thead>\n",
       "  <tbody>\n",
       "    <tr>\n",
       "      <th>0</th>\n",
       "      <td>29110</td>\n",
       "      <td>c050101</td>\n",
       "      <td>[0, 0, 1, 0, 1]</td>\n",
       "    </tr>\n",
       "    <tr>\n",
       "      <th>1</th>\n",
       "      <td>29110</td>\n",
       "      <td>c050102</td>\n",
       "      <td>[1, 0, 0, 1, 1]</td>\n",
       "    </tr>\n",
       "    <tr>\n",
       "      <th>2</th>\n",
       "      <td>29110</td>\n",
       "      <td>c050103</td>\n",
       "      <td>[1, 0, 0, 0, 1]</td>\n",
       "    </tr>\n",
       "    <tr>\n",
       "      <th>3</th>\n",
       "      <td>29110</td>\n",
       "      <td>c050104</td>\n",
       "      <td>[0, 0, 1, 1, 1]</td>\n",
       "    </tr>\n",
       "    <tr>\n",
       "      <th>4</th>\n",
       "      <td>29110</td>\n",
       "      <td>c050201</td>\n",
       "      <td>[1, 0, 1, 0, 1]</td>\n",
       "    </tr>\n",
       "  </tbody>\n",
       "</table>\n",
       "</div>"
      ],
      "text/plain": [
       "   user_id tag_code         is_right\n",
       "0    29110  c050101  [0, 0, 1, 0, 1]\n",
       "1    29110  c050102  [1, 0, 0, 1, 1]\n",
       "2    29110  c050103  [1, 0, 0, 0, 1]\n",
       "3    29110  c050104  [0, 0, 1, 1, 1]\n",
       "4    29110  c050201  [1, 0, 1, 0, 1]"
      ]
     },
     "execution_count": 59,
     "metadata": {},
     "output_type": "execute_result"
    }
   ],
   "source": [
    "df.head()\n",
    "# a = df.is_right.head()\n",
    "# type(a[0])\n"
   ]
  },
  {
   "cell_type": "code",
   "execution_count": 60,
   "metadata": {},
   "outputs": [
    {
     "data": {
      "text/plain": [
       "((66850, 3), (16713, 3))"
      ]
     },
     "execution_count": 60,
     "metadata": {},
     "output_type": "execute_result"
    }
   ],
   "source": [
    "train, test =  train_test_split(df, test_size=0.2)\n",
    "train.shape, test.shape"
   ]
  },
  {
   "cell_type": "code",
   "execution_count": 61,
   "metadata": {},
   "outputs": [],
   "source": [
    "# df1 做题数目>2的知识点\n",
    "df['length'] = df['is_right'].map(lambda x: len(x))\n",
    "df1=df.loc[df.length>2, ][['user_id', 'tag_code', 'is_right', 'length']]"
   ]
  },
  {
   "cell_type": "code",
   "execution_count": 62,
   "metadata": {},
   "outputs": [
    {
     "data": {
      "text/html": [
       "<div>\n",
       "<style scoped>\n",
       "    .dataframe tbody tr th:only-of-type {\n",
       "        vertical-align: middle;\n",
       "    }\n",
       "\n",
       "    .dataframe tbody tr th {\n",
       "        vertical-align: top;\n",
       "    }\n",
       "\n",
       "    .dataframe thead th {\n",
       "        text-align: right;\n",
       "    }\n",
       "</style>\n",
       "<table border=\"1\" class=\"dataframe\">\n",
       "  <thead>\n",
       "    <tr style=\"text-align: right;\">\n",
       "      <th></th>\n",
       "      <th>user_id</th>\n",
       "      <th>tag_code</th>\n",
       "      <th>is_right</th>\n",
       "      <th>length</th>\n",
       "    </tr>\n",
       "  </thead>\n",
       "  <tbody>\n",
       "    <tr>\n",
       "      <th>0</th>\n",
       "      <td>29110</td>\n",
       "      <td>c050101</td>\n",
       "      <td>[0, 0, 1, 0, 1]</td>\n",
       "      <td>5</td>\n",
       "    </tr>\n",
       "    <tr>\n",
       "      <th>1</th>\n",
       "      <td>29110</td>\n",
       "      <td>c050102</td>\n",
       "      <td>[1, 0, 0, 1, 1]</td>\n",
       "      <td>5</td>\n",
       "    </tr>\n",
       "    <tr>\n",
       "      <th>2</th>\n",
       "      <td>29110</td>\n",
       "      <td>c050103</td>\n",
       "      <td>[1, 0, 0, 0, 1]</td>\n",
       "      <td>5</td>\n",
       "    </tr>\n",
       "    <tr>\n",
       "      <th>3</th>\n",
       "      <td>29110</td>\n",
       "      <td>c050104</td>\n",
       "      <td>[0, 0, 1, 1, 1]</td>\n",
       "      <td>5</td>\n",
       "    </tr>\n",
       "    <tr>\n",
       "      <th>4</th>\n",
       "      <td>29110</td>\n",
       "      <td>c050201</td>\n",
       "      <td>[1, 0, 1, 0, 1]</td>\n",
       "      <td>5</td>\n",
       "    </tr>\n",
       "  </tbody>\n",
       "</table>\n",
       "</div>"
      ],
      "text/plain": [
       "   user_id tag_code         is_right  length\n",
       "0    29110  c050101  [0, 0, 1, 0, 1]       5\n",
       "1    29110  c050102  [1, 0, 0, 1, 1]       5\n",
       "2    29110  c050103  [1, 0, 0, 0, 1]       5\n",
       "3    29110  c050104  [0, 0, 1, 1, 1]       5\n",
       "4    29110  c050201  [1, 0, 1, 0, 1]       5"
      ]
     },
     "execution_count": 62,
     "metadata": {},
     "output_type": "execute_result"
    }
   ],
   "source": [
    "df1.head()"
   ]
  },
  {
   "cell_type": "code",
   "execution_count": 63,
   "metadata": {},
   "outputs": [
    {
     "data": {
      "text/plain": [
       "(81598, 4)"
      ]
     },
     "execution_count": 63,
     "metadata": {},
     "output_type": "execute_result"
    }
   ],
   "source": [
    "df1.shape"
   ]
  },
  {
   "cell_type": "code",
   "execution_count": 64,
   "metadata": {},
   "outputs": [
    {
     "data": {
      "text/plain": [
       "(array([1.8210e+04, 0.0000e+00, 2.2647e+04, 0.0000e+00, 2.0220e+04,\n",
       "        0.0000e+00, 2.0462e+04, 0.0000e+00, 5.3000e+01, 6.0000e+00]),\n",
       " array([3. , 3.5, 4. , 4.5, 5. , 5.5, 6. , 6.5, 7. , 7.5, 8. ]),\n",
       " <a list of 10 Patch objects>)"
      ]
     },
     "execution_count": 64,
     "metadata": {},
     "output_type": "execute_result"
    },
    {
     "data": {
      "image/png": "[encoded data removed]",
      "text/plain": [
       "<Figure size 432x288 with 1 Axes>"
      ]
     },
     "metadata": {},
     "output_type": "display_data"
    }
   ],
   "source": [
    "plt.hist(df1.length)\n",
    "# would the learning problems size have an effect on the data (eg, remove problems < 2)"
   ]
  },
  {
   "cell_type": "code",
   "execution_count": 65,
   "metadata": {},
   "outputs": [
    {
     "data": {
      "text/html": [
       "<div>\n",
       "<style scoped>\n",
       "    .dataframe tbody tr th:only-of-type {\n",
       "        vertical-align: middle;\n",
       "    }\n",
       "\n",
       "    .dataframe tbody tr th {\n",
       "        vertical-align: top;\n",
       "    }\n",
       "\n",
       "    .dataframe thead th {\n",
       "        text-align: right;\n",
       "    }\n",
       "</style>\n",
       "<table border=\"1\" class=\"dataframe\">\n",
       "  <thead>\n",
       "    <tr style=\"text-align: right;\">\n",
       "      <th></th>\n",
       "      <th>tag_code</th>\n",
       "      <th>user_id</th>\n",
       "    </tr>\n",
       "  </thead>\n",
       "  <tbody>\n",
       "    <tr>\n",
       "      <th>826</th>\n",
       "      <td>z120105</td>\n",
       "      <td>8</td>\n",
       "    </tr>\n",
       "    <tr>\n",
       "      <th>819</th>\n",
       "      <td>z090102</td>\n",
       "      <td>9</td>\n",
       "    </tr>\n",
       "    <tr>\n",
       "      <th>568</th>\n",
       "      <td>c290101</td>\n",
       "      <td>9</td>\n",
       "    </tr>\n",
       "    <tr>\n",
       "      <th>260</th>\n",
       "      <td>c140206</td>\n",
       "      <td>10</td>\n",
       "    </tr>\n",
       "    <tr>\n",
       "      <th>338</th>\n",
       "      <td>c170312</td>\n",
       "      <td>10</td>\n",
       "    </tr>\n",
       "  </tbody>\n",
       "</table>\n",
       "</div>"
      ],
      "text/plain": [
       "    tag_code  user_id\n",
       "826  z120105        8\n",
       "819  z090102        9\n",
       "568  c290101        9\n",
       "260  c140206       10\n",
       "338  c170312       10"
      ]
     },
     "execution_count": 65,
     "metadata": {},
     "output_type": "execute_result"
    }
   ],
   "source": [
    "# check each tag_code and see how many users have learned them. \n",
    "gpkc=df1.groupby('tag_code')['user_id'].count().to_frame().reset_index().sort_values('user_id')\n",
    "gpkc.head()"
   ]
  },
  {
   "cell_type": "code",
   "execution_count": 66,
   "metadata": {},
   "outputs": [
    {
     "data": {
      "text/plain": [
       "(array([269., 141., 140.,  92.,  59.,  47.,  36.,  19.,  16.,   8.]),\n",
       " array([  8. ,  43.8,  79.6, 115.4, 151.2, 187. , 222.8, 258.6, 294.4,\n",
       "        330.2, 366. ]),\n",
       " <a list of 10 Patch objects>)"
      ]
     },
     "execution_count": 66,
     "metadata": {},
     "output_type": "execute_result"
    },
    {
     "data": {
      "image/png": "[encoded data removed]",
      "text/plain": [
       "<Figure size 432x288 with 1 Axes>"
      ]
     },
     "metadata": {},
     "output_type": "display_data"
    }
   ],
   "source": [
    "# 统计每个知识点有多少人学。x：某个知识点有多少人学 y：有多少人学的知识点有多少个\n",
    "plt.hist(gpkc.user_id)"
   ]
  },
  {
   "cell_type": "code",
   "execution_count": 67,
   "metadata": {},
   "outputs": [
    {
     "data": {
      "text/plain": [
       "245    c130307\n",
       "661      q0202\n",
       "214    c120402\n",
       "253    c140105\n",
       "641    c340201\n",
       "Name: tag_code, dtype: object"
      ]
     },
     "execution_count": 67,
     "metadata": {},
     "output_type": "execute_result"
    }
   ],
   "source": [
    "kcs = gpkc[gpkc.user_id>=30].tag_code\n",
    "kcs.head()"
   ]
  },
  {
   "cell_type": "code",
   "execution_count": 68,
   "metadata": {},
   "outputs": [
    {
     "data": {
      "text/plain": [
       "(78162, 4)"
      ]
     },
     "execution_count": 68,
     "metadata": {},
     "output_type": "execute_result"
    }
   ],
   "source": [
    "# my_df: 统计被30个以上的学生做过的知识点\n",
    "my_df = pd.DataFrame()\n",
    "\n",
    "for i in kcs:\n",
    "    appends = df1[df1['tag_code']==i]\n",
    "    my_df = pd.concat([my_df, appends], axis = 0)\n",
    "\n",
    "my_df.shape"
   ]
  },
  {
   "cell_type": "code",
   "execution_count": 69,
   "metadata": {},
   "outputs": [
    {
     "data": {
      "text/html": [
       "<div>\n",
       "<style scoped>\n",
       "    .dataframe tbody tr th:only-of-type {\n",
       "        vertical-align: middle;\n",
       "    }\n",
       "\n",
       "    .dataframe tbody tr th {\n",
       "        vertical-align: top;\n",
       "    }\n",
       "\n",
       "    .dataframe thead th {\n",
       "        text-align: right;\n",
       "    }\n",
       "</style>\n",
       "<table border=\"1\" class=\"dataframe\">\n",
       "  <thead>\n",
       "    <tr style=\"text-align: right;\">\n",
       "      <th></th>\n",
       "      <th>user_id</th>\n",
       "      <th>tag_code</th>\n",
       "      <th>is_right</th>\n",
       "      <th>length</th>\n",
       "    </tr>\n",
       "  </thead>\n",
       "  <tbody>\n",
       "    <tr>\n",
       "      <th>951</th>\n",
       "      <td>30364</td>\n",
       "      <td>c130307</td>\n",
       "      <td>[1, 1, 1, 1]</td>\n",
       "      <td>4</td>\n",
       "    </tr>\n",
       "    <tr>\n",
       "      <th>2536</th>\n",
       "      <td>31712</td>\n",
       "      <td>c130307</td>\n",
       "      <td>[1, 1, 1]</td>\n",
       "      <td>3</td>\n",
       "    </tr>\n",
       "    <tr>\n",
       "      <th>2847</th>\n",
       "      <td>32334</td>\n",
       "      <td>c130307</td>\n",
       "      <td>[1, 1, 1, 1, 1, 1]</td>\n",
       "      <td>6</td>\n",
       "    </tr>\n",
       "    <tr>\n",
       "      <th>4336</th>\n",
       "      <td>34398</td>\n",
       "      <td>c130307</td>\n",
       "      <td>[0, 0, 0, 1, 0, 0]</td>\n",
       "      <td>6</td>\n",
       "    </tr>\n",
       "    <tr>\n",
       "      <th>5521</th>\n",
       "      <td>34878</td>\n",
       "      <td>c130307</td>\n",
       "      <td>[1, 1, 1, 1]</td>\n",
       "      <td>4</td>\n",
       "    </tr>\n",
       "  </tbody>\n",
       "</table>\n",
       "</div>"
      ],
      "text/plain": [
       "      user_id tag_code            is_right  length\n",
       "951     30364  c130307        [1, 1, 1, 1]       4\n",
       "2536    31712  c130307           [1, 1, 1]       3\n",
       "2847    32334  c130307  [1, 1, 1, 1, 1, 1]       6\n",
       "4336    34398  c130307  [0, 0, 0, 1, 0, 0]       6\n",
       "5521    34878  c130307        [1, 1, 1, 1]       4"
      ]
     },
     "execution_count": 69,
     "metadata": {},
     "output_type": "execute_result"
    }
   ],
   "source": [
    "my_df.head()"
   ]
  },
  {
   "cell_type": "code",
   "execution_count": 103,
   "metadata": {},
   "outputs": [
    {
     "data": {
      "text/plain": [
       "645"
      ]
     },
     "execution_count": 103,
     "metadata": {},
     "output_type": "execute_result"
    }
   ],
   "source": [
    "len(my_df.tag_code.unique())"
   ]
  },
  {
   "cell_type": "code",
   "execution_count": 128,
   "metadata": {},
   "outputs": [],
   "source": [
    "def find_ssr(solve, parameters):\n",
    "    l0, trans, guess, slip = parameters\n",
    "#     print(trans)\n",
    "    prevL = l0\n",
    "    nslip = 1 - slip\n",
    "    nguess = 1 - guess\n",
    "    ssr = 0 \n",
    "\n",
    "    for action in solve: \n",
    "#         print('ac',action, 'sol', solve)\n",
    "        likelihood_correct = prevL * (1.0 - slip) + (1.0 - prevL) * guess\n",
    "#         print('it ac', action)\n",
    "        ssr += (action - likelihood_correct) ** 2\n",
    "        if action:\n",
    "            postL = (prevL * nslip) / (prevL * nslip + (1.0 - prevL) * guess)\n",
    "        else:\n",
    "            postL = prevL * slip / (prevL * slip + (1.0 - prevL) * nguess)\n",
    "        prevL = postL + (1.0 - postL) * trans\n",
    "    return ssr  "
   ]
  },
  {
   "cell_type": "code",
   "execution_count": 132,
   "metadata": {},
   "outputs": [],
   "source": [
    "def ssr(df, parameters):\n",
    "#     df.loc[:,'ssr']=df['is_right'].map(lambda x: find_ssr(x, parameters))\n",
    "    df.loc[:,'ssr']=df['is_right'].swifter.apply(lambda x: find_ssr(x, parameters))\n",
    "#     print(parameters, round(df['ssr'].sum()/df['length'].sum(),8))\n",
    "#     print(df)\n",
    "    return round(df['ssr'].sum()/df['length'].sum(),8)"
   ]
  },
  {
   "cell_type": "code",
   "execution_count": 135,
   "metadata": {},
   "outputs": [
    {
     "data": {
      "text/html": [
       "<div>\n",
       "<style scoped>\n",
       "    .dataframe tbody tr th:only-of-type {\n",
       "        vertical-align: middle;\n",
       "    }\n",
       "\n",
       "    .dataframe tbody tr th {\n",
       "        vertical-align: top;\n",
       "    }\n",
       "\n",
       "    .dataframe thead th {\n",
       "        text-align: right;\n",
       "    }\n",
       "</style>\n",
       "<table border=\"1\" class=\"dataframe\">\n",
       "  <thead>\n",
       "    <tr style=\"text-align: right;\">\n",
       "      <th></th>\n",
       "      <th>user_id</th>\n",
       "      <th>tag_code</th>\n",
       "      <th>is_right</th>\n",
       "      <th>length</th>\n",
       "      <th>ssr</th>\n",
       "    </tr>\n",
       "  </thead>\n",
       "  <tbody>\n",
       "    <tr>\n",
       "      <th>0</th>\n",
       "      <td>29110</td>\n",
       "      <td>c050101</td>\n",
       "      <td>[0, 0, 1, 0, 1]</td>\n",
       "      <td>5</td>\n",
       "      <td>1.325866</td>\n",
       "    </tr>\n",
       "    <tr>\n",
       "      <th>1</th>\n",
       "      <td>29110</td>\n",
       "      <td>c050102</td>\n",
       "      <td>[1, 0, 0, 1, 1]</td>\n",
       "      <td>5</td>\n",
       "      <td>1.656819</td>\n",
       "    </tr>\n",
       "    <tr>\n",
       "      <th>2</th>\n",
       "      <td>29110</td>\n",
       "      <td>c050103</td>\n",
       "      <td>[1, 0, 0, 0, 1]</td>\n",
       "      <td>5</td>\n",
       "      <td>1.776346</td>\n",
       "    </tr>\n",
       "    <tr>\n",
       "      <th>3</th>\n",
       "      <td>29110</td>\n",
       "      <td>c050104</td>\n",
       "      <td>[0, 0, 1, 1, 1]</td>\n",
       "      <td>5</td>\n",
       "      <td>0.616480</td>\n",
       "    </tr>\n",
       "    <tr>\n",
       "      <th>4</th>\n",
       "      <td>29110</td>\n",
       "      <td>c050201</td>\n",
       "      <td>[1, 0, 1, 0, 1]</td>\n",
       "      <td>5</td>\n",
       "      <td>2.133156</td>\n",
       "    </tr>\n",
       "  </tbody>\n",
       "</table>\n",
       "</div>"
      ],
      "text/plain": [
       "   user_id tag_code         is_right  length       ssr\n",
       "0    29110  c050101  [0, 0, 1, 0, 1]       5  1.325866\n",
       "1    29110  c050102  [1, 0, 0, 1, 1]       5  1.656819\n",
       "2    29110  c050103  [1, 0, 0, 0, 1]       5  1.776346\n",
       "3    29110  c050104  [0, 0, 1, 1, 1]       5  0.616480\n",
       "4    29110  c050201  [1, 0, 1, 0, 1]       5  2.133156"
      ]
     },
     "execution_count": 135,
     "metadata": {},
     "output_type": "execute_result"
    }
   ],
   "source": [
    "# 不出现警告\n",
    "pd.options.mode.chained_assignment = None\n",
    "df1.head()"
   ]
  },
  {
   "cell_type": "code",
   "execution_count": 138,
   "metadata": {},
   "outputs": [
    {
     "name": "stdout",
     "output_type": "stream",
     "text": [
      "       user_id tag_code            is_right  length       ssr\n",
      "0        29110  c050101     [0, 0, 1, 0, 1]       5  1.325866\n",
      "1        29110  c050102     [1, 0, 0, 1, 1]       5  1.656819\n",
      "2        29110  c050103     [1, 0, 0, 0, 1]       5  1.776346\n",
      "3        29110  c050104     [0, 0, 1, 1, 1]       5  0.616480\n",
      "4        29110  c050201     [1, 0, 1, 0, 1]       5  2.133156\n",
      "5        29110  c050202     [1, 0, 0, 0, 1]       5  1.776346\n",
      "6        29110  c050203     [0, 0, 1, 1, 1]       5  0.616480\n",
      "7        29110  c050204        [0, 1, 1, 1]       4  0.534551\n",
      "8        29110  c050205  [0, 0, 0, 1, 1, 0]       6  1.486171\n",
      "9        29110  c050206  [0, 0, 0, 0, 1, 0]       6  1.428853\n",
      "10       29110  c050207        [1, 0, 1, 1]       4  1.389032\n",
      "11       29110  c090101        [0, 1, 1, 0]       4  1.274523\n",
      "12       29110  c090102  [1, 0, 0, 0, 0, 1]       6  1.918469\n",
      "13       29110  c090103  [1, 0, 0, 0, 0, 0]       6  1.659606\n",
      "14       29110  c090201        [1, 1, 0, 1]       4  1.615480\n",
      "15       29110  c090202     [0, 1, 0, 1, 0]       5  1.946563\n",
      "16       29110  c090203  [1, 0, 1, 0, 0, 0]       6  2.646399\n",
      "17       29110  c150105  [0, 1, 0, 0, 1, 0]       6  2.368173\n",
      "18       29110  c150204     [1, 0, 1, 1, 1]       5  1.404914\n",
      "19       29110  c150205     [1, 1, 0, 1, 0]       5  2.368172\n",
      "20       29110  c150206     [1, 1, 0, 0, 0]       5  2.411913\n",
      "21       29110  c160101  [0, 0, 0, 1, 1, 0]       6  1.486171\n",
      "22       29110  c160102     [0, 0, 1, 0, 0]       5  1.516849\n",
      "23       29110  c160106     [0, 1, 1, 0, 1]       5  1.302923\n",
      "24       29110  c160201     [1, 0, 1, 0, 1]       5  2.133156\n",
      "25       29110  c160202  [1, 1, 0, 0, 0, 0]       6  2.586405\n",
      "26       29110  c160203  [1, 1, 1, 1, 0, 0]       6  2.417184\n",
      "28       29110  c190301  [0, 0, 1, 1, 1, 1]       6  0.631051\n",
      "29       29110  c190302  [0, 0, 0, 0, 0, 0]       6  0.691596\n",
      "30       29110  c190303  [1, 0, 0, 0, 0, 0]       6  1.659606\n",
      "...        ...      ...                 ...     ...       ...\n",
      "83533    45992  L040205           [1, 1, 1]       3  0.855657\n",
      "83534    45992  L040206           [1, 1, 0]       3  1.551661\n",
      "83535    45992   qm0124           [1, 0, 0]       3  1.234791\n",
      "83536    45992   qm0416           [1, 0, 0]       3  1.234791\n",
      "83537    46397  L020603           [1, 1, 1]       3  0.855657\n",
      "83538    46397  L030203           [1, 1, 0]       3  1.551661\n",
      "83539    46397  L030205           [1, 1, 0]       3  1.551661\n",
      "83540    46397  L040601           [0, 1, 1]       3  0.517647\n",
      "83541    46453  L010302           [0, 0, 0]       3  0.281772\n",
      "83542    46453  L050201           [1, 1, 0]       3  1.551661\n",
      "83543    46477  L030404           [1, 1, 1]       3  0.855657\n",
      "83544    46477  L030405           [1, 1, 1]       3  0.855657\n",
      "83545    46477  L030407           [1, 1, 1]       3  0.855657\n",
      "83546    46477  L030408           [0, 1, 1]       3  0.517647\n",
      "83547    46477  L040705           [1, 1, 1]       3  0.855657\n",
      "83548    46477  L050403           [1, 1, 1]       3  0.855657\n",
      "83549    46477   qm0307           [1, 1, 1]       3  0.855657\n",
      "83550    46477   qm0509           [1, 1, 1]       3  0.855657\n",
      "83551    46477   qm0510           [1, 1, 1]       3  0.855657\n",
      "83552    46791  L020101           [1, 0, 1]       3  1.353038\n",
      "83553    46791  L020301           [1, 0, 1]       3  1.353038\n",
      "83554    46791  L030403           [1, 1, 0]       3  1.551661\n",
      "83555    46791  L030404           [1, 0, 0]       3  1.234791\n",
      "83556    46791  L030407           [1, 1, 1]       3  0.855657\n",
      "83557    46791  L030408           [0, 1, 1]       3  0.517647\n",
      "83558    46791  L040105           [1, 0, 1]       3  1.353038\n",
      "83559    46791   qm0421           [1, 1, 1]       3  0.855657\n",
      "83560    49529  L010401           [0, 0, 0]       3  0.281772\n",
      "83561    49529  L040402           [0, 1, 1]       3  0.517647\n",
      "83562    49529  L050201           [1, 1, 1]       3  0.855657\n",
      "\n",
      "[81598 rows x 5 columns]\n",
      "       user_id tag_code            is_right  length       ssr\n",
      "0        29110  c050101     [0, 0, 1, 0, 1]       5  1.732515\n",
      "1        29110  c050102     [1, 0, 0, 1, 1]       5  1.640790\n",
      "2        29110  c050103     [1, 0, 0, 0, 1]       5  2.283553\n",
      "3        29110  c050104     [0, 0, 1, 1, 1]       5  0.991409\n",
      "4        29110  c050201     [1, 0, 1, 0, 1]       5  1.686533\n",
      "5        29110  c050202     [1, 0, 0, 0, 1]       5  2.283553\n",
      "6        29110  c050203     [0, 0, 1, 1, 1]       5  0.991409\n",
      "7        29110  c050204        [0, 1, 1, 1]       4  0.578199\n",
      "8        29110  c050205  [0, 0, 0, 1, 1, 0]       6  2.160834\n",
      "9        29110  c050206  [0, 0, 0, 0, 1, 0]       6  2.527670\n",
      "10       29110  c050207        [1, 0, 1, 1]       4  0.914484\n",
      "11       29110  c090101        [0, 1, 1, 0]       4  1.336828\n",
      "12       29110  c090102  [1, 0, 0, 0, 0, 1]       6  2.842316\n",
      "13       29110  c090103  [1, 0, 0, 0, 0, 0]       6  3.199682\n",
      "14       29110  c090201        [1, 1, 0, 1]       4  0.931509\n",
      "15       29110  c090202     [0, 1, 0, 1, 0]       5  2.090537\n",
      "16       29110  c090203  [1, 0, 1, 0, 0, 0]       6  3.182759\n",
      "17       29110  c150105  [0, 1, 0, 0, 1, 0]       6  2.810553\n",
      "18       29110  c150204     [1, 0, 1, 1, 1]       5  0.928904\n",
      "19       29110  c150205     [1, 1, 0, 1, 0]       5  1.705749\n",
      "20       29110  c150206     [1, 1, 0, 0, 0]       5  2.451573\n",
      "21       29110  c160101  [0, 0, 0, 1, 1, 0]       6  2.160834\n",
      "22       29110  c160102     [0, 0, 1, 0, 0]       5  2.412793\n",
      "23       29110  c160106     [0, 1, 1, 0, 1]       5  1.351723\n",
      "24       29110  c160201     [1, 0, 1, 0, 1]       5  1.686533\n",
      "25       29110  c160202  [1, 1, 0, 0, 0, 0]       6  3.196589\n",
      "26       29110  c160203  [1, 1, 1, 1, 0, 0]       6  1.721162\n",
      "28       29110  c190301  [0, 0, 1, 1, 1, 1]       6  1.005816\n",
      "29       29110  c190302  [0, 0, 0, 0, 0, 0]       6  2.469218\n",
      "30       29110  c190303  [1, 0, 0, 0, 0, 0]       6  3.199682\n",
      "...        ...      ...                 ...     ...       ...\n",
      "83533    45992  L040205           [1, 1, 1]       3  0.157964\n",
      "83534    45992  L040206           [1, 1, 0]       3  0.916625\n",
      "83535    45992   qm0124           [1, 0, 0]       3  1.582068\n",
      "83536    45992   qm0416           [1, 0, 0]       3  1.582068\n",
      "83537    46397  L020603           [1, 1, 1]       3  0.157964\n",
      "83538    46397  L030203           [1, 1, 0]       3  0.916625\n",
      "83539    46397  L030205           [1, 1, 0]       3  0.916625\n",
      "83540    46397  L040601           [0, 1, 1]       3  0.563634\n",
      "83541    46453  L010302           [0, 0, 0]       3  1.239997\n",
      "83542    46453  L050201           [1, 1, 0]       3  0.916625\n",
      "83543    46477  L030404           [1, 1, 1]       3  0.157964\n",
      "83544    46477  L030405           [1, 1, 1]       3  0.157964\n",
      "83545    46477  L030407           [1, 1, 1]       3  0.157964\n",
      "83546    46477  L030408           [0, 1, 1]       3  0.563634\n",
      "83547    46477  L040705           [1, 1, 1]       3  0.157964\n",
      "83548    46477  L050403           [1, 1, 1]       3  0.157964\n",
      "83549    46477   qm0307           [1, 1, 1]       3  0.157964\n",
      "83550    46477   qm0509           [1, 1, 1]       3  0.157964\n",
      "83551    46477   qm0510           [1, 1, 1]       3  0.157964\n",
      "83552    46791  L020101           [1, 0, 1]       3  0.899638\n",
      "83553    46791  L020301           [1, 0, 1]       3  0.899638\n",
      "83554    46791  L030403           [1, 1, 0]       3  0.916625\n",
      "83555    46791  L030404           [1, 0, 0]       3  1.582068\n",
      "83556    46791  L030407           [1, 1, 1]       3  0.157964\n",
      "83557    46791  L030408           [0, 1, 1]       3  0.563634\n",
      "83558    46791  L040105           [1, 0, 1]       3  0.899638\n",
      "83559    46791   qm0421           [1, 1, 1]       3  0.157964\n",
      "83560    49529  L010401           [0, 0, 0]       3  1.239997\n",
      "83561    49529  L040402           [0, 1, 1]       3  0.563634\n",
      "83562    49529  L050201           [1, 1, 1]       3  0.157964\n",
      "\n",
      "[81598 rows x 5 columns]\n"
     ]
    },
    {
     "data": {
      "text/plain": [
       "0.24560275"
      ]
     },
     "execution_count": 138,
     "metadata": {},
     "output_type": "execute_result"
    }
   ],
   "source": [
    "parameters = (0.1, 0.3, 0.1, 0.12)\n",
    "ssr(df1, parameters)\n",
    "\n",
    "parameters = (0.7, 0.6, 0.1, 0.12)\n",
    "ssr(df1, parameters)"
   ]
  },
  {
   "cell_type": "code",
   "execution_count": 140,
   "metadata": {},
   "outputs": [
    {
     "data": {
      "text/plain": [
       "645"
      ]
     },
     "execution_count": 140,
     "metadata": {},
     "output_type": "execute_result"
    }
   ],
   "source": [
    "len(my_df.tag_code.unique())"
   ]
  },
  {
   "cell_type": "code",
   "execution_count": 142,
   "metadata": {},
   "outputs": [],
   "source": [
    "# 使用暴力的方法找到全局最小值\n",
    "def bruteforece_bkt(df, ssr, l0_range, trans_range, guess_range, slip_range, step_size):\n",
    "        pranges = (slice(l0_range[0], l0_range[1], step_size),\n",
    "                   slice(trans_range[0], trans_range[1], step_size),\n",
    "                   slice(guess_range[0], guess_range[1], step_size),\n",
    "                   slice(slip_range[0], slip_range[1], step_size))\n",
    "        my_partial = partial(ssr, df)\n",
    "        print('start brute force')\n",
    "        fitting = brute(my_partial, pranges, full_output=True, finish=None) # if not finish=None, it may search parameters outside the range for minimum values\n",
    "        print('complete process parameters are', fitting[0], fitting[1])\n",
    "        return fitting[0]"
   ]
  },
  {
   "cell_type": "code",
   "execution_count": 143,
   "metadata": {},
   "outputs": [],
   "source": [
    "l0_range = (0.01, 1)\n",
    "trans_range = (0.01, 1)\n",
    "guess_range = (0.01, 1)\n",
    "slip_range = (0.01, 1)\n",
    "search_ranges = (l0_range, trans_range, guess_range, slip_range)\n",
    "\n",
    "step_size = 0.04\n",
    "\n",
    "pranges = (slice(l0_range[0], l0_range[1], step_size),\n",
    "           slice(trans_range[0], trans_range[1], step_size),\n",
    "           slice(guess_range[0], guess_range[1], step_size),\n",
    "           slice(slip_range[0], slip_range[1]), step_size)"
   ]
  },
  {
   "cell_type": "code",
   "execution_count": 145,
   "metadata": {},
   "outputs": [
    {
     "name": "stdout",
     "output_type": "stream",
     "text": [
      "start brute force\n",
      "       user_id tag_code            is_right  length       ssr\n",
      "0        29110  c050101     [0, 0, 1, 0, 1]       5  2.160122\n",
      "561      29845  c050101        [1, 0, 1, 1]       4  2.266201\n",
      "699      29861  c050101        [1, 1, 0, 1]       4  2.405210\n",
      "1179     30411  c050101     [1, 0, 0, 0, 1]       5  2.177592\n",
      "1277     30525  c050101           [0, 0, 0]       3  0.001184\n",
      "3352     32576  c050101  [1, 1, 1, 1, 1, 0]       6  2.186599\n",
      "3556     32991  c050101     [0, 0, 1, 0, 1]       5  2.160122\n",
      "3604     33031  c050101        [1, 0, 1, 1]       4  2.266201\n",
      "4215     34006  c050101        [1, 0, 1, 0]       4  2.605912\n",
      "4265     34062  c050101           [1, 1, 0]       3  2.167273\n",
      "5217     34719  c050101     [0, 1, 1, 1, 1]       5  1.204161\n",
      "6455     34912  c050101        [0, 1, 1, 0]       4  2.165224\n",
      "6534     34916  c050101     [0, 1, 1, 0, 1]       5  2.400789\n",
      "6739     34920  c050101     [1, 0, 1, 1, 1]       5  2.266418\n",
      "6925     34924  c050101  [0, 1, 1, 1, 1, 1]       6  1.204261\n",
      "7099     34930  c050101     [0, 1, 1, 1, 1]       5  1.204161\n",
      "7188     34932  c050101  [1, 0, 1, 0, 1, 0]       6  4.094289\n",
      "7557     34951  c050101  [0, 1, 1, 1, 1, 0]       6  2.184259\n",
      "8268     35107  c050101     [1, 0, 1, 0, 1]       5  3.528305\n",
      "8515     35126  c050101        [1, 1, 0, 1]       4  2.405210\n",
      "8759     35163  c050101           [1, 1, 1]       3  1.206297\n",
      "9294     35211  c050101           [1, 1, 1]       3  1.206297\n",
      "9326     35214  c050101     [1, 0, 0, 0, 1]       5  2.177592\n",
      "9450     35261  c050101     [1, 1, 0, 1, 0]       5  3.367111\n",
      "9477     35266  c050101  [0, 1, 1, 0, 1, 0]       6  3.362868\n",
      "9532     35267  c050101     [1, 0, 0, 1, 1]       5  2.417220\n",
      "9723     35269  c050101  [0, 1, 1, 1, 1, 1]       6  1.204261\n",
      "9799     35270  c050101  [0, 1, 0, 0, 1, 0]       6  2.439687\n",
      "10054    35282  c050101     [1, 0, 0, 1, 1]       5  2.417220\n",
      "10098    35284  c050101        [1, 1, 0, 1]       4  2.405210\n",
      "...        ...      ...                 ...     ...       ...\n",
      "72819    50972  c050101  [0, 1, 0, 0, 1, 0]       6  2.439687\n",
      "72955    51022  c050101        [1, 0, 1, 0]       4  2.605912\n",
      "73615    51121  c050101     [1, 1, 1, 1, 0]       5  2.186497\n",
      "73659    51122  c050101  [0, 0, 0, 0, 0, 0]       6  0.002372\n",
      "74101    51179  c050101     [1, 0, 0, 0, 0]       5  1.217394\n",
      "74232    51203  c050101     [1, 0, 0, 1, 1]       5  2.417220\n",
      "74436    51247  c050101     [0, 0, 1, 1, 1]       5  1.204428\n",
      "74781    51297  c050101           [1, 1, 1]       3  1.206297\n",
      "75289    51951  c050101        [1, 1, 0, 1]       4  2.405210\n",
      "75461    51972  c050101     [0, 0, 1, 1, 1]       5  1.204428\n",
      "76113    52073  c050101           [0, 0, 1]       3  0.961384\n",
      "76301    52132  c050101        [0, 1, 1, 1]       4  1.204059\n",
      "76369    52154  c050101        [0, 1, 1, 0]       4  2.165224\n",
      "76634    52254  c050101  [0, 0, 0, 0, 0, 0]       6  0.002372\n",
      "77423    53406  c050101           [1, 1, 1]       3  1.206297\n",
      "77648    53594  c050101           [0, 0, 0]       3  0.001184\n",
      "78603    55003  c050101        [0, 0, 1, 0]       4  1.218826\n",
      "78991    55155  c050101     [1, 0, 1, 0, 0]       5  2.607480\n",
      "79451    55319  c050101        [1, 1, 0, 0]       4  2.429635\n",
      "80010    56193  c050101           [1, 1, 1]       3  1.206297\n",
      "80363    56578  c050101        [1, 0, 1, 1]       4  2.266201\n",
      "80428    56599  c050101  [1, 0, 1, 0, 0, 1]       6  3.567674\n",
      "80795    56884  c050101     [0, 0, 1, 0, 0]       5  1.219714\n",
      "80815    56886  c050101     [1, 0, 0, 1, 1]       5  2.417220\n",
      "80830    56887  c050101        [1, 1, 0, 1]       4  2.405210\n",
      "80848    56888  c050101     [0, 1, 0, 1, 1]       5  2.267977\n",
      "80864    56889  c050101  [1, 1, 0, 0, 0, 0]       6  2.430934\n",
      "81442    57662  c050101     [0, 1, 0, 0, 0]       5  1.219694\n",
      "81572    57837  c050101        [1, 0, 1, 1]       4  2.266201\n",
      "81612    57860  c050101     [1, 0, 0, 0, 1]       5  2.177592\n",
      "\n",
      "[197 rows x 5 columns]\n",
      "       user_id tag_code            is_right  length       ssr\n",
      "0        29110  c050101     [0, 0, 1, 0, 1]       5  2.160122\n",
      "561      29845  c050101        [1, 0, 1, 1]       4  2.266201\n",
      "699      29861  c050101        [1, 1, 0, 1]       4  2.405210\n",
      "1179     30411  c050101     [1, 0, 0, 0, 1]       5  2.177592\n",
      "1277     30525  c050101           [0, 0, 0]       3  0.001184\n",
      "3352     32576  c050101  [1, 1, 1, 1, 1, 0]       6  2.186599\n",
      "3556     32991  c050101     [0, 0, 1, 0, 1]       5  2.160122\n",
      "3604     33031  c050101        [1, 0, 1, 1]       4  2.266201\n",
      "4215     34006  c050101        [1, 0, 1, 0]       4  2.605912\n",
      "4265     34062  c050101           [1, 1, 0]       3  2.167273\n",
      "5217     34719  c050101     [0, 1, 1, 1, 1]       5  1.204161\n",
      "6455     34912  c050101        [0, 1, 1, 0]       4  2.165224\n",
      "6534     34916  c050101     [0, 1, 1, 0, 1]       5  2.400789\n",
      "6739     34920  c050101     [1, 0, 1, 1, 1]       5  2.266418\n",
      "6925     34924  c050101  [0, 1, 1, 1, 1, 1]       6  1.204261\n",
      "7099     34930  c050101     [0, 1, 1, 1, 1]       5  1.204161\n",
      "7188     34932  c050101  [1, 0, 1, 0, 1, 0]       6  4.094289\n",
      "7557     34951  c050101  [0, 1, 1, 1, 1, 0]       6  2.184259\n",
      "8268     35107  c050101     [1, 0, 1, 0, 1]       5  3.528305\n",
      "8515     35126  c050101        [1, 1, 0, 1]       4  2.405210\n",
      "8759     35163  c050101           [1, 1, 1]       3  1.206297\n",
      "9294     35211  c050101           [1, 1, 1]       3  1.206297\n",
      "9326     35214  c050101     [1, 0, 0, 0, 1]       5  2.177592\n",
      "9450     35261  c050101     [1, 1, 0, 1, 0]       5  3.367111\n",
      "9477     35266  c050101  [0, 1, 1, 0, 1, 0]       6  3.362868\n",
      "9532     35267  c050101     [1, 0, 0, 1, 1]       5  2.417220\n",
      "9723     35269  c050101  [0, 1, 1, 1, 1, 1]       6  1.204261\n",
      "9799     35270  c050101  [0, 1, 0, 0, 1, 0]       6  2.439687\n",
      "10054    35282  c050101     [1, 0, 0, 1, 1]       5  2.417220\n",
      "10098    35284  c050101        [1, 1, 0, 1]       4  2.405210\n",
      "...        ...      ...                 ...     ...       ...\n",
      "72819    50972  c050101  [0, 1, 0, 0, 1, 0]       6  2.439687\n",
      "72955    51022  c050101        [1, 0, 1, 0]       4  2.605912\n",
      "73615    51121  c050101     [1, 1, 1, 1, 0]       5  2.186497\n",
      "73659    51122  c050101  [0, 0, 0, 0, 0, 0]       6  0.002372\n",
      "74101    51179  c050101     [1, 0, 0, 0, 0]       5  1.217394\n",
      "74232    51203  c050101     [1, 0, 0, 1, 1]       5  2.417220\n",
      "74436    51247  c050101     [0, 0, 1, 1, 1]       5  1.204428\n",
      "74781    51297  c050101           [1, 1, 1]       3  1.206297\n",
      "75289    51951  c050101        [1, 1, 0, 1]       4  2.405210\n",
      "75461    51972  c050101     [0, 0, 1, 1, 1]       5  1.204428\n",
      "76113    52073  c050101           [0, 0, 1]       3  0.961384\n",
      "76301    52132  c050101        [0, 1, 1, 1]       4  1.204059\n",
      "76369    52154  c050101        [0, 1, 1, 0]       4  2.165224\n",
      "76634    52254  c050101  [0, 0, 0, 0, 0, 0]       6  0.002372\n",
      "77423    53406  c050101           [1, 1, 1]       3  1.206297\n",
      "77648    53594  c050101           [0, 0, 0]       3  0.001184\n",
      "78603    55003  c050101        [0, 0, 1, 0]       4  1.218826\n",
      "78991    55155  c050101     [1, 0, 1, 0, 0]       5  2.607480\n",
      "79451    55319  c050101        [1, 1, 0, 0]       4  2.429635\n",
      "80010    56193  c050101           [1, 1, 1]       3  1.206297\n",
      "80363    56578  c050101        [1, 0, 1, 1]       4  2.266201\n",
      "80428    56599  c050101  [1, 0, 1, 0, 0, 1]       6  3.567674\n",
      "80795    56884  c050101     [0, 0, 1, 0, 0]       5  1.219714\n",
      "80815    56886  c050101     [1, 0, 0, 1, 1]       5  2.417220\n",
      "80830    56887  c050101        [1, 1, 0, 1]       4  2.405210\n",
      "80848    56888  c050101     [0, 1, 0, 1, 1]       5  2.267977\n",
      "80864    56889  c050101  [1, 1, 0, 0, 0, 0]       6  2.430934\n",
      "81442    57662  c050101     [0, 1, 0, 0, 0]       5  1.219694\n",
      "81572    57837  c050101        [1, 0, 1, 1]       4  2.266201\n",
      "81612    57860  c050101     [1, 0, 0, 0, 1]       5  2.177592\n",
      "\n",
      "[197 rows x 5 columns]\n",
      "       user_id tag_code            is_right  length       ssr\n",
      "0        29110  c050101     [0, 0, 1, 0, 1]       5  2.072127\n",
      "561      29845  c050101        [1, 0, 1, 1]       4  2.100414\n",
      "699      29861  c050101        [1, 1, 0, 1]       4  2.165799\n",
      "1179     30411  c050101     [1, 0, 0, 0, 1]       5  2.152162\n",
      "1277     30525  c050101           [0, 0, 0]       3  0.001167\n",
      "3352     32576  c050101  [1, 1, 1, 1, 1, 0]       6  2.148188\n",
      "3556     32991  c050101     [0, 0, 1, 0, 1]       5  2.072127\n",
      "3604     33031  c050101        [1, 0, 1, 1]       4  2.100414\n",
      "4215     34006  c050101        [1, 0, 1, 0]       4  2.722878\n",
      "4265     34062  c050101           [1, 1, 0]       3  2.120886\n",
      "5217     34719  c050101     [0, 1, 1, 1, 1]       5  1.230560\n",
      "6455     34912  c050101        [0, 1, 1, 0]       4  2.109201\n",
      "6534     34916  c050101     [0, 1, 1, 0, 1]       5  2.151408\n",
      "6739     34920  c050101     [1, 0, 1, 1, 1]       5  2.103086\n",
      "6925     34924  c050101  [0, 1, 1, 1, 1, 1]       6  1.233060\n",
      "7099     34930  c050101     [0, 1, 1, 1, 1]       5  1.230560\n",
      "7188     34932  c050101  [1, 0, 1, 0, 1, 0]       6  4.160956\n",
      "7557     34951  c050101  [0, 1, 1, 1, 1, 0]       6  2.133058\n",
      "8268     35107  c050101     [1, 0, 1, 0, 1]       5  3.316542\n",
      "8515     35126  c050101        [1, 1, 0, 1]       4  2.165799\n",
      "8759     35163  c050101           [1, 1, 1]       3  1.240677\n",
      "9294     35211  c050101           [1, 1, 1]       3  1.240677\n",
      "9326     35214  c050101     [1, 0, 0, 0, 1]       5  2.152162\n",
      "9450     35261  c050101     [1, 1, 0, 1, 0]       5  3.064438\n",
      "9477     35266  c050101  [0, 1, 1, 0, 1, 0]       6  3.050232\n",
      "9532     35267  c050101     [1, 0, 0, 1, 1]       5  2.362175\n",
      "9723     35269  c050101  [0, 1, 1, 1, 1, 1]       6  1.233060\n",
      "9799     35270  c050101  [0, 1, 0, 0, 1, 0]       6  2.448252\n",
      "10054    35282  c050101     [1, 0, 0, 1, 1]       5  2.362175\n",
      "10098    35284  c050101        [1, 1, 0, 1]       4  2.165799\n",
      "...        ...      ...                 ...     ...       ...\n",
      "72819    50972  c050101  [0, 1, 0, 0, 1, 0]       6  2.448252\n",
      "72955    51022  c050101        [1, 0, 1, 0]       4  2.722878\n",
      "73615    51121  c050101     [1, 1, 1, 1, 0]       5  2.145686\n",
      "73659    51122  c050101  [0, 0, 0, 0, 0, 0]       6  0.002355\n",
      "74101    51179  c050101     [1, 0, 0, 0, 0]       5  1.192199\n",
      "74232    51203  c050101     [1, 0, 0, 1, 1]       5  2.362175\n",
      "74436    51247  c050101     [0, 0, 1, 1, 1]       5  1.227805\n",
      "74781    51297  c050101           [1, 1, 1]       3  1.240677\n",
      "75289    51951  c050101        [1, 1, 0, 1]       4  2.165799\n",
      "75461    51972  c050101     [0, 0, 1, 1, 1]       5  1.227805\n",
      "76113    52073  c050101           [0, 0, 1]       3  0.961370\n",
      "76301    52132  c050101        [0, 1, 1, 1]       4  1.228050\n",
      "76369    52154  c050101        [0, 1, 1, 0]       4  2.109201\n",
      "76634    52254  c050101  [0, 0, 0, 0, 0, 0]       6  0.002355\n",
      "77423    53406  c050101           [1, 1, 1]       3  1.240677\n",
      "77648    53594  c050101           [0, 0, 0]       3  0.001167\n",
      "78603    55003  c050101        [0, 0, 1, 0]       4  1.198788\n",
      "78991    55155  c050101     [1, 0, 1, 0, 0]       5  2.775550\n",
      "79451    55319  c050101        [1, 1, 0, 0]       4  2.741947\n",
      "80010    56193  c050101           [1, 1, 1]       3  1.240677\n",
      "80363    56578  c050101        [1, 0, 1, 1]       4  2.100414\n",
      "80428    56599  c050101  [1, 0, 1, 0, 0, 1]       6  3.709669\n",
      "80795    56884  c050101     [0, 0, 1, 0, 0]       5  1.203075\n",
      "80815    56886  c050101     [1, 0, 0, 1, 1]       5  2.362175\n",
      "80830    56887  c050101        [1, 1, 0, 1]       4  2.165799\n",
      "80848    56888  c050101     [0, 1, 0, 1, 1]       5  2.105268\n",
      "80864    56889  c050101  [1, 1, 0, 0, 0, 0]       6  2.783379\n",
      "81442    57662  c050101     [0, 1, 0, 0, 0]       5  1.202652\n",
      "81572    57837  c050101        [1, 0, 1, 1]       4  2.100414\n",
      "81612    57860  c050101     [1, 0, 0, 0, 1]       5  2.152162\n",
      "\n"
     ]
    },
    {
     "name": "stdout",
     "output_type": "stream",
     "text": [
      "[197 rows x 5 columns]\n",
      "       user_id tag_code            is_right  length       ssr\n",
      "0        29110  c050101     [0, 0, 1, 0, 1]       5  1.997768\n",
      "561      29845  c050101        [1, 0, 1, 1]       4  2.023740\n",
      "699      29861  c050101        [1, 1, 0, 1]       4  2.115387\n",
      "1179     30411  c050101     [1, 0, 0, 0, 1]       5  2.129049\n",
      "1277     30525  c050101           [0, 0, 0]       3  0.001149\n",
      "3352     32576  c050101  [1, 1, 1, 1, 1, 0]       6  2.123946\n",
      "3556     32991  c050101     [0, 0, 1, 0, 1]       5  1.997768\n",
      "3604     33031  c050101        [1, 0, 1, 1]       4  2.023740\n",
      "4215     34006  c050101        [1, 0, 1, 0]       4  2.661199\n",
      "4265     34062  c050101           [1, 1, 0]       3  2.079003\n",
      "5217     34719  c050101     [0, 1, 1, 1, 1]       5  1.265034\n",
      "6455     34912  c050101        [0, 1, 1, 0]       4  2.057992\n",
      "6534     34916  c050101     [0, 1, 1, 0, 1]       5  2.091567\n",
      "6739     34920  c050101     [1, 0, 1, 1, 1]       5  2.032039\n",
      "6925     34924  c050101  [0, 1, 1, 1, 1, 1]       6  1.273134\n",
      "7099     34930  c050101     [0, 1, 1, 1, 1]       5  1.265034\n",
      "7188     34932  c050101  [1, 0, 1, 0, 1, 0]       6  3.808543\n",
      "7557     34951  c050101  [0, 1, 1, 1, 1, 0]       6  2.093132\n",
      "8268     35107  c050101     [1, 0, 1, 0, 1]       5  3.001653\n",
      "8515     35126  c050101        [1, 1, 0, 1]       4  2.115387\n",
      "8759     35163  c050101           [1, 1, 1]       3  1.279625\n",
      "9294     35211  c050101           [1, 1, 1]       3  1.279625\n",
      "9326     35214  c050101     [1, 0, 0, 0, 1]       5  2.129049\n",
      "9450     35261  c050101     [1, 1, 0, 1, 0]       5  2.941245\n",
      "9477     35266  c050101  [0, 1, 1, 0, 1, 0]       6  2.917612\n",
      "9532     35267  c050101     [1, 0, 0, 1, 1]       5  2.290214\n",
      "9723     35269  c050101  [0, 1, 1, 1, 1, 1]       6  1.273134\n",
      "9799     35270  c050101  [0, 1, 0, 0, 1, 0]       6  2.481420\n",
      "10054    35282  c050101     [1, 0, 0, 1, 1]       5  2.290214\n",
      "10098    35284  c050101        [1, 1, 0, 1]       4  2.115387\n",
      "...        ...      ...                 ...     ...       ...\n",
      "72819    50972  c050101  [0, 1, 0, 0, 1, 0]       6  2.481420\n",
      "72955    51022  c050101        [1, 0, 1, 0]       4  2.661199\n",
      "73615    51121  c050101     [1, 1, 1, 1, 0]       5  2.115843\n",
      "73659    51122  c050101  [0, 0, 0, 0, 0, 0]       6  0.002337\n",
      "74101    51179  c050101     [1, 0, 0, 0, 0]       5  1.170113\n",
      "74232    51203  c050101     [1, 0, 0, 1, 1]       5  2.290214\n",
      "74436    51247  c050101     [0, 0, 1, 1, 1]       5  1.255317\n",
      "74781    51297  c050101           [1, 1, 1]       3  1.279625\n",
      "75289    51951  c050101        [1, 1, 0, 1]       4  2.115387\n",
      "75461    51972  c050101     [0, 0, 1, 1, 1]       5  1.255317\n",
      "76113    52073  c050101           [0, 0, 1]       3  0.961365\n",
      "76301    52132  c050101        [0, 1, 1, 1]       4  1.256915\n",
      "76369    52154  c050101        [0, 1, 1, 0]       4  2.057992\n",
      "76634    52254  c050101  [0, 0, 0, 0, 0, 0]       6  0.002337\n",
      "77423    53406  c050101           [1, 1, 1]       3  1.279625\n",
      "77648    53594  c050101           [0, 0, 0]       3  0.001149\n",
      "78603    55003  c050101        [0, 0, 1, 0]       4  1.179467\n",
      "78991    55155  c050101     [1, 0, 1, 0, 0]       5  2.834685\n",
      "79451    55319  c050101        [1, 1, 0, 0]       4  2.733893\n",
      "80010    56193  c050101           [1, 1, 1]       3  1.279625\n",
      "80363    56578  c050101        [1, 0, 1, 1]       4  2.023740\n",
      "80428    56599  c050101  [1, 0, 1, 0, 0, 1]       6  3.679105\n",
      "80795    56884  c050101     [0, 0, 1, 0, 0]       5  1.188568\n",
      "80815    56886  c050101     [1, 0, 0, 1, 1]       5  2.290214\n",
      "80830    56887  c050101        [1, 1, 0, 1]       4  2.115387\n",
      "80848    56888  c050101     [0, 1, 0, 1, 1]       5  2.027532\n",
      "80864    56889  c050101  [1, 1, 0, 0, 0, 0]       6  2.893458\n",
      "81442    57662  c050101     [0, 1, 0, 0, 0]       5  1.187372\n",
      "81572    57837  c050101        [1, 0, 1, 1]       4  2.023740\n",
      "81612    57860  c050101     [1, 0, 0, 0, 1]       5  2.129049\n",
      "\n",
      "[197 rows x 5 columns]\n",
      "       user_id tag_code            is_right  length       ssr\n",
      "0        29110  c050101     [0, 0, 1, 0, 1]       5  1.934985\n",
      "561      29845  c050101        [1, 0, 1, 1]       4  1.971701\n",
      "699      29861  c050101        [1, 1, 0, 1]       4  2.083515\n",
      "1179     30411  c050101     [1, 0, 0, 0, 1]       5  2.106921\n",
      "1277     30525  c050101           [0, 0, 0]       3  0.001130\n",
      "3352     32576  c050101  [1, 1, 1, 1, 1, 0]       6  2.113774\n",
      "3556     32991  c050101     [0, 0, 1, 0, 1]       5  1.934985\n",
      "3604     33031  c050101        [1, 0, 1, 1]       4  1.971701\n",
      "4215     34006  c050101        [1, 0, 1, 0]       4  2.572568\n",
      "4265     34062  c050101           [1, 1, 0]       3  2.041515\n",
      "5217     34719  c050101     [0, 1, 1, 1, 1]       5  1.307582\n",
      "6455     34912  c050101        [0, 1, 1, 0]       4  2.011596\n",
      "6534     34916  c050101     [0, 1, 1, 0, 1]       5  2.050379\n",
      "6739     34920  c050101     [1, 0, 1, 1, 1]       5  1.988825\n",
      "6925     34924  c050101  [0, 1, 1, 1, 1, 1]       6  1.324483\n",
      "7099     34930  c050101     [0, 1, 1, 1, 1]       5  1.307582\n",
      "7188     34932  c050101  [1, 0, 1, 0, 1, 0]       6  3.540825\n",
      "7557     34951  c050101  [0, 1, 1, 1, 1, 0]       6  2.064480\n",
      "8268     35107  c050101     [1, 0, 1, 0, 1]       5  2.795023\n",
      "8515     35126  c050101        [1, 1, 0, 1]       4  2.083515\n",
      "8759     35163  c050101           [1, 1, 1]       3  1.323041\n",
      "9294     35211  c050101           [1, 1, 1]       3  1.323041\n",
      "9326     35214  c050101     [1, 0, 0, 0, 1]       5  2.106921\n",
      "9450     35261  c050101     [1, 1, 0, 1, 0]       5  2.838793\n",
      "9477     35266  c050101  [0, 1, 1, 0, 1, 0]       6  2.805844\n",
      "9532     35267  c050101     [1, 0, 0, 1, 1]       5  2.230562\n",
      "9723     35269  c050101  [0, 1, 1, 1, 1, 1]       6  1.324483\n",
      "9799     35270  c050101  [0, 1, 0, 0, 1, 0]       6  2.501213\n",
      "10054    35282  c050101     [1, 0, 0, 1, 1]       5  2.230562\n",
      "10098    35284  c050101        [1, 1, 0, 1]       4  2.083515\n",
      "...        ...      ...                 ...     ...       ...\n",
      "72819    50972  c050101  [0, 1, 0, 0, 1, 0]       6  2.501213\n",
      "72955    51022  c050101        [1, 0, 1, 0]       4  2.572568\n",
      "73615    51121  c050101     [1, 1, 1, 1, 0]       5  2.096871\n",
      "73659    51122  c050101  [0, 0, 0, 0, 0, 0]       6  0.002318\n",
      "74101    51179  c050101     [1, 0, 0, 0, 0]       5  1.150189\n",
      "74232    51203  c050101     [1, 0, 0, 1, 1]       5  2.230562\n",
      "74436    51247  c050101     [0, 0, 1, 1, 1]       5  1.287069\n",
      "74781    51297  c050101           [1, 1, 1]       3  1.323041\n",
      "75289    51951  c050101        [1, 1, 0, 1]       4  2.083515\n",
      "75461    51972  c050101     [0, 0, 1, 1, 1]       5  1.287069\n",
      "76113    52073  c050101           [0, 0, 1]       3  0.961376\n",
      "76301    52132  c050101        [0, 1, 1, 1]       4  1.290654\n",
      "76369    52154  c050101        [0, 1, 1, 0]       4  2.011596\n",
      "76634    52254  c050101  [0, 0, 0, 0, 0, 0]       6  0.002318\n",
      "77423    53406  c050101           [1, 1, 1]       3  1.323041\n",
      "77648    53594  c050101           [0, 0, 0]       3  0.001130\n",
      "78603    55003  c050101        [0, 0, 1, 0]       4  1.160817\n",
      "78991    55155  c050101     [1, 0, 1, 0, 0]       5  2.851721\n",
      "79451    55319  c050101        [1, 1, 0, 0]       4  2.673637\n",
      "80010    56193  c050101           [1, 1, 1]       3  1.323041\n",
      "80363    56578  c050101        [1, 0, 1, 1]       4  1.971701\n",
      "80428    56599  c050101  [1, 0, 1, 0, 0, 1]       6  3.557249\n",
      "80795    56884  c050101     [0, 0, 1, 0, 0]       5  1.175249\n",
      "80815    56886  c050101     [1, 0, 0, 1, 1]       5  2.230562\n",
      "80830    56887  c050101        [1, 1, 0, 1]       4  2.083515\n",
      "80848    56888  c050101     [0, 1, 0, 1, 1]       5  1.971459\n",
      "80864    56889  c050101  [1, 1, 0, 0, 0, 0]       6  2.958119\n",
      "81442    57662  c050101     [0, 1, 0, 0, 0]       5  1.173098\n",
      "81572    57837  c050101        [1, 0, 1, 1]       4  1.971701\n",
      "81612    57860  c050101     [1, 0, 0, 0, 1]       5  2.106921\n",
      "\n",
      "[197 rows x 5 columns]\n",
      "       user_id tag_code            is_right  length       ssr\n",
      "0        29110  c050101     [0, 0, 1, 0, 1]       5  1.882191\n",
      "561      29845  c050101        [1, 0, 1, 1]       4  1.936744\n",
      "699      29861  c050101        [1, 1, 0, 1]       4  2.061605\n",
      "1179     30411  c050101     [1, 0, 0, 0, 1]       5  2.085067\n",
      "1277     30525  c050101           [0, 0, 0]       3  0.001110\n",
      "3352     32576  c050101  [1, 1, 1, 1, 1, 0]       6  2.117566\n",
      "3556     32991  c050101     [0, 0, 1, 0, 1]       5  1.882191\n",
      "3604     33031  c050101        [1, 0, 1, 1]       4  1.936744\n",
      "4215     34006  c050101        [1, 0, 1, 0]       4  2.482209\n",
      "4265     34062  c050101           [1, 1, 0]       3  2.008309\n",
      "5217     34719  c050101     [0, 1, 1, 1, 1]       5  1.358199\n",
      "6455     34912  c050101        [0, 1, 1, 0]       4  1.970004\n",
      "6534     34916  c050101     [0, 1, 1, 0, 1]       5  2.019524\n",
      "6739     34920  c050101     [1, 0, 1, 1, 1]       5  1.965894\n",
      "6925     34924  c050101  [0, 1, 1, 1, 1, 1]       6  1.387099\n",
      "7099     34930  c050101     [0, 1, 1, 1, 1]       5  1.358199\n",
      "7188     34932  c050101  [1, 0, 1, 0, 1, 0]       6  3.338028\n",
      "7557     34951  c050101  [0, 1, 1, 1, 1, 0]       6  2.047097\n",
      "8268     35107  c050101     [1, 0, 1, 0, 1]       5  2.656072\n",
      "8515     35126  c050101        [1, 1, 0, 1]       4  2.061605\n",
      "8759     35163  c050101           [1, 1, 1]       3  1.370819\n",
      "9294     35211  c050101           [1, 1, 1]       3  1.370819\n",
      "9326     35214  c050101     [1, 0, 0, 0, 1]       5  2.085067\n",
      "9450     35261  c050101     [1, 1, 0, 1, 0]       5  2.749205\n",
      "9477     35266  c050101  [0, 1, 1, 0, 1, 0]       6  2.707314\n",
      "9532     35267  c050101     [1, 0, 0, 1, 1]       5  2.186449\n",
      "9723     35269  c050101  [0, 1, 1, 1, 1, 1]       6  1.387099\n",
      "9799     35270  c050101  [0, 1, 0, 0, 1, 0]       6  2.494644\n",
      "10054    35282  c050101     [1, 0, 0, 1, 1]       5  2.186449\n",
      "10098    35284  c050101        [1, 1, 0, 1]       4  2.061605\n",
      "...        ...      ...                 ...     ...       ...\n",
      "72819    50972  c050101  [0, 1, 0, 0, 1, 0]       6  2.494644\n",
      "72955    51022  c050101        [1, 0, 1, 0]       4  2.482209\n",
      "73615    51121  c050101     [1, 1, 1, 1, 0]       5  2.088663\n",
      "73659    51122  c050101  [0, 0, 0, 0, 0, 0]       6  0.002297\n",
      "74101    51179  c050101     [1, 0, 0, 0, 0]       5  1.131892\n",
      "74232    51203  c050101     [1, 0, 0, 1, 1]       5  2.186449\n",
      "74436    51247  c050101     [0, 0, 1, 1, 1]       5  1.323157\n",
      "74781    51297  c050101           [1, 1, 1]       3  1.370819\n",
      "75289    51951  c050101        [1, 1, 0, 1]       4  2.061605\n",
      "75461    51972  c050101     [0, 0, 1, 1, 1]       5  1.323157\n",
      "76113    52073  c050101           [0, 0, 1]       3  0.961412\n",
      "76301    52132  c050101        [0, 1, 1, 1]       4  1.329259\n",
      "76369    52154  c050101        [0, 1, 1, 0]       4  1.970004\n",
      "76634    52254  c050101  [0, 0, 0, 0, 0, 0]       6  0.002297\n",
      "77423    53406  c050101           [1, 1, 1]       3  1.370819\n",
      "77648    53594  c050101           [0, 0, 0]       3  0.001110\n",
      "78603    55003  c050101        [0, 0, 1, 0]       4  1.142823\n",
      "78991    55155  c050101     [1, 0, 1, 0, 0]       5  2.822134\n",
      "79451    55319  c050101        [1, 1, 0, 0]       4  2.599885\n",
      "80010    56193  c050101           [1, 1, 1]       3  1.370819\n",
      "80363    56578  c050101        [1, 0, 1, 1]       4  1.936744\n",
      "80428    56599  c050101  [1, 0, 1, 0, 0, 1]       6  3.385398\n",
      "80795    56884  c050101     [0, 0, 1, 0, 0]       5  1.162460\n",
      "80815    56886  c050101     [1, 0, 0, 1, 1]       5  2.186449\n",
      "80830    56887  c050101        [1, 1, 0, 1]       4  2.061605\n",
      "80848    56888  c050101     [0, 1, 0, 1, 1]       5  1.930694\n",
      "80864    56889  c050101  [1, 1, 0, 0, 0, 0]       6  2.983689\n",
      "81442    57662  c050101     [0, 1, 0, 0, 0]       5  1.159345\n",
      "81572    57837  c050101        [1, 0, 1, 1]       4  1.936744\n",
      "81612    57860  c050101     [1, 0, 0, 0, 1]       5  2.085067\n",
      "\n"
     ]
    },
    {
     "name": "stdout",
     "output_type": "stream",
     "text": [
      "[197 rows x 5 columns]\n",
      "       user_id tag_code            is_right  length       ssr\n",
      "0        29110  c050101     [0, 0, 1, 0, 1]       5  1.838153\n",
      "561      29845  c050101        [1, 0, 1, 1]       4  1.915857\n",
      "699      29861  c050101        [1, 1, 0, 1]       4  2.047964\n",
      "1179     30411  c050101     [1, 0, 0, 0, 1]       5  2.063201\n",
      "1277     30525  c050101           [0, 0, 0]       3  0.001087\n",
      "3352     32576  c050101  [1, 1, 1, 1, 1, 0]       6  2.135210\n",
      "3556     32991  c050101     [0, 0, 1, 0, 1]       5  1.838153\n",
      "3604     33031  c050101        [1, 0, 1, 1]       4  1.915857\n",
      "4215     34006  c050101        [1, 0, 1, 0]       4  2.396938\n",
      "4265     34062  c050101           [1, 1, 0]       3  1.979259\n",
      "5217     34719  c050101     [0, 1, 1, 1, 1]       5  1.416869\n",
      "6455     34912  c050101        [0, 1, 1, 0]       4  1.933197\n",
      "6534     34916  c050101     [0, 1, 1, 0, 1]       5  1.997474\n",
      "6739     34920  c050101     [1, 0, 1, 1, 1]       5  1.960236\n",
      "6925     34924  c050101  [0, 1, 1, 1, 1, 1]       6  1.460970\n",
      "7099     34930  c050101     [0, 1, 1, 1, 1]       5  1.416869\n",
      "7188     34932  c050101  [1, 0, 1, 0, 1, 0]       6  3.173678\n",
      "7557     34951  c050101  [0, 1, 1, 1, 1, 0]       6  2.040967\n",
      "8268     35107  c050101     [1, 0, 1, 0, 1]       5  2.554414\n",
      "8515     35126  c050101        [1, 1, 0, 1]       4  2.047964\n",
      "8759     35163  c050101           [1, 1, 1]       3  1.422847\n",
      "9294     35211  c050101           [1, 1, 1]       3  1.422847\n",
      "9326     35214  c050101     [1, 0, 0, 0, 1]       5  2.063201\n",
      "9450     35261  c050101     [1, 1, 0, 1, 0]       5  2.670960\n",
      "9477     35266  c050101  [0, 1, 1, 0, 1, 0]       6  2.620662\n",
      "9532     35267  c050101     [1, 0, 0, 1, 1]       5  2.154790\n",
      "9723     35269  c050101  [0, 1, 1, 1, 1, 1]       6  1.460970\n",
      "9799     35270  c050101  [0, 1, 0, 0, 1, 0]       6  2.464566\n",
      "10054    35282  c050101     [1, 0, 0, 1, 1]       5  2.154790\n",
      "10098    35284  c050101        [1, 1, 0, 1]       4  2.047964\n",
      "...        ...      ...                 ...     ...       ...\n",
      "72819    50972  c050101  [0, 1, 0, 0, 1, 0]       6  2.464566\n",
      "72955    51022  c050101        [1, 0, 1, 0]       4  2.396938\n",
      "73615    51121  c050101     [1, 1, 1, 1, 0]       5  2.091107\n",
      "73659    51122  c050101  [0, 0, 0, 0, 0, 0]       6  0.002274\n",
      "74101    51179  c050101     [1, 0, 0, 0, 0]       5  1.114923\n",
      "74232    51203  c050101     [1, 0, 0, 1, 1]       5  2.154790\n",
      "74436    51247  c050101     [0, 0, 1, 1, 1]       5  1.363674\n",
      "74781    51297  c050101           [1, 1, 1]       3  1.422847\n",
      "75289    51951  c050101        [1, 1, 0, 1]       4  2.047964\n",
      "75461    51972  c050101     [0, 0, 1, 1, 1]       5  1.363674\n",
      "76113    52073  c050101           [0, 0, 1]       3  0.961480\n",
      "76301    52132  c050101        [0, 1, 1, 1]       4  1.372717\n",
      "76369    52154  c050101        [0, 1, 1, 0]       4  1.933197\n",
      "76634    52254  c050101  [0, 0, 0, 0, 0, 0]       6  0.002274\n",
      "77423    53406  c050101           [1, 1, 1]       3  1.422847\n",
      "77648    53594  c050101           [0, 0, 0]       3  0.001087\n",
      "78603    55003  c050101        [0, 0, 1, 0]       4  1.125486\n",
      "78991    55155  c050101     [1, 0, 1, 0, 0]       5  2.760749\n",
      "79451    55319  c050101        [1, 1, 0, 0]       4  2.523731\n",
      "80010    56193  c050101           [1, 1, 1]       3  1.422847\n",
      "80363    56578  c050101        [1, 0, 1, 1]       4  1.915857\n",
      "80428    56599  c050101  [1, 0, 1, 0, 0, 1]       6  3.211581\n",
      "80795    56884  c050101     [0, 0, 1, 0, 0]       5  1.149761\n",
      "80815    56886  c050101     [1, 0, 0, 1, 1]       5  2.154790\n",
      "80830    56887  c050101        [1, 1, 0, 1]       4  2.047964\n",
      "80848    56888  c050101     [0, 1, 0, 1, 1]       5  1.903012\n",
      "80864    56889  c050101  [1, 1, 0, 0, 0, 0]       6  2.979197\n",
      "81442    57662  c050101     [0, 1, 0, 0, 0]       5  1.145817\n",
      "81572    57837  c050101        [1, 0, 1, 1]       4  1.915857\n",
      "81612    57860  c050101     [1, 0, 0, 0, 1]       5  2.063201\n",
      "\n",
      "[197 rows x 5 columns]\n",
      "       user_id tag_code            is_right  length       ssr\n",
      "0        29110  c050101     [0, 0, 1, 0, 1]       5  1.801907\n",
      "561      29845  c050101        [1, 0, 1, 1]       4  1.907202\n",
      "699      29861  c050101        [1, 1, 0, 1]       4  2.042005\n",
      "1179     30411  c050101     [1, 0, 0, 0, 1]       5  2.041329\n",
      "1277     30525  c050101           [0, 0, 0]       3  0.001063\n",
      "3352     32576  c050101  [1, 1, 1, 1, 1, 0]       6  2.166588\n",
      "3556     32991  c050101     [0, 0, 1, 0, 1]       5  1.801907\n",
      "3604     33031  c050101        [1, 0, 1, 1]       4  1.907202\n",
      "4215     34006  c050101        [1, 0, 1, 0]       4  2.318885\n",
      "4265     34062  c050101           [1, 1, 0]       3  1.954232\n",
      "5217     34719  c050101     [0, 1, 1, 1, 1]       5  1.483570\n",
      "6455     34912  c050101        [0, 1, 1, 0]       4  1.901147\n",
      "6534     34916  c050101     [0, 1, 1, 0, 1]       5  1.983766\n",
      "6739     34920  c050101     [1, 0, 1, 1, 1]       5  1.970012\n",
      "6925     34924  c050101  [0, 1, 1, 1, 1, 1]       6  1.546070\n",
      "7099     34930  c050101     [0, 1, 1, 1, 1]       5  1.483570\n",
      "7188     34932  c050101  [1, 0, 1, 0, 1, 0]       6  3.035480\n",
      "7557     34951  c050101  [0, 1, 1, 1, 1, 0]       6  2.046067\n",
      "8268     35107  c050101     [1, 0, 1, 0, 1]       5  2.476598\n",
      "8515     35126  c050101        [1, 1, 0, 1]       4  2.042005\n",
      "8759     35163  c050101           [1, 1, 1]       3  1.479003\n",
      "9294     35211  c050101           [1, 1, 1]       3  1.479003\n",
      "9326     35214  c050101     [1, 0, 0, 0, 1]       5  2.041329\n",
      "9450     35261  c050101     [1, 1, 0, 1, 0]       5  2.603529\n",
      "9477     35266  c050101  [0, 1, 1, 0, 1, 0]       6  2.545486\n",
      "9532     35267  c050101     [1, 0, 0, 1, 1]       5  2.133109\n",
      "9723     35269  c050101  [0, 1, 1, 1, 1, 1]       6  1.546070\n",
      "9799     35270  c050101  [0, 1, 0, 0, 1, 0]       6  2.418203\n",
      "10054    35282  c050101     [1, 0, 0, 1, 1]       5  2.133109\n",
      "10098    35284  c050101        [1, 1, 0, 1]       4  2.042005\n",
      "...        ...      ...                 ...     ...       ...\n",
      "72819    50972  c050101  [0, 1, 0, 0, 1, 0]       6  2.418203\n",
      "72955    51022  c050101        [1, 0, 1, 0]       4  2.318885\n",
      "73615    51121  c050101     [1, 1, 1, 1, 0]       5  2.104083\n",
      "73659    51122  c050101  [0, 0, 0, 0, 0, 0]       6  0.002249\n",
      "74101    51179  c050101     [1, 0, 0, 0, 0]       5  1.099118\n",
      "74232    51203  c050101     [1, 0, 0, 1, 1]       5  2.133109\n",
      "74436    51247  c050101     [0, 0, 1, 1, 1]       5  1.408704\n",
      "74781    51297  c050101           [1, 1, 1]       3  1.479003\n",
      "75289    51951  c050101        [1, 1, 0, 1]       4  2.042005\n",
      "75461    51972  c050101     [0, 0, 1, 1, 1]       5  1.408704\n",
      "76113    52073  c050101           [0, 0, 1]       3  0.961588\n",
      "76301    52132  c050101        [0, 1, 1, 1]       4  1.421003\n",
      "76369    52154  c050101        [0, 1, 1, 0]       4  1.901147\n",
      "76634    52254  c050101  [0, 0, 0, 0, 0, 0]       6  0.002249\n",
      "77423    53406  c050101           [1, 1, 1]       3  1.479003\n",
      "77648    53594  c050101           [0, 0, 0]       3  0.001063\n",
      "78603    55003  c050101        [0, 0, 1, 0]       4  1.108828\n",
      "78991    55155  c050101     [1, 0, 1, 0, 0]       5  2.682335\n",
      "79451    55319  c050101        [1, 1, 0, 0]       4  2.449476\n",
      "80010    56193  c050101           [1, 1, 1]       3  1.479003\n",
      "80363    56578  c050101        [1, 0, 1, 1]       4  1.907202\n",
      "80428    56599  c050101  [1, 0, 1, 0, 0, 1]       6  3.058242\n",
      "80795    56884  c050101     [0, 0, 1, 0, 0]       5  1.136880\n",
      "80815    56886  c050101     [1, 0, 0, 1, 1]       5  2.133109\n",
      "80830    56887  c050101        [1, 1, 0, 1]       4  2.042005\n",
      "80848    56888  c050101     [0, 1, 0, 1, 1]       5  1.887099\n",
      "80864    56889  c050101  [1, 1, 0, 0, 0, 0]       6  2.948577\n",
      "81442    57662  c050101     [0, 1, 0, 0, 0]       5  1.132349\n",
      "81572    57837  c050101        [1, 0, 1, 1]       4  1.907202\n",
      "81612    57860  c050101     [1, 0, 0, 0, 1]       5  2.041329\n",
      "\n",
      "[197 rows x 5 columns]\n",
      "       user_id tag_code            is_right  length       ssr\n",
      "0        29110  c050101     [0, 0, 1, 0, 1]       5  1.772694\n",
      "561      29845  c050101        [1, 0, 1, 1]       4  1.909467\n",
      "699      29861  c050101        [1, 1, 0, 1]       4  2.043421\n",
      "1179     30411  c050101     [1, 0, 0, 0, 1]       5  2.019661\n",
      "1277     30525  c050101           [0, 0, 0]       3  0.001038\n",
      "3352     32576  c050101  [1, 1, 1, 1, 1, 0]       6  2.211570\n",
      "3556     32991  c050101     [0, 0, 1, 0, 1]       5  1.772694\n",
      "3604     33031  c050101        [1, 0, 1, 1]       4  1.909467\n",
      "4215     34006  c050101        [1, 0, 1, 0]       4  2.248641\n",
      "4265     34062  c050101           [1, 1, 0]       3  1.933085\n",
      "5217     34719  c050101     [0, 1, 1, 1, 1]       5  1.558267\n",
      "6455     34912  c050101        [0, 1, 1, 0]       4  1.873812\n",
      "6534     34916  c050101     [0, 1, 1, 0, 1]       5  1.978205\n",
      "6739     34920  c050101     [1, 0, 1, 1, 1]       5  1.993914\n",
      "6925     34924  c050101  [0, 1, 1, 1, 1, 1]       6  1.642368\n",
      "7099     34930  c050101     [0, 1, 1, 1, 1]       5  1.558267\n",
      "7188     34932  c050101  [1, 0, 1, 0, 1, 0]       6  2.917889\n",
      "7557     34951  c050101  [0, 1, 1, 1, 1, 0]       6  2.062364\n",
      "8268     35107  c050101     [1, 0, 1, 0, 1]       5  2.416640\n",
      "8515     35126  c050101        [1, 1, 0, 1]       4  2.043421\n",
      "8759     35163  c050101           [1, 1, 1]       3  1.539161\n",
      "9294     35211  c050101           [1, 1, 1]       3  1.539161\n",
      "9326     35214  c050101     [1, 0, 0, 0, 1]       5  2.019661\n",
      "9450     35261  c050101     [1, 1, 0, 1, 0]       5  2.546634\n",
      "9477     35266  c050101  [0, 1, 1, 0, 1, 0]       6  2.481618\n",
      "9532     35267  c050101     [1, 0, 0, 1, 1]       5  2.120135\n",
      "9723     35269  c050101  [0, 1, 1, 1, 1, 1]       6  1.642368\n",
      "9799     35270  c050101  [0, 1, 0, 0, 1, 0]       6  2.362269\n",
      "10054    35282  c050101     [1, 0, 0, 1, 1]       5  2.120135\n",
      "10098    35284  c050101        [1, 1, 0, 1]       4  2.043421\n",
      "...        ...      ...                 ...     ...       ...\n",
      "72819    50972  c050101  [0, 1, 0, 0, 1, 0]       6  2.362269\n",
      "72955    51022  c050101        [1, 0, 1, 0]       4  2.248641\n",
      "73615    51121  c050101     [1, 1, 1, 1, 0]       5  2.127465\n",
      "73659    51122  c050101  [0, 0, 0, 0, 0, 0]       6  0.002222\n",
      "74101    51179  c050101     [1, 0, 0, 0, 0]       5  1.084387\n",
      "74232    51203  c050101     [1, 0, 0, 1, 1]       5  2.120135\n",
      "74436    51247  c050101     [0, 0, 1, 1, 1]       5  1.458319\n",
      "74781    51297  c050101           [1, 1, 1]       3  1.539161\n",
      "75289    51951  c050101        [1, 1, 0, 1]       4  2.043421\n",
      "75461    51972  c050101     [0, 0, 1, 1, 1]       5  1.458319\n",
      "76113    52073  c050101           [0, 0, 1]       3  0.961744\n",
      "76301    52132  c050101        [0, 1, 1, 1]       4  1.474084\n",
      "76369    52154  c050101        [0, 1, 1, 0]       4  1.873812\n",
      "76634    52254  c050101  [0, 0, 0, 0, 0, 0]       6  0.002222\n",
      "77423    53406  c050101           [1, 1, 1]       3  1.539161\n",
      "77648    53594  c050101           [0, 0, 0]       3  0.001038\n",
      "78603    55003  c050101        [0, 0, 1, 0]       4  1.092887\n",
      "78991    55155  c050101     [1, 0, 1, 0, 0]       5  2.596887\n",
      "79451    55319  c050101        [1, 1, 0, 0]       4  2.379082\n",
      "80010    56193  c050101           [1, 1, 1]       3  1.539161\n",
      "80363    56578  c050101        [1, 0, 1, 1]       4  1.909467\n",
      "80428    56599  c050101  [1, 0, 1, 0, 0, 1]       6  2.929412\n",
      "80795    56884  c050101     [0, 0, 1, 0, 0]       5  1.123685\n",
      "80815    56886  c050101     [1, 0, 0, 1, 1]       5  2.120135\n",
      "80830    56887  c050101        [1, 1, 0, 1]       4  2.043421\n",
      "80848    56888  c050101     [0, 1, 0, 1, 1]       5  1.882005\n",
      "80864    56889  c050101  [1, 1, 0, 0, 0, 0]       6  2.894820\n",
      "81442    57662  c050101     [0, 1, 0, 0, 0]       5  1.118866\n",
      "81572    57837  c050101        [1, 0, 1, 1]       4  1.909467\n",
      "81612    57860  c050101     [1, 0, 0, 0, 1]       5  2.019661\n",
      "\n"
     ]
    },
    {
     "name": "stdout",
     "output_type": "stream",
     "text": [
      "[197 rows x 5 columns]\n",
      "       user_id tag_code            is_right  length       ssr\n",
      "0        29110  c050101     [0, 0, 1, 0, 1]       5  1.749915\n",
      "561      29845  c050101        [1, 0, 1, 1]       4  1.921650\n",
      "699      29861  c050101        [1, 1, 0, 1]       4  2.051997\n",
      "1179     30411  c050101     [1, 0, 0, 0, 1]       5  1.998537\n",
      "1277     30525  c050101           [0, 0, 0]       3  0.001010\n",
      "3352     32576  c050101  [1, 1, 1, 1, 1, 0]       6  2.270024\n",
      "3556     32991  c050101     [0, 0, 1, 0, 1]       5  1.749915\n",
      "3604     33031  c050101        [1, 0, 1, 1]       4  1.921650\n",
      "4215     34006  c050101        [1, 0, 1, 0]       4  2.186225\n",
      "4265     34062  c050101           [1, 1, 0]       3  1.915661\n",
      "5217     34719  c050101     [0, 1, 1, 1, 1]       5  1.640917\n",
      "6455     34912  c050101        [0, 1, 1, 0]       4  1.851138\n",
      "6534     34916  c050101     [0, 1, 1, 0, 1]       5  1.980674\n",
      "6739     34920  c050101     [1, 0, 1, 1, 1]       5  2.030940\n",
      "6925     34924  c050101  [0, 1, 1, 1, 1, 1]       6  1.749819\n",
      "7099     34930  c050101     [0, 1, 1, 1, 1]       5  1.640917\n",
      "7188     34932  c050101  [1, 0, 1, 0, 1, 0]       6  2.818133\n",
      "7557     34951  c050101  [0, 1, 1, 1, 1, 0]       6  2.089814\n",
      "8268     35107  c050101     [1, 0, 1, 0, 1]       5  2.371571\n",
      "8515     35126  c050101        [1, 1, 0, 1]       4  2.051997\n",
      "8759     35163  c050101           [1, 1, 1]       3  1.603185\n",
      "9294     35211  c050101           [1, 1, 1]       3  1.603185\n",
      "9326     35214  c050101     [1, 0, 0, 0, 1]       5  1.998537\n",
      "9450     35261  c050101     [1, 1, 0, 1, 0]       5  2.500072\n",
      "9477     35266  c050101  [0, 1, 1, 0, 1, 0]       6  2.428954\n",
      "9532     35267  c050101     [1, 0, 0, 1, 1]       5  2.115319\n",
      "9723     35269  c050101  [0, 1, 1, 1, 1, 1]       6  1.749819\n",
      "9799     35270  c050101  [0, 1, 0, 0, 1, 0]       6  2.301908\n",
      "10054    35282  c050101     [1, 0, 0, 1, 1]       5  2.115319\n",
      "10098    35284  c050101        [1, 1, 0, 1]       4  2.051997\n",
      "...        ...      ...                 ...     ...       ...\n",
      "72819    50972  c050101  [0, 1, 0, 0, 1, 0]       6  2.301908\n",
      "72955    51022  c050101        [1, 0, 1, 0]       4  2.186225\n",
      "73615    51121  c050101     [1, 1, 1, 1, 0]       5  2.161118\n",
      "73659    51122  c050101  [0, 0, 0, 0, 0, 0]       6  0.002191\n",
      "74101    51179  c050101     [1, 0, 0, 0, 0]       5  1.070680\n",
      "74232    51203  c050101     [1, 0, 0, 1, 1]       5  2.115319\n",
      "74436    51247  c050101     [0, 0, 1, 1, 1]       5  1.512582\n",
      "74781    51297  c050101           [1, 1, 1]       3  1.603185\n",
      "75289    51951  c050101        [1, 1, 0, 1]       4  2.051997\n",
      "75461    51972  c050101     [0, 0, 1, 1, 1]       5  1.512582\n",
      "76113    52073  c050101           [0, 0, 1]       3  0.961955\n",
      "76301    52132  c050101        [0, 1, 1, 1]       4  1.531914\n",
      "76369    52154  c050101        [0, 1, 1, 0]       4  1.851138\n",
      "76634    52254  c050101  [0, 0, 0, 0, 0, 0]       6  0.002191\n",
      "77423    53406  c050101           [1, 1, 1]       3  1.603185\n",
      "77648    53594  c050101           [0, 0, 0]       3  0.001010\n",
      "78603    55003  c050101        [0, 0, 1, 0]       4  1.077709\n",
      "78991    55155  c050101     [1, 0, 1, 0, 0]       5  2.510535\n",
      "79451    55319  c050101        [1, 1, 0, 0]       4  2.313522\n",
      "80010    56193  c050101           [1, 1, 1]       3  1.603185\n",
      "80363    56578  c050101        [1, 0, 1, 1]       4  1.921650\n",
      "80428    56599  c050101  [1, 0, 1, 0, 0, 1]       6  2.822832\n",
      "80795    56884  c050101     [0, 0, 1, 0, 0]       5  1.110151\n",
      "80815    56886  c050101     [1, 0, 0, 1, 1]       5  2.115319\n",
      "80830    56887  c050101        [1, 1, 0, 1]       4  2.051997\n",
      "80848    56888  c050101     [0, 1, 0, 1, 1]       5  1.886993\n",
      "80864    56889  c050101  [1, 1, 0, 0, 0, 0]       6  2.822827\n",
      "81442    57662  c050101     [0, 1, 0, 0, 0]       5  1.105351\n",
      "81572    57837  c050101        [1, 0, 1, 1]       4  1.921650\n",
      "81612    57860  c050101     [1, 0, 0, 0, 1]       5  1.998537\n",
      "\n",
      "[197 rows x 5 columns]\n",
      "       user_id tag_code            is_right  length       ssr\n",
      "0        29110  c050101     [0, 0, 1, 0, 1]       5  1.733092\n",
      "561      29845  c050101        [1, 0, 1, 1]       4  1.942945\n",
      "699      29861  c050101        [1, 1, 0, 1]       4  2.067546\n",
      "1179     30411  c050101     [1, 0, 0, 0, 1]       5  1.978378\n",
      "1277     30525  c050101           [0, 0, 0]       3  0.000980\n",
      "3352     32576  c050101  [1, 1, 1, 1, 1, 0]       6  2.341805\n",
      "3556     32991  c050101     [0, 0, 1, 0, 1]       5  1.733092\n",
      "3604     33031  c050101        [1, 0, 1, 1]       4  1.942945\n",
      "4215     34006  c050101        [1, 0, 1, 0]       4  2.131424\n",
      "4265     34062  c050101           [1, 1, 0]       3  1.901792\n",
      "5217     34719  c050101     [0, 1, 1, 1, 1]       5  1.731461\n",
      "6455     34912  c050101        [0, 1, 1, 0]       4  1.833055\n",
      "6534     34916  c050101     [0, 1, 1, 0, 1]       5  1.991078\n",
      "6739     34920  c050101     [1, 0, 1, 1, 1]       5  2.080286\n",
      "6925     34924  c050101  [0, 1, 1, 1, 1, 1]       6  1.868363\n",
      "7099     34930  c050101     [0, 1, 1, 1, 1]       5  1.731461\n",
      "7188     34932  c050101  [1, 0, 1, 0, 1, 0]       6  2.734625\n",
      "7557     34951  c050101  [0, 1, 1, 1, 1, 0]       6  2.128358\n",
      "8268     35107  c050101     [1, 0, 1, 0, 1]       5  2.339705\n",
      "8515     35126  c050101        [1, 1, 0, 1]       4  2.067546\n",
      "8759     35163  c050101           [1, 1, 1]       3  1.670929\n",
      "9294     35211  c050101           [1, 1, 1]       3  1.670929\n",
      "9326     35214  c050101     [1, 0, 0, 0, 1]       5  1.978378\n",
      "9450     35261  c050101     [1, 1, 0, 1, 0]       5  2.463665\n",
      "9477     35266  c050101  [0, 1, 1, 0, 1, 0]       6  2.387409\n",
      "9532     35267  c050101     [1, 0, 0, 1, 1]       5  2.118451\n",
      "9723     35269  c050101  [0, 1, 1, 1, 1, 1]       6  1.868363\n",
      "9799     35270  c050101  [0, 1, 0, 0, 1, 0]       6  2.240831\n",
      "10054    35282  c050101     [1, 0, 0, 1, 1]       5  2.118451\n",
      "10098    35284  c050101        [1, 1, 0, 1]       4  2.067546\n",
      "...        ...      ...                 ...     ...       ...\n",
      "72819    50972  c050101  [0, 1, 0, 0, 1, 0]       6  2.240831\n",
      "72955    51022  c050101        [1, 0, 1, 0]       4  2.131424\n",
      "73615    51121  c050101     [1, 1, 1, 1, 0]       5  2.204898\n",
      "73659    51122  c050101  [0, 0, 0, 0, 0, 0]       6  0.002157\n",
      "74101    51179  c050101     [1, 0, 0, 0, 0]       5  1.057966\n",
      "74232    51203  c050101     [1, 0, 0, 1, 1]       5  2.118451\n",
      "74436    51247  c050101     [0, 0, 1, 1, 1]       5  1.571540\n",
      "74781    51297  c050101           [1, 1, 1]       3  1.670929\n",
      "75289    51951  c050101        [1, 1, 0, 1]       4  2.067546\n",
      "75461    51972  c050101     [0, 0, 1, 1, 1]       5  1.571540\n",
      "76113    52073  c050101           [0, 0, 1]       3  0.962230\n",
      "76301    52132  c050101        [0, 1, 1, 1]       4  1.594435\n",
      "76369    52154  c050101        [0, 1, 1, 0]       4  1.833055\n",
      "76634    52254  c050101  [0, 0, 0, 0, 0, 0]       6  0.002157\n",
      "77423    53406  c050101           [1, 1, 1]       3  1.670929\n",
      "77648    53594  c050101           [0, 0, 0]       3  0.000980\n",
      "78603    55003  c050101        [0, 0, 1, 0]       4  1.063352\n",
      "78991    55155  c050101     [1, 0, 1, 0, 0]       5  2.426949\n",
      "79451    55319  c050101        [1, 1, 0, 0]       4  2.253289\n",
      "80010    56193  c050101           [1, 1, 1]       3  1.670929\n",
      "80363    56578  c050101        [1, 0, 1, 1]       4  1.942945\n",
      "80428    56599  c050101  [1, 0, 1, 0, 0, 1]       6  2.735531\n",
      "80795    56884  c050101     [0, 0, 1, 0, 0]       5  1.096339\n",
      "80815    56886  c050101     [1, 0, 0, 1, 1]       5  2.118451\n",
      "80830    56887  c050101        [1, 1, 0, 1]       4  2.067546\n",
      "80848    56888  c050101     [0, 1, 0, 1, 1]       5  1.901465\n",
      "80864    56889  c050101  [1, 1, 0, 0, 0, 0]       6  2.738544\n",
      "81442    57662  c050101     [0, 1, 0, 0, 0]       5  1.091837\n",
      "81572    57837  c050101        [1, 0, 1, 1]       4  1.942945\n",
      "81612    57860  c050101     [1, 0, 0, 0, 1]       5  1.978378\n",
      "\n",
      "[197 rows x 5 columns]\n",
      "       user_id tag_code            is_right  length       ssr\n",
      "0        29110  c050101     [0, 0, 1, 0, 1]       5  1.721838\n",
      "561      29845  c050101        [1, 0, 1, 1]       4  1.972687\n",
      "699      29861  c050101        [1, 1, 0, 1]       4  2.089894\n",
      "1179     30411  c050101     [1, 0, 0, 0, 1]       5  1.959637\n",
      "1277     30525  c050101           [0, 0, 0]       3  0.000949\n",
      "3352     32576  c050101  [1, 1, 1, 1, 1, 0]       6  2.426765\n",
      "3556     32991  c050101     [0, 0, 1, 0, 1]       5  1.721838\n",
      "3604     33031  c050101        [1, 0, 1, 1]       4  1.972687\n",
      "4215     34006  c050101        [1, 0, 1, 0]       4  2.083932\n",
      "4265     34062  c050101           [1, 1, 0]       3  1.891299\n",
      "5217     34719  c050101     [0, 1, 1, 1, 1]       5  1.829827\n",
      "6455     34912  c050101        [0, 1, 1, 0]       4  1.819475\n",
      "6534     34916  c050101     [0, 1, 1, 0, 1]       5  2.009325\n",
      "6739     34920  c050101     [1, 0, 1, 1, 1]       5  2.141289\n",
      "6925     34924  c050101  [0, 1, 1, 1, 1, 1]       6  1.997929\n",
      "7099     34930  c050101     [0, 1, 1, 1, 1]       5  1.829827\n",
      "7188     34932  c050101  [1, 0, 1, 0, 1, 0]       6  2.666334\n",
      "7557     34951  c050101  [0, 1, 1, 1, 1, 0]       6  2.177923\n",
      "8268     35107  c050101     [1, 0, 1, 0, 1]       5  2.319954\n",
      "8515     35126  c050101        [1, 1, 0, 1]       4  2.089894\n",
      "8759     35163  c050101           [1, 1, 1]       3  1.742243\n",
      "9294     35211  c050101           [1, 1, 1]       3  1.742243\n",
      "9326     35214  c050101     [1, 0, 0, 0, 1]       5  1.959637\n",
      "9450     35261  c050101     [1, 1, 0, 1, 0]       5  2.437244\n",
      "9477     35266  c050101  [0, 1, 1, 0, 1, 0]       6  2.356893\n",
      "9532     35267  c050101     [1, 0, 0, 1, 1]       5  2.129452\n",
      "9723     35269  c050101  [0, 1, 1, 1, 1, 1]       6  1.997929\n",
      "9799     35270  c050101  [0, 1, 0, 0, 1, 0]       6  2.181674\n",
      "10054    35282  c050101     [1, 0, 0, 1, 1]       5  2.129452\n",
      "10098    35284  c050101        [1, 1, 0, 1]       4  2.089894\n",
      "...        ...      ...                 ...     ...       ...\n",
      "72819    50972  c050101  [0, 1, 0, 0, 1, 0]       6  2.181674\n",
      "72955    51022  c050101        [1, 0, 1, 0]       4  2.083932\n",
      "73615    51121  c050101     [1, 1, 1, 1, 0]       5  2.258656\n",
      "73659    51122  c050101  [0, 0, 0, 0, 0, 0]       6  0.002118\n",
      "74101    51179  c050101     [1, 0, 0, 0, 0]       5  1.046227\n",
      "74232    51203  c050101     [1, 0, 0, 1, 1]       5  2.129452\n",
      "74436    51247  c050101     [0, 0, 1, 1, 1]       5  1.635226\n",
      "74781    51297  c050101           [1, 1, 1]       3  1.742243\n",
      "75289    51951  c050101        [1, 1, 0, 1]       4  2.089894\n",
      "75461    51972  c050101     [0, 0, 1, 1, 1]       5  1.635226\n",
      "76113    52073  c050101           [0, 0, 1]       3  0.962575\n",
      "76301    52132  c050101        [0, 1, 1, 1]       4  1.661572\n",
      "76369    52154  c050101        [0, 1, 1, 0]       4  1.819475\n",
      "76634    52254  c050101  [0, 0, 0, 0, 0, 0]       6  0.002118\n",
      "77423    53406  c050101           [1, 1, 1]       3  1.742243\n",
      "77648    53594  c050101           [0, 0, 0]       3  0.000949\n",
      "78603    55003  c050101        [0, 0, 1, 0]       4  1.049878\n",
      "78991    55155  c050101     [1, 0, 1, 0, 0]       5  2.348311\n",
      "79451    55319  c050101        [1, 1, 0, 0]       4  2.198614\n",
      "80010    56193  c050101           [1, 1, 1]       3  1.742243\n",
      "80363    56578  c050101        [1, 0, 1, 1]       4  1.972687\n",
      "80428    56599  c050101  [1, 0, 1, 0, 0, 1]       6  2.665238\n",
      "80795    56884  c050101     [0, 0, 1, 0, 0]       5  1.082375\n",
      "80815    56886  c050101     [1, 0, 0, 1, 1]       5  2.129452\n",
      "80830    56887  c050101        [1, 1, 0, 1]       4  2.089894\n",
      "80848    56888  c050101     [0, 1, 0, 1, 1]       5  1.924929\n",
      "80864    56889  c050101  [1, 1, 0, 0, 0, 0]       6  2.647592\n",
      "81442    57662  c050101     [0, 1, 0, 0, 0]       5  1.078394\n",
      "81572    57837  c050101        [1, 0, 1, 1]       4  1.972687\n",
      "81612    57860  c050101     [1, 0, 0, 0, 1]       5  1.959637\n",
      "\n"
     ]
    },
    {
     "name": "stdout",
     "output_type": "stream",
     "text": [
      "[197 rows x 5 columns]\n",
      "       user_id tag_code            is_right  length       ssr\n",
      "0        29110  c050101     [0, 0, 1, 0, 1]       5  1.715839\n",
      "561      29845  c050101        [1, 0, 1, 1]       4  2.010305\n",
      "699      29861  c050101        [1, 1, 0, 1]       4  2.118866\n",
      "1179     30411  c050101     [1, 0, 0, 0, 1]       5  1.942764\n",
      "1277     30525  c050101           [0, 0, 0]       3  0.000915\n",
      "3352     32576  c050101  [1, 1, 1, 1, 1, 0]       6  2.524745\n",
      "3556     32991  c050101     [0, 0, 1, 0, 1]       5  1.715839\n",
      "3604     33031  c050101        [1, 0, 1, 1]       4  2.010305\n",
      "4215     34006  c050101        [1, 0, 1, 0]       4  2.043403\n",
      "4265     34062  c050101           [1, 1, 0]       3  1.883984\n",
      "5217     34719  c050101     [0, 1, 1, 1, 1]       5  1.935924\n",
      "6455     34912  c050101        [0, 1, 1, 0]       4  1.810285\n",
      "6534     34916  c050101     [0, 1, 1, 0, 1]       5  2.035312\n",
      "6739     34920  c050101     [1, 0, 1, 1, 1]       5  2.213382\n",
      "6925     34924  c050101  [0, 1, 1, 1, 1, 1]       6  2.138427\n",
      "7099     34930  c050101     [0, 1, 1, 1, 1]       5  1.935924\n",
      "7188     34932  c050101  [1, 0, 1, 0, 1, 0]       6  2.612506\n",
      "7557     34951  c050101  [0, 1, 1, 1, 1, 0]       6  2.238420\n",
      "8268     35107  c050101     [1, 0, 1, 0, 1]       5  2.311536\n",
      "8515     35126  c050101        [1, 1, 0, 1]       4  2.118866\n",
      "8759     35163  c050101           [1, 1, 1]       3  1.816964\n",
      "9294     35211  c050101           [1, 1, 1]       3  1.816964\n",
      "9326     35214  c050101     [1, 0, 0, 0, 1]       5  1.942764\n",
      "9450     35261  c050101     [1, 1, 0, 1, 0]       5  2.420634\n",
      "9477     35266  c050101  [0, 1, 1, 0, 1, 0]       6  2.337307\n",
      "9532     35267  c050101     [1, 0, 0, 1, 1]       5  2.148272\n",
      "9723     35269  c050101  [0, 1, 1, 1, 1, 1]       6  2.138427\n",
      "9799     35270  c050101  [0, 1, 0, 0, 1, 0]       6  2.126294\n",
      "10054    35282  c050101     [1, 0, 0, 1, 1]       5  2.148272\n",
      "10098    35284  c050101        [1, 1, 0, 1]       4  2.118866\n",
      "...        ...      ...                 ...     ...       ...\n",
      "72819    50972  c050101  [0, 1, 0, 0, 1, 0]       6  2.126294\n",
      "72955    51022  c050101        [1, 0, 1, 0]       4  2.043403\n",
      "73615    51121  c050101     [1, 1, 1, 1, 0]       5  2.322234\n",
      "73659    51122  c050101  [0, 0, 0, 0, 0, 0]       6  0.002074\n",
      "74101    51179  c050101     [1, 0, 0, 0, 0]       5  1.035453\n",
      "74232    51203  c050101     [1, 0, 0, 1, 1]       5  2.148272\n",
      "74436    51247  c050101     [0, 0, 1, 1, 1]       5  1.703655\n",
      "74781    51297  c050101           [1, 1, 1]       3  1.816964\n",
      "75289    51951  c050101        [1, 1, 0, 1]       4  2.118866\n",
      "75461    51972  c050101     [0, 0, 1, 1, 1]       5  1.703655\n",
      "76113    52073  c050101           [0, 0, 1]       3  0.963000\n",
      "76301    52132  c050101        [0, 1, 1, 1]       4  1.733234\n",
      "76369    52154  c050101        [0, 1, 1, 0]       4  1.810285\n",
      "76634    52254  c050101  [0, 0, 0, 0, 0, 0]       6  0.002074\n",
      "77423    53406  c050101           [1, 1, 1]       3  1.816964\n",
      "77648    53594  c050101           [0, 0, 0]       3  0.000915\n",
      "78603    55003  c050101        [0, 0, 1, 0]       4  1.037355\n",
      "78991    55155  c050101     [1, 0, 1, 0, 0]       5  2.275905\n",
      "79451    55319  c050101        [1, 1, 0, 0]       4  2.149575\n",
      "80010    56193  c050101           [1, 1, 1]       3  1.816964\n",
      "80363    56578  c050101        [1, 0, 1, 1]       4  2.010305\n",
      "80428    56599  c050101  [1, 0, 1, 0, 0, 1]       6  2.610403\n",
      "80795    56884  c050101     [0, 0, 1, 0, 0]       5  1.068436\n",
      "80815    56886  c050101     [1, 0, 0, 1, 1]       5  2.148272\n",
      "80830    56887  c050101        [1, 1, 0, 1]       4  2.118866\n",
      "80848    56888  c050101     [0, 1, 0, 1, 1]       5  1.956965\n",
      "80864    56889  c050101  [1, 1, 0, 0, 0, 0]       6  2.554604\n",
      "81442    57662  c050101     [0, 1, 0, 0, 0]       5  1.065131\n",
      "81572    57837  c050101        [1, 0, 1, 1]       4  2.010305\n",
      "81612    57860  c050101     [1, 0, 0, 0, 1]       5  1.942764\n",
      "\n",
      "[197 rows x 5 columns]\n",
      "       user_id tag_code            is_right  length       ssr\n",
      "0        29110  c050101     [0, 0, 1, 0, 1]       5  1.714824\n",
      "561      29845  c050101        [1, 0, 1, 1]       4  2.055297\n",
      "699      29861  c050101        [1, 1, 0, 1]       4  2.154283\n",
      "1179     30411  c050101     [1, 0, 0, 0, 1]       5  1.928178\n",
      "1277     30525  c050101           [0, 0, 0]       3  0.000879\n",
      "3352     32576  c050101  [1, 1, 1, 1, 1, 0]       6  2.635582\n",
      "3556     32991  c050101     [0, 0, 1, 0, 1]       5  1.714824\n",
      "3604     33031  c050101        [1, 0, 1, 1]       4  2.055297\n",
      "4215     34006  c050101        [1, 0, 1, 0]       4  2.009474\n",
      "4265     34062  c050101           [1, 1, 0]       3  1.879637\n",
      "5217     34719  c050101     [0, 1, 1, 1, 1]       5  2.049644\n",
      "6455     34912  c050101        [0, 1, 1, 0]       4  1.805352\n",
      "6534     34916  c050101     [0, 1, 1, 0, 1]       5  2.068921\n",
      "6739     34920  c050101     [1, 0, 1, 1, 1]       5  2.296067\n",
      "6925     34924  c050101  [0, 1, 1, 1, 1, 1]       6  2.289749\n",
      "7099     34930  c050101     [0, 1, 1, 1, 1]       5  2.049644\n",
      "7188     34932  c050101  [1, 0, 1, 0, 1, 0]       6  2.572544\n",
      "7557     34951  c050101  [0, 1, 1, 1, 1, 0]       6  2.309739\n",
      "8268     35107  c050101     [1, 0, 1, 0, 1]       5  2.313832\n",
      "8515     35126  c050101        [1, 1, 0, 1]       4  2.154283\n",
      "8759     35163  c050101           [1, 1, 1]       3  1.894927\n",
      "9294     35211  c050101           [1, 1, 1]       3  1.894927\n",
      "9326     35214  c050101     [1, 0, 0, 0, 1]       5  1.928178\n",
      "9450     35261  c050101     [1, 1, 0, 1, 0]       5  2.413661\n",
      "9477     35266  c050101  [0, 1, 1, 0, 1, 0]       6  2.328535\n",
      "9532     35267  c050101     [1, 0, 0, 1, 1]       5  2.174844\n",
      "9723     35269  c050101  [0, 1, 1, 1, 1, 1]       6  2.289749\n",
      "9799     35270  c050101  [0, 1, 0, 0, 1, 0]       6  2.075994\n",
      "10054    35282  c050101     [1, 0, 0, 1, 1]       5  2.174844\n",
      "10098    35284  c050101        [1, 1, 0, 1]       4  2.154283\n",
      "...        ...      ...                 ...     ...       ...\n",
      "72819    50972  c050101  [0, 1, 0, 0, 1, 0]       6  2.075994\n",
      "72955    51022  c050101        [1, 0, 1, 0]       4  2.009474\n",
      "73615    51121  c050101     [1, 1, 1, 1, 0]       5  2.395468\n",
      "73659    51122  c050101  [0, 0, 0, 0, 0, 0]       6  0.002025\n",
      "74101    51179  c050101     [1, 0, 0, 0, 0]       5  1.025637\n",
      "74232    51203  c050101     [1, 0, 0, 1, 1]       5  2.174844\n",
      "74436    51247  c050101     [0, 0, 1, 1, 1]       5  1.776822\n",
      "74781    51297  c050101           [1, 1, 1]       3  1.894927\n",
      "75289    51951  c050101        [1, 1, 0, 1]       4  2.154283\n",
      "75461    51972  c050101     [0, 0, 1, 1, 1]       5  1.776822\n",
      "76113    52073  c050101           [0, 0, 1]       3  0.963510\n",
      "76301    52132  c050101        [0, 1, 1, 1]       4  1.809311\n",
      "76369    52154  c050101        [0, 1, 1, 0]       4  1.805352\n",
      "76634    52254  c050101  [0, 0, 0, 0, 0, 0]       6  0.002025\n",
      "77423    53406  c050101           [1, 1, 1]       3  1.894927\n",
      "77648    53594  c050101           [0, 0, 0]       3  0.000879\n",
      "78603    55003  c050101        [0, 0, 1, 0]       4  1.025847\n",
      "78991    55155  c050101     [1, 0, 1, 0, 0]       5  2.210460\n",
      "79451    55319  c050101        [1, 1, 0, 0]       4  2.106150\n",
      "80010    56193  c050101           [1, 1, 1]       3  1.894927\n",
      "80363    56578  c050101        [1, 0, 1, 1]       4  2.055297\n",
      "80428    56599  c050101  [1, 0, 1, 0, 0, 1]       6  2.569966\n",
      "80795    56884  c050101     [0, 0, 1, 0, 0]       5  1.054732\n",
      "80815    56886  c050101     [1, 0, 0, 1, 1]       5  2.174844\n",
      "80830    56887  c050101        [1, 1, 0, 1]       4  2.154283\n",
      "80848    56888  c050101     [0, 1, 0, 1, 1]       5  1.997205\n",
      "80864    56889  c050101  [1, 1, 0, 0, 0, 0]       6  2.463113\n",
      "81442    57662  c050101     [0, 1, 0, 0, 0]       5  1.052190\n",
      "81572    57837  c050101        [1, 0, 1, 1]       4  2.055297\n",
      "81612    57860  c050101     [1, 0, 0, 0, 1]       5  1.928178\n",
      "\n",
      "[197 rows x 5 columns]\n",
      "       user_id tag_code            is_right  length       ssr\n",
      "0        29110  c050101     [0, 0, 1, 0, 1]       5  1.718554\n",
      "561      29845  c050101        [1, 0, 1, 1]       4  2.107206\n",
      "699      29861  c050101        [1, 1, 0, 1]       4  2.195966\n",
      "1179     30411  c050101     [1, 0, 0, 0, 1]       5  1.916237\n",
      "1277     30525  c050101           [0, 0, 0]       3  0.000841\n",
      "3352     32576  c050101  [1, 1, 1, 1, 1, 0]       6  2.759109\n",
      "3556     32991  c050101     [0, 0, 1, 0, 1]       5  1.718554\n",
      "3604     33031  c050101        [1, 0, 1, 1]       4  2.107206\n",
      "4215     34006  c050101        [1, 0, 1, 0]       4  1.981772\n",
      "4265     34062  c050101           [1, 1, 0]       3  1.878029\n",
      "5217     34719  c050101     [0, 1, 1, 1, 1]       5  2.170856\n",
      "6455     34912  c050101        [0, 1, 1, 0]       4  1.804508\n",
      "6534     34916  c050101     [0, 1, 1, 0, 1]       5  2.110012\n",
      "6739     34920  c050101     [1, 0, 1, 1, 1]       5  2.388891\n",
      "6925     34924  c050101  [0, 1, 1, 1, 1, 1]       6  2.451762\n",
      "7099     34930  c050101     [0, 1, 1, 1, 1]       5  2.170856\n",
      "7188     34932  c050101  [1, 0, 1, 0, 1, 0]       6  2.545940\n",
      "7557     34951  c050101  [0, 1, 1, 1, 1, 0]       6  2.391751\n",
      "8268     35107  c050101     [1, 0, 1, 0, 1]       5  2.326322\n",
      "8515     35126  c050101        [1, 1, 0, 1]       4  2.195966\n",
      "8759     35163  c050101           [1, 1, 1]       3  1.975958\n",
      "9294     35211  c050101           [1, 1, 1]       3  1.975958\n",
      "9326     35214  c050101     [1, 0, 0, 0, 1]       5  1.916237\n",
      "9450     35261  c050101     [1, 1, 0, 1, 0]       5  2.416144\n",
      "9477     35266  c050101  [0, 1, 1, 0, 1, 0]       6  2.330439\n",
      "9532     35267  c050101     [1, 0, 0, 1, 1]       5  2.209062\n",
      "9723     35269  c050101  [0, 1, 1, 1, 1, 1]       6  2.451762\n",
      "9799     35270  c050101  [0, 1, 0, 0, 1, 0]       6  2.031673\n",
      "10054    35282  c050101     [1, 0, 0, 1, 1]       5  2.209062\n",
      "10098    35284  c050101        [1, 1, 0, 1]       4  2.195966\n",
      "...        ...      ...                 ...     ...       ...\n",
      "72819    50972  c050101  [0, 1, 0, 0, 1, 0]       6  2.031673\n",
      "72955    51022  c050101        [1, 0, 1, 0]       4  1.981772\n",
      "73615    51121  c050101     [1, 1, 1, 1, 0]       5  2.478192\n",
      "73659    51122  c050101  [0, 0, 0, 0, 0, 0]       6  0.001969\n",
      "74101    51179  c050101     [1, 0, 0, 0, 0]       5  1.016779\n",
      "74232    51203  c050101     [1, 0, 0, 1, 1]       5  2.209062\n",
      "74436    51247  c050101     [0, 0, 1, 1, 1]       5  1.854697\n",
      "74781    51297  c050101           [1, 1, 1]       3  1.975958\n",
      "75289    51951  c050101        [1, 1, 0, 1]       4  2.195966\n",
      "75461    51972  c050101     [0, 0, 1, 1, 1]       5  1.854697\n",
      "76113    52073  c050101           [0, 0, 1]       3  0.964115\n",
      "76301    52132  c050101        [0, 1, 1, 1]       4  1.889668\n",
      "76369    52154  c050101        [0, 1, 1, 0]       4  1.804508\n",
      "76634    52254  c050101  [0, 0, 0, 0, 0, 0]       6  0.001969\n",
      "77423    53406  c050101           [1, 1, 1]       3  1.975958\n",
      "77648    53594  c050101           [0, 0, 0]       3  0.000841\n",
      "78603    55003  c050101        [0, 0, 1, 0]       4  1.015422\n",
      "78991    55155  c050101     [1, 0, 1, 0, 0]       5  2.152354\n",
      "79451    55319  c050101        [1, 1, 0, 0]       4  2.068249\n",
      "80010    56193  c050101           [1, 1, 1]       3  1.975958\n",
      "80363    56578  c050101        [1, 0, 1, 1]       4  2.107206\n",
      "80428    56599  c050101  [1, 0, 1, 0, 0, 1]       6  2.543163\n",
      "80795    56884  c050101     [0, 0, 1, 0, 0]       5  1.041494\n",
      "80815    56886  c050101     [1, 0, 0, 1, 1]       5  2.209062\n",
      "80830    56887  c050101        [1, 1, 0, 1]       4  2.195966\n",
      "80848    56888  c050101     [0, 1, 0, 1, 1]       5  2.045310\n",
      "80864    56889  c050101  [1, 1, 0, 0, 0, 0]       6  2.375707\n",
      "81442    57662  c050101     [0, 1, 0, 0, 0]       5  1.039743\n",
      "81572    57837  c050101        [1, 0, 1, 1]       4  2.107206\n",
      "81612    57860  c050101     [1, 0, 0, 0, 1]       5  1.916237\n",
      "\n"
     ]
    },
    {
     "name": "stdout",
     "output_type": "stream",
     "text": [
      "[197 rows x 5 columns]\n",
      "       user_id tag_code            is_right  length       ssr\n",
      "0        29110  c050101     [0, 0, 1, 0, 1]       5  1.726799\n",
      "561      29845  c050101        [1, 0, 1, 1]       4  2.165604\n",
      "699      29861  c050101        [1, 1, 0, 1]       4  2.243728\n",
      "1179     30411  c050101     [1, 0, 0, 0, 1]       5  1.907224\n",
      "1277     30525  c050101           [0, 0, 0]       3  0.000801\n",
      "3352     32576  c050101  [1, 1, 1, 1, 1, 0]       6  2.895158\n",
      "3556     32991  c050101     [0, 0, 1, 0, 1]       5  1.726799\n",
      "3604     33031  c050101        [1, 0, 1, 1]       4  2.165604\n",
      "4215     34006  c050101        [1, 0, 1, 0]       4  1.959910\n",
      "4265     34062  c050101           [1, 1, 0]       3  1.878914\n",
      "5217     34719  c050101     [0, 1, 1, 1, 1]       5  2.299405\n",
      "6455     34912  c050101        [0, 1, 1, 0]       4  1.807552\n",
      "6534     34916  c050101     [0, 1, 1, 0, 1]       5  2.158421\n",
      "6739     34920  c050101     [1, 0, 1, 1, 1]       5  2.491439\n",
      "6925     34924  c050101  [0, 1, 1, 1, 1, 1]       6  2.624313\n",
      "7099     34930  c050101     [0, 1, 1, 1, 1]       5  2.299405\n",
      "7188     34932  c050101  [1, 0, 1, 0, 1, 0]       6  2.532235\n",
      "7557     34951  c050101  [0, 1, 1, 1, 1, 0]       6  2.484299\n",
      "8268     35107  c050101     [1, 0, 1, 0, 1]       5  2.348541\n",
      "8515     35126  c050101        [1, 1, 0, 1]       4  2.243728\n",
      "8759     35163  c050101           [1, 1, 1]       3  2.059880\n",
      "9294     35211  c050101           [1, 1, 1]       3  2.059880\n",
      "9326     35214  c050101     [1, 0, 0, 0, 1]       5  1.907224\n",
      "9450     35261  c050101     [1, 1, 0, 1, 0]       5  2.427898\n",
      "9477     35266  c050101  [0, 1, 1, 0, 1, 0]       6  2.342854\n",
      "9532     35267  c050101     [1, 0, 0, 1, 1]       5  2.250775\n",
      "9723     35269  c050101  [0, 1, 1, 1, 1, 1]       6  2.624313\n",
      "9799     35270  c050101  [0, 1, 0, 0, 1, 0]       6  1.993924\n",
      "10054    35282  c050101     [1, 0, 0, 1, 1]       5  2.250775\n",
      "10098    35284  c050101        [1, 1, 0, 1]       4  2.243728\n",
      "...        ...      ...                 ...     ...       ...\n",
      "72819    50972  c050101  [0, 1, 0, 0, 1, 0]       6  1.993924\n",
      "72955    51022  c050101        [1, 0, 1, 0]       4  1.959910\n",
      "73615    51121  c050101     [1, 1, 1, 1, 0]       5  2.570235\n",
      "73659    51122  c050101  [0, 0, 0, 0, 0, 0]       6  0.001906\n",
      "74101    51179  c050101     [1, 0, 0, 0, 0]       5  1.008882\n",
      "74232    51203  c050101     [1, 0, 0, 1, 1]       5  2.250775\n",
      "74436    51247  c050101     [0, 0, 1, 1, 1]       5  1.937221\n",
      "74781    51297  c050101           [1, 1, 1]       3  2.059880\n",
      "75289    51951  c050101        [1, 1, 0, 1]       4  2.243728\n",
      "75461    51972  c050101     [0, 0, 1, 1, 1]       5  1.937221\n",
      "76113    52073  c050101           [0, 0, 1]       3  0.964822\n",
      "76301    52132  c050101        [0, 1, 1, 1]       4  1.974145\n",
      "76369    52154  c050101        [0, 1, 1, 0]       4  1.807552\n",
      "76634    52254  c050101  [0, 0, 0, 0, 0, 0]       6  0.001906\n",
      "77423    53406  c050101           [1, 1, 1]       3  2.059880\n",
      "77648    53594  c050101           [0, 0, 0]       3  0.000801\n",
      "78603    55003  c050101        [0, 0, 1, 0]       4  1.006138\n",
      "78991    55155  c050101     [1, 0, 1, 0, 0]       5  2.101735\n",
      "79451    55319  c050101        [1, 1, 0, 0]       4  2.035732\n",
      "80010    56193  c050101           [1, 1, 1]       3  2.059880\n",
      "80363    56578  c050101        [1, 0, 1, 1]       4  2.165604\n",
      "80428    56599  c050101  [1, 0, 1, 0, 0, 1]       6  2.529397\n",
      "80795    56884  c050101     [0, 0, 1, 0, 0]       5  1.028964\n",
      "80815    56886  c050101     [1, 0, 0, 1, 1]       5  2.250775\n",
      "80830    56887  c050101        [1, 1, 0, 1]       4  2.243728\n",
      "80848    56888  c050101     [0, 1, 0, 1, 1]       5  2.100960\n",
      "80864    56889  c050101  [1, 1, 0, 0, 0, 0]       6  2.294230\n",
      "81442    57662  c050101     [0, 1, 0, 0, 0]       5  1.027981\n",
      "81572    57837  c050101        [1, 0, 1, 1]       4  2.165604\n",
      "81612    57860  c050101     [1, 0, 0, 0, 1]       5  1.907224\n",
      "\n",
      "[197 rows x 5 columns]\n",
      "       user_id tag_code            is_right  length       ssr\n",
      "0        29110  c050101     [0, 0, 1, 0, 1]       5  1.739321\n",
      "561      29845  c050101        [1, 0, 1, 1]       4  2.230084\n",
      "699      29861  c050101        [1, 1, 0, 1]       4  2.297385\n",
      "1179     30411  c050101     [1, 0, 0, 0, 1]       5  1.901331\n",
      "1277     30525  c050101           [0, 0, 0]       3  0.000759\n",
      "3352     32576  c050101  [1, 1, 1, 1, 1, 0]       6  3.043565\n",
      "3556     32991  c050101     [0, 0, 1, 0, 1]       5  1.739321\n",
      "3604     33031  c050101        [1, 0, 1, 1]       4  2.230084\n",
      "4215     34006  c050101        [1, 0, 1, 0]       4  1.943487\n",
      "4265     34062  c050101           [1, 1, 0]       3  1.882029\n",
      "5217     34719  c050101     [0, 1, 1, 1, 1]       5  2.435107\n",
      "6455     34912  c050101        [0, 1, 1, 0]       4  1.814236\n",
      "6534     34916  c050101     [0, 1, 1, 0, 1]       5  2.213954\n",
      "6739     34920  c050101     [1, 0, 1, 1, 1]       5  2.603312\n",
      "6925     34924  c050101  [0, 1, 1, 1, 1, 1]       6  2.807219\n",
      "7099     34930  c050101     [0, 1, 1, 1, 1]       5  2.435107\n",
      "7188     34932  c050101  [1, 0, 1, 0, 1, 0]       6  2.531001\n",
      "7557     34951  c050101  [0, 1, 1, 1, 1, 0]       6  2.587200\n",
      "8268     35107  c050101     [1, 0, 1, 0, 1]       5  2.380054\n",
      "8515     35126  c050101        [1, 1, 0, 1]       4  2.297385\n",
      "8759     35163  c050101           [1, 1, 1]       3  2.146516\n",
      "9294     35211  c050101           [1, 1, 1]       3  2.146516\n",
      "9326     35214  c050101     [1, 0, 0, 0, 1]       5  1.901331\n",
      "9450     35261  c050101     [1, 1, 0, 1, 0]       5  2.448737\n",
      "9477     35266  c050101  [0, 1, 1, 0, 1, 0]       6  2.365587\n",
      "9532     35267  c050101     [1, 0, 0, 1, 1]       5  2.299781\n",
      "9723     35269  c050101  [0, 1, 1, 1, 1, 1]       6  2.807219\n",
      "9799     35270  c050101  [0, 1, 0, 0, 1, 0]       6  1.963101\n",
      "10054    35282  c050101     [1, 0, 0, 1, 1]       5  2.299781\n",
      "10098    35284  c050101        [1, 1, 0, 1]       4  2.297385\n",
      "...        ...      ...                 ...     ...       ...\n",
      "72819    50972  c050101  [0, 1, 0, 0, 1, 0]       6  1.963101\n",
      "72955    51022  c050101        [1, 0, 1, 0]       4  1.943487\n",
      "73615    51121  c050101     [1, 1, 1, 1, 0]       5  2.671435\n",
      "73659    51122  c050101  [0, 0, 0, 0, 0, 0]       6  0.001834\n",
      "74101    51179  c050101     [1, 0, 0, 0, 0]       5  1.001953\n",
      "74232    51203  c050101     [1, 0, 0, 1, 1]       5  2.299781\n",
      "74436    51247  c050101     [0, 0, 1, 1, 1]       5  2.024301\n",
      "74781    51297  c050101           [1, 1, 1]       3  2.146516\n",
      "75289    51951  c050101        [1, 1, 0, 1]       4  2.297385\n",
      "75461    51972  c050101     [0, 0, 1, 1, 1]       5  2.024301\n",
      "76113    52073  c050101           [0, 0, 1]       3  0.965637\n",
      "76301    52132  c050101        [0, 1, 1, 1]       4  2.062552\n",
      "76369    52154  c050101        [0, 1, 1, 0]       4  1.814236\n",
      "76634    52254  c050101  [0, 0, 0, 0, 0, 0]       6  0.001834\n",
      "77423    53406  c050101           [1, 1, 1]       3  2.146516\n",
      "77648    53594  c050101           [0, 0, 0]       3  0.000759\n",
      "78603    55003  c050101        [0, 0, 1, 0]       4  0.998050\n",
      "78991    55155  c050101     [1, 0, 1, 0, 0]       5  2.058590\n",
      "79451    55319  c050101        [1, 1, 0, 0]       4  2.008422\n",
      "80010    56193  c050101           [1, 1, 1]       3  2.146516\n",
      "80363    56578  c050101        [1, 0, 1, 1]       4  2.230084\n",
      "80428    56599  c050101  [1, 0, 1, 0, 0, 1]       6  2.528162\n",
      "80795    56884  c050101     [0, 0, 1, 0, 0]       5  1.017379\n",
      "80815    56886  c050101     [1, 0, 0, 1, 1]       5  2.299781\n",
      "80830    56887  c050101        [1, 1, 0, 1]       4  2.297385\n",
      "80848    56888  c050101     [0, 1, 0, 1, 1]       5  2.163833\n",
      "80864    56889  c050101  [1, 1, 0, 0, 0, 0]       6  2.219973\n",
      "81442    57662  c050101     [0, 1, 0, 0, 0]       5  1.017108\n",
      "81572    57837  c050101        [1, 0, 1, 1]       4  2.230084\n",
      "81612    57860  c050101     [1, 0, 0, 0, 1]       5  1.901331\n",
      "\n",
      "[197 rows x 5 columns]\n",
      "       user_id tag_code            is_right  length       ssr\n",
      "0        29110  c050101     [0, 0, 1, 0, 1]       5  1.755850\n",
      "561      29845  c050101        [1, 0, 1, 1]       4  2.300240\n",
      "699      29861  c050101        [1, 1, 0, 1]       4  2.356752\n",
      "1179     30411  c050101     [1, 0, 0, 0, 1]       5  1.898645\n",
      "1277     30525  c050101           [0, 0, 0]       3  0.000715\n",
      "3352     32576  c050101  [1, 1, 1, 1, 1, 0]       6  3.204176\n",
      "3556     32991  c050101     [0, 0, 1, 0, 1]       5  1.755850\n",
      "3604     33031  c050101        [1, 0, 1, 1]       4  2.300240\n",
      "4215     34006  c050101        [1, 0, 1, 0]       4  1.932083\n",
      "4265     34062  c050101           [1, 1, 0]       3  1.887090\n",
      "5217     34719  c050101     [0, 1, 1, 1, 1]       5  2.577750\n",
      "6455     34912  c050101        [0, 1, 1, 0]       4  1.824261\n",
      "6534     34916  c050101     [0, 1, 1, 0, 1]       5  2.276381\n",
      "6739     34920  c050101     [1, 0, 1, 1, 1]       5  2.724129\n",
      "6925     34924  c050101  [0, 1, 1, 1, 1, 1]       6  3.000267\n",
      "7099     34930  c050101     [0, 1, 1, 1, 1]       5  2.577750\n",
      "7188     34932  c050101  [1, 0, 1, 0, 1, 0]       6  2.541819\n",
      "7557     34951  c050101  [0, 1, 1, 1, 1, 0]       6  2.700241\n",
      "8268     35107  c050101     [1, 0, 1, 0, 1]       5  2.420440\n",
      "8515     35126  c050101        [1, 1, 0, 1]       4  2.356752\n",
      "8759     35163  c050101           [1, 1, 1]       3  2.235689\n",
      "9294     35211  c050101           [1, 1, 1]       3  2.235689\n",
      "9326     35214  c050101     [1, 0, 0, 0, 1]       5  1.898645\n",
      "9450     35261  c050101     [1, 1, 0, 1, 0]       5  2.478476\n",
      "9477     35266  c050101  [0, 1, 1, 0, 1, 0]       6  2.398408\n",
      "9532     35267  c050101     [1, 0, 0, 1, 1]       5  2.355820\n",
      "9723     35269  c050101  [0, 1, 1, 1, 1, 1]       6  3.000267\n",
      "9799     35270  c050101  [0, 1, 0, 0, 1, 0]       6  1.939363\n",
      "10054    35282  c050101     [1, 0, 0, 1, 1]       5  2.355820\n",
      "10098    35284  c050101        [1, 1, 0, 1]       4  2.356752\n",
      "...        ...      ...                 ...     ...       ...\n",
      "72819    50972  c050101  [0, 1, 0, 0, 1, 0]       6  1.939363\n",
      "72955    51022  c050101        [1, 0, 1, 0]       4  1.932083\n",
      "73615    51121  c050101     [1, 1, 1, 1, 0]       5  2.781635\n",
      "73659    51122  c050101  [0, 0, 0, 0, 0, 0]       6  0.001752\n",
      "74101    51179  c050101     [1, 0, 0, 0, 0]       5  0.995998\n",
      "74232    51203  c050101     [1, 0, 0, 1, 1]       5  2.355820\n",
      "74436    51247  c050101     [0, 0, 1, 1, 1]       5  2.115802\n",
      "74781    51297  c050101           [1, 1, 1]       3  2.235689\n",
      "75289    51951  c050101        [1, 1, 0, 1]       4  2.356752\n",
      "75461    51972  c050101     [0, 0, 1, 1, 1]       5  2.115802\n",
      "76113    52073  c050101           [0, 0, 1]       3  0.966570\n",
      "76301    52132  c050101        [0, 1, 1, 1]       4  2.154666\n",
      "76369    52154  c050101        [0, 1, 1, 0]       4  1.824261\n",
      "76634    52254  c050101  [0, 0, 0, 0, 0, 0]       6  0.001752\n",
      "77423    53406  c050101           [1, 1, 1]       3  2.235689\n",
      "77648    53594  c050101           [0, 0, 0]       3  0.000715\n",
      "78603    55003  c050101        [0, 0, 1, 0]       4  0.991200\n",
      "78991    55155  c050101     [1, 0, 1, 0, 0]       5  2.022789\n",
      "79451    55319  c050101        [1, 1, 0, 0]       4  1.986114\n",
      "80010    56193  c050101           [1, 1, 1]       3  2.235689\n",
      "80363    56578  c050101        [1, 0, 1, 1]       4  2.300240\n",
      "80428    56599  c050101  [1, 0, 1, 0, 0, 1]       6  2.538999\n",
      "80795    56884  c050101     [0, 0, 1, 0, 0]       5  1.006965\n",
      "80815    56886  c050101     [1, 0, 0, 1, 1]       5  2.355820\n",
      "80830    56887  c050101        [1, 1, 0, 1]       4  2.356752\n",
      "80848    56888  c050101     [0, 1, 0, 1, 1]       5  2.233591\n",
      "80864    56889  c050101  [1, 1, 0, 0, 0, 0]       6  2.153832\n",
      "81442    57662  c050101     [0, 1, 0, 0, 0]       5  1.007326\n",
      "81572    57837  c050101        [1, 0, 1, 1]       4  2.300240\n",
      "81612    57860  c050101     [1, 0, 0, 0, 1]       5  1.898645\n",
      "\n"
     ]
    },
    {
     "name": "stdout",
     "output_type": "stream",
     "text": [
      "[197 rows x 5 columns]\n",
      "       user_id tag_code            is_right  length       ssr\n",
      "0        29110  c050101     [0, 0, 1, 0, 1]       5  1.776063\n",
      "561      29845  c050101        [1, 0, 1, 1]       4  2.375662\n",
      "699      29861  c050101        [1, 1, 0, 1]       4  2.421646\n",
      "1179     30411  c050101     [1, 0, 0, 0, 1]       5  1.899140\n",
      "1277     30525  c050101           [0, 0, 0]       3  0.000669\n",
      "3352     32576  c050101  [1, 1, 1, 1, 1, 0]       6  3.376856\n",
      "3556     32991  c050101     [0, 0, 1, 0, 1]       5  1.776063\n",
      "3604     33031  c050101        [1, 0, 1, 1]       4  2.375662\n",
      "4215     34006  c050101        [1, 0, 1, 0]       4  1.925253\n",
      "4265     34062  c050101           [1, 1, 0]       3  1.893801\n",
      "5217     34719  c050101     [0, 1, 1, 1, 1]       5  2.727089\n",
      "6455     34912  c050101        [0, 1, 1, 0]       4  1.837261\n",
      "6534     34916  c050101     [0, 1, 1, 0, 1]       5  2.345435\n",
      "6739     34920  c050101     [1, 0, 1, 1, 1]       5  2.853513\n",
      "6925     34924  c050101  [0, 1, 1, 1, 1, 1]       6  3.203214\n",
      "7099     34930  c050101     [0, 1, 1, 1, 1]       5  2.727089\n",
      "7188     34932  c050101  [1, 0, 1, 0, 1, 0]       6  2.564265\n",
      "7557     34951  c050101  [0, 1, 1, 1, 1, 0]       6  2.823178\n",
      "8268     35107  c050101     [1, 0, 1, 0, 1]       5  2.469274\n",
      "8515     35126  c050101        [1, 1, 0, 1]       4  2.421646\n",
      "8759     35163  c050101           [1, 1, 1]       3  2.327226\n",
      "9294     35211  c050101           [1, 1, 1]       3  2.327226\n",
      "9326     35214  c050101     [1, 0, 0, 0, 1]       5  1.899140\n",
      "9450     35261  c050101     [1, 1, 0, 1, 0]       5  2.516928\n",
      "9477     35266  c050101  [0, 1, 1, 0, 1, 0]       6  2.441047\n",
      "9532     35267  c050101     [1, 0, 0, 1, 1]       5  2.418569\n",
      "9723     35269  c050101  [0, 1, 1, 1, 1, 1]       6  3.203214\n",
      "9799     35270  c050101  [0, 1, 0, 0, 1, 0]       6  1.922689\n",
      "10054    35282  c050101     [1, 0, 0, 1, 1]       5  2.418569\n",
      "10098    35284  c050101        [1, 1, 0, 1]       4  2.421646\n",
      "...        ...      ...                 ...     ...       ...\n",
      "72819    50972  c050101  [0, 1, 0, 0, 1, 0]       6  1.922689\n",
      "72955    51022  c050101        [1, 0, 1, 0]       4  1.925253\n",
      "73615    51121  c050101     [1, 1, 1, 1, 0]       5  2.900697\n",
      "73659    51122  c050101  [0, 0, 0, 0, 0, 0]       6  0.001660\n",
      "74101    51179  c050101     [1, 0, 0, 0, 0]       5  0.991021\n",
      "74232    51203  c050101     [1, 0, 0, 1, 1]       5  2.418569\n",
      "74436    51247  c050101     [0, 0, 1, 1, 1]       5  2.211535\n",
      "74781    51297  c050101           [1, 1, 1]       3  2.327226\n",
      "75289    51951  c050101        [1, 1, 0, 1]       4  2.421646\n",
      "75461    51972  c050101     [0, 0, 1, 1, 1]       5  2.211535\n",
      "76113    52073  c050101           [0, 0, 1]       3  0.967628\n",
      "76301    52132  c050101        [0, 1, 1, 1]       4  2.250222\n",
      "76369    52154  c050101        [0, 1, 1, 0]       4  1.837261\n",
      "76634    52254  c050101  [0, 0, 0, 0, 0, 0]       6  0.001660\n",
      "77423    53406  c050101           [1, 1, 1]       3  2.327226\n",
      "77648    53594  c050101           [0, 0, 0]       3  0.000669\n",
      "78603    55003  c050101        [0, 0, 1, 0]       4  0.985619\n",
      "78991    55155  c050101     [1, 0, 1, 0, 0]       5  1.994118\n",
      "79451    55319  c050101        [1, 1, 0, 0]       4  1.968587\n",
      "80010    56193  c050101           [1, 1, 1]       3  2.327226\n",
      "80363    56578  c050101        [1, 0, 1, 1]       4  2.375662\n",
      "80428    56599  c050101  [1, 0, 1, 0, 0, 1]       6  2.561462\n",
      "80795    56884  c050101     [0, 0, 1, 0, 0]       5  0.997925\n",
      "80815    56886  c050101     [1, 0, 0, 1, 1]       5  2.418569\n",
      "80830    56887  c050101        [1, 1, 0, 1]       4  2.421646\n",
      "80848    56888  c050101     [0, 1, 0, 1, 1]       5  2.309864\n",
      "80864    56889  c050101  [1, 1, 0, 0, 0, 0]       6  2.096425\n",
      "81442    57662  c050101     [0, 1, 0, 0, 0]       5  0.998820\n",
      "81572    57837  c050101        [1, 0, 1, 1]       4  2.375662\n",
      "81612    57860  c050101     [1, 0, 0, 0, 1]       5  1.899140\n",
      "\n",
      "[197 rows x 5 columns]\n",
      "       user_id tag_code            is_right  length       ssr\n",
      "0        29110  c050101     [0, 0, 1, 0, 1]       5  1.799547\n",
      "561      29845  c050101        [1, 0, 1, 1]       4  2.455903\n",
      "699      29861  c050101        [1, 1, 0, 1]       4  2.491876\n",
      "1179     30411  c050101     [1, 0, 0, 0, 1]       5  1.902662\n",
      "1277     30525  c050101           [0, 0, 0]       3  0.000622\n",
      "3352     32576  c050101  [1, 1, 1, 1, 1, 0]       6  3.561494\n",
      "3556     32991  c050101     [0, 0, 1, 0, 1]       5  1.799547\n",
      "3604     33031  c050101        [1, 0, 1, 1]       4  2.455903\n",
      "4215     34006  c050101        [1, 0, 1, 0]       4  1.922526\n",
      "4265     34062  c050101           [1, 1, 0]       3  1.901852\n",
      "5217     34719  c050101     [0, 1, 1, 1, 1]       5  2.882848\n",
      "6455     34912  c050101        [0, 1, 1, 0]       4  1.852787\n",
      "6534     34916  c050101     [0, 1, 1, 0, 1]       5  2.420798\n",
      "6739     34920  c050101     [1, 0, 1, 1, 1]       5  2.991078\n",
      "6925     34924  c050101  [0, 1, 1, 1, 1, 1]       6  3.415787\n",
      "7099     34930  c050101     [0, 1, 1, 1, 1]       5  2.882848\n",
      "7188     34932  c050101  [1, 0, 1, 0, 1, 0]       6  2.597881\n",
      "7557     34951  c050101  [0, 1, 1, 1, 1, 0]       6  2.955734\n",
      "8268     35107  c050101     [1, 0, 1, 0, 1]       5  2.526101\n",
      "8515     35126  c050101        [1, 1, 0, 1]       4  2.491876\n",
      "8759     35163  c050101           [1, 1, 1]       3  2.420951\n",
      "9294     35211  c050101           [1, 1, 1]       3  2.420951\n",
      "9326     35214  c050101     [1, 0, 0, 0, 1]       5  1.902662\n",
      "9450     35261  c050101     [1, 1, 0, 1, 0]       5  2.563899\n",
      "9477     35266  c050101  [0, 1, 1, 0, 1, 0]       6  2.493185\n",
      "9532     35267  c050101     [1, 0, 0, 1, 1]       5  2.487611\n",
      "9723     35269  c050101  [0, 1, 1, 1, 1, 1]       6  3.415787\n",
      "9799     35270  c050101  [0, 1, 0, 0, 1, 0]       6  1.912885\n",
      "10054    35282  c050101     [1, 0, 0, 1, 1]       5  2.487611\n",
      "10098    35284  c050101        [1, 1, 0, 1]       4  2.491876\n",
      "...        ...      ...                 ...     ...       ...\n",
      "72819    50972  c050101  [0, 1, 0, 0, 1, 0]       6  1.912885\n",
      "72955    51022  c050101        [1, 0, 1, 0]       4  1.922526\n",
      "73615    51121  c050101     [1, 1, 1, 1, 0]       5  3.028505\n",
      "73659    51122  c050101  [0, 0, 0, 0, 0, 0]       6  0.001556\n",
      "74101    51179  c050101     [1, 0, 0, 0, 0]       5  0.987014\n",
      "74232    51203  c050101     [1, 0, 0, 1, 1]       5  2.487611\n",
      "74436    51247  c050101     [0, 0, 1, 1, 1]       5  2.311245\n",
      "74781    51297  c050101           [1, 1, 1]       3  2.420951\n",
      "75289    51951  c050101        [1, 1, 0, 1]       4  2.491876\n",
      "75461    51972  c050101     [0, 0, 1, 1, 1]       5  2.311245\n",
      "76113    52073  c050101           [0, 0, 1]       3  0.968818\n",
      "76301    52132  c050101        [0, 1, 1, 1]       4  2.348912\n",
      "76369    52154  c050101        [0, 1, 1, 0]       4  1.852787\n",
      "76634    52254  c050101  [0, 0, 0, 0, 0, 0]       6  0.001556\n",
      "77423    53406  c050101           [1, 1, 1]       3  2.420951\n",
      "77648    53594  c050101           [0, 0, 0]       3  0.000622\n",
      "78603    55003  c050101        [0, 0, 1, 0]       4  0.981319\n",
      "78991    55155  c050101     [1, 0, 1, 0, 0]       5  1.972300\n",
      "79451    55319  c050101        [1, 1, 0, 0]       4  1.955616\n",
      "80010    56193  c050101           [1, 1, 1]       3  2.420951\n",
      "80363    56578  c050101        [1, 0, 1, 1]       4  2.455903\n",
      "80428    56599  c050101  [1, 0, 1, 0, 0, 1]       6  2.595085\n",
      "80795    56884  c050101     [0, 0, 1, 0, 0]       5  0.990428\n",
      "80815    56886  c050101     [1, 0, 0, 1, 1]       5  2.487611\n",
      "80830    56887  c050101        [1, 1, 0, 1]       4  2.491876\n",
      "80848    56888  c050101     [0, 1, 0, 1, 1]       5  2.392230\n",
      "80864    56889  c050101  [1, 1, 0, 0, 0, 0]       6  2.048191\n",
      "81442    57662  c050101     [0, 1, 0, 0, 0]       5  0.991744\n",
      "81572    57837  c050101        [1, 0, 1, 1]       4  2.455903\n",
      "81612    57860  c050101     [1, 0, 0, 0, 1]       5  1.902662\n",
      "\n",
      "[197 rows x 5 columns]\n",
      "       user_id tag_code            is_right  length       ssr\n",
      "0        29110  c050101     [0, 0, 1, 0, 1]       5  1.825752\n",
      "561      29845  c050101        [1, 0, 1, 1]       4  2.540425\n",
      "699      29861  c050101        [1, 1, 0, 1]       4  2.567201\n",
      "1179     30411  c050101     [1, 0, 0, 0, 1]       5  1.908919\n",
      "1277     30525  c050101           [0, 0, 0]       3  0.000573\n",
      "3352     32576  c050101  [1, 1, 1, 1, 1, 0]       6  3.757988\n",
      "3556     32991  c050101     [0, 0, 1, 0, 1]       5  1.825752\n",
      "3604     33031  c050101        [1, 0, 1, 1]       4  2.540425\n",
      "4215     34006  c050101        [1, 0, 1, 0]       4  1.923399\n",
      "4265     34062  c050101           [1, 1, 0]       3  1.910932\n",
      "5217     34719  c050101     [0, 1, 1, 1, 1]       5  3.044724\n",
      "6455     34912  c050101        [0, 1, 1, 0]       4  1.870295\n",
      "6534     34916  c050101     [0, 1, 1, 0, 1]       5  2.502092\n",
      "6739     34920  c050101     [1, 0, 1, 1, 1]       5  3.136396\n",
      "6925     34924  c050101  [0, 1, 1, 1, 1, 1]       6  3.637687\n",
      "7099     34930  c050101     [0, 1, 1, 1, 1]       5  3.044724\n",
      "7188     34932  c050101  [1, 0, 1, 0, 1, 0]       6  2.642123\n",
      "7557     34951  c050101  [0, 1, 1, 1, 1, 0]       6  3.097605\n",
      "8268     35107  c050101     [1, 0, 1, 0, 1]       5  2.590376\n",
      "8515     35126  c050101        [1, 1, 0, 1]       4  2.567201\n",
      "8759     35163  c050101           [1, 1, 1]       3  2.516636\n",
      "9294     35211  c050101           [1, 1, 1]       3  2.516636\n",
      "9326     35214  c050101     [1, 0, 0, 0, 1]       5  1.908919\n",
      "9450     35261  c050101     [1, 1, 0, 1, 0]       5  2.619144\n",
      "9477     35266  c050101  [0, 1, 1, 0, 1, 0]       6  2.554442\n",
      "9532     35267  c050101     [1, 0, 0, 1, 1]       5  2.562381\n",
      "9723     35269  c050101  [0, 1, 1, 1, 1, 1]       6  3.637687\n",
      "9799     35270  c050101  [0, 1, 0, 0, 1, 0]       6  1.909571\n",
      "10054    35282  c050101     [1, 0, 0, 1, 1]       5  2.562381\n",
      "10098    35284  c050101        [1, 1, 0, 1]       4  2.567201\n",
      "...        ...      ...                 ...     ...       ...\n",
      "72819    50972  c050101  [0, 1, 0, 0, 1, 0]       6  1.909571\n",
      "72955    51022  c050101        [1, 0, 1, 0]       4  1.923399\n",
      "73615    51121  c050101     [1, 1, 1, 1, 0]       5  3.164946\n",
      "73659    51122  c050101  [0, 0, 0, 0, 0, 0]       6  0.001439\n",
      "74101    51179  c050101     [1, 0, 0, 0, 0]       5  0.983954\n",
      "74232    51203  c050101     [1, 0, 0, 1, 1]       5  2.562381\n",
      "74436    51247  c050101     [0, 0, 1, 1, 1]       5  2.414588\n",
      "74781    51297  c050101           [1, 1, 1]       3  2.516636\n",
      "75289    51951  c050101        [1, 1, 0, 1]       4  2.567201\n",
      "75461    51972  c050101     [0, 0, 1, 1, 1]       5  2.414588\n",
      "76113    52073  c050101           [0, 0, 1]       3  0.970147\n",
      "76301    52132  c050101        [0, 1, 1, 1]       4  2.450368\n",
      "76369    52154  c050101        [0, 1, 1, 0]       4  1.870295\n",
      "76634    52254  c050101  [0, 0, 0, 0, 0, 0]       6  0.001439\n",
      "77423    53406  c050101           [1, 1, 1]       3  2.516636\n",
      "77648    53594  c050101           [0, 0, 0]       3  0.000573\n",
      "78603    55003  c050101        [0, 0, 1, 0]       4  0.978288\n",
      "78991    55155  c050101     [1, 0, 1, 0, 0]       5  1.957003\n",
      "79451    55319  c050101        [1, 1, 0, 0]       4  1.946992\n",
      "80010    56193  c050101           [1, 1, 1]       3  2.516636\n",
      "80363    56578  c050101        [1, 0, 1, 1]       4  2.540425\n",
      "80428    56599  c050101  [1, 0, 1, 0, 0, 1]       6  2.639326\n",
      "80795    56884  c050101     [0, 0, 1, 0, 0]       5  0.984596\n",
      "80815    56886  c050101     [1, 0, 0, 1, 1]       5  2.562381\n",
      "80830    56887  c050101        [1, 1, 0, 1]       4  2.567201\n",
      "80848    56888  c050101     [0, 1, 0, 1, 1]       5  2.480184\n",
      "80864    56889  c050101  [1, 1, 0, 0, 0, 0]       6  2.009477\n",
      "81442    57662  c050101     [0, 1, 0, 0, 0]       5  0.986205\n",
      "81572    57837  c050101        [1, 0, 1, 1]       4  2.540425\n",
      "81612    57860  c050101     [1, 0, 0, 0, 1]       5  1.908919\n",
      "\n"
     ]
    },
    {
     "name": "stdout",
     "output_type": "stream",
     "text": [
      "[197 rows x 5 columns]\n",
      "       user_id tag_code            is_right  length       ssr\n",
      "0        29110  c050101     [0, 0, 1, 0, 1]       5  1.853923\n",
      "561      29845  c050101        [1, 0, 1, 1]       4  2.628435\n",
      "699      29861  c050101        [1, 1, 0, 1]       4  2.647186\n",
      "1179     30411  c050101     [1, 0, 0, 0, 1]       5  1.917453\n",
      "1277     30525  c050101           [0, 0, 0]       3  0.000524\n",
      "3352     32576  c050101  [1, 1, 1, 1, 1, 0]       6  3.966168\n",
      "3556     32991  c050101     [0, 0, 1, 0, 1]       5  1.853923\n",
      "3604     33031  c050101        [1, 0, 1, 1]       4  2.628435\n",
      "4215     34006  c050101        [1, 0, 1, 0]       4  1.927335\n",
      "4265     34062  c050101           [1, 1, 0]       3  1.920739\n",
      "5217     34719  c050101     [0, 1, 1, 1, 1]       5  3.212376\n",
      "6455     34912  c050101        [0, 1, 1, 0]       4  1.889116\n",
      "6534     34916  c050101     [0, 1, 1, 0, 1]       5  2.588834\n",
      "6739     34920  c050101     [1, 0, 1, 1, 1]       5  3.288894\n",
      "6925     34924  c050101  [0, 1, 1, 1, 1, 1]       6  3.868589\n",
      "7099     34930  c050101     [0, 1, 1, 1, 1]       5  3.212376\n",
      "7188     34932  c050101  [1, 0, 1, 0, 1, 0]       6  2.696199\n",
      "7557     34951  c050101  [0, 1, 1, 1, 1, 0]       6  3.248450\n",
      "8268     35107  c050101     [1, 0, 1, 0, 1]       5  2.661315\n",
      "8515     35126  c050101        [1, 1, 0, 1]       4  2.647186\n",
      "8759     35163  c050101           [1, 1, 1]       3  2.613843\n",
      "9294     35211  c050101           [1, 1, 1]       3  2.613843\n",
      "9326     35214  c050101     [1, 0, 0, 0, 1]       5  1.917453\n",
      "9450     35261  c050101     [1, 1, 0, 1, 0]       5  2.682216\n",
      "9477     35266  c050101  [0, 1, 1, 0, 1, 0]       6  2.624327\n",
      "9532     35267  c050101     [1, 0, 0, 1, 1]       5  2.642014\n",
      "9723     35269  c050101  [0, 1, 1, 1, 1, 1]       6  3.868589\n",
      "9799     35270  c050101  [0, 1, 0, 0, 1, 0]       6  1.912152\n",
      "10054    35282  c050101     [1, 0, 0, 1, 1]       5  2.642014\n",
      "10098    35284  c050101        [1, 1, 0, 1]       4  2.647186\n",
      "...        ...      ...                 ...     ...       ...\n",
      "72819    50972  c050101  [0, 1, 0, 0, 1, 0]       6  1.912152\n",
      "72955    51022  c050101        [1, 0, 1, 0]       4  1.927335\n",
      "73615    51121  c050101     [1, 1, 1, 1, 0]       5  3.309822\n",
      "73659    51122  c050101  [0, 0, 0, 0, 0, 0]       6  0.001309\n",
      "74101    51179  c050101     [1, 0, 0, 0, 0]       5  0.981796\n",
      "74232    51203  c050101     [1, 0, 0, 1, 1]       5  2.642014\n",
      "74436    51247  c050101     [0, 0, 1, 1, 1]       5  2.521091\n",
      "74781    51297  c050101           [1, 1, 1]       3  2.613843\n",
      "75289    51951  c050101        [1, 1, 0, 1]       4  2.647186\n",
      "75461    51972  c050101     [0, 0, 1, 1, 1]       5  2.521091\n",
      "76113    52073  c050101           [0, 0, 1]       3  0.971624\n",
      "76301    52132  c050101        [0, 1, 1, 1]       4  2.554120\n",
      "76369    52154  c050101        [0, 1, 1, 0]       4  1.889116\n",
      "76634    52254  c050101  [0, 0, 0, 0, 0, 0]       6  0.001309\n",
      "77423    53406  c050101           [1, 1, 1]       3  2.613843\n",
      "77648    53594  c050101           [0, 0, 0]       3  0.000524\n",
      "78603    55003  c050101        [0, 0, 1, 0]       4  0.976486\n",
      "78991    55155  c050101     [1, 0, 1, 0, 0]       5  1.947863\n",
      "79451    55319  c050101        [1, 1, 0, 0]       4  1.942549\n",
      "80010    56193  c050101           [1, 1, 1]       3  2.613843\n",
      "80363    56578  c050101        [1, 0, 1, 1]       4  2.628435\n",
      "80428    56599  c050101  [1, 0, 1, 0, 0, 1]       6  2.693418\n",
      "80795    56884  c050101     [0, 0, 1, 0, 0]       5  0.980491\n",
      "80815    56886  c050101     [1, 0, 0, 1, 1]       5  2.642014\n",
      "80830    56887  c050101        [1, 1, 0, 1]       4  2.647186\n",
      "80848    56888  c050101     [0, 1, 0, 1, 1]       5  2.573068\n",
      "80864    56889  c050101  [1, 1, 0, 0, 0, 0]       6  1.980603\n",
      "81442    57662  c050101     [0, 1, 0, 0, 0]       5  0.982241\n",
      "81572    57837  c050101        [1, 0, 1, 1]       4  2.628435\n",
      "81612    57860  c050101     [1, 0, 0, 0, 1]       5  1.917453\n",
      "\n",
      "[197 rows x 5 columns]\n",
      "       user_id tag_code            is_right  length       ssr\n",
      "0        29110  c050101     [0, 0, 1, 0, 1]       5  1.882994\n",
      "561      29845  c050101        [1, 0, 1, 1]       4  2.718420\n",
      "699      29861  c050101        [1, 1, 0, 1]       4  2.730702\n",
      "1179     30411  c050101     [1, 0, 0, 0, 1]       5  1.927621\n",
      "1277     30525  c050101           [0, 0, 0]       3  0.000474\n",
      "3352     32576  c050101  [1, 1, 1, 1, 1, 0]       6  4.185491\n",
      "3556     32991  c050101     [0, 0, 1, 0, 1]       5  1.882994\n",
      "3604     33031  c050101        [1, 0, 1, 1]       4  2.718420\n",
      "4215     34006  c050101        [1, 0, 1, 0]       4  1.933750\n",
      "4265     34062  c050101           [1, 1, 0]       3  1.930989\n",
      "5217     34719  c050101     [0, 1, 1, 1, 1]       5  3.385362\n",
      "6455     34912  c050101        [0, 1, 1, 0]       4  1.908440\n",
      "6534     34916  c050101     [0, 1, 1, 0, 1]       5  2.680258\n",
      "6739     34920  c050101     [1, 0, 1, 1, 1]       5  3.447553\n",
      "6925     34924  c050101  [0, 1, 1, 1, 1, 1]       6  4.108092\n",
      "7099     34930  c050101     [0, 1, 1, 1, 1]       5  3.385362\n",
      "7188     34932  c050101  [1, 0, 1, 0, 1, 0]       6  2.758646\n",
      "7557     34951  c050101  [0, 1, 1, 1, 1, 0]       6  3.407821\n",
      "8268     35107  c050101     [1, 0, 1, 0, 1]       5  2.737461\n",
      "8515     35126  c050101        [1, 1, 0, 1]       4  2.730702\n",
      "8759     35163  c050101           [1, 1, 1]       3  2.711402\n",
      "9294     35211  c050101           [1, 1, 1]       3  2.711402\n",
      "9326     35214  c050101     [1, 0, 0, 0, 1]       5  1.927621\n",
      "9450     35261  c050101     [1, 1, 0, 1, 0]       5  2.751976\n",
      "9477     35266  c050101  [0, 1, 1, 0, 1, 0]       6  2.702066\n",
      "9532     35267  c050101     [1, 0, 0, 1, 1]       5  2.724944\n",
      "9723     35269  c050101  [0, 1, 1, 1, 1, 1]       6  4.108092\n",
      "9799     35270  c050101  [0, 1, 0, 0, 1, 0]       6  1.919763\n",
      "10054    35282  c050101     [1, 0, 0, 1, 1]       5  2.724944\n",
      "10098    35284  c050101        [1, 1, 0, 1]       4  2.730702\n",
      "...        ...      ...                 ...     ...       ...\n",
      "72819    50972  c050101  [0, 1, 0, 0, 1, 0]       6  1.919763\n",
      "72955    51022  c050101        [1, 0, 1, 0]       4  1.933750\n",
      "73615    51121  c050101     [1, 1, 1, 1, 0]       5  3.462505\n",
      "73659    51122  c050101  [0, 0, 0, 0, 0, 0]       6  0.001167\n",
      "74101    51179  c050101     [1, 0, 0, 0, 0]       5  0.980463\n",
      "74232    51203  c050101     [1, 0, 0, 1, 1]       5  2.724944\n",
      "74436    51247  c050101     [0, 0, 1, 1, 1]       5  2.630037\n",
      "74781    51297  c050101           [1, 1, 1]       3  2.711402\n",
      "75289    51951  c050101        [1, 1, 0, 1]       4  2.730702\n",
      "75461    51972  c050101     [0, 0, 1, 1, 1]       5  2.630037\n",
      "76113    52073  c050101           [0, 0, 1]       3  0.973256\n",
      "76301    52132  c050101        [0, 1, 1, 1]       4  2.659413\n",
      "76369    52154  c050101        [0, 1, 1, 0]       4  1.908440\n",
      "76634    52254  c050101  [0, 0, 0, 0, 0, 0]       6  0.001167\n",
      "77423    53406  c050101           [1, 1, 1]       3  2.711402\n",
      "77648    53594  c050101           [0, 0, 0]       3  0.000474\n",
      "78603    55003  c050101        [0, 0, 1, 0]       4  0.975835\n",
      "78991    55155  c050101     [1, 0, 1, 0, 0]       5  1.944462\n",
      "79451    55319  c050101        [1, 1, 0, 0]       4  1.942169\n",
      "80010    56193  c050101           [1, 1, 1]       3  2.711402\n",
      "80363    56578  c050101        [1, 0, 1, 1]       4  2.718420\n",
      "80428    56599  c050101  [1, 0, 1, 0, 0, 1]       6  2.755967\n",
      "80795    56884  c050101     [0, 0, 1, 0, 0]       5  0.978096\n",
      "80815    56886  c050101     [1, 0, 0, 1, 1]       5  2.724944\n",
      "80830    56887  c050101        [1, 1, 0, 1]       4  2.730702\n",
      "80848    56888  c050101     [0, 1, 0, 1, 1]       5  2.669858\n",
      "80864    56889  c050101  [1, 1, 0, 0, 0, 0]       6  1.961892\n",
      "81442    57662  c050101     [0, 1, 0, 0, 0]       5  0.979810\n",
      "81572    57837  c050101        [1, 0, 1, 1]       4  2.718420\n",
      "81612    57860  c050101     [1, 0, 0, 0, 1]       5  1.927621\n",
      "\n",
      "[197 rows x 5 columns]\n",
      "       user_id tag_code            is_right  length       ssr\n",
      "0        29110  c050101     [0, 0, 1, 0, 1]       5  1.911406\n",
      "561      29845  c050101        [1, 0, 1, 1]       4  2.806804\n",
      "699      29861  c050101        [1, 1, 0, 1]       4  2.814408\n",
      "1179     30411  c050101     [1, 0, 0, 0, 1]       5  1.938545\n",
      "1277     30525  c050101           [0, 0, 0]       3  0.000423\n",
      "3352     32576  c050101  [1, 1, 1, 1, 1, 0]       6  4.414108\n",
      "3556     32991  c050101     [0, 0, 1, 0, 1]       5  1.911406\n",
      "3604     33031  c050101        [1, 0, 1, 1]       4  2.806804\n",
      "4215     34006  c050101        [1, 0, 1, 0]       4  1.941938\n",
      "4265     34062  c050101           [1, 1, 0]       3  1.941354\n",
      "5217     34719  c050101     [0, 1, 1, 1, 1]       5  3.562686\n",
      "6455     34912  c050101        [0, 1, 1, 0]       4  1.927281\n",
      "6534     34916  c050101     [0, 1, 1, 0, 1]       5  2.774546\n",
      "6739     34920  c050101     [1, 0, 1, 1, 1]       5  3.610010\n",
      "6925     34924  c050101  [0, 1, 1, 1, 1, 1]       6  4.355360\n",
      "7099     34930  c050101     [0, 1, 1, 1, 1]       5  3.562686\n",
      "7188     34932  c050101  [1, 0, 1, 0, 1, 0]       6  2.826080\n",
      "7557     34951  c050101  [0, 1, 1, 1, 1, 0]       6  3.574715\n",
      "8268     35107  c050101     [1, 0, 1, 0, 1]       5  2.815420\n",
      "8515     35126  c050101        [1, 1, 0, 1]       4  2.814408\n",
      "8759     35163  c050101           [1, 1, 1]       3  2.805764\n",
      "9294     35211  c050101           [1, 1, 1]       3  2.805764\n",
      "9326     35214  c050101     [1, 0, 0, 0, 1]       5  1.938545\n",
      "9450     35261  c050101     [1, 1, 0, 1, 0]       5  2.825080\n",
      "9477     35266  c050101  [0, 1, 1, 0, 1, 0]       6  2.785826\n",
      "9532     35267  c050101     [1, 0, 0, 1, 1]       5  2.807789\n",
      "9723     35269  c050101  [0, 1, 1, 1, 1, 1]       6  4.355360\n",
      "9799     35270  c050101  [0, 1, 0, 0, 1, 0]       6  1.931179\n",
      "10054    35282  c050101     [1, 0, 0, 1, 1]       5  2.807789\n",
      "10098    35284  c050101        [1, 1, 0, 1]       4  2.814408\n",
      "...        ...      ...                 ...     ...       ...\n",
      "72819    50972  c050101  [0, 1, 0, 0, 1, 0]       6  1.931179\n",
      "72955    51022  c050101        [1, 0, 1, 0]       4  1.941938\n",
      "73615    51121  c050101     [1, 1, 1, 1, 0]       5  3.620844\n",
      "73659    51122  c050101  [0, 0, 0, 0, 0, 0]       6  0.001013\n",
      "74101    51179  c050101     [1, 0, 0, 0, 0]       5  0.979847\n",
      "74232    51203  c050101     [1, 0, 0, 1, 1]       5  2.807789\n",
      "74436    51247  c050101     [0, 0, 1, 1, 1]       5  2.739975\n",
      "74781    51297  c050101           [1, 1, 1]       3  2.805764\n",
      "75289    51951  c050101        [1, 1, 0, 1]       4  2.814408\n",
      "75461    51972  c050101     [0, 0, 1, 1, 1]       5  2.739975\n",
      "76113    52073  c050101           [0, 0, 1]       3  0.975051\n",
      "76301    52132  c050101        [0, 1, 1, 1]       4  2.764395\n",
      "76369    52154  c050101        [0, 1, 1, 0]       4  1.927281\n",
      "76634    52254  c050101  [0, 0, 0, 0, 0, 0]       6  0.001013\n",
      "77423    53406  c050101           [1, 1, 1]       3  2.805764\n",
      "77648    53594  c050101           [0, 0, 0]       3  0.000423\n",
      "78603    55003  c050101        [0, 0, 1, 0]       4  0.976211\n",
      "78991    55155  c050101     [1, 0, 1, 0, 0]       5  1.946215\n",
      "79451    55319  c050101        [1, 1, 0, 0]       4  1.945661\n",
      "80010    56193  c050101           [1, 1, 1]       3  2.805764\n",
      "80363    56578  c050101        [1, 0, 1, 1]       4  2.806804\n",
      "80428    56599  c050101  [1, 0, 1, 0, 0, 1]       6  2.823760\n",
      "80795    56884  c050101     [0, 0, 1, 0, 0]       5  0.977296\n",
      "80815    56886  c050101     [1, 0, 0, 1, 1]       5  2.807789\n",
      "80830    56887  c050101        [1, 1, 0, 1]       4  2.814408\n",
      "80848    56888  c050101     [0, 1, 0, 1, 1]       5  2.768384\n",
      "80864    56889  c050101  [1, 1, 0, 0, 0, 0]       6  1.953444\n",
      "81442    57662  c050101     [0, 1, 0, 0, 0]       5  0.978771\n",
      "81572    57837  c050101        [1, 0, 1, 1]       4  2.806804\n",
      "81612    57860  c050101     [1, 0, 0, 0, 1]       5  1.938545\n",
      "\n"
     ]
    },
    {
     "name": "stdout",
     "output_type": "stream",
     "text": [
      "[197 rows x 5 columns]\n",
      "       user_id tag_code            is_right  length       ssr\n",
      "0        29110  c050101     [0, 0, 1, 0, 1]       5  1.936806\n",
      "561      29845  c050101        [1, 0, 1, 1]       4  2.884480\n",
      "699      29861  c050101        [1, 1, 0, 1]       4  2.888716\n",
      "1179     30411  c050101     [1, 0, 0, 0, 1]       5  1.949055\n",
      "1277     30525  c050101           [0, 0, 0]       3  0.000373\n",
      "3352     32576  c050101  [1, 1, 1, 1, 1, 0]       6  4.646860\n",
      "3556     32991  c050101     [0, 0, 1, 0, 1]       5  1.936806\n",
      "3604     33031  c050101        [1, 0, 1, 1]       4  2.884480\n",
      "4215     34006  c050101        [1, 0, 1, 0]       4  1.950792\n",
      "4265     34062  c050101           [1, 1, 0]       3  1.951114\n",
      "5217     34719  c050101     [0, 1, 1, 1, 1]       5  3.740427\n",
      "6455     34912  c050101        [0, 1, 1, 0]       4  1.944326\n",
      "6534     34916  c050101     [0, 1, 1, 0, 1]       5  2.865318\n",
      "6739     34920  c050101     [1, 0, 1, 1, 1]       5  3.769964\n",
      "6925     34924  c050101  [0, 1, 1, 1, 1, 1]       6  4.607381\n",
      "7099     34930  c050101     [0, 1, 1, 1, 1]       5  3.740427\n",
      "7188     34932  c050101  [1, 0, 1, 0, 1, 0]       6  2.889999\n",
      "7557     34951  c050101  [0, 1, 1, 1, 1, 0]       6  3.745173\n",
      "8268     35107  c050101     [1, 0, 1, 0, 1]       5  2.886556\n",
      "8515     35126  c050101        [1, 1, 0, 1]       4  2.888716\n",
      "8759     35163  c050101           [1, 1, 1]       3  2.886751\n",
      "9294     35211  c050101           [1, 1, 1]       3  2.886751\n",
      "9326     35214  c050101     [1, 0, 0, 0, 1]       5  1.949055\n",
      "9450     35261  c050101     [1, 1, 0, 1, 0]       5  2.892084\n",
      "9477     35266  c050101  [0, 1, 1, 0, 1, 0]       6  2.869251\n",
      "9532     35267  c050101     [1, 0, 0, 1, 1]       5  2.882441\n",
      "9723     35269  c050101  [0, 1, 1, 1, 1, 1]       6  4.607381\n",
      "9799     35270  c050101  [0, 1, 0, 0, 1, 0]       6  1.944575\n",
      "10054    35282  c050101     [1, 0, 0, 1, 1]       5  2.882441\n",
      "10098    35284  c050101        [1, 1, 0, 1]       4  2.888716\n",
      "...        ...      ...                 ...     ...       ...\n",
      "72819    50972  c050101  [0, 1, 0, 0, 1, 0]       6  1.944575\n",
      "72955    51022  c050101        [1, 0, 1, 0]       4  1.950792\n",
      "73615    51121  c050101     [1, 1, 1, 1, 0]       5  3.778053\n",
      "73659    51122  c050101  [0, 0, 0, 0, 0, 0]       6  0.000850\n",
      "74101    51179  c050101     [1, 0, 0, 0, 0]       5  0.979808\n",
      "74232    51203  c050101     [1, 0, 0, 1, 1]       5  2.882441\n",
      "74436    51247  c050101     [0, 0, 1, 1, 1]       5  2.846064\n",
      "74781    51297  c050101           [1, 1, 1]       3  2.886751\n",
      "75289    51951  c050101        [1, 1, 0, 1]       4  2.888716\n",
      "75461    51972  c050101     [0, 0, 1, 1, 1]       5  2.846064\n",
      "76113    52073  c050101           [0, 0, 1]       3  0.977016\n",
      "76301    52132  c050101        [0, 1, 1, 1]       4  2.862418\n",
      "76369    52154  c050101        [0, 1, 1, 0]       4  1.944326\n",
      "76634    52254  c050101  [0, 0, 0, 0, 0, 0]       6  0.000850\n",
      "77423    53406  c050101           [1, 1, 1]       3  2.886751\n",
      "77648    53594  c050101           [0, 0, 0]       3  0.000373\n",
      "78603    55003  c050101        [0, 0, 1, 0]       4  0.977439\n",
      "78991    55155  c050101     [1, 0, 1, 0, 0]       5  1.951858\n",
      "79451    55319  c050101        [1, 1, 0, 0]       4  1.952119\n",
      "80010    56193  c050101           [1, 1, 1]       3  2.886751\n",
      "80363    56578  c050101        [1, 0, 1, 1]       4  2.884480\n",
      "80428    56599  c050101  [1, 0, 1, 0, 0, 1]       6  2.888575\n",
      "80795    56884  c050101     [0, 0, 1, 0, 0]       5  0.977860\n",
      "80815    56886  c050101     [1, 0, 0, 1, 1]       5  2.882441\n",
      "80830    56887  c050101        [1, 1, 0, 1]       4  2.888716\n",
      "80848    56888  c050101     [0, 1, 0, 1, 1]       5  2.862047\n",
      "80864    56889  c050101  [1, 1, 0, 0, 0, 0]       6  1.954042\n",
      "81442    57662  c050101     [0, 1, 0, 0, 0]       5  0.978882\n",
      "81572    57837  c050101        [1, 0, 1, 1]       4  2.884480\n",
      "81612    57860  c050101     [1, 0, 0, 0, 1]       5  1.949055\n",
      "\n",
      "[197 rows x 5 columns]\n",
      "       user_id tag_code            is_right  length       ssr\n",
      "0        29110  c050101     [0, 0, 1, 0, 1]       5  1.955478\n",
      "561      29845  c050101        [1, 0, 1, 1]       4  2.932585\n",
      "699      29861  c050101        [1, 1, 0, 1]       4  2.933585\n",
      "1179     30411  c050101     [1, 0, 0, 0, 1]       5  1.957594\n",
      "1277     30525  c050101           [0, 0, 0]       3  0.000324\n",
      "3352     32576  c050101  [1, 1, 1, 1, 1, 0]       6  4.860995\n",
      "3556     32991  c050101     [0, 0, 1, 0, 1]       5  1.955478\n",
      "3604     33031  c050101        [1, 0, 1, 1]       4  2.932585\n",
      "4215     34006  c050101        [1, 0, 1, 0]       4  1.958185\n",
      "4265     34062  c050101           [1, 1, 0]       3  1.958408\n",
      "5217     34719  c050101     [0, 1, 1, 1, 1]       5  3.893695\n",
      "6455     34912  c050101        [0, 1, 1, 0]       4  1.957087\n",
      "6534     34916  c050101     [0, 1, 1, 0, 1]       5  2.929717\n",
      "6739     34920  c050101     [1, 0, 1, 1, 1]       5  3.899469\n",
      "6925     34924  c050101  [0, 1, 1, 1, 1, 1]       6  4.847115\n",
      "7099     34930  c050101     [0, 1, 1, 1, 1]       5  3.893695\n",
      "7188     34932  c050101  [1, 0, 1, 0, 1, 0]       6  2.932791\n",
      "7557     34951  c050101  [0, 1, 1, 1, 1, 0]       6  3.894250\n",
      "8268     35107  c050101     [1, 0, 1, 0, 1]       5  2.932505\n",
      "8515     35126  c050101        [1, 1, 0, 1]       4  2.933585\n",
      "8759     35163  c050101           [1, 1, 1]       3  2.933698\n",
      "9294     35211  c050101           [1, 1, 1]       3  2.933698\n",
      "9326     35214  c050101     [1, 0, 0, 0, 1]       5  1.957594\n",
      "9450     35261  c050101     [1, 1, 0, 1, 0]       5  2.933845\n",
      "9477     35266  c050101  [0, 1, 1, 0, 1, 0]       6  2.930054\n",
      "9532     35267  c050101     [1, 0, 0, 1, 1]       5  2.931537\n",
      "9723     35269  c050101  [0, 1, 1, 1, 1, 1]       6  4.847115\n",
      "9799     35270  c050101  [0, 1, 0, 0, 1, 0]       6  1.956736\n",
      "10054    35282  c050101     [1, 0, 0, 1, 1]       5  2.931537\n",
      "10098    35284  c050101        [1, 1, 0, 1]       4  2.933585\n",
      "...        ...      ...                 ...     ...       ...\n",
      "72819    50972  c050101  [0, 1, 0, 0, 1, 0]       6  1.956736\n",
      "72955    51022  c050101        [1, 0, 1, 0]       4  1.958185\n",
      "73615    51121  c050101     [1, 1, 1, 1, 0]       5  3.902676\n",
      "73659    51122  c050101  [0, 0, 0, 0, 0, 0]       6  0.000683\n",
      "74101    51179  c050101     [1, 0, 0, 0, 0]       5  0.980192\n",
      "74232    51203  c050101     [1, 0, 0, 1, 1]       5  2.931537\n",
      "74436    51247  c050101     [0, 0, 1, 1, 1]       5  2.926242\n",
      "74781    51297  c050101           [1, 1, 1]       3  2.933698\n",
      "75289    51951  c050101        [1, 1, 0, 1]       4  2.933585\n",
      "75461    51972  c050101     [0, 0, 1, 1, 1]       5  2.926242\n",
      "76113    52073  c050101           [0, 0, 1]       3  0.979159\n",
      "76301    52132  c050101        [0, 1, 1, 1]       4  2.929733\n",
      "76369    52154  c050101        [0, 1, 1, 0]       4  1.957087\n",
      "76634    52254  c050101  [0, 0, 0, 0, 0, 0]       6  0.000683\n",
      "77423    53406  c050101           [1, 1, 1]       3  2.933698\n",
      "77648    53594  c050101           [0, 0, 0]       3  0.000324\n",
      "78603    55003  c050101        [0, 0, 1, 0]       4  0.979299\n",
      "78991    55155  c050101     [1, 0, 1, 0, 0]       5  1.958352\n",
      "79451    55319  c050101        [1, 1, 0, 0]       4  1.958564\n",
      "80010    56193  c050101           [1, 1, 1]       3  2.933698\n",
      "80363    56578  c050101        [1, 0, 1, 1]       4  2.932585\n",
      "80428    56599  c050101  [1, 0, 1, 0, 0, 1]       6  2.932433\n",
      "80795    56884  c050101     [0, 0, 1, 0, 0]       5  0.979443\n",
      "80815    56886  c050101     [1, 0, 0, 1, 1]       5  2.931537\n",
      "80830    56887  c050101        [1, 1, 0, 1]       4  2.933585\n",
      "80848    56888  c050101     [0, 1, 0, 1, 1]       5  2.928812\n",
      "80864    56889  c050101  [1, 1, 0, 0, 0, 0]       6  1.958886\n",
      "81442    57662  c050101     [0, 1, 0, 0, 0]       5  0.979820\n",
      "81572    57837  c050101        [1, 0, 1, 1]       4  2.932585\n",
      "81612    57860  c050101     [1, 0, 0, 0, 1]       5  1.957594\n",
      "\n",
      "[197 rows x 5 columns]\n",
      "       user_id tag_code            is_right  length       ssr\n",
      "0        29110  c050101     [0, 0, 1, 0, 1]       5  1.819008\n",
      "561      29845  c050101        [1, 0, 1, 1]       4  2.385644\n",
      "699      29861  c050101        [1, 1, 0, 1]       4  2.970833\n",
      "1179     30411  c050101     [1, 0, 0, 0, 1]       5  1.822600\n",
      "1277     30525  c050101           [0, 0, 0]       3  0.010609\n",
      "3352     32576  c050101  [1, 1, 1, 1, 1, 0]       6  2.518039\n",
      "3556     32991  c050101     [0, 0, 1, 0, 1]       5  1.819008\n",
      "3604     33031  c050101        [1, 0, 1, 1]       4  2.385644\n",
      "4215     34006  c050101        [1, 0, 1, 0]       4  1.870292\n",
      "4265     34062  c050101           [1, 1, 0]       3  2.159522\n",
      "5217     34719  c050101     [0, 1, 1, 1, 1]       5  1.538521\n",
      "6455     34912  c050101        [0, 1, 1, 0]       4  2.163068\n",
      "6534     34916  c050101     [0, 1, 1, 0, 1]       5  2.973685\n",
      "6739     34920  c050101     [1, 0, 1, 1, 1]       5  2.412124\n",
      "6925     34924  c050101  [0, 1, 1, 1, 1, 1]       6  1.538632\n",
      "7099     34930  c050101     [0, 1, 1, 1, 1]       5  1.538521\n",
      "7188     34932  c050101  [1, 0, 1, 0, 1, 0]       6  2.811796\n",
      "7557     34951  c050101  [0, 1, 1, 1, 1, 0]       6  2.517539\n",
      "8268     35107  c050101     [1, 0, 1, 0, 1]       5  2.750299\n",
      "8515     35126  c050101        [1, 1, 0, 1]       4  2.970833\n",
      "8759     35163  c050101           [1, 1, 1]       3  1.537445\n",
      "9294     35211  c050101           [1, 1, 1]       3  1.537445\n",
      "9326     35214  c050101     [1, 0, 0, 0, 1]       5  1.822600\n",
      "9450     35261  c050101     [1, 1, 0, 1, 0]       5  3.268792\n",
      "9477     35266  c050101  [0, 1, 1, 0, 1, 0]       6  3.273732\n",
      "9532     35267  c050101     [1, 0, 0, 1, 1]       5  2.433396\n",
      "9723     35269  c050101  [0, 1, 1, 1, 1, 1]       6  1.538632\n",
      "9799     35270  c050101  [0, 1, 0, 0, 1, 0]       6  1.869687\n",
      "10054    35282  c050101     [1, 0, 0, 1, 1]       5  2.433396\n",
      "10098    35284  c050101        [1, 1, 0, 1]       4  2.970833\n",
      "...        ...      ...                 ...     ...       ...\n",
      "72819    50972  c050101  [0, 1, 0, 0, 1, 0]       6  1.869687\n",
      "72955    51022  c050101        [1, 0, 1, 0]       4  1.870292\n",
      "73615    51121  c050101     [1, 1, 1, 1, 0]       5  2.516890\n",
      "73659    51122  c050101  [0, 0, 0, 0, 0, 0]       6  0.021229\n",
      "74101    51179  c050101     [1, 0, 0, 0, 0]       5  0.941601\n",
      "74232    51203  c050101     [1, 0, 0, 1, 1]       5  2.433396\n",
      "74436    51247  c050101     [0, 0, 1, 1, 1]       5  1.541597\n",
      "74781    51297  c050101           [1, 1, 1]       3  1.537445\n",
      "75289    51951  c050101        [1, 1, 0, 1]       4  2.970833\n",
      "75461    51972  c050101     [0, 0, 1, 1, 1]       5  1.541597\n",
      "76113    52073  c050101           [0, 0, 1]       3  0.891609\n",
      "76301    52132  c050101        [0, 1, 1, 1]       4  1.538087\n",
      "76369    52154  c050101        [0, 1, 1, 0]       4  2.163068\n",
      "76634    52254  c050101  [0, 0, 0, 0, 0, 0]       6  0.021229\n",
      "77423    53406  c050101           [1, 1, 1]       3  1.537445\n",
      "77648    53594  c050101           [0, 0, 0]       3  0.010609\n",
      "78603    55003  c050101        [0, 0, 1, 0]       4  0.938216\n",
      "78991    55155  c050101     [1, 0, 1, 0, 0]       5  1.874125\n",
      "79451    55319  c050101        [1, 1, 0, 0]       4  2.169377\n",
      "80010    56193  c050101           [1, 1, 1]       3  1.537445\n",
      "80363    56578  c050101        [1, 0, 1, 1]       4  2.385644\n",
      "80428    56599  c050101  [1, 0, 1, 0, 0, 1]       6  2.758617\n",
      "80795    56884  c050101     [0, 0, 1, 0, 0]       5  0.941997\n",
      "80815    56886  c050101     [1, 0, 0, 1, 1]       5  2.433396\n",
      "80830    56887  c050101        [1, 1, 0, 1]       4  2.970833\n",
      "80848    56888  c050101     [0, 1, 0, 1, 1]       5  2.389126\n",
      "80864    56889  c050101  [1, 1, 0, 0, 0, 0]       6  2.176511\n",
      "81442    57662  c050101     [0, 1, 0, 0, 0]       5  0.941996\n",
      "81572    57837  c050101        [1, 0, 1, 1]       4  2.385644\n",
      "81612    57860  c050101     [1, 0, 0, 0, 1]       5  1.822600\n",
      "\n"
     ]
    },
    {
     "name": "stdout",
     "output_type": "stream",
     "text": [
      "[197 rows x 5 columns]\n",
      "       user_id tag_code            is_right  length       ssr\n",
      "0        29110  c050101     [0, 0, 1, 0, 1]       5  1.802136\n",
      "561      29845  c050101        [1, 0, 1, 1]       4  2.266708\n",
      "699      29861  c050101        [1, 1, 0, 1]       4  2.731880\n",
      "1179     30411  c050101     [1, 0, 0, 0, 1]       5  1.819251\n",
      "1277     30525  c050101           [0, 0, 0]       3  0.010558\n",
      "3352     32576  c050101  [1, 1, 1, 1, 1, 0]       6  2.484538\n",
      "3556     32991  c050101     [0, 0, 1, 0, 1]       5  1.802136\n",
      "3604     33031  c050101        [1, 0, 1, 1]       4  2.266708\n",
      "4215     34006  c050101        [1, 0, 1, 0]       4  1.891974\n",
      "4265     34062  c050101           [1, 1, 0]       3  2.110197\n",
      "5217     34719  c050101     [0, 1, 1, 1, 1]       5  1.568743\n",
      "6455     34912  c050101        [0, 1, 1, 0]       4  2.113586\n",
      "6534     34916  c050101     [0, 1, 1, 0, 1]       5  2.725347\n",
      "6739     34920  c050101     [1, 0, 1, 1, 1]       5  2.289484\n",
      "6925     34924  c050101  [0, 1, 1, 1, 1, 1]       6  1.571303\n",
      "7099     34930  c050101     [0, 1, 1, 1, 1]       5  1.568743\n",
      "7188     34932  c050101  [1, 0, 1, 0, 1, 0]       6  2.898989\n",
      "7557     34951  c050101  [0, 1, 1, 1, 1, 0]       6  2.470118\n",
      "8268     35107  c050101     [1, 0, 1, 0, 1]       5  2.742218\n",
      "8515     35126  c050101        [1, 1, 0, 1]       4  2.731880\n",
      "8759     35163  c050101           [1, 1, 1]       3  1.575719\n",
      "9294     35211  c050101           [1, 1, 1]       3  1.575719\n",
      "9326     35214  c050101     [1, 0, 0, 0, 1]       5  1.819251\n",
      "9450     35261  c050101     [1, 1, 0, 1, 0]       5  3.335908\n",
      "9477     35266  c050101  [0, 1, 1, 0, 1, 0]       6  3.339437\n",
      "9532     35267  c050101     [1, 0, 0, 1, 1]       5  2.430232\n",
      "9723     35269  c050101  [0, 1, 1, 1, 1, 1]       6  1.571303\n",
      "9799     35270  c050101  [0, 1, 0, 0, 1, 0]       6  1.866599\n",
      "10054    35282  c050101     [1, 0, 0, 1, 1]       5  2.430232\n",
      "10098    35284  c050101        [1, 1, 0, 1]       4  2.731880\n",
      "...        ...      ...                 ...     ...       ...\n",
      "72819    50972  c050101  [0, 1, 0, 0, 1, 0]       6  1.866599\n",
      "72955    51022  c050101        [1, 0, 1, 0]       4  1.891974\n",
      "73615    51121  c050101     [1, 1, 1, 1, 0]       5  2.480856\n",
      "73659    51122  c050101  [0, 0, 0, 0, 0, 0]       6  0.021179\n",
      "74101    51179  c050101     [1, 0, 0, 0, 0]       5  0.938302\n",
      "74232    51203  c050101     [1, 0, 0, 1, 1]       5  2.430232\n",
      "74436    51247  c050101     [0, 0, 1, 1, 1]       5  1.567792\n",
      "74781    51297  c050101           [1, 1, 1]       3  1.575719\n",
      "75289    51951  c050101        [1, 1, 0, 1]       4  2.731880\n",
      "75461    51972  c050101     [0, 0, 1, 1, 1]       5  1.567792\n",
      "76113    52073  c050101           [0, 0, 1]       3  0.891561\n",
      "76301    52132  c050101        [0, 1, 1, 1]       4  1.564994\n",
      "76369    52154  c050101        [0, 1, 1, 0]       4  2.113586\n",
      "76634    52254  c050101  [0, 0, 0, 0, 0, 0]       6  0.021179\n",
      "77423    53406  c050101           [1, 1, 1]       3  1.575719\n",
      "77648    53594  c050101           [0, 0, 0]       3  0.010558\n",
      "78603    55003  c050101        [0, 0, 1, 0]       4  0.935303\n",
      "78991    55155  c050101     [1, 0, 1, 0, 0]       5  1.898044\n",
      "79451    55319  c050101        [1, 1, 0, 0]       4  2.154942\n",
      "80010    56193  c050101           [1, 1, 1]       3  1.575719\n",
      "80363    56578  c050101        [1, 0, 1, 1]       4  2.266708\n",
      "80428    56599  c050101  [1, 0, 1, 0, 0, 1]       6  2.780708\n",
      "80795    56884  c050101     [0, 0, 1, 0, 0]       5  0.940058\n",
      "80815    56886  c050101     [1, 0, 0, 1, 1]       5  2.430232\n",
      "80830    56887  c050101        [1, 1, 0, 1]       4  2.731880\n",
      "80848    56888  c050101     [0, 1, 0, 1, 1]       5  2.264573\n",
      "80864    56889  c050101  [1, 1, 0, 0, 0, 0]       6  2.163325\n",
      "81442    57662  c050101     [0, 1, 0, 0, 0]       5  0.940026\n",
      "81572    57837  c050101        [1, 0, 1, 1]       4  2.266708\n",
      "81612    57860  c050101     [1, 0, 0, 0, 1]       5  1.819251\n",
      "\n",
      "[197 rows x 5 columns]\n",
      "       user_id tag_code            is_right  length       ssr\n",
      "0        29110  c050101     [0, 0, 1, 0, 1]       5  1.786945\n",
      "561      29845  c050101        [1, 0, 1, 1]       4  2.200287\n",
      "699      29861  c050101        [1, 1, 0, 1]       4  2.589190\n",
      "1179     30411  c050101     [1, 0, 0, 0, 1]       5  1.816131\n",
      "1277     30525  c050101           [0, 0, 0]       3  0.010503\n",
      "3352     32576  c050101  [1, 1, 1, 1, 1, 0]       6  2.464324\n",
      "3556     32991  c050101     [0, 0, 1, 0, 1]       5  1.786945\n",
      "3604     33031  c050101        [1, 0, 1, 1]       4  2.200287\n",
      "4215     34006  c050101        [1, 0, 1, 0]       4  1.903581\n",
      "4265     34062  c050101           [1, 1, 0]       3  2.064370\n",
      "5217     34719  c050101     [0, 1, 1, 1, 1]       5  1.606146\n",
      "6455     34912  c050101        [0, 1, 1, 0]       4  2.067357\n",
      "6534     34916  c050101     [0, 1, 1, 0, 1]       5  2.571660\n",
      "6739     34920  c050101     [1, 0, 1, 1, 1]       5  2.228712\n",
      "6925     34924  c050101  [0, 1, 1, 1, 1, 1]       6  1.614363\n",
      "7099     34930  c050101     [0, 1, 1, 1, 1]       5  1.606146\n",
      "7188     34932  c050101  [1, 0, 1, 0, 1, 0]       6  2.972863\n",
      "7557     34951  c050101  [0, 1, 1, 1, 1, 0]       6  2.433071\n",
      "8268     35107  c050101     [1, 0, 1, 0, 1]       5  2.713484\n",
      "8515     35126  c050101        [1, 1, 0, 1]       4  2.589190\n",
      "8759     35163  c050101           [1, 1, 1]       3  1.617506\n",
      "9294     35211  c050101           [1, 1, 1]       3  1.617506\n",
      "9326     35214  c050101     [1, 0, 0, 0, 1]       5  1.816131\n",
      "9450     35261  c050101     [1, 1, 0, 1, 0]       5  3.222854\n",
      "9477     35266  c050101  [0, 1, 1, 0, 1, 0]       6  3.218230\n",
      "9532     35267  c050101     [1, 0, 0, 1, 1]       5  2.418277\n",
      "9723     35269  c050101  [0, 1, 1, 1, 1, 1]       6  1.614363\n",
      "9799     35270  c050101  [0, 1, 0, 0, 1, 0]       6  1.865156\n",
      "10054    35282  c050101     [1, 0, 0, 1, 1]       5  2.418277\n",
      "10098    35284  c050101        [1, 1, 0, 1]       4  2.589190\n",
      "...        ...      ...                 ...     ...       ...\n",
      "72819    50972  c050101  [0, 1, 0, 0, 1, 0]       6  1.865156\n",
      "72955    51022  c050101        [1, 0, 1, 0]       4  1.903581\n",
      "73615    51121  c050101     [1, 1, 1, 1, 0]       5  2.454885\n",
      "73659    51122  c050101  [0, 0, 0, 0, 0, 0]       6  0.021124\n",
      "74101    51179  c050101     [1, 0, 0, 0, 0]       5  0.935403\n",
      "74232    51203  c050101     [1, 0, 0, 1, 1]       5  2.418277\n",
      "74436    51247  c050101     [0, 0, 1, 1, 1]       5  1.597021\n",
      "74781    51297  c050101           [1, 1, 1]       3  1.617506\n",
      "75289    51951  c050101        [1, 1, 0, 1]       4  2.589190\n",
      "75461    51972  c050101     [0, 0, 1, 1, 1]       5  1.597021\n",
      "76113    52073  c050101           [0, 0, 1]       3  0.891520\n",
      "76301    52132  c050101        [0, 1, 1, 1]       4  1.595799\n",
      "76369    52154  c050101        [0, 1, 1, 0]       4  2.067357\n",
      "76634    52254  c050101  [0, 0, 0, 0, 0, 0]       6  0.021124\n",
      "77423    53406  c050101           [1, 1, 1]       3  1.617506\n",
      "77648    53594  c050101           [0, 0, 0]       3  0.010503\n",
      "78603    55003  c050101        [0, 0, 1, 0]       4  0.932460\n",
      "78991    55155  c050101     [1, 0, 1, 0, 0]       5  1.913592\n",
      "79451    55319  c050101        [1, 1, 0, 0]       4  2.140301\n",
      "80010    56193  c050101           [1, 1, 1]       3  1.617506\n",
      "80363    56578  c050101        [1, 0, 1, 1]       4  2.200287\n",
      "80428    56599  c050101  [1, 0, 1, 0, 0, 1]       6  2.790520\n",
      "80795    56884  c050101     [0, 0, 1, 0, 0]       5  0.938178\n",
      "80815    56886  c050101     [1, 0, 0, 1, 1]       5  2.418277\n",
      "80830    56887  c050101        [1, 1, 0, 1]       4  2.589190\n",
      "80848    56888  c050101     [0, 1, 0, 1, 1]       5  2.189487\n",
      "80864    56889  c050101  [1, 1, 0, 0, 0, 0]       6  2.151618\n",
      "81442    57662  c050101     [0, 1, 0, 0, 0]       5  0.938102\n",
      "81572    57837  c050101        [1, 0, 1, 1]       4  2.200287\n",
      "81612    57860  c050101     [1, 0, 0, 0, 1]       5  1.816131\n",
      "\n",
      "[197 rows x 5 columns]\n",
      "       user_id tag_code            is_right  length       ssr\n",
      "0        29110  c050101     [0, 0, 1, 0, 1]       5  1.773395\n",
      "561      29845  c050101        [1, 0, 1, 1]       4  2.163918\n",
      "699      29861  c050101        [1, 1, 0, 1]       4  2.496546\n",
      "1179     30411  c050101     [1, 0, 0, 0, 1]       5  1.813099\n",
      "1277     30525  c050101           [0, 0, 0]       3  0.010443\n",
      "3352     32576  c050101  [1, 1, 1, 1, 1, 0]       6  2.457372\n",
      "3556     32991  c050101     [0, 0, 1, 0, 1]       5  1.773395\n",
      "3604     33031  c050101        [1, 0, 1, 1]       4  2.163918\n",
      "4215     34006  c050101        [1, 0, 1, 0]       4  1.906030\n",
      "4265     34062  c050101           [1, 1, 0]       3  2.022050\n",
      "5217     34719  c050101     [0, 1, 1, 1, 1]       5  1.650730\n",
      "6455     34912  c050101        [0, 1, 1, 0]       4  2.024435\n",
      "6534     34916  c050101     [0, 1, 1, 0, 1]       5  2.469348\n",
      "6739     34920  c050101     [1, 0, 1, 1, 1]       5  2.202554\n",
      "6925     34924  c050101  [0, 1, 1, 1, 1, 1]       6  1.667815\n",
      "7099     34930  c050101     [0, 1, 1, 1, 1]       5  1.650730\n",
      "7188     34932  c050101  [1, 0, 1, 0, 1, 0]       6  3.000671\n",
      "7557     34951  c050101  [0, 1, 1, 1, 1, 0]       6  2.406397\n",
      "8268     35107  c050101     [1, 0, 1, 0, 1]       5  2.673586\n",
      "8515     35126  c050101        [1, 1, 0, 1]       4  2.496546\n",
      "8759     35163  c050101           [1, 1, 1]       3  1.662745\n",
      "9294     35211  c050101           [1, 1, 1]       3  1.662745\n",
      "9326     35214  c050101     [1, 0, 0, 0, 1]       5  1.813099\n",
      "9450     35261  c050101     [1, 1, 0, 1, 0]       5  3.106663\n",
      "9477     35266  c050101  [0, 1, 1, 0, 1, 0]       6  3.093715\n",
      "9532     35267  c050101     [1, 0, 0, 1, 1]       5  2.402491\n",
      "9723     35269  c050101  [0, 1, 1, 1, 1, 1]       6  1.667815\n",
      "9799     35270  c050101  [0, 1, 0, 0, 1, 0]       6  1.864496\n",
      "10054    35282  c050101     [1, 0, 0, 1, 1]       5  2.402491\n",
      "10098    35284  c050101        [1, 1, 0, 1]       4  2.496546\n",
      "...        ...      ...                 ...     ...       ...\n",
      "72819    50972  c050101  [0, 1, 0, 0, 1, 0]       6  1.864496\n",
      "72955    51022  c050101        [1, 0, 1, 0]       4  1.906030\n",
      "73615    51121  c050101     [1, 1, 1, 1, 0]       5  2.438948\n",
      "73659    51122  c050101  [0, 0, 0, 0, 0, 0]       6  0.021064\n",
      "74101    51179  c050101     [1, 0, 0, 0, 0]       5  0.932843\n",
      "74232    51203  c050101     [1, 0, 0, 1, 1]       5  2.402491\n",
      "74436    51247  c050101     [0, 0, 1, 1, 1]       5  1.629373\n",
      "74781    51297  c050101           [1, 1, 1]       3  1.662745\n",
      "75289    51951  c050101        [1, 1, 0, 1]       4  2.496546\n",
      "75461    51972  c050101     [0, 0, 1, 1, 1]       5  1.629373\n",
      "76113    52073  c050101           [0, 0, 1]       3  0.891493\n",
      "76301    52132  c050101        [0, 1, 1, 1]       4  1.630484\n",
      "76369    52154  c050101        [0, 1, 1, 0]       4  2.024435\n",
      "76634    52254  c050101  [0, 0, 0, 0, 0, 0]       6  0.021064\n",
      "77423    53406  c050101           [1, 1, 1]       3  1.662745\n",
      "77648    53594  c050101           [0, 0, 0]       3  0.010443\n",
      "78603    55003  c050101        [0, 0, 1, 0]       4  0.929681\n",
      "78991    55155  c050101     [1, 0, 1, 0, 0]       5  1.921381\n",
      "79451    55319  c050101        [1, 1, 0, 0]       4  2.118873\n",
      "80010    56193  c050101           [1, 1, 1]       3  1.662745\n",
      "80363    56578  c050101        [1, 0, 1, 1]       4  2.163918\n",
      "80428    56599  c050101  [1, 0, 1, 0, 0, 1]       6  2.788038\n",
      "80795    56884  c050101     [0, 0, 1, 0, 0]       5  0.936317\n",
      "80815    56886  c050101     [1, 0, 0, 1, 1]       5  2.402491\n",
      "80830    56887  c050101        [1, 1, 0, 1]       4  2.496546\n",
      "80848    56888  c050101     [0, 1, 0, 1, 1]       5  2.143993\n",
      "80864    56889  c050101  [1, 1, 0, 0, 0, 0]       6  2.134732\n",
      "81442    57662  c050101     [0, 1, 0, 0, 0]       5  0.936210\n",
      "81572    57837  c050101        [1, 0, 1, 1]       4  2.163918\n",
      "81612    57860  c050101     [1, 0, 0, 0, 1]       5  1.813099\n",
      "\n"
     ]
    },
    {
     "name": "stdout",
     "output_type": "stream",
     "text": [
      "[197 rows x 5 columns]\n",
      "       user_id tag_code            is_right  length       ssr\n",
      "0        29110  c050101     [0, 0, 1, 0, 1]       5  1.761470\n",
      "561      29845  c050101        [1, 0, 1, 1]       4  2.146852\n",
      "699      29861  c050101        [1, 1, 0, 1]       4  2.433922\n",
      "1179     30411  c050101     [1, 0, 0, 0, 1]       5  1.810070\n",
      "1277     30525  c050101           [0, 0, 0]       3  0.010378\n",
      "3352     32576  c050101  [1, 1, 1, 1, 1, 0]       6  2.463646\n",
      "3556     32991  c050101     [0, 0, 1, 0, 1]       5  1.761470\n",
      "3604     33031  c050101        [1, 0, 1, 1]       4  2.146852\n",
      "4215     34006  c050101        [1, 0, 1, 0]       4  1.901675\n",
      "4265     34062  c050101           [1, 1, 0]       3  1.983245\n",
      "5217     34719  c050101     [0, 1, 1, 1, 1]       5  1.702491\n",
      "6455     34912  c050101        [0, 1, 1, 0]       4  1.984860\n",
      "6534     34916  c050101     [0, 1, 1, 0, 1]       5  2.398451\n",
      "6739     34920  c050101     [1, 0, 1, 1, 1]       5  2.199458\n",
      "6925     34924  c050101  [0, 1, 1, 1, 1, 1]       6  1.731659\n",
      "7099     34930  c050101     [0, 1, 1, 1, 1]       5  1.702491\n",
      "7188     34932  c050101  [1, 0, 1, 0, 1, 0]       6  2.988892\n",
      "7557     34951  c050101  [0, 1, 1, 1, 1, 0]       6  2.390090\n",
      "8268     35107  c050101     [1, 0, 1, 0, 1]       5  2.630467\n",
      "8515     35126  c050101        [1, 1, 0, 1]       4  2.433922\n",
      "8759     35163  c050101           [1, 1, 1]       3  1.711360\n",
      "9294     35211  c050101           [1, 1, 1]       3  1.711360\n",
      "9326     35214  c050101     [1, 0, 0, 0, 1]       5  1.810070\n",
      "9450     35261  c050101     [1, 1, 0, 1, 0]       5  3.003190\n",
      "9477     35266  c050101  [0, 1, 1, 0, 1, 0]       6  2.982728\n",
      "9532     35267  c050101     [1, 0, 0, 1, 1]       5  2.386651\n",
      "9723     35269  c050101  [0, 1, 1, 1, 1, 1]       6  1.731659\n",
      "9799     35270  c050101  [0, 1, 0, 0, 1, 0]       6  1.863843\n",
      "10054    35282  c050101     [1, 0, 0, 1, 1]       5  2.386651\n",
      "10098    35284  c050101        [1, 1, 0, 1]       4  2.433922\n",
      "...        ...      ...                 ...     ...       ...\n",
      "72819    50972  c050101  [0, 1, 0, 0, 1, 0]       6  1.863843\n",
      "72955    51022  c050101        [1, 0, 1, 0]       4  1.901675\n",
      "73615    51121  c050101     [1, 1, 1, 1, 0]       5  2.433002\n",
      "73659    51122  c050101  [0, 0, 0, 0, 0, 0]       6  0.020998\n",
      "74101    51179  c050101     [1, 0, 0, 0, 0]       5  0.930571\n",
      "74232    51203  c050101     [1, 0, 0, 1, 1]       5  2.386651\n",
      "74436    51247  c050101     [0, 0, 1, 1, 1]       5  1.664931\n",
      "74781    51297  c050101           [1, 1, 1]       3  1.711360\n",
      "75289    51951  c050101        [1, 1, 0, 1]       4  2.433922\n",
      "75461    51972  c050101     [0, 0, 1, 1, 1]       5  1.664931\n",
      "76113    52073  c050101           [0, 0, 1]       3  0.891489\n",
      "76301    52132  c050101        [0, 1, 1, 1]       4  1.669022\n",
      "76369    52154  c050101        [0, 1, 1, 0]       4  1.984860\n",
      "76634    52254  c050101  [0, 0, 0, 0, 0, 0]       6  0.020998\n",
      "77423    53406  c050101           [1, 1, 1]       3  1.711360\n",
      "77648    53594  c050101           [0, 0, 0]       3  0.010378\n",
      "78603    55003  c050101        [0, 0, 1, 0]       4  0.926966\n",
      "78991    55155  c050101     [1, 0, 1, 0, 0]       5  1.923081\n",
      "79451    55319  c050101        [1, 1, 0, 0]       4  2.091272\n",
      "80010    56193  c050101           [1, 1, 1]       3  1.711360\n",
      "80363    56578  c050101        [1, 0, 1, 1]       4  2.146852\n",
      "80428    56599  c050101  [1, 0, 1, 0, 0, 1]       6  2.775404\n",
      "80795    56884  c050101     [0, 0, 1, 0, 0]       5  0.934446\n",
      "80815    56886  c050101     [1, 0, 0, 1, 1]       5  2.386651\n",
      "80830    56887  c050101        [1, 1, 0, 1]       4  2.433922\n",
      "80848    56888  c050101     [0, 1, 0, 1, 1]       5  2.117998\n",
      "80864    56889  c050101  [1, 1, 0, 0, 0, 0]       6  2.112867\n",
      "81442    57662  c050101     [0, 1, 0, 0, 0]       5  0.934341\n",
      "81572    57837  c050101        [1, 0, 1, 1]       4  2.146852\n",
      "81612    57860  c050101     [1, 0, 0, 0, 1]       5  1.810070\n",
      "\n",
      "[197 rows x 5 columns]\n",
      "       user_id tag_code            is_right  length       ssr\n",
      "0        29110  c050101     [0, 0, 1, 0, 1]       5  1.751167\n",
      "561      29845  c050101        [1, 0, 1, 1]       4  2.143368\n",
      "699      29861  c050101        [1, 1, 0, 1]       4  2.391511\n",
      "1179     30411  c050101     [1, 0, 0, 0, 1]       5  1.807009\n",
      "1277     30525  c050101           [0, 0, 0]       3  0.010307\n",
      "3352     32576  c050101  [1, 1, 1, 1, 1, 0]       6  2.483097\n",
      "3556     32991  c050101     [0, 0, 1, 0, 1]       5  1.751167\n",
      "3604     33031  c050101        [1, 0, 1, 1]       4  2.143368\n",
      "4215     34006  c050101        [1, 0, 1, 0]       4  1.892737\n",
      "4265     34062  c050101           [1, 1, 0]       3  1.947961\n",
      "5217     34719  c050101     [0, 1, 1, 1, 1]       5  1.761414\n",
      "6455     34912  c050101        [0, 1, 1, 0]       4  1.948664\n",
      "6534     34916  c050101     [0, 1, 1, 0, 1]       5  2.348837\n",
      "6739     34920  c050101     [1, 0, 1, 1, 1]       5  2.213523\n",
      "6925     34924  c050101  [0, 1, 1, 1, 1, 1]       6  1.805882\n",
      "7099     34930  c050101     [0, 1, 1, 1, 1]       5  1.761414\n",
      "7188     34932  c050101  [1, 0, 1, 0, 1, 0]       6  2.952988\n",
      "7557     34951  c050101  [0, 1, 1, 1, 1, 0]       6  2.384134\n",
      "8268     35107  c050101     [1, 0, 1, 0, 1]       5  2.589380\n",
      "8515     35126  c050101        [1, 1, 0, 1]       4  2.391511\n",
      "8759     35163  c050101           [1, 1, 1]       3  1.763247\n",
      "9294     35211  c050101           [1, 1, 1]       3  1.763247\n",
      "9326     35214  c050101     [1, 0, 0, 0, 1]       5  1.807009\n",
      "9450     35261  c050101     [1, 1, 0, 1, 0]       5  2.913403\n",
      "9477     35266  c050101  [0, 1, 1, 0, 1, 0]       6  2.886222\n",
      "9532     35267  c050101     [1, 0, 0, 1, 1]       5  2.373304\n",
      "9723     35269  c050101  [0, 1, 1, 1, 1, 1]       6  1.805882\n",
      "9799     35270  c050101  [0, 1, 0, 0, 1, 0]       6  1.862521\n",
      "10054    35282  c050101     [1, 0, 0, 1, 1]       5  2.373304\n",
      "10098    35284  c050101        [1, 1, 0, 1]       4  2.391511\n",
      "...        ...      ...                 ...     ...       ...\n",
      "72819    50972  c050101  [0, 1, 0, 0, 1, 0]       6  1.862521\n",
      "72955    51022  c050101        [1, 0, 1, 0]       4  1.892737\n",
      "73615    51121  c050101     [1, 1, 1, 1, 0]       5  2.436988\n",
      "73659    51122  c050101  [0, 0, 0, 0, 0, 0]       6  0.020925\n",
      "74101    51179  c050101     [1, 0, 0, 0, 0]       5  0.928546\n",
      "74232    51203  c050101     [1, 0, 0, 1, 1]       5  2.373304\n",
      "74436    51247  c050101     [0, 0, 1, 1, 1]       5  1.703768\n",
      "74781    51297  c050101           [1, 1, 1]       3  1.763247\n",
      "75289    51951  c050101        [1, 1, 0, 1]       4  2.391511\n",
      "75461    51972  c050101     [0, 0, 1, 1, 1]       5  1.703768\n",
      "76113    52073  c050101           [0, 0, 1]       3  0.891516\n",
      "76301    52132  c050101        [0, 1, 1, 1]       4  1.711368\n",
      "76369    52154  c050101        [0, 1, 1, 0]       4  1.948664\n",
      "76634    52254  c050101  [0, 0, 0, 0, 0, 0]       6  0.020925\n",
      "77423    53406  c050101           [1, 1, 1]       3  1.763247\n",
      "77648    53594  c050101           [0, 0, 0]       3  0.010307\n",
      "78603    55003  c050101        [0, 0, 1, 0]       4  0.924320\n",
      "78991    55155  c050101     [1, 0, 1, 0, 0]       5  1.920077\n",
      "79451    55319  c050101        [1, 1, 0, 0]       4  2.059520\n",
      "80010    56193  c050101           [1, 1, 1]       3  1.763247\n",
      "80363    56578  c050101        [1, 0, 1, 1]       4  2.143368\n",
      "80428    56599  c050101  [1, 0, 1, 0, 0, 1]       6  2.755232\n",
      "80795    56884  c050101     [0, 0, 1, 0, 0]       5  0.932544\n",
      "80815    56886  c050101     [1, 0, 0, 1, 1]       5  2.373304\n",
      "80830    56887  c050101        [1, 1, 0, 1]       4  2.391511\n",
      "80848    56888  c050101     [0, 1, 0, 1, 1]       5  2.105993\n",
      "80864    56889  c050101  [1, 1, 0, 0, 0, 0]       6  2.087379\n",
      "81442    57662  c050101     [0, 1, 0, 0, 0]       5  0.932489\n",
      "81572    57837  c050101        [1, 0, 1, 1]       4  2.143368\n",
      "81612    57860  c050101     [1, 0, 0, 0, 1]       5  1.807009\n",
      "\n",
      "[197 rows x 5 columns]\n",
      "       user_id tag_code            is_right  length       ssr\n",
      "0        29110  c050101     [0, 0, 1, 0, 1]       5  1.742497\n",
      "561      29845  c050101        [1, 0, 1, 1]       4  2.150144\n",
      "699      29861  c050101        [1, 1, 0, 1]       4  2.364028\n",
      "1179     30411  c050101     [1, 0, 0, 0, 1]       5  1.803919\n",
      "1277     30525  c050101           [0, 0, 0]       3  0.010230\n",
      "3352     32576  c050101  [1, 1, 1, 1, 1, 0]       6  2.515655\n",
      "3556     32991  c050101     [0, 0, 1, 0, 1]       5  1.742497\n",
      "3604     33031  c050101        [1, 0, 1, 1]       4  2.150144\n",
      "4215     34006  c050101        [1, 0, 1, 0]       4  1.881007\n",
      "4265     34062  c050101           [1, 1, 0]       3  1.916204\n",
      "5217     34719  c050101     [0, 1, 1, 1, 1]       5  1.827475\n",
      "6455     34912  c050101        [0, 1, 1, 0]       4  1.915867\n",
      "6534     34916  c050101     [0, 1, 1, 0, 1]       5  2.314963\n",
      "6739     34920  c050101     [1, 0, 1, 1, 1]       5  2.241403\n",
      "6925     34924  c050101  [0, 1, 1, 1, 1, 1]       6  1.890467\n",
      "7099     34930  c050101     [0, 1, 1, 1, 1]       5  1.827475\n",
      "7188     34932  c050101  [1, 0, 1, 0, 1, 0]       6  2.905345\n",
      "7557     34951  c050101  [0, 1, 1, 1, 1, 0]       6  2.388502\n",
      "8268     35107  c050101     [1, 0, 1, 0, 1]       5  2.553362\n",
      "8515     35126  c050101        [1, 1, 0, 1]       4  2.364028\n",
      "8759     35163  c050101           [1, 1, 1]       3  1.818270\n",
      "9294     35211  c050101           [1, 1, 1]       3  1.818270\n",
      "9326     35214  c050101     [1, 0, 0, 0, 1]       5  1.803919\n",
      "9450     35261  c050101     [1, 1, 0, 1, 0]       5  2.836373\n",
      "9477     35266  c050101  [0, 1, 1, 0, 1, 0]       6  2.803128\n",
      "9532     35267  c050101     [1, 0, 0, 1, 1]       5  2.363993\n",
      "9723     35269  c050101  [0, 1, 1, 1, 1, 1]       6  1.890467\n",
      "9799     35270  c050101  [0, 1, 0, 0, 1, 0]       6  1.860027\n",
      "10054    35282  c050101     [1, 0, 0, 1, 1]       5  2.363993\n",
      "10098    35284  c050101        [1, 1, 0, 1]       4  2.364028\n",
      "...        ...      ...                 ...     ...       ...\n",
      "72819    50972  c050101  [0, 1, 0, 0, 1, 0]       6  1.860027\n",
      "72955    51022  c050101        [1, 0, 1, 0]       4  1.881007\n",
      "73615    51121  c050101     [1, 1, 1, 1, 0]       5  2.450824\n",
      "73659    51122  c050101  [0, 0, 0, 0, 0, 0]       6  0.020843\n",
      "74101    51179  c050101     [1, 0, 0, 0, 0]       5  0.926731\n",
      "74232    51203  c050101     [1, 0, 0, 1, 1]       5  2.363993\n",
      "74436    51247  c050101     [0, 0, 1, 1, 1]       5  1.745944\n",
      "74781    51297  c050101           [1, 1, 1]       3  1.818270\n",
      "75289    51951  c050101        [1, 1, 0, 1]       4  2.364028\n",
      "75461    51972  c050101     [0, 0, 1, 1, 1]       5  1.745944\n",
      "76113    52073  c050101           [0, 0, 1]       3  0.891582\n",
      "76301    52132  c050101        [0, 1, 1, 1]       4  1.757463\n",
      "76369    52154  c050101        [0, 1, 1, 0]       4  1.915867\n",
      "76634    52254  c050101  [0, 0, 0, 0, 0, 0]       6  0.020843\n",
      "77423    53406  c050101           [1, 1, 1]       3  1.818270\n",
      "77648    53594  c050101           [0, 0, 0]       3  0.010230\n",
      "78603    55003  c050101        [0, 0, 1, 0]       4  0.921754\n",
      "78991    55155  c050101     [1, 0, 1, 0, 0]       5  1.913417\n",
      "79451    55319  c050101        [1, 1, 0, 0]       4  2.025635\n",
      "80010    56193  c050101           [1, 1, 1]       3  1.818270\n",
      "80363    56578  c050101        [1, 0, 1, 1]       4  2.150144\n",
      "80428    56599  c050101  [1, 0, 1, 0, 0, 1]       6  2.730185\n",
      "80795    56884  c050101     [0, 0, 1, 0, 0]       5  0.930599\n",
      "80815    56886  c050101     [1, 0, 0, 1, 1]       5  2.363993\n",
      "80830    56887  c050101        [1, 1, 0, 1]       4  2.364028\n",
      "80848    56888  c050101     [0, 1, 0, 1, 1]       5  2.104773\n",
      "80864    56889  c050101  [1, 1, 0, 0, 0, 0]       6  2.059555\n",
      "81442    57662  c050101     [0, 1, 0, 0, 0]       5  0.930648\n",
      "81572    57837  c050101        [1, 0, 1, 1]       4  2.150144\n",
      "81612    57860  c050101     [1, 0, 0, 0, 1]       5  1.803919\n",
      "\n"
     ]
    },
    {
     "name": "stdout",
     "output_type": "stream",
     "text": [
      "[197 rows x 5 columns]\n",
      "       user_id tag_code            is_right  length       ssr\n",
      "0        29110  c050101     [0, 0, 1, 0, 1]       5  1.735472\n",
      "561      29845  c050101        [1, 0, 1, 1]       4  2.165081\n",
      "699      29861  c050101        [1, 1, 0, 1]       4  2.348388\n",
      "1179     30411  c050101     [1, 0, 0, 0, 1]       5  1.800840\n",
      "1277     30525  c050101           [0, 0, 0]       3  0.010146\n",
      "3352     32576  c050101  [1, 1, 1, 1, 1, 0]       6  2.561224\n",
      "3556     32991  c050101     [0, 0, 1, 0, 1]       5  1.735472\n",
      "3604     33031  c050101        [1, 0, 1, 1]       4  2.165081\n",
      "4215     34006  c050101        [1, 0, 1, 0]       4  1.867861\n",
      "4265     34062  c050101           [1, 1, 0]       3  1.887973\n",
      "5217     34719  c050101     [0, 1, 1, 1, 1]       5  1.900635\n",
      "6455     34912  c050101        [0, 1, 1, 0]       4  1.886484\n",
      "6534     34916  c050101     [0, 1, 1, 0, 1]       5  2.293597\n",
      "6739     34920  c050101     [1, 0, 1, 1, 1]       5  2.281033\n",
      "6925     34924  c050101  [0, 1, 1, 1, 1, 1]       6  1.985382\n",
      "7099     34930  c050101     [0, 1, 1, 1, 1]       5  1.900635\n",
      "7188     34932  c050101  [1, 0, 1, 0, 1, 0]       6  2.854038\n",
      "7557     34951  c050101  [0, 1, 1, 1, 1, 0]       6  2.403154\n",
      "8268     35107  c050101     [1, 0, 1, 0, 1]       5  2.523950\n",
      "8515     35126  c050101        [1, 1, 0, 1]       4  2.348388\n",
      "8759     35163  c050101           [1, 1, 1]       3  1.876249\n",
      "9294     35211  c050101           [1, 1, 1]       3  1.876249\n",
      "9326     35214  c050101     [1, 0, 0, 0, 1]       5  1.800840\n",
      "9450     35261  c050101     [1, 1, 0, 1, 0]       5  2.771110\n",
      "9477     35266  c050101  [0, 1, 1, 0, 1, 0]       6  2.732370\n",
      "9532     35267  c050101     [1, 0, 0, 1, 1]       5  2.359526\n",
      "9723     35269  c050101  [0, 1, 1, 1, 1, 1]       6  1.985382\n",
      "9799     35270  c050101  [0, 1, 0, 0, 1, 0]       6  1.856080\n",
      "10054    35282  c050101     [1, 0, 0, 1, 1]       5  2.359526\n",
      "10098    35284  c050101        [1, 1, 0, 1]       4  2.348388\n",
      "...        ...      ...                 ...     ...       ...\n",
      "72819    50972  c050101  [0, 1, 0, 0, 1, 0]       6  1.856080\n",
      "72955    51022  c050101        [1, 0, 1, 0]       4  1.867861\n",
      "73615    51121  c050101     [1, 1, 1, 1, 0]       5  2.474401\n",
      "73659    51122  c050101  [0, 0, 0, 0, 0, 0]       6  0.020753\n",
      "74101    51179  c050101     [1, 0, 0, 0, 0]       5  0.925096\n",
      "74232    51203  c050101     [1, 0, 0, 1, 1]       5  2.359526\n",
      "74436    51247  c050101     [0, 0, 1, 1, 1]       5  1.791501\n",
      "74781    51297  c050101           [1, 1, 1]       3  1.876249\n",
      "75289    51951  c050101        [1, 1, 0, 1]       4  2.348388\n",
      "75461    51972  c050101     [0, 0, 1, 1, 1]       5  1.791501\n",
      "76113    52073  c050101           [0, 0, 1]       3  0.891695\n",
      "76301    52132  c050101        [0, 1, 1, 1]       4  1.807226\n",
      "76369    52154  c050101        [0, 1, 1, 0]       4  1.886484\n",
      "76634    52254  c050101  [0, 0, 0, 0, 0, 0]       6  0.020753\n",
      "77423    53406  c050101           [1, 1, 1]       3  1.876249\n",
      "77648    53594  c050101           [0, 0, 0]       3  0.010146\n",
      "78603    55003  c050101        [0, 0, 1, 0]       4  0.919281\n",
      "78991    55155  c050101     [1, 0, 1, 0, 0]       5  1.903964\n",
      "79451    55319  c050101        [1, 1, 0, 0]       4  1.991310\n",
      "80010    56193  c050101           [1, 1, 1]       3  1.876249\n",
      "80363    56578  c050101        [1, 0, 1, 1]       4  2.165081\n",
      "80428    56599  c050101  [1, 0, 1, 0, 0, 1]       6  2.702798\n",
      "80795    56884  c050101     [0, 0, 1, 0, 0]       5  0.928606\n",
      "80815    56886  c050101     [1, 0, 0, 1, 1]       5  2.359526\n",
      "80830    56887  c050101        [1, 1, 0, 1]       4  2.348388\n",
      "80848    56888  c050101     [0, 1, 0, 1, 1]       5  2.112365\n",
      "80864    56889  c050101  [1, 1, 0, 0, 0, 0]       6  2.030447\n",
      "81442    57662  c050101     [0, 1, 0, 0, 0]       5  0.928816\n",
      "81572    57837  c050101        [1, 0, 1, 1]       4  2.165081\n",
      "81612    57860  c050101     [1, 0, 0, 0, 1]       5  1.800840\n",
      "\n",
      "[197 rows x 5 columns]\n",
      "       user_id tag_code            is_right  length       ssr\n",
      "0        29110  c050101     [0, 0, 1, 0, 1]       5  1.730105\n",
      "561      29845  c050101        [1, 0, 1, 1]       4  2.186748\n",
      "699      29861  c050101        [1, 1, 0, 1]       4  2.342639\n",
      "1179     30411  c050101     [1, 0, 0, 0, 1]       5  1.797835\n",
      "1277     30525  c050101           [0, 0, 0]       3  0.010055\n",
      "3352     32576  c050101  [1, 1, 1, 1, 1, 0]       6  2.619680\n",
      "3556     32991  c050101     [0, 0, 1, 0, 1]       5  1.730105\n",
      "3604     33031  c050101        [1, 0, 1, 1]       4  2.186748\n",
      "4215     34006  c050101        [1, 0, 1, 0]       4  1.854338\n",
      "4265     34062  c050101           [1, 1, 0]       3  1.863256\n",
      "5217     34719  c050101     [0, 1, 1, 1, 1]       5  1.980841\n",
      "6455     34912  c050101        [0, 1, 1, 0]       4  1.860516\n",
      "6534     34916  c050101     [0, 1, 1, 0, 1]       5  2.282743\n",
      "6739     34920  c050101     [1, 0, 1, 1, 1]       5  2.331039\n",
      "6925     34924  c050101  [0, 1, 1, 1, 1, 1]       6  2.090585\n",
      "7099     34930  c050101     [0, 1, 1, 1, 1]       5  1.980841\n",
      "7188     34932  c050101  [1, 0, 1, 0, 1, 0]       6  2.803987\n",
      "7557     34951  c050101  [0, 1, 1, 1, 1, 0]       6  2.428033\n",
      "8268     35107  c050101     [1, 0, 1, 0, 1]       5  2.501767\n",
      "8515     35126  c050101        [1, 1, 0, 1]       4  2.342639\n",
      "8759     35163  c050101           [1, 1, 1]       3  1.936950\n",
      "9294     35211  c050101           [1, 1, 1]       3  1.936950\n",
      "9326     35214  c050101     [1, 0, 0, 0, 1]       5  1.797835\n",
      "9450     35261  c050101     [1, 1, 0, 1, 0]       5  2.716804\n",
      "9477     35266  c050101  [0, 1, 1, 0, 1, 0]       6  2.673118\n",
      "9532     35267  c050101     [1, 0, 0, 1, 1]       5  2.360226\n",
      "9723     35269  c050101  [0, 1, 1, 1, 1, 1]       6  2.090585\n",
      "9799     35270  c050101  [0, 1, 0, 0, 1, 0]       6  1.850643\n",
      "10054    35282  c050101     [1, 0, 0, 1, 1]       5  2.360226\n",
      "10098    35284  c050101        [1, 1, 0, 1]       4  2.342639\n",
      "...        ...      ...                 ...     ...       ...\n",
      "72819    50972  c050101  [0, 1, 0, 0, 1, 0]       6  1.850643\n",
      "72955    51022  c050101        [1, 0, 1, 0]       4  1.854338\n",
      "73615    51121  c050101     [1, 1, 1, 1, 0]       5  2.507569\n",
      "73659    51122  c050101  [0, 0, 0, 0, 0, 0]       6  0.020651\n",
      "74101    51179  c050101     [1, 0, 0, 0, 0]       5  0.923615\n",
      "74232    51203  c050101     [1, 0, 0, 1, 1]       5  2.360226\n",
      "74436    51247  c050101     [0, 0, 1, 1, 1]       5  1.840456\n",
      "74781    51297  c050101           [1, 1, 1]       3  1.936950\n",
      "75289    51951  c050101        [1, 1, 0, 1]       4  2.342639\n",
      "75461    51972  c050101     [0, 0, 1, 1, 1]       5  1.840456\n",
      "76113    52073  c050101           [0, 0, 1]       3  0.891864\n",
      "76301    52132  c050101        [0, 1, 1, 1]       4  1.860549\n",
      "76369    52154  c050101        [0, 1, 1, 0]       4  1.860516\n",
      "76634    52254  c050101  [0, 0, 0, 0, 0, 0]       6  0.020651\n",
      "77423    53406  c050101           [1, 1, 1]       3  1.936950\n",
      "77648    53594  c050101           [0, 0, 0]       3  0.010055\n",
      "78603    55003  c050101        [0, 0, 1, 0]       4  0.916920\n",
      "78991    55155  c050101     [1, 0, 1, 0, 0]       5  1.892508\n",
      "79451    55319  c050101        [1, 1, 0, 0]       4  1.957890\n",
      "80010    56193  c050101           [1, 1, 1]       3  1.936950\n",
      "80363    56578  c050101        [1, 0, 1, 1]       4  2.186748\n",
      "80428    56599  c050101  [1, 0, 1, 0, 0, 1]       6  2.675336\n",
      "80795    56884  c050101     [0, 0, 1, 0, 0]       5  0.926569\n",
      "80815    56886  c050101     [1, 0, 0, 1, 1]       5  2.360226\n",
      "80830    56887  c050101        [1, 1, 0, 1]       4  2.342639\n",
      "80848    56888  c050101     [0, 1, 0, 1, 1]       5  2.127476\n",
      "80864    56889  c050101  [1, 1, 0, 0, 0, 0]       6  2.000930\n",
      "81442    57662  c050101     [0, 1, 0, 0, 0]       5  0.926994\n",
      "81572    57837  c050101        [1, 0, 1, 1]       4  2.186748\n",
      "81612    57860  c050101     [1, 0, 0, 0, 1]       5  1.797835\n",
      "\n",
      "[197 rows x 5 columns]\n",
      "       user_id tag_code            is_right  length       ssr\n",
      "0        29110  c050101     [0, 0, 1, 0, 1]       5  1.726407\n",
      "561      29845  c050101        [1, 0, 1, 1]       4  2.214078\n",
      "699      29861  c050101        [1, 1, 0, 1]       4  2.345436\n",
      "1179     30411  c050101     [1, 0, 0, 0, 1]       5  1.794987\n",
      "1277     30525  c050101           [0, 0, 0]       3  0.009956\n",
      "3352     32576  c050101  [1, 1, 1, 1, 1, 0]       6  2.690854\n",
      "3556     32991  c050101     [0, 0, 1, 0, 1]       5  1.726407\n",
      "3604     33031  c050101        [1, 0, 1, 1]       4  2.214078\n",
      "4215     34006  c050101        [1, 0, 1, 0]       4  1.841211\n",
      "4265     34062  c050101           [1, 1, 0]       3  1.842031\n",
      "5217     34719  c050101     [0, 1, 1, 1, 1]       5  2.068016\n",
      "6455     34912  c050101        [0, 1, 1, 0]       4  1.837957\n",
      "6534     34916  c050101     [0, 1, 1, 0, 1]       5  2.281088\n",
      "6739     34920  c050101     [1, 0, 1, 1, 1]       5  2.390438\n",
      "6925     34924  c050101  [0, 1, 1, 1, 1, 1]       6  2.206011\n",
      "7099     34930  c050101     [0, 1, 1, 1, 1]       5  2.068016\n",
      "7188     34932  c050101  [1, 0, 1, 0, 1, 0]       6  2.758094\n",
      "7557     34951  c050101  [0, 1, 1, 1, 1, 0]       6  2.463058\n",
      "8268     35107  c050101     [1, 0, 1, 0, 1]       5  2.486909\n",
      "8515     35126  c050101        [1, 1, 0, 1]       4  2.345436\n",
      "8759     35163  c050101           [1, 1, 1]       3  2.000071\n",
      "9294     35211  c050101           [1, 1, 1]       3  2.000071\n",
      "9326     35214  c050101     [1, 0, 0, 0, 1]       5  1.794987\n",
      "9450     35261  c050101     [1, 1, 0, 1, 0]       5  2.672788\n",
      "9477     35266  c050101  [0, 1, 1, 0, 1, 0]       6  2.624743\n",
      "9532     35267  c050101     [1, 0, 0, 1, 1]       5  2.366110\n",
      "9723     35269  c050101  [0, 1, 1, 1, 1, 1]       6  2.206011\n",
      "9799     35270  c050101  [0, 1, 0, 0, 1, 0]       6  1.843892\n",
      "10054    35282  c050101     [1, 0, 0, 1, 1]       5  2.366110\n",
      "10098    35284  c050101        [1, 1, 0, 1]       4  2.345436\n",
      "...        ...      ...                 ...     ...       ...\n",
      "72819    50972  c050101  [0, 1, 0, 0, 1, 0]       6  1.843892\n",
      "72955    51022  c050101        [1, 0, 1, 0]       4  1.841211\n",
      "73615    51121  c050101     [1, 1, 1, 1, 0]       5  2.550134\n",
      "73659    51122  c050101  [0, 0, 0, 0, 0, 0]       6  0.020536\n",
      "74101    51179  c050101     [1, 0, 0, 0, 0]       5  0.922264\n",
      "74232    51203  c050101     [1, 0, 0, 1, 1]       5  2.366110\n",
      "74436    51247  c050101     [0, 0, 1, 1, 1]       5  1.892800\n",
      "74781    51297  c050101           [1, 1, 1]       3  2.000071\n",
      "75289    51951  c050101        [1, 1, 0, 1]       4  2.345436\n",
      "75461    51972  c050101     [0, 0, 1, 1, 1]       5  1.892800\n",
      "76113    52073  c050101           [0, 0, 1]       3  0.892095\n",
      "76301    52132  c050101        [0, 1, 1, 1]       4  1.917283\n",
      "76369    52154  c050101        [0, 1, 1, 0]       4  1.837957\n",
      "76634    52254  c050101  [0, 0, 0, 0, 0, 0]       6  0.020536\n",
      "77423    53406  c050101           [1, 1, 1]       3  2.000071\n",
      "77648    53594  c050101           [0, 0, 0]       3  0.009956\n",
      "78603    55003  c050101        [0, 0, 1, 0]       4  0.914691\n",
      "78991    55155  c050101     [1, 0, 1, 0, 0]       5  1.879802\n",
      "79451    55319  c050101        [1, 1, 0, 0]       4  1.926416\n",
      "80010    56193  c050101           [1, 1, 1]       3  2.000071\n",
      "80363    56578  c050101        [1, 0, 1, 1]       4  2.214078\n",
      "80428    56599  c050101  [1, 0, 1, 0, 0, 1]       6  2.649707\n",
      "80795    56884  c050101     [0, 0, 1, 0, 0]       5  0.924501\n",
      "80815    56886  c050101     [1, 0, 0, 1, 1]       5  2.366110\n",
      "80830    56887  c050101        [1, 1, 0, 1]       4  2.345436\n",
      "80848    56888  c050101     [0, 1, 0, 1, 1]       5  2.149200\n",
      "80864    56889  c050101  [1, 1, 0, 0, 0, 0]       6  1.971762\n",
      "81442    57662  c050101     [0, 1, 0, 0, 0]       5  0.925188\n",
      "81572    57837  c050101        [1, 0, 1, 1]       4  2.214078\n",
      "81612    57860  c050101     [1, 0, 0, 0, 1]       5  1.794987\n",
      "\n"
     ]
    },
    {
     "name": "stdout",
     "output_type": "stream",
     "text": [
      "[197 rows x 5 columns]\n",
      "       user_id tag_code            is_right  length       ssr\n",
      "0        29110  c050101     [0, 0, 1, 0, 1]       5  1.724378\n",
      "561      29845  c050101        [1, 0, 1, 1]       4  2.246206\n",
      "699      29861  c050101        [1, 1, 0, 1]       4  2.355754\n",
      "1179     30411  c050101     [1, 0, 0, 0, 1]       5  1.792389\n",
      "1277     30525  c050101           [0, 0, 0]       3  0.009850\n",
      "3352     32576  c050101  [1, 1, 1, 1, 1, 0]       6  2.774532\n",
      "3556     32991  c050101     [0, 0, 1, 0, 1]       5  1.724378\n",
      "3604     33031  c050101        [1, 0, 1, 1]       4  2.246206\n",
      "4215     34006  c050101        [1, 0, 1, 0]       4  1.829047\n",
      "4265     34062  c050101           [1, 1, 0]       3  1.824253\n",
      "5217     34719  c050101     [0, 1, 1, 1, 1]       5  2.162053\n",
      "6455     34912  c050101        [0, 1, 1, 0]       4  1.818792\n",
      "6534     34916  c050101     [0, 1, 1, 0, 1]       5  2.287701\n",
      "6739     34920  c050101     [1, 0, 1, 1, 1]       5  2.458466\n",
      "6925     34924  c050101  [0, 1, 1, 1, 1, 1]       6  2.331573\n",
      "7099     34930  c050101     [0, 1, 1, 1, 1]       5  2.162053\n",
      "7188     34932  c050101  [1, 0, 1, 0, 1, 0]       6  2.718024\n",
      "7557     34951  c050101  [0, 1, 1, 1, 1, 0]       6  2.508116\n",
      "8268     35107  c050101     [1, 0, 1, 0, 1]       5  2.479176\n",
      "8515     35126  c050101        [1, 1, 0, 1]       4  2.355754\n",
      "8759     35163  c050101           [1, 1, 1]       3  2.065220\n",
      "9294     35211  c050101           [1, 1, 1]       3  2.065220\n",
      "9326     35214  c050101     [1, 0, 0, 0, 1]       5  1.792389\n",
      "9450     35261  c050101     [1, 1, 0, 1, 0]       5  2.638476\n",
      "9477     35266  c050101  [0, 1, 1, 0, 1, 0]       6  2.586749\n",
      "9532     35267  c050101     [1, 0, 0, 1, 1]       5  2.377004\n",
      "9723     35269  c050101  [0, 1, 1, 1, 1, 1]       6  2.331573\n",
      "9799     35270  c050101  [0, 1, 0, 0, 1, 0]       6  1.836168\n",
      "10054    35282  c050101     [1, 0, 0, 1, 1]       5  2.377004\n",
      "10098    35284  c050101        [1, 1, 0, 1]       4  2.355754\n",
      "...        ...      ...                 ...     ...       ...\n",
      "72819    50972  c050101  [0, 1, 0, 0, 1, 0]       6  1.836168\n",
      "72955    51022  c050101        [1, 0, 1, 0]       4  1.829047\n",
      "73615    51121  c050101     [1, 1, 1, 1, 0]       5  2.601841\n",
      "73659    51122  c050101  [0, 0, 0, 0, 0, 0]       6  0.020405\n",
      "74101    51179  c050101     [1, 0, 0, 0, 0]       5  0.921024\n",
      "74232    51203  c050101     [1, 0, 0, 1, 1]       5  2.377004\n",
      "74436    51247  c050101     [0, 0, 1, 1, 1]       5  1.948480\n",
      "74781    51297  c050101           [1, 1, 1]       3  2.065220\n",
      "75289    51951  c050101        [1, 1, 0, 1]       4  2.355754\n",
      "75461    51972  c050101     [0, 0, 1, 1, 1]       5  1.948480\n",
      "76113    52073  c050101           [0, 0, 1]       3  0.892398\n",
      "76301    52132  c050101        [0, 1, 1, 1]       4  1.977233\n",
      "76369    52154  c050101        [0, 1, 1, 0]       4  1.818792\n",
      "76634    52254  c050101  [0, 0, 0, 0, 0, 0]       6  0.020405\n",
      "77423    53406  c050101           [1, 1, 1]       3  2.065220\n",
      "77648    53594  c050101           [0, 0, 0]       3  0.009850\n",
      "78603    55003  c050101        [0, 0, 1, 0]       4  0.912616\n",
      "78991    55155  c050101     [1, 0, 1, 0, 0]       5  1.866565\n",
      "79451    55319  c050101        [1, 1, 0, 0]       4  1.897671\n",
      "80010    56193  c050101           [1, 1, 1]       3  2.065220\n",
      "80363    56578  c050101        [1, 0, 1, 1]       4  2.246206\n",
      "80428    56599  c050101  [1, 0, 1, 0, 0, 1]       6  2.627408\n",
      "80795    56884  c050101     [0, 0, 1, 0, 0]       5  0.922421\n",
      "80815    56886  c050101     [1, 0, 0, 1, 1]       5  2.377004\n",
      "80830    56887  c050101        [1, 1, 0, 1]       4  2.355754\n",
      "80848    56888  c050101     [0, 1, 0, 1, 1]       5  2.176840\n",
      "80864    56889  c050101  [1, 1, 0, 0, 0, 0]       6  1.943630\n",
      "81442    57662  c050101     [0, 1, 0, 0, 0]       5  0.923404\n",
      "81572    57837  c050101        [1, 0, 1, 1]       4  2.246206\n",
      "81612    57860  c050101     [1, 0, 0, 0, 1]       5  1.792389\n",
      "\n",
      "[197 rows x 5 columns]\n",
      "       user_id tag_code            is_right  length       ssr\n",
      "0        29110  c050101     [0, 0, 1, 0, 1]       5  1.724008\n",
      "561      29845  c050101        [1, 0, 1, 1]       4  2.282366\n",
      "699      29861  c050101        [1, 1, 0, 1]       4  2.372717\n",
      "1179     30411  c050101     [1, 0, 0, 0, 1]       5  1.790143\n",
      "1277     30525  c050101           [0, 0, 0]       3  0.009734\n",
      "3352     32576  c050101  [1, 1, 1, 1, 1, 0]       6  2.870446\n",
      "3556     32991  c050101     [0, 0, 1, 0, 1]       5  1.724008\n",
      "3604     33031  c050101        [1, 0, 1, 1]       4  2.282366\n",
      "4215     34006  c050101        [1, 0, 1, 0]       4  1.818256\n",
      "4265     34062  c050101           [1, 1, 0]       3  1.809848\n",
      "5217     34719  c050101     [0, 1, 1, 1, 1]       5  2.262804\n",
      "6455     34912  c050101        [0, 1, 1, 0]       4  1.802986\n",
      "6534     34916  c050101     [0, 1, 1, 0, 1]       5  2.301855\n",
      "6739     34920  c050101     [1, 0, 1, 1, 1]       5  2.534477\n",
      "6925     34924  c050101  [0, 1, 1, 1, 1, 1]       6  2.467154\n",
      "7099     34930  c050101     [0, 1, 1, 1, 1]       5  2.262804\n",
      "7188     34932  c050101  [1, 0, 1, 0, 1, 0]       6  2.684679\n",
      "7557     34951  c050101  [0, 1, 1, 1, 1, 0]       6  2.563053\n",
      "8268     35107  c050101     [1, 0, 1, 0, 1]       5  2.478197\n",
      "8515     35126  c050101        [1, 1, 0, 1]       4  2.372717\n",
      "8759     35163  c050101           [1, 1, 1]       3  2.131901\n",
      "9294     35211  c050101           [1, 1, 1]       3  2.131901\n",
      "9326     35214  c050101     [1, 0, 0, 0, 1]       5  1.790143\n",
      "9450     35261  c050101     [1, 1, 0, 1, 0]       5  2.613300\n",
      "9477     35266  c050101  [0, 1, 1, 0, 1, 0]       6  2.558703\n",
      "9532     35267  c050101     [1, 0, 0, 1, 1]       5  2.392606\n",
      "9723     35269  c050101  [0, 1, 1, 1, 1, 1]       6  2.467154\n",
      "9799     35270  c050101  [0, 1, 0, 0, 1, 0]       6  1.827917\n",
      "10054    35282  c050101     [1, 0, 0, 1, 1]       5  2.392606\n",
      "10098    35284  c050101        [1, 1, 0, 1]       4  2.372717\n",
      "...        ...      ...                 ...     ...       ...\n",
      "72819    50972  c050101  [0, 1, 0, 0, 1, 0]       6  1.827917\n",
      "72955    51022  c050101        [1, 0, 1, 0]       4  1.818256\n",
      "73615    51121  c050101     [1, 1, 1, 1, 0]       5  2.662362\n",
      "73659    51122  c050101  [0, 0, 0, 0, 0, 0]       6  0.020256\n",
      "74101    51179  c050101     [1, 0, 0, 0, 0]       5  0.919878\n",
      "74232    51203  c050101     [1, 0, 0, 1, 1]       5  2.392606\n",
      "74436    51247  c050101     [0, 0, 1, 1, 1]       5  2.007396\n",
      "74781    51297  c050101           [1, 1, 1]       3  2.131901\n",
      "75289    51951  c050101        [1, 1, 0, 1]       4  2.372717\n",
      "75461    51972  c050101     [0, 0, 1, 1, 1]       5  2.007396\n",
      "76113    52073  c050101           [0, 0, 1]       3  0.892780\n",
      "76301    52132  c050101        [0, 1, 1, 1]       4  2.040136\n",
      "76369    52154  c050101        [0, 1, 1, 0]       4  1.802986\n",
      "76634    52254  c050101  [0, 0, 0, 0, 0, 0]       6  0.020256\n",
      "77423    53406  c050101           [1, 1, 1]       3  2.131901\n",
      "77648    53594  c050101           [0, 0, 0]       3  0.009734\n",
      "78603    55003  c050101        [0, 0, 1, 0]       4  0.910718\n",
      "78991    55155  c050101     [1, 0, 1, 0, 0]       5  1.853462\n",
      "79451    55319  c050101        [1, 1, 0, 0]       4  1.872226\n",
      "80010    56193  c050101           [1, 1, 1]       3  2.131901\n",
      "80363    56578  c050101        [1, 0, 1, 1]       4  2.282366\n",
      "80428    56599  c050101  [1, 0, 1, 0, 0, 1]       6  2.609532\n",
      "80795    56884  c050101     [0, 0, 1, 0, 0]       5  0.920357\n",
      "80815    56886  c050101     [1, 0, 0, 1, 1]       5  2.392606\n",
      "80830    56887  c050101        [1, 1, 0, 1]       4  2.372717\n",
      "80848    56888  c050101     [0, 1, 0, 1, 1]       5  2.209811\n",
      "80864    56889  c050101  [1, 1, 0, 0, 0, 0]       6  1.917164\n",
      "81442    57662  c050101     [0, 1, 0, 0, 0]       5  0.921656\n",
      "81572    57837  c050101        [1, 0, 1, 1]       4  2.282366\n",
      "81612    57860  c050101     [1, 0, 0, 0, 1]       5  1.790143\n",
      "\n",
      "[197 rows x 5 columns]\n",
      "       user_id tag_code            is_right  length       ssr\n",
      "0        29110  c050101     [0, 0, 1, 0, 1]       5  1.725270\n",
      "561      29845  c050101        [1, 0, 1, 1]       4  2.321822\n",
      "699      29861  c050101        [1, 1, 0, 1]       4  2.395490\n",
      "1179     30411  c050101     [1, 0, 0, 0, 1]       5  1.788346\n",
      "1277     30525  c050101           [0, 0, 0]       3  0.009611\n",
      "3352     32576  c050101  [1, 1, 1, 1, 1, 0]       6  2.978261\n",
      "3556     32991  c050101     [0, 0, 1, 0, 1]       5  1.725270\n",
      "3604     33031  c050101        [1, 0, 1, 1]       4  2.321822\n",
      "4215     34006  c050101        [1, 0, 1, 0]       4  1.809116\n",
      "4265     34062  c050101           [1, 1, 0]       3  1.798708\n",
      "5217     34719  c050101     [0, 1, 1, 1, 1]       5  2.370066\n",
      "6455     34912  c050101        [0, 1, 1, 0]       4  1.790492\n",
      "6534     34916  c050101     [0, 1, 1, 0, 1]       5  2.322916\n",
      "6739     34920  c050101     [1, 0, 1, 1, 1]       5  2.617880\n",
      "6925     34924  c050101  [0, 1, 1, 1, 1, 1]       6  2.612591\n",
      "7099     34930  c050101     [0, 1, 1, 1, 1]       5  2.370066\n",
      "7188     34932  c050101  [1, 0, 1, 0, 1, 0]       6  2.658469\n",
      "7557     34951  c050101  [0, 1, 1, 1, 1, 0]       6  2.627654\n",
      "8268     35107  c050101     [1, 0, 1, 0, 1]       5  2.483487\n",
      "8515     35126  c050101        [1, 1, 0, 1]       4  2.395490\n",
      "8759     35163  c050101           [1, 1, 1]       3  2.199488\n",
      "9294     35211  c050101           [1, 1, 1]       3  2.199488\n",
      "9326     35214  c050101     [1, 0, 0, 0, 1]       5  1.788346\n",
      "9450     35261  c050101     [1, 1, 0, 1, 0]       5  2.596665\n",
      "9477     35266  c050101  [0, 1, 1, 0, 1, 0]       6  2.540177\n",
      "9532     35267  c050101     [1, 0, 0, 1, 1]       5  2.412528\n",
      "9723     35269  c050101  [0, 1, 1, 1, 1, 1]       6  2.612591\n",
      "9799     35270  c050101  [0, 1, 0, 0, 1, 0]       6  1.819629\n",
      "10054    35282  c050101     [1, 0, 0, 1, 1]       5  2.412528\n",
      "10098    35284  c050101        [1, 1, 0, 1]       4  2.395490\n",
      "...        ...      ...                 ...     ...       ...\n",
      "72819    50972  c050101  [0, 1, 0, 0, 1, 0]       6  1.819629\n",
      "72955    51022  c050101        [1, 0, 1, 0]       4  1.809116\n",
      "73615    51121  c050101     [1, 1, 1, 1, 0]       5  2.731281\n",
      "73659    51122  c050101  [0, 0, 0, 0, 0, 0]       6  0.020086\n",
      "74101    51179  c050101     [1, 0, 0, 0, 0]       5  0.918814\n",
      "74232    51203  c050101     [1, 0, 0, 1, 1]       5  2.412528\n",
      "74436    51247  c050101     [0, 0, 1, 1, 1]       5  2.069376\n",
      "74781    51297  c050101           [1, 1, 1]       3  2.199488\n",
      "75289    51951  c050101        [1, 1, 0, 1]       4  2.395490\n",
      "75461    51972  c050101     [0, 0, 1, 1, 1]       5  2.069376\n",
      "76113    52073  c050101           [0, 0, 1]       3  0.893250\n",
      "76301    52132  c050101        [0, 1, 1, 1]       4  2.105640\n",
      "76369    52154  c050101        [0, 1, 1, 0]       4  1.790492\n",
      "76634    52254  c050101  [0, 0, 0, 0, 0, 0]       6  0.020086\n",
      "77423    53406  c050101           [1, 1, 1]       3  2.199488\n",
      "77648    53594  c050101           [0, 0, 0]       3  0.009611\n",
      "78603    55003  c050101        [0, 0, 1, 0]       4  0.909023\n",
      "78991    55155  c050101     [1, 0, 1, 0, 0]       5  1.841085\n",
      "79451    55319  c050101        [1, 1, 0, 0]       4  1.850457\n",
      "80010    56193  c050101           [1, 1, 1]       3  2.199488\n",
      "80363    56578  c050101        [1, 0, 1, 1]       4  2.321822\n",
      "80428    56599  c050101  [1, 0, 1, 0, 0, 1]       6  2.596795\n",
      "80795    56884  c050101     [0, 0, 1, 0, 0]       5  0.918342\n",
      "80815    56886  c050101     [1, 0, 0, 1, 1]       5  2.412528\n",
      "80830    56887  c050101        [1, 1, 0, 1]       4  2.395490\n",
      "80848    56888  c050101     [0, 1, 0, 1, 1]       5  2.247560\n",
      "80864    56889  c050101  [1, 1, 0, 0, 0, 0]       6  1.892940\n",
      "81442    57662  c050101     [0, 1, 0, 0, 0]       5  0.919958\n",
      "81572    57837  c050101        [1, 0, 1, 1]       4  2.321822\n",
      "81612    57860  c050101     [1, 0, 0, 0, 1]       5  1.788346\n",
      "\n"
     ]
    },
    {
     "name": "stdout",
     "output_type": "stream",
     "text": [
      "[197 rows x 5 columns]\n",
      "       user_id tag_code            is_right  length       ssr\n",
      "0        29110  c050101     [0, 0, 1, 0, 1]       5  1.728121\n",
      "561      29845  c050101        [1, 0, 1, 1]       4  2.363819\n",
      "699      29861  c050101        [1, 1, 0, 1]       4  2.423204\n",
      "1179     30411  c050101     [1, 0, 0, 0, 1]       5  1.787091\n",
      "1277     30525  c050101           [0, 0, 0]       3  0.009478\n",
      "3352     32576  c050101  [1, 1, 1, 1, 1, 0]       6  3.097577\n",
      "3556     32991  c050101     [0, 0, 1, 0, 1]       5  1.728121\n",
      "3604     33031  c050101        [1, 0, 1, 1]       4  2.363819\n",
      "4215     34006  c050101        [1, 0, 1, 0]       4  1.801797\n",
      "4265     34062  c050101           [1, 1, 0]       3  1.790676\n",
      "5217     34719  c050101     [0, 1, 1, 1, 1]       5  2.483558\n",
      "6455     34912  c050101        [0, 1, 1, 0]       4  1.781233\n",
      "6534     34916  c050101     [0, 1, 1, 0, 1]       5  2.350253\n",
      "6739     34920  c050101     [1, 0, 1, 1, 1]       5  2.708081\n",
      "6925     34924  c050101  [0, 1, 1, 1, 1, 1]       6  2.767669\n",
      "7099     34930  c050101     [0, 1, 1, 1, 1]       5  2.483558\n",
      "7188     34932  c050101  [1, 0, 1, 0, 1, 0]       6  2.639475\n",
      "7557     34951  c050101  [0, 1, 1, 1, 1, 0]       6  2.701627\n",
      "8268     35107  c050101     [1, 0, 1, 0, 1]       5  2.494470\n",
      "8515     35126  c050101        [1, 1, 0, 1]       4  2.423204\n",
      "8759     35163  c050101           [1, 1, 1]       3  2.267207\n",
      "9294     35211  c050101           [1, 1, 1]       3  2.267207\n",
      "9326     35214  c050101     [1, 0, 0, 0, 1]       5  1.787091\n",
      "9450     35261  c050101     [1, 1, 0, 1, 0]       5  2.587907\n",
      "9477     35266  c050101  [0, 1, 1, 0, 1, 0]       6  2.530706\n",
      "9532     35267  c050101     [1, 0, 0, 1, 1]       5  2.436298\n",
      "9723     35269  c050101  [0, 1, 1, 1, 1, 1]       6  2.767669\n",
      "9799     35270  c050101  [0, 1, 0, 0, 1, 0]       6  1.811798\n",
      "10054    35282  c050101     [1, 0, 0, 1, 1]       5  2.436298\n",
      "10098    35284  c050101        [1, 1, 0, 1]       4  2.423204\n",
      "...        ...      ...                 ...     ...       ...\n",
      "72819    50972  c050101  [0, 1, 0, 0, 1, 0]       6  1.811798\n",
      "72955    51022  c050101        [1, 0, 1, 0]       4  1.801797\n",
      "73615    51121  c050101     [1, 1, 1, 1, 0]       5  2.808074\n",
      "73659    51122  c050101  [0, 0, 0, 0, 0, 0]       6  0.019890\n",
      "74101    51179  c050101     [1, 0, 0, 0, 0]       5  0.917821\n",
      "74232    51203  c050101     [1, 0, 0, 1, 1]       5  2.436298\n",
      "74436    51247  c050101     [0, 0, 1, 1, 1]       5  2.134155\n",
      "74781    51297  c050101           [1, 1, 1]       3  2.267207\n",
      "75289    51951  c050101        [1, 1, 0, 1]       4  2.423204\n",
      "75461    51972  c050101     [0, 0, 1, 1, 1]       5  2.134155\n",
      "76113    52073  c050101           [0, 0, 1]       3  0.893815\n",
      "76301    52132  c050101        [0, 1, 1, 1]       4  2.173271\n",
      "76369    52154  c050101        [0, 1, 1, 0]       4  1.781233\n",
      "76634    52254  c050101  [0, 0, 0, 0, 0, 0]       6  0.019890\n",
      "77423    53406  c050101           [1, 1, 1]       3  2.267207\n",
      "77648    53594  c050101           [0, 0, 0]       3  0.009478\n",
      "78603    55003  c050101        [0, 0, 1, 0]       4  0.907553\n",
      "78991    55155  c050101     [1, 0, 1, 0, 0]       5  1.829931\n",
      "79451    55319  c050101        [1, 1, 0, 0]       4  1.832571\n",
      "80010    56193  c050101           [1, 1, 1]       3  2.267207\n",
      "80363    56578  c050101        [1, 0, 1, 1]       4  2.363819\n",
      "80428    56599  c050101  [1, 0, 1, 0, 0, 1]       6  2.589578\n",
      "80795    56884  c050101     [0, 0, 1, 0, 0]       5  0.916417\n",
      "80815    56886  c050101     [1, 0, 0, 1, 1]       5  2.436298\n",
      "80830    56887  c050101        [1, 1, 0, 1]       4  2.423204\n",
      "80848    56888  c050101     [0, 1, 0, 1, 1]       5  2.289517\n",
      "80864    56889  c050101  [1, 1, 0, 0, 0, 0]       6  1.871452\n",
      "81442    57662  c050101     [0, 1, 0, 0, 0]       5  0.918332\n",
      "81572    57837  c050101        [1, 0, 1, 1]       4  2.363819\n",
      "81612    57860  c050101     [1, 0, 0, 0, 1]       5  1.787091\n",
      "\n",
      "[197 rows x 5 columns]\n",
      "       user_id tag_code            is_right  length       ssr\n",
      "0        29110  c050101     [0, 0, 1, 0, 1]       5  1.732491\n",
      "561      29845  c050101        [1, 0, 1, 1]       4  2.407551\n",
      "699      29861  c050101        [1, 1, 0, 1]       4  2.454897\n",
      "1179     30411  c050101     [1, 0, 0, 0, 1]       5  1.786461\n",
      "1277     30525  c050101           [0, 0, 0]       3  0.009336\n",
      "3352     32576  c050101  [1, 1, 1, 1, 1, 0]       6  3.227922\n",
      "3556     32991  c050101     [0, 0, 1, 0, 1]       5  1.732491\n",
      "3604     33031  c050101        [1, 0, 1, 1]       4  2.407551\n",
      "4215     34006  c050101        [1, 0, 1, 0]       4  1.796376\n",
      "4265     34062  c050101           [1, 1, 0]       3  1.785537\n",
      "5217     34719  c050101     [0, 1, 1, 1, 1]       5  2.602894\n",
      "6455     34912  c050101        [0, 1, 1, 0]       4  1.775101\n",
      "6534     34916  c050101     [0, 1, 1, 0, 1]       5  2.383172\n",
      "6739     34920  c050101     [1, 0, 1, 1, 1]       5  2.804430\n",
      "6925     34924  c050101  [0, 1, 1, 1, 1, 1]       6  2.932103\n",
      "7099     34930  c050101     [0, 1, 1, 1, 1]       5  2.602894\n",
      "7188     34932  c050101  [1, 0, 1, 0, 1, 0]       6  2.627532\n",
      "7557     34951  c050101  [0, 1, 1, 1, 1, 0]       6  2.784568\n",
      "8268     35107  c050101     [1, 0, 1, 0, 1]       5  2.510471\n",
      "8515     35126  c050101        [1, 1, 0, 1]       4  2.454897\n",
      "8759     35163  c050101           [1, 1, 1]       3  2.334120\n",
      "9294     35211  c050101           [1, 1, 1]       3  2.334120\n",
      "9326     35214  c050101     [1, 0, 0, 0, 1]       5  1.786461\n",
      "9450     35261  c050101     [1, 1, 0, 1, 0]       5  2.586272\n",
      "9477     35266  c050101  [0, 1, 1, 0, 1, 0]       6  2.529740\n",
      "9532     35267  c050101     [1, 0, 0, 1, 1]       5  2.463363\n",
      "9723     35269  c050101  [0, 1, 1, 1, 1, 1]       6  2.932103\n",
      "9799     35270  c050101  [0, 1, 0, 0, 1, 0]       6  1.804879\n",
      "10054    35282  c050101     [1, 0, 0, 1, 1]       5  2.463363\n",
      "10098    35284  c050101        [1, 1, 0, 1]       4  2.454897\n",
      "...        ...      ...                 ...     ...       ...\n",
      "72819    50972  c050101  [0, 1, 0, 0, 1, 0]       6  1.804879\n",
      "72955    51022  c050101        [1, 0, 1, 0]       4  1.796376\n",
      "73615    51121  c050101     [1, 1, 1, 1, 0]       5  2.892084\n",
      "73659    51122  c050101  [0, 0, 0, 0, 0, 0]       6  0.019665\n",
      "74101    51179  c050101     [1, 0, 0, 0, 0]       5  0.916895\n",
      "74232    51203  c050101     [1, 0, 0, 1, 1]       5  2.463363\n",
      "74436    51247  c050101     [0, 0, 1, 1, 1]       5  2.201340\n",
      "74781    51297  c050101           [1, 1, 1]       3  2.334120\n",
      "75289    51951  c050101        [1, 1, 0, 1]       4  2.454897\n",
      "75461    51972  c050101     [0, 0, 1, 1, 1]       5  2.201340\n",
      "76113    52073  c050101           [0, 0, 1]       3  0.894483\n",
      "76301    52132  c050101        [0, 1, 1, 1]       4  2.242398\n",
      "76369    52154  c050101        [0, 1, 1, 0]       4  1.775101\n",
      "76634    52254  c050101  [0, 0, 0, 0, 0, 0]       6  0.019665\n",
      "77423    53406  c050101           [1, 1, 1]       3  2.334120\n",
      "77648    53594  c050101           [0, 0, 0]       3  0.009336\n",
      "78603    55003  c050101        [0, 0, 1, 0]       4  0.906331\n",
      "78991    55155  c050101     [1, 0, 1, 0, 0]       5  1.820388\n",
      "79451    55319  c050101        [1, 1, 0, 0]       4  1.818608\n",
      "80010    56193  c050101           [1, 1, 1]       3  2.334120\n",
      "80363    56578  c050101        [1, 0, 1, 1]       4  2.407551\n",
      "80428    56599  c050101  [1, 0, 1, 0, 0, 1]       6  2.587959\n",
      "80795    56884  c050101     [0, 0, 1, 0, 0]       5  0.914625\n",
      "80815    56886  c050101     [1, 0, 0, 1, 1]       5  2.463363\n",
      "80830    56887  c050101        [1, 1, 0, 1]       4  2.454897\n",
      "80848    56888  c050101     [0, 1, 0, 1, 1]       5  2.335042\n",
      "80864    56889  c050101  [1, 1, 0, 0, 0, 0]       6  1.853088\n",
      "81442    57662  c050101     [0, 1, 0, 0, 0]       5  0.916801\n",
      "81572    57837  c050101        [1, 0, 1, 1]       4  2.407551\n",
      "81612    57860  c050101     [1, 0, 0, 0, 1]       5  1.786461\n",
      "\n",
      "[197 rows x 5 columns]\n",
      "       user_id tag_code            is_right  length       ssr\n",
      "0        29110  c050101     [0, 0, 1, 0, 1]       5  1.738283\n",
      "561      29845  c050101        [1, 0, 1, 1]       4  2.452125\n",
      "699      29861  c050101        [1, 1, 0, 1]       4  2.489477\n",
      "1179     30411  c050101     [1, 0, 0, 0, 1]       5  1.786519\n",
      "1277     30525  c050101           [0, 0, 0]       3  0.009184\n",
      "3352     32576  c050101  [1, 1, 1, 1, 1, 0]       6  3.368741\n",
      "3556     32991  c050101     [0, 0, 1, 0, 1]       5  1.738283\n",
      "3604     33031  c050101        [1, 0, 1, 1]       4  2.452125\n",
      "4215     34006  c050101        [1, 0, 1, 0]       4  1.792844\n",
      "4265     34062  c050101           [1, 1, 0]       3  1.783010\n",
      "5217     34719  c050101     [0, 1, 1, 1, 1]       5  2.727534\n",
      "6455     34912  c050101        [0, 1, 1, 0]       4  1.771938\n",
      "6534     34916  c050101     [0, 1, 1, 0, 1]       5  2.420842\n",
      "6739     34920  c050101     [1, 0, 1, 1, 1]       5  2.906157\n",
      "6925     34924  c050101  [0, 1, 1, 1, 1, 1]       6  3.105513\n",
      "7099     34930  c050101     [0, 1, 1, 1, 1]       5  2.727534\n",
      "7188     34932  c050101  [1, 0, 1, 0, 1, 0]       6  2.622271\n",
      "7557     34951  c050101  [0, 1, 1, 1, 1, 0]       6  2.875912\n",
      "8268     35107  c050101     [1, 0, 1, 0, 1]       5  2.530707\n",
      "8515     35126  c050101        [1, 1, 0, 1]       4  2.489477\n",
      "8759     35163  c050101           [1, 1, 1]       3  2.399117\n",
      "9294     35211  c050101           [1, 1, 1]       3  2.399117\n",
      "9326     35214  c050101     [1, 0, 0, 0, 1]       5  1.786519\n",
      "9450     35261  c050101     [1, 1, 0, 1, 0]       5  2.590890\n",
      "9477     35266  c050101  [0, 1, 1, 0, 1, 0]       6  2.536593\n",
      "9532     35267  c050101     [1, 0, 0, 1, 1]       5  2.493074\n",
      "9723     35269  c050101  [0, 1, 1, 1, 1, 1]       6  3.105513\n",
      "9799     35270  c050101  [0, 1, 0, 0, 1, 0]       6  1.799265\n",
      "10054    35282  c050101     [1, 0, 0, 1, 1]       5  2.493074\n",
      "10098    35284  c050101        [1, 1, 0, 1]       4  2.489477\n",
      "...        ...      ...                 ...     ...       ...\n",
      "72819    50972  c050101  [0, 1, 0, 0, 1, 0]       6  1.799265\n",
      "72955    51022  c050101        [1, 0, 1, 0]       4  1.792844\n",
      "73615    51121  c050101     [1, 1, 1, 1, 0]       5  2.982474\n",
      "73659    51122  c050101  [0, 0, 0, 0, 0, 0]       6  0.019405\n",
      "74101    51179  c050101     [1, 0, 0, 0, 0]       5  0.916032\n",
      "74232    51203  c050101     [1, 0, 0, 1, 1]       5  2.493074\n",
      "74436    51247  c050101     [0, 0, 1, 1, 1]       5  2.270360\n",
      "74781    51297  c050101           [1, 1, 1]       3  2.399117\n",
      "75289    51951  c050101        [1, 1, 0, 1]       4  2.489477\n",
      "75461    51972  c050101     [0, 0, 1, 1, 1]       5  2.270360\n",
      "76113    52073  c050101           [0, 0, 1]       3  0.895262\n",
      "76301    52132  c050101        [0, 1, 1, 1]       4  2.312180\n",
      "76369    52154  c050101        [0, 1, 1, 0]       4  1.771938\n",
      "76634    52254  c050101  [0, 0, 0, 0, 0, 0]       6  0.019405\n",
      "77423    53406  c050101           [1, 1, 1]       3  2.399117\n",
      "77648    53594  c050101           [0, 0, 0]       3  0.009184\n",
      "78603    55003  c050101        [0, 0, 1, 0]       4  0.905379\n",
      "78991    55155  c050101     [1, 0, 1, 0, 0]       5  1.812727\n",
      "79451    55319  c050101        [1, 1, 0, 0]       4  1.808445\n",
      "80010    56193  c050101           [1, 1, 1]       3  2.399117\n",
      "80363    56578  c050101        [1, 0, 1, 1]       4  2.452125\n",
      "80428    56599  c050101  [1, 0, 1, 0, 0, 1]       6  2.591739\n",
      "80795    56884  c050101     [0, 0, 1, 0, 0]       5  0.913012\n",
      "80815    56886  c050101     [1, 0, 0, 1, 1]       5  2.493074\n",
      "80830    56887  c050101        [1, 1, 0, 1]       4  2.489477\n",
      "80848    56888  c050101     [0, 1, 0, 1, 1]       5  2.383376\n",
      "80864    56889  c050101  [1, 1, 0, 0, 0, 0]       6  1.838096\n",
      "81442    57662  c050101     [0, 1, 0, 0, 0]       5  0.915391\n",
      "81572    57837  c050101        [1, 0, 1, 1]       4  2.452125\n",
      "81612    57860  c050101     [1, 0, 0, 0, 1]       5  1.786519\n",
      "\n"
     ]
    },
    {
     "name": "stdout",
     "output_type": "stream",
     "text": [
      "[197 rows x 5 columns]\n",
      "       user_id tag_code            is_right  length       ssr\n",
      "0        29110  c050101     [0, 0, 1, 0, 1]       5  1.745369\n",
      "561      29845  c050101        [1, 0, 1, 1]       4  2.496544\n",
      "699      29861  c050101        [1, 1, 0, 1]       4  2.525696\n",
      "1179     30411  c050101     [1, 0, 0, 0, 1]       5  1.787309\n",
      "1277     30525  c050101           [0, 0, 0]       3  0.009023\n",
      "3352     32576  c050101  [1, 1, 1, 1, 1, 0]       6  3.519359\n",
      "3556     32991  c050101     [0, 0, 1, 0, 1]       5  1.745369\n",
      "3604     33031  c050101        [1, 0, 1, 1]       4  2.496544\n",
      "4215     34006  c050101        [1, 0, 1, 0]       4  1.791111\n",
      "4265     34062  c050101           [1, 1, 0]       3  1.782746\n",
      "5217     34719  c050101     [0, 1, 1, 1, 1]       5  2.856711\n",
      "6455     34912  c050101        [0, 1, 1, 0]       4  1.771524\n",
      "6534     34916  c050101     [0, 1, 1, 0, 1]       5  2.462228\n",
      "6739     34920  c050101     [1, 0, 1, 1, 1]       5  3.012255\n",
      "6925     34924  c050101  [0, 1, 1, 1, 1, 1]       6  3.287400\n",
      "7099     34930  c050101     [0, 1, 1, 1, 1]       5  2.856711\n",
      "7188     34932  c050101  [1, 0, 1, 0, 1, 0]       6  2.623142\n",
      "7557     34951  c050101  [0, 1, 1, 1, 1, 0]       6  2.974862\n",
      "8268     35107  c050101     [1, 0, 1, 0, 1]       5  2.554262\n",
      "8515     35126  c050101        [1, 1, 0, 1]       4  2.525696\n",
      "8759     35163  c050101           [1, 1, 1]       3  2.460932\n",
      "9294     35211  c050101           [1, 1, 1]       3  2.460932\n",
      "9326     35214  c050101     [1, 0, 0, 0, 1]       5  1.787309\n",
      "9450     35261  c050101     [1, 1, 0, 1, 0]       5  2.600776\n",
      "9477     35266  c050101  [0, 1, 1, 0, 1, 0]       6  2.550397\n",
      "9532     35267  c050101     [1, 0, 0, 1, 1]       5  2.524670\n",
      "9723     35269  c050101  [0, 1, 1, 1, 1, 1]       6  3.287400\n",
      "9799     35270  c050101  [0, 1, 0, 0, 1, 0]       6  1.795262\n",
      "10054    35282  c050101     [1, 0, 0, 1, 1]       5  2.524670\n",
      "10098    35284  c050101        [1, 1, 0, 1]       4  2.525696\n",
      "...        ...      ...                 ...     ...       ...\n",
      "72819    50972  c050101  [0, 1, 0, 0, 1, 0]       6  1.795262\n",
      "72955    51022  c050101        [1, 0, 1, 0]       4  1.791111\n",
      "73615    51121  c050101     [1, 1, 1, 1, 0]       5  3.078129\n",
      "73659    51122  c050101  [0, 0, 0, 0, 0, 0]       6  0.019106\n",
      "74101    51179  c050101     [1, 0, 0, 0, 0]       5  0.915236\n",
      "74232    51203  c050101     [1, 0, 0, 1, 1]       5  2.524670\n",
      "74436    51247  c050101     [0, 0, 1, 1, 1]       5  2.340398\n",
      "74781    51297  c050101           [1, 1, 1]       3  2.460932\n",
      "75289    51951  c050101        [1, 1, 0, 1]       4  2.525696\n",
      "75461    51972  c050101     [0, 0, 1, 1, 1]       5  2.340398\n",
      "76113    52073  c050101           [0, 0, 1]       3  0.896160\n",
      "76301    52132  c050101        [0, 1, 1, 1]       4  2.381516\n",
      "76369    52154  c050101        [0, 1, 1, 0]       4  1.771524\n",
      "76634    52254  c050101  [0, 0, 0, 0, 0, 0]       6  0.019106\n",
      "77423    53406  c050101           [1, 1, 1]       3  2.460932\n",
      "77648    53594  c050101           [0, 0, 0]       3  0.009023\n",
      "78603    55003  c050101        [0, 0, 1, 0]       4  0.904715\n",
      "78991    55155  c050101     [1, 0, 1, 0, 0]       5  1.807091\n",
      "79451    55319  c050101        [1, 1, 0, 0]       4  1.801805\n",
      "80010    56193  c050101           [1, 1, 1]       3  2.460932\n",
      "80363    56578  c050101        [1, 0, 1, 1]       4  2.496544\n",
      "80428    56599  c050101  [1, 0, 1, 0, 0, 1]       6  2.600458\n",
      "80795    56884  c050101     [0, 0, 1, 0, 0]       5  0.911625\n",
      "80815    56886  c050101     [1, 0, 0, 1, 1]       5  2.524670\n",
      "80830    56887  c050101        [1, 1, 0, 1]       4  2.525696\n",
      "80848    56888  c050101     [0, 1, 0, 1, 1]       5  2.433590\n",
      "80864    56889  c050101  [1, 1, 0, 0, 0, 0]       6  1.826553\n",
      "81442    57662  c050101     [0, 1, 0, 0, 0]       5  0.914132\n",
      "81572    57837  c050101        [1, 0, 1, 1]       4  2.496544\n",
      "81612    57860  c050101     [1, 0, 0, 0, 1]       5  1.787309\n",
      "\n",
      "[197 rows x 5 columns]\n",
      "       user_id tag_code            is_right  length       ssr\n",
      "0        29110  c050101     [0, 0, 1, 0, 1]       5  1.753577\n",
      "561      29845  c050101        [1, 0, 1, 1]       4  2.539698\n",
      "699      29861  c050101        [1, 1, 0, 1]       4  2.562151\n",
      "1179     30411  c050101     [1, 0, 0, 0, 1]       5  1.788848\n",
      "1277     30525  c050101           [0, 0, 0]       3  0.008852\n",
      "3352     32576  c050101  [1, 1, 1, 1, 1, 0]       6  3.678851\n",
      "3556     32991  c050101     [0, 0, 1, 0, 1]       5  1.753577\n",
      "3604     33031  c050101        [1, 0, 1, 1]       4  2.539698\n",
      "4215     34006  c050101        [1, 0, 1, 0]       4  1.791013\n",
      "4265     34062  c050101           [1, 1, 0]       3  1.784328\n",
      "5217     34719  c050101     [0, 1, 1, 1, 1]       5  2.989288\n",
      "6455     34912  c050101        [0, 1, 1, 0]       4  1.773558\n",
      "6534     34916  c050101     [0, 1, 1, 0, 1]       5  2.506014\n",
      "6739     34920  c050101     [1, 0, 1, 1, 1]       5  3.121284\n",
      "6925     34924  c050101  [0, 1, 1, 1, 1, 1]       6  3.477075\n",
      "7099     34930  c050101     [0, 1, 1, 1, 1]       5  2.989288\n",
      "7188     34932  c050101  [1, 0, 1, 0, 1, 0]       6  2.629418\n",
      "7557     34951  c050101  [0, 1, 1, 1, 1, 0]       6  3.080240\n",
      "8268     35107  c050101     [1, 0, 1, 0, 1]       5  2.580074\n",
      "8515     35126  c050101        [1, 1, 0, 1]       4  2.562151\n",
      "8759     35163  c050101           [1, 1, 1]       3  2.518183\n",
      "9294     35211  c050101           [1, 1, 1]       3  2.518183\n",
      "9326     35214  c050101     [1, 0, 0, 0, 1]       5  1.788848\n",
      "9450     35261  c050101     [1, 1, 0, 1, 0]       5  2.614831\n",
      "9477     35266  c050101  [0, 1, 1, 0, 1, 0]       6  2.570053\n",
      "9532     35267  c050101     [1, 0, 0, 1, 1]       5  2.557258\n",
      "9723     35269  c050101  [0, 1, 1, 1, 1, 1]       6  3.477075\n",
      "9799     35270  c050101  [0, 1, 0, 0, 1, 0]       6  1.793072\n",
      "10054    35282  c050101     [1, 0, 0, 1, 1]       5  2.557258\n",
      "10098    35284  c050101        [1, 1, 0, 1]       4  2.562151\n",
      "...        ...      ...                 ...     ...       ...\n",
      "72819    50972  c050101  [0, 1, 0, 0, 1, 0]       6  1.793072\n",
      "72955    51022  c050101        [1, 0, 1, 0]       4  1.791013\n",
      "73615    51121  c050101     [1, 1, 1, 1, 0]       5  3.177443\n",
      "73659    51122  c050101  [0, 0, 0, 0, 0, 0]       6  0.018762\n",
      "74101    51179  c050101     [1, 0, 0, 0, 0]       5  0.914512\n",
      "74232    51203  c050101     [1, 0, 0, 1, 1]       5  2.557258\n",
      "74436    51247  c050101     [0, 0, 1, 1, 1]       5  2.410307\n",
      "74781    51297  c050101           [1, 1, 1]       3  2.518183\n",
      "75289    51951  c050101        [1, 1, 0, 1]       4  2.562151\n",
      "75461    51972  c050101     [0, 0, 1, 1, 1]       5  2.410307\n",
      "76113    52073  c050101           [0, 0, 1]       3  0.897186\n",
      "76301    52132  c050101        [0, 1, 1, 1]       4  2.448983\n",
      "76369    52154  c050101        [0, 1, 1, 0]       4  1.773558\n",
      "76634    52254  c050101  [0, 0, 0, 0, 0, 0]       6  0.018762\n",
      "77423    53406  c050101           [1, 1, 1]       3  2.518183\n",
      "77648    53594  c050101           [0, 0, 0]       3  0.008852\n",
      "78603    55003  c050101        [0, 0, 1, 0]       4  0.904354\n",
      "78991    55155  c050101     [1, 0, 1, 0, 0]       5  1.803492\n",
      "79451    55319  c050101        [1, 1, 0, 0]       4  1.798265\n",
      "80010    56193  c050101           [1, 1, 1]       3  2.518183\n",
      "80363    56578  c050101        [1, 0, 1, 1]       4  2.539698\n",
      "80428    56599  c050101  [1, 0, 1, 0, 0, 1]       6  2.613394\n",
      "80795    56884  c050101     [0, 0, 1, 0, 0]       5  0.910511\n",
      "80815    56886  c050101     [1, 0, 0, 1, 1]       5  2.557258\n",
      "80830    56887  c050101        [1, 1, 0, 1]       4  2.562151\n",
      "80848    56888  c050101     [0, 1, 0, 1, 1]       5  2.484524\n",
      "80864    56889  c050101  [1, 1, 0, 0, 0, 0]       6  1.818349\n",
      "81442    57662  c050101     [0, 1, 0, 0, 0]       5  0.913055\n",
      "81572    57837  c050101        [1, 0, 1, 1]       4  2.539698\n",
      "81612    57860  c050101     [1, 0, 0, 0, 1]       5  1.788848\n",
      "\n",
      "[197 rows x 5 columns]\n",
      "       user_id tag_code            is_right  length       ssr\n",
      "0        29110  c050101     [0, 0, 1, 0, 1]       5  1.762688\n",
      "561      29845  c050101        [1, 0, 1, 1]       4  2.580376\n",
      "699      29861  c050101        [1, 1, 0, 1]       4  2.597319\n",
      "1179     30411  c050101     [1, 0, 0, 0, 1]       5  1.791123\n",
      "1277     30525  c050101           [0, 0, 0]       3  0.008670\n",
      "3352     32576  c050101  [1, 1, 1, 1, 1, 0]       6  3.845690\n",
      "3556     32991  c050101     [0, 0, 1, 0, 1]       5  1.762688\n",
      "3604     33031  c050101        [1, 0, 1, 1]       4  2.580376\n",
      "4215     34006  c050101        [1, 0, 1, 0]       4  1.792318\n",
      "4265     34062  c050101           [1, 1, 0]       3  1.787284\n",
      "5217     34719  c050101     [0, 1, 1, 1, 1]       5  3.123448\n",
      "6455     34912  c050101        [0, 1, 1, 0]       4  1.777634\n",
      "6534     34916  c050101     [0, 1, 1, 0, 1]       5  2.550539\n",
      "6739     34920  c050101     [1, 0, 1, 1, 1]       5  3.231011\n",
      "6925     34924  c050101  [0, 1, 1, 1, 1, 1]       6  3.673491\n",
      "7099     34930  c050101     [0, 1, 1, 1, 1]       5  3.123448\n",
      "7188     34932  c050101  [1, 0, 1, 0, 1, 0]       6  2.640174\n",
      "7557     34951  c050101  [0, 1, 1, 1, 1, 0]       6  3.190194\n",
      "8268     35107  c050101     [1, 0, 1, 0, 1]       5  2.606924\n",
      "8515     35126  c050101        [1, 1, 0, 1]       4  2.597319\n",
      "8759     35163  c050101           [1, 1, 1]       3  2.569457\n",
      "9294     35211  c050101           [1, 1, 1]       3  2.569457\n",
      "9326     35214  c050101     [1, 0, 0, 0, 1]       5  1.791123\n",
      "9450     35261  c050101     [1, 1, 0, 1, 0]       5  2.631849\n",
      "9477     35266  c050101  [0, 1, 1, 0, 1, 0]       6  2.594182\n",
      "9532     35267  c050101     [1, 0, 0, 1, 1]       5  2.589800\n",
      "9723     35269  c050101  [0, 1, 1, 1, 1, 1]       6  3.673491\n",
      "9799     35270  c050101  [0, 1, 0, 0, 1, 0]       6  1.792779\n",
      "10054    35282  c050101     [1, 0, 0, 1, 1]       5  2.589800\n",
      "10098    35284  c050101        [1, 1, 0, 1]       4  2.597319\n",
      "...        ...      ...                 ...     ...       ...\n",
      "72819    50972  c050101  [0, 1, 0, 0, 1, 0]       6  1.792779\n",
      "72955    51022  c050101        [1, 0, 1, 0]       4  1.792318\n",
      "73615    51121  c050101     [1, 1, 1, 1, 0]       5  3.277902\n",
      "73659    51122  c050101  [0, 0, 0, 0, 0, 0]       6  0.018367\n",
      "74101    51179  c050101     [1, 0, 0, 0, 0]       5  0.913869\n",
      "74232    51203  c050101     [1, 0, 0, 1, 1]       5  2.589800\n",
      "74436    51247  c050101     [0, 0, 1, 1, 1]       5  2.478503\n",
      "74781    51297  c050101           [1, 1, 1]       3  2.569457\n",
      "75289    51951  c050101        [1, 1, 0, 1]       4  2.597319\n",
      "75461    51972  c050101     [0, 0, 1, 1, 1]       5  2.478503\n",
      "76113    52073  c050101           [0, 0, 1]       3  0.898347\n",
      "76301    52132  c050101        [0, 1, 1, 1]       4  2.512809\n",
      "76369    52154  c050101        [0, 1, 1, 0]       4  1.777634\n",
      "76634    52254  c050101  [0, 0, 0, 0, 0, 0]       6  0.018367\n",
      "77423    53406  c050101           [1, 1, 1]       3  2.569457\n",
      "77648    53594  c050101           [0, 0, 0]       3  0.008670\n",
      "78603    55003  c050101        [0, 0, 1, 0]       4  0.904309\n",
      "78991    55155  c050101     [1, 0, 1, 0, 0]       5  1.801814\n",
      "79451    55319  c050101        [1, 1, 0, 0]       4  1.797280\n",
      "80010    56193  c050101           [1, 1, 1]       3  2.569457\n",
      "80363    56578  c050101        [1, 0, 1, 1]       4  2.580376\n",
      "80428    56599  c050101  [1, 0, 1, 0, 0, 1]       6  2.629567\n",
      "80795    56884  c050101     [0, 0, 1, 0, 0]       5  0.909713\n",
      "80815    56886  c050101     [1, 0, 0, 1, 1]       5  2.589800\n",
      "80830    56887  c050101        [1, 1, 0, 1]       4  2.597319\n",
      "80848    56888  c050101     [0, 1, 0, 1, 1]       5  2.534737\n",
      "80864    56889  c050101  [1, 1, 0, 0, 0, 0]       6  1.813185\n",
      "81442    57662  c050101     [0, 1, 0, 0, 0]       5  0.912191\n",
      "81572    57837  c050101        [1, 0, 1, 1]       4  2.580376\n",
      "81612    57860  c050101     [1, 0, 0, 0, 1]       5  1.791123\n",
      "\n"
     ]
    },
    {
     "name": "stdout",
     "output_type": "stream",
     "text": [
      "[197 rows x 5 columns]\n",
      "       user_id tag_code            is_right  length       ssr\n",
      "0        29110  c050101     [0, 0, 1, 0, 1]       5  1.772427\n",
      "561      29845  c050101        [1, 0, 1, 1]       4  2.617306\n",
      "699      29861  c050101        [1, 1, 0, 1]       4  2.629639\n",
      "1179     30411  c050101     [1, 0, 0, 0, 1]       5  1.794088\n",
      "1277     30525  c050101           [0, 0, 0]       3  0.008479\n",
      "3352     32576  c050101  [1, 1, 1, 1, 1, 0]       6  4.016916\n",
      "3556     32991  c050101     [0, 0, 1, 0, 1]       5  1.772427\n",
      "3604     33031  c050101        [1, 0, 1, 1]       4  2.617306\n",
      "4215     34006  c050101        [1, 0, 1, 0]       4  1.794732\n",
      "4265     34062  c050101           [1, 1, 0]       3  1.791116\n",
      "5217     34719  c050101     [0, 1, 1, 1, 1]       5  3.256028\n",
      "6455     34912  c050101        [0, 1, 1, 0]       4  1.783241\n",
      "6534     34916  c050101     [0, 1, 1, 0, 1]       5  2.593766\n",
      "6739     34920  c050101     [1, 0, 1, 1, 1]       5  3.337827\n",
      "6925     34924  c050101  [0, 1, 1, 1, 1, 1]       6  3.874749\n",
      "7099     34930  c050101     [0, 1, 1, 1, 1]       5  3.256028\n",
      "7188     34932  c050101  [1, 0, 1, 0, 1, 0]       6  2.654262\n",
      "7557     34951  c050101  [0, 1, 1, 1, 1, 0]       6  3.301573\n",
      "8268     35107  c050101     [1, 0, 1, 0, 1]       5  2.633451\n",
      "8515     35126  c050101        [1, 1, 0, 1]       4  2.629639\n",
      "8759     35163  c050101           [1, 1, 1]       3  2.613444\n",
      "9294     35211  c050101           [1, 1, 1]       3  2.613444\n",
      "9326     35214  c050101     [1, 0, 0, 0, 1]       5  1.794088\n",
      "9450     35261  c050101     [1, 1, 0, 1, 0]       5  2.650500\n",
      "9477     35266  c050101  [0, 1, 1, 0, 1, 0]       6  2.621096\n",
      "9532     35267  c050101     [1, 0, 0, 1, 1]       5  2.621110\n",
      "9723     35269  c050101  [0, 1, 1, 1, 1, 1]       6  3.874749\n",
      "9799     35270  c050101  [0, 1, 0, 0, 1, 0]       6  1.794329\n",
      "10054    35282  c050101     [1, 0, 0, 1, 1]       5  2.621110\n",
      "10098    35284  c050101        [1, 1, 0, 1]       4  2.629639\n",
      "...        ...      ...                 ...     ...       ...\n",
      "72819    50972  c050101  [0, 1, 0, 0, 1, 0]       6  1.794329\n",
      "72955    51022  c050101        [1, 0, 1, 0]       4  1.794732\n",
      "73615    51121  c050101     [1, 1, 1, 1, 0]       5  3.375391\n",
      "73659    51122  c050101  [0, 0, 0, 0, 0, 0]       6  0.017914\n",
      "74101    51179  c050101     [1, 0, 0, 0, 0]       5  0.913321\n",
      "74232    51203  c050101     [1, 0, 0, 1, 1]       5  2.621110\n",
      "74436    51247  c050101     [0, 0, 1, 1, 1]       5  2.542871\n",
      "74781    51297  c050101           [1, 1, 1]       3  2.613444\n",
      "75289    51951  c050101        [1, 1, 0, 1]       4  2.629639\n",
      "75461    51972  c050101     [0, 0, 1, 1, 1]       5  2.542871\n",
      "76113    52073  c050101           [0, 0, 1]       3  0.899650\n",
      "76301    52132  c050101        [0, 1, 1, 1]       4  2.570892\n",
      "76369    52154  c050101        [0, 1, 1, 0]       4  1.783241\n",
      "76634    52254  c050101  [0, 0, 0, 0, 0, 0]       6  0.017914\n",
      "77423    53406  c050101           [1, 1, 1]       3  2.613444\n",
      "77648    53594  c050101           [0, 0, 0]       3  0.008479\n",
      "78603    55003  c050101        [0, 0, 1, 0]       4  0.904589\n",
      "78991    55155  c050101     [1, 0, 1, 0, 0]       5  1.801819\n",
      "79451    55319  c050101        [1, 1, 0, 0]       4  1.798221\n",
      "80010    56193  c050101           [1, 1, 1]       3  2.613444\n",
      "80363    56578  c050101        [1, 0, 1, 1]       4  2.617306\n",
      "80428    56599  c050101  [1, 0, 1, 0, 0, 1]       6  2.647752\n",
      "80795    56884  c050101     [0, 0, 1, 0, 0]       5  0.909270\n",
      "80815    56886  c050101     [1, 0, 0, 1, 1]       5  2.621110\n",
      "80830    56887  c050101        [1, 1, 0, 1]       4  2.629639\n",
      "80848    56888  c050101     [0, 1, 0, 1, 1]       5  2.582467\n",
      "80864    56889  c050101  [1, 1, 0, 0, 0, 0]       6  1.810598\n",
      "81442    57662  c050101     [0, 1, 0, 0, 0]       5  0.911569\n",
      "81572    57837  c050101        [1, 0, 1, 1]       4  2.617306\n",
      "81612    57860  c050101     [1, 0, 0, 0, 1]       5  1.794088\n",
      "\n",
      "[197 rows x 5 columns]\n",
      "       user_id tag_code            is_right  length       ssr\n",
      "0        29110  c050101     [0, 0, 1, 0, 1]       5  1.782447\n",
      "561      29845  c050101        [1, 0, 1, 1]       4  2.649239\n",
      "699      29861  c050101        [1, 1, 0, 1]       4  2.657647\n",
      "1179     30411  c050101     [1, 0, 0, 0, 1]       5  1.797655\n",
      "1277     30525  c050101           [0, 0, 0]       3  0.008279\n",
      "3352     32576  c050101  [1, 1, 1, 1, 1, 0]       6  4.186225\n",
      "3556     32991  c050101     [0, 0, 1, 0, 1]       5  1.782447\n",
      "3604     33031  c050101        [1, 0, 1, 1]       4  2.649239\n",
      "4215     34006  c050101        [1, 0, 1, 0]       4  1.797917\n",
      "4265     34062  c050101           [1, 1, 0]       3  1.795335\n",
      "5217     34719  c050101     [0, 1, 1, 1, 1]       5  3.381191\n",
      "6455     34912  c050101        [0, 1, 1, 0]       4  1.789759\n",
      "6534     34916  c050101     [0, 1, 1, 0, 1]       5  2.633335\n",
      "6739     34920  c050101     [1, 0, 1, 1, 1]       5  3.436034\n",
      "6925     34924  c050101  [0, 1, 1, 1, 1, 1]       6  4.076634\n",
      "7099     34930  c050101     [0, 1, 1, 1, 1]       5  3.381191\n",
      "7188     34932  c050101  [1, 0, 1, 0, 1, 0]       6  2.670246\n",
      "7557     34951  c050101  [0, 1, 1, 1, 1, 0]       6  3.408770\n",
      "8268     35107  c050101     [1, 0, 1, 0, 1]       5  2.658201\n",
      "8515     35126  c050101        [1, 1, 0, 1]       4  2.657647\n",
      "8759     35163  c050101           [1, 1, 1]       3  2.649118\n",
      "9294     35211  c050101           [1, 1, 1]       3  2.649118\n",
      "9326     35214  c050101     [1, 0, 0, 0, 1]       5  1.797655\n",
      "9450     35261  c050101     [1, 1, 0, 1, 0]       5  2.669260\n",
      "9477     35266  c050101  [0, 1, 1, 0, 1, 0]       6  2.648749\n",
      "9532     35267  c050101     [1, 0, 0, 1, 1]       5  2.649879\n",
      "9723     35269  c050101  [0, 1, 1, 1, 1, 1]       6  4.076634\n",
      "9799     35270  c050101  [0, 1, 0, 0, 1, 0]       6  1.797519\n",
      "10054    35282  c050101     [1, 0, 0, 1, 1]       5  2.649879\n",
      "10098    35284  c050101        [1, 1, 0, 1]       4  2.657647\n",
      "...        ...      ...                 ...     ...       ...\n",
      "72819    50972  c050101  [0, 1, 0, 0, 1, 0]       6  1.797519\n",
      "72955    51022  c050101        [1, 0, 1, 0]       4  1.797917\n",
      "73615    51121  c050101     [1, 1, 1, 1, 0]       5  3.463615\n",
      "73659    51122  c050101  [0, 0, 0, 0, 0, 0]       6  0.017397\n",
      "74101    51179  c050101     [1, 0, 0, 0, 0]       5  0.912883\n",
      "74232    51203  c050101     [1, 0, 0, 1, 1]       5  2.649879\n",
      "74436    51247  c050101     [0, 0, 1, 1, 1]       5  2.600733\n",
      "74781    51297  c050101           [1, 1, 1]       3  2.649118\n",
      "75289    51951  c050101        [1, 1, 0, 1]       4  2.657647\n",
      "75461    51972  c050101     [0, 0, 1, 1, 1]       5  2.600733\n",
      "76113    52073  c050101           [0, 0, 1]       3  0.901105\n",
      "76301    52132  c050101        [0, 1, 1, 1]       4  2.620942\n",
      "76369    52154  c050101        [0, 1, 1, 0]       4  1.789759\n",
      "76634    52254  c050101  [0, 0, 0, 0, 0, 0]       6  0.017397\n",
      "77423    53406  c050101           [1, 1, 1]       3  2.649118\n",
      "77648    53594  c050101           [0, 0, 0]       3  0.008279\n",
      "78603    55003  c050101        [0, 0, 1, 0]       4  0.905200\n",
      "78991    55155  c050101     [1, 0, 1, 0, 0]       5  1.803171\n",
      "79451    55319  c050101        [1, 1, 0, 0]       4  1.800432\n",
      "80010    56193  c050101           [1, 1, 1]       3  2.649118\n",
      "80363    56578  c050101        [1, 0, 1, 1]       4  2.649239\n",
      "80428    56599  c050101  [1, 0, 1, 0, 0, 1]       6  2.666510\n",
      "80795    56884  c050101     [0, 0, 1, 0, 0]       5  0.909218\n",
      "80815    56886  c050101     [1, 0, 0, 1, 1]       5  2.649879\n",
      "80830    56887  c050101        [1, 1, 0, 1]       4  2.657647\n",
      "80848    56888  c050101     [0, 1, 0, 1, 1]       5  2.625653\n",
      "80864    56889  c050101  [1, 1, 0, 0, 0, 0]       6  1.810011\n",
      "81442    57662  c050101     [0, 1, 0, 0, 0]       5  0.911218\n",
      "81572    57837  c050101        [1, 0, 1, 1]       4  2.649239\n",
      "81612    57860  c050101     [1, 0, 0, 0, 1]       5  1.797655\n",
      "\n",
      "[197 rows x 5 columns]\n",
      "       user_id tag_code            is_right  length       ssr\n",
      "0        29110  c050101     [0, 0, 1, 0, 1]       5  1.792317\n",
      "561      29845  c050101        [1, 0, 1, 1]       4  2.675093\n",
      "699      29861  c050101        [1, 1, 0, 1]       4  2.680168\n",
      "1179     30411  c050101     [1, 0, 0, 0, 1]       5  1.801692\n",
      "1277     30525  c050101           [0, 0, 0]       3  0.008068\n",
      "3352     32576  c050101  [1, 1, 1, 1, 1, 0]       6  4.339825\n",
      "3556     32991  c050101     [0, 0, 1, 0, 1]       5  1.792317\n",
      "3604     33031  c050101        [1, 0, 1, 1]       4  2.675093\n",
      "4215     34006  c050101        [1, 0, 1, 0]       4  1.801512\n",
      "4265     34062  c050101           [1, 1, 0]       3  1.799500\n",
      "5217     34719  c050101     [0, 1, 1, 1, 1]       5  3.488779\n",
      "6455     34912  c050101        [0, 1, 1, 0]       4  1.796505\n",
      "6534     34916  c050101     [0, 1, 1, 0, 1]       5  2.666780\n",
      "6739     34920  c050101     [1, 0, 1, 1, 1]       5  3.517754\n",
      "6925     34924  c050101  [0, 1, 1, 1, 1, 1]       6  4.268357\n",
      "7099     34930  c050101     [0, 1, 1, 1, 1]       5  3.488779\n",
      "7188     34932  c050101  [1, 0, 1, 0, 1, 0]       6  2.686357\n",
      "7557     34951  c050101  [0, 1, 1, 1, 1, 0]       6  3.502483\n",
      "8268     35107  c050101     [1, 0, 1, 0, 1]       5  2.679732\n",
      "8515     35126  c050101        [1, 1, 0, 1]       4  2.680168\n",
      "8759     35163  c050101           [1, 1, 1]       3  2.675950\n",
      "9294     35211  c050101           [1, 1, 1]       3  2.675950\n",
      "9326     35214  c050101     [1, 0, 0, 0, 1]       5  1.801692\n",
      "9450     35261  c050101     [1, 1, 0, 1, 0]       5  2.686391\n",
      "9477     35266  c050101  [0, 1, 1, 0, 1, 0]       6  2.674677\n",
      "9532     35267  c050101     [1, 0, 0, 1, 1]       5  2.674748\n",
      "9723     35269  c050101  [0, 1, 1, 1, 1, 1]       6  4.268357\n",
      "9799     35270  c050101  [0, 1, 0, 0, 1, 0]       6  1.801985\n",
      "10054    35282  c050101     [1, 0, 0, 1, 1]       5  2.674748\n",
      "10098    35284  c050101        [1, 1, 0, 1]       4  2.680168\n",
      "...        ...      ...                 ...     ...       ...\n",
      "72819    50972  c050101  [0, 1, 0, 0, 1, 0]       6  1.801985\n",
      "72955    51022  c050101        [1, 0, 1, 0]       4  1.801512\n",
      "73615    51121  c050101     [1, 1, 1, 1, 0]       5  3.534838\n",
      "73659    51122  c050101  [0, 0, 0, 0, 0, 0]       6  0.016810\n",
      "74101    51179  c050101     [1, 0, 0, 0, 0]       5  0.912573\n",
      "74232    51203  c050101     [1, 0, 0, 1, 1]       5  2.674748\n",
      "74436    51247  c050101     [0, 0, 1, 1, 1]       5  2.649018\n",
      "74781    51297  c050101           [1, 1, 1]       3  2.675950\n",
      "75289    51951  c050101        [1, 1, 0, 1]       4  2.680168\n",
      "75461    51972  c050101     [0, 0, 1, 1, 1]       5  2.649018\n",
      "76113    52073  c050101           [0, 0, 1]       3  0.902719\n",
      "76301    52132  c050101        [0, 1, 1, 1]       4  2.660804\n",
      "76369    52154  c050101        [0, 1, 1, 0]       4  1.796505\n",
      "76634    52254  c050101  [0, 0, 0, 0, 0, 0]       6  0.016810\n",
      "77423    53406  c050101           [1, 1, 1]       3  2.675950\n",
      "77648    53594  c050101           [0, 0, 0]       3  0.008068\n",
      "78603    55003  c050101        [0, 0, 1, 0]       4  0.906146\n",
      "78991    55155  c050101     [1, 0, 1, 0, 0]       5  1.805464\n",
      "79451    55319  c050101        [1, 1, 0, 0]       4  1.803290\n",
      "80010    56193  c050101           [1, 1, 1]       3  2.675950\n",
      "80363    56578  c050101        [1, 0, 1, 1]       4  2.675093\n",
      "80428    56599  c050101  [1, 0, 1, 0, 0, 1]       6  2.684271\n",
      "80795    56884  c050101     [0, 0, 1, 0, 0]       5  0.909584\n",
      "80815    56886  c050101     [1, 0, 0, 1, 1]       5  2.674748\n",
      "80830    56887  c050101        [1, 1, 0, 1]       4  2.680168\n",
      "80848    56888  c050101     [0, 1, 0, 1, 1]       5  2.662074\n",
      "80864    56889  c050101  [1, 1, 0, 0, 0, 0]       6  1.810800\n",
      "81442    57662  c050101     [0, 1, 0, 0, 0]       5  0.911164\n",
      "81572    57837  c050101        [1, 0, 1, 1]       4  2.675093\n",
      "81612    57860  c050101     [1, 0, 0, 0, 1]       5  1.801692\n",
      "\n"
     ]
    },
    {
     "name": "stdout",
     "output_type": "stream",
     "text": [
      "[197 rows x 5 columns]\n",
      "       user_id tag_code            is_right  length       ssr\n",
      "0        29110  c050101     [0, 0, 1, 0, 1]       5  1.801502\n",
      "561      29845  c050101        [1, 0, 1, 1]       4  2.694152\n",
      "699      29861  c050101        [1, 1, 0, 1]       4  2.696541\n",
      "1179     30411  c050101     [1, 0, 0, 0, 1]       5  1.806017\n",
      "1277     30525  c050101           [0, 0, 0]       3  0.007848\n",
      "3352     32576  c050101  [1, 1, 1, 1, 1, 0]       6  4.452632\n",
      "3556     32991  c050101     [0, 0, 1, 0, 1]       5  1.801502\n",
      "3604     33031  c050101        [1, 0, 1, 1]       4  2.694152\n",
      "4215     34006  c050101        [1, 0, 1, 0]       4  1.805160\n",
      "4265     34062  c050101           [1, 1, 0]       3  1.803248\n",
      "5217     34719  c050101     [0, 1, 1, 1, 1]       5  3.565525\n",
      "6455     34912  c050101        [0, 1, 1, 0]       4  1.802790\n",
      "6534     34916  c050101     [0, 1, 1, 0, 1]       5  2.691978\n",
      "6739     34920  c050101     [1, 0, 1, 1, 1]       5  3.575125\n",
      "6925     34924  c050101  [0, 1, 1, 1, 1, 1]       6  4.422760\n",
      "7099     34930  c050101     [0, 1, 1, 1, 1]       5  3.565525\n",
      "7188     34932  c050101  [1, 0, 1, 0, 1, 0]       6  2.700617\n",
      "7557     34951  c050101  [0, 1, 1, 1, 1, 0]       6  3.571020\n",
      "8268     35107  c050101     [1, 0, 1, 0, 1]       5  2.696798\n",
      "8515     35126  c050101        [1, 1, 0, 1]       4  2.696541\n",
      "8759     35163  c050101           [1, 1, 1]       3  2.694110\n",
      "9294     35211  c050101           [1, 1, 1]       3  2.694110\n",
      "9326     35214  c050101     [1, 0, 0, 0, 1]       5  1.806017\n",
      "9450     35261  c050101     [1, 1, 0, 1, 0]       5  2.700171\n",
      "9477     35266  c050101  [0, 1, 1, 0, 1, 0]       6  2.696077\n",
      "9532     35267  c050101     [1, 0, 0, 1, 1]       5  2.694455\n",
      "9723     35269  c050101  [0, 1, 1, 1, 1, 1]       6  4.422760\n",
      "9799     35270  c050101  [0, 1, 0, 0, 1, 0]       6  1.807210\n",
      "10054    35282  c050101     [1, 0, 0, 1, 1]       5  2.694455\n",
      "10098    35284  c050101        [1, 1, 0, 1]       4  2.696541\n",
      "...        ...      ...                 ...     ...       ...\n",
      "72819    50972  c050101  [0, 1, 0, 0, 1, 0]       6  1.807210\n",
      "72955    51022  c050101        [1, 0, 1, 0]       4  1.805160\n",
      "73615    51121  c050101     [1, 1, 1, 1, 0]       5  3.582908\n",
      "73659    51122  c050101  [0, 0, 0, 0, 0, 0]       6  0.016146\n",
      "74101    51179  c050101     [1, 0, 0, 0, 0]       5  0.912411\n",
      "74232    51203  c050101     [1, 0, 0, 1, 1]       5  2.694455\n",
      "74436    51247  c050101     [0, 0, 1, 1, 1]       5  2.684831\n",
      "74781    51297  c050101           [1, 1, 1]       3  2.694110\n",
      "75289    51951  c050101        [1, 1, 0, 1]       4  2.696541\n",
      "75461    51972  c050101     [0, 0, 1, 1, 1]       5  2.684831\n",
      "76113    52073  c050101           [0, 0, 1]       3  0.904499\n",
      "76301    52132  c050101        [0, 1, 1, 1]       4  2.689019\n",
      "76369    52154  c050101        [0, 1, 1, 0]       4  1.802790\n",
      "76634    52254  c050101  [0, 0, 0, 0, 0, 0]       6  0.016146\n",
      "77423    53406  c050101           [1, 1, 1]       3  2.694110\n",
      "77648    53594  c050101           [0, 0, 0]       3  0.007848\n",
      "78603    55003  c050101        [0, 0, 1, 0]       4  0.907429\n",
      "78991    55155  c050101     [1, 0, 1, 0, 0]       5  1.808266\n",
      "79451    55319  c050101        [1, 1, 0, 0]       4  1.806258\n",
      "80010    56193  c050101           [1, 1, 1]       3  2.694110\n",
      "80363    56578  c050101        [1, 0, 1, 1]       4  2.694152\n",
      "80428    56599  c050101  [1, 0, 1, 0, 0, 1]       6  2.699495\n",
      "80795    56884  c050101     [0, 0, 1, 0, 0]       5  0.910393\n",
      "80815    56886  c050101     [1, 0, 0, 1, 1]       5  2.694455\n",
      "80830    56887  c050101        [1, 1, 0, 1]       4  2.696541\n",
      "80848    56888  c050101     [0, 1, 0, 1, 1]       5  2.689701\n",
      "80864    56889  c050101  [1, 1, 0, 0, 0, 0]       6  1.812364\n",
      "81442    57662  c050101     [0, 1, 0, 0, 0]       5  0.911432\n",
      "81572    57837  c050101        [1, 0, 1, 1]       4  2.694152\n",
      "81612    57860  c050101     [1, 0, 0, 0, 1]       5  1.806017\n",
      "\n",
      "[197 rows x 5 columns]\n",
      "       user_id tag_code            is_right  length       ssr\n",
      "0        29110  c050101     [0, 0, 1, 0, 1]       5  1.809338\n",
      "561      29845  c050101        [1, 0, 1, 1]       4  2.706313\n",
      "699      29861  c050101        [1, 1, 0, 1]       4  2.706850\n",
      "1179     30411  c050101     [1, 0, 0, 0, 1]       5  1.810389\n",
      "1277     30525  c050101           [0, 0, 0]       3  0.007618\n",
      "3352     32576  c050101  [1, 1, 1, 1, 1, 0]       6  4.505936\n",
      "3556     32991  c050101     [0, 0, 1, 0, 1]       5  1.809338\n",
      "3604     33031  c050101        [1, 0, 1, 1]       4  2.706313\n",
      "4215     34006  c050101        [1, 0, 1, 0]       4  1.808523\n",
      "4265     34062  c050101           [1, 1, 0]       3  1.806302\n",
      "5217     34719  c050101     [0, 1, 1, 1, 1]       5  3.604565\n",
      "6455     34912  c050101        [0, 1, 1, 0]       4  1.807986\n",
      "6534     34916  c050101     [0, 1, 1, 0, 1]       5  2.707872\n",
      "6739     34920  c050101     [1, 0, 1, 1, 1]       5  3.605589\n",
      "6925     34924  c050101  [0, 1, 1, 1, 1, 1]       6  4.502016\n",
      "7099     34930  c050101     [0, 1, 1, 1, 1]       5  3.604565\n",
      "7188     34932  c050101  [1, 0, 1, 0, 1, 0]       6  2.711303\n",
      "7557     34951  c050101  [0, 1, 1, 1, 1, 0]       6  3.607338\n",
      "8268     35107  c050101     [1, 0, 1, 0, 1]       5  2.708607\n",
      "8515     35126  c050101        [1, 1, 0, 1]       4  2.706850\n",
      "8759     35163  c050101           [1, 1, 1]       3  2.704594\n",
      "9294     35211  c050101           [1, 1, 1]       3  2.704594\n",
      "9326     35214  c050101     [1, 0, 0, 0, 1]       5  1.810389\n",
      "9450     35261  c050101     [1, 1, 0, 1, 0]       5  2.709512\n",
      "9477     35266  c050101  [0, 1, 1, 0, 1, 0]       6  2.710582\n",
      "9532     35267  c050101     [1, 0, 0, 1, 1]       5  2.708078\n",
      "9723     35269  c050101  [0, 1, 1, 1, 1, 1]       6  4.502016\n",
      "9799     35270  c050101  [0, 1, 0, 0, 1, 0]       6  1.812537\n",
      "10054    35282  c050101     [1, 0, 0, 1, 1]       5  2.708078\n",
      "10098    35284  c050101        [1, 1, 0, 1]       4  2.706850\n",
      "...        ...      ...                 ...     ...       ...\n",
      "72819    50972  c050101  [0, 1, 0, 0, 1, 0]       6  1.812537\n",
      "72955    51022  c050101        [1, 0, 1, 0]       4  1.808523\n",
      "73615    51121  c050101     [1, 1, 1, 1, 0]       5  3.607214\n",
      "73659    51122  c050101  [0, 0, 0, 0, 0, 0]       6  0.015403\n",
      "74101    51179  c050101     [1, 0, 0, 0, 0]       5  0.912422\n",
      "74232    51203  c050101     [1, 0, 0, 1, 1]       5  2.708078\n",
      "74436    51247  c050101     [0, 0, 1, 1, 1]       5  2.706608\n",
      "74781    51297  c050101           [1, 1, 1]       3  2.704594\n",
      "75289    51951  c050101        [1, 1, 0, 1]       4  2.706850\n",
      "75461    51972  c050101     [0, 0, 1, 1, 1]       5  2.706608\n",
      "76113    52073  c050101           [0, 0, 1]       3  0.906454\n",
      "76301    52132  c050101        [0, 1, 1, 1]       4  2.705560\n",
      "76369    52154  c050101        [0, 1, 1, 0]       4  1.807986\n",
      "76634    52254  c050101  [0, 0, 0, 0, 0, 0]       6  0.015403\n",
      "77423    53406  c050101           [1, 1, 1]       3  2.704594\n",
      "77648    53594  c050101           [0, 0, 0]       3  0.007618\n",
      "78603    55003  c050101        [0, 0, 1, 0]       4  0.909055\n",
      "78991    55155  c050101     [1, 0, 1, 0, 0]       5  1.811152\n",
      "79451    55319  c050101        [1, 1, 0, 0]       4  1.808906\n",
      "80010    56193  c050101           [1, 1, 1]       3  2.704594\n",
      "80363    56578  c050101        [1, 0, 1, 1]       4  2.706313\n",
      "80428    56599  c050101  [1, 0, 1, 0, 0, 1]       6  2.710928\n",
      "80795    56884  c050101     [0, 0, 1, 0, 0]       5  0.911673\n",
      "80815    56886  c050101     [1, 0, 0, 1, 1]       5  2.708078\n",
      "80830    56887  c050101        [1, 1, 0, 1]       4  2.706850\n",
      "80848    56888  c050101     [0, 1, 0, 1, 1]       5  2.707346\n",
      "80864    56889  c050101  [1, 1, 0, 0, 0, 0]       6  1.814165\n",
      "81442    57662  c050101     [0, 1, 0, 0, 0]       5  0.912050\n",
      "81572    57837  c050101        [1, 0, 1, 1]       4  2.706313\n",
      "81612    57860  c050101     [1, 0, 0, 0, 1]       5  1.810389\n",
      "\n",
      "[197 rows x 5 columns]\n",
      "       user_id tag_code            is_right  length       ssr\n",
      "0        29110  c050101     [0, 0, 1, 0, 1]       5  1.815000\n",
      "561      29845  c050101        [1, 0, 1, 1]       4  2.712318\n",
      "699      29861  c050101        [1, 1, 0, 1]       4  2.712079\n",
      "1179     30411  c050101     [1, 0, 0, 0, 1]       5  1.814502\n",
      "1277     30525  c050101           [0, 0, 0]       3  0.007380\n",
      "3352     32576  c050101  [1, 1, 1, 1, 1, 0]       6  4.518381\n",
      "3556     32991  c050101     [0, 0, 1, 0, 1]       5  1.815000\n",
      "3604     33031  c050101        [1, 0, 1, 1]       4  2.712318\n",
      "4215     34006  c050101        [1, 0, 1, 0]       4  1.811290\n",
      "4265     34062  c050101           [1, 1, 0]       3  1.808448\n",
      "5217     34719  c050101     [0, 1, 1, 1, 1]       5  3.615873\n",
      "6455     34912  c050101        [0, 1, 1, 0]       4  1.811536\n",
      "6534     34916  c050101     [0, 1, 1, 0, 1]       5  2.715307\n",
      "6739     34920  c050101     [1, 0, 1, 1, 1]       5  3.615784\n",
      "6925     34924  c050101  [0, 1, 1, 1, 1, 1]       6  4.519298\n",
      "7099     34930  c050101     [0, 1, 1, 1, 1]       5  3.615873\n",
      "7188     34932  c050101  [1, 0, 1, 0, 1, 0]       6  2.717594\n",
      "7557     34951  c050101  [0, 1, 1, 1, 1, 0]       6  3.618325\n",
      "8268     35107  c050101     [1, 0, 1, 0, 1]       5  2.715157\n",
      "8515     35126  c050101        [1, 1, 0, 1]       4  2.712079\n",
      "8759     35163  c050101           [1, 1, 1]       3  2.709230\n",
      "9294     35211  c050101           [1, 1, 1]       3  2.709230\n",
      "9326     35214  c050101     [1, 0, 0, 0, 1]       5  1.814502\n",
      "9450     35261  c050101     [1, 1, 0, 1, 0]       5  2.714523\n",
      "9477     35266  c050101  [0, 1, 1, 0, 1, 0]       6  2.717747\n",
      "9532     35267  c050101     [1, 0, 0, 1, 1]       5  2.715394\n",
      "9723     35269  c050101  [0, 1, 1, 1, 1, 1]       6  4.519298\n",
      "9799     35270  c050101  [0, 1, 0, 0, 1, 0]       6  1.817185\n",
      "10054    35282  c050101     [1, 0, 0, 1, 1]       5  2.715394\n",
      "10098    35284  c050101        [1, 1, 0, 1]       4  2.712079\n",
      "...        ...      ...                 ...     ...       ...\n",
      "72819    50972  c050101  [0, 1, 0, 0, 1, 0]       6  1.817185\n",
      "72955    51022  c050101        [1, 0, 1, 0]       4  1.811290\n",
      "73615    51121  c050101     [1, 1, 1, 1, 0]       5  3.615009\n",
      "73659    51122  c050101  [0, 0, 0, 0, 0, 0]       6  0.014577\n",
      "74101    51179  c050101     [1, 0, 0, 0, 0]       5  0.912631\n",
      "74232    51203  c050101     [1, 0, 0, 1, 1]       5  2.715394\n",
      "74436    51247  c050101     [0, 0, 1, 1, 1]       5  2.715690\n",
      "74781    51297  c050101           [1, 1, 1]       3  2.709230\n",
      "75289    51951  c050101        [1, 1, 0, 1]       4  2.712079\n",
      "75461    51972  c050101     [0, 0, 1, 1, 1]       5  2.715690\n",
      "76113    52073  c050101           [0, 0, 1]       3  0.908592\n",
      "76301    52132  c050101        [0, 1, 1, 1]       4  2.712464\n",
      "76369    52154  c050101        [0, 1, 1, 0]       4  1.811536\n",
      "76634    52254  c050101  [0, 0, 0, 0, 0, 0]       6  0.014577\n",
      "77423    53406  c050101           [1, 1, 1]       3  2.709230\n",
      "77648    53594  c050101           [0, 0, 0]       3  0.007380\n",
      "78603    55003  c050101        [0, 0, 1, 0]       4  0.911036\n",
      "78991    55155  c050101     [1, 0, 1, 0, 0]       5  1.813719\n",
      "79451    55319  c050101        [1, 1, 0, 0]       4  1.810889\n",
      "80010    56193  c050101           [1, 1, 1]       3  2.709230\n",
      "80363    56578  c050101        [1, 0, 1, 1]       4  2.712318\n",
      "80428    56599  c050101  [1, 0, 1, 0, 0, 1]       6  2.717980\n",
      "80795    56884  c050101     [0, 0, 1, 0, 0]       5  0.913460\n",
      "80815    56886  c050101     [1, 0, 0, 1, 1]       5  2.715394\n",
      "80830    56887  c050101        [1, 1, 0, 1]       4  2.712079\n",
      "80848    56888  c050101     [0, 1, 0, 1, 1]       5  2.715545\n",
      "80864    56889  c050101  [1, 1, 0, 0, 0, 0]       6  1.815709\n",
      "81442    57662  c050101     [0, 1, 0, 0, 0]       5  0.913052\n",
      "81572    57837  c050101        [1, 0, 1, 1]       4  2.712318\n",
      "81612    57860  c050101     [1, 0, 0, 0, 1]       5  1.814502\n",
      "\n"
     ]
    },
    {
     "name": "stdout",
     "output_type": "stream",
     "text": [
      "[197 rows x 5 columns]\n",
      "       user_id tag_code            is_right  length       ssr\n",
      "0        29110  c050101     [0, 0, 1, 0, 1]       5  1.676588\n",
      "561      29845  c050101        [1, 0, 1, 1]       4  2.298852\n",
      "699      29861  c050101        [1, 1, 0, 1]       4  2.631442\n",
      "1179     30411  c050101     [1, 0, 0, 0, 1]       5  1.678666\n",
      "1277     30525  c050101           [0, 0, 0]       3  0.029442\n",
      "3352     32576  c050101  [1, 1, 1, 1, 1, 0]       6  2.606636\n",
      "3556     32991  c050101     [0, 0, 1, 0, 1]       5  1.676588\n",
      "3604     33031  c050101        [1, 0, 1, 1]       4  2.298852\n",
      "4215     34006  c050101        [1, 0, 1, 0]       4  1.696326\n",
      "4265     34062  c050101           [1, 1, 0]       3  1.843269\n",
      "5217     34719  c050101     [0, 1, 1, 1, 1]       5  1.633646\n",
      "6455     34912  c050101        [0, 1, 1, 0]       4  1.854146\n",
      "6534     34916  c050101     [0, 1, 1, 0, 1]       5  2.642085\n",
      "6739     34920  c050101     [1, 0, 1, 1, 1]       5  2.431892\n",
      "6925     34924  c050101  [0, 1, 1, 1, 1, 1]       6  1.633878\n",
      "7099     34930  c050101     [0, 1, 1, 1, 1]       5  1.633646\n",
      "7188     34932  c050101  [1, 0, 1, 0, 1, 0]       6  2.545720\n",
      "7557     34951  c050101  [0, 1, 1, 1, 1, 0]       6  2.603407\n",
      "8268     35107  c050101     [1, 0, 1, 0, 1]       5  2.505708\n",
      "8515     35126  c050101        [1, 1, 0, 1]       4  2.631442\n",
      "8759     35163  c050101           [1, 1, 1]       3  1.622964\n",
      "9294     35211  c050101           [1, 1, 1]       3  1.622964\n",
      "9326     35214  c050101     [1, 0, 0, 0, 1]       5  1.678666\n",
      "9450     35261  c050101     [1, 1, 0, 1, 0]       5  2.717283\n",
      "9477     35266  c050101  [0, 1, 1, 0, 1, 0]       6  2.728467\n",
      "9532     35267  c050101     [1, 0, 0, 1, 1]       5  2.326366\n",
      "9723     35269  c050101  [0, 1, 1, 1, 1, 1]       6  1.633878\n",
      "9799     35270  c050101  [0, 1, 0, 0, 1, 0]       6  1.714544\n",
      "10054    35282  c050101     [1, 0, 0, 1, 1]       5  2.326366\n",
      "10098    35284  c050101        [1, 1, 0, 1]       4  2.631442\n",
      "...        ...      ...                 ...     ...       ...\n",
      "72819    50972  c050101  [0, 1, 0, 0, 1, 0]       6  1.714544\n",
      "72955    51022  c050101        [1, 0, 1, 0]       4  1.696326\n",
      "73615    51121  c050101     [1, 1, 1, 1, 0]       5  2.596906\n",
      "73659    51122  c050101  [0, 0, 0, 0, 0, 0]       6  0.058905\n",
      "74101    51179  c050101     [1, 0, 0, 0, 0]       5  0.876866\n",
      "74232    51203  c050101     [1, 0, 0, 1, 1]       5  2.326366\n",
      "74436    51247  c050101     [0, 0, 1, 1, 1]       5  1.639212\n",
      "74781    51297  c050101           [1, 1, 1]       3  1.622964\n",
      "75289    51951  c050101        [1, 1, 0, 1]       4  2.631442\n",
      "75461    51972  c050101     [0, 0, 1, 1, 1]       5  1.639212\n",
      "76113    52073  c050101           [0, 0, 1]       3  0.831242\n",
      "76301    52132  c050101        [0, 1, 1, 1]       4  1.629428\n",
      "76369    52154  c050101        [0, 1, 1, 0]       4  1.854146\n",
      "76634    52254  c050101  [0, 0, 0, 0, 0, 0]       6  0.058905\n",
      "77423    53406  c050101           [1, 1, 1]       3  1.622964\n",
      "77648    53594  c050101           [0, 0, 0]       3  0.029442\n",
      "78603    55003  c050101        [0, 0, 1, 0]       4  0.866963\n",
      "78991    55155  c050101     [1, 0, 1, 0, 0]       5  1.706395\n",
      "79451    55319  c050101        [1, 1, 0, 0]       4  1.855860\n",
      "80010    56193  c050101           [1, 1, 1]       3  1.622964\n",
      "80363    56578  c050101        [1, 0, 1, 1]       4  2.298852\n",
      "80428    56599  c050101  [1, 0, 1, 0, 0, 1]       6  2.517991\n",
      "80795    56884  c050101     [0, 0, 1, 0, 0]       5  0.877005\n",
      "80815    56886  c050101     [1, 0, 0, 1, 1]       5  2.326366\n",
      "80830    56887  c050101        [1, 1, 0, 1]       4  2.631442\n",
      "80848    56888  c050101     [0, 1, 0, 1, 1]       5  2.308616\n",
      "80864    56889  c050101  [1, 1, 0, 0, 0, 0]       6  1.875531\n",
      "81442    57662  c050101     [0, 1, 0, 0, 0]       5  0.877006\n",
      "81572    57837  c050101        [1, 0, 1, 1]       4  2.298852\n",
      "81612    57860  c050101     [1, 0, 0, 0, 1]       5  1.678666\n",
      "\n",
      "[197 rows x 5 columns]\n",
      "       user_id tag_code            is_right  length       ssr\n",
      "0        29110  c050101     [0, 0, 1, 0, 1]       5  1.667527\n",
      "561      29845  c050101        [1, 0, 1, 1]       4  2.247225\n",
      "699      29861  c050101        [1, 1, 0, 1]       4  2.525106\n",
      "1179     30411  c050101     [1, 0, 0, 0, 1]       5  1.677450\n",
      "1277     30525  c050101           [0, 0, 0]       3  0.029358\n",
      "3352     32576  c050101  [1, 1, 1, 1, 1, 0]       6  2.584868\n",
      "3556     32991  c050101     [0, 0, 1, 0, 1]       5  1.667527\n",
      "3604     33031  c050101        [1, 0, 1, 1]       4  2.247225\n",
      "4215     34006  c050101        [1, 0, 1, 0]       4  1.698814\n",
      "4265     34062  c050101           [1, 1, 0]       3  1.809350\n",
      "5217     34719  c050101     [0, 1, 1, 1, 1]       5  1.673102\n",
      "6455     34912  c050101        [0, 1, 1, 0]       4  1.823484\n",
      "6534     34916  c050101     [0, 1, 1, 0, 1]       5  2.534852\n",
      "6739     34920  c050101     [1, 0, 1, 1, 1]       5  2.359971\n",
      "6925     34924  c050101  [0, 1, 1, 1, 1, 1]       6  1.676198\n",
      "7099     34930  c050101     [0, 1, 1, 1, 1]       5  1.673102\n",
      "7188     34932  c050101  [1, 0, 1, 0, 1, 0]       6  2.558312\n",
      "7557     34951  c050101  [0, 1, 1, 1, 1, 0]       6  2.564905\n",
      "8268     35107  c050101     [1, 0, 1, 0, 1]       5  2.495759\n",
      "8515     35126  c050101        [1, 1, 0, 1]       4  2.525106\n",
      "8759     35163  c050101           [1, 1, 1]       3  1.668362\n",
      "9294     35211  c050101           [1, 1, 1]       3  1.668362\n",
      "9326     35214  c050101     [1, 0, 0, 0, 1]       5  1.677450\n",
      "9450     35261  c050101     [1, 1, 0, 1, 0]       5  2.764592\n",
      "9477     35266  c050101  [0, 1, 1, 0, 1, 0]       6  2.783347\n",
      "9532     35267  c050101     [1, 0, 0, 1, 1]       5  2.327503\n",
      "9723     35269  c050101  [0, 1, 1, 1, 1, 1]       6  1.676198\n",
      "9799     35270  c050101  [0, 1, 0, 0, 1, 0]       6  1.712647\n",
      "10054    35282  c050101     [1, 0, 0, 1, 1]       5  2.327503\n",
      "10098    35284  c050101        [1, 1, 0, 1]       4  2.525106\n",
      "...        ...      ...                 ...     ...       ...\n",
      "72819    50972  c050101  [0, 1, 0, 0, 1, 0]       6  1.712647\n",
      "72955    51022  c050101        [1, 0, 1, 0]       4  1.698814\n",
      "73615    51121  c050101     [1, 1, 1, 1, 0]       5  2.571573\n",
      "73659    51122  c050101  [0, 0, 0, 0, 0, 0]       6  0.058820\n",
      "74101    51179  c050101     [1, 0, 0, 0, 0]       5  0.875681\n",
      "74232    51203  c050101     [1, 0, 0, 1, 1]       5  2.327503\n",
      "74436    51247  c050101     [0, 0, 1, 1, 1]       5  1.670665\n",
      "74781    51297  c050101           [1, 1, 1]       3  1.668362\n",
      "75289    51951  c050101        [1, 1, 0, 1]       4  2.525106\n",
      "75461    51972  c050101     [0, 0, 1, 1, 1]       5  1.670665\n",
      "76113    52073  c050101           [0, 0, 1]       3  0.831161\n",
      "76301    52132  c050101        [0, 1, 1, 1]       4  1.661734\n",
      "76369    52154  c050101        [0, 1, 1, 0]       4  1.823484\n",
      "76634    52254  c050101  [0, 0, 0, 0, 0, 0]       6  0.058820\n",
      "77423    53406  c050101           [1, 1, 1]       3  1.668362\n",
      "77648    53594  c050101           [0, 0, 0]       3  0.029358\n",
      "78603    55003  c050101        [0, 0, 1, 0]       4  0.865367\n",
      "78991    55155  c050101     [1, 0, 1, 0, 0]       5  1.710323\n",
      "79451    55319  c050101        [1, 1, 0, 0]       4  1.833059\n",
      "80010    56193  c050101           [1, 1, 1]       3  1.668362\n",
      "80363    56578  c050101        [1, 0, 1, 1]       4  2.247225\n",
      "80428    56599  c050101  [1, 0, 1, 0, 0, 1]       6  2.521119\n",
      "80795    56884  c050101     [0, 0, 1, 0, 0]       5  0.876260\n",
      "80815    56886  c050101     [1, 0, 0, 1, 1]       5  2.327503\n",
      "80830    56887  c050101        [1, 1, 0, 1]       4  2.525106\n",
      "80848    56888  c050101     [0, 1, 0, 1, 1]       5  2.253771\n",
      "80864    56889  c050101  [1, 1, 0, 0, 0, 0]       6  1.853390\n",
      "81442    57662  c050101     [0, 1, 0, 0, 0]       5  0.876284\n",
      "81572    57837  c050101        [1, 0, 1, 1]       4  2.247225\n",
      "81612    57860  c050101     [1, 0, 0, 0, 1]       5  1.677450\n",
      "\n",
      "[197 rows x 5 columns]\n",
      "       user_id tag_code            is_right  length       ssr\n",
      "0        29110  c050101     [0, 0, 1, 0, 1]       5  1.659308\n",
      "561      29845  c050101        [1, 0, 1, 1]       4  2.213930\n",
      "699      29861  c050101        [1, 1, 0, 1]       4  2.447848\n",
      "1179     30411  c050101     [1, 0, 0, 0, 1]       5  1.676268\n",
      "1277     30525  c050101           [0, 0, 0]       3  0.029265\n",
      "3352     32576  c050101  [1, 1, 1, 1, 1, 0]       6  2.575670\n",
      "3556     32991  c050101     [0, 0, 1, 0, 1]       5  1.659308\n",
      "3604     33031  c050101        [1, 0, 1, 1]       4  2.213930\n",
      "4215     34006  c050101        [1, 0, 1, 0]       4  1.699327\n",
      "4265     34062  c050101           [1, 1, 0]       3  1.779042\n",
      "5217     34719  c050101     [0, 1, 1, 1, 1]       5  1.718895\n",
      "6455     34912  c050101        [0, 1, 1, 0]       4  1.795046\n",
      "6534     34916  c050101     [0, 1, 1, 0, 1]       5  2.452890\n",
      "6739     34920  c050101     [1, 0, 1, 1, 1]       5  2.326143\n",
      "6925     34924  c050101  [0, 1, 1, 1, 1, 1]       6  1.728135\n",
      "7099     34930  c050101     [0, 1, 1, 1, 1]       5  1.718895\n",
      "7188     34932  c050101  [1, 0, 1, 0, 1, 0]       6  2.571165\n",
      "7557     34951  c050101  [0, 1, 1, 1, 1, 0]       6  2.535880\n",
      "8268     35107  c050101     [1, 0, 1, 0, 1]       5  2.480490\n",
      "8515     35126  c050101        [1, 1, 0, 1]       4  2.447848\n",
      "8759     35163  c050101           [1, 1, 1]       3  1.715882\n",
      "9294     35211  c050101           [1, 1, 1]       3  1.715882\n",
      "9326     35214  c050101     [1, 0, 0, 0, 1]       5  1.676268\n",
      "9450     35261  c050101     [1, 1, 0, 1, 0]       5  2.754848\n",
      "9477     35266  c050101  [0, 1, 1, 0, 1, 0]       6  2.777708\n",
      "9532     35267  c050101     [1, 0, 0, 1, 1]       5  2.324945\n",
      "9723     35269  c050101  [0, 1, 1, 1, 1, 1]       6  1.728135\n",
      "9799     35270  c050101  [0, 1, 0, 0, 1, 0]       6  1.711007\n",
      "10054    35282  c050101     [1, 0, 0, 1, 1]       5  2.324945\n",
      "10098    35284  c050101        [1, 1, 0, 1]       4  2.447848\n",
      "...        ...      ...                 ...     ...       ...\n",
      "72819    50972  c050101  [0, 1, 0, 0, 1, 0]       6  1.711007\n",
      "72955    51022  c050101        [1, 0, 1, 0]       4  1.699327\n",
      "73615    51121  c050101     [1, 1, 1, 1, 0]       5  2.555417\n",
      "73659    51122  c050101  [0, 0, 0, 0, 0, 0]       6  0.058728\n",
      "74101    51179  c050101     [1, 0, 0, 0, 0]       5  0.874631\n",
      "74232    51203  c050101     [1, 0, 0, 1, 1]       5  2.324945\n",
      "74436    51247  c050101     [0, 0, 1, 1, 1]       5  1.703891\n",
      "74781    51297  c050101           [1, 1, 1]       3  1.715882\n",
      "75289    51951  c050101        [1, 1, 0, 1]       4  2.447848\n",
      "75461    51972  c050101     [0, 0, 1, 1, 1]       5  1.703891\n",
      "76113    52073  c050101           [0, 0, 1]       3  0.831083\n",
      "76301    52132  c050101        [0, 1, 1, 1]       4  1.696825\n",
      "76369    52154  c050101        [0, 1, 1, 0]       4  1.795046\n",
      "76634    52254  c050101  [0, 0, 0, 0, 0, 0]       6  0.058728\n",
      "77423    53406  c050101           [1, 1, 1]       3  1.715882\n",
      "77648    53594  c050101           [0, 0, 0]       3  0.029265\n",
      "78603    55003  c050101        [0, 0, 1, 0]       4  0.863791\n",
      "78991    55155  c050101     [1, 0, 1, 0, 0]       5  1.712822\n",
      "79451    55319  c050101        [1, 1, 0, 0]       4  1.812237\n",
      "80010    56193  c050101           [1, 1, 1]       3  1.715882\n",
      "80363    56578  c050101        [1, 0, 1, 1]       4  2.213930\n",
      "80428    56599  c050101  [1, 0, 1, 0, 0, 1]       6  2.521314\n",
      "80795    56884  c050101     [0, 0, 1, 0, 0]       5  0.875473\n",
      "80815    56886  c050101     [1, 0, 0, 1, 1]       5  2.324945\n",
      "80830    56887  c050101        [1, 1, 0, 1]       4  2.447848\n",
      "80848    56888  c050101     [0, 1, 0, 1, 1]       5  2.214516\n",
      "80864    56889  c050101  [1, 1, 0, 0, 0, 0]       6  1.833958\n",
      "81442    57662  c050101     [0, 1, 0, 0, 0]       5  0.875556\n",
      "81572    57837  c050101        [1, 0, 1, 1]       4  2.213930\n",
      "81612    57860  c050101     [1, 0, 0, 0, 1]       5  1.676268\n",
      "\n"
     ]
    },
    {
     "name": "stdout",
     "output_type": "stream",
     "text": [
      "[197 rows x 5 columns]\n",
      "       user_id tag_code            is_right  length       ssr\n",
      "0        29110  c050101     [0, 0, 1, 0, 1]       5  1.651933\n",
      "561      29845  c050101        [1, 0, 1, 1]       4  2.194132\n",
      "699      29861  c050101        [1, 1, 0, 1]       4  2.391720\n",
      "1179     30411  c050101     [1, 0, 0, 0, 1]       5  1.675048\n",
      "1277     30525  c050101           [0, 0, 0]       3  0.029164\n",
      "3352     32576  c050101  [1, 1, 1, 1, 1, 0]       6  2.578886\n",
      "3556     32991  c050101     [0, 0, 1, 0, 1]       5  1.651933\n",
      "3604     33031  c050101        [1, 0, 1, 1]       4  2.194132\n",
      "4215     34006  c050101        [1, 0, 1, 0]       4  1.697930\n",
      "4265     34062  c050101           [1, 1, 0]       3  1.752253\n",
      "5217     34719  c050101     [0, 1, 1, 1, 1]       5  1.770990\n",
      "6455     34912  c050101        [0, 1, 1, 0]       4  1.768947\n",
      "6534     34916  c050101     [0, 1, 1, 0, 1]       5  2.390415\n",
      "6739     34920  c050101     [1, 0, 1, 1, 1]       5  2.315674\n",
      "6925     34924  c050101  [0, 1, 1, 1, 1, 1]       6  1.789675\n",
      "7099     34930  c050101     [0, 1, 1, 1, 1]       5  1.770990\n",
      "7188     34932  c050101  [1, 0, 1, 0, 1, 0]       6  2.579504\n",
      "7557     34951  c050101  [0, 1, 1, 1, 1, 0]       6  2.516289\n",
      "8268     35107  c050101     [1, 0, 1, 0, 1]       5  2.462414\n",
      "8515     35126  c050101        [1, 1, 0, 1]       4  2.391720\n",
      "8759     35163  c050101           [1, 1, 1]       3  1.765230\n",
      "9294     35211  c050101           [1, 1, 1]       3  1.765230\n",
      "9326     35214  c050101     [1, 0, 0, 0, 1]       5  1.675048\n",
      "9450     35261  c050101     [1, 1, 0, 1, 0]       5  2.719087\n",
      "9477     35266  c050101  [0, 1, 1, 0, 1, 0]       6  2.741921\n",
      "9532     35267  c050101     [1, 0, 0, 1, 1]       5  2.320573\n",
      "9723     35269  c050101  [0, 1, 1, 1, 1, 1]       6  1.789675\n",
      "9799     35270  c050101  [0, 1, 0, 0, 1, 0]       6  1.709399\n",
      "10054    35282  c050101     [1, 0, 0, 1, 1]       5  2.320573\n",
      "10098    35284  c050101        [1, 1, 0, 1]       4  2.391720\n",
      "...        ...      ...                 ...     ...       ...\n",
      "72819    50972  c050101  [0, 1, 0, 0, 1, 0]       6  1.709399\n",
      "72955    51022  c050101        [1, 0, 1, 0]       4  1.697930\n",
      "73615    51121  c050101     [1, 1, 1, 1, 0]       5  2.548240\n",
      "73659    51122  c050101  [0, 0, 0, 0, 0, 0]       6  0.058626\n",
      "74101    51179  c050101     [1, 0, 0, 0, 0]       5  0.873691\n",
      "74232    51203  c050101     [1, 0, 0, 1, 1]       5  2.320573\n",
      "74436    51247  c050101     [0, 0, 1, 1, 1]       5  1.738944\n",
      "74781    51297  c050101           [1, 1, 1]       3  1.765230\n",
      "75289    51951  c050101        [1, 1, 0, 1]       4  2.391720\n",
      "75461    51972  c050101     [0, 0, 1, 1, 1]       5  1.738944\n",
      "76113    52073  c050101           [0, 0, 1]       3  0.831018\n",
      "76301    52132  c050101        [0, 1, 1, 1]       4  1.734591\n",
      "76369    52154  c050101        [0, 1, 1, 0]       4  1.768947\n",
      "76634    52254  c050101  [0, 0, 0, 0, 0, 0]       6  0.058626\n",
      "77423    53406  c050101           [1, 1, 1]       3  1.765230\n",
      "77648    53594  c050101           [0, 0, 0]       3  0.029164\n",
      "78603    55003  c050101        [0, 0, 1, 0]       4  0.862233\n",
      "78991    55155  c050101     [1, 0, 1, 0, 0]       5  1.713719\n",
      "79451    55319  c050101        [1, 1, 0, 0]       4  1.792387\n",
      "80010    56193  c050101           [1, 1, 1]       3  1.765230\n",
      "80363    56578  c050101        [1, 0, 1, 1]       4  2.194132\n",
      "80428    56599  c050101  [1, 0, 1, 0, 0, 1]       6  2.518242\n",
      "80795    56884  c050101     [0, 0, 1, 0, 0]       5  0.874631\n",
      "80815    56886  c050101     [1, 0, 0, 1, 1]       5  2.320573\n",
      "80830    56887  c050101        [1, 1, 0, 1]       4  2.391720\n",
      "80848    56888  c050101     [0, 1, 0, 1, 1]       5  2.187663\n",
      "80864    56889  c050101  [1, 1, 0, 0, 0, 0]       6  1.816046\n",
      "81442    57662  c050101     [0, 1, 0, 0, 0]       5  0.874814\n",
      "81572    57837  c050101        [1, 0, 1, 1]       4  2.194132\n",
      "81612    57860  c050101     [1, 0, 0, 0, 1]       5  1.675048\n",
      "\n",
      "[197 rows x 5 columns]\n",
      "       user_id tag_code            is_right  length       ssr\n",
      "0        29110  c050101     [0, 0, 1, 0, 1]       5  1.645414\n",
      "561      29845  c050101        [1, 0, 1, 1]       4  2.184625\n",
      "699      29861  c050101        [1, 1, 0, 1]       4  2.351651\n",
      "1179     30411  c050101     [1, 0, 0, 0, 1]       5  1.673751\n",
      "1277     30525  c050101           [0, 0, 0]       3  0.029053\n",
      "3352     32576  c050101  [1, 1, 1, 1, 1, 0]       6  2.594341\n",
      "3556     32991  c050101     [0, 0, 1, 0, 1]       5  1.645414\n",
      "3604     33031  c050101        [1, 0, 1, 1]       4  2.184625\n",
      "4215     34006  c050101        [1, 0, 1, 0]       4  1.694979\n",
      "4265     34062  c050101           [1, 1, 0]       3  1.728874\n",
      "5217     34719  c050101     [0, 1, 1, 1, 1]       5  1.829328\n",
      "6455     34912  c050101        [0, 1, 1, 0]       4  1.745274\n",
      "6534     34916  c050101     [0, 1, 1, 0, 1]       5  2.343429\n",
      "6739     34920  c050101     [1, 0, 1, 1, 1]       5  2.322052\n",
      "6925     34924  c050101  [0, 1, 1, 1, 1, 1]       6  1.860784\n",
      "7099     34930  c050101     [0, 1, 1, 1, 1]       5  1.829328\n",
      "7188     34932  c050101  [1, 0, 1, 0, 1, 0]       6  2.580712\n",
      "7557     34951  c050101  [0, 1, 1, 1, 1, 0]       6  2.506067\n",
      "8268     35107  c050101     [1, 0, 1, 0, 1]       5  2.443683\n",
      "8515     35126  c050101        [1, 1, 0, 1]       4  2.351651\n",
      "8759     35163  c050101           [1, 1, 1]       3  1.816076\n",
      "9294     35211  c050101           [1, 1, 1]       3  1.816076\n",
      "9326     35214  c050101     [1, 0, 0, 0, 1]       5  1.673751\n",
      "9450     35261  c050101     [1, 1, 0, 1, 0]       5  2.674664\n",
      "9477     35266  c050101  [0, 1, 1, 0, 1, 0]       6  2.694763\n",
      "9532     35267  c050101     [1, 0, 0, 1, 1]       5  2.315894\n",
      "9723     35269  c050101  [0, 1, 1, 1, 1, 1]       6  1.860784\n",
      "9799     35270  c050101  [0, 1, 0, 0, 1, 0]       6  1.707640\n",
      "10054    35282  c050101     [1, 0, 0, 1, 1]       5  2.315894\n",
      "10098    35284  c050101        [1, 1, 0, 1]       4  2.351651\n",
      "...        ...      ...                 ...     ...       ...\n",
      "72819    50972  c050101  [0, 1, 0, 0, 1, 0]       6  1.707640\n",
      "72955    51022  c050101        [1, 0, 1, 0]       4  1.694979\n",
      "73615    51121  c050101     [1, 1, 1, 1, 0]       5  2.549818\n",
      "73659    51122  c050101  [0, 0, 0, 0, 0, 0]       6  0.058513\n",
      "74101    51179  c050101     [1, 0, 0, 0, 0]       5  0.872841\n",
      "74232    51203  c050101     [1, 0, 0, 1, 1]       5  2.315894\n",
      "74436    51247  c050101     [0, 0, 1, 1, 1]       5  1.775860\n",
      "74781    51297  c050101           [1, 1, 1]       3  1.816076\n",
      "75289    51951  c050101        [1, 1, 0, 1]       4  2.351651\n",
      "75461    51972  c050101     [0, 0, 1, 1, 1]       5  1.775860\n",
      "76113    52073  c050101           [0, 0, 1]       3  0.830974\n",
      "76301    52132  c050101        [0, 1, 1, 1]       4  1.774890\n",
      "76369    52154  c050101        [0, 1, 1, 0]       4  1.745274\n",
      "76634    52254  c050101  [0, 0, 0, 0, 0, 0]       6  0.058513\n",
      "77423    53406  c050101           [1, 1, 1]       3  1.816076\n",
      "77648    53594  c050101           [0, 0, 0]       3  0.029053\n",
      "78603    55003  c050101        [0, 0, 1, 0]       4  0.860695\n",
      "78991    55155  c050101     [1, 0, 1, 0, 0]       5  1.713129\n",
      "79451    55319  c050101        [1, 1, 0, 0]       4  1.773327\n",
      "80010    56193  c050101           [1, 1, 1]       3  1.816076\n",
      "80363    56578  c050101        [1, 0, 1, 1]       4  2.184625\n",
      "80428    56599  c050101  [1, 0, 1, 0, 0, 1]       6  2.512188\n",
      "80795    56884  c050101     [0, 0, 1, 0, 0]       5  0.873727\n",
      "80815    56886  c050101     [1, 0, 0, 1, 1]       5  2.315894\n",
      "80830    56887  c050101        [1, 1, 0, 1]       4  2.351651\n",
      "80848    56888  c050101     [0, 1, 0, 1, 1]       5  2.170906\n",
      "80864    56889  c050101  [1, 1, 0, 0, 0, 0]       6  1.799265\n",
      "81442    57662  c050101     [0, 1, 0, 0, 0]       5  0.874049\n",
      "81572    57837  c050101        [1, 0, 1, 1]       4  2.184625\n",
      "81612    57860  c050101     [1, 0, 0, 0, 1]       5  1.673751\n",
      "\n",
      "[197 rows x 5 columns]\n",
      "       user_id tag_code            is_right  length       ssr\n",
      "0        29110  c050101     [0, 0, 1, 0, 1]       5  1.639772\n",
      "561      29845  c050101        [1, 0, 1, 1]       4  2.183187\n",
      "699      29861  c050101        [1, 1, 0, 1]       4  2.324230\n",
      "1179     30411  c050101     [1, 0, 0, 0, 1]       5  1.672367\n",
      "1277     30525  c050101           [0, 0, 0]       3  0.028932\n",
      "3352     32576  c050101  [1, 1, 1, 1, 1, 0]       6  2.621846\n",
      "3556     32991  c050101     [0, 0, 1, 0, 1]       5  1.639772\n",
      "3604     33031  c050101        [1, 0, 1, 1]       4  2.183187\n",
      "4215     34006  c050101        [1, 0, 1, 0]       4  1.690914\n",
      "4265     34062  c050101           [1, 1, 0]       3  1.708776\n",
      "5217     34719  c050101     [0, 1, 1, 1, 1]       5  1.893825\n",
      "6455     34912  c050101        [0, 1, 1, 0]       4  1.724091\n",
      "6534     34916  c050101     [0, 1, 1, 0, 1]       5  2.309103\n",
      "6739     34920  c050101     [1, 0, 1, 1, 1]       5  2.341728\n",
      "6925     34924  c050101  [0, 1, 1, 1, 1, 1]       6  1.941414\n",
      "7099     34930  c050101     [0, 1, 1, 1, 1]       5  1.893825\n",
      "7188     34932  c050101  [1, 0, 1, 0, 1, 0]       6  2.574706\n",
      "7557     34951  c050101  [0, 1, 1, 1, 1, 0]       6  2.505118\n",
      "8268     35107  c050101     [1, 0, 1, 0, 1]       5  2.425949\n",
      "8515     35126  c050101        [1, 1, 0, 1]       4  2.324230\n",
      "8759     35163  c050101           [1, 1, 1]       3  1.868054\n",
      "9294     35211  c050101           [1, 1, 1]       3  1.868054\n",
      "9326     35214  c050101     [1, 0, 0, 0, 1]       5  1.672367\n",
      "9450     35261  c050101     [1, 1, 0, 1, 0]       5  2.629437\n",
      "9477     35266  c050101  [0, 1, 1, 0, 1, 0]       6  2.645213\n",
      "9532     35267  c050101     [1, 0, 0, 1, 1]       5  2.312044\n",
      "9723     35269  c050101  [0, 1, 1, 1, 1, 1]       6  1.941414\n",
      "9799     35270  c050101  [0, 1, 0, 0, 1, 0]       6  1.705590\n",
      "10054    35282  c050101     [1, 0, 0, 1, 1]       5  2.312044\n",
      "10098    35284  c050101        [1, 1, 0, 1]       4  2.324230\n",
      "...        ...      ...                 ...     ...       ...\n",
      "72819    50972  c050101  [0, 1, 0, 0, 1, 0]       6  1.705590\n",
      "72955    51022  c050101        [1, 0, 1, 0]       4  1.690914\n",
      "73615    51121  c050101     [1, 1, 1, 1, 0]       5  2.559896\n",
      "73659    51122  c050101  [0, 0, 0, 0, 0, 0]       6  0.058387\n",
      "74101    51179  c050101     [1, 0, 0, 0, 0]       5  0.872060\n",
      "74232    51203  c050101     [1, 0, 0, 1, 1]       5  2.312044\n",
      "74436    51247  c050101     [0, 0, 1, 1, 1]       5  1.814651\n",
      "74781    51297  c050101           [1, 1, 1]       3  1.868054\n",
      "75289    51951  c050101        [1, 1, 0, 1]       4  2.324230\n",
      "75461    51972  c050101     [0, 0, 1, 1, 1]       5  1.814651\n",
      "76113    52073  c050101           [0, 0, 1]       3  0.830959\n",
      "76301    52132  c050101        [0, 1, 1, 1]       4  1.817544\n",
      "76369    52154  c050101        [0, 1, 1, 0]       4  1.724091\n",
      "76634    52254  c050101  [0, 0, 0, 0, 0, 0]       6  0.058387\n",
      "77423    53406  c050101           [1, 1, 1]       3  1.868054\n",
      "77648    53594  c050101           [0, 0, 0]       3  0.028932\n",
      "78603    55003  c050101        [0, 0, 1, 0]       4  0.859183\n",
      "78991    55155  c050101     [1, 0, 1, 0, 0]       5  1.711266\n",
      "79451    55319  c050101        [1, 1, 0, 0]       4  1.755212\n",
      "80010    56193  c050101           [1, 1, 1]       3  1.868054\n",
      "80363    56578  c050101        [1, 0, 1, 1]       4  2.183187\n",
      "80428    56599  c050101  [1, 0, 1, 0, 0, 1]       6  2.503776\n",
      "80795    56884  c050101     [0, 0, 1, 0, 0]       5  0.872754\n",
      "80815    56886  c050101     [1, 0, 0, 1, 1]       5  2.312044\n",
      "80830    56887  c050101        [1, 1, 0, 1]       4  2.324230\n",
      "80848    56888  c050101     [0, 1, 0, 1, 1]       5  2.162544\n",
      "80864    56889  c050101  [1, 1, 0, 0, 0, 0]       6  1.783547\n",
      "81442    57662  c050101     [0, 1, 0, 0, 0]       5  0.873254\n",
      "81572    57837  c050101        [1, 0, 1, 1]       4  2.183187\n",
      "81612    57860  c050101     [1, 0, 0, 0, 1]       5  1.672367\n",
      "\n"
     ]
    },
    {
     "name": "stdout",
     "output_type": "stream",
     "text": [
      "[197 rows x 5 columns]\n",
      "       user_id tag_code            is_right  length       ssr\n",
      "0        29110  c050101     [0, 0, 1, 0, 1]       5  1.635033\n",
      "561      29845  c050101        [1, 0, 1, 1]       4  2.188202\n",
      "699      29861  c050101        [1, 1, 0, 1]       4  2.307040\n",
      "1179     30411  c050101     [1, 0, 0, 0, 1]       5  1.670908\n",
      "1277     30525  c050101           [0, 0, 0]       3  0.028799\n",
      "3352     32576  c050101  [1, 1, 1, 1, 1, 0]       6  2.661195\n",
      "3556     32991  c050101     [0, 0, 1, 0, 1]       5  1.635033\n",
      "3604     33031  c050101        [1, 0, 1, 1]       4  2.188202\n",
      "4215     34006  c050101        [1, 0, 1, 0]       4  1.686173\n",
      "4265     34062  c050101           [1, 1, 0]       3  1.691808\n",
      "5217     34719  c050101     [0, 1, 1, 1, 1]       5  1.964367\n",
      "6455     34912  c050101        [0, 1, 1, 0]       4  1.705435\n",
      "6534     34916  c050101     [0, 1, 1, 0, 1]       5  2.285380\n",
      "6739     34920  c050101     [1, 0, 1, 1, 1]       5  2.372490\n",
      "6925     34924  c050101  [0, 1, 1, 1, 1, 1]       6  2.031494\n",
      "7099     34930  c050101     [0, 1, 1, 1, 1]       5  1.964367\n",
      "7188     34932  c050101  [1, 0, 1, 0, 1, 0]       6  2.562947\n",
      "7557     34951  c050101  [0, 1, 1, 1, 1, 0]       6  2.513317\n",
      "8268     35107  c050101     [1, 0, 1, 0, 1]       5  2.410384\n",
      "8515     35126  c050101        [1, 1, 0, 1]       4  2.307040\n",
      "8759     35163  c050101           [1, 1, 1]       3  1.920757\n",
      "9294     35211  c050101           [1, 1, 1]       3  1.920757\n",
      "9326     35214  c050101     [1, 0, 0, 0, 1]       5  1.670908\n",
      "9450     35261  c050101     [1, 1, 0, 1, 0]       5  2.587091\n",
      "9477     35266  c050101  [0, 1, 1, 0, 1, 0]       6  2.597708\n",
      "9532     35267  c050101     [1, 0, 0, 1, 1]       5  2.309824\n",
      "9723     35269  c050101  [0, 1, 1, 1, 1, 1]       6  2.031494\n",
      "9799     35270  c050101  [0, 1, 0, 0, 1, 0]       6  1.703157\n",
      "10054    35282  c050101     [1, 0, 0, 1, 1]       5  2.309824\n",
      "10098    35284  c050101        [1, 1, 0, 1]       4  2.307040\n",
      "...        ...      ...                 ...     ...       ...\n",
      "72819    50972  c050101  [0, 1, 0, 0, 1, 0]       6  1.703157\n",
      "72955    51022  c050101        [1, 0, 1, 0]       4  1.686173\n",
      "73615    51121  c050101     [1, 1, 1, 1, 0]       5  2.578187\n",
      "73659    51122  c050101  [0, 0, 0, 0, 0, 0]       6  0.058247\n",
      "74101    51179  c050101     [1, 0, 0, 0, 0]       5  0.871330\n",
      "74232    51203  c050101     [1, 0, 0, 1, 1]       5  2.309824\n",
      "74436    51247  c050101     [0, 0, 1, 1, 1]       5  1.855297\n",
      "74781    51297  c050101           [1, 1, 1]       3  1.920757\n",
      "75289    51951  c050101        [1, 1, 0, 1]       4  2.307040\n",
      "75461    51972  c050101     [0, 0, 1, 1, 1]       5  1.855297\n",
      "76113    52073  c050101           [0, 0, 1]       3  0.830982\n",
      "76301    52132  c050101        [0, 1, 1, 1]       4  1.862336\n",
      "76369    52154  c050101        [0, 1, 1, 0]       4  1.705435\n",
      "76634    52254  c050101  [0, 0, 0, 0, 0, 0]       6  0.058247\n",
      "77423    53406  c050101           [1, 1, 1]       3  1.920757\n",
      "77648    53594  c050101           [0, 0, 0]       3  0.028799\n",
      "78603    55003  c050101        [0, 0, 1, 0]       4  0.857706\n",
      "78991    55155  c050101     [1, 0, 1, 0, 0]       5  1.708373\n",
      "79451    55319  c050101        [1, 1, 0, 0]       4  1.738306\n",
      "80010    56193  c050101           [1, 1, 1]       3  1.920757\n",
      "80363    56578  c050101        [1, 0, 1, 1]       4  2.188202\n",
      "80428    56599  c050101  [1, 0, 1, 0, 0, 1]       6  2.493799\n",
      "80795    56884  c050101     [0, 0, 1, 0, 0]       5  0.871710\n",
      "80815    56886  c050101     [1, 0, 0, 1, 1]       5  2.309824\n",
      "80830    56887  c050101        [1, 1, 0, 1]       4  2.307040\n",
      "80848    56888  c050101     [0, 1, 0, 1, 1]       5  2.161288\n",
      "80864    56889  c050101  [1, 1, 0, 0, 0, 0]       6  1.768935\n",
      "81442    57662  c050101     [0, 1, 0, 0, 0]       5  0.872422\n",
      "81572    57837  c050101        [1, 0, 1, 1]       4  2.188202\n",
      "81612    57860  c050101     [1, 0, 0, 0, 1]       5  1.670908\n",
      "\n",
      "[197 rows x 5 columns]\n",
      "       user_id tag_code            is_right  length       ssr\n",
      "0        29110  c050101     [0, 0, 1, 0, 1]       5  1.631226\n",
      "561      29845  c050101        [1, 0, 1, 1]       4  2.198436\n",
      "699      29861  c050101        [1, 1, 0, 1]       4  2.298272\n",
      "1179     30411  c050101     [1, 0, 0, 0, 1]       5  1.669405\n",
      "1277     30525  c050101           [0, 0, 0]       3  0.028653\n",
      "3352     32576  c050101  [1, 1, 1, 1, 1, 0]       6  2.712165\n",
      "3556     32991  c050101     [0, 0, 1, 0, 1]       5  1.631226\n",
      "3604     33031  c050101        [1, 0, 1, 1]       4  2.198436\n",
      "4215     34006  c050101        [1, 0, 1, 0]       4  1.681149\n",
      "4265     34062  c050101           [1, 1, 0]       3  1.677799\n",
      "5217     34719  c050101     [0, 1, 1, 1, 1]       5  2.040803\n",
      "6455     34912  c050101        [0, 1, 1, 0]       4  1.689318\n",
      "6534     34916  c050101     [0, 1, 1, 0, 1]       5  2.270713\n",
      "6739     34920  c050101     [1, 0, 1, 1, 1]       5  2.412810\n",
      "6925     34924  c050101  [0, 1, 1, 1, 1, 1]       6  2.130933\n",
      "7099     34930  c050101     [0, 1, 1, 1, 1]       5  2.040803\n",
      "7188     34932  c050101  [1, 0, 1, 0, 1, 0]       6  2.547453\n",
      "7557     34951  c050101  [0, 1, 1, 1, 1, 0]       6  2.530498\n",
      "8268     35107  c050101     [1, 0, 1, 0, 1]       5  2.397746\n",
      "8515     35126  c050101        [1, 1, 0, 1]       4  2.298272\n",
      "8759     35163  c050101           [1, 1, 1]       3  1.973740\n",
      "9294     35211  c050101           [1, 1, 1]       3  1.973740\n",
      "9326     35214  c050101     [1, 0, 0, 0, 1]       5  1.669405\n",
      "9450     35261  c050101     [1, 1, 0, 1, 0]       5  2.549393\n",
      "9477     35266  c050101  [0, 1, 1, 0, 1, 0]       6  2.554531\n",
      "9532     35267  c050101     [1, 0, 0, 1, 1]       5  2.309753\n",
      "9723     35269  c050101  [0, 1, 1, 1, 1, 1]       6  2.130933\n",
      "9799     35270  c050101  [0, 1, 0, 0, 1, 0]       6  1.700305\n",
      "10054    35282  c050101     [1, 0, 0, 1, 1]       5  2.309753\n",
      "10098    35284  c050101        [1, 1, 0, 1]       4  2.298272\n",
      "...        ...      ...                 ...     ...       ...\n",
      "72819    50972  c050101  [0, 1, 0, 0, 1, 0]       6  1.700305\n",
      "72955    51022  c050101        [1, 0, 1, 0]       4  1.681149\n",
      "73615    51121  c050101     [1, 1, 1, 1, 0]       5  2.604362\n",
      "73659    51122  c050101  [0, 0, 0, 0, 0, 0]       6  0.058089\n",
      "74101    51179  c050101     [1, 0, 0, 0, 0]       5  0.870637\n",
      "74232    51203  c050101     [1, 0, 0, 1, 1]       5  2.309753\n",
      "74436    51247  c050101     [0, 0, 1, 1, 1]       5  1.897739\n",
      "74781    51297  c050101           [1, 1, 1]       3  1.973740\n",
      "75289    51951  c050101        [1, 1, 0, 1]       4  2.298272\n",
      "75461    51972  c050101     [0, 0, 1, 1, 1]       5  1.897739\n",
      "76113    52073  c050101           [0, 0, 1]       3  0.831052\n",
      "76301    52132  c050101        [0, 1, 1, 1]       4  1.909003\n",
      "76369    52154  c050101        [0, 1, 1, 0]       4  1.689318\n",
      "76634    52254  c050101  [0, 0, 0, 0, 0, 0]       6  0.058089\n",
      "77423    53406  c050101           [1, 1, 1]       3  1.973740\n",
      "77648    53594  c050101           [0, 0, 0]       3  0.028653\n",
      "78603    55003  c050101        [0, 0, 1, 0]       4  0.856273\n",
      "78991    55155  c050101     [1, 0, 1, 0, 0]       5  1.704704\n",
      "79451    55319  c050101        [1, 1, 0, 0]       4  1.722870\n",
      "80010    56193  c050101           [1, 1, 1]       3  1.973740\n",
      "80363    56578  c050101        [1, 0, 1, 1]       4  2.198436\n",
      "80428    56599  c050101  [1, 0, 1, 0, 0, 1]       6  2.483106\n",
      "80795    56884  c050101     [0, 0, 1, 0, 0]       5  0.870597\n",
      "80815    56886  c050101     [1, 0, 0, 1, 1]       5  2.309753\n",
      "80830    56887  c050101        [1, 1, 0, 1]       4  2.298272\n",
      "80848    56888  c050101     [0, 1, 0, 1, 1]       5  2.166132\n",
      "80864    56889  c050101  [1, 1, 0, 0, 0, 0]       6  1.755495\n",
      "81442    57662  c050101     [0, 1, 0, 0, 0]       5  0.871551\n",
      "81572    57837  c050101        [1, 0, 1, 1]       4  2.198436\n",
      "81612    57860  c050101     [1, 0, 0, 0, 1]       5  1.669405\n",
      "\n",
      "[197 rows x 5 columns]\n",
      "       user_id tag_code            is_right  length       ssr\n",
      "0        29110  c050101     [0, 0, 1, 0, 1]       5  1.628378\n",
      "561      29845  c050101        [1, 0, 1, 1]       4  2.212903\n",
      "699      29861  c050101        [1, 1, 0, 1]       4  2.296497\n",
      "1179     30411  c050101     [1, 0, 0, 0, 1]       5  1.667905\n",
      "1277     30525  c050101           [0, 0, 0]       3  0.028495\n",
      "3352     32576  c050101  [1, 1, 1, 1, 1, 0]       6  2.774510\n",
      "3556     32991  c050101     [0, 0, 1, 0, 1]       5  1.628378\n",
      "3604     33031  c050101        [1, 0, 1, 1]       4  2.212903\n",
      "4215     34006  c050101        [1, 0, 1, 0]       4  1.676172\n",
      "4265     34062  c050101           [1, 1, 0]       3  1.666556\n",
      "5217     34719  c050101     [0, 1, 1, 1, 1]       5  2.122937\n",
      "6455     34912  c050101        [0, 1, 1, 0]       4  1.675723\n",
      "6534     34916  c050101     [0, 1, 1, 0, 1]       5  2.263888\n",
      "6739     34920  c050101     [1, 0, 1, 1, 1]       5  2.461526\n",
      "6925     34924  c050101  [0, 1, 1, 1, 1, 1]       6  2.239615\n",
      "7099     34930  c050101     [0, 1, 1, 1, 1]       5  2.122937\n",
      "7188     34932  c050101  [1, 0, 1, 0, 1, 0]       6  2.530208\n",
      "7557     34951  c050101  [0, 1, 1, 1, 1, 0]       6  2.556452\n",
      "8268     35107  c050101     [1, 0, 1, 0, 1]       5  2.388472\n",
      "8515     35126  c050101        [1, 1, 0, 1]       4  2.296497\n",
      "8759     35163  c050101           [1, 1, 1]       3  2.026524\n",
      "9294     35211  c050101           [1, 1, 1]       3  2.026524\n",
      "9326     35214  c050101     [1, 0, 0, 0, 1]       5  1.667905\n",
      "9450     35261  c050101     [1, 1, 0, 1, 0]       5  2.517159\n",
      "9477     35266  c050101  [0, 1, 1, 0, 1, 0]       6  2.516876\n",
      "9532     35267  c050101     [1, 0, 0, 1, 1]       5  2.312129\n",
      "9723     35269  c050101  [0, 1, 1, 1, 1, 1]       6  2.239615\n",
      "9799     35270  c050101  [0, 1, 0, 0, 1, 0]       6  1.697056\n",
      "10054    35282  c050101     [1, 0, 0, 1, 1]       5  2.312129\n",
      "10098    35284  c050101        [1, 1, 0, 1]       4  2.296497\n",
      "...        ...      ...                 ...     ...       ...\n",
      "72819    50972  c050101  [0, 1, 0, 0, 1, 0]       6  1.697056\n",
      "72955    51022  c050101        [1, 0, 1, 0]       4  1.676172\n",
      "73615    51121  c050101     [1, 1, 1, 1, 0]       5  2.638043\n",
      "73659    51122  c050101  [0, 0, 0, 0, 0, 0]       6  0.057909\n",
      "74101    51179  c050101     [1, 0, 0, 0, 0]       5  0.869965\n",
      "74232    51203  c050101     [1, 0, 0, 1, 1]       5  2.312129\n",
      "74436    51247  c050101     [0, 0, 1, 1, 1]       5  1.941869\n",
      "74781    51297  c050101           [1, 1, 1]       3  2.026524\n",
      "75289    51951  c050101        [1, 1, 0, 1]       4  2.296497\n",
      "75461    51972  c050101     [0, 0, 1, 1, 1]       5  1.941869\n",
      "76113    52073  c050101           [0, 0, 1]       3  0.831176\n",
      "76301    52132  c050101        [0, 1, 1, 1]       4  1.957229\n",
      "76369    52154  c050101        [0, 1, 1, 0]       4  1.675723\n",
      "76634    52254  c050101  [0, 0, 0, 0, 0, 0]       6  0.057909\n",
      "77423    53406  c050101           [1, 1, 1]       3  2.026524\n",
      "77648    53594  c050101           [0, 0, 0]       3  0.028495\n",
      "78603    55003  c050101        [0, 0, 1, 0]       4  0.854898\n",
      "78991    55155  c050101     [1, 0, 1, 0, 0]       5  1.700514\n",
      "79451    55319  c050101        [1, 1, 0, 0]       4  1.709121\n",
      "80010    56193  c050101           [1, 1, 1]       3  2.026524\n",
      "80363    56578  c050101        [1, 0, 1, 1]       4  2.212903\n",
      "80428    56599  c050101  [1, 0, 1, 0, 0, 1]       6  2.472529\n",
      "80795    56884  c050101     [0, 0, 1, 0, 0]       5  0.869423\n",
      "80815    56886  c050101     [1, 0, 0, 1, 1]       5  2.312129\n",
      "80830    56887  c050101        [1, 1, 0, 1]       4  2.296497\n",
      "80848    56888  c050101     [0, 1, 0, 1, 1]       5  2.176253\n",
      "80864    56889  c050101  [1, 1, 0, 0, 0, 0]       6  1.743285\n",
      "81442    57662  c050101     [0, 1, 0, 0, 0]       5  0.870638\n",
      "81572    57837  c050101        [1, 0, 1, 1]       4  2.212903\n",
      "81612    57860  c050101     [1, 0, 0, 0, 1]       5  1.667905\n",
      "\n"
     ]
    },
    {
     "name": "stdout",
     "output_type": "stream",
     "text": [
      "[197 rows x 5 columns]\n",
      "       user_id tag_code            is_right  length       ssr\n",
      "0        29110  c050101     [0, 0, 1, 0, 1]       5  1.626512\n",
      "561      29845  c050101        [1, 0, 1, 1]       4  2.230774\n",
      "699      29861  c050101        [1, 1, 0, 1]       4  2.300522\n",
      "1179     30411  c050101     [1, 0, 0, 0, 1]       5  1.666466\n",
      "1277     30525  c050101           [0, 0, 0]       3  0.028323\n",
      "3352     32576  c050101  [1, 1, 1, 1, 1, 0]       6  2.847954\n",
      "3556     32991  c050101     [0, 0, 1, 0, 1]       5  1.626512\n",
      "3604     33031  c050101        [1, 0, 1, 1]       4  2.230774\n",
      "4215     34006  c050101        [1, 0, 1, 0]       4  1.671512\n",
      "4265     34062  c050101           [1, 1, 0]       3  1.657864\n",
      "5217     34719  c050101     [0, 1, 1, 1, 1]       5  2.210516\n",
      "6455     34912  c050101        [0, 1, 1, 0]       4  1.664609\n",
      "6534     34916  c050101     [0, 1, 1, 0, 1]       5  2.263904\n",
      "6739     34920  c050101     [1, 0, 1, 1, 1]       5  2.517667\n",
      "6925     34924  c050101  [0, 1, 1, 1, 1, 1]       6  2.357392\n",
      "7099     34930  c050101     [0, 1, 1, 1, 1]       5  2.210516\n",
      "7188     34932  c050101  [1, 0, 1, 0, 1, 0]       6  2.512903\n",
      "7557     34951  c050101  [0, 1, 1, 1, 1, 0]       6  2.590905\n",
      "8268     35107  c050101     [1, 0, 1, 0, 1]       5  2.382747\n",
      "8515     35126  c050101        [1, 1, 0, 1]       4  2.300522\n",
      "8759     35163  c050101           [1, 1, 1]       3  2.078599\n",
      "9294     35211  c050101           [1, 1, 1]       3  2.078599\n",
      "9326     35214  c050101     [1, 0, 0, 0, 1]       5  1.666466\n",
      "9450     35261  c050101     [1, 1, 0, 1, 0]       5  2.490694\n",
      "9477     35266  c050101  [0, 1, 1, 0, 1, 0]       6  2.485339\n",
      "9532     35267  c050101     [1, 0, 0, 1, 1]       5  2.317071\n",
      "9723     35269  c050101  [0, 1, 1, 1, 1, 1]       6  2.357392\n",
      "9799     35270  c050101  [0, 1, 0, 0, 1, 0]       6  1.693491\n",
      "10054    35282  c050101     [1, 0, 0, 1, 1]       5  2.317071\n",
      "10098    35284  c050101        [1, 1, 0, 1]       4  2.300522\n",
      "...        ...      ...                 ...     ...       ...\n",
      "72819    50972  c050101  [0, 1, 0, 0, 1, 0]       6  1.693491\n",
      "72955    51022  c050101        [1, 0, 1, 0]       4  1.671512\n",
      "73615    51121  c050101     [1, 1, 1, 1, 0]       5  2.678783\n",
      "73659    51122  c050101  [0, 0, 0, 0, 0, 0]       6  0.057705\n",
      "74101    51179  c050101     [1, 0, 0, 0, 0]       5  0.869302\n",
      "74232    51203  c050101     [1, 0, 0, 1, 1]       5  2.317071\n",
      "74436    51247  c050101     [0, 0, 1, 1, 1]       5  1.987525\n",
      "74781    51297  c050101           [1, 1, 1]       3  2.078599\n",
      "75289    51951  c050101        [1, 1, 0, 1]       4  2.300522\n",
      "75461    51972  c050101     [0, 0, 1, 1, 1]       5  1.987525\n",
      "76113    52073  c050101           [0, 0, 1]       3  0.831364\n",
      "76301    52132  c050101        [0, 1, 1, 1]       4  2.006641\n",
      "76369    52154  c050101        [0, 1, 1, 0]       4  1.664609\n",
      "76634    52254  c050101  [0, 0, 0, 0, 0, 0]       6  0.057705\n",
      "77423    53406  c050101           [1, 1, 1]       3  2.078599\n",
      "77648    53594  c050101           [0, 0, 0]       3  0.028323\n",
      "78603    55003  c050101        [0, 0, 1, 0]       4  0.853595\n",
      "78991    55155  c050101     [1, 0, 1, 0, 0]       5  1.696052\n",
      "79451    55319  c050101        [1, 1, 0, 0]       4  1.697203\n",
      "80010    56193  c050101           [1, 1, 1]       3  2.078599\n",
      "80363    56578  c050101        [1, 0, 1, 1]       4  2.230774\n",
      "80428    56599  c050101  [1, 0, 1, 0, 0, 1]       6  2.462815\n",
      "80795    56884  c050101     [0, 0, 1, 0, 0]       5  0.868198\n",
      "80815    56886  c050101     [1, 0, 0, 1, 1]       5  2.317071\n",
      "80830    56887  c050101        [1, 1, 0, 1]       4  2.300522\n",
      "80848    56888  c050101     [0, 1, 0, 1, 1]       5  2.190950\n",
      "80864    56889  c050101  [1, 1, 0, 0, 0, 0]       6  1.732342\n",
      "81442    57662  c050101     [0, 1, 0, 0, 0]       5  0.869684\n",
      "81572    57837  c050101        [1, 0, 1, 1]       4  2.230774\n",
      "81612    57860  c050101     [1, 0, 0, 0, 1]       5  1.666466\n",
      "\n",
      "[197 rows x 5 columns]\n",
      "       user_id tag_code            is_right  length       ssr\n",
      "0        29110  c050101     [0, 0, 1, 0, 1]       5  1.625644\n",
      "561      29845  c050101        [1, 0, 1, 1]       4  2.251321\n",
      "699      29861  c050101        [1, 1, 0, 1]       4  2.309302\n",
      "1179     30411  c050101     [1, 0, 0, 0, 1]       5  1.665155\n",
      "1277     30525  c050101           [0, 0, 0]       3  0.028135\n",
      "3352     32576  c050101  [1, 1, 1, 1, 1, 0]       6  2.932170\n",
      "3556     32991  c050101     [0, 0, 1, 0, 1]       5  1.625644\n",
      "3604     33031  c050101        [1, 0, 1, 1]       4  2.251321\n",
      "4215     34006  c050101        [1, 0, 1, 0]       4  1.667376\n",
      "4265     34062  c050101           [1, 1, 0]       3  1.651489\n",
      "5217     34719  c050101     [0, 1, 1, 1, 1]       5  2.303210\n",
      "6455     34912  c050101        [0, 1, 1, 0]       4  1.655902\n",
      "6534     34916  c050101     [0, 1, 1, 0, 1]       5  2.269884\n",
      "6739     34920  c050101     [1, 0, 1, 1, 1]       5  2.580340\n",
      "6925     34924  c050101  [0, 1, 1, 1, 1, 1]       6  2.484078\n",
      "7099     34930  c050101     [0, 1, 1, 1, 1]       5  2.303210\n",
      "7188     34932  c050101  [1, 0, 1, 0, 1, 0]       6  2.496864\n",
      "7557     34951  c050101  [0, 1, 1, 1, 1, 0]       6  2.633508\n",
      "8268     35107  c050101     [1, 0, 1, 0, 1]       5  2.380571\n",
      "8515     35126  c050101        [1, 1, 0, 1]       4  2.309302\n",
      "8759     35163  c050101           [1, 1, 1]       3  2.129429\n",
      "9294     35211  c050101           [1, 1, 1]       3  2.129429\n",
      "9326     35214  c050101     [1, 0, 0, 0, 1]       5  1.665155\n",
      "9450     35261  c050101     [1, 1, 0, 1, 0]       5  2.470001\n",
      "9477     35266  c050101  [0, 1, 1, 0, 1, 0]       6  2.460162\n",
      "9532     35267  c050101     [1, 0, 0, 1, 1]       5  2.324561\n",
      "9723     35269  c050101  [0, 1, 1, 1, 1, 1]       6  2.484078\n",
      "9799     35270  c050101  [0, 1, 0, 0, 1, 0]       6  1.689740\n",
      "10054    35282  c050101     [1, 0, 0, 1, 1]       5  2.324561\n",
      "10098    35284  c050101        [1, 1, 0, 1]       4  2.309302\n",
      "...        ...      ...                 ...     ...       ...\n",
      "72819    50972  c050101  [0, 1, 0, 0, 1, 0]       6  1.689740\n",
      "72955    51022  c050101        [1, 0, 1, 0]       4  1.667376\n",
      "73615    51121  c050101     [1, 1, 1, 1, 0]       5  2.726041\n",
      "73659    51122  c050101  [0, 0, 0, 0, 0, 0]       6  0.057472\n",
      "74101    51179  c050101     [1, 0, 0, 0, 0]       5  0.868638\n",
      "74232    51203  c050101     [1, 0, 0, 1, 1]       5  2.324561\n",
      "74436    51247  c050101     [0, 0, 1, 1, 1]       5  2.034481\n",
      "74781    51297  c050101           [1, 1, 1]       3  2.129429\n",
      "75289    51951  c050101        [1, 1, 0, 1]       4  2.309302\n",
      "75461    51972  c050101     [0, 0, 1, 1, 1]       5  2.034481\n",
      "76113    52073  c050101           [0, 0, 1]       3  0.831623\n",
      "76301    52132  c050101        [0, 1, 1, 1]       4  2.056804\n",
      "76369    52154  c050101        [0, 1, 1, 0]       4  1.655902\n",
      "76634    52254  c050101  [0, 0, 0, 0, 0, 0]       6  0.057472\n",
      "77423    53406  c050101           [1, 1, 1]       3  2.129429\n",
      "77648    53594  c050101           [0, 0, 0]       3  0.028135\n",
      "78603    55003  c050101        [0, 0, 1, 0]       4  0.852382\n",
      "78991    55155  c050101     [1, 0, 1, 0, 0]       5  1.691554\n",
      "79451    55319  c050101        [1, 1, 0, 0]       4  1.687188\n",
      "80010    56193  c050101           [1, 1, 1]       3  2.129429\n",
      "80363    56578  c050101        [1, 0, 1, 1]       4  2.251321\n",
      "80428    56599  c050101  [1, 0, 1, 0, 0, 1]       6  2.454596\n",
      "80795    56884  c050101     [0, 0, 1, 0, 0]       5  0.866938\n",
      "80815    56886  c050101     [1, 0, 0, 1, 1]       5  2.324561\n",
      "80830    56887  c050101        [1, 1, 0, 1]       4  2.309302\n",
      "80848    56888  c050101     [0, 1, 0, 1, 1]       5  2.209586\n",
      "80864    56889  c050101  [1, 1, 0, 0, 0, 0]       6  1.722682\n",
      "81442    57662  c050101     [0, 1, 0, 0, 0]       5  0.868693\n",
      "81572    57837  c050101        [1, 0, 1, 1]       4  2.251321\n",
      "81612    57860  c050101     [1, 0, 0, 0, 1]       5  1.665155\n",
      "\n",
      "[197 rows x 5 columns]\n",
      "       user_id tag_code            is_right  length       ssr\n",
      "0        29110  c050101     [0, 0, 1, 0, 1]       5  1.625781\n",
      "561      29845  c050101        [1, 0, 1, 1]       4  2.273874\n",
      "699      29861  c050101        [1, 1, 0, 1]       4  2.321883\n",
      "1179     30411  c050101     [1, 0, 0, 0, 1]       5  1.664042\n",
      "1277     30525  c050101           [0, 0, 0]       3  0.027933\n",
      "3352     32576  c050101  [1, 1, 1, 1, 1, 0]       6  3.026745\n",
      "3556     32991  c050101     [0, 0, 1, 0, 1]       5  1.625781\n",
      "3604     33031  c050101        [1, 0, 1, 1]       4  2.273874\n",
      "4215     34006  c050101        [1, 0, 1, 0]       4  1.663916\n",
      "4265     34062  c050101           [1, 1, 0]       3  1.647178\n",
      "5217     34719  c050101     [0, 1, 1, 1, 1]       5  2.400579\n",
      "6455     34912  c050101        [0, 1, 1, 0]       4  1.649498\n",
      "6534     34916  c050101     [0, 1, 1, 0, 1]       5  2.281013\n",
      "6739     34920  c050101     [1, 0, 1, 1, 1]       5  2.648640\n",
      "6925     34924  c050101  [0, 1, 1, 1, 1, 1]       6  2.619428\n",
      "7099     34930  c050101     [0, 1, 1, 1, 1]       5  2.400579\n",
      "7188     34932  c050101  [1, 0, 1, 0, 1, 0]       6  2.483061\n",
      "7557     34951  c050101  [0, 1, 1, 1, 1, 0]       6  2.683803\n",
      "8268     35107  c050101     [1, 0, 1, 0, 1]       5  2.381796\n",
      "8515     35126  c050101        [1, 1, 0, 1]       4  2.321883\n",
      "8759     35163  c050101           [1, 1, 1]       3  2.178465\n",
      "9294     35211  c050101           [1, 1, 1]       3  2.178465\n",
      "9326     35214  c050101     [1, 0, 0, 0, 1]       5  1.664042\n",
      "9450     35261  c050101     [1, 1, 0, 1, 0]       5  2.454896\n",
      "9477     35266  c050101  [0, 1, 1, 0, 1, 0]       6  2.441353\n",
      "9532     35267  c050101     [1, 0, 0, 1, 1]       5  2.334469\n",
      "9723     35269  c050101  [0, 1, 1, 1, 1, 1]       6  2.619428\n",
      "9799     35270  c050101  [0, 1, 0, 0, 1, 0]       6  1.685975\n",
      "10054    35282  c050101     [1, 0, 0, 1, 1]       5  2.334469\n",
      "10098    35284  c050101        [1, 1, 0, 1]       4  2.321883\n",
      "...        ...      ...                 ...     ...       ...\n",
      "72819    50972  c050101  [0, 1, 0, 0, 1, 0]       6  1.685975\n",
      "72955    51022  c050101        [1, 0, 1, 0]       4  1.663916\n",
      "73615    51121  c050101     [1, 1, 1, 1, 0]       5  2.779135\n",
      "73659    51122  c050101  [0, 0, 0, 0, 0, 0]       6  0.057203\n",
      "74101    51179  c050101     [1, 0, 0, 0, 0]       5  0.867964\n",
      "74232    51203  c050101     [1, 0, 0, 1, 1]       5  2.334469\n",
      "74436    51247  c050101     [0, 0, 1, 1, 1]       5  2.082430\n",
      "74781    51297  c050101           [1, 1, 1]       3  2.178465\n",
      "75289    51951  c050101        [1, 1, 0, 1]       4  2.321883\n",
      "75461    51972  c050101     [0, 0, 1, 1, 1]       5  2.082430\n",
      "76113    52073  c050101           [0, 0, 1]       3  0.831962\n",
      "76301    52132  c050101        [0, 1, 1, 1]       4  2.107211\n",
      "76369    52154  c050101        [0, 1, 1, 0]       4  1.649498\n",
      "76634    52254  c050101  [0, 0, 0, 0, 0, 0]       6  0.057203\n",
      "77423    53406  c050101           [1, 1, 1]       3  2.178465\n",
      "77648    53594  c050101           [0, 0, 0]       3  0.027933\n",
      "78603    55003  c050101        [0, 0, 1, 0]       4  0.851276\n",
      "78991    55155  c050101     [1, 0, 1, 0, 0]       5  1.687239\n",
      "79451    55319  c050101        [1, 1, 0, 0]       4  1.679075\n",
      "80010    56193  c050101           [1, 1, 1]       3  2.178465\n",
      "80363    56578  c050101        [1, 0, 1, 1]       4  2.273874\n",
      "80428    56599  c050101  [1, 0, 1, 0, 0, 1]       6  2.448358\n",
      "80795    56884  c050101     [0, 0, 1, 0, 0]       5  0.865662\n",
      "80815    56886  c050101     [1, 0, 0, 1, 1]       5  2.334469\n",
      "80830    56887  c050101        [1, 1, 0, 1]       4  2.321883\n",
      "80848    56888  c050101     [0, 1, 0, 1, 1]       5  2.231559\n",
      "80864    56889  c050101  [1, 1, 0, 0, 0, 0]       6  1.714298\n",
      "81442    57662  c050101     [0, 1, 0, 0, 0]       5  0.867672\n",
      "81572    57837  c050101        [1, 0, 1, 1]       4  2.273874\n",
      "81612    57860  c050101     [1, 0, 0, 0, 1]       5  1.664042\n",
      "\n"
     ]
    },
    {
     "name": "stdout",
     "output_type": "stream",
     "text": [
      "[197 rows x 5 columns]\n",
      "       user_id tag_code            is_right  length       ssr\n",
      "0        29110  c050101     [0, 0, 1, 0, 1]       5  1.626919\n",
      "561      29845  c050101        [1, 0, 1, 1]       4  2.297804\n",
      "699      29861  c050101        [1, 1, 0, 1]       4  2.337371\n",
      "1179     30411  c050101     [1, 0, 0, 0, 1]       5  1.663195\n",
      "1277     30525  c050101           [0, 0, 0]       3  0.027714\n",
      "3352     32576  c050101  [1, 1, 1, 1, 1, 0]       6  3.131121\n",
      "3556     32991  c050101     [0, 0, 1, 0, 1]       5  1.626919\n",
      "3604     33031  c050101        [1, 0, 1, 1]       4  2.297804\n",
      "4215     34006  c050101        [1, 0, 1, 0]       4  1.661227\n",
      "4265     34062  c050101           [1, 1, 0]       3  1.644670\n",
      "5217     34719  c050101     [0, 1, 1, 1, 1]       5  2.502027\n",
      "6455     34912  c050101        [0, 1, 1, 0]       4  1.645258\n",
      "6534     34916  c050101     [0, 1, 1, 0, 1]       5  2.296499\n",
      "6739     34920  c050101     [1, 0, 1, 1, 1]       5  2.721568\n",
      "6925     34924  c050101  [0, 1, 1, 1, 1, 1]       6  2.763113\n",
      "7099     34930  c050101     [0, 1, 1, 1, 1]       5  2.502027\n",
      "7188     34932  c050101  [1, 0, 1, 0, 1, 0]       6  2.472153\n",
      "7557     34951  c050101  [0, 1, 1, 1, 1, 0]       6  2.741182\n",
      "8268     35107  c050101     [1, 0, 1, 0, 1]       5  2.386162\n",
      "8515     35126  c050101        [1, 1, 0, 1]       4  2.337371\n",
      "8759     35163  c050101           [1, 1, 1]       3  2.225159\n",
      "9294     35211  c050101           [1, 1, 1]       3  2.225159\n",
      "9326     35214  c050101     [1, 0, 0, 0, 1]       5  1.663195\n",
      "9450     35261  c050101     [1, 1, 0, 1, 0]       5  2.445057\n",
      "9477     35266  c050101  [0, 1, 1, 0, 1, 0]       6  2.428748\n",
      "9532     35267  c050101     [1, 0, 0, 1, 1]       5  2.346577\n",
      "9723     35269  c050101  [0, 1, 1, 1, 1, 1]       6  2.763113\n",
      "9799     35270  c050101  [0, 1, 0, 0, 1, 0]       6  1.682390\n",
      "10054    35282  c050101     [1, 0, 0, 1, 1]       5  2.346577\n",
      "10098    35284  c050101        [1, 1, 0, 1]       4  2.337371\n",
      "...        ...      ...                 ...     ...       ...\n",
      "72819    50972  c050101  [0, 1, 0, 0, 1, 0]       6  1.682390\n",
      "72955    51022  c050101        [1, 0, 1, 0]       4  1.661227\n",
      "73615    51121  c050101     [1, 1, 1, 1, 0]       5  2.837189\n",
      "73659    51122  c050101  [0, 0, 0, 0, 0, 0]       6  0.056893\n",
      "74101    51179  c050101     [1, 0, 0, 0, 0]       5  0.867274\n",
      "74232    51203  c050101     [1, 0, 0, 1, 1]       5  2.346577\n",
      "74436    51247  c050101     [0, 0, 1, 1, 1]       5  2.130983\n",
      "74781    51297  c050101           [1, 1, 1]       3  2.225159\n",
      "75289    51951  c050101        [1, 1, 0, 1]       4  2.337371\n",
      "75461    51972  c050101     [0, 0, 1, 1, 1]       5  2.130983\n",
      "76113    52073  c050101           [0, 0, 1]       3  0.832389\n",
      "76301    52132  c050101        [0, 1, 1, 1]       4  2.157288\n",
      "76369    52154  c050101        [0, 1, 1, 0]       4  1.645258\n",
      "76634    52254  c050101  [0, 0, 0, 0, 0, 0]       6  0.056893\n",
      "77423    53406  c050101           [1, 1, 1]       3  2.225159\n",
      "77648    53594  c050101           [0, 0, 0]       3  0.027714\n",
      "78603    55003  c050101        [0, 0, 1, 0]       4  0.850295\n",
      "78991    55155  c050101     [1, 0, 1, 0, 0]       5  1.683300\n",
      "79451    55319  c050101        [1, 1, 0, 0]       4  1.672797\n",
      "80010    56193  c050101           [1, 1, 1]       3  2.225159\n",
      "80363    56578  c050101        [1, 0, 1, 1]       4  2.297804\n",
      "80428    56599  c050101  [1, 0, 1, 0, 0, 1]       6  2.444435\n",
      "80795    56884  c050101     [0, 0, 1, 0, 0]       5  0.864394\n",
      "80815    56886  c050101     [1, 0, 0, 1, 1]       5  2.346577\n",
      "80830    56887  c050101        [1, 1, 0, 1]       4  2.337371\n",
      "80848    56888  c050101     [0, 1, 0, 1, 1]       5  2.256264\n",
      "80864    56889  c050101  [1, 1, 0, 0, 0, 0]       6  1.707165\n",
      "81442    57662  c050101     [0, 1, 0, 0, 0]       5  0.866631\n",
      "81572    57837  c050101        [1, 0, 1, 1]       4  2.297804\n",
      "81612    57860  c050101     [1, 0, 0, 0, 1]       5  1.663195\n",
      "\n",
      "[197 rows x 5 columns]\n",
      "       user_id tag_code            is_right  length       ssr\n",
      "0        29110  c050101     [0, 0, 1, 0, 1]       5  1.629037\n",
      "561      29845  c050101        [1, 0, 1, 1]       4  2.322498\n",
      "699      29861  c050101        [1, 1, 0, 1]       4  2.354913\n",
      "1179     30411  c050101     [1, 0, 0, 0, 1]       5  1.662684\n",
      "1277     30525  c050101           [0, 0, 0]       3  0.027478\n",
      "3352     32576  c050101  [1, 1, 1, 1, 1, 0]       6  3.244501\n",
      "3556     32991  c050101     [0, 0, 1, 0, 1]       5  1.629037\n",
      "3604     33031  c050101        [1, 0, 1, 1]       4  2.322498\n",
      "4215     34006  c050101        [1, 0, 1, 0]       4  1.659362\n",
      "4265     34062  c050101           [1, 1, 0]       3  1.643691\n",
      "5217     34719  c050101     [0, 1, 1, 1, 1]       5  2.606726\n",
      "6455     34912  c050101        [0, 1, 1, 0]       4  1.643009\n",
      "6534     34916  c050101     [0, 1, 1, 0, 1]       5  2.315529\n",
      "6739     34920  c050101     [1, 0, 1, 1, 1]       5  2.797948\n",
      "6925     34924  c050101  [0, 1, 1, 1, 1, 1]       6  2.914662\n",
      "7099     34930  c050101     [0, 1, 1, 1, 1]       5  2.606726\n",
      "7188     34932  c050101  [1, 0, 1, 0, 1, 0]       6  2.464522\n",
      "7557     34951  c050101  [0, 1, 1, 1, 1, 0]       6  2.804822\n",
      "8268     35107  c050101     [1, 0, 1, 0, 1]       5  2.393316\n",
      "8515     35126  c050101        [1, 1, 0, 1]       4  2.354913\n",
      "8759     35163  c050101           [1, 1, 1]       3  2.268979\n",
      "9294     35211  c050101           [1, 1, 1]       3  2.268979\n",
      "9326     35214  c050101     [1, 0, 0, 0, 1]       5  1.662684\n",
      "9450     35261  c050101     [1, 1, 0, 1, 0]       5  2.440054\n",
      "9477     35266  c050101  [0, 1, 1, 0, 1, 0]       6  2.422037\n",
      "9532     35267  c050101     [1, 0, 0, 1, 1]       5  2.360590\n",
      "9723     35269  c050101  [0, 1, 1, 1, 1, 1]       6  2.914662\n",
      "9799     35270  c050101  [0, 1, 0, 0, 1, 0]       6  1.679186\n",
      "10054    35282  c050101     [1, 0, 0, 1, 1]       5  2.360590\n",
      "10098    35284  c050101        [1, 1, 0, 1]       4  2.354913\n",
      "...        ...      ...                 ...     ...       ...\n",
      "72819    50972  c050101  [0, 1, 0, 0, 1, 0]       6  1.679186\n",
      "72955    51022  c050101        [1, 0, 1, 0]       4  1.659362\n",
      "73615    51121  c050101     [1, 1, 1, 1, 0]       5  2.899053\n",
      "73659    51122  c050101  [0, 0, 0, 0, 0, 0]       6  0.056534\n",
      "74101    51179  c050101     [1, 0, 0, 0, 0]       5  0.866567\n",
      "74232    51203  c050101     [1, 0, 0, 1, 1]       5  2.360590\n",
      "74436    51247  c050101     [0, 0, 1, 1, 1]       5  2.179647\n",
      "74781    51297  c050101           [1, 1, 1]       3  2.268979\n",
      "75289    51951  c050101        [1, 1, 0, 1]       4  2.354913\n",
      "75461    51972  c050101     [0, 0, 1, 1, 1]       5  2.179647\n",
      "76113    52073  c050101           [0, 0, 1]       3  0.832913\n",
      "76301    52132  c050101        [0, 1, 1, 1]       4  2.206388\n",
      "76369    52154  c050101        [0, 1, 1, 0]       4  1.643009\n",
      "76634    52254  c050101  [0, 0, 0, 0, 0, 0]       6  0.056534\n",
      "77423    53406  c050101           [1, 1, 1]       3  2.268979\n",
      "77648    53594  c050101           [0, 0, 0]       3  0.027478\n",
      "78603    55003  c050101        [0, 0, 1, 0]       4  0.849459\n",
      "78991    55155  c050101     [1, 0, 1, 0, 0]       5  1.679893\n",
      "79451    55319  c050101        [1, 1, 0, 0]       4  1.668233\n",
      "80010    56193  c050101           [1, 1, 1]       3  2.268979\n",
      "80363    56578  c050101        [1, 0, 1, 1]       4  2.322498\n",
      "80428    56599  c050101  [1, 0, 1, 0, 0, 1]       6  2.443005\n",
      "80795    56884  c050101     [0, 0, 1, 0, 0]       5  0.863163\n",
      "80815    56886  c050101     [1, 0, 0, 1, 1]       5  2.360590\n",
      "80830    56887  c050101        [1, 1, 0, 1]       4  2.354913\n",
      "80848    56888  c050101     [0, 1, 0, 1, 1]       5  2.283078\n",
      "80864    56889  c050101  [1, 1, 0, 0, 0, 0]       6  1.701239\n",
      "81442    57662  c050101     [0, 1, 0, 0, 0]       5  0.865587\n",
      "81572    57837  c050101        [1, 0, 1, 1]       4  2.322498\n",
      "81612    57860  c050101     [1, 0, 0, 0, 1]       5  1.662684\n",
      "\n",
      "[197 rows x 5 columns]\n",
      "       user_id tag_code            is_right  length       ssr\n",
      "0        29110  c050101     [0, 0, 1, 0, 1]       5  1.632101\n",
      "561      29845  c050101        [1, 0, 1, 1]       4  2.347360\n",
      "699      29861  c050101        [1, 1, 0, 1]       4  2.373690\n",
      "1179     30411  c050101     [1, 0, 0, 0, 1]       5  1.662568\n",
      "1277     30525  c050101           [0, 0, 0]       3  0.027225\n",
      "3352     32576  c050101  [1, 1, 1, 1, 1, 0]       6  3.365696\n",
      "3556     32991  c050101     [0, 0, 1, 0, 1]       5  1.632101\n",
      "3604     33031  c050101        [1, 0, 1, 1]       4  2.347360\n",
      "4215     34006  c050101        [1, 0, 1, 0]       4  1.658326\n",
      "4265     34062  c050101           [1, 1, 0]       3  1.643968\n",
      "5217     34719  c050101     [0, 1, 1, 1, 1]       5  2.713499\n",
      "6455     34912  c050101        [0, 1, 1, 0]       4  1.642545\n",
      "6534     34916  c050101     [0, 1, 1, 0, 1]       5  2.337255\n",
      "6739     34920  c050101     [1, 0, 1, 1, 1]       5  2.876343\n",
      "6925     34924  c050101  [0, 1, 1, 1, 1, 1]       6  3.073365\n",
      "7099     34930  c050101     [0, 1, 1, 1, 1]       5  2.713499\n",
      "7188     34932  c050101  [1, 0, 1, 0, 1, 0]       6  2.460312\n",
      "7557     34951  c050101  [0, 1, 1, 1, 1, 0]       6  2.873588\n",
      "8268     35107  c050101     [1, 0, 1, 0, 1]       5  2.402827\n",
      "8515     35126  c050101        [1, 1, 0, 1]       4  2.373690\n",
      "8759     35163  c050101           [1, 1, 1]       3  2.309427\n",
      "9294     35211  c050101           [1, 1, 1]       3  2.309427\n",
      "9326     35214  c050101     [1, 0, 0, 0, 1]       5  1.662568\n",
      "9450     35261  c050101     [1, 1, 0, 1, 0]       5  2.439356\n",
      "9477     35266  c050101  [0, 1, 1, 0, 1, 0]       6  2.420777\n",
      "9532     35267  c050101     [1, 0, 0, 1, 1]       5  2.376146\n",
      "9723     35269  c050101  [0, 1, 1, 1, 1, 1]       6  3.073365\n",
      "9799     35270  c050101  [0, 1, 0, 0, 1, 0]       6  1.676556\n",
      "10054    35282  c050101     [1, 0, 0, 1, 1]       5  2.376146\n",
      "10098    35284  c050101        [1, 1, 0, 1]       4  2.373690\n",
      "...        ...      ...                 ...     ...       ...\n",
      "72819    50972  c050101  [0, 1, 0, 0, 1, 0]       6  1.676556\n",
      "72955    51022  c050101        [1, 0, 1, 0]       4  1.658326\n",
      "73615    51121  c050101     [1, 1, 1, 1, 0]       5  2.963230\n",
      "73659    51122  c050101  [0, 0, 0, 0, 0, 0]       6  0.056117\n",
      "74101    51179  c050101     [1, 0, 0, 0, 0]       5  0.865842\n",
      "74232    51203  c050101     [1, 0, 0, 1, 1]       5  2.376146\n",
      "74436    51247  c050101     [0, 0, 1, 1, 1]       5  2.227822\n",
      "74781    51297  c050101           [1, 1, 1]       3  2.309427\n",
      "75289    51951  c050101        [1, 1, 0, 1]       4  2.373690\n",
      "75461    51972  c050101     [0, 0, 1, 1, 1]       5  2.227822\n",
      "76113    52073  c050101           [0, 0, 1]       3  0.833542\n",
      "76301    52132  c050101        [0, 1, 1, 1]       4  2.253800\n",
      "76369    52154  c050101        [0, 1, 1, 0]       4  1.642545\n",
      "76634    52254  c050101  [0, 0, 0, 0, 0, 0]       6  0.056117\n",
      "77423    53406  c050101           [1, 1, 1]       3  2.309427\n",
      "77648    53594  c050101           [0, 0, 0]       3  0.027225\n",
      "78603    55003  c050101        [0, 0, 1, 0]       4  0.848788\n",
      "78991    55155  c050101     [1, 0, 1, 0, 0]       5  1.677138\n",
      "79451    55319  c050101        [1, 1, 0, 0]       4  1.665215\n",
      "80010    56193  c050101           [1, 1, 1]       3  2.309427\n",
      "80363    56578  c050101        [1, 0, 1, 1]       4  2.347360\n",
      "80428    56599  c050101  [1, 0, 1, 0, 0, 1]       6  2.444094\n",
      "80795    56884  c050101     [0, 0, 1, 0, 0]       5  0.862002\n",
      "80815    56886  c050101     [1, 0, 0, 1, 1]       5  2.376146\n",
      "80830    56887  c050101        [1, 1, 0, 1]       4  2.373690\n",
      "80848    56888  c050101     [0, 1, 0, 1, 1]       5  2.311334\n",
      "80864    56889  c050101  [1, 1, 0, 0, 0, 0]       6  1.696458\n",
      "81442    57662  c050101     [0, 1, 0, 0, 0]       5  0.864557\n",
      "81572    57837  c050101        [1, 0, 1, 1]       4  2.347360\n",
      "81612    57860  c050101     [1, 0, 0, 0, 1]       5  1.662568\n",
      "\n"
     ]
    },
    {
     "name": "stdout",
     "output_type": "stream",
     "text": [
      "[197 rows x 5 columns]\n",
      "       user_id tag_code            is_right  length       ssr\n",
      "0        29110  c050101     [0, 0, 1, 0, 1]       5  1.636052\n",
      "561      29845  c050101        [1, 0, 1, 1]       4  2.371802\n",
      "699      29861  c050101        [1, 1, 0, 1]       4  2.392920\n",
      "1179     30411  c050101     [1, 0, 0, 0, 1]       5  1.662898\n",
      "1277     30525  c050101           [0, 0, 0]       3  0.026954\n",
      "3352     32576  c050101  [1, 1, 1, 1, 1, 0]       6  3.492893\n",
      "3556     32991  c050101     [0, 0, 1, 0, 1]       5  1.636052\n",
      "3604     33031  c050101        [1, 0, 1, 1]       4  2.371802\n",
      "4215     34006  c050101        [1, 0, 1, 0]       4  1.658092\n",
      "4265     34062  c050101           [1, 1, 0]       3  1.645236\n",
      "5217     34719  c050101     [0, 1, 1, 1, 1]       5  2.820661\n",
      "6455     34912  c050101        [0, 1, 1, 0]       4  1.643628\n",
      "6534     34916  c050101     [0, 1, 1, 0, 1]       5  2.360779\n",
      "6739     34920  c050101     [1, 0, 1, 1, 1]       5  2.954970\n",
      "6925     34924  c050101  [0, 1, 1, 1, 1, 1]       6  3.238089\n",
      "7099     34930  c050101     [0, 1, 1, 1, 1]       5  2.820661\n",
      "7188     34932  c050101  [1, 0, 1, 0, 1, 0]       6  2.459455\n",
      "7557     34951  c050101  [0, 1, 1, 1, 1, 0]       6  2.945915\n",
      "8268     35107  c050101     [1, 0, 1, 0, 1]       5  2.414199\n",
      "8515     35126  c050101        [1, 1, 0, 1]       4  2.392920\n",
      "8759     35163  c050101           [1, 1, 1]       3  2.346067\n",
      "9294     35211  c050101           [1, 1, 1]       3  2.346067\n",
      "9326     35214  c050101     [1, 0, 0, 0, 1]       5  1.662898\n",
      "9450     35261  c050101     [1, 1, 0, 1, 0]       5  2.442335\n",
      "9477     35266  c050101  [0, 1, 1, 0, 1, 0]       6  2.424388\n",
      "9532     35267  c050101     [1, 0, 0, 1, 1]       5  2.392821\n",
      "9723     35269  c050101  [0, 1, 1, 1, 1, 1]       6  3.238089\n",
      "9799     35270  c050101  [0, 1, 0, 0, 1, 0]       6  1.674671\n",
      "10054    35282  c050101     [1, 0, 0, 1, 1]       5  2.392821\n",
      "10098    35284  c050101        [1, 1, 0, 1]       4  2.392920\n",
      "...        ...      ...                 ...     ...       ...\n",
      "72819    50972  c050101  [0, 1, 0, 0, 1, 0]       6  1.674671\n",
      "72955    51022  c050101        [1, 0, 1, 0]       4  1.658092\n",
      "73615    51121  c050101     [1, 1, 1, 1, 0]       5  3.027829\n",
      "73659    51122  c050101  [0, 0, 0, 0, 0, 0]       6  0.055633\n",
      "74101    51179  c050101     [1, 0, 0, 0, 0]       5  0.865104\n",
      "74232    51203  c050101     [1, 0, 0, 1, 1]       5  2.392821\n",
      "74436    51247  c050101     [0, 0, 1, 1, 1]       5  2.274794\n",
      "74781    51297  c050101           [1, 1, 1]       3  2.346067\n",
      "75289    51951  c050101        [1, 1, 0, 1]       4  2.392920\n",
      "75461    51972  c050101     [0, 0, 1, 1, 1]       5  2.274794\n",
      "76113    52073  c050101           [0, 0, 1]       3  0.834284\n",
      "76301    52132  c050101        [0, 1, 1, 1]       4  2.298765\n",
      "76369    52154  c050101        [0, 1, 1, 0]       4  1.643628\n",
      "76634    52254  c050101  [0, 0, 0, 0, 0, 0]       6  0.055633\n",
      "77423    53406  c050101           [1, 1, 1]       3  2.346067\n",
      "77648    53594  c050101           [0, 0, 0]       3  0.026954\n",
      "78603    55003  c050101        [0, 0, 1, 0]       4  0.848300\n",
      "78991    55155  c050101     [1, 0, 1, 0, 0]       5  1.675110\n",
      "79451    55319  c050101        [1, 1, 0, 0]       4  1.663545\n",
      "80010    56193  c050101           [1, 1, 1]       3  2.346067\n",
      "80363    56578  c050101        [1, 0, 1, 1]       4  2.371802\n",
      "80428    56599  c050101  [1, 0, 1, 0, 0, 1]       6  2.447582\n",
      "80795    56884  c050101     [0, 0, 1, 0, 0]       5  0.860945\n",
      "80815    56886  c050101     [1, 0, 0, 1, 1]       5  2.392821\n",
      "80830    56887  c050101        [1, 1, 0, 1]       4  2.392920\n",
      "80848    56888  c050101     [0, 1, 0, 1, 1]       5  2.340318\n",
      "80864    56889  c050101  [1, 1, 0, 0, 0, 0]       6  1.692748\n",
      "81442    57662  c050101     [0, 1, 0, 0, 0]       5  0.863564\n",
      "81572    57837  c050101        [1, 0, 1, 1]       4  2.371802\n",
      "81612    57860  c050101     [1, 0, 0, 0, 1]       5  1.662898\n",
      "\n",
      "[197 rows x 5 columns]\n",
      "       user_id tag_code            is_right  length       ssr\n",
      "0        29110  c050101     [0, 0, 1, 0, 1]       5  1.640810\n",
      "561      29845  c050101        [1, 0, 1, 1]       4  2.395255\n",
      "699      29861  c050101        [1, 1, 0, 1]       4  2.411871\n",
      "1179     30411  c050101     [1, 0, 0, 0, 1]       5  1.663714\n",
      "1277     30525  c050101           [0, 0, 0]       3  0.026664\n",
      "3352     32576  c050101  [1, 1, 1, 1, 1, 0]       6  3.623304\n",
      "3556     32991  c050101     [0, 0, 1, 0, 1]       5  1.640810\n",
      "3604     33031  c050101        [1, 0, 1, 1]       4  2.395255\n",
      "4215     34006  c050101        [1, 0, 1, 0]       4  1.658597\n",
      "4265     34062  c050101           [1, 1, 0]       3  1.647237\n",
      "5217     34719  c050101     [0, 1, 1, 1, 1]       5  2.925818\n",
      "6455     34912  c050101        [0, 1, 1, 0]       4  1.645991\n",
      "6534     34916  c050101     [0, 1, 1, 0, 1]       5  2.385149\n",
      "6739     34920  c050101     [1, 0, 1, 1, 1]       5  3.031644\n",
      "6925     34924  c050101  [0, 1, 1, 1, 1, 1]       6  3.406951\n",
      "7099     34930  c050101     [0, 1, 1, 1, 1]       5  2.925818\n",
      "7188     34932  c050101  [1, 0, 1, 0, 1, 0]       6  2.461683\n",
      "7557     34951  c050101  [0, 1, 1, 1, 1, 0]       6  3.019676\n",
      "8268     35107  c050101     [1, 0, 1, 0, 1]       5  2.426881\n",
      "8515     35126  c050101        [1, 1, 0, 1]       4  2.411871\n",
      "8759     35163  c050101           [1, 1, 1]       3  2.378542\n",
      "9294     35211  c050101           [1, 1, 1]       3  2.378542\n",
      "9326     35214  c050101     [1, 0, 0, 0, 1]       5  1.663714\n",
      "9450     35261  c050101     [1, 1, 0, 1, 0]       5  2.448255\n",
      "9477     35266  c050101  [0, 1, 1, 0, 1, 0]       6  2.432133\n",
      "9532     35267  c050101     [1, 0, 0, 1, 1]       5  2.410137\n",
      "9723     35269  c050101  [0, 1, 1, 1, 1, 1]       6  3.406951\n",
      "9799     35270  c050101  [0, 1, 0, 0, 1, 0]       6  1.673664\n",
      "10054    35282  c050101     [1, 0, 0, 1, 1]       5  2.410137\n",
      "10098    35284  c050101        [1, 1, 0, 1]       4  2.411871\n",
      "...        ...      ...                 ...     ...       ...\n",
      "72819    50972  c050101  [0, 1, 0, 0, 1, 0]       6  1.673664\n",
      "72955    51022  c050101        [1, 0, 1, 0]       4  1.658597\n",
      "73615    51121  c050101     [1, 1, 1, 1, 0]       5  3.090619\n",
      "73659    51122  c050101  [0, 0, 0, 0, 0, 0]       6  0.055071\n",
      "74101    51179  c050101     [1, 0, 0, 0, 0]       5  0.864359\n",
      "74232    51203  c050101     [1, 0, 0, 1, 1]       5  2.410137\n",
      "74436    51247  c050101     [0, 0, 1, 1, 1]       5  2.319734\n",
      "74781    51297  c050101           [1, 1, 1]       3  2.378542\n",
      "75289    51951  c050101        [1, 1, 0, 1]       4  2.411871\n",
      "75461    51972  c050101     [0, 0, 1, 1, 1]       5  2.319734\n",
      "76113    52073  c050101           [0, 0, 1]       3  0.835148\n",
      "76301    52132  c050101        [0, 1, 1, 1]       4  2.340498\n",
      "76369    52154  c050101        [0, 1, 1, 0]       4  1.645991\n",
      "76634    52254  c050101  [0, 0, 0, 0, 0, 0]       6  0.055071\n",
      "77423    53406  c050101           [1, 1, 1]       3  2.378542\n",
      "77648    53594  c050101           [0, 0, 0]       3  0.026664\n",
      "78603    55003  c050101        [0, 0, 1, 0]       4  0.848016\n",
      "78991    55155  c050101     [1, 0, 1, 0, 0]       5  1.673844\n",
      "79451    55319  c050101        [1, 1, 0, 0]       4  1.663004\n",
      "80010    56193  c050101           [1, 1, 1]       3  2.378542\n",
      "80363    56578  c050101        [1, 0, 1, 1]       4  2.395255\n",
      "80428    56599  c050101  [1, 0, 1, 0, 0, 1]       6  2.453215\n",
      "80795    56884  c050101     [0, 0, 1, 0, 0]       5  0.860030\n",
      "80815    56886  c050101     [1, 0, 0, 1, 1]       5  2.410137\n",
      "80830    56887  c050101        [1, 1, 0, 1]       4  2.411871\n",
      "80848    56888  c050101     [0, 1, 0, 1, 1]       5  2.369257\n",
      "80864    56889  c050101  [1, 1, 0, 0, 0, 0]       6  1.690019\n",
      "81442    57662  c050101     [0, 1, 0, 0, 0]       5  0.862635\n",
      "81572    57837  c050101        [1, 0, 1, 1]       4  2.395255\n",
      "81612    57860  c050101     [1, 0, 0, 0, 1]       5  1.663714\n",
      "\n",
      "[197 rows x 5 columns]\n",
      "       user_id tag_code            is_right  length       ssr\n",
      "0        29110  c050101     [0, 0, 1, 0, 1]       5  1.646269\n",
      "561      29845  c050101        [1, 0, 1, 1]       4  2.417174\n",
      "699      29861  c050101        [1, 1, 0, 1]       4  2.429874\n",
      "1179     30411  c050101     [1, 0, 0, 0, 1]       5  1.665039\n",
      "1277     30525  c050101           [0, 0, 0]       3  0.026355\n",
      "3352     32576  c050101  [1, 1, 1, 1, 1, 0]       6  3.752618\n",
      "3556     32991  c050101     [0, 0, 1, 0, 1]       5  1.646269\n",
      "3604     33031  c050101        [1, 0, 1, 1]       4  2.417174\n",
      "4215     34006  c050101        [1, 0, 1, 0]       4  1.659754\n",
      "4265     34062  c050101           [1, 1, 0]       3  1.649738\n",
      "5217     34719  c050101     [0, 1, 1, 1, 1]       5  3.025701\n",
      "6455     34912  c050101        [0, 1, 1, 0]       4  1.649345\n",
      "6534     34916  c050101     [0, 1, 1, 0, 1]       5  2.409378\n",
      "6739     34920  c050101     [1, 0, 1, 1, 1]       5  3.103796\n",
      "6925     34924  c050101  [0, 1, 1, 1, 1, 1]       6  3.576707\n",
      "7099     34930  c050101     [0, 1, 1, 1, 1]       5  3.025701\n",
      "7188     34932  c050101  [1, 0, 1, 0, 1, 0]       6  2.466546\n",
      "7557     34951  c050101  [0, 1, 1, 1, 1, 0]       6  3.092112\n",
      "8268     35107  c050101     [1, 0, 1, 0, 1]       5  2.440283\n",
      "8515     35126  c050101        [1, 1, 0, 1]       4  2.429874\n",
      "8759     35163  c050101           [1, 1, 1]       3  2.406606\n",
      "9294     35211  c050101           [1, 1, 1]       3  2.406606\n",
      "9326     35214  c050101     [1, 0, 0, 0, 1]       5  1.665039\n",
      "9450     35261  c050101     [1, 1, 0, 1, 0]       5  2.456284\n",
      "9477     35266  c050101  [0, 1, 1, 0, 1, 0]       6  2.443106\n",
      "9532     35267  c050101     [1, 0, 0, 1, 1]       5  2.427568\n",
      "9723     35269  c050101  [0, 1, 1, 1, 1, 1]       6  3.576707\n",
      "9799     35270  c050101  [0, 1, 0, 0, 1, 0]       6  1.673621\n",
      "10054    35282  c050101     [1, 0, 0, 1, 1]       5  2.427568\n",
      "10098    35284  c050101        [1, 1, 0, 1]       4  2.429874\n",
      "...        ...      ...                 ...     ...       ...\n",
      "72819    50972  c050101  [0, 1, 0, 0, 1, 0]       6  1.673621\n",
      "72955    51022  c050101        [1, 0, 1, 0]       4  1.659754\n",
      "73615    51121  c050101     [1, 1, 1, 1, 0]       5  3.149211\n",
      "73659    51122  c050101  [0, 0, 0, 0, 0, 0]       6  0.054419\n",
      "74101    51179  c050101     [1, 0, 0, 0, 0]       5  0.863619\n",
      "74232    51203  c050101     [1, 0, 0, 1, 1]       5  2.427568\n",
      "74436    51247  c050101     [0, 0, 1, 1, 1]       5  2.361715\n",
      "74781    51297  c050101           [1, 1, 1]       3  2.406606\n",
      "75289    51951  c050101        [1, 1, 0, 1]       4  2.429874\n",
      "75461    51972  c050101     [0, 0, 1, 1, 1]       5  2.361715\n",
      "76113    52073  c050101           [0, 0, 1]       3  0.836142\n",
      "76301    52132  c050101        [0, 1, 1, 1]       4  2.378228\n",
      "76369    52154  c050101        [0, 1, 1, 0]       4  1.649345\n",
      "76634    52254  c050101  [0, 0, 0, 0, 0, 0]       6  0.054419\n",
      "77423    53406  c050101           [1, 1, 1]       3  2.406606\n",
      "77648    53594  c050101           [0, 0, 0]       3  0.026355\n",
      "78603    55003  c050101        [0, 0, 1, 0]       4  0.847953\n",
      "78991    55155  c050101     [1, 0, 1, 0, 0]       5  1.673332\n",
      "79451    55319  c050101        [1, 1, 0, 0]       4  1.663368\n",
      "80010    56193  c050101           [1, 1, 1]       3  2.406606\n",
      "80363    56578  c050101        [1, 0, 1, 1]       4  2.417174\n",
      "80428    56599  c050101  [1, 0, 1, 0, 0, 1]       6  2.460618\n",
      "80795    56884  c050101     [0, 0, 1, 0, 0]       5  0.859298\n",
      "80815    56886  c050101     [1, 0, 0, 1, 1]       5  2.427568\n",
      "80830    56887  c050101        [1, 1, 0, 1]       4  2.429874\n",
      "80848    56888  c050101     [0, 1, 0, 1, 1]       5  2.397327\n",
      "80864    56889  c050101  [1, 1, 0, 0, 0, 0]       6  1.688172\n",
      "81442    57662  c050101     [0, 1, 0, 0, 0]       5  0.861799\n",
      "81572    57837  c050101        [1, 0, 1, 1]       4  2.417174\n",
      "81612    57860  c050101     [1, 0, 0, 0, 1]       5  1.665039\n",
      "\n"
     ]
    },
    {
     "name": "stdout",
     "output_type": "stream",
     "text": [
      "[197 rows x 5 columns]\n",
      "       user_id tag_code            is_right  length       ssr\n",
      "0        29110  c050101     [0, 0, 1, 0, 1]       5  1.652288\n",
      "561      29845  c050101        [1, 0, 1, 1]       4  2.437059\n",
      "699      29861  c050101        [1, 1, 0, 1]       4  2.446347\n",
      "1179     30411  c050101     [1, 0, 0, 0, 1]       5  1.666878\n",
      "1277     30525  c050101           [0, 0, 0]       3  0.026026\n",
      "3352     32576  c050101  [1, 1, 1, 1, 1, 0]       6  3.874409\n",
      "3556     32991  c050101     [0, 0, 1, 0, 1]       5  1.652288\n",
      "3604     33031  c050101        [1, 0, 1, 1]       4  2.437059\n",
      "4215     34006  c050101        [1, 0, 1, 0]       4  1.661455\n",
      "4265     34062  c050101           [1, 1, 0]       3  1.652526\n",
      "5217     34719  c050101     [0, 1, 1, 1, 1]       5  3.116185\n",
      "6455     34912  c050101        [0, 1, 1, 0]       4  1.653393\n",
      "6534     34916  c050101     [0, 1, 1, 0, 1]       5  2.432468\n",
      "6739     34920  c050101     [1, 0, 1, 1, 1]       5  3.168622\n",
      "6925     34924  c050101  [0, 1, 1, 1, 1, 1]       6  3.741682\n",
      "7099     34930  c050101     [0, 1, 1, 1, 1]       5  3.116185\n",
      "7188     34932  c050101  [1, 0, 1, 0, 1, 0]       6  2.473426\n",
      "7557     34951  c050101  [0, 1, 1, 1, 1, 0]       6  3.159914\n",
      "8268     35107  c050101     [1, 0, 1, 0, 1]       5  2.453786\n",
      "8515     35126  c050101        [1, 1, 0, 1]       4  2.446347\n",
      "8759     35163  c050101           [1, 1, 1]       3  2.430136\n",
      "9294     35211  c050101           [1, 1, 1]       3  2.430136\n",
      "9326     35214  c050101     [1, 0, 0, 0, 1]       5  1.666878\n",
      "9450     35261  c050101     [1, 1, 0, 1, 0]       5  2.465519\n",
      "9477     35266  c050101  [0, 1, 1, 0, 1, 0]       6  2.456213\n",
      "9532     35267  c050101     [1, 0, 0, 1, 1]       5  2.444551\n",
      "9723     35269  c050101  [0, 1, 1, 1, 1, 1]       6  3.741682\n",
      "9799     35270  c050101  [0, 1, 0, 0, 1, 0]       6  1.674571\n",
      "10054    35282  c050101     [1, 0, 0, 1, 1]       5  2.444551\n",
      "10098    35284  c050101        [1, 1, 0, 1]       4  2.446347\n",
      "...        ...      ...                 ...     ...       ...\n",
      "72819    50972  c050101  [0, 1, 0, 0, 1, 0]       6  1.674571\n",
      "72955    51022  c050101        [1, 0, 1, 0]       4  1.661455\n",
      "73615    51121  c050101     [1, 1, 1, 1, 0]       5  3.201332\n",
      "73659    51122  c050101  [0, 0, 0, 0, 0, 0]       6  0.053663\n",
      "74101    51179  c050101     [1, 0, 0, 0, 0]       5  0.862900\n",
      "74232    51203  c050101     [1, 0, 0, 1, 1]       5  2.444551\n",
      "74436    51247  c050101     [0, 0, 1, 1, 1]       5  2.399751\n",
      "74781    51297  c050101           [1, 1, 1]       3  2.430136\n",
      "75289    51951  c050101        [1, 1, 0, 1]       4  2.446347\n",
      "75461    51972  c050101     [0, 0, 1, 1, 1]       5  2.399751\n",
      "76113    52073  c050101           [0, 0, 1]       3  0.837274\n",
      "76301    52132  c050101        [0, 1, 1, 1]       4  2.411252\n",
      "76369    52154  c050101        [0, 1, 1, 0]       4  1.653393\n",
      "76634    52254  c050101  [0, 0, 0, 0, 0, 0]       6  0.053663\n",
      "77423    53406  c050101           [1, 1, 1]       3  2.430136\n",
      "77648    53594  c050101           [0, 0, 0]       3  0.026026\n",
      "78603    55003  c050101        [0, 0, 1, 0]       4  0.848130\n",
      "78991    55155  c050101     [1, 0, 1, 0, 0]       5  1.673527\n",
      "79451    55319  c050101        [1, 1, 0, 0]       4  1.664415\n",
      "80010    56193  c050101           [1, 1, 1]       3  2.430136\n",
      "80363    56578  c050101        [1, 0, 1, 1]       4  2.437059\n",
      "80428    56599  c050101  [1, 0, 1, 0, 0, 1]       6  2.469311\n",
      "80795    56884  c050101     [0, 0, 1, 0, 0]       5  0.858791\n",
      "80815    56886  c050101     [1, 0, 0, 1, 1]       5  2.444551\n",
      "80830    56887  c050101        [1, 1, 0, 1]       4  2.446347\n",
      "80848    56888  c050101     [0, 1, 0, 1, 1]       5  2.423669\n",
      "80864    56889  c050101  [1, 1, 0, 0, 0, 0]       6  1.687099\n",
      "81442    57662  c050101     [0, 1, 0, 0, 0]       5  0.861089\n",
      "81572    57837  c050101        [1, 0, 1, 1]       4  2.437059\n",
      "81612    57860  c050101     [1, 0, 0, 0, 1]       5  1.666878\n",
      "\n",
      "[197 rows x 5 columns]\n",
      "       user_id tag_code            is_right  length       ssr\n",
      "0        29110  c050101     [0, 0, 1, 0, 1]       5  1.658692\n",
      "561      29845  c050101        [1, 0, 1, 1]       4  2.454477\n",
      "699      29861  c050101        [1, 1, 0, 1]       4  2.460818\n",
      "1179     30411  c050101     [1, 0, 0, 0, 1]       5  1.669216\n",
      "1277     30525  c050101           [0, 0, 0]       3  0.025678\n",
      "3352     32576  c050101  [1, 1, 1, 1, 1, 0]       6  3.980214\n",
      "3556     32991  c050101     [0, 0, 1, 0, 1]       5  1.658692\n",
      "3604     33031  c050101        [1, 0, 1, 1]       4  2.454477\n",
      "4215     34006  c050101        [1, 0, 1, 0]       4  1.663579\n",
      "4265     34062  c050101           [1, 1, 0]       3  1.655418\n",
      "5217     34719  c050101     [0, 1, 1, 1, 1]       5  3.192765\n",
      "6455     34912  c050101        [0, 1, 1, 0]       4  1.657833\n",
      "6534     34916  c050101     [0, 1, 1, 0, 1]       5  2.453464\n",
      "6739     34920  c050101     [1, 0, 1, 1, 1]       5  3.223449\n",
      "6925     34924  c050101  [0, 1, 1, 1, 1, 1]       6  3.892297\n",
      "7099     34930  c050101     [0, 1, 1, 1, 1]       5  3.192765\n",
      "7188     34932  c050101  [1, 0, 1, 0, 1, 0]       6  2.481575\n",
      "7557     34951  c050101  [0, 1, 1, 1, 1, 0]       6  3.219537\n",
      "8268     35107  c050101     [1, 0, 1, 0, 1]       5  2.466776\n",
      "8515     35126  c050101        [1, 1, 0, 1]       4  2.460818\n",
      "8759     35163  c050101           [1, 1, 1]       3  2.449160\n",
      "9294     35211  c050101           [1, 1, 1]       3  2.449160\n",
      "9326     35214  c050101     [1, 0, 0, 0, 1]       5  1.669216\n",
      "9450     35261  c050101     [1, 1, 0, 1, 0]       5  2.475047\n",
      "9477     35266  c050101  [0, 1, 1, 0, 1, 0]       6  2.470204\n",
      "9532     35267  c050101     [1, 0, 0, 1, 1]       5  2.460507\n",
      "9723     35269  c050101  [0, 1, 1, 1, 1, 1]       6  3.892297\n",
      "9799     35270  c050101  [0, 1, 0, 0, 1, 0]       6  1.676480\n",
      "10054    35282  c050101     [1, 0, 0, 1, 1]       5  2.460507\n",
      "10098    35284  c050101        [1, 1, 0, 1]       4  2.460818\n",
      "...        ...      ...                 ...     ...       ...\n",
      "72819    50972  c050101  [0, 1, 0, 0, 1, 0]       6  1.676480\n",
      "72955    51022  c050101        [1, 0, 1, 0]       4  1.663579\n",
      "73615    51121  c050101     [1, 1, 1, 1, 0]       5  3.245041\n",
      "73659    51122  c050101  [0, 0, 0, 0, 0, 0]       6  0.052791\n",
      "74101    51179  c050101     [1, 0, 0, 0, 0]       5  0.862219\n",
      "74232    51203  c050101     [1, 0, 0, 1, 1]       5  2.460507\n",
      "74436    51247  c050101     [0, 0, 1, 1, 1]       5  2.432863\n",
      "74781    51297  c050101           [1, 1, 1]       3  2.449160\n",
      "75289    51951  c050101        [1, 1, 0, 1]       4  2.460818\n",
      "75461    51972  c050101     [0, 0, 1, 1, 1]       5  2.432863\n",
      "76113    52073  c050101           [0, 0, 1]       3  0.838552\n",
      "76301    52132  c050101        [0, 1, 1, 1]       4  2.439002\n",
      "76369    52154  c050101        [0, 1, 1, 0]       4  1.657833\n",
      "76634    52254  c050101  [0, 0, 0, 0, 0, 0]       6  0.052791\n",
      "77423    53406  c050101           [1, 1, 1]       3  2.449160\n",
      "77648    53594  c050101           [0, 0, 0]       3  0.025678\n",
      "78603    55003  c050101        [0, 0, 1, 0]       4  0.848567\n",
      "78991    55155  c050101     [1, 0, 1, 0, 0]       5  1.674351\n",
      "79451    55319  c050101        [1, 1, 0, 0]       4  1.665936\n",
      "80010    56193  c050101           [1, 1, 1]       3  2.449160\n",
      "80363    56578  c050101        [1, 0, 1, 1]       4  2.454477\n",
      "80428    56599  c050101  [1, 0, 1, 0, 0, 1]       6  2.478732\n",
      "80795    56884  c050101     [0, 0, 1, 0, 0]       5  0.858553\n",
      "80815    56886  c050101     [1, 0, 0, 1, 1]       5  2.460507\n",
      "80830    56887  c050101        [1, 1, 0, 1]       4  2.460818\n",
      "80848    56888  c050101     [0, 1, 0, 1, 1]       5  2.447428\n",
      "80864    56889  c050101  [1, 1, 0, 0, 0, 0]       6  1.686686\n",
      "81442    57662  c050101     [0, 1, 0, 0, 0]       5  0.860542\n",
      "81572    57837  c050101        [1, 0, 1, 1]       4  2.454477\n",
      "81612    57860  c050101     [1, 0, 0, 0, 1]       5  1.669216\n",
      "\n",
      "[197 rows x 5 columns]\n",
      "       user_id tag_code            is_right  length       ssr\n",
      "0        29110  c050101     [0, 0, 1, 0, 1]       5  1.665261\n",
      "561      29845  c050101        [1, 0, 1, 1]       4  2.469092\n",
      "699      29861  c050101        [1, 1, 0, 1]       4  2.472953\n",
      "1179     30411  c050101     [1, 0, 0, 0, 1]       5  1.672013\n",
      "1277     30525  c050101           [0, 0, 0]       3  0.025310\n",
      "3352     32576  c050101  [1, 1, 1, 1, 1, 0]       6  4.061663\n",
      "3556     32991  c050101     [0, 0, 1, 0, 1]       5  1.665261\n",
      "3604     33031  c050101        [1, 0, 1, 1]       4  2.469092\n",
      "4215     34006  c050101        [1, 0, 1, 0]       4  1.665993\n",
      "4265     34062  c050101           [1, 1, 0]       3  1.658256\n",
      "5217     34719  c050101     [0, 1, 1, 1, 1]       5  3.251696\n",
      "6455     34912  c050101        [0, 1, 1, 0]       4  1.662375\n",
      "6534     34916  c050101     [0, 1, 1, 0, 1]       5  2.471524\n",
      "6739     34920  c050101     [1, 0, 1, 1, 1]       5  3.266281\n",
      "6925     34924  c050101  [0, 1, 1, 1, 1, 1]       6  4.014884\n",
      "7099     34930  c050101     [0, 1, 1, 1, 1]       5  3.251696\n",
      "7188     34932  c050101  [1, 0, 1, 0, 1, 0]       6  2.490171\n",
      "7557     34951  c050101  [0, 1, 1, 1, 1, 0]       6  3.267672\n",
      "8268     35107  c050101     [1, 0, 1, 0, 1]       5  2.478666\n",
      "8515     35126  c050101        [1, 1, 0, 1]       4  2.472953\n",
      "8759     35163  c050101           [1, 1, 1]       3  2.463858\n",
      "9294     35211  c050101           [1, 1, 1]       3  2.463858\n",
      "9326     35214  c050101     [1, 0, 0, 0, 1]       5  1.672013\n",
      "9450     35261  c050101     [1, 1, 0, 1, 0]       5  2.484037\n",
      "9477     35266  c050101  [0, 1, 1, 0, 1, 0]       6  2.483758\n",
      "9532     35267  c050101     [1, 0, 0, 1, 1]       5  2.474860\n",
      "9723     35269  c050101  [0, 1, 1, 1, 1, 1]       6  4.014884\n",
      "9799     35270  c050101  [0, 1, 0, 0, 1, 0]       6  1.679246\n",
      "10054    35282  c050101     [1, 0, 0, 1, 1]       5  2.474860\n",
      "10098    35284  c050101        [1, 1, 0, 1]       4  2.472953\n",
      "...        ...      ...                 ...     ...       ...\n",
      "72819    50972  c050101  [0, 1, 0, 0, 1, 0]       6  1.679246\n",
      "72955    51022  c050101        [1, 0, 1, 0]       4  1.665993\n",
      "73615    51121  c050101     [1, 1, 1, 1, 0]       5  3.278875\n",
      "73659    51122  c050101  [0, 0, 0, 0, 0, 0]       6  0.051786\n",
      "74101    51179  c050101     [1, 0, 0, 0, 0]       5  0.861600\n",
      "74232    51203  c050101     [1, 0, 0, 1, 1]       5  2.474860\n",
      "74436    51247  c050101     [0, 0, 1, 1, 1]       5  2.460193\n",
      "74781    51297  c050101           [1, 1, 1]       3  2.463858\n",
      "75289    51951  c050101        [1, 1, 0, 1]       4  2.472953\n",
      "75461    51972  c050101     [0, 0, 1, 1, 1]       5  2.460193\n",
      "76113    52073  c050101           [0, 0, 1]       3  0.839986\n",
      "76301    52132  c050101        [0, 1, 1, 1]       4  2.461127\n",
      "76369    52154  c050101        [0, 1, 1, 0]       4  1.662375\n",
      "76634    52254  c050101  [0, 0, 0, 0, 0, 0]       6  0.051786\n",
      "77423    53406  c050101           [1, 1, 1]       3  2.463858\n",
      "77648    53594  c050101           [0, 0, 0]       3  0.025310\n",
      "78603    55003  c050101        [0, 0, 1, 0]       4  0.849279\n",
      "78991    55155  c050101     [1, 0, 1, 0, 0]       5  1.675699\n",
      "79451    55319  c050101        [1, 1, 0, 0]       4  1.667742\n",
      "80010    56193  c050101           [1, 1, 1]       3  2.463858\n",
      "80363    56578  c050101        [1, 0, 1, 1]       4  2.469092\n",
      "80428    56599  c050101  [1, 0, 1, 0, 0, 1]       6  2.488265\n",
      "80795    56884  c050101     [0, 0, 1, 0, 0]       5  0.858627\n",
      "80815    56886  c050101     [1, 0, 0, 1, 1]       5  2.474860\n",
      "80830    56887  c050101        [1, 1, 0, 1]       4  2.472953\n",
      "80848    56888  c050101     [0, 1, 0, 1, 1]       5  2.467813\n",
      "80864    56889  c050101  [1, 1, 0, 0, 0, 0]       6  1.686812\n",
      "81442    57662  c050101     [0, 1, 0, 0, 0]       5  0.860196\n",
      "81572    57837  c050101        [1, 0, 1, 1]       4  2.469092\n",
      "81612    57860  c050101     [1, 0, 0, 0, 1]       5  1.672013\n",
      "\n"
     ]
    },
    {
     "name": "stdout",
     "output_type": "stream",
     "text": [
      "[197 rows x 5 columns]\n",
      "       user_id tag_code            is_right  length       ssr\n",
      "0        29110  c050101     [0, 0, 1, 0, 1]       5  1.671727\n",
      "561      29845  c050101        [1, 0, 1, 1]       4  2.480695\n",
      "699      29861  c050101        [1, 1, 0, 1]       4  2.482580\n",
      "1179     30411  c050101     [1, 0, 0, 0, 1]       5  1.675202\n",
      "1277     30525  c050101           [0, 0, 0]       3  0.024921\n",
      "3352     32576  c050101  [1, 1, 1, 1, 1, 0]       6  4.114502\n",
      "3556     32991  c050101     [0, 0, 1, 0, 1]       5  1.671727\n",
      "3604     33031  c050101        [1, 0, 1, 1]       4  2.480695\n",
      "4215     34006  c050101        [1, 0, 1, 0]       4  1.668562\n",
      "4265     34062  c050101           [1, 1, 0]       3  1.660909\n",
      "5217     34719  c050101     [0, 1, 1, 1, 1]       5  3.291539\n",
      "6455     34912  c050101        [0, 1, 1, 0]       4  1.666743\n",
      "6534     34916  c050101     [0, 1, 1, 0, 1]       5  2.486018\n",
      "6739     34920  c050101     [1, 0, 1, 1, 1]       5  3.296431\n",
      "6925     34924  c050101  [0, 1, 1, 1, 1, 1]       6  4.097149\n",
      "7099     34930  c050101     [0, 1, 1, 1, 1]       5  3.291539\n",
      "7188     34932  c050101  [1, 0, 1, 0, 1, 0]       6  2.498407\n",
      "7557     34951  c050101  [0, 1, 1, 1, 1, 0]       6  3.302033\n",
      "8268     35107  c050101     [1, 0, 1, 0, 1]       5  2.488939\n",
      "8515     35126  c050101        [1, 1, 0, 1]       4  2.482580\n",
      "8759     35163  c050101           [1, 1, 1]       3  2.474574\n",
      "9294     35211  c050101           [1, 1, 1]       3  2.474574\n",
      "9326     35214  c050101     [1, 0, 0, 0, 1]       5  1.675202\n",
      "9450     35261  c050101     [1, 1, 0, 1, 0]       5  2.491838\n",
      "9477     35266  c050101  [0, 1, 1, 0, 1, 0]       6  2.495663\n",
      "9532     35267  c050101     [1, 0, 0, 1, 1]       5  2.487081\n",
      "9723     35269  c050101  [0, 1, 1, 1, 1, 1]       6  4.097149\n",
      "9799     35270  c050101  [0, 1, 0, 0, 1, 0]       6  1.682696\n",
      "10054    35282  c050101     [1, 0, 0, 1, 1]       5  2.487081\n",
      "10098    35284  c050101        [1, 1, 0, 1]       4  2.482580\n",
      "...        ...      ...                 ...     ...       ...\n",
      "72819    50972  c050101  [0, 1, 0, 0, 1, 0]       6  1.682696\n",
      "72955    51022  c050101        [1, 0, 1, 0]       4  1.668562\n",
      "73615    51121  c050101     [1, 1, 1, 1, 0]       5  3.302300\n",
      "73659    51122  c050101  [0, 0, 0, 0, 0, 0]       6  0.050634\n",
      "74101    51179  c050101     [1, 0, 0, 0, 0]       5  0.861068\n",
      "74232    51203  c050101     [1, 0, 0, 1, 1]       5  2.487081\n",
      "74436    51247  c050101     [0, 0, 1, 1, 1]       5  2.481148\n",
      "74781    51297  c050101           [1, 1, 1]       3  2.474574\n",
      "75289    51951  c050101        [1, 1, 0, 1]       4  2.482580\n",
      "75461    51972  c050101     [0, 0, 1, 1, 1]       5  2.481148\n",
      "76113    52073  c050101           [0, 0, 1]       3  0.841582\n",
      "76301    52132  c050101        [0, 1, 1, 1]       4  2.477572\n",
      "76369    52154  c050101        [0, 1, 1, 0]       4  1.666743\n",
      "76634    52254  c050101  [0, 0, 0, 0, 0, 0]       6  0.050634\n",
      "77423    53406  c050101           [1, 1, 1]       3  2.474574\n",
      "77648    53594  c050101           [0, 0, 0]       3  0.024921\n",
      "78603    55003  c050101        [0, 0, 1, 0]       4  0.850288\n",
      "78991    55155  c050101     [1, 0, 1, 0, 0]       5  1.677446\n",
      "79451    55319  c050101        [1, 1, 0, 0]       4  1.669659\n",
      "80010    56193  c050101           [1, 1, 1]       3  2.474574\n",
      "80363    56578  c050101        [1, 0, 1, 1]       4  2.480695\n",
      "80428    56599  c050101  [1, 0, 1, 0, 0, 1]       6  2.497283\n",
      "80795    56884  c050101     [0, 0, 1, 0, 0]       5  0.859061\n",
      "80815    56886  c050101     [1, 0, 0, 1, 1]       5  2.487081\n",
      "80830    56887  c050101        [1, 1, 0, 1]       4  2.482580\n",
      "80848    56888  c050101     [0, 1, 0, 1, 1]       5  2.484183\n",
      "80864    56889  c050101  [1, 1, 0, 0, 0, 0]       6  1.687349\n",
      "81442    57662  c050101     [0, 1, 0, 0, 0]       5  0.860094\n",
      "81572    57837  c050101        [1, 0, 1, 1]       4  2.480695\n",
      "81612    57860  c050101     [1, 0, 0, 0, 1]       5  1.675202\n",
      "\n",
      "[197 rows x 5 columns]\n",
      "       user_id tag_code            is_right  length       ssr\n",
      "0        29110  c050101     [0, 0, 1, 0, 1]       5  1.677763\n",
      "561      29845  c050101        [1, 0, 1, 1]       4  2.489238\n",
      "699      29861  c050101        [1, 1, 0, 1]       4  2.489712\n",
      "1179     30411  c050101     [1, 0, 0, 0, 1]       5  1.678687\n",
      "1277     30525  c050101           [0, 0, 0]       3  0.024512\n",
      "3352     32576  c050101  [1, 1, 1, 1, 1, 0]       6  4.141792\n",
      "3556     32991  c050101     [0, 0, 1, 0, 1]       5  1.677763\n",
      "3604     33031  c050101        [1, 0, 1, 1]       4  2.489238\n",
      "4215     34006  c050101        [1, 0, 1, 0]       4  1.671146\n",
      "4265     34062  c050101           [1, 1, 0]       3  1.663265\n",
      "5217     34719  c050101     [0, 1, 1, 1, 1]       5  3.314195\n",
      "6455     34912  c050101        [0, 1, 1, 0]       4  1.670676\n",
      "6534     34916  c050101     [0, 1, 1, 0, 1]       5  2.496632\n",
      "6739     34920  c050101     [1, 0, 1, 1, 1]       5  3.314897\n",
      "6925     34924  c050101  [0, 1, 1, 1, 1, 1]       6  4.138881\n",
      "7099     34930  c050101     [0, 1, 1, 1, 1]       5  3.314195\n",
      "7188     34932  c050101  [1, 0, 1, 0, 1, 0]       6  2.505581\n",
      "7557     34951  c050101  [0, 1, 1, 1, 1, 0]       6  3.322636\n",
      "8268     35107  c050101     [1, 0, 1, 0, 1]       5  2.497200\n",
      "8515     35126  c050101        [1, 1, 0, 1]       4  2.489712\n",
      "8759     35163  c050101           [1, 1, 1]       3  2.481802\n",
      "9294     35211  c050101           [1, 1, 1]       3  2.481802\n",
      "9326     35214  c050101     [1, 0, 0, 0, 1]       5  1.678687\n",
      "9450     35261  c050101     [1, 1, 0, 1, 0]       5  2.498045\n",
      "9477     35266  c050101  [0, 1, 1, 0, 1, 0]       6  2.505024\n",
      "9532     35267  c050101     [1, 0, 0, 1, 1]       5  2.496732\n",
      "9723     35269  c050101  [0, 1, 1, 1, 1, 1]       6  4.138881\n",
      "9799     35270  c050101  [0, 1, 0, 0, 1, 0]       6  1.686587\n",
      "10054    35282  c050101     [1, 0, 0, 1, 1]       5  2.496732\n",
      "10098    35284  c050101        [1, 1, 0, 1]       4  2.489712\n",
      "...        ...      ...                 ...     ...       ...\n",
      "72819    50972  c050101  [0, 1, 0, 0, 1, 0]       6  1.686587\n",
      "72955    51022  c050101        [1, 0, 1, 0]       4  1.671146\n",
      "73615    51121  c050101     [1, 1, 1, 1, 0]       5  3.316311\n",
      "73659    51122  c050101  [0, 0, 0, 0, 0, 0]       6  0.049321\n",
      "74101    51179  c050101     [1, 0, 0, 0, 0]       5  0.860653\n",
      "74232    51203  c050101     [1, 0, 0, 1, 1]       5  2.496732\n",
      "74436    51247  c050101     [0, 0, 1, 1, 1]       5  2.495592\n",
      "74781    51297  c050101           [1, 1, 1]       3  2.481802\n",
      "75289    51951  c050101        [1, 1, 0, 1]       4  2.489712\n",
      "75461    51972  c050101     [0, 0, 1, 1, 1]       5  2.495592\n",
      "76113    52073  c050101           [0, 0, 1]       3  0.843349\n",
      "76301    52132  c050101        [0, 1, 1, 1]       4  2.488656\n",
      "76369    52154  c050101        [0, 1, 1, 0]       4  1.670676\n",
      "76634    52254  c050101  [0, 0, 0, 0, 0, 0]       6  0.049321\n",
      "77423    53406  c050101           [1, 1, 1]       3  2.481802\n",
      "77648    53594  c050101           [0, 0, 0]       3  0.024512\n",
      "78603    55003  c050101        [0, 0, 1, 0]       4  0.851612\n",
      "78991    55155  c050101     [1, 0, 1, 0, 0]       5  1.679450\n",
      "79451    55319  c050101        [1, 1, 0, 0]       4  1.671529\n",
      "80010    56193  c050101           [1, 1, 1]       3  2.481802\n",
      "80363    56578  c050101        [1, 0, 1, 1]       4  2.489238\n",
      "80428    56599  c050101  [1, 0, 1, 0, 0, 1]       6  2.505203\n",
      "80795    56884  c050101     [0, 0, 1, 0, 0]       5  0.859906\n",
      "80815    56886  c050101     [1, 0, 0, 1, 1]       5  2.496732\n",
      "80830    56887  c050101        [1, 1, 0, 1]       4  2.489712\n",
      "80848    56888  c050101     [0, 1, 0, 1, 1]       5  2.496165\n",
      "80864    56889  c050101  [1, 1, 0, 0, 0, 0]       6  1.688151\n",
      "81442    57662  c050101     [0, 1, 0, 0, 0]       5  0.860282\n",
      "81572    57837  c050101        [1, 0, 1, 1]       4  2.489238\n",
      "81612    57860  c050101     [1, 0, 0, 0, 1]       5  1.678687\n",
      "\n",
      "[197 rows x 5 columns]\n",
      "       user_id tag_code            is_right  length       ssr\n",
      "0        29110  c050101     [0, 0, 1, 0, 1]       5  1.682975\n",
      "561      29845  c050101        [1, 0, 1, 1]       4  2.494869\n",
      "699      29861  c050101        [1, 1, 0, 1]       4  2.494561\n",
      "1179     30411  c050101     [1, 0, 0, 0, 1]       5  1.682335\n",
      "1277     30525  c050101           [0, 0, 0]       3  0.024083\n",
      "3352     32576  c050101  [1, 1, 1, 1, 1, 0]       6  4.152543\n",
      "3556     32991  c050101     [0, 0, 1, 0, 1]       5  1.682975\n",
      "3604     33031  c050101        [1, 0, 1, 1]       4  2.494869\n",
      "4215     34006  c050101        [1, 0, 1, 0]       4  1.673603\n",
      "4265     34062  c050101           [1, 1, 0]       3  1.665224\n",
      "5217     34719  c050101     [0, 1, 1, 1, 1]       5  3.324417\n",
      "6455     34912  c050101        [0, 1, 1, 0]       4  1.673920\n",
      "6534     34916  c050101     [0, 1, 1, 0, 1]       5  2.503481\n",
      "6739     34920  c050101     [1, 0, 1, 1, 1]       5  3.324226\n",
      "6925     34924  c050101  [0, 1, 1, 1, 1, 1]       6  4.153816\n",
      "7099     34930  c050101     [0, 1, 1, 1, 1]       5  3.324417\n",
      "7188     34932  c050101  [1, 0, 1, 0, 1, 0]       6  2.511180\n",
      "7557     34951  c050101  [0, 1, 1, 1, 1, 0]       6  3.332389\n",
      "8268     35107  c050101     [1, 0, 1, 0, 1]       5  2.503232\n",
      "8515     35126  c050101        [1, 1, 0, 1]       4  2.494561\n",
      "8759     35163  c050101           [1, 1, 1]       3  2.486172\n",
      "9294     35211  c050101           [1, 1, 1]       3  2.486172\n",
      "9326     35214  c050101     [1, 0, 0, 0, 1]       5  1.682335\n",
      "9450     35261  c050101     [1, 1, 0, 1, 0]       5  2.502530\n",
      "9477     35266  c050101  [0, 1, 1, 0, 1, 0]       6  2.511434\n",
      "9532     35267  c050101     [1, 0, 0, 1, 1]       5  2.503538\n",
      "9723     35269  c050101  [0, 1, 1, 1, 1, 1]       6  4.153816\n",
      "9799     35270  c050101  [0, 1, 0, 0, 1, 0]       6  1.690595\n",
      "10054    35282  c050101     [1, 0, 0, 1, 1]       5  2.503538\n",
      "10098    35284  c050101        [1, 1, 0, 1]       4  2.494561\n",
      "...        ...      ...                 ...     ...       ...\n",
      "72819    50972  c050101  [0, 1, 0, 0, 1, 0]       6  1.690595\n",
      "72955    51022  c050101        [1, 0, 1, 0]       4  1.673603\n",
      "73615    51121  c050101     [1, 1, 1, 1, 0]       5  3.323289\n",
      "73659    51122  c050101  [0, 0, 0, 0, 0, 0]       6  0.047834\n",
      "74101    51179  c050101     [1, 0, 0, 0, 0]       5  0.860389\n",
      "74232    51203  c050101     [1, 0, 0, 1, 1]       5  2.503538\n",
      "74436    51247  c050101     [0, 0, 1, 1, 1]       5  2.504028\n",
      "74781    51297  c050101           [1, 1, 1]       3  2.486172\n",
      "75289    51951  c050101        [1, 1, 0, 1]       4  2.494561\n",
      "75461    51972  c050101     [0, 0, 1, 1, 1]       5  2.504028\n",
      "76113    52073  c050101           [0, 0, 1]       3  0.845297\n",
      "76301    52132  c050101        [0, 1, 1, 1]       4  2.495112\n",
      "76369    52154  c050101        [0, 1, 1, 0]       4  1.673920\n",
      "76634    52254  c050101  [0, 0, 0, 0, 0, 0]       6  0.047834\n",
      "77423    53406  c050101           [1, 1, 1]       3  2.486172\n",
      "77648    53594  c050101           [0, 0, 0]       3  0.024083\n",
      "78603    55003  c050101        [0, 0, 1, 0]       4  0.853276\n",
      "78991    55155  c050101     [1, 0, 1, 0, 0]       5  1.681553\n",
      "79451    55319  c050101        [1, 1, 0, 0]       4  1.673202\n",
      "80010    56193  c050101           [1, 1, 1]       3  2.486172\n",
      "80363    56578  c050101        [1, 0, 1, 1]       4  2.494869\n",
      "80428    56599  c050101  [1, 0, 1, 0, 0, 1]       6  2.511563\n",
      "80795    56884  c050101     [0, 0, 1, 0, 0]       5  0.861219\n",
      "80815    56886  c050101     [1, 0, 0, 1, 1]       5  2.503538\n",
      "80830    56887  c050101        [1, 1, 0, 1]       4  2.494561\n",
      "80848    56888  c050101     [0, 1, 0, 1, 1]       5  2.503787\n",
      "80864    56889  c050101  [1, 1, 0, 0, 0, 0]       6  1.689047\n",
      "81442    57662  c050101     [0, 1, 0, 0, 0]       5  0.860811\n",
      "81572    57837  c050101        [1, 0, 1, 1]       4  2.494869\n",
      "81612    57860  c050101     [1, 0, 0, 0, 1]       5  1.682335\n",
      "\n"
     ]
    },
    {
     "name": "stdout",
     "output_type": "stream",
     "text": [
      "[197 rows x 5 columns]\n",
      "       user_id tag_code            is_right  length       ssr\n",
      "0        29110  c050101     [0, 0, 1, 0, 1]       5  1.686885\n",
      "561      29845  c050101        [1, 0, 1, 1]       4  2.497951\n",
      "699      29861  c050101        [1, 1, 0, 1]       4  2.497549\n",
      "1179     30411  c050101     [1, 0, 0, 0, 1]       5  1.685977\n",
      "1277     30525  c050101           [0, 0, 0]       3  0.023634\n",
      "3352     32576  c050101  [1, 1, 1, 1, 1, 0]       6  4.155814\n",
      "3556     32991  c050101     [0, 0, 1, 0, 1]       5  1.686885\n",
      "3604     33031  c050101        [1, 0, 1, 1]       4  2.497951\n",
      "4215     34006  c050101        [1, 0, 1, 0]       4  1.675783\n",
      "4265     34062  c050101           [1, 1, 0]       3  1.666693\n",
      "5217     34719  c050101     [0, 1, 1, 1, 1]       5  3.327851\n",
      "6455     34912  c050101        [0, 1, 1, 0]       4  1.676213\n",
      "6534     34916  c050101     [0, 1, 1, 0, 1]       5  2.507207\n",
      "6739     34920  c050101     [1, 0, 1, 1, 1]       5  3.327803\n",
      "6925     34924  c050101  [0, 1, 1, 1, 1, 1]       6  4.157598\n",
      "7099     34930  c050101     [0, 1, 1, 1, 1]       5  3.327851\n",
      "7188     34932  c050101  [1, 0, 1, 0, 1, 0]       6  2.514945\n",
      "7557     34951  c050101  [0, 1, 1, 1, 1, 0]       6  3.335789\n",
      "8268     35107  c050101     [1, 0, 1, 0, 1]       5  2.507057\n",
      "8515     35126  c050101        [1, 1, 0, 1]       4  2.497549\n",
      "8759     35163  c050101           [1, 1, 1]       3  2.488425\n",
      "9294     35211  c050101           [1, 1, 1]       3  2.488425\n",
      "9326     35214  c050101     [1, 0, 0, 0, 1]       5  1.685977\n",
      "9450     35261  c050101     [1, 1, 0, 1, 0]       5  2.505451\n",
      "9477     35266  c050101  [0, 1, 1, 0, 1, 0]       6  2.515104\n",
      "9532     35267  c050101     [1, 0, 0, 1, 1]       5  2.507452\n",
      "9723     35269  c050101  [0, 1, 1, 1, 1, 1]       6  4.157598\n",
      "9799     35270  c050101  [0, 1, 0, 0, 1, 0]       6  1.694303\n",
      "10054    35282  c050101     [1, 0, 0, 1, 1]       5  2.507452\n",
      "10098    35284  c050101        [1, 1, 0, 1]       4  2.497549\n",
      "...        ...      ...                 ...     ...       ...\n",
      "72819    50972  c050101  [0, 1, 0, 0, 1, 0]       6  1.694303\n",
      "72955    51022  c050101        [1, 0, 1, 0]       4  1.675783\n",
      "73615    51121  c050101     [1, 1, 1, 1, 0]       5  3.326082\n",
      "73659    51122  c050101  [0, 0, 0, 0, 0, 0]       6  0.046161\n",
      "74101    51179  c050101     [1, 0, 0, 0, 0]       5  0.860313\n",
      "74232    51203  c050101     [1, 0, 0, 1, 1]       5  2.507452\n",
      "74436    51247  c050101     [0, 0, 1, 1, 1]       5  2.507739\n",
      "74781    51297  c050101           [1, 1, 1]       3  2.488425\n",
      "75289    51951  c050101        [1, 1, 0, 1]       4  2.497549\n",
      "75461    51972  c050101     [0, 0, 1, 1, 1]       5  2.507739\n",
      "76113    52073  c050101           [0, 0, 1]       3  0.847432\n",
      "76301    52132  c050101        [0, 1, 1, 1]       4  2.498089\n",
      "76369    52154  c050101        [0, 1, 1, 0]       4  1.676213\n",
      "76634    52254  c050101  [0, 0, 0, 0, 0, 0]       6  0.046161\n",
      "77423    53406  c050101           [1, 1, 1]       3  2.488425\n",
      "77648    53594  c050101           [0, 0, 0]       3  0.023634\n",
      "78603    55003  c050101        [0, 0, 1, 0]       4  0.855310\n",
      "78991    55155  c050101     [1, 0, 1, 0, 0]       5  1.683573\n",
      "79451    55319  c050101        [1, 1, 0, 0]       4  1.674523\n",
      "80010    56193  c050101           [1, 1, 1]       3  2.488425\n",
      "80363    56578  c050101        [1, 0, 1, 1]       4  2.497951\n",
      "80428    56599  c050101  [1, 0, 1, 0, 0, 1]       6  2.516111\n",
      "80795    56884  c050101     [0, 0, 1, 0, 0]       5  0.863071\n",
      "80815    56886  c050101     [1, 0, 0, 1, 1]       5  2.507452\n",
      "80830    56887  c050101        [1, 1, 0, 1]       4  2.497549\n",
      "80848    56888  c050101     [0, 1, 0, 1, 1]       5  2.507607\n",
      "80864    56889  c050101  [1, 1, 0, 0, 0, 0]       6  1.689817\n",
      "81442    57662  c050101     [0, 1, 0, 0, 0]       5  0.861740\n",
      "81572    57837  c050101        [1, 0, 1, 1]       4  2.497951\n",
      "81612    57860  c050101     [1, 0, 0, 0, 1]       5  1.685977\n",
      "\n",
      "[197 rows x 5 columns]\n",
      "       user_id tag_code            is_right  length       ssr\n",
      "0        29110  c050101     [0, 0, 1, 0, 1]       5  1.560832\n",
      "561      29845  c050101        [1, 0, 1, 1]       4  2.154218\n",
      "699      29861  c050101        [1, 1, 0, 1]       4  2.343708\n",
      "1179     30411  c050101     [1, 0, 0, 0, 1]       5  1.562302\n",
      "1277     30525  c050101           [0, 0, 0]       3  0.057685\n",
      "3352     32576  c050101  [1, 1, 1, 1, 1, 0]       6  2.650784\n",
      "3556     32991  c050101     [0, 0, 1, 0, 1]       5  1.560832\n",
      "3604     33031  c050101        [1, 0, 1, 1]       4  2.154218\n",
      "4215     34006  c050101        [1, 0, 1, 0]       4  1.564363\n",
      "4265     34062  c050101           [1, 1, 0]       3  1.613121\n",
      "5217     34719  c050101     [0, 1, 1, 1, 1]       5  1.690647\n",
      "6455     34912  c050101        [0, 1, 1, 0]       4  1.633124\n",
      "6534     34916  c050101     [0, 1, 1, 0, 1]       5  2.363597\n",
      "6739     34920  c050101     [1, 0, 1, 1, 1]       5  2.406831\n",
      "6925     34924  c050101  [0, 1, 1, 1, 1, 1]       6  1.691574\n",
      "7099     34930  c050101     [0, 1, 1, 1, 1]       5  1.690647\n",
      "7188     34932  c050101  [1, 0, 1, 0, 1, 0]       6  2.347023\n",
      "7557     34951  c050101  [0, 1, 1, 1, 1, 0]       6  2.630680\n",
      "8268     35107  c050101     [1, 0, 1, 0, 1]       5  2.304763\n",
      "8515     35126  c050101        [1, 1, 0, 1]       4  2.343708\n",
      "8759     35163  c050101           [1, 1, 1]       3  1.653593\n",
      "9294     35211  c050101           [1, 1, 1]       3  1.653593\n",
      "9326     35214  c050101     [1, 0, 0, 0, 1]       5  1.562302\n",
      "9450     35261  c050101     [1, 1, 0, 1, 0]       5  2.402049\n",
      "9477     35266  c050101  [0, 1, 1, 0, 1, 0]       6  2.422133\n",
      "9532     35267  c050101     [1, 0, 0, 1, 1]       5  2.182830\n",
      "9723     35269  c050101  [0, 1, 1, 1, 1, 1]       6  1.691574\n",
      "9799     35270  c050101  [0, 1, 0, 0, 1, 0]       6  1.602405\n",
      "10054    35282  c050101     [1, 0, 0, 1, 1]       5  2.182830\n",
      "10098    35284  c050101        [1, 1, 0, 1]       4  2.343708\n",
      "...        ...      ...                 ...     ...       ...\n",
      "72819    50972  c050101  [0, 1, 0, 0, 1, 0]       6  1.602405\n",
      "72955    51022  c050101        [1, 0, 1, 0]       4  1.564363\n",
      "73615    51121  c050101     [1, 1, 1, 1, 0]       5  2.614808\n",
      "73659    51122  c050101  [0, 0, 0, 0, 0, 0]       6  0.115398\n",
      "74101    51179  c050101     [1, 0, 0, 0, 0]       5  0.839703\n",
      "74232    51203  c050101     [1, 0, 0, 1, 1]       5  2.182830\n",
      "74436    51247  c050101     [0, 0, 1, 1, 1]       5  1.688610\n",
      "74781    51297  c050101           [1, 1, 1]       3  1.653593\n",
      "75289    51951  c050101        [1, 1, 0, 1]       4  2.343708\n",
      "75461    51972  c050101     [0, 0, 1, 1, 1]       5  1.688610\n",
      "76113    52073  c050101           [0, 0, 1]       3  0.780285\n",
      "76301    52132  c050101        [0, 1, 1, 1]       4  1.669412\n",
      "76369    52154  c050101        [0, 1, 1, 0]       4  1.633124\n",
      "76634    52254  c050101  [0, 0, 0, 0, 0, 0]       6  0.115398\n",
      "77423    53406  c050101           [1, 1, 1]       3  1.653593\n",
      "77648    53594  c050101           [0, 0, 0]       3  0.057685\n",
      "78603    55003  c050101        [0, 0, 1, 0]       4  0.820316\n",
      "78991    55155  c050101     [1, 0, 1, 0, 0]       5  1.583833\n",
      "79451    55319  c050101        [1, 1, 0, 0]       4  1.634220\n",
      "80010    56193  c050101           [1, 1, 1]       3  1.653593\n",
      "80363    56578  c050101        [1, 0, 1, 1]       4  2.154218\n",
      "80428    56599  c050101  [1, 0, 1, 0, 0, 1]       6  2.325654\n",
      "80795    56884  c050101     [0, 0, 1, 0, 0]       5  0.839767\n",
      "80815    56886  c050101     [1, 0, 0, 1, 1]       5  2.182830\n",
      "80830    56887  c050101        [1, 1, 0, 1]       4  2.343708\n",
      "80848    56888  c050101     [0, 1, 0, 1, 1]       5  2.173412\n",
      "80864    56889  c050101  [1, 1, 0, 0, 0, 0]       6  1.672717\n",
      "81442    57662  c050101     [0, 1, 0, 0, 0]       5  0.839769\n",
      "81572    57837  c050101        [1, 0, 1, 1]       4  2.154218\n",
      "81612    57860  c050101     [1, 0, 0, 0, 1]       5  1.562302\n",
      "\n",
      "[197 rows x 5 columns]\n",
      "       user_id tag_code            is_right  length       ssr\n",
      "0        29110  c050101     [0, 0, 1, 0, 1]       5  1.554627\n",
      "561      29845  c050101        [1, 0, 1, 1]       4  2.127064\n",
      "699      29861  c050101        [1, 1, 0, 1]       4  2.287712\n",
      "1179     30411  c050101     [1, 0, 0, 0, 1]       5  1.561649\n",
      "1277     30525  c050101           [0, 0, 0]       3  0.057566\n",
      "3352     32576  c050101  [1, 1, 1, 1, 1, 0]       6  2.635882\n",
      "3556     32991  c050101     [0, 0, 1, 0, 1]       5  1.554627\n",
      "3604     33031  c050101        [1, 0, 1, 1]       4  2.127064\n",
      "4215     34006  c050101        [1, 0, 1, 0]       4  1.564006\n",
      "4265     34062  c050101           [1, 1, 0]       3  1.593464\n",
      "5217     34719  c050101     [0, 1, 1, 1, 1]       5  1.734864\n",
      "6455     34912  c050101        [0, 1, 1, 0]       4  1.615631\n",
      "6534     34916  c050101     [0, 1, 1, 0, 1]       5  2.307573\n",
      "6739     34920  c050101     [1, 0, 1, 1, 1]       5  2.358366\n",
      "6925     34924  c050101  [0, 1, 1, 1, 1, 1]       6  1.740035\n",
      "7099     34930  c050101     [0, 1, 1, 1, 1]       5  1.734864\n",
      "7188     34932  c050101  [1, 0, 1, 0, 1, 0]       6  2.349280\n",
      "7557     34951  c050101  [0, 1, 1, 1, 1, 0]       6  2.596216\n",
      "8268     35107  c050101     [1, 0, 1, 0, 1]       5  2.297078\n",
      "8515     35126  c050101        [1, 1, 0, 1]       4  2.287712\n",
      "8759     35163  c050101           [1, 1, 1]       3  1.696502\n",
      "9294     35211  c050101           [1, 1, 1]       3  1.696502\n",
      "9326     35214  c050101     [1, 0, 0, 0, 1]       5  1.561649\n",
      "9450     35261  c050101     [1, 1, 0, 1, 0]       5  2.407171\n",
      "9477     35266  c050101  [0, 1, 1, 0, 1, 0]       6  2.431242\n",
      "9532     35267  c050101     [1, 0, 0, 1, 1]       5  2.184494\n",
      "9723     35269  c050101  [0, 1, 1, 1, 1, 1]       6  1.740035\n",
      "9799     35270  c050101  [0, 1, 0, 0, 1, 0]       6  1.600947\n",
      "10054    35282  c050101     [1, 0, 0, 1, 1]       5  2.184494\n",
      "10098    35284  c050101        [1, 1, 0, 1]       4  2.287712\n",
      "...        ...      ...                 ...     ...       ...\n",
      "72819    50972  c050101  [0, 1, 0, 0, 1, 0]       6  1.600947\n",
      "72955    51022  c050101        [1, 0, 1, 0]       4  1.564006\n",
      "73615    51121  c050101     [1, 1, 1, 1, 0]       5  2.593476\n",
      "73659    51122  c050101  [0, 0, 0, 0, 0, 0]       6  0.115279\n",
      "74101    51179  c050101     [1, 0, 0, 0, 0]       5  0.839072\n",
      "74232    51203  c050101     [1, 0, 0, 1, 1]       5  2.184494\n",
      "74436    51247  c050101     [0, 0, 1, 1, 1]       5  1.717756\n",
      "74781    51297  c050101           [1, 1, 1]       3  1.696502\n",
      "75289    51951  c050101        [1, 1, 0, 1]       4  2.287712\n",
      "75461    51972  c050101     [0, 0, 1, 1, 1]       5  1.717756\n",
      "76113    52073  c050101           [0, 0, 1]       3  0.780169\n",
      "76301    52132  c050101        [0, 1, 1, 1]       4  1.699445\n",
      "76369    52154  c050101        [0, 1, 1, 0]       4  1.615631\n",
      "76634    52254  c050101  [0, 0, 0, 0, 0, 0]       6  0.115279\n",
      "77423    53406  c050101           [1, 1, 1]       3  1.696502\n",
      "77648    53594  c050101           [0, 0, 0]       3  0.057566\n",
      "78603    55003  c050101        [0, 0, 1, 0]       4  0.819050\n",
      "78991    55155  c050101     [1, 0, 1, 0, 0]       5  1.584685\n",
      "79451    55319  c050101        [1, 1, 0, 0]       4  1.621281\n",
      "80010    56193  c050101           [1, 1, 1]       3  1.696502\n",
      "80363    56578  c050101        [1, 0, 1, 1]       4  2.127064\n",
      "80428    56599  c050101  [1, 0, 1, 0, 0, 1]       6  2.326010\n",
      "80795    56884  c050101     [0, 0, 1, 0, 0]       5  0.839312\n",
      "80815    56886  c050101     [1, 0, 0, 1, 1]       5  2.184494\n",
      "80830    56887  c050101        [1, 1, 0, 1]       4  2.287712\n",
      "80848    56888  c050101     [0, 1, 0, 1, 1]       5  2.144296\n",
      "80864    56889  c050101  [1, 1, 0, 0, 0, 0]       6  1.660254\n",
      "81442    57662  c050101     [0, 1, 0, 0, 0]       5  0.839354\n",
      "81572    57837  c050101        [1, 0, 1, 1]       4  2.127064\n",
      "81612    57860  c050101     [1, 0, 0, 0, 1]       5  1.561649\n",
      "\n"
     ]
    },
    {
     "name": "stdout",
     "output_type": "stream",
     "text": [
      "[197 rows x 5 columns]\n",
      "       user_id tag_code            is_right  length       ssr\n",
      "0        29110  c050101     [0, 0, 1, 0, 1]       5  1.548976\n",
      "561      29845  c050101        [1, 0, 1, 1]       4  2.109102\n",
      "699      29861  c050101        [1, 1, 0, 1]       4  2.245636\n",
      "1179     30411  c050101     [1, 0, 0, 0, 1]       5  1.560975\n",
      "1277     30525  c050101           [0, 0, 0]       3  0.057435\n",
      "3352     32576  c050101  [1, 1, 1, 1, 1, 0]       6  2.632644\n",
      "3556     32991  c050101     [0, 0, 1, 0, 1]       5  1.548976\n",
      "3604     33031  c050101        [1, 0, 1, 1]       4  2.109102\n",
      "4215     34006  c050101        [1, 0, 1, 0]       4  1.562784\n",
      "4265     34062  c050101           [1, 1, 0]       3  1.576467\n",
      "5217     34719  c050101     [0, 1, 1, 1, 1]       5  1.784576\n",
      "6455     34912  c050101        [0, 1, 1, 0]       4  1.599565\n",
      "6534     34916  c050101     [0, 1, 1, 0, 1]       5  2.262648\n",
      "6739     34920  c050101     [1, 0, 1, 1, 1]       5  2.337200\n",
      "6925     34924  c050101  [0, 1, 1, 1, 1, 1]       6  1.797482\n",
      "7099     34930  c050101     [0, 1, 1, 1, 1]       5  1.784576\n",
      "7188     34932  c050101  [1, 0, 1, 0, 1, 0]       6  2.350793\n",
      "7557     34951  c050101  [0, 1, 1, 1, 1, 0]       6  2.570270\n",
      "8268     35107  c050101     [1, 0, 1, 0, 1]       5  2.287053\n",
      "8515     35126  c050101        [1, 1, 0, 1]       4  2.245636\n",
      "8759     35163  c050101           [1, 1, 1]       3  1.739751\n",
      "9294     35211  c050101           [1, 1, 1]       3  1.739751\n",
      "9326     35214  c050101     [1, 0, 0, 0, 1]       5  1.560975\n",
      "9450     35261  c050101     [1, 1, 0, 1, 0]       5  2.401743\n",
      "9477     35266  c050101  [0, 1, 1, 0, 1, 0]       6  2.429131\n",
      "9532     35267  c050101     [1, 0, 0, 1, 1]       5  2.184114\n",
      "9723     35269  c050101  [0, 1, 1, 1, 1, 1]       6  1.797482\n",
      "9799     35270  c050101  [0, 1, 0, 0, 1, 0]       6  1.599520\n",
      "10054    35282  c050101     [1, 0, 0, 1, 1]       5  2.184114\n",
      "10098    35284  c050101        [1, 1, 0, 1]       4  2.245636\n",
      "...        ...      ...                 ...     ...       ...\n",
      "72819    50972  c050101  [0, 1, 0, 0, 1, 0]       6  1.599520\n",
      "72955    51022  c050101        [1, 0, 1, 0]       4  1.562784\n",
      "73615    51121  c050101     [1, 1, 1, 1, 0]       5  2.580017\n",
      "73659    51122  c050101  [0, 0, 0, 0, 0, 0]       6  0.115148\n",
      "74101    51179  c050101     [1, 0, 0, 0, 0]       5  0.838497\n",
      "74232    51203  c050101     [1, 0, 0, 1, 1]       5  2.184114\n",
      "74436    51247  c050101     [0, 0, 1, 1, 1]       5  1.747634\n",
      "74781    51297  c050101           [1, 1, 1]       3  1.739751\n",
      "75289    51951  c050101        [1, 1, 0, 1]       4  2.245636\n",
      "75461    51972  c050101     [0, 0, 1, 1, 1]       5  1.747634\n",
      "76113    52073  c050101           [0, 0, 1]       3  0.780055\n",
      "76301    52132  c050101        [0, 1, 1, 1]       4  1.731196\n",
      "76369    52154  c050101        [0, 1, 1, 0]       4  1.599565\n",
      "76634    52254  c050101  [0, 0, 0, 0, 0, 0]       6  0.115148\n",
      "77423    53406  c050101           [1, 1, 1]       3  1.739751\n",
      "77648    53594  c050101           [0, 0, 0]       3  0.057435\n",
      "78603    55003  c050101        [0, 0, 1, 0]       4  0.817788\n",
      "78991    55155  c050101     [1, 0, 1, 0, 0]       5  1.584973\n",
      "79451    55319  c050101        [1, 1, 0, 0]       4  1.609581\n",
      "80010    56193  c050101           [1, 1, 1]       3  1.739751\n",
      "80363    56578  c050101        [1, 0, 1, 1]       4  2.109102\n",
      "80428    56599  c050101  [1, 0, 1, 0, 0, 1]       6  2.324943\n",
      "80795    56884  c050101     [0, 0, 1, 0, 0]       5  0.838785\n",
      "80815    56886  c050101     [1, 0, 0, 1, 1]       5  2.184114\n",
      "80830    56887  c050101        [1, 1, 0, 1]       4  2.245636\n",
      "80848    56888  c050101     [0, 1, 0, 1, 1]       5  2.122524\n",
      "80864    56889  c050101  [1, 1, 0, 0, 0, 0]       6  1.649539\n",
      "81442    57662  c050101     [0, 1, 0, 0, 0]       5  0.838919\n",
      "81572    57837  c050101        [1, 0, 1, 1]       4  2.109102\n",
      "81612    57860  c050101     [1, 0, 0, 0, 1]       5  1.560975\n",
      "\n",
      "[197 rows x 5 columns]\n",
      "       user_id tag_code            is_right  length       ssr\n",
      "0        29110  c050101     [0, 0, 1, 0, 1]       5  1.543886\n",
      "561      29845  c050101        [1, 0, 1, 1]       4  2.098484\n",
      "699      29861  c050101        [1, 1, 0, 1]       4  2.214677\n",
      "1179     30411  c050101     [1, 0, 0, 0, 1]       5  1.560233\n",
      "1277     30525  c050101           [0, 0, 0]       3  0.057292\n",
      "3352     32576  c050101  [1, 1, 1, 1, 1, 0]       6  2.640898\n",
      "3556     32991  c050101     [0, 0, 1, 0, 1]       5  1.543886\n",
      "3604     33031  c050101        [1, 0, 1, 1]       4  2.098484\n",
      "4215     34006  c050101        [1, 0, 1, 0]       4  1.560812\n",
      "4265     34062  c050101           [1, 1, 0]       3  1.561968\n",
      "5217     34719  c050101     [0, 1, 1, 1, 1]       5  1.839675\n",
      "6455     34912  c050101        [0, 1, 1, 0]       4  1.585014\n",
      "6534     34916  c050101     [0, 1, 1, 0, 1]       5  2.227314\n",
      "6739     34920  c050101     [1, 0, 1, 1, 1]       5  2.334359\n",
      "6925     34924  c050101  [0, 1, 1, 1, 1, 1]       6  1.863878\n",
      "7099     34930  c050101     [0, 1, 1, 1, 1]       5  1.839675\n",
      "7188     34932  c050101  [1, 0, 1, 0, 1, 0]       6  2.350603\n",
      "7557     34951  c050101  [0, 1, 1, 1, 1, 0]       6  2.552731\n",
      "8268     35107  c050101     [1, 0, 1, 0, 1]       5  2.275963\n",
      "8515     35126  c050101        [1, 1, 0, 1]       4  2.214677\n",
      "8759     35163  c050101           [1, 1, 1]       3  1.783030\n",
      "9294     35211  c050101           [1, 1, 1]       3  1.783030\n",
      "9326     35214  c050101     [1, 0, 0, 0, 1]       5  1.560233\n",
      "9450     35261  c050101     [1, 1, 0, 1, 0]       5  2.387583\n",
      "9477     35266  c050101  [0, 1, 1, 0, 1, 0]       6  2.416370\n",
      "9532     35267  c050101     [1, 0, 0, 1, 1]       5  2.182720\n",
      "9723     35269  c050101  [0, 1, 1, 1, 1, 1]       6  1.863878\n",
      "9799     35270  c050101  [0, 1, 0, 0, 1, 0]       6  1.598014\n",
      "10054    35282  c050101     [1, 0, 0, 1, 1]       5  2.182720\n",
      "10098    35284  c050101        [1, 1, 0, 1]       4  2.214677\n",
      "...        ...      ...                 ...     ...       ...\n",
      "72819    50972  c050101  [0, 1, 0, 0, 1, 0]       6  1.598014\n",
      "72955    51022  c050101        [1, 0, 1, 0]       4  1.560812\n",
      "73615    51121  c050101     [1, 1, 1, 1, 0]       5  2.574158\n",
      "73659    51122  c050101  [0, 0, 0, 0, 0, 0]       6  0.115003\n",
      "74101    51179  c050101     [1, 0, 0, 0, 0]       5  0.837963\n",
      "74232    51203  c050101     [1, 0, 0, 1, 1]       5  2.182720\n",
      "74436    51247  c050101     [0, 0, 1, 1, 1]       5  1.778297\n",
      "74781    51297  c050101           [1, 1, 1]       3  1.783030\n",
      "75289    51951  c050101        [1, 1, 0, 1]       4  2.214677\n",
      "75461    51972  c050101     [0, 0, 1, 1, 1]       5  1.778297\n",
      "76113    52073  c050101           [0, 0, 1]       3  0.779951\n",
      "76301    52132  c050101        [0, 1, 1, 1]       4  1.764480\n",
      "76369    52154  c050101        [0, 1, 1, 0]       4  1.585014\n",
      "76634    52254  c050101  [0, 0, 0, 0, 0, 0]       6  0.115003\n",
      "77423    53406  c050101           [1, 1, 1]       3  1.783030\n",
      "77648    53594  c050101           [0, 0, 0]       3  0.057292\n",
      "78603    55003  c050101        [0, 0, 1, 0]       4  0.816529\n",
      "78991    55155  c050101     [1, 0, 1, 0, 0]       5  1.584632\n",
      "79451    55319  c050101        [1, 1, 0, 0]       4  1.598869\n",
      "80010    56193  c050101           [1, 1, 1]       3  1.783030\n",
      "80363    56578  c050101        [1, 0, 1, 1]       4  2.098484\n",
      "80428    56599  c050101  [1, 0, 1, 0, 0, 1]       6  2.322335\n",
      "80795    56884  c050101     [0, 0, 1, 0, 0]       5  0.838181\n",
      "80815    56886  c050101     [1, 0, 0, 1, 1]       5  2.182720\n",
      "80830    56887  c050101        [1, 1, 0, 1]       4  2.214677\n",
      "80848    56888  c050101     [0, 1, 0, 1, 1]       5  2.107206\n",
      "80864    56889  c050101  [1, 1, 0, 0, 0, 0]       6  1.640166\n",
      "81442    57662  c050101     [0, 1, 0, 0, 0]       5  0.838455\n",
      "81572    57837  c050101        [1, 0, 1, 1]       4  2.098484\n",
      "81612    57860  c050101     [1, 0, 0, 0, 1]       5  1.560233\n",
      "\n",
      "[197 rows x 5 columns]\n",
      "       user_id tag_code            is_right  length       ssr\n",
      "0        29110  c050101     [0, 0, 1, 0, 1]       5  1.539374\n",
      "561      29845  c050101        [1, 0, 1, 1]       4  2.093812\n",
      "699      29861  c050101        [1, 1, 0, 1]       4  2.192745\n",
      "1179     30411  c050101     [1, 0, 0, 0, 1]       5  1.559399\n",
      "1277     30525  c050101           [0, 0, 0]       3  0.057133\n",
      "3352     32576  c050101  [1, 1, 1, 1, 1, 0]       6  2.660448\n",
      "3556     32991  c050101     [0, 0, 1, 0, 1]       5  1.539374\n",
      "3604     33031  c050101        [1, 0, 1, 1]       4  2.093812\n",
      "4215     34006  c050101        [1, 0, 1, 0]       4  1.558274\n",
      "4265     34062  c050101           [1, 1, 0]       3  1.549795\n",
      "5217     34719  c050101     [0, 1, 1, 1, 1]       5  1.900018\n",
      "6455     34912  c050101        [0, 1, 1, 0]       4  1.572042\n",
      "6534     34916  c050101     [0, 1, 1, 0, 1]       5  2.200326\n",
      "6739     34920  c050101     [1, 0, 1, 1, 1]       5  2.345091\n",
      "6925     34924  c050101  [0, 1, 1, 1, 1, 1]       6  1.939166\n",
      "7099     34930  c050101     [0, 1, 1, 1, 1]       5  1.900018\n",
      "7188     34932  c050101  [1, 0, 1, 0, 1, 0]       6  2.348154\n",
      "7557     34951  c050101  [0, 1, 1, 1, 1, 0]       6  2.543448\n",
      "8268     35107  c050101     [1, 0, 1, 0, 1]       5  2.264866\n",
      "8515     35126  c050101        [1, 1, 0, 1]       4  2.192745\n",
      "8759     35163  c050101           [1, 1, 1]       3  1.826028\n",
      "9294     35211  c050101           [1, 1, 1]       3  1.826028\n",
      "9326     35214  c050101     [1, 0, 0, 0, 1]       5  1.559399\n",
      "9450     35261  c050101     [1, 1, 0, 1, 0]       5  2.368835\n",
      "9477     35266  c050101  [0, 1, 1, 0, 1, 0]       6  2.397057\n",
      "9532     35267  c050101     [1, 0, 0, 1, 1]       5  2.181146\n",
      "9723     35269  c050101  [0, 1, 1, 1, 1, 1]       6  1.939166\n",
      "9799     35270  c050101  [0, 1, 0, 0, 1, 0]       6  1.596346\n",
      "10054    35282  c050101     [1, 0, 0, 1, 1]       5  2.181146\n",
      "10098    35284  c050101        [1, 1, 0, 1]       4  2.192745\n",
      "...        ...      ...                 ...     ...       ...\n",
      "72819    50972  c050101  [0, 1, 0, 0, 1, 0]       6  1.596346\n",
      "72955    51022  c050101        [1, 0, 1, 0]       4  1.558274\n",
      "73615    51121  c050101     [1, 1, 1, 1, 0]       5  2.575586\n",
      "73659    51122  c050101  [0, 0, 0, 0, 0, 0]       6  0.114842\n",
      "74101    51179  c050101     [1, 0, 0, 0, 0]       5  0.837456\n",
      "74232    51203  c050101     [1, 0, 0, 1, 1]       5  2.181146\n",
      "74436    51247  c050101     [0, 0, 1, 1, 1]       5  1.809771\n",
      "74781    51297  c050101           [1, 1, 1]       3  1.826028\n",
      "75289    51951  c050101        [1, 1, 0, 1]       4  2.192745\n",
      "75461    51972  c050101     [0, 0, 1, 1, 1]       5  1.809771\n",
      "76113    52073  c050101           [0, 0, 1]       3  0.779865\n",
      "76301    52132  c050101        [0, 1, 1, 1]       4  1.799087\n",
      "76369    52154  c050101        [0, 1, 1, 0]       4  1.572042\n",
      "76634    52254  c050101  [0, 0, 0, 0, 0, 0]       6  0.114842\n",
      "77423    53406  c050101           [1, 1, 1]       3  1.826028\n",
      "77648    53594  c050101           [0, 0, 0]       3  0.057133\n",
      "78603    55003  c050101        [0, 0, 1, 0]       4  0.815275\n",
      "78991    55155  c050101     [1, 0, 1, 0, 0]       5  1.583686\n",
      "79451    55319  c050101        [1, 1, 0, 0]       4  1.589061\n",
      "80010    56193  c050101           [1, 1, 1]       3  1.826028\n",
      "80363    56578  c050101        [1, 0, 1, 1]       4  2.093812\n",
      "80428    56599  c050101  [1, 0, 1, 0, 0, 1]       6  2.318326\n",
      "80795    56884  c050101     [0, 0, 1, 0, 0]       5  0.837494\n",
      "80815    56886  c050101     [1, 0, 0, 1, 1]       5  2.181146\n",
      "80830    56887  c050101        [1, 1, 0, 1]       4  2.192745\n",
      "80848    56888  c050101     [0, 1, 0, 1, 1]       5  2.097581\n",
      "80864    56889  c050101  [1, 1, 0, 0, 0, 0]       6  1.631899\n",
      "81442    57662  c050101     [0, 1, 0, 0, 0]       5  0.837949\n",
      "81572    57837  c050101        [1, 0, 1, 1]       4  2.093812\n",
      "81612    57860  c050101     [1, 0, 0, 0, 1]       5  1.559399\n",
      "\n"
     ]
    },
    {
     "name": "stdout",
     "output_type": "stream",
     "text": [
      "[197 rows x 5 columns]\n",
      "       user_id tag_code            is_right  length       ssr\n",
      "0        29110  c050101     [0, 0, 1, 0, 1]       5  1.535462\n",
      "561      29845  c050101        [1, 0, 1, 1]       4  2.093998\n",
      "699      29861  c050101        [1, 1, 0, 1]       4  2.178228\n",
      "1179     30411  c050101     [1, 0, 0, 0, 1]       5  1.558468\n",
      "1277     30525  c050101           [0, 0, 0]       3  0.056959\n",
      "3352     32576  c050101  [1, 1, 1, 1, 1, 0]       6  2.691060\n",
      "3556     32991  c050101     [0, 0, 1, 0, 1]       5  1.535462\n",
      "3604     33031  c050101        [1, 0, 1, 1]       4  2.093998\n",
      "4215     34006  c050101        [1, 0, 1, 0]       4  1.555370\n",
      "4265     34062  c050101           [1, 1, 0]       3  1.539771\n",
      "5217     34719  c050101     [0, 1, 1, 1, 1]       5  1.965412\n",
      "6455     34912  c050101        [0, 1, 1, 0]       4  1.560685\n",
      "6534     34916  c050101     [0, 1, 1, 0, 1]       5  2.180647\n",
      "6739     34920  c050101     [1, 0, 1, 1, 1]       5  2.366526\n",
      "6925     34924  c050101  [0, 1, 1, 1, 1, 1]       6  2.023261\n",
      "7099     34930  c050101     [0, 1, 1, 1, 1]       5  1.965412\n",
      "7188     34932  c050101  [1, 0, 1, 0, 1, 0]       6  2.343401\n",
      "7557     34951  c050101  [0, 1, 1, 1, 1, 0]       6  2.542223\n",
      "8268     35107  c050101     [1, 0, 1, 0, 1]       5  2.254585\n",
      "8515     35126  c050101        [1, 1, 0, 1]       4  2.178228\n",
      "8759     35163  c050101           [1, 1, 1]       3  1.868425\n",
      "9294     35211  c050101           [1, 1, 1]       3  1.868425\n",
      "9326     35214  c050101     [1, 0, 0, 0, 1]       5  1.558468\n",
      "9450     35261  c050101     [1, 1, 0, 1, 0]       5  2.348612\n",
      "9477     35266  c050101  [0, 1, 1, 0, 1, 0]       6  2.374702\n",
      "9532     35267  c050101     [1, 0, 0, 1, 1]       5  2.180039\n",
      "9723     35269  c050101  [0, 1, 1, 1, 1, 1]       6  2.023261\n",
      "9799     35270  c050101  [0, 1, 0, 0, 1, 0]       6  1.594460\n",
      "10054    35282  c050101     [1, 0, 0, 1, 1]       5  2.180039\n",
      "10098    35284  c050101        [1, 1, 0, 1]       4  2.178228\n",
      "...        ...      ...                 ...     ...       ...\n",
      "72819    50972  c050101  [0, 1, 0, 0, 1, 0]       6  1.594460\n",
      "72955    51022  c050101        [1, 0, 1, 0]       4  1.555370\n",
      "73615    51121  c050101     [1, 1, 1, 1, 0]       5  2.583934\n",
      "73659    51122  c050101  [0, 0, 0, 0, 0, 0]       6  0.114661\n",
      "74101    51179  c050101     [1, 0, 0, 0, 0]       5  0.836962\n",
      "74232    51203  c050101     [1, 0, 0, 1, 1]       5  2.180039\n",
      "74436    51247  c050101     [0, 0, 1, 1, 1]       5  1.842052\n",
      "74781    51297  c050101           [1, 1, 1]       3  1.868425\n",
      "75289    51951  c050101        [1, 1, 0, 1]       4  2.178228\n",
      "75461    51972  c050101     [0, 0, 1, 1, 1]       5  1.842052\n",
      "76113    52073  c050101           [0, 0, 1]       3  0.779808\n",
      "76301    52132  c050101        [0, 1, 1, 1]       4  1.834782\n",
      "76369    52154  c050101        [0, 1, 1, 0]       4  1.560685\n",
      "76634    52254  c050101  [0, 0, 0, 0, 0, 0]       6  0.114661\n",
      "77423    53406  c050101           [1, 1, 1]       3  1.868425\n",
      "77648    53594  c050101           [0, 0, 0]       3  0.056959\n",
      "78603    55003  c050101        [0, 0, 1, 0]       4  0.814033\n",
      "78991    55155  c050101     [1, 0, 1, 0, 0]       5  1.582204\n",
      "79451    55319  c050101        [1, 1, 0, 0]       4  1.580158\n",
      "80010    56193  c050101           [1, 1, 1]       3  1.868425\n",
      "80363    56578  c050101        [1, 0, 1, 1]       4  2.093998\n",
      "80428    56599  c050101  [1, 0, 1, 0, 0, 1]       6  2.313218\n",
      "80795    56884  c050101     [0, 0, 1, 0, 0]       5  0.836722\n",
      "80815    56886  c050101     [1, 0, 0, 1, 1]       5  2.180039\n",
      "80830    56887  c050101        [1, 1, 0, 1]       4  2.178228\n",
      "80848    56888  c050101     [0, 1, 0, 1, 1]       5  2.092989\n",
      "80864    56889  c050101  [1, 1, 0, 0, 0, 0]       6  1.624585\n",
      "81442    57662  c050101     [0, 1, 0, 0, 0]       5  0.837394\n",
      "81572    57837  c050101        [1, 0, 1, 1]       4  2.093998\n",
      "81612    57860  c050101     [1, 0, 0, 0, 1]       5  1.558468\n",
      "\n",
      "[197 rows x 5 columns]\n",
      "       user_id tag_code            is_right  length       ssr\n",
      "0        29110  c050101     [0, 0, 1, 0, 1]       5  1.532179\n",
      "561      29845  c050101        [1, 0, 1, 1]       4  2.098164\n",
      "699      29861  c050101        [1, 1, 0, 1]       4  2.169834\n",
      "1179     30411  c050101     [1, 0, 0, 0, 1]       5  1.557455\n",
      "1277     30525  c050101           [0, 0, 0]       3  0.056767\n",
      "3352     32576  c050101  [1, 1, 1, 1, 1, 0]       6  2.732448\n",
      "3556     32991  c050101     [0, 0, 1, 0, 1]       5  1.532179\n",
      "3604     33031  c050101        [1, 0, 1, 1]       4  2.098164\n",
      "4215     34006  c050101        [1, 0, 1, 0]       4  1.552296\n",
      "4265     34062  c050101           [1, 1, 0]       3  1.531713\n",
      "5217     34719  c050101     [0, 1, 1, 1, 1]       5  2.035601\n",
      "6455     34912  c050101        [0, 1, 1, 0]       4  1.550955\n",
      "6534     34916  c050101     [0, 1, 1, 0, 1]       5  2.167392\n",
      "6739     34920  c050101     [1, 0, 1, 1, 1]       5  2.396714\n",
      "6925     34924  c050101  [0, 1, 1, 1, 1, 1]       6  2.116041\n",
      "7099     34930  c050101     [0, 1, 1, 1, 1]       5  2.035601\n",
      "7188     34932  c050101  [1, 0, 1, 0, 1, 0]       6  2.336726\n",
      "7557     34951  c050101  [0, 1, 1, 1, 1, 0]       6  2.548801\n",
      "8268     35107  c050101     [1, 0, 1, 0, 1]       5  2.245716\n",
      "8515     35126  c050101        [1, 1, 0, 1]       4  2.169834\n",
      "8759     35163  c050101           [1, 1, 1]       3  1.909904\n",
      "9294     35211  c050101           [1, 1, 1]       3  1.909904\n",
      "9326     35214  c050101     [1, 0, 0, 0, 1]       5  1.557455\n",
      "9450     35261  c050101     [1, 1, 0, 1, 0]       5  2.328950\n",
      "9477     35266  c050101  [0, 1, 1, 0, 1, 0]       6  2.351832\n",
      "9532     35267  c050101     [1, 0, 0, 1, 1]       5  2.179870\n",
      "9723     35269  c050101  [0, 1, 1, 1, 1, 1]       6  2.116041\n",
      "9799     35270  c050101  [0, 1, 0, 0, 1, 0]       6  1.592331\n",
      "10054    35282  c050101     [1, 0, 0, 1, 1]       5  2.179870\n",
      "10098    35284  c050101        [1, 1, 0, 1]       4  2.169834\n",
      "...        ...      ...                 ...     ...       ...\n",
      "72819    50972  c050101  [0, 1, 0, 0, 1, 0]       6  1.592331\n",
      "72955    51022  c050101        [1, 0, 1, 0]       4  1.552296\n",
      "73615    51121  c050101     [1, 1, 1, 1, 0]       5  2.598768\n",
      "73659    51122  c050101  [0, 0, 0, 0, 0, 0]       6  0.114457\n",
      "74101    51179  c050101     [1, 0, 0, 0, 0]       5  0.836467\n",
      "74232    51203  c050101     [1, 0, 0, 1, 1]       5  2.179870\n",
      "74436    51247  c050101     [0, 0, 1, 1, 1]       5  1.875097\n",
      "74781    51297  c050101           [1, 1, 1]       3  1.909904\n",
      "75289    51951  c050101        [1, 1, 0, 1]       4  2.169834\n",
      "75461    51972  c050101     [0, 0, 1, 1, 1]       5  1.875097\n",
      "76113    52073  c050101           [0, 0, 1]       3  0.779787\n",
      "76301    52132  c050101        [0, 1, 1, 1]       4  1.871300\n",
      "76369    52154  c050101        [0, 1, 1, 0]       4  1.550955\n",
      "76634    52254  c050101  [0, 0, 0, 0, 0, 0]       6  0.114457\n",
      "77423    53406  c050101           [1, 1, 1]       3  1.909904\n",
      "77648    53594  c050101           [0, 0, 0]       3  0.056767\n",
      "78603    55003  c050101        [0, 0, 1, 0]       4  0.812809\n",
      "78991    55155  c050101     [1, 0, 1, 0, 0]       5  1.580279\n",
      "79451    55319  c050101        [1, 1, 0, 0]       4  1.572184\n",
      "80010    56193  c050101           [1, 1, 1]       3  1.909904\n",
      "80363    56578  c050101        [1, 0, 1, 1]       4  2.098164\n",
      "80428    56599  c050101  [1, 0, 1, 0, 0, 1]       6  2.307409\n",
      "80795    56884  c050101     [0, 0, 1, 0, 0]       5  0.835865\n",
      "80815    56886  c050101     [1, 0, 0, 1, 1]       5  2.179870\n",
      "80830    56887  c050101        [1, 1, 0, 1]       4  2.169834\n",
      "80848    56888  c050101     [0, 1, 0, 1, 1]       5  2.092848\n",
      "80864    56889  c050101  [1, 1, 0, 0, 0, 0]       6  1.618110\n",
      "81442    57662  c050101     [0, 1, 0, 0, 0]       5  0.836781\n",
      "81572    57837  c050101        [1, 0, 1, 1]       4  2.098164\n",
      "81612    57860  c050101     [1, 0, 0, 0, 1]       5  1.557455\n",
      "\n",
      "[197 rows x 5 columns]\n",
      "       user_id tag_code            is_right  length       ssr\n",
      "0        29110  c050101     [0, 0, 1, 0, 1]       5  1.529552\n",
      "561      29845  c050101        [1, 0, 1, 1]       4  2.105582\n",
      "699      29861  c050101        [1, 1, 0, 1]       4  2.166501\n",
      "1179     30411  c050101     [1, 0, 0, 0, 1]       5  1.556389\n",
      "1277     30525  c050101           [0, 0, 0]       3  0.056557\n",
      "3352     32576  c050101  [1, 1, 1, 1, 1, 0]       6  2.784245\n",
      "3556     32991  c050101     [0, 0, 1, 0, 1]       5  1.529552\n",
      "3604     33031  c050101        [1, 0, 1, 1]       4  2.105582\n",
      "4215     34006  c050101        [1, 0, 1, 0]       4  1.549229\n",
      "4265     34062  c050101           [1, 1, 0]       3  1.525434\n",
      "5217     34719  c050101     [0, 1, 1, 1, 1]       5  2.110250\n",
      "6455     34912  c050101        [0, 1, 1, 0]       4  1.542839\n",
      "6534     34916  c050101     [0, 1, 1, 0, 1]       5  2.159791\n",
      "6739     34920  c050101     [1, 0, 1, 1, 1]       5  2.434182\n",
      "6925     34924  c050101  [0, 1, 1, 1, 1, 1]       6  2.217335\n",
      "7099     34930  c050101     [0, 1, 1, 1, 1]       5  2.110250\n",
      "7188     34932  c050101  [1, 0, 1, 0, 1, 0]       6  2.328764\n",
      "7557     34951  c050101  [0, 1, 1, 1, 1, 0]       6  2.562857\n",
      "8268     35107  c050101     [1, 0, 1, 0, 1]       5  2.238665\n",
      "8515     35126  c050101        [1, 1, 0, 1]       4  2.166501\n",
      "8759     35163  c050101           [1, 1, 1]       3  1.950152\n",
      "9294     35211  c050101           [1, 1, 1]       3  1.950152\n",
      "9326     35214  c050101     [1, 0, 0, 0, 1]       5  1.556389\n",
      "9450     35261  c050101     [1, 1, 0, 1, 0]       5  2.311119\n",
      "9477     35266  c050101  [0, 1, 1, 0, 1, 0]       6  2.330173\n",
      "9532     35267  c050101     [1, 0, 0, 1, 1]       5  2.180961\n",
      "9723     35269  c050101  [0, 1, 1, 1, 1, 1]       6  2.217335\n",
      "9799     35270  c050101  [0, 1, 0, 0, 1, 0]       6  1.589966\n",
      "10054    35282  c050101     [1, 0, 0, 1, 1]       5  2.180961\n",
      "10098    35284  c050101        [1, 1, 0, 1]       4  2.166501\n",
      "...        ...      ...                 ...     ...       ...\n",
      "72819    50972  c050101  [0, 1, 0, 0, 1, 0]       6  1.589966\n",
      "72955    51022  c050101        [1, 0, 1, 0]       4  1.549229\n",
      "73615    51121  c050101     [1, 1, 1, 1, 0]       5  2.619564\n",
      "73659    51122  c050101  [0, 0, 0, 0, 0, 0]       6  0.114226\n",
      "74101    51179  c050101     [1, 0, 0, 0, 0]       5  0.835958\n",
      "74232    51203  c050101     [1, 0, 0, 1, 1]       5  2.180961\n",
      "74436    51247  c050101     [0, 0, 1, 1, 1]       5  1.908823\n",
      "74781    51297  c050101           [1, 1, 1]       3  1.950152\n",
      "75289    51951  c050101        [1, 1, 0, 1]       4  2.166501\n",
      "75461    51972  c050101     [0, 0, 1, 1, 1]       5  1.908823\n",
      "76113    52073  c050101           [0, 0, 1]       3  0.779812\n",
      "76301    52132  c050101        [0, 1, 1, 1]       4  1.908349\n",
      "76369    52154  c050101        [0, 1, 1, 0]       4  1.542839\n",
      "76634    52254  c050101  [0, 0, 0, 0, 0, 0]       6  0.114226\n",
      "77423    53406  c050101           [1, 1, 1]       3  1.950152\n",
      "77648    53594  c050101           [0, 0, 0]       3  0.056557\n",
      "78603    55003  c050101        [0, 0, 1, 0]       4  0.811614\n",
      "78991    55155  c050101     [1, 0, 1, 0, 0]       5  1.578019\n",
      "79451    55319  c050101        [1, 1, 0, 0]       4  1.565168\n",
      "80010    56193  c050101           [1, 1, 1]       3  1.950152\n",
      "80363    56578  c050101        [1, 0, 1, 1]       4  2.105582\n",
      "80428    56599  c050101  [1, 0, 1, 0, 0, 1]       6  2.301337\n",
      "80795    56884  c050101     [0, 0, 1, 0, 0]       5  0.834927\n",
      "80815    56886  c050101     [1, 0, 0, 1, 1]       5  2.180961\n",
      "80830    56887  c050101        [1, 1, 0, 1]       4  2.166501\n",
      "80848    56888  c050101     [0, 1, 0, 1, 1]       5  2.096639\n",
      "80864    56889  c050101  [1, 1, 0, 0, 0, 0]       6  1.612380\n",
      "81442    57662  c050101     [0, 1, 0, 0, 0]       5  0.836105\n",
      "81572    57837  c050101        [1, 0, 1, 1]       4  2.105582\n",
      "81612    57860  c050101     [1, 0, 0, 0, 1]       5  1.556389\n",
      "\n"
     ]
    },
    {
     "name": "stdout",
     "output_type": "stream",
     "text": [
      "[197 rows x 5 columns]\n",
      "       user_id tag_code            is_right  length       ssr\n",
      "0        29110  c050101     [0, 0, 1, 0, 1]       5  1.527610\n",
      "561      29845  c050101        [1, 0, 1, 1]       4  2.115627\n",
      "699      29861  c050101        [1, 1, 0, 1]       4  2.167321\n",
      "1179     30411  c050101     [1, 0, 0, 0, 1]       5  1.555309\n",
      "1277     30525  c050101           [0, 0, 0]       3  0.056327\n",
      "3352     32576  c050101  [1, 1, 1, 1, 1, 0]       6  2.845976\n",
      "3556     32991  c050101     [0, 0, 1, 0, 1]       5  1.527610\n",
      "3604     33031  c050101        [1, 0, 1, 1]       4  2.115627\n",
      "4215     34006  c050101        [1, 0, 1, 0]       4  1.546321\n",
      "4265     34062  c050101           [1, 1, 0]       3  1.520747\n",
      "5217     34719  c050101     [0, 1, 1, 1, 1]       5  2.188918\n",
      "6455     34912  c050101        [0, 1, 1, 0]       4  1.536300\n",
      "6534     34916  c050101     [0, 1, 1, 0, 1]       5  2.157152\n",
      "6739     34920  c050101     [1, 0, 1, 1, 1]       5  2.477693\n",
      "6925     34924  c050101  [0, 1, 1, 1, 1, 1]       6  2.326904\n",
      "7099     34930  c050101     [0, 1, 1, 1, 1]       5  2.188918\n",
      "7188     34932  c050101  [1, 0, 1, 0, 1, 0]       6  2.320250\n",
      "7557     34951  c050101  [0, 1, 1, 1, 1, 0]       6  2.583975\n",
      "8268     35107  c050101     [1, 0, 1, 0, 1]       5  2.233670\n",
      "8515     35126  c050101        [1, 1, 0, 1]       4  2.167321\n",
      "8759     35163  c050101           [1, 1, 1]       3  1.988865\n",
      "9294     35211  c050101           [1, 1, 1]       3  1.988865\n",
      "9326     35214  c050101     [1, 0, 0, 0, 1]       5  1.555309\n",
      "9450     35261  c050101     [1, 1, 0, 1, 0]       5  2.295869\n",
      "9477     35266  c050101  [0, 1, 1, 0, 1, 0]       6  2.310872\n",
      "9532     35267  c050101     [1, 0, 0, 1, 1]       5  2.183508\n",
      "9723     35269  c050101  [0, 1, 1, 1, 1, 1]       6  2.326904\n",
      "9799     35270  c050101  [0, 1, 0, 0, 1, 0]       6  1.587401\n",
      "10054    35282  c050101     [1, 0, 0, 1, 1]       5  2.183508\n",
      "10098    35284  c050101        [1, 1, 0, 1]       4  2.167321\n",
      "...        ...      ...                 ...     ...       ...\n",
      "72819    50972  c050101  [0, 1, 0, 0, 1, 0]       6  1.587401\n",
      "72955    51022  c050101        [1, 0, 1, 0]       4  1.546321\n",
      "73615    51121  c050101     [1, 1, 1, 1, 0]       5  2.645696\n",
      "73659    51122  c050101  [0, 0, 0, 0, 0, 0]       6  0.113962\n",
      "74101    51179  c050101     [1, 0, 0, 0, 0]       5  0.835425\n",
      "74232    51203  c050101     [1, 0, 0, 1, 1]       5  2.183508\n",
      "74436    51247  c050101     [0, 0, 1, 1, 1]       5  1.943104\n",
      "74781    51297  c050101           [1, 1, 1]       3  1.988865\n",
      "75289    51951  c050101        [1, 1, 0, 1]       4  2.167321\n",
      "75461    51972  c050101     [0, 0, 1, 1, 1]       5  1.943104\n",
      "76113    52073  c050101           [0, 0, 1]       3  0.779891\n",
      "76301    52132  c050101        [0, 1, 1, 1]       4  1.945612\n",
      "76369    52154  c050101        [0, 1, 1, 0]       4  1.536300\n",
      "76634    52254  c050101  [0, 0, 0, 0, 0, 0]       6  0.113962\n",
      "77423    53406  c050101           [1, 1, 1]       3  1.988865\n",
      "77648    53594  c050101           [0, 0, 0]       3  0.056327\n",
      "78603    55003  c050101        [0, 0, 1, 0]       4  0.810459\n",
      "78991    55155  c050101     [1, 0, 1, 0, 0]       5  1.575540\n",
      "79451    55319  c050101        [1, 1, 0, 0]       4  1.559125\n",
      "80010    56193  c050101           [1, 1, 1]       3  1.988865\n",
      "80363    56578  c050101        [1, 0, 1, 1]       4  2.115627\n",
      "80428    56599  c050101  [1, 0, 1, 0, 0, 1]       6  2.295440\n",
      "80795    56884  c050101     [0, 0, 1, 0, 0]       5  0.833915\n",
      "80815    56886  c050101     [1, 0, 0, 1, 1]       5  2.183508\n",
      "80830    56887  c050101        [1, 1, 0, 1]       4  2.167321\n",
      "80848    56888  c050101     [0, 1, 0, 1, 1]       5  2.103878\n",
      "80864    56889  c050101  [1, 1, 0, 0, 0, 0]       6  1.607314\n",
      "81442    57662  c050101     [0, 1, 0, 0, 0]       5  0.835362\n",
      "81572    57837  c050101        [1, 0, 1, 1]       4  2.115627\n",
      "81612    57860  c050101     [1, 0, 0, 0, 1]       5  1.555309\n",
      "\n",
      "[197 rows x 5 columns]\n",
      "       user_id tag_code            is_right  length       ssr\n",
      "0        29110  c050101     [0, 0, 1, 0, 1]       5  1.526377\n",
      "561      29845  c050101        [1, 0, 1, 1]       4  2.127748\n",
      "699      29861  c050101        [1, 1, 0, 1]       4  2.171506\n",
      "1179     30411  c050101     [1, 0, 0, 0, 1]       5  1.554265\n",
      "1277     30525  c050101           [0, 0, 0]       3  0.056076\n",
      "3352     32576  c050101  [1, 1, 1, 1, 1, 0]       6  2.917008\n",
      "3556     32991  c050101     [0, 0, 1, 0, 1]       5  1.526377\n",
      "3604     33031  c050101        [1, 0, 1, 1]       4  2.127748\n",
      "4215     34006  c050101        [1, 0, 1, 0]       4  1.543698\n",
      "4265     34062  c050101           [1, 1, 0]       3  1.517465\n",
      "5217     34719  c050101     [0, 1, 1, 1, 1]       5  2.271027\n",
      "6455     34912  c050101        [0, 1, 1, 0]       4  1.531282\n",
      "6534     34916  c050101     [0, 1, 1, 0, 1]       5  2.158833\n",
      "6739     34920  c050101     [1, 0, 1, 1, 1]       5  2.526110\n",
      "6925     34924  c050101  [0, 1, 1, 1, 1, 1]       6  2.444409\n",
      "7099     34930  c050101     [0, 1, 1, 1, 1]       5  2.271027\n",
      "7188     34932  c050101  [1, 0, 1, 0, 1, 0]       6  2.311898\n",
      "7557     34951  c050101  [0, 1, 1, 1, 1, 0]       6  2.611625\n",
      "8268     35107  c050101     [1, 0, 1, 0, 1]       5  2.230835\n",
      "8515     35126  c050101        [1, 1, 0, 1]       4  2.171506\n",
      "8759     35163  c050101           [1, 1, 1]       3  2.025757\n",
      "9294     35211  c050101           [1, 1, 1]       3  2.025757\n",
      "9326     35214  c050101     [1, 0, 0, 0, 1]       5  1.554265\n",
      "9450     35261  c050101     [1, 1, 0, 1, 0]       5  2.283594\n",
      "9477     35266  c050101  [0, 1, 1, 0, 1, 0]       6  2.294660\n",
      "9532     35267  c050101     [1, 0, 0, 1, 1]       5  2.187597\n",
      "9723     35269  c050101  [0, 1, 1, 1, 1, 1]       6  2.444409\n",
      "9799     35270  c050101  [0, 1, 0, 0, 1, 0]       6  1.584704\n",
      "10054    35282  c050101     [1, 0, 0, 1, 1]       5  2.187597\n",
      "10098    35284  c050101        [1, 1, 0, 1]       4  2.171506\n",
      "...        ...      ...                 ...     ...       ...\n",
      "72819    50972  c050101  [0, 1, 0, 0, 1, 0]       6  1.584704\n",
      "72955    51022  c050101        [1, 0, 1, 0]       4  1.543698\n",
      "73615    51121  c050101     [1, 1, 1, 1, 0]       5  2.676416\n",
      "73659    51122  c050101  [0, 0, 0, 0, 0, 0]       6  0.113659\n",
      "74101    51179  c050101     [1, 0, 0, 0, 0]       5  0.834857\n",
      "74232    51203  c050101     [1, 0, 0, 1, 1]       5  2.187597\n",
      "74436    51247  c050101     [0, 0, 1, 1, 1]       5  1.977764\n",
      "74781    51297  c050101           [1, 1, 1]       3  2.025757\n",
      "75289    51951  c050101        [1, 1, 0, 1]       4  2.171506\n",
      "75461    51972  c050101     [0, 0, 1, 1, 1]       5  1.977764\n",
      "76113    52073  c050101           [0, 0, 1]       3  0.780033\n",
      "76301    52132  c050101        [0, 1, 1, 1]       4  1.982740\n",
      "76369    52154  c050101        [0, 1, 1, 0]       4  1.531282\n",
      "76634    52254  c050101  [0, 0, 0, 0, 0, 0]       6  0.113659\n",
      "77423    53406  c050101           [1, 1, 1]       3  2.025757\n",
      "77648    53594  c050101           [0, 0, 0]       3  0.056076\n",
      "78603    55003  c050101        [0, 0, 1, 0]       4  0.809359\n",
      "78991    55155  c050101     [1, 0, 1, 0, 0]       5  1.572960\n",
      "79451    55319  c050101        [1, 1, 0, 0]       4  1.554050\n",
      "80010    56193  c050101           [1, 1, 1]       3  2.025757\n",
      "80363    56578  c050101        [1, 0, 1, 1]       4  2.127748\n",
      "80428    56599  c050101  [1, 0, 1, 0, 0, 1]       6  2.290123\n",
      "80795    56884  c050101     [0, 0, 1, 0, 0]       5  0.832839\n",
      "80815    56886  c050101     [1, 0, 0, 1, 1]       5  2.187597\n",
      "80830    56887  c050101        [1, 1, 0, 1]       4  2.171506\n",
      "80848    56888  c050101     [0, 1, 0, 1, 1]       5  2.114107\n",
      "80864    56889  c050101  [1, 1, 0, 0, 0, 0]       6  1.602837\n",
      "81442    57662  c050101     [0, 1, 0, 0, 0]       5  0.834550\n",
      "81572    57837  c050101        [1, 0, 1, 1]       4  2.127748\n",
      "81612    57860  c050101     [1, 0, 0, 0, 1]       5  1.554265\n",
      "\n",
      "[197 rows x 5 columns]\n",
      "       user_id tag_code            is_right  length       ssr\n",
      "0        29110  c050101     [0, 0, 1, 0, 1]       5  1.525872\n",
      "561      29845  c050101        [1, 0, 1, 1]       4  2.141445\n",
      "699      29861  c050101        [1, 1, 0, 1]       4  2.178352\n",
      "1179     30411  c050101     [1, 0, 0, 0, 1]       5  1.553312\n",
      "1277     30525  c050101           [0, 0, 0]       3  0.055802\n",
      "3352     32576  c050101  [1, 1, 1, 1, 1, 0]       6  2.996497\n",
      "3556     32991  c050101     [0, 0, 1, 0, 1]       5  1.525872\n",
      "3604     33031  c050101        [1, 0, 1, 1]       4  2.141445\n",
      "4215     34006  c050101        [1, 0, 1, 0]       4  1.541455\n",
      "4265     34062  c050101           [1, 1, 0]       3  1.515403\n",
      "5217     34719  c050101     [0, 1, 1, 1, 1]       5  2.355821\n",
      "6455     34912  c050101        [0, 1, 1, 0]       4  1.527703\n",
      "6534     34916  c050101     [0, 1, 1, 0, 1]       5  2.164226\n",
      "6739     34920  c050101     [1, 0, 1, 1, 1]       5  2.578308\n",
      "6925     34924  c050101  [0, 1, 1, 1, 1, 1]       6  2.569370\n",
      "7099     34930  c050101     [0, 1, 1, 1, 1]       5  2.355821\n",
      "7188     34932  c050101  [1, 0, 1, 0, 1, 0]       6  2.304330\n",
      "7557     34951  c050101  [0, 1, 1, 1, 1, 0]       6  2.645142\n",
      "8268     35107  c050101     [1, 0, 1, 0, 1]       5  2.230157\n",
      "8515     35126  c050101        [1, 1, 0, 1]       4  2.178352\n",
      "8759     35163  c050101           [1, 1, 1]       3  2.060561\n",
      "9294     35211  c050101           [1, 1, 1]       3  2.060561\n",
      "9326     35214  c050101     [1, 0, 0, 0, 1]       5  1.553312\n",
      "9450     35261  c050101     [1, 1, 0, 1, 0]       5  2.274441\n",
      "9477     35266  c050101  [0, 1, 1, 0, 1, 0]       6  2.281958\n",
      "9532     35267  c050101     [1, 0, 0, 1, 1]       5  2.193227\n",
      "9723     35269  c050101  [0, 1, 1, 1, 1, 1]       6  2.569370\n",
      "9799     35270  c050101  [0, 1, 0, 0, 1, 0]       6  1.581969\n",
      "10054    35282  c050101     [1, 0, 0, 1, 1]       5  2.193227\n",
      "10098    35284  c050101        [1, 1, 0, 1]       4  2.178352\n",
      "...        ...      ...                 ...     ...       ...\n",
      "72819    50972  c050101  [0, 1, 0, 0, 1, 0]       6  1.581969\n",
      "72955    51022  c050101        [1, 0, 1, 0]       4  1.541455\n",
      "73615    51121  c050101     [1, 1, 1, 1, 0]       5  2.710849\n",
      "73659    51122  c050101  [0, 0, 0, 0, 0, 0]       6  0.113309\n",
      "74101    51179  c050101     [1, 0, 0, 0, 0]       5  0.834244\n",
      "74232    51203  c050101     [1, 0, 0, 1, 1]       5  2.193227\n",
      "74436    51247  c050101     [0, 0, 1, 1, 1]       5  2.012581\n",
      "74781    51297  c050101           [1, 1, 1]       3  2.060561\n",
      "75289    51951  c050101        [1, 1, 0, 1]       4  2.178352\n",
      "75461    51972  c050101     [0, 0, 1, 1, 1]       5  2.012581\n",
      "76113    52073  c050101           [0, 0, 1]       3  0.780248\n",
      "76301    52132  c050101        [0, 1, 1, 1]       4  2.019363\n",
      "76369    52154  c050101        [0, 1, 1, 0]       4  1.527703\n",
      "76634    52254  c050101  [0, 0, 0, 0, 0, 0]       6  0.113309\n",
      "77423    53406  c050101           [1, 1, 1]       3  2.060561\n",
      "77648    53594  c050101           [0, 0, 0]       3  0.055802\n",
      "78603    55003  c050101        [0, 0, 1, 0]       4  0.808328\n",
      "78991    55155  c050101     [1, 0, 1, 0, 0]       5  1.570395\n",
      "79451    55319  c050101        [1, 1, 0, 0]       4  1.549919\n",
      "80010    56193  c050101           [1, 1, 1]       3  2.060561\n",
      "80363    56578  c050101        [1, 0, 1, 1]       4  2.141445\n",
      "80428    56599  c050101  [1, 0, 1, 0, 0, 1]       6  2.285735\n",
      "80795    56884  c050101     [0, 0, 1, 0, 0]       5  0.831713\n",
      "80815    56886  c050101     [1, 0, 0, 1, 1]       5  2.193227\n",
      "80830    56887  c050101        [1, 1, 0, 1]       4  2.178352\n",
      "80848    56888  c050101     [0, 1, 0, 1, 1]       5  2.126879\n",
      "80864    56889  c050101  [1, 1, 0, 0, 0, 0]       6  1.598887\n",
      "81442    57662  c050101     [0, 1, 0, 0, 0]       5  0.833674\n",
      "81572    57837  c050101        [1, 0, 1, 1]       4  2.141445\n",
      "81612    57860  c050101     [1, 0, 0, 0, 1]       5  1.553312\n",
      "\n"
     ]
    },
    {
     "name": "stdout",
     "output_type": "stream",
     "text": [
      "[197 rows x 5 columns]\n",
      "       user_id tag_code            is_right  length       ssr\n",
      "0        29110  c050101     [0, 0, 1, 0, 1]       5  1.526107\n",
      "561      29845  c050101        [1, 0, 1, 1]       4  2.156261\n",
      "699      29861  c050101        [1, 1, 0, 1]       4  2.187224\n",
      "1179     30411  c050101     [1, 0, 0, 0, 1]       5  1.552508\n",
      "1277     30525  c050101           [0, 0, 0]       3  0.055505\n",
      "3352     32576  c050101  [1, 1, 1, 1, 1, 0]       6  3.083310\n",
      "3556     32991  c050101     [0, 0, 1, 0, 1]       5  1.526107\n",
      "3604     33031  c050101        [1, 0, 1, 1]       4  2.156261\n",
      "4215     34006  c050101        [1, 0, 1, 0]       4  1.539661\n",
      "4265     34062  c050101           [1, 1, 0]       3  1.514384\n",
      "5217     34719  c050101     [0, 1, 1, 1, 1]       5  2.442319\n",
      "6455     34912  c050101        [0, 1, 1, 0]       4  1.525466\n",
      "6534     34916  c050101     [0, 1, 1, 0, 1]       5  2.172734\n",
      "6739     34920  c050101     [1, 0, 1, 1, 1]       5  2.633119\n",
      "6925     34924  c050101  [0, 1, 1, 1, 1, 1]       6  2.701092\n",
      "7099     34930  c050101     [0, 1, 1, 1, 1]       5  2.442319\n",
      "7188     34932  c050101  [1, 0, 1, 0, 1, 0]       6  2.298042\n",
      "7557     34951  c050101  [0, 1, 1, 1, 1, 0]       6  2.683696\n",
      "8268     35107  c050101     [1, 0, 1, 0, 1]       5  2.231541\n",
      "8515     35126  c050101        [1, 1, 0, 1]       4  2.187224\n",
      "8759     35163  c050101           [1, 1, 1]       3  2.093040\n",
      "9294     35211  c050101           [1, 1, 1]       3  2.093040\n",
      "9326     35214  c050101     [1, 0, 0, 0, 1]       5  1.552508\n",
      "9450     35261  c050101     [1, 1, 0, 1, 0]       5  2.268371\n",
      "9477     35266  c050101  [0, 1, 1, 0, 1, 0]       6  2.272952\n",
      "9532     35267  c050101     [1, 0, 0, 1, 1]       5  2.200324\n",
      "9723     35269  c050101  [0, 1, 1, 1, 1, 1]       6  2.701092\n",
      "9799     35270  c050101  [0, 1, 0, 0, 1, 0]       6  1.579308\n",
      "10054    35282  c050101     [1, 0, 0, 1, 1]       5  2.200324\n",
      "10098    35284  c050101        [1, 1, 0, 1]       4  2.187224\n",
      "...        ...      ...                 ...     ...       ...\n",
      "72819    50972  c050101  [0, 1, 0, 0, 1, 0]       6  1.579308\n",
      "72955    51022  c050101        [1, 0, 1, 0]       4  1.539661\n",
      "73615    51121  c050101     [1, 1, 1, 1, 0]       5  2.748005\n",
      "73659    51122  c050101  [0, 0, 0, 0, 0, 0]       6  0.112902\n",
      "74101    51179  c050101     [1, 0, 0, 0, 0]       5  0.833581\n",
      "74232    51203  c050101     [1, 0, 0, 1, 1]       5  2.200324\n",
      "74436    51247  c050101     [0, 0, 1, 1, 1]       5  2.047279\n",
      "74781    51297  c050101           [1, 1, 1]       3  2.093040\n",
      "75289    51951  c050101        [1, 1, 0, 1]       4  2.187224\n",
      "75461    51972  c050101     [0, 0, 1, 1, 1]       5  2.047279\n",
      "76113    52073  c050101           [0, 0, 1]       3  0.780542\n",
      "76301    52132  c050101        [0, 1, 1, 1]       4  2.055093\n",
      "76369    52154  c050101        [0, 1, 1, 0]       4  1.525466\n",
      "76634    52254  c050101  [0, 0, 0, 0, 0, 0]       6  0.112902\n",
      "77423    53406  c050101           [1, 1, 1]       3  2.093040\n",
      "77648    53594  c050101           [0, 0, 0]       3  0.055505\n",
      "78603    55003  c050101        [0, 0, 1, 0]       4  0.807383\n",
      "78991    55155  c050101     [1, 0, 1, 0, 0]       5  1.567954\n",
      "79451    55319  c050101        [1, 1, 0, 0]       4  1.546688\n",
      "80010    56193  c050101           [1, 1, 1]       3  2.093040\n",
      "80363    56578  c050101        [1, 0, 1, 1]       4  2.156261\n",
      "80428    56599  c050101  [1, 0, 1, 0, 0, 1]       6  2.282549\n",
      "80795    56884  c050101     [0, 0, 1, 0, 0]       5  0.830555\n",
      "80815    56886  c050101     [1, 0, 0, 1, 1]       5  2.200324\n",
      "80830    56887  c050101        [1, 1, 0, 1]       4  2.187224\n",
      "80848    56888  c050101     [0, 1, 0, 1, 1]       5  2.141748\n",
      "80864    56889  c050101  [1, 1, 0, 0, 0, 0]       6  1.595410\n",
      "81442    57662  c050101     [0, 1, 0, 0, 0]       5  0.832738\n",
      "81572    57837  c050101        [1, 0, 1, 1]       4  2.156261\n",
      "81612    57860  c050101     [1, 0, 0, 0, 1]       5  1.552508\n",
      "\n",
      "[197 rows x 5 columns]\n",
      "       user_id tag_code            is_right  length       ssr\n",
      "0        29110  c050101     [0, 0, 1, 0, 1]       5  1.527084\n",
      "561      29845  c050101        [1, 0, 1, 1]       4  2.171764\n",
      "699      29861  c050101        [1, 1, 0, 1]       4  2.197544\n",
      "1179     30411  c050101     [1, 0, 0, 0, 1]       5  1.551914\n",
      "1277     30525  c050101           [0, 0, 0]       3  0.055183\n",
      "3352     32576  c050101  [1, 1, 1, 1, 1, 0]       6  3.175925\n",
      "3556     32991  c050101     [0, 0, 1, 0, 1]       5  1.527084\n",
      "3604     33031  c050101        [1, 0, 1, 1]       4  2.171764\n",
      "4215     34006  c050101        [1, 0, 1, 0]       4  1.538360\n",
      "4265     34062  c050101           [1, 1, 0]       3  1.514238\n",
      "5217     34719  c050101     [0, 1, 1, 1, 1]       5  2.529268\n",
      "6455     34912  c050101        [0, 1, 1, 0]       4  1.524453\n",
      "6534     34916  c050101     [0, 1, 1, 0, 1]       5  2.183766\n",
      "6739     34920  c050101     [1, 0, 1, 1, 1]       5  2.689286\n",
      "6925     34924  c050101  [0, 1, 1, 1, 1, 1]       6  2.838564\n",
      "7099     34930  c050101     [0, 1, 1, 1, 1]       5  2.529268\n",
      "7188     34932  c050101  [1, 0, 1, 0, 1, 0]       6  2.293385\n",
      "7557     34951  c050101  [0, 1, 1, 1, 1, 0]       6  2.726276\n",
      "8268     35107  c050101     [1, 0, 1, 0, 1]       5  2.234821\n",
      "8515     35126  c050101        [1, 1, 0, 1]       4  2.197544\n",
      "8759     35163  c050101           [1, 1, 1]       3  2.122989\n",
      "9294     35211  c050101           [1, 1, 1]       3  2.122989\n",
      "9326     35214  c050101     [1, 0, 0, 0, 1]       5  1.551914\n",
      "9450     35261  c050101     [1, 1, 0, 1, 0]       5  2.265206\n",
      "9477     35266  c050101  [0, 1, 1, 0, 1, 0]       6  2.267636\n",
      "9532     35267  c050101     [1, 0, 0, 1, 1]       5  2.208747\n",
      "9723     35269  c050101  [0, 1, 1, 1, 1, 1]       6  2.838564\n",
      "9799     35270  c050101  [0, 1, 0, 0, 1, 0]       6  1.576847\n",
      "10054    35282  c050101     [1, 0, 0, 1, 1]       5  2.208747\n",
      "10098    35284  c050101        [1, 1, 0, 1]       4  2.197544\n",
      "...        ...      ...                 ...     ...       ...\n",
      "72819    50972  c050101  [0, 1, 0, 0, 1, 0]       6  1.576847\n",
      "72955    51022  c050101        [1, 0, 1, 0]       4  1.538360\n",
      "73615    51121  c050101     [1, 1, 1, 1, 0]       5  2.786809\n",
      "73659    51122  c050101  [0, 0, 0, 0, 0, 0]       6  0.112429\n",
      "74101    51179  c050101     [1, 0, 0, 0, 0]       5  0.832864\n",
      "74232    51203  c050101     [1, 0, 0, 1, 1]       5  2.208747\n",
      "74436    51247  c050101     [0, 0, 1, 1, 1]       5  2.081531\n",
      "74781    51297  c050101           [1, 1, 1]       3  2.122989\n",
      "75289    51951  c050101        [1, 1, 0, 1]       4  2.197544\n",
      "75461    51972  c050101     [0, 0, 1, 1, 1]       5  2.081531\n",
      "76113    52073  c050101           [0, 0, 1]       3  0.780927\n",
      "76301    52132  c050101        [0, 1, 1, 1]       4  2.089526\n",
      "76369    52154  c050101        [0, 1, 1, 0]       4  1.524453\n",
      "76634    52254  c050101  [0, 0, 0, 0, 0, 0]       6  0.112429\n",
      "77423    53406  c050101           [1, 1, 1]       3  2.122989\n",
      "77648    53594  c050101           [0, 0, 0]       3  0.055183\n",
      "78603    55003  c050101        [0, 0, 1, 0]       4  0.806541\n",
      "78991    55155  c050101     [1, 0, 1, 0, 0]       5  1.565736\n",
      "79451    55319  c050101        [1, 1, 0, 0]       4  1.544297\n",
      "80010    56193  c050101           [1, 1, 1]       3  2.122989\n",
      "80363    56578  c050101        [1, 0, 1, 1]       4  2.171764\n",
      "80428    56599  c050101  [1, 0, 1, 0, 0, 1]       6  2.280757\n",
      "80795    56884  c050101     [0, 0, 1, 0, 0]       5  0.829388\n",
      "80815    56886  c050101     [1, 0, 0, 1, 1]       5  2.208747\n",
      "80830    56887  c050101        [1, 1, 0, 1]       4  2.197544\n",
      "80848    56888  c050101     [0, 1, 0, 1, 1]       5  2.158257\n",
      "80864    56889  c050101  [1, 1, 0, 0, 0, 0]       6  1.592364\n",
      "81442    57662  c050101     [0, 1, 0, 0, 0]       5  0.831752\n",
      "81572    57837  c050101        [1, 0, 1, 1]       4  2.171764\n",
      "81612    57860  c050101     [1, 0, 0, 0, 1]       5  1.551914\n",
      "\n",
      "[197 rows x 5 columns]\n",
      "       user_id tag_code            is_right  length       ssr\n",
      "0        29110  c050101     [0, 0, 1, 0, 1]       5  1.528795\n",
      "561      29845  c050101        [1, 0, 1, 1]       4  2.187552\n",
      "699      29861  c050101        [1, 1, 0, 1]       4  2.208783\n",
      "1179     30411  c050101     [1, 0, 0, 0, 1]       5  1.551587\n",
      "1277     30525  c050101           [0, 0, 0]       3  0.054835\n",
      "3352     32576  c050101  [1, 1, 1, 1, 1, 0]       6  3.272295\n",
      "3556     32991  c050101     [0, 0, 1, 0, 1]       5  1.528795\n",
      "3604     33031  c050101        [1, 0, 1, 1]       4  2.187552\n",
      "4215     34006  c050101        [1, 0, 1, 0]       4  1.537572\n",
      "4265     34062  c050101           [1, 1, 0]       3  1.514803\n",
      "5217     34719  c050101     [0, 1, 1, 1, 1]       5  2.615105\n",
      "6455     34912  c050101        [0, 1, 1, 0]       4  1.524533\n",
      "6534     34916  c050101     [0, 1, 1, 0, 1]       5  2.196729\n",
      "6739     34920  c050101     [1, 0, 1, 1, 1]       5  2.745458\n",
      "6925     34924  c050101  [0, 1, 1, 1, 1, 1]       6  2.980289\n",
      "7099     34930  c050101     [0, 1, 1, 1, 1]       5  2.615105\n",
      "7188     34932  c050101  [1, 0, 1, 0, 1, 0]       6  2.290564\n",
      "7557     34951  c050101  [0, 1, 1, 1, 1, 0]       6  2.771679\n",
      "8268     35107  c050101     [1, 0, 1, 0, 1]       5  2.239771\n",
      "8515     35126  c050101        [1, 1, 0, 1]       4  2.208783\n",
      "8759     35163  c050101           [1, 1, 1]       3  2.150245\n",
      "9294     35211  c050101           [1, 1, 1]       3  2.150245\n",
      "9326     35214  c050101     [1, 0, 0, 0, 1]       5  1.551587\n",
      "9450     35261  c050101     [1, 1, 0, 1, 0]       5  2.264655\n",
      "9477     35266  c050101  [0, 1, 1, 0, 1, 0]       6  2.265836\n",
      "9532     35267  c050101     [1, 0, 0, 1, 1]       5  2.218306\n",
      "9723     35269  c050101  [0, 1, 1, 1, 1, 1]       6  2.980289\n",
      "9799     35270  c050101  [0, 1, 0, 0, 1, 0]       6  1.574716\n",
      "10054    35282  c050101     [1, 0, 0, 1, 1]       5  2.218306\n",
      "10098    35284  c050101        [1, 1, 0, 1]       4  2.208783\n",
      "...        ...      ...                 ...     ...       ...\n",
      "72819    50972  c050101  [0, 1, 0, 0, 1, 0]       6  1.574716\n",
      "72955    51022  c050101        [1, 0, 1, 0]       4  1.537572\n",
      "73615    51121  c050101     [1, 1, 1, 1, 0]       5  2.826153\n",
      "73659    51122  c050101  [0, 0, 0, 0, 0, 0]       6  0.111876\n",
      "74101    51179  c050101     [1, 0, 0, 0, 0]       5  0.832090\n",
      "74232    51203  c050101     [1, 0, 0, 1, 1]       5  2.218306\n",
      "74436    51247  c050101     [0, 0, 1, 1, 1]       5  2.114960\n",
      "74781    51297  c050101           [1, 1, 1]       3  2.150245\n",
      "75289    51951  c050101        [1, 1, 0, 1]       4  2.208783\n",
      "75461    51972  c050101     [0, 0, 1, 1, 1]       5  2.114960\n",
      "76113    52073  c050101           [0, 0, 1]       3  0.781409\n",
      "76301    52132  c050101        [0, 1, 1, 1]       4  2.122255\n",
      "76369    52154  c050101        [0, 1, 1, 0]       4  1.524533\n",
      "76634    52254  c050101  [0, 0, 0, 0, 0, 0]       6  0.111876\n",
      "77423    53406  c050101           [1, 1, 1]       3  2.150245\n",
      "77648    53594  c050101           [0, 0, 0]       3  0.054835\n",
      "78603    55003  c050101        [0, 0, 1, 0]       4  0.805822\n",
      "78991    55155  c050101     [1, 0, 1, 0, 0]       5  1.563825\n",
      "79451    55319  c050101        [1, 1, 0, 0]       4  1.542674\n",
      "80010    56193  c050101           [1, 1, 1]       3  2.150245\n",
      "80363    56578  c050101        [1, 0, 1, 1]       4  2.187552\n",
      "80428    56599  c050101  [1, 0, 1, 0, 0, 1]       6  2.280466\n",
      "80795    56884  c050101     [0, 0, 1, 0, 0]       5  0.828239\n",
      "80815    56886  c050101     [1, 0, 0, 1, 1]       5  2.218306\n",
      "80830    56887  c050101        [1, 1, 0, 1]       4  2.208783\n",
      "80848    56888  c050101     [0, 1, 0, 1, 1]       5  2.175939\n",
      "80864    56889  c050101  [1, 1, 0, 0, 0, 0]       6  1.589717\n",
      "81442    57662  c050101     [0, 1, 0, 0, 0]       5  0.830732\n",
      "81572    57837  c050101        [1, 0, 1, 1]       4  2.187552\n",
      "81612    57860  c050101     [1, 0, 0, 0, 1]       5  1.551587\n",
      "\n"
     ]
    },
    {
     "name": "stdout",
     "output_type": "stream",
     "text": [
      "[197 rows x 5 columns]\n",
      "       user_id tag_code            is_right  length       ssr\n",
      "0        29110  c050101     [0, 0, 1, 0, 1]       5  1.531216\n",
      "561      29845  c050101        [1, 0, 1, 1]       4  2.203242\n",
      "699      29861  c050101        [1, 1, 0, 1]       4  2.220460\n",
      "1179     30411  c050101     [1, 0, 0, 0, 1]       5  1.551579\n",
      "1277     30525  c050101           [0, 0, 0]       3  0.054460\n",
      "3352     32576  c050101  [1, 1, 1, 1, 1, 0]       6  3.369716\n",
      "3556     32991  c050101     [0, 0, 1, 0, 1]       5  1.531216\n",
      "3604     33031  c050101        [1, 0, 1, 1]       4  2.203242\n",
      "4215     34006  c050101        [1, 0, 1, 0]       4  1.537298\n",
      "4265     34062  c050101           [1, 1, 0]       3  1.515931\n",
      "5217     34719  c050101     [0, 1, 1, 1, 1]       5  2.697949\n",
      "6455     34912  c050101        [0, 1, 1, 0]       4  1.525562\n",
      "6534     34916  c050101     [0, 1, 1, 0, 1]       5  2.211023\n",
      "6739     34920  c050101     [1, 0, 1, 1, 1]       5  2.800196\n",
      "6925     34924  c050101  [0, 1, 1, 1, 1, 1]       6  3.124042\n",
      "7099     34930  c050101     [0, 1, 1, 1, 1]       5  2.697949\n",
      "7188     34932  c050101  [1, 0, 1, 0, 1, 0]       6  2.289645\n",
      "7557     34951  c050101  [0, 1, 1, 1, 1, 0]       6  2.818527\n",
      "8268     35107  c050101     [1, 0, 1, 0, 1]       5  2.246120\n",
      "8515     35126  c050101        [1, 1, 0, 1]       4  2.220460\n",
      "8759     35163  c050101           [1, 1, 1]       3  2.174690\n",
      "9294     35211  c050101           [1, 1, 1]       3  2.174690\n",
      "9326     35214  c050101     [1, 0, 0, 0, 1]       5  1.551579\n",
      "9450     35261  c050101     [1, 1, 0, 1, 0]       5  2.266338\n",
      "9477     35266  c050101  [0, 1, 1, 0, 1, 0]       6  2.267234\n",
      "9532     35267  c050101     [1, 0, 0, 1, 1]       5  2.228764\n",
      "9723     35269  c050101  [0, 1, 1, 1, 1, 1]       6  3.124042\n",
      "9799     35270  c050101  [0, 1, 0, 0, 1, 0]       6  1.573037\n",
      "10054    35282  c050101     [1, 0, 0, 1, 1]       5  2.228764\n",
      "10098    35284  c050101        [1, 1, 0, 1]       4  2.220460\n",
      "...        ...      ...                 ...     ...       ...\n",
      "72819    50972  c050101  [0, 1, 0, 0, 1, 0]       6  1.573037\n",
      "72955    51022  c050101        [1, 0, 1, 0]       4  1.537298\n",
      "73615    51121  c050101     [1, 1, 1, 1, 0]       5  2.864952\n",
      "73659    51122  c050101  [0, 0, 0, 0, 0, 0]       6  0.111229\n",
      "74101    51179  c050101     [1, 0, 0, 0, 0]       5  0.831263\n",
      "74232    51203  c050101     [1, 0, 0, 1, 1]       5  2.228764\n",
      "74436    51247  c050101     [0, 0, 1, 1, 1]       5  2.147144\n",
      "74781    51297  c050101           [1, 1, 1]       3  2.174690\n",
      "75289    51951  c050101        [1, 1, 0, 1]       4  2.220460\n",
      "75461    51972  c050101     [0, 0, 1, 1, 1]       5  2.147144\n",
      "76113    52073  c050101           [0, 0, 1]       3  0.781999\n",
      "76301    52132  c050101        [0, 1, 1, 1]       4  2.152880\n",
      "76369    52154  c050101        [0, 1, 1, 0]       4  1.525562\n",
      "76634    52254  c050101  [0, 0, 0, 0, 0, 0]       6  0.111229\n",
      "77423    53406  c050101           [1, 1, 1]       3  2.174690\n",
      "77648    53594  c050101           [0, 0, 0]       3  0.054460\n",
      "78603    55003  c050101        [0, 0, 1, 0]       4  0.805246\n",
      "78991    55155  c050101     [1, 0, 1, 0, 0]       5  1.562289\n",
      "79451    55319  c050101        [1, 1, 0, 0]       4  1.541736\n",
      "80010    56193  c050101           [1, 1, 1]       3  2.174690\n",
      "80363    56578  c050101        [1, 0, 1, 1]       4  2.203242\n",
      "80428    56599  c050101  [1, 0, 1, 0, 0, 1]       6  2.281692\n",
      "80795    56884  c050101     [0, 0, 1, 0, 0]       5  0.827138\n",
      "80815    56886  c050101     [1, 0, 0, 1, 1]       5  2.228764\n",
      "80830    56887  c050101        [1, 1, 0, 1]       4  2.220460\n",
      "80848    56888  c050101     [0, 1, 0, 1, 1]       5  2.194307\n",
      "80864    56889  c050101  [1, 1, 0, 0, 0, 0]       6  1.587449\n",
      "81442    57662  c050101     [0, 1, 0, 0, 0]       5  0.829696\n",
      "81572    57837  c050101        [1, 0, 1, 1]       4  2.203242\n",
      "81612    57860  c050101     [1, 0, 0, 0, 1]       5  1.551579\n",
      "\n",
      "[197 rows x 5 columns]\n",
      "       user_id tag_code            is_right  length       ssr\n",
      "0        29110  c050101     [0, 0, 1, 0, 1]       5  1.534309\n",
      "561      29845  c050101        [1, 0, 1, 1]       4  2.218479\n",
      "699      29861  c050101        [1, 1, 0, 1]       4  2.232144\n",
      "1179     30411  c050101     [1, 0, 0, 0, 1]       5  1.551937\n",
      "1277     30525  c050101           [0, 0, 0]       3  0.054057\n",
      "3352     32576  c050101  [1, 1, 1, 1, 1, 0]       6  3.464750\n",
      "3556     32991  c050101     [0, 0, 1, 0, 1]       5  1.534309\n",
      "3604     33031  c050101        [1, 0, 1, 1]       4  2.218479\n",
      "4215     34006  c050101        [1, 0, 1, 0]       4  1.537519\n",
      "4265     34062  c050101           [1, 1, 0]       3  1.517487\n",
      "5217     34719  c050101     [0, 1, 1, 1, 1]       5  2.775665\n",
      "6455     34912  c050101        [0, 1, 1, 0]       4  1.527386\n",
      "6534     34916  c050101     [0, 1, 1, 0, 1]       5  2.226050\n",
      "6739     34920  c050101     [1, 0, 1, 1, 1]       5  2.852016\n",
      "6925     34924  c050101  [0, 1, 1, 1, 1, 1]       6  3.266516\n",
      "7099     34930  c050101     [0, 1, 1, 1, 1]       5  2.775665\n",
      "7188     34932  c050101  [1, 0, 1, 0, 1, 0]       6  2.290561\n",
      "7557     34951  c050101  [0, 1, 1, 1, 1, 0]       6  2.865301\n",
      "8268     35107  c050101     [1, 0, 1, 0, 1]       5  2.253555\n",
      "8515     35126  c050101        [1, 1, 0, 1]       4  2.232144\n",
      "8759     35163  c050101           [1, 1, 1]       3  2.196257\n",
      "9294     35211  c050101           [1, 1, 1]       3  2.196257\n",
      "9326     35214  c050101     [1, 0, 0, 0, 1]       5  1.551937\n",
      "9450     35261  c050101     [1, 1, 0, 1, 0]       5  2.269815\n",
      "9477     35266  c050101  [0, 1, 1, 0, 1, 0]       6  2.271378\n",
      "9532     35267  c050101     [1, 0, 0, 1, 1]       5  2.239844\n",
      "9723     35269  c050101  [0, 1, 1, 1, 1, 1]       6  3.266516\n",
      "9799     35270  c050101  [0, 1, 0, 0, 1, 0]       6  1.571922\n",
      "10054    35282  c050101     [1, 0, 0, 1, 1]       5  2.239844\n",
      "10098    35284  c050101        [1, 1, 0, 1]       4  2.232144\n",
      "...        ...      ...                 ...     ...       ...\n",
      "72819    50972  c050101  [0, 1, 0, 0, 1, 0]       6  1.571922\n",
      "72955    51022  c050101        [1, 0, 1, 0]       4  1.537519\n",
      "73615    51121  c050101     [1, 1, 1, 1, 0]       5  2.902160\n",
      "73659    51122  c050101  [0, 0, 0, 0, 0, 0]       6  0.110472\n",
      "74101    51179  c050101     [1, 0, 0, 0, 0]       5  0.830386\n",
      "74232    51203  c050101     [1, 0, 0, 1, 1]       5  2.239844\n",
      "74436    51247  c050101     [0, 0, 1, 1, 1]       5  2.177626\n",
      "74781    51297  c050101           [1, 1, 1]       3  2.196257\n",
      "75289    51951  c050101        [1, 1, 0, 1]       4  2.232144\n",
      "75461    51972  c050101     [0, 0, 1, 1, 1]       5  2.177626\n",
      "76113    52073  c050101           [0, 0, 1]       3  0.782703\n",
      "76301    52132  c050101        [0, 1, 1, 1]       4  2.181024\n",
      "76369    52154  c050101        [0, 1, 1, 0]       4  1.527386\n",
      "76634    52254  c050101  [0, 0, 0, 0, 0, 0]       6  0.110472\n",
      "77423    53406  c050101           [1, 1, 1]       3  2.196257\n",
      "77648    53594  c050101           [0, 0, 0]       3  0.054057\n",
      "78603    55003  c050101        [0, 0, 1, 0]       4  0.804831\n",
      "78991    55155  c050101     [1, 0, 1, 0, 0]       5  1.561176\n",
      "79451    55319  c050101        [1, 1, 0, 0]       4  1.541396\n",
      "80010    56193  c050101           [1, 1, 1]       3  2.196257\n",
      "80363    56578  c050101        [1, 0, 1, 1]       4  2.218479\n",
      "80428    56599  c050101  [1, 0, 1, 0, 0, 1]       6  2.284369\n",
      "80795    56884  c050101     [0, 0, 1, 0, 0]       5  0.826120\n",
      "80815    56886  c050101     [1, 0, 0, 1, 1]       5  2.239844\n",
      "80830    56887  c050101        [1, 1, 0, 1]       4  2.232144\n",
      "80848    56888  c050101     [0, 1, 0, 1, 1]       5  2.212860\n",
      "80864    56889  c050101  [1, 1, 0, 0, 0, 0]       6  1.585547\n",
      "81442    57662  c050101     [0, 1, 0, 0, 0]       5  0.828666\n",
      "81572    57837  c050101        [1, 0, 1, 1]       4  2.218479\n",
      "81612    57860  c050101     [1, 0, 0, 0, 1]       5  1.551937\n",
      "\n",
      "[197 rows x 5 columns]\n",
      "       user_id tag_code            is_right  length       ssr\n",
      "0        29110  c050101     [0, 0, 1, 0, 1]       5  1.538016\n",
      "561      29845  c050101        [1, 0, 1, 1]       4  2.232932\n",
      "699      29861  c050101        [1, 1, 0, 1]       4  2.243452\n",
      "1179     30411  c050101     [1, 0, 0, 0, 1]       5  1.552698\n",
      "1277     30525  c050101           [0, 0, 0]       3  0.053625\n",
      "3352     32576  c050101  [1, 1, 1, 1, 1, 0]       6  3.553374\n",
      "3556     32991  c050101     [0, 0, 1, 0, 1]       5  1.538016\n",
      "3604     33031  c050101        [1, 0, 1, 1]       4  2.232932\n",
      "4215     34006  c050101        [1, 0, 1, 0]       4  1.538200\n",
      "4265     34062  c050101           [1, 1, 0]       3  1.519346\n",
      "5217     34719  c050101     [0, 1, 1, 1, 1]       5  2.846008\n",
      "6455     34912  c050101        [0, 1, 1, 0]       4  1.529846\n",
      "6534     34916  c050101     [0, 1, 1, 0, 1]       5  2.241216\n",
      "6739     34920  c050101     [1, 0, 1, 1, 1]       5  2.899471\n",
      "6925     34924  c050101  [0, 1, 1, 1, 1, 1]       6  3.402950\n",
      "7099     34930  c050101     [0, 1, 1, 1, 1]       5  2.846008\n",
      "7188     34932  c050101  [1, 0, 1, 0, 1, 0]       6  2.293129\n",
      "7557     34951  c050101  [0, 1, 1, 1, 1, 0]       6  2.910379\n",
      "8268     35107  c050101     [1, 0, 1, 0, 1]       5  2.261740\n",
      "8515     35126  c050101        [1, 1, 0, 1]       4  2.243452\n",
      "8759     35163  c050101           [1, 1, 1]       3  2.214932\n",
      "9294     35211  c050101           [1, 1, 1]       3  2.214932\n",
      "9326     35214  c050101     [1, 0, 0, 0, 1]       5  1.552698\n",
      "9450     35261  c050101     [1, 1, 0, 1, 0]       5  2.274603\n",
      "9477     35266  c050101  [0, 1, 1, 0, 1, 0]       6  2.277699\n",
      "9532     35267  c050101     [1, 0, 0, 1, 1]       5  2.251239\n",
      "9723     35269  c050101  [0, 1, 1, 1, 1, 1]       6  3.402950\n",
      "9799     35270  c050101  [0, 1, 0, 0, 1, 0]       6  1.571460\n",
      "10054    35282  c050101     [1, 0, 0, 1, 1]       5  2.251239\n",
      "10098    35284  c050101        [1, 1, 0, 1]       4  2.243452\n",
      "...        ...      ...                 ...     ...       ...\n",
      "72819    50972  c050101  [0, 1, 0, 0, 1, 0]       6  1.571460\n",
      "72955    51022  c050101        [1, 0, 1, 0]       4  1.538200\n",
      "73615    51121  c050101     [1, 1, 1, 1, 0]       5  2.936749\n",
      "73659    51122  c050101  [0, 0, 0, 0, 0, 0]       6  0.109587\n",
      "74101    51179  c050101     [1, 0, 0, 0, 0]       5  0.829469\n",
      "74232    51203  c050101     [1, 0, 0, 1, 1]       5  2.251239\n",
      "74436    51247  c050101     [0, 0, 1, 1, 1]       5  2.205927\n",
      "74781    51297  c050101           [1, 1, 1]       3  2.214932\n",
      "75289    51951  c050101        [1, 1, 0, 1]       4  2.243452\n",
      "75461    51972  c050101     [0, 0, 1, 1, 1]       5  2.205927\n",
      "76113    52073  c050101           [0, 0, 1]       3  0.783532\n",
      "76301    52132  c050101        [0, 1, 1, 1]       4  2.206348\n",
      "76369    52154  c050101        [0, 1, 1, 0]       4  1.529846\n",
      "76634    52254  c050101  [0, 0, 0, 0, 0, 0]       6  0.109587\n",
      "77423    53406  c050101           [1, 1, 1]       3  2.214932\n",
      "77648    53594  c050101           [0, 0, 0]       3  0.053625\n",
      "78603    55003  c050101        [0, 0, 1, 0]       4  0.804600\n",
      "78991    55155  c050101     [1, 0, 1, 0, 0]       5  1.560516\n",
      "79451    55319  c050101        [1, 1, 0, 0]       4  1.541564\n",
      "80010    56193  c050101           [1, 1, 1]       3  2.214932\n",
      "80363    56578  c050101        [1, 0, 1, 1]       4  2.232932\n",
      "80428    56599  c050101  [1, 0, 1, 0, 0, 1]       6  2.288352\n",
      "80795    56884  c050101     [0, 0, 1, 0, 0]       5  0.825222\n",
      "80815    56886  c050101     [1, 0, 0, 1, 1]       5  2.251239\n",
      "80830    56887  c050101        [1, 1, 0, 1]       4  2.243452\n",
      "80848    56888  c050101     [0, 1, 0, 1, 1]       5  2.231089\n",
      "80864    56889  c050101  [1, 1, 0, 0, 0, 0]       6  1.584004\n",
      "81442    57662  c050101     [0, 1, 0, 0, 0]       5  0.827672\n",
      "81572    57837  c050101        [1, 0, 1, 1]       4  2.232932\n",
      "81612    57860  c050101     [1, 0, 0, 0, 1]       5  1.552698\n",
      "\n"
     ]
    },
    {
     "name": "stdout",
     "output_type": "stream",
     "text": [
      "[197 rows x 5 columns]\n",
      "       user_id tag_code            is_right  length       ssr\n",
      "0        29110  c050101     [0, 0, 1, 0, 1]       5  1.542259\n",
      "561      29845  c050101        [1, 0, 1, 1]       4  2.246307\n",
      "699      29861  c050101        [1, 1, 0, 1]       4  2.254059\n",
      "1179     30411  c050101     [1, 0, 0, 0, 1]       5  1.553889\n",
      "1277     30525  c050101           [0, 0, 0]       3  0.053164\n",
      "3352     32576  c050101  [1, 1, 1, 1, 1, 0]       6  3.631486\n",
      "3556     32991  c050101     [0, 0, 1, 0, 1]       5  1.542259\n",
      "3604     33031  c050101        [1, 0, 1, 1]       4  2.246307\n",
      "4215     34006  c050101        [1, 0, 1, 0]       4  1.539294\n",
      "4265     34062  c050101           [1, 1, 0]       3  1.521400\n",
      "5217     34719  c050101     [0, 1, 1, 1, 1]       5  2.906895\n",
      "6455     34912  c050101        [0, 1, 1, 0]       4  1.532781\n",
      "6534     34916  c050101     [0, 1, 1, 0, 1]       5  2.255949\n",
      "6739     34920  c050101     [1, 0, 1, 1, 1]       5  2.941275\n",
      "6925     34924  c050101  [0, 1, 1, 1, 1, 1]       6  3.527014\n",
      "7099     34930  c050101     [0, 1, 1, 1, 1]       5  2.906895\n",
      "7188     34932  c050101  [1, 0, 1, 0, 1, 0]       6  2.297066\n",
      "7557     34951  c050101  [0, 1, 1, 1, 1, 0]       6  2.952062\n",
      "8268     35107  c050101     [1, 0, 1, 0, 1]       5  2.270318\n",
      "8515     35126  c050101        [1, 1, 0, 1]       4  2.254059\n",
      "8759     35163  c050101           [1, 1, 1]       3  2.230758\n",
      "9294     35211  c050101           [1, 1, 1]       3  2.230758\n",
      "9326     35214  c050101     [1, 0, 0, 0, 1]       5  1.553889\n",
      "9450     35261  c050101     [1, 1, 0, 1, 0]       5  2.280214\n",
      "9477     35266  c050101  [0, 1, 1, 0, 1, 0]       6  2.285540\n",
      "9532     35267  c050101     [1, 0, 0, 1, 1]       5  2.262618\n",
      "9723     35269  c050101  [0, 1, 1, 1, 1, 1]       6  3.527014\n",
      "9799     35270  c050101  [0, 1, 0, 0, 1, 0]       6  1.571711\n",
      "10054    35282  c050101     [1, 0, 0, 1, 1]       5  2.262618\n",
      "10098    35284  c050101        [1, 1, 0, 1]       4  2.254059\n",
      "...        ...      ...                 ...     ...       ...\n",
      "72819    50972  c050101  [0, 1, 0, 0, 1, 0]       6  1.571711\n",
      "72955    51022  c050101        [1, 0, 1, 0]       4  1.539294\n",
      "73615    51121  c050101     [1, 1, 1, 1, 0]       5  2.967675\n",
      "73659    51122  c050101  [0, 0, 0, 0, 0, 0]       6  0.108551\n",
      "74101    51179  c050101     [1, 0, 0, 0, 0]       5  0.828525\n",
      "74232    51203  c050101     [1, 0, 0, 1, 1]       5  2.262618\n",
      "74436    51247  c050101     [0, 0, 1, 1, 1]       5  2.231571\n",
      "74781    51297  c050101           [1, 1, 1]       3  2.230758\n",
      "75289    51951  c050101        [1, 1, 0, 1]       4  2.254059\n",
      "75461    51972  c050101     [0, 0, 1, 1, 1]       5  2.231571\n",
      "76113    52073  c050101           [0, 0, 1]       3  0.784494\n",
      "76301    52132  c050101        [0, 1, 1, 1]       4  2.228575\n",
      "76369    52154  c050101        [0, 1, 1, 0]       4  1.532781\n",
      "76634    52254  c050101  [0, 0, 0, 0, 0, 0]       6  0.108551\n",
      "77423    53406  c050101           [1, 1, 1]       3  2.230758\n",
      "77648    53594  c050101           [0, 0, 0]       3  0.053164\n",
      "78603    55003  c050101        [0, 0, 1, 0]       4  0.804574\n",
      "78991    55155  c050101     [1, 0, 1, 0, 0]       5  1.560319\n",
      "79451    55319  c050101        [1, 1, 0, 0]       4  1.542149\n",
      "80010    56193  c050101           [1, 1, 1]       3  2.230758\n",
      "80363    56578  c050101        [1, 0, 1, 1]       4  2.246307\n",
      "80428    56599  c050101  [1, 0, 1, 0, 0, 1]       6  2.293424\n",
      "80795    56884  c050101     [0, 0, 1, 0, 0]       5  0.824487\n",
      "80815    56886  c050101     [1, 0, 0, 1, 1]       5  2.262618\n",
      "80830    56887  c050101        [1, 1, 0, 1]       4  2.254059\n",
      "80848    56888  c050101     [0, 1, 0, 1, 1]       5  2.248481\n",
      "80864    56889  c050101  [1, 1, 0, 0, 0, 0]       6  1.582813\n",
      "81442    57662  c050101     [0, 1, 0, 0, 0]       5  0.826744\n",
      "81572    57837  c050101        [1, 0, 1, 1]       4  2.246307\n",
      "81612    57860  c050101     [1, 0, 0, 0, 1]       5  1.553889\n",
      "\n",
      "[197 rows x 5 columns]\n",
      "       user_id tag_code            is_right  length       ssr\n",
      "0        29110  c050101     [0, 0, 1, 0, 1]       5  1.546934\n",
      "561      29845  c050101        [1, 0, 1, 1]       4  2.258349\n",
      "699      29861  c050101        [1, 1, 0, 1]       4  2.263698\n",
      "1179     30411  c050101     [1, 0, 0, 0, 1]       5  1.555521\n",
      "1277     30525  c050101           [0, 0, 0]       3  0.052671\n",
      "3352     32576  c050101  [1, 1, 1, 1, 1, 0]       6  3.695663\n",
      "3556     32991  c050101     [0, 0, 1, 0, 1]       5  1.546934\n",
      "3604     33031  c050101        [1, 0, 1, 1]       4  2.258349\n",
      "4215     34006  c050101        [1, 0, 1, 0]       4  1.540743\n",
      "4265     34062  c050101           [1, 1, 0]       3  1.523553\n",
      "5217     34719  c050101     [0, 1, 1, 1, 1]       5  2.956762\n",
      "6455     34912  c050101        [0, 1, 1, 0]       4  1.536030\n",
      "6534     34916  c050101     [0, 1, 1, 0, 1]       5  2.269716\n",
      "6739     34920  c050101     [1, 0, 1, 1, 1]       5  2.976441\n",
      "6925     34924  c050101  [0, 1, 1, 1, 1, 1]       6  3.631580\n",
      "7099     34930  c050101     [0, 1, 1, 1, 1]       5  2.956762\n",
      "7188     34932  c050101  [1, 0, 1, 0, 1, 0]       6  2.302016\n",
      "7557     34951  c050101  [0, 1, 1, 1, 1, 0]       6  2.988634\n",
      "8268     35107  c050101     [1, 0, 1, 0, 1]       5  2.278929\n",
      "8515     35126  c050101        [1, 1, 0, 1]       4  2.263698\n",
      "8759     35163  c050101           [1, 1, 1]       3  2.243837\n",
      "9294     35211  c050101           [1, 1, 1]       3  2.243837\n",
      "9326     35214  c050101     [1, 0, 0, 0, 1]       5  1.555521\n",
      "9450     35261  c050101     [1, 1, 0, 1, 0]       5  2.286177\n",
      "9477     35266  c050101  [0, 1, 1, 0, 1, 0]       6  2.294194\n",
      "9532     35267  c050101     [1, 0, 0, 1, 1]       5  2.273635\n",
      "9723     35269  c050101  [0, 1, 1, 1, 1, 1]       6  3.631580\n",
      "9799     35270  c050101  [0, 1, 0, 0, 1, 0]       6  1.572702\n",
      "10054    35282  c050101     [1, 0, 0, 1, 1]       5  2.273635\n",
      "10098    35284  c050101        [1, 1, 0, 1]       4  2.263698\n",
      "...        ...      ...                 ...     ...       ...\n",
      "72819    50972  c050101  [0, 1, 0, 0, 1, 0]       6  1.572702\n",
      "72955    51022  c050101        [1, 0, 1, 0]       4  1.540743\n",
      "73615    51121  c050101     [1, 1, 1, 1, 0]       5  2.993954\n",
      "73659    51122  c050101  [0, 0, 0, 0, 0, 0]       6  0.107343\n",
      "74101    51179  c050101     [1, 0, 0, 0, 0]       5  0.827571\n",
      "74232    51203  c050101     [1, 0, 0, 1, 1]       5  2.273635\n",
      "74436    51247  c050101     [0, 0, 1, 1, 1]       5  2.254114\n",
      "74781    51297  c050101           [1, 1, 1]       3  2.243837\n",
      "75289    51951  c050101        [1, 1, 0, 1]       4  2.263698\n",
      "75461    51972  c050101     [0, 0, 1, 1, 1]       5  2.254114\n",
      "76113    52073  c050101           [0, 0, 1]       3  0.785598\n",
      "76301    52132  c050101        [0, 1, 1, 1]       4  2.247505\n",
      "76369    52154  c050101        [0, 1, 1, 0]       4  1.536030\n",
      "76634    52254  c050101  [0, 0, 0, 0, 0, 0]       6  0.107343\n",
      "77423    53406  c050101           [1, 1, 1]       3  2.243837\n",
      "77648    53594  c050101           [0, 0, 0]       3  0.052671\n",
      "78603    55003  c050101        [0, 0, 1, 0]       4  0.804774\n",
      "78991    55155  c050101     [1, 0, 1, 0, 0]       5  1.560574\n",
      "79451    55319  c050101        [1, 1, 0, 0]       4  1.543064\n",
      "80010    56193  c050101           [1, 1, 1]       3  2.243837\n",
      "80363    56578  c050101        [1, 0, 1, 1]       4  2.258349\n",
      "80428    56599  c050101  [1, 0, 1, 0, 0, 1]       6  2.299309\n",
      "80795    56884  c050101     [0, 0, 1, 0, 0]       5  0.823960\n",
      "80815    56886  c050101     [1, 0, 0, 1, 1]       5  2.273635\n",
      "80830    56887  c050101        [1, 1, 0, 1]       4  2.263698\n",
      "80848    56888  c050101     [0, 1, 0, 1, 1]       5  2.264544\n",
      "80864    56889  c050101  [1, 1, 0, 0, 0, 0]       6  1.581968\n",
      "81442    57662  c050101     [0, 1, 0, 0, 0]       5  0.825921\n",
      "81572    57837  c050101        [1, 0, 1, 1]       4  2.258349\n",
      "81612    57860  c050101     [1, 0, 0, 0, 1]       5  1.555521\n",
      "\n",
      "[197 rows x 5 columns]\n",
      "       user_id tag_code            is_right  length       ssr\n",
      "0        29110  c050101     [0, 0, 1, 0, 1]       5  1.551909\n",
      "561      29845  c050101        [1, 0, 1, 1]       4  2.268853\n",
      "699      29861  c050101        [1, 1, 0, 1]       4  2.272171\n",
      "1179     30411  c050101     [1, 0, 0, 0, 1]       5  1.557592\n",
      "1277     30525  c050101           [0, 0, 0]       3  0.052148\n",
      "3352     32576  c050101  [1, 1, 1, 1, 1, 0]       6  3.743913\n",
      "3556     32991  c050101     [0, 0, 1, 0, 1]       5  1.551909\n",
      "3604     33031  c050101        [1, 0, 1, 1]       4  2.268853\n",
      "4215     34006  c050101        [1, 0, 1, 0]       4  1.542483\n",
      "4265     34062  c050101           [1, 1, 0]       3  1.525718\n",
      "5217     34719  c050101     [0, 1, 1, 1, 1]       5  2.994925\n",
      "6455     34912  c050101        [0, 1, 1, 0]       4  1.539434\n",
      "6534     34916  c050101     [0, 1, 1, 0, 1]       5  2.282051\n",
      "6739     34920  c050101     [1, 0, 1, 1, 1]       5  3.004431\n",
      "6925     34924  c050101  [0, 1, 1, 1, 1, 1]       6  3.710894\n",
      "7099     34930  c050101     [0, 1, 1, 1, 1]       5  2.994925\n",
      "7188     34932  c050101  [1, 0, 1, 0, 1, 0]       6  2.307573\n",
      "7557     34951  c050101  [0, 1, 1, 1, 1, 0]       6  3.018595\n",
      "8268     35107  c050101     [1, 0, 1, 0, 1]       5  2.287220\n",
      "8515     35126  c050101        [1, 1, 0, 1]       4  2.272171\n",
      "8759     35163  c050101           [1, 1, 1]       3  2.254324\n",
      "9294     35211  c050101           [1, 1, 1]       3  2.254324\n",
      "9326     35214  c050101     [1, 0, 0, 0, 1]       5  1.557592\n",
      "9450     35261  c050101     [1, 1, 0, 1, 0]       5  2.292076\n",
      "9477     35266  c050101  [0, 1, 1, 0, 1, 0]       6  2.302955\n",
      "9532     35267  c050101     [1, 0, 0, 1, 1]       5  2.283943\n",
      "9723     35269  c050101  [0, 1, 1, 1, 1, 1]       6  3.710894\n",
      "9799     35270  c050101  [0, 1, 0, 0, 1, 0]       6  1.574421\n",
      "10054    35282  c050101     [1, 0, 0, 1, 1]       5  2.283943\n",
      "10098    35284  c050101        [1, 1, 0, 1]       4  2.272171\n",
      "...        ...      ...                 ...     ...       ...\n",
      "72819    50972  c050101  [0, 1, 0, 0, 1, 0]       6  1.574421\n",
      "72955    51022  c050101        [1, 0, 1, 0]       4  1.542483\n",
      "73615    51121  c050101     [1, 1, 1, 1, 0]       5  3.014897\n",
      "73659    51122  c050101  [0, 0, 0, 0, 0, 0]       6  0.105939\n",
      "74101    51179  c050101     [1, 0, 0, 0, 0]       5  0.826628\n",
      "74232    51203  c050101     [1, 0, 0, 1, 1]       5  2.283943\n",
      "74436    51247  c050101     [0, 0, 1, 1, 1]       5  2.273187\n",
      "74781    51297  c050101           [1, 1, 1]       3  2.254324\n",
      "75289    51951  c050101        [1, 1, 0, 1]       4  2.272171\n",
      "75461    51972  c050101     [0, 0, 1, 1, 1]       5  2.273187\n",
      "76113    52073  c050101           [0, 0, 1]       3  0.786851\n",
      "76301    52132  c050101        [0, 1, 1, 1]       4  2.263046\n",
      "76369    52154  c050101        [0, 1, 1, 0]       4  1.539434\n",
      "76634    52254  c050101  [0, 0, 0, 0, 0, 0]       6  0.105939\n",
      "77423    53406  c050101           [1, 1, 1]       3  2.254324\n",
      "77648    53594  c050101           [0, 0, 0]       3  0.052148\n",
      "78603    55003  c050101        [0, 0, 1, 0]       4  0.805224\n",
      "78991    55155  c050101     [1, 0, 1, 0, 0]       5  1.561257\n",
      "79451    55319  c050101        [1, 1, 0, 0]       4  1.544221\n",
      "80010    56193  c050101           [1, 1, 1]       3  2.254324\n",
      "80363    56578  c050101        [1, 0, 1, 1]       4  2.268853\n",
      "80428    56599  c050101  [1, 0, 1, 0, 0, 1]       6  2.305681\n",
      "80795    56884  c050101     [0, 0, 1, 0, 0]       5  0.823690\n",
      "80815    56886  c050101     [1, 0, 0, 1, 1]       5  2.283943\n",
      "80830    56887  c050101        [1, 1, 0, 1]       4  2.272171\n",
      "80848    56888  c050101     [0, 1, 0, 1, 1]       5  2.278823\n",
      "80864    56889  c050101  [1, 1, 0, 0, 0, 0]       6  1.581455\n",
      "81442    57662  c050101     [0, 1, 0, 0, 0]       5  0.825243\n",
      "81572    57837  c050101        [1, 0, 1, 1]       4  2.268853\n",
      "81612    57860  c050101     [1, 0, 0, 0, 1]       5  1.557592\n",
      "\n"
     ]
    },
    {
     "name": "stdout",
     "output_type": "stream",
     "text": [
      "[197 rows x 5 columns]\n",
      "       user_id tag_code            is_right  length       ssr\n",
      "0        29110  c050101     [0, 0, 1, 0, 1]       5  1.557022\n",
      "561      29845  c050101        [1, 0, 1, 1]       4  2.277673\n",
      "699      29861  c050101        [1, 1, 0, 1]       4  2.279349\n",
      "1179     30411  c050101     [1, 0, 0, 0, 1]       5  1.560080\n",
      "1277     30525  c050101           [0, 0, 0]       3  0.051593\n",
      "3352     32576  c050101  [1, 1, 1, 1, 1, 0]       6  3.776378\n",
      "3556     32991  c050101     [0, 0, 1, 0, 1]       5  1.557022\n",
      "3604     33031  c050101        [1, 0, 1, 1]       4  2.277673\n",
      "4215     34006  c050101        [1, 0, 1, 0]       4  1.544438\n",
      "4265     34062  c050101           [1, 1, 0]       3  1.527819\n",
      "5217     34719  c050101     [0, 1, 1, 1, 1]       5  3.021807\n",
      "6455     34912  c050101        [0, 1, 1, 0]       4  1.542838\n",
      "6534     34916  c050101     [0, 1, 1, 0, 1]       5  2.292580\n",
      "6739     34920  c050101     [1, 0, 1, 1, 1]       5  3.025258\n",
      "6925     34924  c050101  [0, 1, 1, 1, 1, 1]       6  3.763415\n",
      "7099     34930  c050101     [0, 1, 1, 1, 1]       5  3.021807\n",
      "7188     34932  c050101  [1, 0, 1, 0, 1, 0]       6  2.313316\n",
      "7557     34951  c050101  [0, 1, 1, 1, 1, 0]       6  3.041082\n",
      "8268     35107  c050101     [1, 0, 1, 0, 1]       5  2.294862\n",
      "8515     35126  c050101        [1, 1, 0, 1]       4  2.279349\n",
      "8759     35163  c050101           [1, 1, 1]       3  2.262429\n",
      "9294     35211  c050101           [1, 1, 1]       3  2.262429\n",
      "9326     35214  c050101     [1, 0, 0, 0, 1]       5  1.560080\n",
      "9450     35261  c050101     [1, 1, 0, 1, 0]       5  2.297566\n",
      "9477     35266  c050101  [0, 1, 1, 0, 1, 0]       6  2.311180\n",
      "9532     35267  c050101     [1, 0, 0, 1, 1]       5  2.293207\n",
      "9723     35269  c050101  [0, 1, 1, 1, 1, 1]       6  3.763415\n",
      "9799     35270  c050101  [0, 1, 0, 0, 1, 0]       6  1.576808\n",
      "10054    35282  c050101     [1, 0, 0, 1, 1]       5  2.293207\n",
      "10098    35284  c050101        [1, 1, 0, 1]       4  2.279349\n",
      "...        ...      ...                 ...     ...       ...\n",
      "72819    50972  c050101  [0, 1, 0, 0, 1, 0]       6  1.576808\n",
      "72955    51022  c050101        [1, 0, 1, 0]       4  1.544438\n",
      "73615    51121  c050101     [1, 1, 1, 1, 0]       5  3.030368\n",
      "73659    51122  c050101  [0, 0, 0, 0, 0, 0]       6  0.104313\n",
      "74101    51179  c050101     [1, 0, 0, 0, 0]       5  0.825723\n",
      "74232    51203  c050101     [1, 0, 0, 1, 1]       5  2.293207\n",
      "74436    51247  c050101     [0, 0, 1, 1, 1]       5  2.288541\n",
      "74781    51297  c050101           [1, 1, 1]       3  2.262429\n",
      "75289    51951  c050101        [1, 1, 0, 1]       4  2.279349\n",
      "75461    51972  c050101     [0, 0, 1, 1, 1]       5  2.288541\n",
      "76113    52073  c050101           [0, 0, 1]       3  0.788264\n",
      "76301    52132  c050101        [0, 1, 1, 1]       4  2.275225\n",
      "76369    52154  c050101        [0, 1, 1, 0]       4  1.542838\n",
      "76634    52254  c050101  [0, 0, 0, 0, 0, 0]       6  0.104313\n",
      "77423    53406  c050101           [1, 1, 1]       3  2.262429\n",
      "77648    53594  c050101           [0, 0, 0]       3  0.051593\n",
      "78603    55003  c050101        [0, 0, 1, 0]       4  0.805947\n",
      "78991    55155  c050101     [1, 0, 1, 0, 0]       5  1.562321\n",
      "79451    55319  c050101        [1, 1, 0, 0]       4  1.545532\n",
      "80010    56193  c050101           [1, 1, 1]       3  2.262429\n",
      "80363    56578  c050101        [1, 0, 1, 1]       4  2.277673\n",
      "80428    56599  c050101  [1, 0, 1, 0, 0, 1]       6  2.312186\n",
      "80795    56884  c050101     [0, 0, 1, 0, 0]       5  0.823731\n",
      "80815    56886  c050101     [1, 0, 0, 1, 1]       5  2.293207\n",
      "80830    56887  c050101        [1, 1, 0, 1]       4  2.279349\n",
      "80848    56888  c050101     [0, 1, 0, 1, 1]       5  2.290937\n",
      "80864    56889  c050101  [1, 1, 0, 0, 0, 0]       6  1.581247\n",
      "81442    57662  c050101     [0, 1, 0, 0, 0]       5  0.824757\n",
      "81572    57837  c050101        [1, 0, 1, 1]       4  2.277673\n",
      "81612    57860  c050101     [1, 0, 0, 0, 1]       5  1.560080\n",
      "\n",
      "[197 rows x 5 columns]\n",
      "       user_id tag_code            is_right  length       ssr\n",
      "0        29110  c050101     [0, 0, 1, 0, 1]       5  1.562072\n",
      "561      29845  c050101        [1, 0, 1, 1]       4  2.284733\n",
      "699      29861  c050101        [1, 1, 0, 1]       4  2.285181\n",
      "1179     30411  c050101     [1, 0, 0, 0, 1]       5  1.562945\n",
      "1277     30525  c050101           [0, 0, 0]       3  0.051006\n",
      "3352     32576  c050101  [1, 1, 1, 1, 1, 0]       6  3.795564\n",
      "3556     32991  c050101     [0, 0, 1, 0, 1]       5  1.562072\n",
      "3604     33031  c050101        [1, 0, 1, 1]       4  2.284733\n",
      "4215     34006  c050101        [1, 0, 1, 0]       4  1.546529\n",
      "4265     34062  c050101           [1, 1, 0]       3  1.529787\n",
      "5217     34719  c050101     [0, 1, 1, 1, 1]       5  3.038916\n",
      "6455     34912  c050101        [0, 1, 1, 0]       4  1.546085\n",
      "6534     34916  c050101     [0, 1, 1, 0, 1]       5  2.301060\n",
      "6739     34920  c050101     [1, 0, 1, 1, 1]       5  3.039513\n",
      "6925     34924  c050101  [0, 1, 1, 1, 1, 1]       6  3.792986\n",
      "7099     34930  c050101     [0, 1, 1, 1, 1]       5  3.038916\n",
      "7188     34932  c050101  [1, 0, 1, 0, 1, 0]       6  2.318838\n",
      "7557     34951  c050101  [0, 1, 1, 1, 1, 0]       6  3.056242\n",
      "8268     35107  c050101     [1, 0, 1, 0, 1]       5  2.301569\n",
      "8515     35126  c050101        [1, 1, 0, 1]       4  2.285181\n",
      "8759     35163  c050101           [1, 1, 1]       3  2.268412\n",
      "9294     35211  c050101           [1, 1, 1]       3  2.268412\n",
      "9326     35214  c050101     [1, 0, 0, 0, 1]       5  1.562945\n",
      "9450     35261  c050101     [1, 1, 0, 1, 0]       5  2.302390\n",
      "9477     35266  c050101  [0, 1, 1, 0, 1, 0]       6  2.318340\n",
      "9532     35267  c050101     [1, 0, 0, 1, 1]       5  2.301125\n",
      "9723     35269  c050101  [0, 1, 1, 1, 1, 1]       6  3.792986\n",
      "9799     35270  c050101  [0, 1, 0, 0, 1, 0]       6  1.579760\n",
      "10054    35282  c050101     [1, 0, 0, 1, 1]       5  2.301125\n",
      "10098    35284  c050101        [1, 1, 0, 1]       4  2.285181\n",
      "...        ...      ...                 ...     ...       ...\n",
      "72819    50972  c050101  [0, 1, 0, 0, 1, 0]       6  1.579760\n",
      "72955    51022  c050101        [1, 0, 1, 0]       4  1.546529\n",
      "73615    51121  c050101     [1, 1, 1, 1, 0]       5  3.040848\n",
      "73659    51122  c050101  [0, 0, 0, 0, 0, 0]       6  0.102439\n",
      "74101    51179  c050101     [1, 0, 0, 0, 0]       5  0.824884\n",
      "74232    51203  c050101     [1, 0, 0, 1, 1]       5  2.301125\n",
      "74436    51247  c050101     [0, 0, 1, 1, 1]       5  2.300102\n",
      "74781    51297  c050101           [1, 1, 1]       3  2.268412\n",
      "75289    51951  c050101        [1, 1, 0, 1]       4  2.285181\n",
      "75461    51972  c050101     [0, 0, 1, 1, 1]       5  2.300102\n",
      "76113    52073  c050101           [0, 0, 1]       3  0.789844\n",
      "76301    52132  c050101        [0, 1, 1, 1]       4  2.284211\n",
      "76369    52154  c050101        [0, 1, 1, 0]       4  1.546085\n",
      "76634    52254  c050101  [0, 0, 0, 0, 0, 0]       6  0.102439\n",
      "77423    53406  c050101           [1, 1, 1]       3  2.268412\n",
      "77648    53594  c050101           [0, 0, 0]       3  0.051006\n",
      "78603    55003  c050101        [0, 0, 1, 0]       4  0.806969\n",
      "78991    55155  c050101     [1, 0, 1, 0, 0]       5  1.563709\n",
      "79451    55319  c050101        [1, 1, 0, 0]       4  1.546912\n",
      "80010    56193  c050101           [1, 1, 1]       3  2.268412\n",
      "80363    56578  c050101        [1, 0, 1, 1]       4  2.284733\n",
      "80428    56599  c050101  [1, 0, 1, 0, 0, 1]       6  2.318459\n",
      "80795    56884  c050101     [0, 0, 1, 0, 0]       5  0.824138\n",
      "80815    56886  c050101     [1, 0, 0, 1, 1]       5  2.301125\n",
      "80830    56887  c050101        [1, 1, 0, 1]       4  2.285181\n",
      "80848    56888  c050101     [0, 1, 0, 1, 1]       5  2.300617\n",
      "80864    56889  c050101  [1, 1, 0, 0, 0, 0]       6  1.581298\n",
      "81442    57662  c050101     [0, 1, 0, 0, 0]       5  0.824514\n",
      "81572    57837  c050101        [1, 0, 1, 1]       4  2.284733\n",
      "81612    57860  c050101     [1, 0, 0, 0, 1]       5  1.562945\n",
      "\n",
      "[197 rows x 5 columns]\n",
      "       user_id tag_code            is_right  length       ssr\n",
      "0        29110  c050101     [0, 0, 1, 0, 1]       5  1.566818\n",
      "561      29845  c050101        [1, 0, 1, 1]       4  2.290035\n",
      "699      29861  c050101        [1, 1, 0, 1]       4  2.289701\n",
      "1179     30411  c050101     [1, 0, 0, 0, 1]       5  1.566123\n",
      "1277     30525  c050101           [0, 0, 0]       3  0.050386\n",
      "3352     32576  c050101  [1, 1, 1, 1, 1, 0]       6  3.805425\n",
      "3556     32991  c050101     [0, 0, 1, 0, 1]       5  1.566818\n",
      "3604     33031  c050101        [1, 0, 1, 1]       4  2.290035\n",
      "4215     34006  c050101        [1, 0, 1, 0]       4  1.548672\n",
      "4265     34062  c050101           [1, 1, 0]       3  1.531556\n",
      "5217     34719  c050101     [0, 1, 1, 1, 1]       5  3.048526\n",
      "6455     34912  c050101        [0, 1, 1, 0]       4  1.549016\n",
      "6534     34916  c050101     [0, 1, 1, 0, 1]       5  2.307414\n",
      "6739     34920  c050101     [1, 0, 1, 1, 1]       5  3.048282\n",
      "6925     34924  c050101  [0, 1, 1, 1, 1, 1]       6  3.806874\n",
      "7099     34930  c050101     [0, 1, 1, 1, 1]       5  3.048526\n",
      "7188     34932  c050101  [1, 0, 1, 0, 1, 0]       6  2.323775\n",
      "7557     34951  c050101  [0, 1, 1, 1, 1, 0]       6  3.065211\n",
      "8268     35107  c050101     [1, 0, 1, 0, 1]       5  2.307121\n",
      "8515     35126  c050101        [1, 1, 0, 1]       4  2.289701\n",
      "8759     35163  c050101           [1, 1, 1]       3  2.272574\n",
      "9294     35211  c050101           [1, 1, 1]       3  2.272574\n",
      "9326     35214  c050101     [1, 0, 0, 0, 1]       5  1.566123\n",
      "9450     35261  c050101     [1, 1, 0, 1, 0]       5  2.306393\n",
      "9477     35266  c050101  [0, 1, 1, 0, 1, 0]       6  2.324074\n",
      "9532     35267  c050101     [1, 0, 0, 1, 1]       5  2.307452\n",
      "9723     35269  c050101  [0, 1, 1, 1, 1, 1]       6  3.806874\n",
      "9799     35270  c050101  [0, 1, 0, 0, 1, 0]       6  1.583116\n",
      "10054    35282  c050101     [1, 0, 0, 1, 1]       5  2.307452\n",
      "10098    35284  c050101        [1, 1, 0, 1]       4  2.289701\n",
      "...        ...      ...                 ...     ...       ...\n",
      "72819    50972  c050101  [0, 1, 0, 0, 1, 0]       6  1.583116\n",
      "72955    51022  c050101        [1, 0, 1, 0]       4  1.548672\n",
      "73615    51121  c050101     [1, 1, 1, 1, 0]       5  3.047278\n",
      "73659    51122  c050101  [0, 0, 0, 0, 0, 0]       6  0.100290\n",
      "74101    51179  c050101     [1, 0, 0, 0, 0]       5  0.824146\n",
      "74232    51203  c050101     [1, 0, 0, 1, 1]       5  2.307452\n",
      "74436    51247  c050101     [0, 0, 1, 1, 1]       5  2.308030\n",
      "74781    51297  c050101           [1, 1, 1]       3  2.272574\n",
      "75289    51951  c050101        [1, 1, 0, 1]       4  2.289701\n",
      "75461    51972  c050101     [0, 0, 1, 1, 1]       5  2.308030\n",
      "76113    52073  c050101           [0, 0, 1]       3  0.791601\n",
      "76301    52132  c050101        [0, 1, 1, 1]       4  2.290322\n",
      "76369    52154  c050101        [0, 1, 1, 0]       4  1.549016\n",
      "76634    52254  c050101  [0, 0, 0, 0, 0, 0]       6  0.100290\n",
      "77423    53406  c050101           [1, 1, 1]       3  2.272574\n",
      "77648    53594  c050101           [0, 0, 0]       3  0.050386\n",
      "78603    55003  c050101        [0, 0, 1, 0]       4  0.808316\n",
      "78991    55155  c050101     [1, 0, 1, 0, 0]       5  1.565341\n",
      "79451    55319  c050101        [1, 1, 0, 0]       4  1.548271\n",
      "80010    56193  c050101           [1, 1, 1]       3  2.272574\n",
      "80363    56578  c050101        [1, 0, 1, 1]       4  2.290035\n",
      "80428    56599  c050101  [1, 0, 1, 0, 0, 1]       6  2.324157\n",
      "80795    56884  c050101     [0, 0, 1, 0, 0]       5  0.824978\n",
      "80815    56886  c050101     [1, 0, 0, 1, 1]       5  2.307452\n",
      "80830    56887  c050101        [1, 1, 0, 1]       4  2.289701\n",
      "80848    56888  c050101     [0, 1, 0, 1, 1]       5  2.307746\n",
      "80864    56889  c050101  [1, 1, 0, 0, 0, 0]       6  1.581538\n",
      "81442    57662  c050101     [0, 1, 0, 0, 0]       5  0.824569\n",
      "81572    57837  c050101        [1, 0, 1, 1]       4  2.290035\n",
      "81612    57860  c050101     [1, 0, 0, 0, 1]       5  1.566123\n",
      "\n",
      "[197 rows x 5 columns]"
     ]
    },
    {
     "ename": "KeyboardInterrupt",
     "evalue": "",
     "output_type": "error",
     "traceback": [
      "\u001b[1;31m---------------------------------------------------------------------------\u001b[0m",
      "\u001b[1;31mKeyboardInterrupt\u001b[0m                         Traceback (most recent call last)",
      "\u001b[1;32m<ipython-input-145-e033dc6aa6b5>\u001b[0m in \u001b[0;36m<module>\u001b[1;34m()\u001b[0m\n\u001b[0;32m      4\u001b[0m     \u001b[0mtp\u001b[0m\u001b[1;33m=\u001b[0m\u001b[0mdf1\u001b[0m\u001b[1;33m[\u001b[0m\u001b[0mdf1\u001b[0m\u001b[1;33m[\u001b[0m\u001b[1;34m'tag_code'\u001b[0m\u001b[1;33m]\u001b[0m\u001b[1;33m==\u001b[0m\u001b[0mi\u001b[0m\u001b[1;33m]\u001b[0m\u001b[1;33m\u001b[0m\u001b[0m\n\u001b[0;32m      5\u001b[0m \u001b[1;31m#     print('for tag code ', i, 'shape is', tp.shape)\u001b[0m\u001b[1;33m\u001b[0m\u001b[1;33m\u001b[0m\u001b[0m\n\u001b[1;32m----> 6\u001b[1;33m     \u001b[0mparameters\u001b[0m\u001b[1;33m[\u001b[0m\u001b[0mi\u001b[0m\u001b[1;33m]\u001b[0m \u001b[1;33m=\u001b[0m \u001b[0mbruteforece_bkt\u001b[0m\u001b[1;33m(\u001b[0m\u001b[0mtp\u001b[0m\u001b[1;33m,\u001b[0m \u001b[0mssr\u001b[0m\u001b[1;33m,\u001b[0m \u001b[0ml0_range\u001b[0m\u001b[1;33m,\u001b[0m \u001b[0mtrans_range\u001b[0m\u001b[1;33m,\u001b[0m \u001b[0mguess_range\u001b[0m\u001b[1;33m,\u001b[0m \u001b[0mslip_range\u001b[0m\u001b[1;33m,\u001b[0m \u001b[0mstep_size\u001b[0m\u001b[1;33m)\u001b[0m\u001b[1;33m\u001b[0m\u001b[0m\n\u001b[0m",
      "\u001b[1;32m<ipython-input-142-ee30e3b5a504>\u001b[0m in \u001b[0;36mbruteforece_bkt\u001b[1;34m(df, ssr, l0_range, trans_range, guess_range, slip_range, step_size)\u001b[0m\n\u001b[0;32m      7\u001b[0m         \u001b[0mmy_partial\u001b[0m \u001b[1;33m=\u001b[0m \u001b[0mpartial\u001b[0m\u001b[1;33m(\u001b[0m\u001b[0mssr\u001b[0m\u001b[1;33m,\u001b[0m \u001b[0mdf\u001b[0m\u001b[1;33m)\u001b[0m\u001b[1;33m\u001b[0m\u001b[0m\n\u001b[0;32m      8\u001b[0m         \u001b[0mprint\u001b[0m\u001b[1;33m(\u001b[0m\u001b[1;34m'start brute force'\u001b[0m\u001b[1;33m)\u001b[0m\u001b[1;33m\u001b[0m\u001b[0m\n\u001b[1;32m----> 9\u001b[1;33m         \u001b[0mfitting\u001b[0m \u001b[1;33m=\u001b[0m \u001b[0mbrute\u001b[0m\u001b[1;33m(\u001b[0m\u001b[0mmy_partial\u001b[0m\u001b[1;33m,\u001b[0m \u001b[0mpranges\u001b[0m\u001b[1;33m,\u001b[0m \u001b[0mfull_output\u001b[0m\u001b[1;33m=\u001b[0m\u001b[1;32mTrue\u001b[0m\u001b[1;33m,\u001b[0m \u001b[0mfinish\u001b[0m\u001b[1;33m=\u001b[0m\u001b[1;32mNone\u001b[0m\u001b[1;33m)\u001b[0m \u001b[1;31m# if not finish=None, it may search parameters outside the range for minimum values\u001b[0m\u001b[1;33m\u001b[0m\u001b[0m\n\u001b[0m\u001b[0;32m     10\u001b[0m         \u001b[0mprint\u001b[0m\u001b[1;33m(\u001b[0m\u001b[1;34m'complete process parameters are'\u001b[0m\u001b[1;33m,\u001b[0m \u001b[0mfitting\u001b[0m\u001b[1;33m[\u001b[0m\u001b[1;36m0\u001b[0m\u001b[1;33m]\u001b[0m\u001b[1;33m,\u001b[0m \u001b[0mfitting\u001b[0m\u001b[1;33m[\u001b[0m\u001b[1;36m1\u001b[0m\u001b[1;33m]\u001b[0m\u001b[1;33m)\u001b[0m\u001b[1;33m\u001b[0m\u001b[0m\n\u001b[0;32m     11\u001b[0m         \u001b[1;32mreturn\u001b[0m \u001b[0mfitting\u001b[0m\u001b[1;33m[\u001b[0m\u001b[1;36m0\u001b[0m\u001b[1;33m]\u001b[0m\u001b[1;33m\u001b[0m\u001b[0m\n",
      "\u001b[1;32mC:\\ProgramData\\Anaconda3\\lib\\site-packages\\scipy\\optimize\\optimize.py\u001b[0m in \u001b[0;36mbrute\u001b[1;34m(func, ranges, args, Ns, full_output, finish, disp)\u001b[0m\n\u001b[0;32m   2829\u001b[0m     \u001b[1;32mif\u001b[0m \u001b[1;33m(\u001b[0m\u001b[0mN\u001b[0m \u001b[1;33m==\u001b[0m \u001b[1;36m1\u001b[0m\u001b[1;33m)\u001b[0m\u001b[1;33m:\u001b[0m\u001b[1;33m\u001b[0m\u001b[0m\n\u001b[0;32m   2830\u001b[0m         \u001b[0mgrid\u001b[0m \u001b[1;33m=\u001b[0m \u001b[1;33m(\u001b[0m\u001b[0mgrid\u001b[0m\u001b[1;33m,\u001b[0m\u001b[1;33m)\u001b[0m\u001b[1;33m\u001b[0m\u001b[0m\n\u001b[1;32m-> 2831\u001b[1;33m     \u001b[0mJout\u001b[0m \u001b[1;33m=\u001b[0m \u001b[0mvecfunc\u001b[0m\u001b[1;33m(\u001b[0m\u001b[1;33m*\u001b[0m\u001b[0mgrid\u001b[0m\u001b[1;33m)\u001b[0m\u001b[1;33m\u001b[0m\u001b[0m\n\u001b[0m\u001b[0;32m   2832\u001b[0m     \u001b[0mNshape\u001b[0m \u001b[1;33m=\u001b[0m \u001b[0mshape\u001b[0m\u001b[1;33m(\u001b[0m\u001b[0mJout\u001b[0m\u001b[1;33m)\u001b[0m\u001b[1;33m\u001b[0m\u001b[0m\n\u001b[0;32m   2833\u001b[0m     \u001b[0mindx\u001b[0m \u001b[1;33m=\u001b[0m \u001b[0margmin\u001b[0m\u001b[1;33m(\u001b[0m\u001b[0mJout\u001b[0m\u001b[1;33m.\u001b[0m\u001b[0mravel\u001b[0m\u001b[1;33m(\u001b[0m\u001b[1;33m)\u001b[0m\u001b[1;33m,\u001b[0m \u001b[0maxis\u001b[0m\u001b[1;33m=\u001b[0m\u001b[1;33m-\u001b[0m\u001b[1;36m1\u001b[0m\u001b[1;33m)\u001b[0m\u001b[1;33m\u001b[0m\u001b[0m\n",
      "\u001b[1;32mC:\\ProgramData\\Anaconda3\\lib\\site-packages\\numpy\\lib\\function_base.py\u001b[0m in \u001b[0;36m__call__\u001b[1;34m(self, *args, **kwargs)\u001b[0m\n\u001b[0;32m   2753\u001b[0m             \u001b[0mvargs\u001b[0m\u001b[1;33m.\u001b[0m\u001b[0mextend\u001b[0m\u001b[1;33m(\u001b[0m\u001b[1;33m[\u001b[0m\u001b[0mkwargs\u001b[0m\u001b[1;33m[\u001b[0m\u001b[0m_n\u001b[0m\u001b[1;33m]\u001b[0m \u001b[1;32mfor\u001b[0m \u001b[0m_n\u001b[0m \u001b[1;32min\u001b[0m \u001b[0mnames\u001b[0m\u001b[1;33m]\u001b[0m\u001b[1;33m)\u001b[0m\u001b[1;33m\u001b[0m\u001b[0m\n\u001b[0;32m   2754\u001b[0m \u001b[1;33m\u001b[0m\u001b[0m\n\u001b[1;32m-> 2755\u001b[1;33m         \u001b[1;32mreturn\u001b[0m \u001b[0mself\u001b[0m\u001b[1;33m.\u001b[0m\u001b[0m_vectorize_call\u001b[0m\u001b[1;33m(\u001b[0m\u001b[0mfunc\u001b[0m\u001b[1;33m=\u001b[0m\u001b[0mfunc\u001b[0m\u001b[1;33m,\u001b[0m \u001b[0margs\u001b[0m\u001b[1;33m=\u001b[0m\u001b[0mvargs\u001b[0m\u001b[1;33m)\u001b[0m\u001b[1;33m\u001b[0m\u001b[0m\n\u001b[0m\u001b[0;32m   2756\u001b[0m \u001b[1;33m\u001b[0m\u001b[0m\n\u001b[0;32m   2757\u001b[0m     \u001b[1;32mdef\u001b[0m \u001b[0m_get_ufunc_and_otypes\u001b[0m\u001b[1;33m(\u001b[0m\u001b[0mself\u001b[0m\u001b[1;33m,\u001b[0m \u001b[0mfunc\u001b[0m\u001b[1;33m,\u001b[0m \u001b[0margs\u001b[0m\u001b[1;33m)\u001b[0m\u001b[1;33m:\u001b[0m\u001b[1;33m\u001b[0m\u001b[0m\n",
      "\u001b[1;32mC:\\ProgramData\\Anaconda3\\lib\\site-packages\\numpy\\lib\\function_base.py\u001b[0m in \u001b[0;36m_vectorize_call\u001b[1;34m(self, func, args)\u001b[0m\n\u001b[0;32m   2829\u001b[0m                       for a in args]\n\u001b[0;32m   2830\u001b[0m \u001b[1;33m\u001b[0m\u001b[0m\n\u001b[1;32m-> 2831\u001b[1;33m             \u001b[0moutputs\u001b[0m \u001b[1;33m=\u001b[0m \u001b[0mufunc\u001b[0m\u001b[1;33m(\u001b[0m\u001b[1;33m*\u001b[0m\u001b[0minputs\u001b[0m\u001b[1;33m)\u001b[0m\u001b[1;33m\u001b[0m\u001b[0m\n\u001b[0m\u001b[0;32m   2832\u001b[0m \u001b[1;33m\u001b[0m\u001b[0m\n\u001b[0;32m   2833\u001b[0m             \u001b[1;32mif\u001b[0m \u001b[0mufunc\u001b[0m\u001b[1;33m.\u001b[0m\u001b[0mnout\u001b[0m \u001b[1;33m==\u001b[0m \u001b[1;36m1\u001b[0m\u001b[1;33m:\u001b[0m\u001b[1;33m\u001b[0m\u001b[0m\n",
      "\u001b[1;32mC:\\ProgramData\\Anaconda3\\lib\\site-packages\\scipy\\optimize\\optimize.py\u001b[0m in \u001b[0;36m_scalarfunc\u001b[1;34m(*params)\u001b[0m\n\u001b[0;32m   2823\u001b[0m     \u001b[1;32mdef\u001b[0m \u001b[0m_scalarfunc\u001b[0m\u001b[1;33m(\u001b[0m\u001b[1;33m*\u001b[0m\u001b[0mparams\u001b[0m\u001b[1;33m)\u001b[0m\u001b[1;33m:\u001b[0m\u001b[1;33m\u001b[0m\u001b[0m\n\u001b[0;32m   2824\u001b[0m         \u001b[0mparams\u001b[0m \u001b[1;33m=\u001b[0m \u001b[0masarray\u001b[0m\u001b[1;33m(\u001b[0m\u001b[0mparams\u001b[0m\u001b[1;33m)\u001b[0m\u001b[1;33m.\u001b[0m\u001b[0mflatten\u001b[0m\u001b[1;33m(\u001b[0m\u001b[1;33m)\u001b[0m\u001b[1;33m\u001b[0m\u001b[0m\n\u001b[1;32m-> 2825\u001b[1;33m         \u001b[1;32mreturn\u001b[0m \u001b[0mfunc\u001b[0m\u001b[1;33m(\u001b[0m\u001b[0mparams\u001b[0m\u001b[1;33m,\u001b[0m \u001b[1;33m*\u001b[0m\u001b[0margs\u001b[0m\u001b[1;33m)\u001b[0m\u001b[1;33m\u001b[0m\u001b[0m\n\u001b[0m\u001b[0;32m   2826\u001b[0m \u001b[1;33m\u001b[0m\u001b[0m\n\u001b[0;32m   2827\u001b[0m     \u001b[0mvecfunc\u001b[0m \u001b[1;33m=\u001b[0m \u001b[0mvectorize\u001b[0m\u001b[1;33m(\u001b[0m\u001b[0m_scalarfunc\u001b[0m\u001b[1;33m)\u001b[0m\u001b[1;33m\u001b[0m\u001b[0m\n",
      "\u001b[1;32m<ipython-input-132-6e2d971c8203>\u001b[0m in \u001b[0;36mssr\u001b[1;34m(df, parameters)\u001b[0m\n\u001b[0;32m      3\u001b[0m     \u001b[0mdf\u001b[0m\u001b[1;33m.\u001b[0m\u001b[0mloc\u001b[0m\u001b[1;33m[\u001b[0m\u001b[1;33m:\u001b[0m\u001b[1;33m,\u001b[0m\u001b[1;34m'ssr'\u001b[0m\u001b[1;33m]\u001b[0m\u001b[1;33m=\u001b[0m\u001b[0mdf\u001b[0m\u001b[1;33m[\u001b[0m\u001b[1;34m'is_right'\u001b[0m\u001b[1;33m]\u001b[0m\u001b[1;33m.\u001b[0m\u001b[0mswifter\u001b[0m\u001b[1;33m.\u001b[0m\u001b[0mapply\u001b[0m\u001b[1;33m(\u001b[0m\u001b[1;32mlambda\u001b[0m \u001b[0mx\u001b[0m\u001b[1;33m:\u001b[0m \u001b[0mfind_ssr\u001b[0m\u001b[1;33m(\u001b[0m\u001b[0mx\u001b[0m\u001b[1;33m,\u001b[0m \u001b[0mparameters\u001b[0m\u001b[1;33m)\u001b[0m\u001b[1;33m)\u001b[0m\u001b[1;33m\u001b[0m\u001b[0m\n\u001b[0;32m      4\u001b[0m \u001b[1;31m#     print(parameters, round(df['ssr'].sum()/df['length'].sum(),8))\u001b[0m\u001b[1;33m\u001b[0m\u001b[1;33m\u001b[0m\u001b[0m\n\u001b[1;32m----> 5\u001b[1;33m     \u001b[0mprint\u001b[0m\u001b[1;33m(\u001b[0m\u001b[0mdf\u001b[0m\u001b[1;33m)\u001b[0m\u001b[1;33m\u001b[0m\u001b[0m\n\u001b[0m\u001b[0;32m      6\u001b[0m     \u001b[1;32mreturn\u001b[0m \u001b[0mround\u001b[0m\u001b[1;33m(\u001b[0m\u001b[0mdf\u001b[0m\u001b[1;33m[\u001b[0m\u001b[1;34m'ssr'\u001b[0m\u001b[1;33m]\u001b[0m\u001b[1;33m.\u001b[0m\u001b[0msum\u001b[0m\u001b[1;33m(\u001b[0m\u001b[1;33m)\u001b[0m\u001b[1;33m/\u001b[0m\u001b[0mdf\u001b[0m\u001b[1;33m[\u001b[0m\u001b[1;34m'length'\u001b[0m\u001b[1;33m]\u001b[0m\u001b[1;33m.\u001b[0m\u001b[0msum\u001b[0m\u001b[1;33m(\u001b[0m\u001b[1;33m)\u001b[0m\u001b[1;33m,\u001b[0m\u001b[1;36m8\u001b[0m\u001b[1;33m)\u001b[0m\u001b[1;33m\u001b[0m\u001b[0m\n",
      "\u001b[1;32mC:\\ProgramData\\Anaconda3\\lib\\site-packages\\colorama\\ansitowin32.py\u001b[0m in \u001b[0;36mwrite\u001b[1;34m(self, text)\u001b[0m\n\u001b[0;32m     38\u001b[0m \u001b[1;33m\u001b[0m\u001b[0m\n\u001b[0;32m     39\u001b[0m     \u001b[1;32mdef\u001b[0m \u001b[0mwrite\u001b[0m\u001b[1;33m(\u001b[0m\u001b[0mself\u001b[0m\u001b[1;33m,\u001b[0m \u001b[0mtext\u001b[0m\u001b[1;33m)\u001b[0m\u001b[1;33m:\u001b[0m\u001b[1;33m\u001b[0m\u001b[0m\n\u001b[1;32m---> 40\u001b[1;33m         \u001b[0mself\u001b[0m\u001b[1;33m.\u001b[0m\u001b[0m__convertor\u001b[0m\u001b[1;33m.\u001b[0m\u001b[0mwrite\u001b[0m\u001b[1;33m(\u001b[0m\u001b[0mtext\u001b[0m\u001b[1;33m)\u001b[0m\u001b[1;33m\u001b[0m\u001b[0m\n\u001b[0m\u001b[0;32m     41\u001b[0m \u001b[1;33m\u001b[0m\u001b[0m\n\u001b[0;32m     42\u001b[0m \u001b[1;33m\u001b[0m\u001b[0m\n",
      "\u001b[1;32mC:\\ProgramData\\Anaconda3\\lib\\site-packages\\colorama\\ansitowin32.py\u001b[0m in \u001b[0;36mwrite\u001b[1;34m(self, text)\u001b[0m\n\u001b[0;32m    139\u001b[0m     \u001b[1;32mdef\u001b[0m \u001b[0mwrite\u001b[0m\u001b[1;33m(\u001b[0m\u001b[0mself\u001b[0m\u001b[1;33m,\u001b[0m \u001b[0mtext\u001b[0m\u001b[1;33m)\u001b[0m\u001b[1;33m:\u001b[0m\u001b[1;33m\u001b[0m\u001b[0m\n\u001b[0;32m    140\u001b[0m         \u001b[1;32mif\u001b[0m \u001b[0mself\u001b[0m\u001b[1;33m.\u001b[0m\u001b[0mstrip\u001b[0m \u001b[1;32mor\u001b[0m \u001b[0mself\u001b[0m\u001b[1;33m.\u001b[0m\u001b[0mconvert\u001b[0m\u001b[1;33m:\u001b[0m\u001b[1;33m\u001b[0m\u001b[0m\n\u001b[1;32m--> 141\u001b[1;33m             \u001b[0mself\u001b[0m\u001b[1;33m.\u001b[0m\u001b[0mwrite_and_convert\u001b[0m\u001b[1;33m(\u001b[0m\u001b[0mtext\u001b[0m\u001b[1;33m)\u001b[0m\u001b[1;33m\u001b[0m\u001b[0m\n\u001b[0m\u001b[0;32m    142\u001b[0m         \u001b[1;32melse\u001b[0m\u001b[1;33m:\u001b[0m\u001b[1;33m\u001b[0m\u001b[0m\n\u001b[0;32m    143\u001b[0m             \u001b[0mself\u001b[0m\u001b[1;33m.\u001b[0m\u001b[0mwrapped\u001b[0m\u001b[1;33m.\u001b[0m\u001b[0mwrite\u001b[0m\u001b[1;33m(\u001b[0m\u001b[0mtext\u001b[0m\u001b[1;33m)\u001b[0m\u001b[1;33m\u001b[0m\u001b[0m\n",
      "\u001b[1;32mC:\\ProgramData\\Anaconda3\\lib\\site-packages\\colorama\\ansitowin32.py\u001b[0m in \u001b[0;36mwrite_and_convert\u001b[1;34m(self, text)\u001b[0m\n\u001b[0;32m    167\u001b[0m             \u001b[0mself\u001b[0m\u001b[1;33m.\u001b[0m\u001b[0mconvert_ansi\u001b[0m\u001b[1;33m(\u001b[0m\u001b[1;33m*\u001b[0m\u001b[0mmatch\u001b[0m\u001b[1;33m.\u001b[0m\u001b[0mgroups\u001b[0m\u001b[1;33m(\u001b[0m\u001b[1;33m)\u001b[0m\u001b[1;33m)\u001b[0m\u001b[1;33m\u001b[0m\u001b[0m\n\u001b[0;32m    168\u001b[0m             \u001b[0mcursor\u001b[0m \u001b[1;33m=\u001b[0m \u001b[0mend\u001b[0m\u001b[1;33m\u001b[0m\u001b[0m\n\u001b[1;32m--> 169\u001b[1;33m         \u001b[0mself\u001b[0m\u001b[1;33m.\u001b[0m\u001b[0mwrite_plain_text\u001b[0m\u001b[1;33m(\u001b[0m\u001b[0mtext\u001b[0m\u001b[1;33m,\u001b[0m \u001b[0mcursor\u001b[0m\u001b[1;33m,\u001b[0m \u001b[0mlen\u001b[0m\u001b[1;33m(\u001b[0m\u001b[0mtext\u001b[0m\u001b[1;33m)\u001b[0m\u001b[1;33m)\u001b[0m\u001b[1;33m\u001b[0m\u001b[0m\n\u001b[0m\u001b[0;32m    170\u001b[0m \u001b[1;33m\u001b[0m\u001b[0m\n\u001b[0;32m    171\u001b[0m \u001b[1;33m\u001b[0m\u001b[0m\n",
      "\u001b[1;32mC:\\ProgramData\\Anaconda3\\lib\\site-packages\\colorama\\ansitowin32.py\u001b[0m in \u001b[0;36mwrite_plain_text\u001b[1;34m(self, text, start, end)\u001b[0m\n\u001b[0;32m    172\u001b[0m     \u001b[1;32mdef\u001b[0m \u001b[0mwrite_plain_text\u001b[0m\u001b[1;33m(\u001b[0m\u001b[0mself\u001b[0m\u001b[1;33m,\u001b[0m \u001b[0mtext\u001b[0m\u001b[1;33m,\u001b[0m \u001b[0mstart\u001b[0m\u001b[1;33m,\u001b[0m \u001b[0mend\u001b[0m\u001b[1;33m)\u001b[0m\u001b[1;33m:\u001b[0m\u001b[1;33m\u001b[0m\u001b[0m\n\u001b[0;32m    173\u001b[0m         \u001b[1;32mif\u001b[0m \u001b[0mstart\u001b[0m \u001b[1;33m<\u001b[0m \u001b[0mend\u001b[0m\u001b[1;33m:\u001b[0m\u001b[1;33m\u001b[0m\u001b[0m\n\u001b[1;32m--> 174\u001b[1;33m             \u001b[0mself\u001b[0m\u001b[1;33m.\u001b[0m\u001b[0mwrapped\u001b[0m\u001b[1;33m.\u001b[0m\u001b[0mwrite\u001b[0m\u001b[1;33m(\u001b[0m\u001b[0mtext\u001b[0m\u001b[1;33m[\u001b[0m\u001b[0mstart\u001b[0m\u001b[1;33m:\u001b[0m\u001b[0mend\u001b[0m\u001b[1;33m]\u001b[0m\u001b[1;33m)\u001b[0m\u001b[1;33m\u001b[0m\u001b[0m\n\u001b[0m\u001b[0;32m    175\u001b[0m             \u001b[0mself\u001b[0m\u001b[1;33m.\u001b[0m\u001b[0mwrapped\u001b[0m\u001b[1;33m.\u001b[0m\u001b[0mflush\u001b[0m\u001b[1;33m(\u001b[0m\u001b[1;33m)\u001b[0m\u001b[1;33m\u001b[0m\u001b[0m\n\u001b[0;32m    176\u001b[0m \u001b[1;33m\u001b[0m\u001b[0m\n",
      "\u001b[1;32mC:\\ProgramData\\Anaconda3\\lib\\site-packages\\ipykernel\\iostream.py\u001b[0m in \u001b[0;36mwrite\u001b[1;34m(self, string)\u001b[0m\n\u001b[0;32m    374\u001b[0m             \u001b[0mis_child\u001b[0m \u001b[1;33m=\u001b[0m \u001b[1;33m(\u001b[0m\u001b[1;32mnot\u001b[0m \u001b[0mself\u001b[0m\u001b[1;33m.\u001b[0m\u001b[0m_is_master_process\u001b[0m\u001b[1;33m(\u001b[0m\u001b[1;33m)\u001b[0m\u001b[1;33m)\u001b[0m\u001b[1;33m\u001b[0m\u001b[0m\n\u001b[0;32m    375\u001b[0m             \u001b[1;31m# only touch the buffer in the IO thread to avoid races\u001b[0m\u001b[1;33m\u001b[0m\u001b[1;33m\u001b[0m\u001b[0m\n\u001b[1;32m--> 376\u001b[1;33m             \u001b[0mself\u001b[0m\u001b[1;33m.\u001b[0m\u001b[0mpub_thread\u001b[0m\u001b[1;33m.\u001b[0m\u001b[0mschedule\u001b[0m\u001b[1;33m(\u001b[0m\u001b[1;32mlambda\u001b[0m \u001b[1;33m:\u001b[0m \u001b[0mself\u001b[0m\u001b[1;33m.\u001b[0m\u001b[0m_buffer\u001b[0m\u001b[1;33m.\u001b[0m\u001b[0mwrite\u001b[0m\u001b[1;33m(\u001b[0m\u001b[0mstring\u001b[0m\u001b[1;33m)\u001b[0m\u001b[1;33m)\u001b[0m\u001b[1;33m\u001b[0m\u001b[0m\n\u001b[0m\u001b[0;32m    377\u001b[0m             \u001b[1;32mif\u001b[0m \u001b[0mis_child\u001b[0m\u001b[1;33m:\u001b[0m\u001b[1;33m\u001b[0m\u001b[0m\n\u001b[0;32m    378\u001b[0m                 \u001b[1;31m# newlines imply flush in subprocesses\u001b[0m\u001b[1;33m\u001b[0m\u001b[1;33m\u001b[0m\u001b[0m\n",
      "\u001b[1;32mC:\\ProgramData\\Anaconda3\\lib\\site-packages\\ipykernel\\iostream.py\u001b[0m in \u001b[0;36mschedule\u001b[1;34m(self, f)\u001b[0m\n\u001b[0;32m    201\u001b[0m             \u001b[0mself\u001b[0m\u001b[1;33m.\u001b[0m\u001b[0m_events\u001b[0m\u001b[1;33m.\u001b[0m\u001b[0mappend\u001b[0m\u001b[1;33m(\u001b[0m\u001b[0mf\u001b[0m\u001b[1;33m)\u001b[0m\u001b[1;33m\u001b[0m\u001b[0m\n\u001b[0;32m    202\u001b[0m             \u001b[1;31m# wake event thread (message content is ignored)\u001b[0m\u001b[1;33m\u001b[0m\u001b[1;33m\u001b[0m\u001b[0m\n\u001b[1;32m--> 203\u001b[1;33m             \u001b[0mself\u001b[0m\u001b[1;33m.\u001b[0m\u001b[0m_event_pipe\u001b[0m\u001b[1;33m.\u001b[0m\u001b[0msend\u001b[0m\u001b[1;33m(\u001b[0m\u001b[1;34mb''\u001b[0m\u001b[1;33m)\u001b[0m\u001b[1;33m\u001b[0m\u001b[0m\n\u001b[0m\u001b[0;32m    204\u001b[0m         \u001b[1;32melse\u001b[0m\u001b[1;33m:\u001b[0m\u001b[1;33m\u001b[0m\u001b[0m\n\u001b[0;32m    205\u001b[0m             \u001b[0mf\u001b[0m\u001b[1;33m(\u001b[0m\u001b[1;33m)\u001b[0m\u001b[1;33m\u001b[0m\u001b[0m\n",
      "\u001b[1;32mC:\\ProgramData\\Anaconda3\\lib\\site-packages\\zmq\\sugar\\socket.py\u001b[0m in \u001b[0;36msend\u001b[1;34m(self, data, flags, copy, track, routing_id, group)\u001b[0m\n\u001b[0;32m    389\u001b[0m                                  copy_threshold=self.copy_threshold)\n\u001b[0;32m    390\u001b[0m             \u001b[0mdata\u001b[0m\u001b[1;33m.\u001b[0m\u001b[0mgroup\u001b[0m \u001b[1;33m=\u001b[0m \u001b[0mgroup\u001b[0m\u001b[1;33m\u001b[0m\u001b[0m\n\u001b[1;32m--> 391\u001b[1;33m         \u001b[1;32mreturn\u001b[0m \u001b[0msuper\u001b[0m\u001b[1;33m(\u001b[0m\u001b[0mSocket\u001b[0m\u001b[1;33m,\u001b[0m \u001b[0mself\u001b[0m\u001b[1;33m)\u001b[0m\u001b[1;33m.\u001b[0m\u001b[0msend\u001b[0m\u001b[1;33m(\u001b[0m\u001b[0mdata\u001b[0m\u001b[1;33m,\u001b[0m \u001b[0mflags\u001b[0m\u001b[1;33m=\u001b[0m\u001b[0mflags\u001b[0m\u001b[1;33m,\u001b[0m \u001b[0mcopy\u001b[0m\u001b[1;33m=\u001b[0m\u001b[0mcopy\u001b[0m\u001b[1;33m,\u001b[0m \u001b[0mtrack\u001b[0m\u001b[1;33m=\u001b[0m\u001b[0mtrack\u001b[0m\u001b[1;33m)\u001b[0m\u001b[1;33m\u001b[0m\u001b[0m\n\u001b[0m\u001b[0;32m    392\u001b[0m \u001b[1;33m\u001b[0m\u001b[0m\n\u001b[0;32m    393\u001b[0m     \u001b[1;32mdef\u001b[0m \u001b[0msend_multipart\u001b[0m\u001b[1;33m(\u001b[0m\u001b[0mself\u001b[0m\u001b[1;33m,\u001b[0m \u001b[0mmsg_parts\u001b[0m\u001b[1;33m,\u001b[0m \u001b[0mflags\u001b[0m\u001b[1;33m=\u001b[0m\u001b[1;36m0\u001b[0m\u001b[1;33m,\u001b[0m \u001b[0mcopy\u001b[0m\u001b[1;33m=\u001b[0m\u001b[1;32mTrue\u001b[0m\u001b[1;33m,\u001b[0m \u001b[0mtrack\u001b[0m\u001b[1;33m=\u001b[0m\u001b[1;32mFalse\u001b[0m\u001b[1;33m,\u001b[0m \u001b[1;33m**\u001b[0m\u001b[0mkwargs\u001b[0m\u001b[1;33m)\u001b[0m\u001b[1;33m:\u001b[0m\u001b[1;33m\u001b[0m\u001b[0m\n",
      "\u001b[1;32mzmq/backend/cython/socket.pyx\u001b[0m in \u001b[0;36mzmq.backend.cython.socket.Socket.send\u001b[1;34m()\u001b[0m\n",
      "\u001b[1;32mzmq/backend/cython/socket.pyx\u001b[0m in \u001b[0;36mzmq.backend.cython.socket.Socket.send\u001b[1;34m()\u001b[0m\n",
      "\u001b[1;32mzmq/backend/cython/socket.pyx\u001b[0m in \u001b[0;36mzmq.backend.cython.socket._send_copy\u001b[1;34m()\u001b[0m\n",
      "\u001b[1;32mC:\\ProgramData\\Anaconda3\\lib\\site-packages\\zmq\\backend\\cython\\checkrc.pxd\u001b[0m in \u001b[0;36mzmq.backend.cython.checkrc._check_rc\u001b[1;34m()\u001b[0m\n",
      "\u001b[1;31mKeyboardInterrupt\u001b[0m: "
     ]
    }
   ],
   "source": [
    "parameters = {}\n",
    "# for i in df1.tag_code.unique():\n",
    "for i in ['c050101']:\n",
    "    tp=df1[df1['tag_code']==i]\n",
    "#     print('for tag code ', i, 'shape is', tp.shape)\n",
    "    parameters[i] = bruteforece_bkt(tp, ssr, l0_range, trans_range, guess_range, slip_range, step_size)"
   ]
  },
  {
   "cell_type": "code",
   "execution_count": 152,
   "metadata": {},
   "outputs": [],
   "source": [
    "my_partial = partial(ssr, tp)"
   ]
  },
  {
   "cell_type": "code",
   "execution_count": 151,
   "metadata": {
    "scrolled": true
   },
   "outputs": [
    {
     "name": "stderr",
     "output_type": "stream",
     "text": [
      "C:\\ProgramData\\Anaconda3\\lib\\site-packages\\scipy\\optimize\\_minimize.py:518: RuntimeWarning: Method CG cannot handle constraints nor bounds.\n",
      "  RuntimeWarning)\n"
     ]
    },
    {
     "name": "stdout",
     "output_type": "stream",
     "text": [
      "       user_id tag_code            is_right  length       ssr\n",
      "0        29110  c050101     [0, 0, 1, 0, 1]       5  2.160122\n",
      "561      29845  c050101        [1, 0, 1, 1]       4  2.266201\n",
      "699      29861  c050101        [1, 1, 0, 1]       4  2.405210\n",
      "1179     30411  c050101     [1, 0, 0, 0, 1]       5  2.177592\n",
      "1277     30525  c050101           [0, 0, 0]       3  0.001184\n",
      "3352     32576  c050101  [1, 1, 1, 1, 1, 0]       6  2.186599\n",
      "3556     32991  c050101     [0, 0, 1, 0, 1]       5  2.160122\n",
      "3604     33031  c050101        [1, 0, 1, 1]       4  2.266201\n",
      "4215     34006  c050101        [1, 0, 1, 0]       4  2.605912\n",
      "4265     34062  c050101           [1, 1, 0]       3  2.167273\n",
      "5217     34719  c050101     [0, 1, 1, 1, 1]       5  1.204161\n",
      "6455     34912  c050101        [0, 1, 1, 0]       4  2.165224\n",
      "6534     34916  c050101     [0, 1, 1, 0, 1]       5  2.400789\n",
      "6739     34920  c050101     [1, 0, 1, 1, 1]       5  2.266418\n",
      "6925     34924  c050101  [0, 1, 1, 1, 1, 1]       6  1.204261\n",
      "7099     34930  c050101     [0, 1, 1, 1, 1]       5  1.204161\n",
      "7188     34932  c050101  [1, 0, 1, 0, 1, 0]       6  4.094289\n",
      "7557     34951  c050101  [0, 1, 1, 1, 1, 0]       6  2.184259\n",
      "8268     35107  c050101     [1, 0, 1, 0, 1]       5  3.528305\n",
      "8515     35126  c050101        [1, 1, 0, 1]       4  2.405210\n",
      "8759     35163  c050101           [1, 1, 1]       3  1.206297\n",
      "9294     35211  c050101           [1, 1, 1]       3  1.206297\n",
      "9326     35214  c050101     [1, 0, 0, 0, 1]       5  2.177592\n",
      "9450     35261  c050101     [1, 1, 0, 1, 0]       5  3.367111\n",
      "9477     35266  c050101  [0, 1, 1, 0, 1, 0]       6  3.362868\n",
      "9532     35267  c050101     [1, 0, 0, 1, 1]       5  2.417220\n",
      "9723     35269  c050101  [0, 1, 1, 1, 1, 1]       6  1.204261\n",
      "9799     35270  c050101  [0, 1, 0, 0, 1, 0]       6  2.439687\n",
      "10054    35282  c050101     [1, 0, 0, 1, 1]       5  2.417220\n",
      "10098    35284  c050101        [1, 1, 0, 1]       4  2.405210\n",
      "...        ...      ...                 ...     ...       ...\n",
      "72819    50972  c050101  [0, 1, 0, 0, 1, 0]       6  2.439687\n",
      "72955    51022  c050101        [1, 0, 1, 0]       4  2.605912\n",
      "73615    51121  c050101     [1, 1, 1, 1, 0]       5  2.186497\n",
      "73659    51122  c050101  [0, 0, 0, 0, 0, 0]       6  0.002372\n",
      "74101    51179  c050101     [1, 0, 0, 0, 0]       5  1.217394\n",
      "74232    51203  c050101     [1, 0, 0, 1, 1]       5  2.417220\n",
      "74436    51247  c050101     [0, 0, 1, 1, 1]       5  1.204428\n",
      "74781    51297  c050101           [1, 1, 1]       3  1.206297\n",
      "75289    51951  c050101        [1, 1, 0, 1]       4  2.405210\n",
      "75461    51972  c050101     [0, 0, 1, 1, 1]       5  1.204428\n",
      "76113    52073  c050101           [0, 0, 1]       3  0.961384\n",
      "76301    52132  c050101        [0, 1, 1, 1]       4  1.204059\n",
      "76369    52154  c050101        [0, 1, 1, 0]       4  2.165224\n",
      "76634    52254  c050101  [0, 0, 0, 0, 0, 0]       6  0.002372\n",
      "77423    53406  c050101           [1, 1, 1]       3  1.206297\n",
      "77648    53594  c050101           [0, 0, 0]       3  0.001184\n",
      "78603    55003  c050101        [0, 0, 1, 0]       4  1.218826\n",
      "78991    55155  c050101     [1, 0, 1, 0, 0]       5  2.607480\n",
      "79451    55319  c050101        [1, 1, 0, 0]       4  2.429635\n",
      "80010    56193  c050101           [1, 1, 1]       3  1.206297\n",
      "80363    56578  c050101        [1, 0, 1, 1]       4  2.266201\n",
      "80428    56599  c050101  [1, 0, 1, 0, 0, 1]       6  3.567674\n",
      "80795    56884  c050101     [0, 0, 1, 0, 0]       5  1.219714\n",
      "80815    56886  c050101     [1, 0, 0, 1, 1]       5  2.417220\n",
      "80830    56887  c050101        [1, 1, 0, 1]       4  2.405210\n",
      "80848    56888  c050101     [0, 1, 0, 1, 1]       5  2.267977\n",
      "80864    56889  c050101  [1, 1, 0, 0, 0, 0]       6  2.430934\n",
      "81442    57662  c050101     [0, 1, 0, 0, 0]       5  1.219694\n",
      "81572    57837  c050101        [1, 0, 1, 1]       4  2.266201\n",
      "81612    57860  c050101     [1, 0, 0, 0, 1]       5  2.177592\n",
      "\n",
      "[197 rows x 5 columns]\n",
      "       user_id tag_code            is_right  length       ssr\n",
      "0        29110  c050101     [0, 0, 1, 0, 1]       5  2.160122\n",
      "561      29845  c050101        [1, 0, 1, 1]       4  2.266201\n",
      "699      29861  c050101        [1, 1, 0, 1]       4  2.405209\n",
      "1179     30411  c050101     [1, 0, 0, 0, 1]       5  2.177592\n",
      "1277     30525  c050101           [0, 0, 0]       3  0.001184\n",
      "3352     32576  c050101  [1, 1, 1, 1, 1, 0]       6  2.186598\n",
      "3556     32991  c050101     [0, 0, 1, 0, 1]       5  2.160122\n",
      "3604     33031  c050101        [1, 0, 1, 1]       4  2.266201\n",
      "4215     34006  c050101        [1, 0, 1, 0]       4  2.605913\n",
      "4265     34062  c050101           [1, 1, 0]       3  2.167273\n",
      "5217     34719  c050101     [0, 1, 1, 1, 1]       5  1.204161\n",
      "6455     34912  c050101        [0, 1, 1, 0]       4  2.165224\n",
      "6534     34916  c050101     [0, 1, 1, 0, 1]       5  2.400789\n",
      "6739     34920  c050101     [1, 0, 1, 1, 1]       5  2.266418\n",
      "6925     34924  c050101  [0, 1, 1, 1, 1, 1]       6  1.204261\n",
      "7099     34930  c050101     [0, 1, 1, 1, 1]       5  1.204161\n",
      "7188     34932  c050101  [1, 0, 1, 0, 1, 0]       6  4.094290\n",
      "7557     34951  c050101  [0, 1, 1, 1, 1, 0]       6  2.184259\n",
      "8268     35107  c050101     [1, 0, 1, 0, 1]       5  3.528306\n",
      "8515     35126  c050101        [1, 1, 0, 1]       4  2.405209\n",
      "8759     35163  c050101           [1, 1, 1]       3  1.206296\n",
      "9294     35211  c050101           [1, 1, 1]       3  1.206296\n",
      "9326     35214  c050101     [1, 0, 0, 0, 1]       5  2.177592\n",
      "9450     35261  c050101     [1, 1, 0, 1, 0]       5  3.367110\n",
      "9477     35266  c050101  [0, 1, 1, 0, 1, 0]       6  3.362868\n",
      "9532     35267  c050101     [1, 0, 0, 1, 1]       5  2.417220\n",
      "9723     35269  c050101  [0, 1, 1, 1, 1, 1]       6  1.204261\n",
      "9799     35270  c050101  [0, 1, 0, 0, 1, 0]       6  2.439687\n",
      "10054    35282  c050101     [1, 0, 0, 1, 1]       5  2.417220\n",
      "10098    35284  c050101        [1, 1, 0, 1]       4  2.405209\n",
      "...        ...      ...                 ...     ...       ...\n",
      "72819    50972  c050101  [0, 1, 0, 0, 1, 0]       6  2.439687\n",
      "72955    51022  c050101        [1, 0, 1, 0]       4  2.605913\n",
      "73615    51121  c050101     [1, 1, 1, 1, 0]       5  2.186496\n",
      "73659    51122  c050101  [0, 0, 0, 0, 0, 0]       6  0.002372\n",
      "74101    51179  c050101     [1, 0, 0, 0, 0]       5  1.217394\n",
      "74232    51203  c050101     [1, 0, 0, 1, 1]       5  2.417220\n",
      "74436    51247  c050101     [0, 0, 1, 1, 1]       5  1.204428\n",
      "74781    51297  c050101           [1, 1, 1]       3  1.206296\n",
      "75289    51951  c050101        [1, 1, 0, 1]       4  2.405209\n",
      "75461    51972  c050101     [0, 0, 1, 1, 1]       5  1.204428\n",
      "76113    52073  c050101           [0, 0, 1]       3  0.961384\n",
      "76301    52132  c050101        [0, 1, 1, 1]       4  1.204059\n",
      "76369    52154  c050101        [0, 1, 1, 0]       4  2.165224\n",
      "76634    52254  c050101  [0, 0, 0, 0, 0, 0]       6  0.002372\n",
      "77423    53406  c050101           [1, 1, 1]       3  1.206296\n",
      "77648    53594  c050101           [0, 0, 0]       3  0.001184\n",
      "78603    55003  c050101        [0, 0, 1, 0]       4  1.218826\n",
      "78991    55155  c050101     [1, 0, 1, 0, 0]       5  2.607480\n",
      "79451    55319  c050101        [1, 1, 0, 0]       4  2.429635\n",
      "80010    56193  c050101           [1, 1, 1]       3  1.206296\n",
      "80363    56578  c050101        [1, 0, 1, 1]       4  2.266201\n",
      "80428    56599  c050101  [1, 0, 1, 0, 0, 1]       6  3.567674\n",
      "80795    56884  c050101     [0, 0, 1, 0, 0]       5  1.219714\n",
      "80815    56886  c050101     [1, 0, 0, 1, 1]       5  2.417220\n",
      "80830    56887  c050101        [1, 1, 0, 1]       4  2.405209\n",
      "80848    56888  c050101     [0, 1, 0, 1, 1]       5  2.267977\n",
      "80864    56889  c050101  [1, 1, 0, 0, 0, 0]       6  2.430934\n",
      "81442    57662  c050101     [0, 1, 0, 0, 0]       5  1.219694\n",
      "81572    57837  c050101        [1, 0, 1, 1]       4  2.266201\n",
      "81612    57860  c050101     [1, 0, 0, 0, 1]       5  2.177592\n",
      "\n",
      "[197 rows x 5 columns]\n",
      "       user_id tag_code            is_right  length       ssr\n",
      "0        29110  c050101     [0, 0, 1, 0, 1]       5  2.160122\n",
      "561      29845  c050101        [1, 0, 1, 1]       4  2.266201\n",
      "699      29861  c050101        [1, 1, 0, 1]       4  2.405210\n",
      "1179     30411  c050101     [1, 0, 0, 0, 1]       5  2.177592\n",
      "1277     30525  c050101           [0, 0, 0]       3  0.001184\n",
      "3352     32576  c050101  [1, 1, 1, 1, 1, 0]       6  2.186599\n",
      "3556     32991  c050101     [0, 0, 1, 0, 1]       5  2.160122\n",
      "3604     33031  c050101        [1, 0, 1, 1]       4  2.266201\n",
      "4215     34006  c050101        [1, 0, 1, 0]       4  2.605913\n",
      "4265     34062  c050101           [1, 1, 0]       3  2.167273\n",
      "5217     34719  c050101     [0, 1, 1, 1, 1]       5  1.204161\n",
      "6455     34912  c050101        [0, 1, 1, 0]       4  2.165224\n",
      "6534     34916  c050101     [0, 1, 1, 0, 1]       5  2.400789\n",
      "6739     34920  c050101     [1, 0, 1, 1, 1]       5  2.266418\n",
      "6925     34924  c050101  [0, 1, 1, 1, 1, 1]       6  1.204261\n",
      "7099     34930  c050101     [0, 1, 1, 1, 1]       5  1.204161\n",
      "7188     34932  c050101  [1, 0, 1, 0, 1, 0]       6  4.094289\n",
      "7557     34951  c050101  [0, 1, 1, 1, 1, 0]       6  2.184259\n",
      "8268     35107  c050101     [1, 0, 1, 0, 1]       5  3.528306\n",
      "8515     35126  c050101        [1, 1, 0, 1]       4  2.405210\n",
      "8759     35163  c050101           [1, 1, 1]       3  1.206297\n",
      "9294     35211  c050101           [1, 1, 1]       3  1.206297\n",
      "9326     35214  c050101     [1, 0, 0, 0, 1]       5  2.177592\n",
      "9450     35261  c050101     [1, 1, 0, 1, 0]       5  3.367111\n",
      "9477     35266  c050101  [0, 1, 1, 0, 1, 0]       6  3.362867\n",
      "9532     35267  c050101     [1, 0, 0, 1, 1]       5  2.417220\n",
      "9723     35269  c050101  [0, 1, 1, 1, 1, 1]       6  1.204261\n",
      "9799     35270  c050101  [0, 1, 0, 0, 1, 0]       6  2.439688\n",
      "10054    35282  c050101     [1, 0, 0, 1, 1]       5  2.417220\n",
      "10098    35284  c050101        [1, 1, 0, 1]       4  2.405210\n",
      "...        ...      ...                 ...     ...       ...\n",
      "72819    50972  c050101  [0, 1, 0, 0, 1, 0]       6  2.439688\n",
      "72955    51022  c050101        [1, 0, 1, 0]       4  2.605913\n",
      "73615    51121  c050101     [1, 1, 1, 1, 0]       5  2.186497\n",
      "73659    51122  c050101  [0, 0, 0, 0, 0, 0]       6  0.002372\n",
      "74101    51179  c050101     [1, 0, 0, 0, 0]       5  1.217394\n",
      "74232    51203  c050101     [1, 0, 0, 1, 1]       5  2.417220\n",
      "74436    51247  c050101     [0, 0, 1, 1, 1]       5  1.204428\n",
      "74781    51297  c050101           [1, 1, 1]       3  1.206297\n",
      "75289    51951  c050101        [1, 1, 0, 1]       4  2.405210\n",
      "75461    51972  c050101     [0, 0, 1, 1, 1]       5  1.204428\n",
      "76113    52073  c050101           [0, 0, 1]       3  0.961384\n",
      "76301    52132  c050101        [0, 1, 1, 1]       4  1.204059\n",
      "76369    52154  c050101        [0, 1, 1, 0]       4  2.165224\n",
      "76634    52254  c050101  [0, 0, 0, 0, 0, 0]       6  0.002372\n",
      "77423    53406  c050101           [1, 1, 1]       3  1.206297\n",
      "77648    53594  c050101           [0, 0, 0]       3  0.001184\n",
      "78603    55003  c050101        [0, 0, 1, 0]       4  1.218826\n",
      "78991    55155  c050101     [1, 0, 1, 0, 0]       5  2.607480\n",
      "79451    55319  c050101        [1, 1, 0, 0]       4  2.429635\n",
      "80010    56193  c050101           [1, 1, 1]       3  1.206297\n",
      "80363    56578  c050101        [1, 0, 1, 1]       4  2.266201\n",
      "80428    56599  c050101  [1, 0, 1, 0, 0, 1]       6  3.567674\n",
      "80795    56884  c050101     [0, 0, 1, 0, 0]       5  1.219714\n",
      "80815    56886  c050101     [1, 0, 0, 1, 1]       5  2.417220\n",
      "80830    56887  c050101        [1, 1, 0, 1]       4  2.405210\n",
      "80848    56888  c050101     [0, 1, 0, 1, 1]       5  2.267977\n",
      "80864    56889  c050101  [1, 1, 0, 0, 0, 0]       6  2.430934\n",
      "81442    57662  c050101     [0, 1, 0, 0, 0]       5  1.219695\n",
      "81572    57837  c050101        [1, 0, 1, 1]       4  2.266201\n",
      "81612    57860  c050101     [1, 0, 0, 0, 1]       5  2.177592\n",
      "\n"
     ]
    },
    {
     "name": "stdout",
     "output_type": "stream",
     "text": [
      "[197 rows x 5 columns]\n",
      "       user_id tag_code            is_right  length       ssr\n",
      "0        29110  c050101     [0, 0, 1, 0, 1]       5  2.160121\n",
      "561      29845  c050101        [1, 0, 1, 1]       4  2.266201\n",
      "699      29861  c050101        [1, 1, 0, 1]       4  2.405211\n",
      "1179     30411  c050101     [1, 0, 0, 0, 1]       5  2.177592\n",
      "1277     30525  c050101           [0, 0, 0]       3  0.001184\n",
      "3352     32576  c050101  [1, 1, 1, 1, 1, 0]       6  2.186599\n",
      "3556     32991  c050101     [0, 0, 1, 0, 1]       5  2.160121\n",
      "3604     33031  c050101        [1, 0, 1, 1]       4  2.266201\n",
      "4215     34006  c050101        [1, 0, 1, 0]       4  2.605911\n",
      "4265     34062  c050101           [1, 1, 0]       3  2.167273\n",
      "5217     34719  c050101     [0, 1, 1, 1, 1]       5  1.204161\n",
      "6455     34912  c050101        [0, 1, 1, 0]       4  2.165224\n",
      "6534     34916  c050101     [0, 1, 1, 0, 1]       5  2.400790\n",
      "6739     34920  c050101     [1, 0, 1, 1, 1]       5  2.266418\n",
      "6925     34924  c050101  [0, 1, 1, 1, 1, 1]       6  1.204261\n",
      "7099     34930  c050101     [0, 1, 1, 1, 1]       5  1.204161\n",
      "7188     34932  c050101  [1, 0, 1, 0, 1, 0]       6  4.094287\n",
      "7557     34951  c050101  [0, 1, 1, 1, 1, 0]       6  2.184259\n",
      "8268     35107  c050101     [1, 0, 1, 0, 1]       5  3.528305\n",
      "8515     35126  c050101        [1, 1, 0, 1]       4  2.405211\n",
      "8759     35163  c050101           [1, 1, 1]       3  1.206297\n",
      "9294     35211  c050101           [1, 1, 1]       3  1.206297\n",
      "9326     35214  c050101     [1, 0, 0, 0, 1]       5  2.177592\n",
      "9450     35261  c050101     [1, 1, 0, 1, 0]       5  3.367112\n",
      "9477     35266  c050101  [0, 1, 1, 0, 1, 0]       6  3.362869\n",
      "9532     35267  c050101     [1, 0, 0, 1, 1]       5  2.417220\n",
      "9723     35269  c050101  [0, 1, 1, 1, 1, 1]       6  1.204261\n",
      "9799     35270  c050101  [0, 1, 0, 0, 1, 0]       6  2.439686\n",
      "10054    35282  c050101     [1, 0, 0, 1, 1]       5  2.417220\n",
      "10098    35284  c050101        [1, 1, 0, 1]       4  2.405211\n",
      "...        ...      ...                 ...     ...       ...\n",
      "72819    50972  c050101  [0, 1, 0, 0, 1, 0]       6  2.439686\n",
      "72955    51022  c050101        [1, 0, 1, 0]       4  2.605911\n",
      "73615    51121  c050101     [1, 1, 1, 1, 0]       5  2.186497\n",
      "73659    51122  c050101  [0, 0, 0, 0, 0, 0]       6  0.002372\n",
      "74101    51179  c050101     [1, 0, 0, 0, 0]       5  1.217394\n",
      "74232    51203  c050101     [1, 0, 0, 1, 1]       5  2.417220\n",
      "74436    51247  c050101     [0, 0, 1, 1, 1]       5  1.204429\n",
      "74781    51297  c050101           [1, 1, 1]       3  1.206297\n",
      "75289    51951  c050101        [1, 1, 0, 1]       4  2.405211\n",
      "75461    51972  c050101     [0, 0, 1, 1, 1]       5  1.204429\n",
      "76113    52073  c050101           [0, 0, 1]       3  0.961384\n",
      "76301    52132  c050101        [0, 1, 1, 1]       4  1.204059\n",
      "76369    52154  c050101        [0, 1, 1, 0]       4  2.165224\n",
      "76634    52254  c050101  [0, 0, 0, 0, 0, 0]       6  0.002372\n",
      "77423    53406  c050101           [1, 1, 1]       3  1.206297\n",
      "77648    53594  c050101           [0, 0, 0]       3  0.001184\n",
      "78603    55003  c050101        [0, 0, 1, 0]       4  1.218825\n",
      "78991    55155  c050101     [1, 0, 1, 0, 0]       5  2.607478\n",
      "79451    55319  c050101        [1, 1, 0, 0]       4  2.429634\n",
      "80010    56193  c050101           [1, 1, 1]       3  1.206297\n",
      "80363    56578  c050101        [1, 0, 1, 1]       4  2.266201\n",
      "80428    56599  c050101  [1, 0, 1, 0, 0, 1]       6  3.567673\n",
      "80795    56884  c050101     [0, 0, 1, 0, 0]       5  1.219713\n",
      "80815    56886  c050101     [1, 0, 0, 1, 1]       5  2.417220\n",
      "80830    56887  c050101        [1, 1, 0, 1]       4  2.405211\n",
      "80848    56888  c050101     [0, 1, 0, 1, 1]       5  2.267977\n",
      "80864    56889  c050101  [1, 1, 0, 0, 0, 0]       6  2.430934\n",
      "81442    57662  c050101     [0, 1, 0, 0, 0]       5  1.219694\n",
      "81572    57837  c050101        [1, 0, 1, 1]       4  2.266201\n",
      "81612    57860  c050101     [1, 0, 0, 0, 1]       5  2.177592\n",
      "\n",
      "[197 rows x 5 columns]\n",
      "       user_id tag_code            is_right  length       ssr\n",
      "0        29110  c050101     [0, 0, 1, 0, 1]       5  2.160122\n",
      "561      29845  c050101        [1, 0, 1, 1]       4  2.266201\n",
      "699      29861  c050101        [1, 1, 0, 1]       4  2.405210\n",
      "1179     30411  c050101     [1, 0, 0, 0, 1]       5  2.177592\n",
      "1277     30525  c050101           [0, 0, 0]       3  0.001184\n",
      "3352     32576  c050101  [1, 1, 1, 1, 1, 0]       6  2.186599\n",
      "3556     32991  c050101     [0, 0, 1, 0, 1]       5  2.160122\n",
      "3604     33031  c050101        [1, 0, 1, 1]       4  2.266201\n",
      "4215     34006  c050101        [1, 0, 1, 0]       4  2.605913\n",
      "4265     34062  c050101           [1, 1, 0]       3  2.167273\n",
      "5217     34719  c050101     [0, 1, 1, 1, 1]       5  1.204161\n",
      "6455     34912  c050101        [0, 1, 1, 0]       4  2.165224\n",
      "6534     34916  c050101     [0, 1, 1, 0, 1]       5  2.400789\n",
      "6739     34920  c050101     [1, 0, 1, 1, 1]       5  2.266418\n",
      "6925     34924  c050101  [0, 1, 1, 1, 1, 1]       6  1.204261\n",
      "7099     34930  c050101     [0, 1, 1, 1, 1]       5  1.204161\n",
      "7188     34932  c050101  [1, 0, 1, 0, 1, 0]       6  4.094289\n",
      "7557     34951  c050101  [0, 1, 1, 1, 1, 0]       6  2.184259\n",
      "8268     35107  c050101     [1, 0, 1, 0, 1]       5  3.528306\n",
      "8515     35126  c050101        [1, 1, 0, 1]       4  2.405210\n",
      "8759     35163  c050101           [1, 1, 1]       3  1.206297\n",
      "9294     35211  c050101           [1, 1, 1]       3  1.206297\n",
      "9326     35214  c050101     [1, 0, 0, 0, 1]       5  2.177592\n",
      "9450     35261  c050101     [1, 1, 0, 1, 0]       5  3.367110\n",
      "9477     35266  c050101  [0, 1, 1, 0, 1, 0]       6  3.362867\n",
      "9532     35267  c050101     [1, 0, 0, 1, 1]       5  2.417220\n",
      "9723     35269  c050101  [0, 1, 1, 1, 1, 1]       6  1.204261\n",
      "9799     35270  c050101  [0, 1, 0, 0, 1, 0]       6  2.439687\n",
      "10054    35282  c050101     [1, 0, 0, 1, 1]       5  2.417220\n",
      "10098    35284  c050101        [1, 1, 0, 1]       4  2.405210\n",
      "...        ...      ...                 ...     ...       ...\n",
      "72819    50972  c050101  [0, 1, 0, 0, 1, 0]       6  2.439687\n",
      "72955    51022  c050101        [1, 0, 1, 0]       4  2.605913\n",
      "73615    51121  c050101     [1, 1, 1, 1, 0]       5  2.186497\n",
      "73659    51122  c050101  [0, 0, 0, 0, 0, 0]       6  0.002372\n",
      "74101    51179  c050101     [1, 0, 0, 0, 0]       5  1.217394\n",
      "74232    51203  c050101     [1, 0, 0, 1, 1]       5  2.417220\n",
      "74436    51247  c050101     [0, 0, 1, 1, 1]       5  1.204428\n",
      "74781    51297  c050101           [1, 1, 1]       3  1.206297\n",
      "75289    51951  c050101        [1, 1, 0, 1]       4  2.405210\n",
      "75461    51972  c050101     [0, 0, 1, 1, 1]       5  1.204428\n",
      "76113    52073  c050101           [0, 0, 1]       3  0.961384\n",
      "76301    52132  c050101        [0, 1, 1, 1]       4  1.204059\n",
      "76369    52154  c050101        [0, 1, 1, 0]       4  2.165224\n",
      "76634    52254  c050101  [0, 0, 0, 0, 0, 0]       6  0.002372\n",
      "77423    53406  c050101           [1, 1, 1]       3  1.206297\n",
      "77648    53594  c050101           [0, 0, 0]       3  0.001184\n",
      "78603    55003  c050101        [0, 0, 1, 0]       4  1.218826\n",
      "78991    55155  c050101     [1, 0, 1, 0, 0]       5  2.607480\n",
      "79451    55319  c050101        [1, 1, 0, 0]       4  2.429635\n",
      "80010    56193  c050101           [1, 1, 1]       3  1.206297\n",
      "80363    56578  c050101        [1, 0, 1, 1]       4  2.266201\n",
      "80428    56599  c050101  [1, 0, 1, 0, 0, 1]       6  3.567674\n",
      "80795    56884  c050101     [0, 0, 1, 0, 0]       5  1.219714\n",
      "80815    56886  c050101     [1, 0, 0, 1, 1]       5  2.417220\n",
      "80830    56887  c050101        [1, 1, 0, 1]       4  2.405210\n",
      "80848    56888  c050101     [0, 1, 0, 1, 1]       5  2.267977\n",
      "80864    56889  c050101  [1, 1, 0, 0, 0, 0]       6  2.430935\n",
      "81442    57662  c050101     [0, 1, 0, 0, 0]       5  1.219694\n",
      "81572    57837  c050101        [1, 0, 1, 1]       4  2.266201\n",
      "81612    57860  c050101     [1, 0, 0, 0, 1]       5  2.177592\n",
      "\n",
      "[197 rows x 5 columns]\n",
      "       user_id tag_code            is_right  length       ssr\n",
      "0        29110  c050101     [0, 0, 1, 0, 1]       5  2.160122\n",
      "561      29845  c050101        [1, 0, 1, 1]       4  2.266201\n",
      "699      29861  c050101        [1, 1, 0, 1]       4  2.405210\n",
      "1179     30411  c050101     [1, 0, 0, 0, 1]       5  2.177592\n",
      "1277     30525  c050101           [0, 0, 0]       3  0.001184\n",
      "3352     32576  c050101  [1, 1, 1, 1, 1, 0]       6  2.186599\n",
      "3556     32991  c050101     [0, 0, 1, 0, 1]       5  2.160122\n",
      "3604     33031  c050101        [1, 0, 1, 1]       4  2.266201\n",
      "4215     34006  c050101        [1, 0, 1, 0]       4  2.605912\n",
      "4265     34062  c050101           [1, 1, 0]       3  2.167273\n",
      "5217     34719  c050101     [0, 1, 1, 1, 1]       5  1.204161\n",
      "6455     34912  c050101        [0, 1, 1, 0]       4  2.165224\n",
      "6534     34916  c050101     [0, 1, 1, 0, 1]       5  2.400789\n",
      "6739     34920  c050101     [1, 0, 1, 1, 1]       5  2.266418\n",
      "6925     34924  c050101  [0, 1, 1, 1, 1, 1]       6  1.204261\n",
      "7099     34930  c050101     [0, 1, 1, 1, 1]       5  1.204161\n",
      "7188     34932  c050101  [1, 0, 1, 0, 1, 0]       6  4.094289\n",
      "7557     34951  c050101  [0, 1, 1, 1, 1, 0]       6  2.184259\n",
      "8268     35107  c050101     [1, 0, 1, 0, 1]       5  3.528305\n",
      "8515     35126  c050101        [1, 1, 0, 1]       4  2.405210\n",
      "8759     35163  c050101           [1, 1, 1]       3  1.206297\n",
      "9294     35211  c050101           [1, 1, 1]       3  1.206297\n",
      "9326     35214  c050101     [1, 0, 0, 0, 1]       5  2.177592\n",
      "9450     35261  c050101     [1, 1, 0, 1, 0]       5  3.367111\n",
      "9477     35266  c050101  [0, 1, 1, 0, 1, 0]       6  3.362868\n",
      "9532     35267  c050101     [1, 0, 0, 1, 1]       5  2.417220\n",
      "9723     35269  c050101  [0, 1, 1, 1, 1, 1]       6  1.204261\n",
      "9799     35270  c050101  [0, 1, 0, 0, 1, 0]       6  2.439687\n",
      "10054    35282  c050101     [1, 0, 0, 1, 1]       5  2.417220\n",
      "10098    35284  c050101        [1, 1, 0, 1]       4  2.405210\n",
      "...        ...      ...                 ...     ...       ...\n",
      "72819    50972  c050101  [0, 1, 0, 0, 1, 0]       6  2.439687\n",
      "72955    51022  c050101        [1, 0, 1, 0]       4  2.605912\n",
      "73615    51121  c050101     [1, 1, 1, 1, 0]       5  2.186497\n",
      "73659    51122  c050101  [0, 0, 0, 0, 0, 0]       6  0.002372\n",
      "74101    51179  c050101     [1, 0, 0, 0, 0]       5  1.217394\n",
      "74232    51203  c050101     [1, 0, 0, 1, 1]       5  2.417220\n",
      "74436    51247  c050101     [0, 0, 1, 1, 1]       5  1.204428\n",
      "74781    51297  c050101           [1, 1, 1]       3  1.206297\n",
      "75289    51951  c050101        [1, 1, 0, 1]       4  2.405210\n",
      "75461    51972  c050101     [0, 0, 1, 1, 1]       5  1.204428\n",
      "76113    52073  c050101           [0, 0, 1]       3  0.961384\n",
      "76301    52132  c050101        [0, 1, 1, 1]       4  1.204059\n",
      "76369    52154  c050101        [0, 1, 1, 0]       4  2.165224\n",
      "76634    52254  c050101  [0, 0, 0, 0, 0, 0]       6  0.002372\n",
      "77423    53406  c050101           [1, 1, 1]       3  1.206297\n",
      "77648    53594  c050101           [0, 0, 0]       3  0.001184\n",
      "78603    55003  c050101        [0, 0, 1, 0]       4  1.218826\n",
      "78991    55155  c050101     [1, 0, 1, 0, 0]       5  2.607480\n",
      "79451    55319  c050101        [1, 1, 0, 0]       4  2.429635\n",
      "80010    56193  c050101           [1, 1, 1]       3  1.206297\n",
      "80363    56578  c050101        [1, 0, 1, 1]       4  2.266201\n",
      "80428    56599  c050101  [1, 0, 1, 0, 0, 1]       6  3.567674\n",
      "80795    56884  c050101     [0, 0, 1, 0, 0]       5  1.219714\n",
      "80815    56886  c050101     [1, 0, 0, 1, 1]       5  2.417220\n",
      "80830    56887  c050101        [1, 1, 0, 1]       4  2.405210\n",
      "80848    56888  c050101     [0, 1, 0, 1, 1]       5  2.267977\n",
      "80864    56889  c050101  [1, 1, 0, 0, 0, 0]       6  2.430934\n",
      "81442    57662  c050101     [0, 1, 0, 0, 0]       5  1.219694\n",
      "81572    57837  c050101        [1, 0, 1, 1]       4  2.266201\n",
      "81612    57860  c050101     [1, 0, 0, 0, 1]       5  2.177592\n",
      "\n"
     ]
    },
    {
     "name": "stdout",
     "output_type": "stream",
     "text": [
      "[197 rows x 5 columns]\n",
      "       user_id tag_code            is_right  length       ssr\n",
      "0        29110  c050101     [0, 0, 1, 0, 1]       5  2.681905\n",
      "561      29845  c050101        [1, 0, 1, 1]       4  0.911459\n",
      "699      29861  c050101        [1, 1, 0, 1]       4  0.950386\n",
      "1179     30411  c050101     [1, 0, 0, 0, 1]       5  2.726446\n",
      "1277     30525  c050101           [0, 0, 0]       3  2.643072\n",
      "3352     32576  c050101  [1, 1, 1, 1, 1, 0]       6  0.986371\n",
      "3556     32991  c050101     [0, 0, 1, 0, 1]       5  2.681905\n",
      "3604     33031  c050101        [1, 0, 1, 1]       4  0.911459\n",
      "4215     34006  c050101        [1, 0, 1, 0]       4  1.852793\n",
      "4265     34062  c050101           [1, 1, 0]       3  0.948651\n",
      "5217     34719  c050101     [0, 1, 1, 1, 1]       5  0.839925\n",
      "6455     34912  c050101        [0, 1, 1, 0]       4  1.798011\n",
      "6534     34916  c050101     [0, 1, 1, 0, 1]       5  1.799184\n",
      "6739     34920  c050101     [1, 0, 1, 1, 1]       5  0.911850\n",
      "6925     34924  c050101  [0, 1, 1, 1, 1, 1]       6  0.840087\n",
      "7099     34930  c050101     [0, 1, 1, 1, 1]       5  0.839925\n",
      "7188     34932  c050101  [1, 0, 1, 0, 1, 0]       6  2.803608\n",
      "7557     34951  c050101  [0, 1, 1, 1, 1, 0]       6  1.814651\n",
      "8268     35107  c050101     [1, 0, 1, 0, 1]       5  1.854452\n",
      "8515     35126  c050101        [1, 1, 0, 1]       4  0.950386\n",
      "8759     35163  c050101           [1, 1, 1]       3  0.010923\n",
      "9294     35211  c050101           [1, 1, 1]       3  0.010923\n",
      "9326     35214  c050101     [1, 0, 0, 0, 1]       5  2.726446\n",
      "9450     35261  c050101     [1, 1, 0, 1, 0]       5  1.898592\n",
      "9477     35266  c050101  [0, 1, 1, 0, 1, 0]       6  2.754987\n",
      "9532     35267  c050101     [1, 0, 0, 1, 1]       5  1.818721\n",
      "9723     35269  c050101  [0, 1, 1, 1, 1, 1]       6  0.840087\n",
      "9799     35270  c050101  [0, 1, 0, 0, 1, 0]       6  3.641104\n",
      "10054    35282  c050101     [1, 0, 0, 1, 1]       5  1.818721\n",
      "10098    35284  c050101        [1, 1, 0, 1]       4  0.950386\n",
      "...        ...      ...                 ...     ...       ...\n",
      "72819    50972  c050101  [0, 1, 0, 0, 1, 0]       6  3.641104\n",
      "72955    51022  c050101        [1, 0, 1, 0]       4  1.852793\n",
      "73615    51121  c050101     [1, 1, 1, 1, 0]       5  0.980818\n",
      "73659    51122  c050101  [0, 0, 0, 0, 0, 0]       6  5.369345\n",
      "74101    51179  c050101     [1, 0, 0, 0, 0]       5  3.633105\n",
      "74232    51203  c050101     [1, 0, 0, 1, 1]       5  1.818721\n",
      "74436    51247  c050101     [0, 0, 1, 1, 1]       5  1.739379\n",
      "74781    51297  c050101           [1, 1, 1]       3  0.010923\n",
      "75289    51951  c050101        [1, 1, 0, 1]       4  0.950386\n",
      "75461    51972  c050101     [0, 0, 1, 1, 1]       5  1.739379\n",
      "76113    52073  c050101           [0, 0, 1]       3  1.738124\n",
      "76301    52132  c050101        [0, 1, 1, 1]       4  0.839687\n",
      "76369    52154  c050101        [0, 1, 1, 0]       4  1.798011\n",
      "76634    52254  c050101  [0, 0, 0, 0, 0, 0]       6  5.369345\n",
      "77423    53406  c050101           [1, 1, 1]       3  0.010923\n",
      "77648    53594  c050101           [0, 0, 0]       3  2.643072\n",
      "78603    55003  c050101        [0, 0, 1, 0]       4  2.680244\n",
      "78991    55155  c050101     [1, 0, 1, 0, 0]       5  2.772981\n",
      "79451    55319  c050101        [1, 1, 0, 0]       4  1.867074\n",
      "80010    56193  c050101           [1, 1, 1]       3  0.010923\n",
      "80363    56578  c050101        [1, 0, 1, 1]       4  0.911459\n",
      "80428    56599  c050101  [1, 0, 1, 0, 0, 1]       6  2.775023\n",
      "80795    56884  c050101     [0, 0, 1, 0, 0]       5  3.600393\n",
      "80815    56886  c050101     [1, 0, 0, 1, 1]       5  1.818721\n",
      "80830    56887  c050101        [1, 1, 0, 1]       4  0.950386\n",
      "80848    56888  c050101     [0, 1, 0, 1, 1]       5  1.778985\n",
      "80864    56889  c050101  [1, 1, 0, 0, 0, 0]       6  3.687671\n",
      "81442    57662  c050101     [0, 1, 0, 0, 0]       5  3.605910\n",
      "81572    57837  c050101        [1, 0, 1, 1]       4  0.911459\n",
      "81612    57860  c050101     [1, 0, 0, 0, 1]       5  2.726446\n",
      "\n",
      "[197 rows x 5 columns]\n",
      "       user_id tag_code            is_right  length       ssr\n",
      "0        29110  c050101     [0, 0, 1, 0, 1]       5  2.681905\n",
      "561      29845  c050101        [1, 0, 1, 1]       4  0.911459\n",
      "699      29861  c050101        [1, 1, 0, 1]       4  0.950386\n",
      "1179     30411  c050101     [1, 0, 0, 0, 1]       5  2.726446\n",
      "1277     30525  c050101           [0, 0, 0]       3  2.643072\n",
      "3352     32576  c050101  [1, 1, 1, 1, 1, 0]       6  0.986371\n",
      "3556     32991  c050101     [0, 0, 1, 0, 1]       5  2.681905\n",
      "3604     33031  c050101        [1, 0, 1, 1]       4  0.911459\n",
      "4215     34006  c050101        [1, 0, 1, 0]       4  1.852793\n",
      "4265     34062  c050101           [1, 1, 0]       3  0.948651\n",
      "5217     34719  c050101     [0, 1, 1, 1, 1]       5  0.839925\n",
      "6455     34912  c050101        [0, 1, 1, 0]       4  1.798011\n",
      "6534     34916  c050101     [0, 1, 1, 0, 1]       5  1.799184\n",
      "6739     34920  c050101     [1, 0, 1, 1, 1]       5  0.911850\n",
      "6925     34924  c050101  [0, 1, 1, 1, 1, 1]       6  0.840087\n",
      "7099     34930  c050101     [0, 1, 1, 1, 1]       5  0.839925\n",
      "7188     34932  c050101  [1, 0, 1, 0, 1, 0]       6  2.803608\n",
      "7557     34951  c050101  [0, 1, 1, 1, 1, 0]       6  1.814651\n",
      "8268     35107  c050101     [1, 0, 1, 0, 1]       5  1.854452\n",
      "8515     35126  c050101        [1, 1, 0, 1]       4  0.950386\n",
      "8759     35163  c050101           [1, 1, 1]       3  0.010923\n",
      "9294     35211  c050101           [1, 1, 1]       3  0.010923\n",
      "9326     35214  c050101     [1, 0, 0, 0, 1]       5  2.726446\n",
      "9450     35261  c050101     [1, 1, 0, 1, 0]       5  1.898592\n",
      "9477     35266  c050101  [0, 1, 1, 0, 1, 0]       6  2.754987\n",
      "9532     35267  c050101     [1, 0, 0, 1, 1]       5  1.818721\n",
      "9723     35269  c050101  [0, 1, 1, 1, 1, 1]       6  0.840087\n",
      "9799     35270  c050101  [0, 1, 0, 0, 1, 0]       6  3.641104\n",
      "10054    35282  c050101     [1, 0, 0, 1, 1]       5  1.818721\n",
      "10098    35284  c050101        [1, 1, 0, 1]       4  0.950386\n",
      "...        ...      ...                 ...     ...       ...\n",
      "72819    50972  c050101  [0, 1, 0, 0, 1, 0]       6  3.641104\n",
      "72955    51022  c050101        [1, 0, 1, 0]       4  1.852793\n",
      "73615    51121  c050101     [1, 1, 1, 1, 0]       5  0.980818\n",
      "73659    51122  c050101  [0, 0, 0, 0, 0, 0]       6  5.369345\n",
      "74101    51179  c050101     [1, 0, 0, 0, 0]       5  3.633105\n",
      "74232    51203  c050101     [1, 0, 0, 1, 1]       5  1.818721\n",
      "74436    51247  c050101     [0, 0, 1, 1, 1]       5  1.739379\n",
      "74781    51297  c050101           [1, 1, 1]       3  0.010923\n",
      "75289    51951  c050101        [1, 1, 0, 1]       4  0.950386\n",
      "75461    51972  c050101     [0, 0, 1, 1, 1]       5  1.739379\n",
      "76113    52073  c050101           [0, 0, 1]       3  1.738124\n",
      "76301    52132  c050101        [0, 1, 1, 1]       4  0.839687\n",
      "76369    52154  c050101        [0, 1, 1, 0]       4  1.798011\n",
      "76634    52254  c050101  [0, 0, 0, 0, 0, 0]       6  5.369345\n",
      "77423    53406  c050101           [1, 1, 1]       3  0.010923\n",
      "77648    53594  c050101           [0, 0, 0]       3  2.643072\n",
      "78603    55003  c050101        [0, 0, 1, 0]       4  2.680244\n",
      "78991    55155  c050101     [1, 0, 1, 0, 0]       5  2.772981\n",
      "79451    55319  c050101        [1, 1, 0, 0]       4  1.867074\n",
      "80010    56193  c050101           [1, 1, 1]       3  0.010923\n",
      "80363    56578  c050101        [1, 0, 1, 1]       4  0.911459\n",
      "80428    56599  c050101  [1, 0, 1, 0, 0, 1]       6  2.775023\n",
      "80795    56884  c050101     [0, 0, 1, 0, 0]       5  3.600393\n",
      "80815    56886  c050101     [1, 0, 0, 1, 1]       5  1.818721\n",
      "80830    56887  c050101        [1, 1, 0, 1]       4  0.950386\n",
      "80848    56888  c050101     [0, 1, 0, 1, 1]       5  1.778985\n",
      "80864    56889  c050101  [1, 1, 0, 0, 0, 0]       6  3.687671\n",
      "81442    57662  c050101     [0, 1, 0, 0, 0]       5  3.605910\n",
      "81572    57837  c050101        [1, 0, 1, 1]       4  0.911459\n",
      "81612    57860  c050101     [1, 0, 0, 0, 1]       5  2.726446\n",
      "\n",
      "[197 rows x 5 columns]\n",
      "       user_id tag_code            is_right  length       ssr\n",
      "0        29110  c050101     [0, 0, 1, 0, 1]       5  2.681905\n",
      "561      29845  c050101        [1, 0, 1, 1]       4  0.911459\n",
      "699      29861  c050101        [1, 1, 0, 1]       4  0.950386\n",
      "1179     30411  c050101     [1, 0, 0, 0, 1]       5  2.726446\n",
      "1277     30525  c050101           [0, 0, 0]       3  2.643072\n",
      "3352     32576  c050101  [1, 1, 1, 1, 1, 0]       6  0.986371\n",
      "3556     32991  c050101     [0, 0, 1, 0, 1]       5  2.681905\n",
      "3604     33031  c050101        [1, 0, 1, 1]       4  0.911459\n",
      "4215     34006  c050101        [1, 0, 1, 0]       4  1.852793\n",
      "4265     34062  c050101           [1, 1, 0]       3  0.948651\n",
      "5217     34719  c050101     [0, 1, 1, 1, 1]       5  0.839925\n",
      "6455     34912  c050101        [0, 1, 1, 0]       4  1.798011\n",
      "6534     34916  c050101     [0, 1, 1, 0, 1]       5  1.799184\n",
      "6739     34920  c050101     [1, 0, 1, 1, 1]       5  0.911850\n",
      "6925     34924  c050101  [0, 1, 1, 1, 1, 1]       6  0.840087\n",
      "7099     34930  c050101     [0, 1, 1, 1, 1]       5  0.839925\n",
      "7188     34932  c050101  [1, 0, 1, 0, 1, 0]       6  2.803608\n",
      "7557     34951  c050101  [0, 1, 1, 1, 1, 0]       6  1.814651\n",
      "8268     35107  c050101     [1, 0, 1, 0, 1]       5  1.854452\n",
      "8515     35126  c050101        [1, 1, 0, 1]       4  0.950386\n",
      "8759     35163  c050101           [1, 1, 1]       3  0.010923\n",
      "9294     35211  c050101           [1, 1, 1]       3  0.010923\n",
      "9326     35214  c050101     [1, 0, 0, 0, 1]       5  2.726446\n",
      "9450     35261  c050101     [1, 1, 0, 1, 0]       5  1.898592\n",
      "9477     35266  c050101  [0, 1, 1, 0, 1, 0]       6  2.754987\n",
      "9532     35267  c050101     [1, 0, 0, 1, 1]       5  1.818721\n",
      "9723     35269  c050101  [0, 1, 1, 1, 1, 1]       6  0.840087\n",
      "9799     35270  c050101  [0, 1, 0, 0, 1, 0]       6  3.641104\n",
      "10054    35282  c050101     [1, 0, 0, 1, 1]       5  1.818721\n",
      "10098    35284  c050101        [1, 1, 0, 1]       4  0.950386\n",
      "...        ...      ...                 ...     ...       ...\n",
      "72819    50972  c050101  [0, 1, 0, 0, 1, 0]       6  3.641104\n",
      "72955    51022  c050101        [1, 0, 1, 0]       4  1.852793\n",
      "73615    51121  c050101     [1, 1, 1, 1, 0]       5  0.980818\n",
      "73659    51122  c050101  [0, 0, 0, 0, 0, 0]       6  5.369345\n",
      "74101    51179  c050101     [1, 0, 0, 0, 0]       5  3.633105\n",
      "74232    51203  c050101     [1, 0, 0, 1, 1]       5  1.818721\n",
      "74436    51247  c050101     [0, 0, 1, 1, 1]       5  1.739379\n",
      "74781    51297  c050101           [1, 1, 1]       3  0.010923\n",
      "75289    51951  c050101        [1, 1, 0, 1]       4  0.950386\n",
      "75461    51972  c050101     [0, 0, 1, 1, 1]       5  1.739379\n",
      "76113    52073  c050101           [0, 0, 1]       3  1.738124\n",
      "76301    52132  c050101        [0, 1, 1, 1]       4  0.839687\n",
      "76369    52154  c050101        [0, 1, 1, 0]       4  1.798011\n",
      "76634    52254  c050101  [0, 0, 0, 0, 0, 0]       6  5.369345\n",
      "77423    53406  c050101           [1, 1, 1]       3  0.010923\n",
      "77648    53594  c050101           [0, 0, 0]       3  2.643072\n",
      "78603    55003  c050101        [0, 0, 1, 0]       4  2.680244\n",
      "78991    55155  c050101     [1, 0, 1, 0, 0]       5  2.772981\n",
      "79451    55319  c050101        [1, 1, 0, 0]       4  1.867074\n",
      "80010    56193  c050101           [1, 1, 1]       3  0.010923\n",
      "80363    56578  c050101        [1, 0, 1, 1]       4  0.911459\n",
      "80428    56599  c050101  [1, 0, 1, 0, 0, 1]       6  2.775023\n",
      "80795    56884  c050101     [0, 0, 1, 0, 0]       5  3.600393\n",
      "80815    56886  c050101     [1, 0, 0, 1, 1]       5  1.818721\n",
      "80830    56887  c050101        [1, 1, 0, 1]       4  0.950386\n",
      "80848    56888  c050101     [0, 1, 0, 1, 1]       5  1.778985\n",
      "80864    56889  c050101  [1, 1, 0, 0, 0, 0]       6  3.687671\n",
      "81442    57662  c050101     [0, 1, 0, 0, 0]       5  3.605910\n",
      "81572    57837  c050101        [1, 0, 1, 1]       4  0.911459\n",
      "81612    57860  c050101     [1, 0, 0, 0, 1]       5  2.726446\n",
      "\n"
     ]
    },
    {
     "name": "stdout",
     "output_type": "stream",
     "text": [
      "[197 rows x 5 columns]\n",
      "       user_id tag_code            is_right  length       ssr\n",
      "0        29110  c050101     [0, 0, 1, 0, 1]       5  2.681905\n",
      "561      29845  c050101        [1, 0, 1, 1]       4  0.911459\n",
      "699      29861  c050101        [1, 1, 0, 1]       4  0.950386\n",
      "1179     30411  c050101     [1, 0, 0, 0, 1]       5  2.726446\n",
      "1277     30525  c050101           [0, 0, 0]       3  2.643072\n",
      "3352     32576  c050101  [1, 1, 1, 1, 1, 0]       6  0.986371\n",
      "3556     32991  c050101     [0, 0, 1, 0, 1]       5  2.681905\n",
      "3604     33031  c050101        [1, 0, 1, 1]       4  0.911459\n",
      "4215     34006  c050101        [1, 0, 1, 0]       4  1.852793\n",
      "4265     34062  c050101           [1, 1, 0]       3  0.948651\n",
      "5217     34719  c050101     [0, 1, 1, 1, 1]       5  0.839925\n",
      "6455     34912  c050101        [0, 1, 1, 0]       4  1.798011\n",
      "6534     34916  c050101     [0, 1, 1, 0, 1]       5  1.799184\n",
      "6739     34920  c050101     [1, 0, 1, 1, 1]       5  0.911850\n",
      "6925     34924  c050101  [0, 1, 1, 1, 1, 1]       6  0.840087\n",
      "7099     34930  c050101     [0, 1, 1, 1, 1]       5  0.839925\n",
      "7188     34932  c050101  [1, 0, 1, 0, 1, 0]       6  2.803608\n",
      "7557     34951  c050101  [0, 1, 1, 1, 1, 0]       6  1.814651\n",
      "8268     35107  c050101     [1, 0, 1, 0, 1]       5  1.854452\n",
      "8515     35126  c050101        [1, 1, 0, 1]       4  0.950386\n",
      "8759     35163  c050101           [1, 1, 1]       3  0.010923\n",
      "9294     35211  c050101           [1, 1, 1]       3  0.010923\n",
      "9326     35214  c050101     [1, 0, 0, 0, 1]       5  2.726446\n",
      "9450     35261  c050101     [1, 1, 0, 1, 0]       5  1.898592\n",
      "9477     35266  c050101  [0, 1, 1, 0, 1, 0]       6  2.754987\n",
      "9532     35267  c050101     [1, 0, 0, 1, 1]       5  1.818721\n",
      "9723     35269  c050101  [0, 1, 1, 1, 1, 1]       6  0.840087\n",
      "9799     35270  c050101  [0, 1, 0, 0, 1, 0]       6  3.641104\n",
      "10054    35282  c050101     [1, 0, 0, 1, 1]       5  1.818721\n",
      "10098    35284  c050101        [1, 1, 0, 1]       4  0.950386\n",
      "...        ...      ...                 ...     ...       ...\n",
      "72819    50972  c050101  [0, 1, 0, 0, 1, 0]       6  3.641104\n",
      "72955    51022  c050101        [1, 0, 1, 0]       4  1.852793\n",
      "73615    51121  c050101     [1, 1, 1, 1, 0]       5  0.980818\n",
      "73659    51122  c050101  [0, 0, 0, 0, 0, 0]       6  5.369345\n",
      "74101    51179  c050101     [1, 0, 0, 0, 0]       5  3.633105\n",
      "74232    51203  c050101     [1, 0, 0, 1, 1]       5  1.818721\n",
      "74436    51247  c050101     [0, 0, 1, 1, 1]       5  1.739379\n",
      "74781    51297  c050101           [1, 1, 1]       3  0.010923\n",
      "75289    51951  c050101        [1, 1, 0, 1]       4  0.950386\n",
      "75461    51972  c050101     [0, 0, 1, 1, 1]       5  1.739379\n",
      "76113    52073  c050101           [0, 0, 1]       3  1.738124\n",
      "76301    52132  c050101        [0, 1, 1, 1]       4  0.839687\n",
      "76369    52154  c050101        [0, 1, 1, 0]       4  1.798011\n",
      "76634    52254  c050101  [0, 0, 0, 0, 0, 0]       6  5.369345\n",
      "77423    53406  c050101           [1, 1, 1]       3  0.010923\n",
      "77648    53594  c050101           [0, 0, 0]       3  2.643072\n",
      "78603    55003  c050101        [0, 0, 1, 0]       4  2.680244\n",
      "78991    55155  c050101     [1, 0, 1, 0, 0]       5  2.772981\n",
      "79451    55319  c050101        [1, 1, 0, 0]       4  1.867074\n",
      "80010    56193  c050101           [1, 1, 1]       3  0.010923\n",
      "80363    56578  c050101        [1, 0, 1, 1]       4  0.911459\n",
      "80428    56599  c050101  [1, 0, 1, 0, 0, 1]       6  2.775023\n",
      "80795    56884  c050101     [0, 0, 1, 0, 0]       5  3.600393\n",
      "80815    56886  c050101     [1, 0, 0, 1, 1]       5  1.818721\n",
      "80830    56887  c050101        [1, 1, 0, 1]       4  0.950386\n",
      "80848    56888  c050101     [0, 1, 0, 1, 1]       5  1.778985\n",
      "80864    56889  c050101  [1, 1, 0, 0, 0, 0]       6  3.687671\n",
      "81442    57662  c050101     [0, 1, 0, 0, 0]       5  3.605910\n",
      "81572    57837  c050101        [1, 0, 1, 1]       4  0.911459\n",
      "81612    57860  c050101     [1, 0, 0, 0, 1]       5  2.726446\n",
      "\n",
      "[197 rows x 5 columns]\n",
      "       user_id tag_code            is_right  length       ssr\n",
      "0        29110  c050101     [0, 0, 1, 0, 1]       5  2.681905\n",
      "561      29845  c050101        [1, 0, 1, 1]       4  0.911459\n",
      "699      29861  c050101        [1, 1, 0, 1]       4  0.950386\n",
      "1179     30411  c050101     [1, 0, 0, 0, 1]       5  2.726446\n",
      "1277     30525  c050101           [0, 0, 0]       3  2.643072\n",
      "3352     32576  c050101  [1, 1, 1, 1, 1, 0]       6  0.986371\n",
      "3556     32991  c050101     [0, 0, 1, 0, 1]       5  2.681905\n",
      "3604     33031  c050101        [1, 0, 1, 1]       4  0.911459\n",
      "4215     34006  c050101        [1, 0, 1, 0]       4  1.852793\n",
      "4265     34062  c050101           [1, 1, 0]       3  0.948651\n",
      "5217     34719  c050101     [0, 1, 1, 1, 1]       5  0.839925\n",
      "6455     34912  c050101        [0, 1, 1, 0]       4  1.798011\n",
      "6534     34916  c050101     [0, 1, 1, 0, 1]       5  1.799184\n",
      "6739     34920  c050101     [1, 0, 1, 1, 1]       5  0.911850\n",
      "6925     34924  c050101  [0, 1, 1, 1, 1, 1]       6  0.840087\n",
      "7099     34930  c050101     [0, 1, 1, 1, 1]       5  0.839925\n",
      "7188     34932  c050101  [1, 0, 1, 0, 1, 0]       6  2.803608\n",
      "7557     34951  c050101  [0, 1, 1, 1, 1, 0]       6  1.814651\n",
      "8268     35107  c050101     [1, 0, 1, 0, 1]       5  1.854452\n",
      "8515     35126  c050101        [1, 1, 0, 1]       4  0.950386\n",
      "8759     35163  c050101           [1, 1, 1]       3  0.010923\n",
      "9294     35211  c050101           [1, 1, 1]       3  0.010923\n",
      "9326     35214  c050101     [1, 0, 0, 0, 1]       5  2.726446\n",
      "9450     35261  c050101     [1, 1, 0, 1, 0]       5  1.898592\n",
      "9477     35266  c050101  [0, 1, 1, 0, 1, 0]       6  2.754987\n",
      "9532     35267  c050101     [1, 0, 0, 1, 1]       5  1.818721\n",
      "9723     35269  c050101  [0, 1, 1, 1, 1, 1]       6  0.840087\n",
      "9799     35270  c050101  [0, 1, 0, 0, 1, 0]       6  3.641104\n",
      "10054    35282  c050101     [1, 0, 0, 1, 1]       5  1.818721\n",
      "10098    35284  c050101        [1, 1, 0, 1]       4  0.950386\n",
      "...        ...      ...                 ...     ...       ...\n",
      "72819    50972  c050101  [0, 1, 0, 0, 1, 0]       6  3.641104\n",
      "72955    51022  c050101        [1, 0, 1, 0]       4  1.852793\n",
      "73615    51121  c050101     [1, 1, 1, 1, 0]       5  0.980818\n",
      "73659    51122  c050101  [0, 0, 0, 0, 0, 0]       6  5.369345\n",
      "74101    51179  c050101     [1, 0, 0, 0, 0]       5  3.633105\n",
      "74232    51203  c050101     [1, 0, 0, 1, 1]       5  1.818721\n",
      "74436    51247  c050101     [0, 0, 1, 1, 1]       5  1.739379\n",
      "74781    51297  c050101           [1, 1, 1]       3  0.010923\n",
      "75289    51951  c050101        [1, 1, 0, 1]       4  0.950386\n",
      "75461    51972  c050101     [0, 0, 1, 1, 1]       5  1.739379\n",
      "76113    52073  c050101           [0, 0, 1]       3  1.738124\n",
      "76301    52132  c050101        [0, 1, 1, 1]       4  0.839687\n",
      "76369    52154  c050101        [0, 1, 1, 0]       4  1.798011\n",
      "76634    52254  c050101  [0, 0, 0, 0, 0, 0]       6  5.369345\n",
      "77423    53406  c050101           [1, 1, 1]       3  0.010923\n",
      "77648    53594  c050101           [0, 0, 0]       3  2.643072\n",
      "78603    55003  c050101        [0, 0, 1, 0]       4  2.680244\n",
      "78991    55155  c050101     [1, 0, 1, 0, 0]       5  2.772981\n",
      "79451    55319  c050101        [1, 1, 0, 0]       4  1.867074\n",
      "80010    56193  c050101           [1, 1, 1]       3  0.010923\n",
      "80363    56578  c050101        [1, 0, 1, 1]       4  0.911459\n",
      "80428    56599  c050101  [1, 0, 1, 0, 0, 1]       6  2.775023\n",
      "80795    56884  c050101     [0, 0, 1, 0, 0]       5  3.600393\n",
      "80815    56886  c050101     [1, 0, 0, 1, 1]       5  1.818721\n",
      "80830    56887  c050101        [1, 1, 0, 1]       4  0.950386\n",
      "80848    56888  c050101     [0, 1, 0, 1, 1]       5  1.778985\n",
      "80864    56889  c050101  [1, 1, 0, 0, 0, 0]       6  3.687671\n",
      "81442    57662  c050101     [0, 1, 0, 0, 0]       5  3.605910\n",
      "81572    57837  c050101        [1, 0, 1, 1]       4  0.911459\n",
      "81612    57860  c050101     [1, 0, 0, 0, 1]       5  2.726446\n",
      "\n",
      "[197 rows x 5 columns]\n",
      "       user_id tag_code            is_right  length       ssr\n",
      "0        29110  c050101     [0, 0, 1, 0, 1]       5  2.681905\n",
      "561      29845  c050101        [1, 0, 1, 1]       4  0.911459\n",
      "699      29861  c050101        [1, 1, 0, 1]       4  0.950386\n",
      "1179     30411  c050101     [1, 0, 0, 0, 1]       5  2.726446\n",
      "1277     30525  c050101           [0, 0, 0]       3  2.643072\n",
      "3352     32576  c050101  [1, 1, 1, 1, 1, 0]       6  0.986371\n",
      "3556     32991  c050101     [0, 0, 1, 0, 1]       5  2.681905\n",
      "3604     33031  c050101        [1, 0, 1, 1]       4  0.911459\n",
      "4215     34006  c050101        [1, 0, 1, 0]       4  1.852793\n",
      "4265     34062  c050101           [1, 1, 0]       3  0.948651\n",
      "5217     34719  c050101     [0, 1, 1, 1, 1]       5  0.839925\n",
      "6455     34912  c050101        [0, 1, 1, 0]       4  1.798011\n",
      "6534     34916  c050101     [0, 1, 1, 0, 1]       5  1.799184\n",
      "6739     34920  c050101     [1, 0, 1, 1, 1]       5  0.911850\n",
      "6925     34924  c050101  [0, 1, 1, 1, 1, 1]       6  0.840087\n",
      "7099     34930  c050101     [0, 1, 1, 1, 1]       5  0.839925\n",
      "7188     34932  c050101  [1, 0, 1, 0, 1, 0]       6  2.803608\n",
      "7557     34951  c050101  [0, 1, 1, 1, 1, 0]       6  1.814651\n",
      "8268     35107  c050101     [1, 0, 1, 0, 1]       5  1.854452\n",
      "8515     35126  c050101        [1, 1, 0, 1]       4  0.950386\n",
      "8759     35163  c050101           [1, 1, 1]       3  0.010923\n",
      "9294     35211  c050101           [1, 1, 1]       3  0.010923\n",
      "9326     35214  c050101     [1, 0, 0, 0, 1]       5  2.726446\n",
      "9450     35261  c050101     [1, 1, 0, 1, 0]       5  1.898592\n",
      "9477     35266  c050101  [0, 1, 1, 0, 1, 0]       6  2.754987\n",
      "9532     35267  c050101     [1, 0, 0, 1, 1]       5  1.818721\n",
      "9723     35269  c050101  [0, 1, 1, 1, 1, 1]       6  0.840087\n",
      "9799     35270  c050101  [0, 1, 0, 0, 1, 0]       6  3.641104\n",
      "10054    35282  c050101     [1, 0, 0, 1, 1]       5  1.818721\n",
      "10098    35284  c050101        [1, 1, 0, 1]       4  0.950386\n",
      "...        ...      ...                 ...     ...       ...\n",
      "72819    50972  c050101  [0, 1, 0, 0, 1, 0]       6  3.641104\n",
      "72955    51022  c050101        [1, 0, 1, 0]       4  1.852793\n",
      "73615    51121  c050101     [1, 1, 1, 1, 0]       5  0.980818\n",
      "73659    51122  c050101  [0, 0, 0, 0, 0, 0]       6  5.369345\n",
      "74101    51179  c050101     [1, 0, 0, 0, 0]       5  3.633105\n",
      "74232    51203  c050101     [1, 0, 0, 1, 1]       5  1.818721\n",
      "74436    51247  c050101     [0, 0, 1, 1, 1]       5  1.739379\n",
      "74781    51297  c050101           [1, 1, 1]       3  0.010923\n",
      "75289    51951  c050101        [1, 1, 0, 1]       4  0.950386\n",
      "75461    51972  c050101     [0, 0, 1, 1, 1]       5  1.739379\n",
      "76113    52073  c050101           [0, 0, 1]       3  1.738124\n",
      "76301    52132  c050101        [0, 1, 1, 1]       4  0.839687\n",
      "76369    52154  c050101        [0, 1, 1, 0]       4  1.798011\n",
      "76634    52254  c050101  [0, 0, 0, 0, 0, 0]       6  5.369345\n",
      "77423    53406  c050101           [1, 1, 1]       3  0.010923\n",
      "77648    53594  c050101           [0, 0, 0]       3  2.643072\n",
      "78603    55003  c050101        [0, 0, 1, 0]       4  2.680244\n",
      "78991    55155  c050101     [1, 0, 1, 0, 0]       5  2.772981\n",
      "79451    55319  c050101        [1, 1, 0, 0]       4  1.867074\n",
      "80010    56193  c050101           [1, 1, 1]       3  0.010923\n",
      "80363    56578  c050101        [1, 0, 1, 1]       4  0.911459\n",
      "80428    56599  c050101  [1, 0, 1, 0, 0, 1]       6  2.775023\n",
      "80795    56884  c050101     [0, 0, 1, 0, 0]       5  3.600393\n",
      "80815    56886  c050101     [1, 0, 0, 1, 1]       5  1.818721\n",
      "80830    56887  c050101        [1, 1, 0, 1]       4  0.950386\n",
      "80848    56888  c050101     [0, 1, 0, 1, 1]       5  1.778985\n",
      "80864    56889  c050101  [1, 1, 0, 0, 0, 0]       6  3.687671\n",
      "81442    57662  c050101     [0, 1, 0, 0, 0]       5  3.605910\n",
      "81572    57837  c050101        [1, 0, 1, 1]       4  0.911459\n",
      "81612    57860  c050101     [1, 0, 0, 0, 1]       5  2.726446\n",
      "\n"
     ]
    },
    {
     "name": "stdout",
     "output_type": "stream",
     "text": [
      "[197 rows x 5 columns]\n",
      "       user_id tag_code            is_right  length       ssr\n",
      "0        29110  c050101     [0, 0, 1, 0, 1]       5  2.681905\n",
      "561      29845  c050101        [1, 0, 1, 1]       4  0.911459\n",
      "699      29861  c050101        [1, 1, 0, 1]       4  0.950386\n",
      "1179     30411  c050101     [1, 0, 0, 0, 1]       5  2.726446\n",
      "1277     30525  c050101           [0, 0, 0]       3  2.643072\n",
      "3352     32576  c050101  [1, 1, 1, 1, 1, 0]       6  0.986371\n",
      "3556     32991  c050101     [0, 0, 1, 0, 1]       5  2.681905\n",
      "3604     33031  c050101        [1, 0, 1, 1]       4  0.911459\n",
      "4215     34006  c050101        [1, 0, 1, 0]       4  1.852793\n",
      "4265     34062  c050101           [1, 1, 0]       3  0.948651\n",
      "5217     34719  c050101     [0, 1, 1, 1, 1]       5  0.839925\n",
      "6455     34912  c050101        [0, 1, 1, 0]       4  1.798011\n",
      "6534     34916  c050101     [0, 1, 1, 0, 1]       5  1.799184\n",
      "6739     34920  c050101     [1, 0, 1, 1, 1]       5  0.911850\n",
      "6925     34924  c050101  [0, 1, 1, 1, 1, 1]       6  0.840087\n",
      "7099     34930  c050101     [0, 1, 1, 1, 1]       5  0.839925\n",
      "7188     34932  c050101  [1, 0, 1, 0, 1, 0]       6  2.803608\n",
      "7557     34951  c050101  [0, 1, 1, 1, 1, 0]       6  1.814651\n",
      "8268     35107  c050101     [1, 0, 1, 0, 1]       5  1.854452\n",
      "8515     35126  c050101        [1, 1, 0, 1]       4  0.950386\n",
      "8759     35163  c050101           [1, 1, 1]       3  0.010923\n",
      "9294     35211  c050101           [1, 1, 1]       3  0.010923\n",
      "9326     35214  c050101     [1, 0, 0, 0, 1]       5  2.726446\n",
      "9450     35261  c050101     [1, 1, 0, 1, 0]       5  1.898592\n",
      "9477     35266  c050101  [0, 1, 1, 0, 1, 0]       6  2.754987\n",
      "9532     35267  c050101     [1, 0, 0, 1, 1]       5  1.818721\n",
      "9723     35269  c050101  [0, 1, 1, 1, 1, 1]       6  0.840087\n",
      "9799     35270  c050101  [0, 1, 0, 0, 1, 0]       6  3.641104\n",
      "10054    35282  c050101     [1, 0, 0, 1, 1]       5  1.818721\n",
      "10098    35284  c050101        [1, 1, 0, 1]       4  0.950386\n",
      "...        ...      ...                 ...     ...       ...\n",
      "72819    50972  c050101  [0, 1, 0, 0, 1, 0]       6  3.641104\n",
      "72955    51022  c050101        [1, 0, 1, 0]       4  1.852793\n",
      "73615    51121  c050101     [1, 1, 1, 1, 0]       5  0.980818\n",
      "73659    51122  c050101  [0, 0, 0, 0, 0, 0]       6  5.369345\n",
      "74101    51179  c050101     [1, 0, 0, 0, 0]       5  3.633105\n",
      "74232    51203  c050101     [1, 0, 0, 1, 1]       5  1.818721\n",
      "74436    51247  c050101     [0, 0, 1, 1, 1]       5  1.739379\n",
      "74781    51297  c050101           [1, 1, 1]       3  0.010923\n",
      "75289    51951  c050101        [1, 1, 0, 1]       4  0.950386\n",
      "75461    51972  c050101     [0, 0, 1, 1, 1]       5  1.739379\n",
      "76113    52073  c050101           [0, 0, 1]       3  1.738124\n",
      "76301    52132  c050101        [0, 1, 1, 1]       4  0.839687\n",
      "76369    52154  c050101        [0, 1, 1, 0]       4  1.798011\n",
      "76634    52254  c050101  [0, 0, 0, 0, 0, 0]       6  5.369345\n",
      "77423    53406  c050101           [1, 1, 1]       3  0.010923\n",
      "77648    53594  c050101           [0, 0, 0]       3  2.643072\n",
      "78603    55003  c050101        [0, 0, 1, 0]       4  2.680244\n",
      "78991    55155  c050101     [1, 0, 1, 0, 0]       5  2.772981\n",
      "79451    55319  c050101        [1, 1, 0, 0]       4  1.867074\n",
      "80010    56193  c050101           [1, 1, 1]       3  0.010923\n",
      "80363    56578  c050101        [1, 0, 1, 1]       4  0.911459\n",
      "80428    56599  c050101  [1, 0, 1, 0, 0, 1]       6  2.775023\n",
      "80795    56884  c050101     [0, 0, 1, 0, 0]       5  3.600393\n",
      "80815    56886  c050101     [1, 0, 0, 1, 1]       5  1.818721\n",
      "80830    56887  c050101        [1, 1, 0, 1]       4  0.950386\n",
      "80848    56888  c050101     [0, 1, 0, 1, 1]       5  1.778985\n",
      "80864    56889  c050101  [1, 1, 0, 0, 0, 0]       6  3.687671\n",
      "81442    57662  c050101     [0, 1, 0, 0, 0]       5  3.605910\n",
      "81572    57837  c050101        [1, 0, 1, 1]       4  0.911459\n",
      "81612    57860  c050101     [1, 0, 0, 0, 1]       5  2.726446\n",
      "\n",
      "[197 rows x 5 columns]\n",
      "       user_id tag_code            is_right  length       ssr\n",
      "0        29110  c050101     [0, 0, 1, 0, 1]       5  2.681905\n",
      "561      29845  c050101        [1, 0, 1, 1]       4  0.911459\n",
      "699      29861  c050101        [1, 1, 0, 1]       4  0.950386\n",
      "1179     30411  c050101     [1, 0, 0, 0, 1]       5  2.726446\n",
      "1277     30525  c050101           [0, 0, 0]       3  2.643072\n",
      "3352     32576  c050101  [1, 1, 1, 1, 1, 0]       6  0.986371\n",
      "3556     32991  c050101     [0, 0, 1, 0, 1]       5  2.681905\n",
      "3604     33031  c050101        [1, 0, 1, 1]       4  0.911459\n",
      "4215     34006  c050101        [1, 0, 1, 0]       4  1.852793\n",
      "4265     34062  c050101           [1, 1, 0]       3  0.948651\n",
      "5217     34719  c050101     [0, 1, 1, 1, 1]       5  0.839925\n",
      "6455     34912  c050101        [0, 1, 1, 0]       4  1.798011\n",
      "6534     34916  c050101     [0, 1, 1, 0, 1]       5  1.799184\n",
      "6739     34920  c050101     [1, 0, 1, 1, 1]       5  0.911850\n",
      "6925     34924  c050101  [0, 1, 1, 1, 1, 1]       6  0.840087\n",
      "7099     34930  c050101     [0, 1, 1, 1, 1]       5  0.839925\n",
      "7188     34932  c050101  [1, 0, 1, 0, 1, 0]       6  2.803608\n",
      "7557     34951  c050101  [0, 1, 1, 1, 1, 0]       6  1.814651\n",
      "8268     35107  c050101     [1, 0, 1, 0, 1]       5  1.854452\n",
      "8515     35126  c050101        [1, 1, 0, 1]       4  0.950386\n",
      "8759     35163  c050101           [1, 1, 1]       3  0.010923\n",
      "9294     35211  c050101           [1, 1, 1]       3  0.010923\n",
      "9326     35214  c050101     [1, 0, 0, 0, 1]       5  2.726446\n",
      "9450     35261  c050101     [1, 1, 0, 1, 0]       5  1.898592\n",
      "9477     35266  c050101  [0, 1, 1, 0, 1, 0]       6  2.754987\n",
      "9532     35267  c050101     [1, 0, 0, 1, 1]       5  1.818721\n",
      "9723     35269  c050101  [0, 1, 1, 1, 1, 1]       6  0.840087\n",
      "9799     35270  c050101  [0, 1, 0, 0, 1, 0]       6  3.641104\n",
      "10054    35282  c050101     [1, 0, 0, 1, 1]       5  1.818721\n",
      "10098    35284  c050101        [1, 1, 0, 1]       4  0.950386\n",
      "...        ...      ...                 ...     ...       ...\n",
      "72819    50972  c050101  [0, 1, 0, 0, 1, 0]       6  3.641104\n",
      "72955    51022  c050101        [1, 0, 1, 0]       4  1.852793\n",
      "73615    51121  c050101     [1, 1, 1, 1, 0]       5  0.980818\n",
      "73659    51122  c050101  [0, 0, 0, 0, 0, 0]       6  5.369345\n",
      "74101    51179  c050101     [1, 0, 0, 0, 0]       5  3.633105\n",
      "74232    51203  c050101     [1, 0, 0, 1, 1]       5  1.818721\n",
      "74436    51247  c050101     [0, 0, 1, 1, 1]       5  1.739379\n",
      "74781    51297  c050101           [1, 1, 1]       3  0.010923\n",
      "75289    51951  c050101        [1, 1, 0, 1]       4  0.950386\n",
      "75461    51972  c050101     [0, 0, 1, 1, 1]       5  1.739379\n",
      "76113    52073  c050101           [0, 0, 1]       3  1.738124\n",
      "76301    52132  c050101        [0, 1, 1, 1]       4  0.839687\n",
      "76369    52154  c050101        [0, 1, 1, 0]       4  1.798011\n",
      "76634    52254  c050101  [0, 0, 0, 0, 0, 0]       6  5.369345\n",
      "77423    53406  c050101           [1, 1, 1]       3  0.010923\n",
      "77648    53594  c050101           [0, 0, 0]       3  2.643072\n",
      "78603    55003  c050101        [0, 0, 1, 0]       4  2.680244\n",
      "78991    55155  c050101     [1, 0, 1, 0, 0]       5  2.772981\n",
      "79451    55319  c050101        [1, 1, 0, 0]       4  1.867074\n",
      "80010    56193  c050101           [1, 1, 1]       3  0.010923\n",
      "80363    56578  c050101        [1, 0, 1, 1]       4  0.911459\n",
      "80428    56599  c050101  [1, 0, 1, 0, 0, 1]       6  2.775023\n",
      "80795    56884  c050101     [0, 0, 1, 0, 0]       5  3.600393\n",
      "80815    56886  c050101     [1, 0, 0, 1, 1]       5  1.818721\n",
      "80830    56887  c050101        [1, 1, 0, 1]       4  0.950386\n",
      "80848    56888  c050101     [0, 1, 0, 1, 1]       5  1.778985\n",
      "80864    56889  c050101  [1, 1, 0, 0, 0, 0]       6  3.687671\n",
      "81442    57662  c050101     [0, 1, 0, 0, 0]       5  3.605910\n",
      "81572    57837  c050101        [1, 0, 1, 1]       4  0.911459\n",
      "81612    57860  c050101     [1, 0, 0, 0, 1]       5  2.726446\n",
      "\n",
      "[197 rows x 5 columns]\n",
      "       user_id tag_code            is_right  length       ssr\n",
      "0        29110  c050101     [0, 0, 1, 0, 1]       5  2.681905\n",
      "561      29845  c050101        [1, 0, 1, 1]       4  0.911459\n",
      "699      29861  c050101        [1, 1, 0, 1]       4  0.950386\n",
      "1179     30411  c050101     [1, 0, 0, 0, 1]       5  2.726446\n",
      "1277     30525  c050101           [0, 0, 0]       3  2.643072\n",
      "3352     32576  c050101  [1, 1, 1, 1, 1, 0]       6  0.986371\n",
      "3556     32991  c050101     [0, 0, 1, 0, 1]       5  2.681905\n",
      "3604     33031  c050101        [1, 0, 1, 1]       4  0.911459\n",
      "4215     34006  c050101        [1, 0, 1, 0]       4  1.852793\n",
      "4265     34062  c050101           [1, 1, 0]       3  0.948651\n",
      "5217     34719  c050101     [0, 1, 1, 1, 1]       5  0.839925\n",
      "6455     34912  c050101        [0, 1, 1, 0]       4  1.798011\n",
      "6534     34916  c050101     [0, 1, 1, 0, 1]       5  1.799184\n",
      "6739     34920  c050101     [1, 0, 1, 1, 1]       5  0.911850\n",
      "6925     34924  c050101  [0, 1, 1, 1, 1, 1]       6  0.840087\n",
      "7099     34930  c050101     [0, 1, 1, 1, 1]       5  0.839925\n",
      "7188     34932  c050101  [1, 0, 1, 0, 1, 0]       6  2.803608\n",
      "7557     34951  c050101  [0, 1, 1, 1, 1, 0]       6  1.814651\n",
      "8268     35107  c050101     [1, 0, 1, 0, 1]       5  1.854452\n",
      "8515     35126  c050101        [1, 1, 0, 1]       4  0.950386\n",
      "8759     35163  c050101           [1, 1, 1]       3  0.010923\n",
      "9294     35211  c050101           [1, 1, 1]       3  0.010923\n",
      "9326     35214  c050101     [1, 0, 0, 0, 1]       5  2.726446\n",
      "9450     35261  c050101     [1, 1, 0, 1, 0]       5  1.898592\n",
      "9477     35266  c050101  [0, 1, 1, 0, 1, 0]       6  2.754987\n",
      "9532     35267  c050101     [1, 0, 0, 1, 1]       5  1.818721\n",
      "9723     35269  c050101  [0, 1, 1, 1, 1, 1]       6  0.840087\n",
      "9799     35270  c050101  [0, 1, 0, 0, 1, 0]       6  3.641104\n",
      "10054    35282  c050101     [1, 0, 0, 1, 1]       5  1.818721\n",
      "10098    35284  c050101        [1, 1, 0, 1]       4  0.950386\n",
      "...        ...      ...                 ...     ...       ...\n",
      "72819    50972  c050101  [0, 1, 0, 0, 1, 0]       6  3.641104\n",
      "72955    51022  c050101        [1, 0, 1, 0]       4  1.852793\n",
      "73615    51121  c050101     [1, 1, 1, 1, 0]       5  0.980818\n",
      "73659    51122  c050101  [0, 0, 0, 0, 0, 0]       6  5.369345\n",
      "74101    51179  c050101     [1, 0, 0, 0, 0]       5  3.633105\n",
      "74232    51203  c050101     [1, 0, 0, 1, 1]       5  1.818721\n",
      "74436    51247  c050101     [0, 0, 1, 1, 1]       5  1.739379\n",
      "74781    51297  c050101           [1, 1, 1]       3  0.010923\n",
      "75289    51951  c050101        [1, 1, 0, 1]       4  0.950386\n",
      "75461    51972  c050101     [0, 0, 1, 1, 1]       5  1.739379\n",
      "76113    52073  c050101           [0, 0, 1]       3  1.738124\n",
      "76301    52132  c050101        [0, 1, 1, 1]       4  0.839687\n",
      "76369    52154  c050101        [0, 1, 1, 0]       4  1.798011\n",
      "76634    52254  c050101  [0, 0, 0, 0, 0, 0]       6  5.369345\n",
      "77423    53406  c050101           [1, 1, 1]       3  0.010923\n",
      "77648    53594  c050101           [0, 0, 0]       3  2.643072\n",
      "78603    55003  c050101        [0, 0, 1, 0]       4  2.680244\n",
      "78991    55155  c050101     [1, 0, 1, 0, 0]       5  2.772981\n",
      "79451    55319  c050101        [1, 1, 0, 0]       4  1.867074\n",
      "80010    56193  c050101           [1, 1, 1]       3  0.010923\n",
      "80363    56578  c050101        [1, 0, 1, 1]       4  0.911459\n",
      "80428    56599  c050101  [1, 0, 1, 0, 0, 1]       6  2.775023\n",
      "80795    56884  c050101     [0, 0, 1, 0, 0]       5  3.600393\n",
      "80815    56886  c050101     [1, 0, 0, 1, 1]       5  1.818721\n",
      "80830    56887  c050101        [1, 1, 0, 1]       4  0.950386\n",
      "80848    56888  c050101     [0, 1, 0, 1, 1]       5  1.778985\n",
      "80864    56889  c050101  [1, 1, 0, 0, 0, 0]       6  3.687671\n",
      "81442    57662  c050101     [0, 1, 0, 0, 0]       5  3.605910\n",
      "81572    57837  c050101        [1, 0, 1, 1]       4  0.911459\n",
      "81612    57860  c050101     [1, 0, 0, 0, 1]       5  2.726446\n",
      "\n"
     ]
    },
    {
     "name": "stdout",
     "output_type": "stream",
     "text": [
      "[197 rows x 5 columns]\n",
      "       user_id tag_code            is_right  length       ssr\n",
      "0        29110  c050101     [0, 0, 1, 0, 1]       5  2.681905\n",
      "561      29845  c050101        [1, 0, 1, 1]       4  0.911459\n",
      "699      29861  c050101        [1, 1, 0, 1]       4  0.950386\n",
      "1179     30411  c050101     [1, 0, 0, 0, 1]       5  2.726446\n",
      "1277     30525  c050101           [0, 0, 0]       3  2.643072\n",
      "3352     32576  c050101  [1, 1, 1, 1, 1, 0]       6  0.986371\n",
      "3556     32991  c050101     [0, 0, 1, 0, 1]       5  2.681905\n",
      "3604     33031  c050101        [1, 0, 1, 1]       4  0.911459\n",
      "4215     34006  c050101        [1, 0, 1, 0]       4  1.852793\n",
      "4265     34062  c050101           [1, 1, 0]       3  0.948651\n",
      "5217     34719  c050101     [0, 1, 1, 1, 1]       5  0.839925\n",
      "6455     34912  c050101        [0, 1, 1, 0]       4  1.798011\n",
      "6534     34916  c050101     [0, 1, 1, 0, 1]       5  1.799184\n",
      "6739     34920  c050101     [1, 0, 1, 1, 1]       5  0.911850\n",
      "6925     34924  c050101  [0, 1, 1, 1, 1, 1]       6  0.840087\n",
      "7099     34930  c050101     [0, 1, 1, 1, 1]       5  0.839925\n",
      "7188     34932  c050101  [1, 0, 1, 0, 1, 0]       6  2.803608\n",
      "7557     34951  c050101  [0, 1, 1, 1, 1, 0]       6  1.814651\n",
      "8268     35107  c050101     [1, 0, 1, 0, 1]       5  1.854452\n",
      "8515     35126  c050101        [1, 1, 0, 1]       4  0.950386\n",
      "8759     35163  c050101           [1, 1, 1]       3  0.010923\n",
      "9294     35211  c050101           [1, 1, 1]       3  0.010923\n",
      "9326     35214  c050101     [1, 0, 0, 0, 1]       5  2.726446\n",
      "9450     35261  c050101     [1, 1, 0, 1, 0]       5  1.898592\n",
      "9477     35266  c050101  [0, 1, 1, 0, 1, 0]       6  2.754987\n",
      "9532     35267  c050101     [1, 0, 0, 1, 1]       5  1.818721\n",
      "9723     35269  c050101  [0, 1, 1, 1, 1, 1]       6  0.840087\n",
      "9799     35270  c050101  [0, 1, 0, 0, 1, 0]       6  3.641104\n",
      "10054    35282  c050101     [1, 0, 0, 1, 1]       5  1.818721\n",
      "10098    35284  c050101        [1, 1, 0, 1]       4  0.950386\n",
      "...        ...      ...                 ...     ...       ...\n",
      "72819    50972  c050101  [0, 1, 0, 0, 1, 0]       6  3.641104\n",
      "72955    51022  c050101        [1, 0, 1, 0]       4  1.852793\n",
      "73615    51121  c050101     [1, 1, 1, 1, 0]       5  0.980818\n",
      "73659    51122  c050101  [0, 0, 0, 0, 0, 0]       6  5.369345\n",
      "74101    51179  c050101     [1, 0, 0, 0, 0]       5  3.633105\n",
      "74232    51203  c050101     [1, 0, 0, 1, 1]       5  1.818721\n",
      "74436    51247  c050101     [0, 0, 1, 1, 1]       5  1.739379\n",
      "74781    51297  c050101           [1, 1, 1]       3  0.010923\n",
      "75289    51951  c050101        [1, 1, 0, 1]       4  0.950386\n",
      "75461    51972  c050101     [0, 0, 1, 1, 1]       5  1.739379\n",
      "76113    52073  c050101           [0, 0, 1]       3  1.738124\n",
      "76301    52132  c050101        [0, 1, 1, 1]       4  0.839687\n",
      "76369    52154  c050101        [0, 1, 1, 0]       4  1.798011\n",
      "76634    52254  c050101  [0, 0, 0, 0, 0, 0]       6  5.369345\n",
      "77423    53406  c050101           [1, 1, 1]       3  0.010923\n",
      "77648    53594  c050101           [0, 0, 0]       3  2.643072\n",
      "78603    55003  c050101        [0, 0, 1, 0]       4  2.680244\n",
      "78991    55155  c050101     [1, 0, 1, 0, 0]       5  2.772981\n",
      "79451    55319  c050101        [1, 1, 0, 0]       4  1.867074\n",
      "80010    56193  c050101           [1, 1, 1]       3  0.010923\n",
      "80363    56578  c050101        [1, 0, 1, 1]       4  0.911459\n",
      "80428    56599  c050101  [1, 0, 1, 0, 0, 1]       6  2.775023\n",
      "80795    56884  c050101     [0, 0, 1, 0, 0]       5  3.600393\n",
      "80815    56886  c050101     [1, 0, 0, 1, 1]       5  1.818721\n",
      "80830    56887  c050101        [1, 1, 0, 1]       4  0.950386\n",
      "80848    56888  c050101     [0, 1, 0, 1, 1]       5  1.778985\n",
      "80864    56889  c050101  [1, 1, 0, 0, 0, 0]       6  3.687671\n",
      "81442    57662  c050101     [0, 1, 0, 0, 0]       5  3.605910\n",
      "81572    57837  c050101        [1, 0, 1, 1]       4  0.911459\n",
      "81612    57860  c050101     [1, 0, 0, 0, 1]       5  2.726446\n",
      "\n",
      "[197 rows x 5 columns]\n",
      "       user_id tag_code            is_right  length       ssr\n",
      "0        29110  c050101     [0, 0, 1, 0, 1]       5  2.681905\n",
      "561      29845  c050101        [1, 0, 1, 1]       4  0.911459\n",
      "699      29861  c050101        [1, 1, 0, 1]       4  0.950386\n",
      "1179     30411  c050101     [1, 0, 0, 0, 1]       5  2.726446\n",
      "1277     30525  c050101           [0, 0, 0]       3  2.643072\n",
      "3352     32576  c050101  [1, 1, 1, 1, 1, 0]       6  0.986371\n",
      "3556     32991  c050101     [0, 0, 1, 0, 1]       5  2.681905\n",
      "3604     33031  c050101        [1, 0, 1, 1]       4  0.911459\n",
      "4215     34006  c050101        [1, 0, 1, 0]       4  1.852793\n",
      "4265     34062  c050101           [1, 1, 0]       3  0.948651\n",
      "5217     34719  c050101     [0, 1, 1, 1, 1]       5  0.839925\n",
      "6455     34912  c050101        [0, 1, 1, 0]       4  1.798011\n",
      "6534     34916  c050101     [0, 1, 1, 0, 1]       5  1.799184\n",
      "6739     34920  c050101     [1, 0, 1, 1, 1]       5  0.911850\n",
      "6925     34924  c050101  [0, 1, 1, 1, 1, 1]       6  0.840087\n",
      "7099     34930  c050101     [0, 1, 1, 1, 1]       5  0.839925\n",
      "7188     34932  c050101  [1, 0, 1, 0, 1, 0]       6  2.803608\n",
      "7557     34951  c050101  [0, 1, 1, 1, 1, 0]       6  1.814651\n",
      "8268     35107  c050101     [1, 0, 1, 0, 1]       5  1.854452\n",
      "8515     35126  c050101        [1, 1, 0, 1]       4  0.950386\n",
      "8759     35163  c050101           [1, 1, 1]       3  0.010923\n",
      "9294     35211  c050101           [1, 1, 1]       3  0.010923\n",
      "9326     35214  c050101     [1, 0, 0, 0, 1]       5  2.726446\n",
      "9450     35261  c050101     [1, 1, 0, 1, 0]       5  1.898592\n",
      "9477     35266  c050101  [0, 1, 1, 0, 1, 0]       6  2.754987\n",
      "9532     35267  c050101     [1, 0, 0, 1, 1]       5  1.818721\n",
      "9723     35269  c050101  [0, 1, 1, 1, 1, 1]       6  0.840087\n",
      "9799     35270  c050101  [0, 1, 0, 0, 1, 0]       6  3.641104\n",
      "10054    35282  c050101     [1, 0, 0, 1, 1]       5  1.818721\n",
      "10098    35284  c050101        [1, 1, 0, 1]       4  0.950386\n",
      "...        ...      ...                 ...     ...       ...\n",
      "72819    50972  c050101  [0, 1, 0, 0, 1, 0]       6  3.641104\n",
      "72955    51022  c050101        [1, 0, 1, 0]       4  1.852793\n",
      "73615    51121  c050101     [1, 1, 1, 1, 0]       5  0.980818\n",
      "73659    51122  c050101  [0, 0, 0, 0, 0, 0]       6  5.369345\n",
      "74101    51179  c050101     [1, 0, 0, 0, 0]       5  3.633105\n",
      "74232    51203  c050101     [1, 0, 0, 1, 1]       5  1.818721\n",
      "74436    51247  c050101     [0, 0, 1, 1, 1]       5  1.739379\n",
      "74781    51297  c050101           [1, 1, 1]       3  0.010923\n",
      "75289    51951  c050101        [1, 1, 0, 1]       4  0.950386\n",
      "75461    51972  c050101     [0, 0, 1, 1, 1]       5  1.739379\n",
      "76113    52073  c050101           [0, 0, 1]       3  1.738124\n",
      "76301    52132  c050101        [0, 1, 1, 1]       4  0.839687\n",
      "76369    52154  c050101        [0, 1, 1, 0]       4  1.798011\n",
      "76634    52254  c050101  [0, 0, 0, 0, 0, 0]       6  5.369345\n",
      "77423    53406  c050101           [1, 1, 1]       3  0.010923\n",
      "77648    53594  c050101           [0, 0, 0]       3  2.643072\n",
      "78603    55003  c050101        [0, 0, 1, 0]       4  2.680244\n",
      "78991    55155  c050101     [1, 0, 1, 0, 0]       5  2.772981\n",
      "79451    55319  c050101        [1, 1, 0, 0]       4  1.867074\n",
      "80010    56193  c050101           [1, 1, 1]       3  0.010923\n",
      "80363    56578  c050101        [1, 0, 1, 1]       4  0.911459\n",
      "80428    56599  c050101  [1, 0, 1, 0, 0, 1]       6  2.775023\n",
      "80795    56884  c050101     [0, 0, 1, 0, 0]       5  3.600393\n",
      "80815    56886  c050101     [1, 0, 0, 1, 1]       5  1.818721\n",
      "80830    56887  c050101        [1, 1, 0, 1]       4  0.950386\n",
      "80848    56888  c050101     [0, 1, 0, 1, 1]       5  1.778985\n",
      "80864    56889  c050101  [1, 1, 0, 0, 0, 0]       6  3.687671\n",
      "81442    57662  c050101     [0, 1, 0, 0, 0]       5  3.605910\n",
      "81572    57837  c050101        [1, 0, 1, 1]       4  0.911459\n",
      "81612    57860  c050101     [1, 0, 0, 0, 1]       5  2.726446\n",
      "\n",
      "[197 rows x 5 columns]\n",
      "       user_id tag_code            is_right  length       ssr\n",
      "0        29110  c050101     [0, 0, 1, 0, 1]       5  2.681905\n",
      "561      29845  c050101        [1, 0, 1, 1]       4  0.911459\n",
      "699      29861  c050101        [1, 1, 0, 1]       4  0.950386\n",
      "1179     30411  c050101     [1, 0, 0, 0, 1]       5  2.726446\n",
      "1277     30525  c050101           [0, 0, 0]       3  2.643072\n",
      "3352     32576  c050101  [1, 1, 1, 1, 1, 0]       6  0.986371\n",
      "3556     32991  c050101     [0, 0, 1, 0, 1]       5  2.681905\n",
      "3604     33031  c050101        [1, 0, 1, 1]       4  0.911459\n",
      "4215     34006  c050101        [1, 0, 1, 0]       4  1.852793\n",
      "4265     34062  c050101           [1, 1, 0]       3  0.948651\n",
      "5217     34719  c050101     [0, 1, 1, 1, 1]       5  0.839925\n",
      "6455     34912  c050101        [0, 1, 1, 0]       4  1.798011\n",
      "6534     34916  c050101     [0, 1, 1, 0, 1]       5  1.799184\n",
      "6739     34920  c050101     [1, 0, 1, 1, 1]       5  0.911850\n",
      "6925     34924  c050101  [0, 1, 1, 1, 1, 1]       6  0.840087\n",
      "7099     34930  c050101     [0, 1, 1, 1, 1]       5  0.839925\n",
      "7188     34932  c050101  [1, 0, 1, 0, 1, 0]       6  2.803608\n",
      "7557     34951  c050101  [0, 1, 1, 1, 1, 0]       6  1.814651\n",
      "8268     35107  c050101     [1, 0, 1, 0, 1]       5  1.854452\n",
      "8515     35126  c050101        [1, 1, 0, 1]       4  0.950386\n",
      "8759     35163  c050101           [1, 1, 1]       3  0.010923\n",
      "9294     35211  c050101           [1, 1, 1]       3  0.010923\n",
      "9326     35214  c050101     [1, 0, 0, 0, 1]       5  2.726446\n",
      "9450     35261  c050101     [1, 1, 0, 1, 0]       5  1.898592\n",
      "9477     35266  c050101  [0, 1, 1, 0, 1, 0]       6  2.754987\n",
      "9532     35267  c050101     [1, 0, 0, 1, 1]       5  1.818721\n",
      "9723     35269  c050101  [0, 1, 1, 1, 1, 1]       6  0.840087\n",
      "9799     35270  c050101  [0, 1, 0, 0, 1, 0]       6  3.641104\n",
      "10054    35282  c050101     [1, 0, 0, 1, 1]       5  1.818721\n",
      "10098    35284  c050101        [1, 1, 0, 1]       4  0.950386\n",
      "...        ...      ...                 ...     ...       ...\n",
      "72819    50972  c050101  [0, 1, 0, 0, 1, 0]       6  3.641104\n",
      "72955    51022  c050101        [1, 0, 1, 0]       4  1.852793\n",
      "73615    51121  c050101     [1, 1, 1, 1, 0]       5  0.980818\n",
      "73659    51122  c050101  [0, 0, 0, 0, 0, 0]       6  5.369345\n",
      "74101    51179  c050101     [1, 0, 0, 0, 0]       5  3.633105\n",
      "74232    51203  c050101     [1, 0, 0, 1, 1]       5  1.818721\n",
      "74436    51247  c050101     [0, 0, 1, 1, 1]       5  1.739379\n",
      "74781    51297  c050101           [1, 1, 1]       3  0.010923\n",
      "75289    51951  c050101        [1, 1, 0, 1]       4  0.950386\n",
      "75461    51972  c050101     [0, 0, 1, 1, 1]       5  1.739379\n",
      "76113    52073  c050101           [0, 0, 1]       3  1.738124\n",
      "76301    52132  c050101        [0, 1, 1, 1]       4  0.839687\n",
      "76369    52154  c050101        [0, 1, 1, 0]       4  1.798011\n",
      "76634    52254  c050101  [0, 0, 0, 0, 0, 0]       6  5.369345\n",
      "77423    53406  c050101           [1, 1, 1]       3  0.010923\n",
      "77648    53594  c050101           [0, 0, 0]       3  2.643072\n",
      "78603    55003  c050101        [0, 0, 1, 0]       4  2.680244\n",
      "78991    55155  c050101     [1, 0, 1, 0, 0]       5  2.772981\n",
      "79451    55319  c050101        [1, 1, 0, 0]       4  1.867074\n",
      "80010    56193  c050101           [1, 1, 1]       3  0.010923\n",
      "80363    56578  c050101        [1, 0, 1, 1]       4  0.911459\n",
      "80428    56599  c050101  [1, 0, 1, 0, 0, 1]       6  2.775023\n",
      "80795    56884  c050101     [0, 0, 1, 0, 0]       5  3.600393\n",
      "80815    56886  c050101     [1, 0, 0, 1, 1]       5  1.818721\n",
      "80830    56887  c050101        [1, 1, 0, 1]       4  0.950386\n",
      "80848    56888  c050101     [0, 1, 0, 1, 1]       5  1.778985\n",
      "80864    56889  c050101  [1, 1, 0, 0, 0, 0]       6  3.687671\n",
      "81442    57662  c050101     [0, 1, 0, 0, 0]       5  3.605910\n",
      "81572    57837  c050101        [1, 0, 1, 1]       4  0.911459\n",
      "81612    57860  c050101     [1, 0, 0, 0, 1]       5  2.726446\n",
      "\n"
     ]
    },
    {
     "name": "stdout",
     "output_type": "stream",
     "text": [
      "[197 rows x 5 columns]\n",
      "       user_id tag_code            is_right  length       ssr\n",
      "0        29110  c050101     [0, 0, 1, 0, 1]       5  1.483783\n",
      "561      29845  c050101        [1, 0, 1, 1]       4  0.851980\n",
      "699      29861  c050101        [1, 1, 0, 1]       4  1.153054\n",
      "1179     30411  c050101     [1, 0, 0, 0, 1]       5  1.531681\n",
      "1277     30525  c050101           [0, 0, 0]       3  0.968100\n",
      "3352     32576  c050101  [1, 1, 1, 1, 1, 0]       6  1.434486\n",
      "3556     32991  c050101     [0, 0, 1, 0, 1]       5  1.483783\n",
      "3604     33031  c050101        [1, 0, 1, 1]       4  0.851980\n",
      "4215     34006  c050101        [1, 0, 1, 0]       4  1.374872\n",
      "4265     34062  c050101           [1, 1, 0]       3  1.003756\n",
      "5217     34719  c050101     [0, 1, 1, 1, 1]       5  0.466825\n",
      "6455     34912  c050101        [0, 1, 1, 0]       4  1.223355\n",
      "6534     34916  c050101     [0, 1, 1, 0, 1]       5  1.360641\n",
      "6739     34920  c050101     [1, 0, 1, 1, 1]       5  0.866065\n",
      "6925     34924  c050101  [0, 1, 1, 1, 1, 1]       6  0.467574\n",
      "7099     34930  c050101     [0, 1, 1, 1, 1]       5  0.466825\n",
      "7188     34932  c050101  [1, 0, 1, 0, 1, 0]       6  2.113592\n",
      "7557     34951  c050101  [0, 1, 1, 1, 1, 0]       6  1.412807\n",
      "8268     35107  c050101     [1, 0, 1, 0, 1]       5  1.524449\n",
      "8515     35126  c050101        [1, 1, 0, 1]       4  1.153054\n",
      "8759     35163  c050101           [1, 1, 1]       3  0.470649\n",
      "9294     35211  c050101           [1, 1, 1]       3  0.470649\n",
      "9326     35214  c050101     [1, 0, 0, 0, 1]       5  1.531681\n",
      "9450     35261  c050101     [1, 1, 0, 1, 0]       5  1.742724\n",
      "9477     35266  c050101  [0, 1, 1, 0, 1, 0]       6  1.973146\n",
      "9532     35267  c050101     [1, 0, 0, 1, 1]       5  1.220483\n",
      "9723     35269  c050101  [0, 1, 1, 1, 1, 1]       6  0.467574\n",
      "9799     35270  c050101  [0, 1, 0, 0, 1, 0]       6  2.077502\n",
      "10054    35282  c050101     [1, 0, 0, 1, 1]       5  1.220483\n",
      "10098    35284  c050101        [1, 1, 0, 1]       4  1.153054\n",
      "...        ...      ...                 ...     ...       ...\n",
      "72819    50972  c050101  [0, 1, 0, 0, 1, 0]       6  2.077502\n",
      "72955    51022  c050101        [1, 0, 1, 0]       4  1.374872\n",
      "73615    51121  c050101     [1, 1, 1, 1, 0]       5  1.380416\n",
      "73659    51122  c050101  [0, 0, 0, 0, 0, 0]       6  2.072585\n",
      "74101    51179  c050101     [1, 0, 0, 0, 0]       5  1.745209\n",
      "74232    51203  c050101     [1, 0, 0, 1, 1]       5  1.220483\n",
      "74436    51247  c050101     [0, 0, 1, 1, 1]       5  0.825806\n",
      "74781    51297  c050101           [1, 1, 1]       3  0.470649\n",
      "75289    51951  c050101        [1, 1, 0, 1]       4  1.153054\n",
      "75461    51972  c050101     [0, 0, 1, 1, 1]       5  0.825806\n",
      "76113    52073  c050101           [0, 0, 1]       3  0.754692\n",
      "76301    52132  c050101        [0, 1, 1, 1]       4  0.463761\n",
      "76369    52154  c050101        [0, 1, 1, 0]       4  1.223355\n",
      "76634    52254  c050101  [0, 0, 0, 0, 0, 0]       6  2.072585\n",
      "77423    53406  c050101           [1, 1, 1]       3  0.470649\n",
      "77648    53594  c050101           [0, 0, 0]       3  0.968100\n",
      "78603    55003  c050101        [0, 0, 1, 0]       4  1.334195\n",
      "78991    55155  c050101     [1, 0, 1, 0, 0]       5  1.750945\n",
      "79451    55319  c050101        [1, 1, 0, 0]       4  1.380272\n",
      "80010    56193  c050101           [1, 1, 1]       3  0.470649\n",
      "80363    56578  c050101        [1, 0, 1, 1]       4  0.851980\n",
      "80428    56599  c050101  [1, 0, 1, 0, 0, 1]       6  1.905448\n",
      "80795    56884  c050101     [0, 0, 1, 0, 0]       5  1.710252\n",
      "80815    56886  c050101     [1, 0, 0, 1, 1]       5  1.220483\n",
      "80830    56887  c050101        [1, 1, 0, 1]       4  1.153054\n",
      "80848    56888  c050101     [0, 1, 0, 1, 1]       5  1.171105\n",
      "80864    56889  c050101  [1, 1, 0, 0, 0, 0]       6  2.116817\n",
      "81442    57662  c050101     [0, 1, 0, 0, 0]       5  1.711521\n",
      "81572    57837  c050101        [1, 0, 1, 1]       4  0.851980\n",
      "81612    57860  c050101     [1, 0, 0, 0, 1]       5  1.531681\n",
      "\n",
      "[197 rows x 5 columns]\n",
      "       user_id tag_code            is_right  length       ssr\n",
      "0        29110  c050101     [0, 0, 1, 0, 1]       5  1.483783\n",
      "561      29845  c050101        [1, 0, 1, 1]       4  0.851980\n",
      "699      29861  c050101        [1, 1, 0, 1]       4  1.153054\n",
      "1179     30411  c050101     [1, 0, 0, 0, 1]       5  1.531681\n",
      "1277     30525  c050101           [0, 0, 0]       3  0.968100\n",
      "3352     32576  c050101  [1, 1, 1, 1, 1, 0]       6  1.434486\n",
      "3556     32991  c050101     [0, 0, 1, 0, 1]       5  1.483783\n",
      "3604     33031  c050101        [1, 0, 1, 1]       4  0.851980\n",
      "4215     34006  c050101        [1, 0, 1, 0]       4  1.374872\n",
      "4265     34062  c050101           [1, 1, 0]       3  1.003756\n",
      "5217     34719  c050101     [0, 1, 1, 1, 1]       5  0.466825\n",
      "6455     34912  c050101        [0, 1, 1, 0]       4  1.223355\n",
      "6534     34916  c050101     [0, 1, 1, 0, 1]       5  1.360641\n",
      "6739     34920  c050101     [1, 0, 1, 1, 1]       5  0.866065\n",
      "6925     34924  c050101  [0, 1, 1, 1, 1, 1]       6  0.467574\n",
      "7099     34930  c050101     [0, 1, 1, 1, 1]       5  0.466825\n",
      "7188     34932  c050101  [1, 0, 1, 0, 1, 0]       6  2.113592\n",
      "7557     34951  c050101  [0, 1, 1, 1, 1, 0]       6  1.412807\n",
      "8268     35107  c050101     [1, 0, 1, 0, 1]       5  1.524449\n",
      "8515     35126  c050101        [1, 1, 0, 1]       4  1.153054\n",
      "8759     35163  c050101           [1, 1, 1]       3  0.470649\n",
      "9294     35211  c050101           [1, 1, 1]       3  0.470649\n",
      "9326     35214  c050101     [1, 0, 0, 0, 1]       5  1.531681\n",
      "9450     35261  c050101     [1, 1, 0, 1, 0]       5  1.742724\n",
      "9477     35266  c050101  [0, 1, 1, 0, 1, 0]       6  1.973146\n",
      "9532     35267  c050101     [1, 0, 0, 1, 1]       5  1.220483\n",
      "9723     35269  c050101  [0, 1, 1, 1, 1, 1]       6  0.467574\n",
      "9799     35270  c050101  [0, 1, 0, 0, 1, 0]       6  2.077502\n",
      "10054    35282  c050101     [1, 0, 0, 1, 1]       5  1.220483\n",
      "10098    35284  c050101        [1, 1, 0, 1]       4  1.153054\n",
      "...        ...      ...                 ...     ...       ...\n",
      "72819    50972  c050101  [0, 1, 0, 0, 1, 0]       6  2.077502\n",
      "72955    51022  c050101        [1, 0, 1, 0]       4  1.374872\n",
      "73615    51121  c050101     [1, 1, 1, 1, 0]       5  1.380416\n",
      "73659    51122  c050101  [0, 0, 0, 0, 0, 0]       6  2.072585\n",
      "74101    51179  c050101     [1, 0, 0, 0, 0]       5  1.745209\n",
      "74232    51203  c050101     [1, 0, 0, 1, 1]       5  1.220483\n",
      "74436    51247  c050101     [0, 0, 1, 1, 1]       5  0.825806\n",
      "74781    51297  c050101           [1, 1, 1]       3  0.470649\n",
      "75289    51951  c050101        [1, 1, 0, 1]       4  1.153054\n",
      "75461    51972  c050101     [0, 0, 1, 1, 1]       5  0.825806\n",
      "76113    52073  c050101           [0, 0, 1]       3  0.754692\n",
      "76301    52132  c050101        [0, 1, 1, 1]       4  0.463761\n",
      "76369    52154  c050101        [0, 1, 1, 0]       4  1.223355\n",
      "76634    52254  c050101  [0, 0, 0, 0, 0, 0]       6  2.072585\n",
      "77423    53406  c050101           [1, 1, 1]       3  0.470649\n",
      "77648    53594  c050101           [0, 0, 0]       3  0.968100\n",
      "78603    55003  c050101        [0, 0, 1, 0]       4  1.334195\n",
      "78991    55155  c050101     [1, 0, 1, 0, 0]       5  1.750945\n",
      "79451    55319  c050101        [1, 1, 0, 0]       4  1.380272\n",
      "80010    56193  c050101           [1, 1, 1]       3  0.470649\n",
      "80363    56578  c050101        [1, 0, 1, 1]       4  0.851980\n",
      "80428    56599  c050101  [1, 0, 1, 0, 0, 1]       6  1.905448\n",
      "80795    56884  c050101     [0, 0, 1, 0, 0]       5  1.710252\n",
      "80815    56886  c050101     [1, 0, 0, 1, 1]       5  1.220483\n",
      "80830    56887  c050101        [1, 1, 0, 1]       4  1.153054\n",
      "80848    56888  c050101     [0, 1, 0, 1, 1]       5  1.171105\n",
      "80864    56889  c050101  [1, 1, 0, 0, 0, 0]       6  2.116817\n",
      "81442    57662  c050101     [0, 1, 0, 0, 0]       5  1.711521\n",
      "81572    57837  c050101        [1, 0, 1, 1]       4  0.851980\n",
      "81612    57860  c050101     [1, 0, 0, 0, 1]       5  1.531681\n",
      "\n",
      "[197 rows x 5 columns]\n",
      "       user_id tag_code            is_right  length       ssr\n",
      "0        29110  c050101     [0, 0, 1, 0, 1]       5  1.483783\n",
      "561      29845  c050101        [1, 0, 1, 1]       4  0.851980\n",
      "699      29861  c050101        [1, 1, 0, 1]       4  1.153054\n",
      "1179     30411  c050101     [1, 0, 0, 0, 1]       5  1.531681\n",
      "1277     30525  c050101           [0, 0, 0]       3  0.968100\n",
      "3352     32576  c050101  [1, 1, 1, 1, 1, 0]       6  1.434486\n",
      "3556     32991  c050101     [0, 0, 1, 0, 1]       5  1.483783\n",
      "3604     33031  c050101        [1, 0, 1, 1]       4  0.851980\n",
      "4215     34006  c050101        [1, 0, 1, 0]       4  1.374872\n",
      "4265     34062  c050101           [1, 1, 0]       3  1.003756\n",
      "5217     34719  c050101     [0, 1, 1, 1, 1]       5  0.466825\n",
      "6455     34912  c050101        [0, 1, 1, 0]       4  1.223355\n",
      "6534     34916  c050101     [0, 1, 1, 0, 1]       5  1.360641\n",
      "6739     34920  c050101     [1, 0, 1, 1, 1]       5  0.866065\n",
      "6925     34924  c050101  [0, 1, 1, 1, 1, 1]       6  0.467574\n",
      "7099     34930  c050101     [0, 1, 1, 1, 1]       5  0.466825\n",
      "7188     34932  c050101  [1, 0, 1, 0, 1, 0]       6  2.113592\n",
      "7557     34951  c050101  [0, 1, 1, 1, 1, 0]       6  1.412807\n",
      "8268     35107  c050101     [1, 0, 1, 0, 1]       5  1.524449\n",
      "8515     35126  c050101        [1, 1, 0, 1]       4  1.153054\n",
      "8759     35163  c050101           [1, 1, 1]       3  0.470649\n",
      "9294     35211  c050101           [1, 1, 1]       3  0.470649\n",
      "9326     35214  c050101     [1, 0, 0, 0, 1]       5  1.531681\n",
      "9450     35261  c050101     [1, 1, 0, 1, 0]       5  1.742724\n",
      "9477     35266  c050101  [0, 1, 1, 0, 1, 0]       6  1.973146\n",
      "9532     35267  c050101     [1, 0, 0, 1, 1]       5  1.220483\n",
      "9723     35269  c050101  [0, 1, 1, 1, 1, 1]       6  0.467574\n",
      "9799     35270  c050101  [0, 1, 0, 0, 1, 0]       6  2.077502\n",
      "10054    35282  c050101     [1, 0, 0, 1, 1]       5  1.220483\n",
      "10098    35284  c050101        [1, 1, 0, 1]       4  1.153054\n",
      "...        ...      ...                 ...     ...       ...\n",
      "72819    50972  c050101  [0, 1, 0, 0, 1, 0]       6  2.077502\n",
      "72955    51022  c050101        [1, 0, 1, 0]       4  1.374872\n",
      "73615    51121  c050101     [1, 1, 1, 1, 0]       5  1.380416\n",
      "73659    51122  c050101  [0, 0, 0, 0, 0, 0]       6  2.072585\n",
      "74101    51179  c050101     [1, 0, 0, 0, 0]       5  1.745209\n",
      "74232    51203  c050101     [1, 0, 0, 1, 1]       5  1.220483\n",
      "74436    51247  c050101     [0, 0, 1, 1, 1]       5  0.825806\n",
      "74781    51297  c050101           [1, 1, 1]       3  0.470649\n",
      "75289    51951  c050101        [1, 1, 0, 1]       4  1.153054\n",
      "75461    51972  c050101     [0, 0, 1, 1, 1]       5  0.825806\n",
      "76113    52073  c050101           [0, 0, 1]       3  0.754692\n",
      "76301    52132  c050101        [0, 1, 1, 1]       4  0.463761\n",
      "76369    52154  c050101        [0, 1, 1, 0]       4  1.223355\n",
      "76634    52254  c050101  [0, 0, 0, 0, 0, 0]       6  2.072585\n",
      "77423    53406  c050101           [1, 1, 1]       3  0.470649\n",
      "77648    53594  c050101           [0, 0, 0]       3  0.968100\n",
      "78603    55003  c050101        [0, 0, 1, 0]       4  1.334195\n",
      "78991    55155  c050101     [1, 0, 1, 0, 0]       5  1.750945\n",
      "79451    55319  c050101        [1, 1, 0, 0]       4  1.380272\n",
      "80010    56193  c050101           [1, 1, 1]       3  0.470649\n",
      "80363    56578  c050101        [1, 0, 1, 1]       4  0.851980\n",
      "80428    56599  c050101  [1, 0, 1, 0, 0, 1]       6  1.905448\n",
      "80795    56884  c050101     [0, 0, 1, 0, 0]       5  1.710252\n",
      "80815    56886  c050101     [1, 0, 0, 1, 1]       5  1.220483\n",
      "80830    56887  c050101        [1, 1, 0, 1]       4  1.153054\n",
      "80848    56888  c050101     [0, 1, 0, 1, 1]       5  1.171105\n",
      "80864    56889  c050101  [1, 1, 0, 0, 0, 0]       6  2.116817\n",
      "81442    57662  c050101     [0, 1, 0, 0, 0]       5  1.711521\n",
      "81572    57837  c050101        [1, 0, 1, 1]       4  0.851980\n",
      "81612    57860  c050101     [1, 0, 0, 0, 1]       5  1.531681\n",
      "\n"
     ]
    },
    {
     "name": "stdout",
     "output_type": "stream",
     "text": [
      "[197 rows x 5 columns]\n",
      "       user_id tag_code            is_right  length       ssr\n",
      "0        29110  c050101     [0, 0, 1, 0, 1]       5  1.483783\n",
      "561      29845  c050101        [1, 0, 1, 1]       4  0.851980\n",
      "699      29861  c050101        [1, 1, 0, 1]       4  1.153054\n",
      "1179     30411  c050101     [1, 0, 0, 0, 1]       5  1.531681\n",
      "1277     30525  c050101           [0, 0, 0]       3  0.968100\n",
      "3352     32576  c050101  [1, 1, 1, 1, 1, 0]       6  1.434486\n",
      "3556     32991  c050101     [0, 0, 1, 0, 1]       5  1.483783\n",
      "3604     33031  c050101        [1, 0, 1, 1]       4  0.851980\n",
      "4215     34006  c050101        [1, 0, 1, 0]       4  1.374872\n",
      "4265     34062  c050101           [1, 1, 0]       3  1.003756\n",
      "5217     34719  c050101     [0, 1, 1, 1, 1]       5  0.466825\n",
      "6455     34912  c050101        [0, 1, 1, 0]       4  1.223355\n",
      "6534     34916  c050101     [0, 1, 1, 0, 1]       5  1.360641\n",
      "6739     34920  c050101     [1, 0, 1, 1, 1]       5  0.866065\n",
      "6925     34924  c050101  [0, 1, 1, 1, 1, 1]       6  0.467574\n",
      "7099     34930  c050101     [0, 1, 1, 1, 1]       5  0.466825\n",
      "7188     34932  c050101  [1, 0, 1, 0, 1, 0]       6  2.113592\n",
      "7557     34951  c050101  [0, 1, 1, 1, 1, 0]       6  1.412807\n",
      "8268     35107  c050101     [1, 0, 1, 0, 1]       5  1.524449\n",
      "8515     35126  c050101        [1, 1, 0, 1]       4  1.153054\n",
      "8759     35163  c050101           [1, 1, 1]       3  0.470649\n",
      "9294     35211  c050101           [1, 1, 1]       3  0.470649\n",
      "9326     35214  c050101     [1, 0, 0, 0, 1]       5  1.531681\n",
      "9450     35261  c050101     [1, 1, 0, 1, 0]       5  1.742724\n",
      "9477     35266  c050101  [0, 1, 1, 0, 1, 0]       6  1.973146\n",
      "9532     35267  c050101     [1, 0, 0, 1, 1]       5  1.220483\n",
      "9723     35269  c050101  [0, 1, 1, 1, 1, 1]       6  0.467574\n",
      "9799     35270  c050101  [0, 1, 0, 0, 1, 0]       6  2.077502\n",
      "10054    35282  c050101     [1, 0, 0, 1, 1]       5  1.220483\n",
      "10098    35284  c050101        [1, 1, 0, 1]       4  1.153054\n",
      "...        ...      ...                 ...     ...       ...\n",
      "72819    50972  c050101  [0, 1, 0, 0, 1, 0]       6  2.077502\n",
      "72955    51022  c050101        [1, 0, 1, 0]       4  1.374872\n",
      "73615    51121  c050101     [1, 1, 1, 1, 0]       5  1.380416\n",
      "73659    51122  c050101  [0, 0, 0, 0, 0, 0]       6  2.072585\n",
      "74101    51179  c050101     [1, 0, 0, 0, 0]       5  1.745209\n",
      "74232    51203  c050101     [1, 0, 0, 1, 1]       5  1.220483\n",
      "74436    51247  c050101     [0, 0, 1, 1, 1]       5  0.825806\n",
      "74781    51297  c050101           [1, 1, 1]       3  0.470649\n",
      "75289    51951  c050101        [1, 1, 0, 1]       4  1.153054\n",
      "75461    51972  c050101     [0, 0, 1, 1, 1]       5  0.825806\n",
      "76113    52073  c050101           [0, 0, 1]       3  0.754692\n",
      "76301    52132  c050101        [0, 1, 1, 1]       4  0.463760\n",
      "76369    52154  c050101        [0, 1, 1, 0]       4  1.223355\n",
      "76634    52254  c050101  [0, 0, 0, 0, 0, 0]       6  2.072585\n",
      "77423    53406  c050101           [1, 1, 1]       3  0.470649\n",
      "77648    53594  c050101           [0, 0, 0]       3  0.968100\n",
      "78603    55003  c050101        [0, 0, 1, 0]       4  1.334195\n",
      "78991    55155  c050101     [1, 0, 1, 0, 0]       5  1.750945\n",
      "79451    55319  c050101        [1, 1, 0, 0]       4  1.380272\n",
      "80010    56193  c050101           [1, 1, 1]       3  0.470649\n",
      "80363    56578  c050101        [1, 0, 1, 1]       4  0.851980\n",
      "80428    56599  c050101  [1, 0, 1, 0, 0, 1]       6  1.905448\n",
      "80795    56884  c050101     [0, 0, 1, 0, 0]       5  1.710252\n",
      "80815    56886  c050101     [1, 0, 0, 1, 1]       5  1.220483\n",
      "80830    56887  c050101        [1, 1, 0, 1]       4  1.153054\n",
      "80848    56888  c050101     [0, 1, 0, 1, 1]       5  1.171105\n",
      "80864    56889  c050101  [1, 1, 0, 0, 0, 0]       6  2.116817\n",
      "81442    57662  c050101     [0, 1, 0, 0, 0]       5  1.711521\n",
      "81572    57837  c050101        [1, 0, 1, 1]       4  0.851980\n",
      "81612    57860  c050101     [1, 0, 0, 0, 1]       5  1.531681\n",
      "\n",
      "[197 rows x 5 columns]\n",
      "       user_id tag_code            is_right  length       ssr\n",
      "0        29110  c050101     [0, 0, 1, 0, 1]       5  1.483783\n",
      "561      29845  c050101        [1, 0, 1, 1]       4  0.851980\n",
      "699      29861  c050101        [1, 1, 0, 1]       4  1.153054\n",
      "1179     30411  c050101     [1, 0, 0, 0, 1]       5  1.531681\n",
      "1277     30525  c050101           [0, 0, 0]       3  0.968100\n",
      "3352     32576  c050101  [1, 1, 1, 1, 1, 0]       6  1.434486\n",
      "3556     32991  c050101     [0, 0, 1, 0, 1]       5  1.483783\n",
      "3604     33031  c050101        [1, 0, 1, 1]       4  0.851980\n",
      "4215     34006  c050101        [1, 0, 1, 0]       4  1.374872\n",
      "4265     34062  c050101           [1, 1, 0]       3  1.003756\n",
      "5217     34719  c050101     [0, 1, 1, 1, 1]       5  0.466825\n",
      "6455     34912  c050101        [0, 1, 1, 0]       4  1.223355\n",
      "6534     34916  c050101     [0, 1, 1, 0, 1]       5  1.360641\n",
      "6739     34920  c050101     [1, 0, 1, 1, 1]       5  0.866065\n",
      "6925     34924  c050101  [0, 1, 1, 1, 1, 1]       6  0.467574\n",
      "7099     34930  c050101     [0, 1, 1, 1, 1]       5  0.466825\n",
      "7188     34932  c050101  [1, 0, 1, 0, 1, 0]       6  2.113592\n",
      "7557     34951  c050101  [0, 1, 1, 1, 1, 0]       6  1.412807\n",
      "8268     35107  c050101     [1, 0, 1, 0, 1]       5  1.524449\n",
      "8515     35126  c050101        [1, 1, 0, 1]       4  1.153054\n",
      "8759     35163  c050101           [1, 1, 1]       3  0.470649\n",
      "9294     35211  c050101           [1, 1, 1]       3  0.470649\n",
      "9326     35214  c050101     [1, 0, 0, 0, 1]       5  1.531681\n",
      "9450     35261  c050101     [1, 1, 0, 1, 0]       5  1.742724\n",
      "9477     35266  c050101  [0, 1, 1, 0, 1, 0]       6  1.973146\n",
      "9532     35267  c050101     [1, 0, 0, 1, 1]       5  1.220483\n",
      "9723     35269  c050101  [0, 1, 1, 1, 1, 1]       6  0.467574\n",
      "9799     35270  c050101  [0, 1, 0, 0, 1, 0]       6  2.077502\n",
      "10054    35282  c050101     [1, 0, 0, 1, 1]       5  1.220483\n",
      "10098    35284  c050101        [1, 1, 0, 1]       4  1.153054\n",
      "...        ...      ...                 ...     ...       ...\n",
      "72819    50972  c050101  [0, 1, 0, 0, 1, 0]       6  2.077502\n",
      "72955    51022  c050101        [1, 0, 1, 0]       4  1.374872\n",
      "73615    51121  c050101     [1, 1, 1, 1, 0]       5  1.380416\n",
      "73659    51122  c050101  [0, 0, 0, 0, 0, 0]       6  2.072585\n",
      "74101    51179  c050101     [1, 0, 0, 0, 0]       5  1.745209\n",
      "74232    51203  c050101     [1, 0, 0, 1, 1]       5  1.220483\n",
      "74436    51247  c050101     [0, 0, 1, 1, 1]       5  0.825806\n",
      "74781    51297  c050101           [1, 1, 1]       3  0.470649\n",
      "75289    51951  c050101        [1, 1, 0, 1]       4  1.153054\n",
      "75461    51972  c050101     [0, 0, 1, 1, 1]       5  0.825806\n",
      "76113    52073  c050101           [0, 0, 1]       3  0.754692\n",
      "76301    52132  c050101        [0, 1, 1, 1]       4  0.463761\n",
      "76369    52154  c050101        [0, 1, 1, 0]       4  1.223355\n",
      "76634    52254  c050101  [0, 0, 0, 0, 0, 0]       6  2.072585\n",
      "77423    53406  c050101           [1, 1, 1]       3  0.470649\n",
      "77648    53594  c050101           [0, 0, 0]       3  0.968100\n",
      "78603    55003  c050101        [0, 0, 1, 0]       4  1.334195\n",
      "78991    55155  c050101     [1, 0, 1, 0, 0]       5  1.750945\n",
      "79451    55319  c050101        [1, 1, 0, 0]       4  1.380272\n",
      "80010    56193  c050101           [1, 1, 1]       3  0.470649\n",
      "80363    56578  c050101        [1, 0, 1, 1]       4  0.851980\n",
      "80428    56599  c050101  [1, 0, 1, 0, 0, 1]       6  1.905448\n",
      "80795    56884  c050101     [0, 0, 1, 0, 0]       5  1.710252\n",
      "80815    56886  c050101     [1, 0, 0, 1, 1]       5  1.220483\n",
      "80830    56887  c050101        [1, 1, 0, 1]       4  1.153054\n",
      "80848    56888  c050101     [0, 1, 0, 1, 1]       5  1.171105\n",
      "80864    56889  c050101  [1, 1, 0, 0, 0, 0]       6  2.116817\n",
      "81442    57662  c050101     [0, 1, 0, 0, 0]       5  1.711521\n",
      "81572    57837  c050101        [1, 0, 1, 1]       4  0.851980\n",
      "81612    57860  c050101     [1, 0, 0, 0, 1]       5  1.531681\n",
      "\n",
      "[197 rows x 5 columns]\n",
      "       user_id tag_code            is_right  length       ssr\n",
      "0        29110  c050101     [0, 0, 1, 0, 1]       5  1.483783\n",
      "561      29845  c050101        [1, 0, 1, 1]       4  0.851980\n",
      "699      29861  c050101        [1, 1, 0, 1]       4  1.153054\n",
      "1179     30411  c050101     [1, 0, 0, 0, 1]       5  1.531681\n",
      "1277     30525  c050101           [0, 0, 0]       3  0.968100\n",
      "3352     32576  c050101  [1, 1, 1, 1, 1, 0]       6  1.434486\n",
      "3556     32991  c050101     [0, 0, 1, 0, 1]       5  1.483783\n",
      "3604     33031  c050101        [1, 0, 1, 1]       4  0.851980\n",
      "4215     34006  c050101        [1, 0, 1, 0]       4  1.374872\n",
      "4265     34062  c050101           [1, 1, 0]       3  1.003756\n",
      "5217     34719  c050101     [0, 1, 1, 1, 1]       5  0.466825\n",
      "6455     34912  c050101        [0, 1, 1, 0]       4  1.223355\n",
      "6534     34916  c050101     [0, 1, 1, 0, 1]       5  1.360641\n",
      "6739     34920  c050101     [1, 0, 1, 1, 1]       5  0.866065\n",
      "6925     34924  c050101  [0, 1, 1, 1, 1, 1]       6  0.467574\n",
      "7099     34930  c050101     [0, 1, 1, 1, 1]       5  0.466825\n",
      "7188     34932  c050101  [1, 0, 1, 0, 1, 0]       6  2.113592\n",
      "7557     34951  c050101  [0, 1, 1, 1, 1, 0]       6  1.412807\n",
      "8268     35107  c050101     [1, 0, 1, 0, 1]       5  1.524449\n",
      "8515     35126  c050101        [1, 1, 0, 1]       4  1.153054\n",
      "8759     35163  c050101           [1, 1, 1]       3  0.470649\n",
      "9294     35211  c050101           [1, 1, 1]       3  0.470649\n",
      "9326     35214  c050101     [1, 0, 0, 0, 1]       5  1.531681\n",
      "9450     35261  c050101     [1, 1, 0, 1, 0]       5  1.742724\n",
      "9477     35266  c050101  [0, 1, 1, 0, 1, 0]       6  1.973146\n",
      "9532     35267  c050101     [1, 0, 0, 1, 1]       5  1.220483\n",
      "9723     35269  c050101  [0, 1, 1, 1, 1, 1]       6  0.467574\n",
      "9799     35270  c050101  [0, 1, 0, 0, 1, 0]       6  2.077502\n",
      "10054    35282  c050101     [1, 0, 0, 1, 1]       5  1.220483\n",
      "10098    35284  c050101        [1, 1, 0, 1]       4  1.153054\n",
      "...        ...      ...                 ...     ...       ...\n",
      "72819    50972  c050101  [0, 1, 0, 0, 1, 0]       6  2.077502\n",
      "72955    51022  c050101        [1, 0, 1, 0]       4  1.374872\n",
      "73615    51121  c050101     [1, 1, 1, 1, 0]       5  1.380416\n",
      "73659    51122  c050101  [0, 0, 0, 0, 0, 0]       6  2.072585\n",
      "74101    51179  c050101     [1, 0, 0, 0, 0]       5  1.745209\n",
      "74232    51203  c050101     [1, 0, 0, 1, 1]       5  1.220483\n",
      "74436    51247  c050101     [0, 0, 1, 1, 1]       5  0.825806\n",
      "74781    51297  c050101           [1, 1, 1]       3  0.470649\n",
      "75289    51951  c050101        [1, 1, 0, 1]       4  1.153054\n",
      "75461    51972  c050101     [0, 0, 1, 1, 1]       5  0.825806\n",
      "76113    52073  c050101           [0, 0, 1]       3  0.754692\n",
      "76301    52132  c050101        [0, 1, 1, 1]       4  0.463761\n",
      "76369    52154  c050101        [0, 1, 1, 0]       4  1.223355\n",
      "76634    52254  c050101  [0, 0, 0, 0, 0, 0]       6  2.072585\n",
      "77423    53406  c050101           [1, 1, 1]       3  0.470649\n",
      "77648    53594  c050101           [0, 0, 0]       3  0.968100\n",
      "78603    55003  c050101        [0, 0, 1, 0]       4  1.334195\n",
      "78991    55155  c050101     [1, 0, 1, 0, 0]       5  1.750945\n",
      "79451    55319  c050101        [1, 1, 0, 0]       4  1.380272\n",
      "80010    56193  c050101           [1, 1, 1]       3  0.470649\n",
      "80363    56578  c050101        [1, 0, 1, 1]       4  0.851980\n",
      "80428    56599  c050101  [1, 0, 1, 0, 0, 1]       6  1.905448\n",
      "80795    56884  c050101     [0, 0, 1, 0, 0]       5  1.710252\n",
      "80815    56886  c050101     [1, 0, 0, 1, 1]       5  1.220483\n",
      "80830    56887  c050101        [1, 1, 0, 1]       4  1.153054\n",
      "80848    56888  c050101     [0, 1, 0, 1, 1]       5  1.171105\n",
      "80864    56889  c050101  [1, 1, 0, 0, 0, 0]       6  2.116817\n",
      "81442    57662  c050101     [0, 1, 0, 0, 0]       5  1.711521\n",
      "81572    57837  c050101        [1, 0, 1, 1]       4  0.851980\n",
      "81612    57860  c050101     [1, 0, 0, 0, 1]       5  1.531681\n",
      "\n"
     ]
    },
    {
     "name": "stdout",
     "output_type": "stream",
     "text": [
      "[197 rows x 5 columns]\n"
     ]
    },
    {
     "data": {
      "text/plain": [
       "     fun: 0.27445041\n",
       "     jac: array([0., 0., 0., 0.])\n",
       " message: 'Optimization terminated successfully.'\n",
       "    nfev: 24\n",
       "     nit: 1\n",
       "    njev: 4\n",
       "  status: 0\n",
       " success: True\n",
       "       x: array([0.01      , 0.24468671, 0.47937341, 0.01      ])"
      ]
     },
     "execution_count": 151,
     "metadata": {},
     "output_type": "execute_result"
    }
   ],
   "source": [
    "from scipy.optimize import minimize\n",
    "minimize(my_partial, x0=[0.01,0.01,0.01,0.01], method='CG', bounds=search_ranges)"
   ]
  },
  {
   "cell_type": "code",
   "execution_count": 76,
   "metadata": {},
   "outputs": [
    {
     "name": "stderr",
     "output_type": "stream",
     "text": [
      "/Users/Zhenyue/anaconda3/lib/python3.6/site-packages/scipy/optimize/_minimize.py:518: RuntimeWarning: Method Powell cannot handle constraints nor bounds.\n",
      "  RuntimeWarning)\n"
     ]
    },
    {
     "data": {
      "text/plain": [
       "   direc: array([[ 1.        ,  0.        ,  0.        ,  0.        ],\n",
       "       [ 0.        ,  1.        ,  0.        ,  0.        ],\n",
       "       [ 0.        ,  0.        ,  0.        ,  1.        ],\n",
       "       [-0.01398343, -0.12927775,  0.08135535, -0.00607246]])\n",
       "     fun: 0.24632173\n",
       " message: 'Optimization terminated successfully.'\n",
       "    nfev: 290\n",
       "     nit: 5\n",
       "  status: 0\n",
       " success: True\n",
       "       x: array([ 0.90750178, -0.57813519,  0.44754506,  0.41503912])"
      ]
     },
     "execution_count": 76,
     "metadata": {},
     "output_type": "execute_result"
    }
   ],
   "source": [
    "from scipy.optimize import minimize, basinhopping\n",
    "minimize(my_partial, x0=[0.01,0.01,0.01,0.01], method='Powell', bounds=search_ranges)"
   ]
  },
  {
   "cell_type": "code",
   "execution_count": 77,
   "metadata": {
    "scrolled": false
   },
   "outputs": [
    {
     "data": {
      "text/plain": [
       "      fun: 0.32502505\n",
       " hess_inv: <4x4 LbfgsInvHessProduct with dtype=float64>\n",
       "      jac: array([0., 0., 0., 0.])\n",
       "  message: b'CONVERGENCE: NORM_OF_PROJECTED_GRADIENT_<=_PGTOL'\n",
       "     nfev: 10\n",
       "      nit: 1\n",
       "   status: 0\n",
       "  success: True\n",
       "        x: array([0.01, 0.51, 0.31, 0.01])"
      ]
     },
     "execution_count": 77,
     "metadata": {},
     "output_type": "execute_result"
    }
   ],
   "source": [
    "minimize(my_partial, x0=[0.01,0.01,0.01,0.01], method='L-BFGS-B', bounds=search_ranges)"
   ]
  },
  {
   "cell_type": "code",
   "execution_count": 79,
   "metadata": {},
   "outputs": [
    {
     "name": "stdout",
     "output_type": "stream",
     "text": [
      "basinhopping step 0: f 0.256019\n",
      "basinhopping step 1: f 0.247801 trial_f 0.247801 accepted 1  lowest_f 0.247801\n",
      "found new global minimum on step 1 with function value 0.247801\n",
      "warning: basinhopping: local minimization failure\n",
      "basinhopping step 2: f 0.378885 trial_f 0.378885 accepted 1  lowest_f 0.247801\n",
      "basinhopping step 3: f 0.309162 trial_f 0.309162 accepted 1  lowest_f 0.247801\n",
      "warning: basinhopping: local minimization failure\n",
      "basinhopping step 4: f 0.309162 trial_f 0.480832 accepted 0  lowest_f 0.247801\n",
      "basinhopping step 5: f 0.254557 trial_f 0.254557 accepted 1  lowest_f 0.247801\n",
      "warning: basinhopping: local minimization failure\n",
      "basinhopping step 6: f 0.28715 trial_f 0.28715 accepted 1  lowest_f 0.247801\n",
      "warning: basinhopping: local minimization failure\n",
      "basinhopping step 7: f 0.568132 trial_f 0.568132 accepted 1  lowest_f 0.247801\n",
      "basinhopping step 8: f 0.458196 trial_f 0.458196 accepted 1  lowest_f 0.247801\n",
      "basinhopping step 9: f 0.256055 trial_f 0.256055 accepted 1  lowest_f 0.247801\n",
      "warning: basinhopping: local minimization failure\n",
      "basinhopping step 10: f 0.903692 trial_f 0.903692 accepted 1  lowest_f 0.247801\n",
      "warning: basinhopping: local minimization failure\n",
      "basinhopping step 11: f 0.779605 trial_f 0.779605 accepted 1  lowest_f 0.247801\n",
      "warning: basinhopping: local minimization failure\n",
      "basinhopping step 12: f 0.713041 trial_f 0.713041 accepted 1  lowest_f 0.247801\n",
      "warning: basinhopping: local minimization failure\n",
      "basinhopping step 13: f 0.561314 trial_f 0.561314 accepted 1  lowest_f 0.247801\n",
      "warning: basinhopping: local minimization failure\n",
      "basinhopping step 14: f 0.421328 trial_f 0.421328 accepted 1  lowest_f 0.247801\n",
      "basinhopping step 15: f 0.252188 trial_f 0.252188 accepted 1  lowest_f 0.247801\n",
      "basinhopping step 16: f 0.279034 trial_f 0.279034 accepted 1  lowest_f 0.247801\n",
      "warning: basinhopping: local minimization failure\n",
      "basinhopping step 17: f 0.279034 trial_f 0.397429 accepted 0  lowest_f 0.247801\n",
      "basinhopping step 18: f 0.253356 trial_f 0.253356 accepted 1  lowest_f 0.247801\n",
      "basinhopping step 19: f 0.24877 trial_f 0.24877 accepted 1  lowest_f 0.247801\n",
      "basinhopping step 20: f 0.281654 trial_f 0.281654 accepted 1  lowest_f 0.247801\n",
      "basinhopping step 21: f 0.278328 trial_f 0.278328 accepted 1  lowest_f 0.247801\n",
      "basinhopping step 22: f 0.274182 trial_f 0.274182 accepted 1  lowest_f 0.247801\n",
      "basinhopping step 23: f 0.24817 trial_f 0.24817 accepted 1  lowest_f 0.247801\n",
      "basinhopping step 24: f 0.275916 trial_f 0.275916 accepted 1  lowest_f 0.247801\n",
      "basinhopping step 25: f 0.246771 trial_f 0.246771 accepted 1  lowest_f 0.246771\n",
      "found new global minimum on step 25 with function value 0.246771\n",
      "basinhopping step 26: f 0.250544 trial_f 0.250544 accepted 1  lowest_f 0.246771\n",
      "basinhopping step 27: f 0.281839 trial_f 0.281839 accepted 1  lowest_f 0.246771\n",
      "basinhopping step 28: f 0.277832 trial_f 0.277832 accepted 1  lowest_f 0.246771\n",
      "warning: basinhopping: local minimization failure\n",
      "basinhopping step 29: f 0.275192 trial_f 0.275192 accepted 1  lowest_f 0.246771\n",
      "basinhopping step 30: f 0.256672 trial_f 0.256672 accepted 1  lowest_f 0.246771\n",
      "basinhopping step 31: f 0.294319 trial_f 0.294319 accepted 1  lowest_f 0.246771\n",
      "basinhopping step 32: f 0.246196 trial_f 0.246196 accepted 1  lowest_f 0.246196\n",
      "found new global minimum on step 32 with function value 0.246196\n",
      "warning: basinhopping: local minimization failure\n",
      "basinhopping step 33: f 0.588329 trial_f 0.588329 accepted 1  lowest_f 0.246196\n",
      "warning: basinhopping: local minimization failure\n",
      "basinhopping step 34: f 0.811306 trial_f 0.811306 accepted 1  lowest_f 0.246196\n",
      "warning: basinhopping: local minimization failure\n",
      "basinhopping step 35: f 0.654925 trial_f 0.654925 accepted 1  lowest_f 0.246196\n",
      "warning: basinhopping: local minimization failure\n",
      "basinhopping step 36: f 0.2717 trial_f 0.2717 accepted 1  lowest_f 0.246196\n",
      "warning: basinhopping: local minimization failure\n",
      "basinhopping step 37: f 0.2717 trial_f 0.789497 accepted 0  lowest_f 0.246196\n",
      "basinhopping step 38: f 0.32595 trial_f 0.32595 accepted 1  lowest_f 0.246196\n",
      "warning: basinhopping: local minimization failure\n",
      "basinhopping step 39: f 0.32595 trial_f 1.9616 accepted 0  lowest_f 0.246196\n",
      "warning: basinhopping: local minimization failure\n",
      "basinhopping step 40: f 0.41346 trial_f 0.41346 accepted 1  lowest_f 0.246196\n",
      "basinhopping step 41: f 0.924138 trial_f 0.924138 accepted 1  lowest_f 0.246196\n",
      "warning: basinhopping: local minimization failure\n",
      "basinhopping step 42: f 1.03443 trial_f 1.03443 accepted 1  lowest_f 0.246196\n",
      "basinhopping step 43: f 0.290885 trial_f 0.290885 accepted 1  lowest_f 0.246196\n",
      "basinhopping step 44: f 0.27059 trial_f 0.27059 accepted 1  lowest_f 0.246196\n",
      "warning: basinhopping: local minimization failure\n",
      "basinhopping step 45: f 0.469676 trial_f 0.469676 accepted 1  lowest_f 0.246196\n",
      "basinhopping step 46: f 0.26399 trial_f 0.26399 accepted 1  lowest_f 0.246196\n",
      "basinhopping step 47: f 0.530253 trial_f 0.530253 accepted 1  lowest_f 0.246196\n",
      "warning: basinhopping: local minimization failure\n",
      "basinhopping step 48: f 0.638302 trial_f 0.638302 accepted 1  lowest_f 0.246196\n",
      "basinhopping step 49: f 0.584729 trial_f 0.584729 accepted 1  lowest_f 0.246196\n",
      "adaptive stepsize: acceptance rate 0.900000 target 0.500000 new stepsize 0.555556 old stepsize 0.5\n",
      "warning: basinhopping: local minimization failure\n",
      "basinhopping step 50: f 0.584729 trial_f 1.40632 accepted 0  lowest_f 0.246196\n"
     ]
    },
    {
     "data": {
      "text/plain": [
       "                        fun: 0.24619634\n",
       " lowest_optimization_result:       fun: 0.24619634\n",
       " hess_inv: array([[ 0.90753922, -0.09160668, -0.18492156,  0.10041682],\n",
       "       [-0.09160668,  1.44056617, -0.18321336,  0.04014093],\n",
       "       [-0.18492156, -0.18321336,  0.63015688,  0.20083364],\n",
       "       [ 0.10041682,  0.04014093,  0.20083364,  0.55399246]])\n",
       "      jac: array([0., 0., 0., 0.])\n",
       "  message: 'Optimization terminated successfully.'\n",
       "     nfev: 42\n",
       "      nit: 3\n",
       "     njev: 7\n",
       "   status: 0\n",
       "  success: True\n",
       "        x: array([0.28205764, 0.14751231, 0.64492305, 0.58026883])\n",
       "                    message: ['requested number of basinhopping iterations completed successfully']\n",
       "      minimization_failures: 22\n",
       "                       nfev: 16742\n",
       "                        nit: 50\n",
       "                       njev: 2747\n",
       "                          x: array([0.28205764, 0.14751231, 0.64492305, 0.58026883])"
      ]
     },
     "execution_count": 79,
     "metadata": {},
     "output_type": "execute_result"
    }
   ],
   "source": [
    "from scipy.optimize import minimize, basinhopping\n",
    "minimizer_kwargs = {\"method\": \"BFGS\"}\n",
    "basinhopping(my_partial, x0=[0.01,0.01,0.01,0.01], minimizer_kwargs=minimizer_kwargs, niter=50, disp=True)"
   ]
  },
  {
   "cell_type": "code",
   "execution_count": 153,
   "metadata": {},
   "outputs": [
    {
     "name": "stdout",
     "output_type": "stream",
     "text": [
      "       user_id tag_code            is_right  length       ssr\n",
      "0        29110  c050101     [0, 0, 1, 0, 1]       5  1.413710\n",
      "561      29845  c050101        [1, 0, 1, 1]       4  0.944458\n",
      "699      29861  c050101        [1, 1, 0, 1]       4  0.907085\n",
      "1179     30411  c050101     [1, 0, 0, 0, 1]       5  1.311845\n",
      "1277     30525  c050101           [0, 0, 0]       3  0.872141\n",
      "3352     32576  c050101  [1, 1, 1, 1, 1, 0]       6  1.241866\n",
      "3556     32991  c050101     [0, 0, 1, 0, 1]       5  1.413710\n",
      "3604     33031  c050101        [1, 0, 1, 1]       4  0.944458\n",
      "4215     34006  c050101        [1, 0, 1, 0]       4  1.009413\n",
      "4265     34062  c050101           [1, 1, 0]       3  0.678825\n",
      "5217     34719  c050101     [0, 1, 1, 1, 1]       5  1.183051\n",
      "6455     34912  c050101        [0, 1, 1, 0]       4  1.058322\n",
      "6534     34916  c050101     [0, 1, 1, 0, 1]       5  1.307958\n",
      "6739     34920  c050101     [1, 0, 1, 1, 1]       5  1.159622\n",
      "6925     34924  c050101  [0, 1, 1, 1, 1, 1]       6  1.390072\n",
      "7099     34930  c050101     [0, 1, 1, 1, 1]       5  1.183051\n",
      "7188     34932  c050101  [1, 0, 1, 0, 1, 0]       6  1.517921\n",
      "7557     34951  c050101  [0, 1, 1, 1, 1, 0]       6  1.480080\n",
      "8268     35107  c050101     [1, 0, 1, 0, 1]       5  1.266737\n",
      "8515     35126  c050101        [1, 1, 0, 1]       4  0.907085\n",
      "8759     35163  c050101           [1, 1, 1]       3  0.545785\n",
      "9294     35211  c050101           [1, 1, 1]       3  0.545785\n",
      "9326     35214  c050101     [1, 0, 0, 0, 1]       5  1.311845\n",
      "9450     35261  c050101     [1, 1, 0, 1, 0]       5  1.185491\n",
      "9477     35266  c050101  [0, 1, 1, 0, 1, 0]       6  1.566356\n",
      "9532     35267  c050101     [1, 0, 0, 1, 1]       5  1.295073\n",
      "9723     35269  c050101  [0, 1, 1, 1, 1, 1]       6  1.390072\n",
      "9799     35270  c050101  [0, 1, 0, 0, 1, 0]       6  1.602327\n",
      "10054    35282  c050101     [1, 0, 0, 1, 1]       5  1.295073\n",
      "10098    35284  c050101        [1, 1, 0, 1]       4  0.907085\n",
      "...        ...      ...                 ...     ...       ...\n",
      "72819    50972  c050101  [0, 1, 0, 0, 1, 0]       6  1.602327\n",
      "72955    51022  c050101        [1, 0, 1, 0]       4  1.009413\n",
      "73615    51121  c050101     [1, 1, 1, 1, 0]       5  1.049997\n",
      "73659    51122  c050101  [0, 0, 0, 0, 0, 0]       6  1.475891\n",
      "74101    51179  c050101     [1, 0, 0, 0, 0]       5  1.233606\n",
      "74232    51203  c050101     [1, 0, 0, 1, 1]       5  1.295073\n",
      "74436    51247  c050101     [0, 0, 1, 1, 1]       5  1.363726\n",
      "74781    51297  c050101           [1, 1, 1]       3  0.545785\n",
      "75289    51951  c050101        [1, 1, 0, 1]       4  0.907085\n",
      "75461    51972  c050101     [0, 0, 1, 1, 1]       5  1.363726\n",
      "76113    52073  c050101           [0, 0, 1]       3  0.879927\n",
      "76301    52132  c050101        [0, 1, 1, 1]       4  0.974742\n",
      "76369    52154  c050101        [0, 1, 1, 0]       4  1.058322\n",
      "76634    52254  c050101  [0, 0, 0, 0, 0, 0]       6  1.475891\n",
      "77423    53406  c050101           [1, 1, 1]       3  0.545785\n",
      "77648    53594  c050101           [0, 0, 0]       3  0.872141\n",
      "78603    55003  c050101        [0, 0, 1, 0]       4  1.134318\n",
      "78991    55155  c050101     [1, 0, 1, 0, 0]       5  1.252195\n",
      "79451    55319  c050101        [1, 1, 0, 0]       4  0.951553\n",
      "80010    56193  c050101           [1, 1, 1]       3  0.545785\n",
      "80363    56578  c050101        [1, 0, 1, 1]       4  0.944458\n",
      "80428    56599  c050101  [1, 0, 1, 0, 0, 1]       6  1.540252\n",
      "80795    56884  c050101     [0, 0, 1, 0, 0]       5  1.356558\n",
      "80815    56886  c050101     [1, 0, 0, 1, 1]       5  1.295073\n",
      "80830    56887  c050101        [1, 1, 0, 1]       4  0.907085\n",
      "80848    56888  c050101     [0, 1, 0, 1, 1]       5  1.338810\n",
      "80864    56889  c050101  [1, 1, 0, 0, 0, 0]       6  1.396113\n",
      "81442    57662  c050101     [0, 1, 0, 0, 0]       5  1.310590\n",
      "81572    57837  c050101        [1, 0, 1, 1]       4  0.944458\n",
      "81612    57860  c050101     [1, 0, 0, 0, 1]       5  1.311845\n",
      "\n",
      "[197 rows x 5 columns]\n"
     ]
    },
    {
     "data": {
      "text/plain": [
       "0.24619634"
      ]
     },
     "execution_count": 153,
     "metadata": {},
     "output_type": "execute_result"
    }
   ],
   "source": [
    "params = [0.28205764, 0.14751231, 0.64492305, 0.58026883]\n",
    "my_partial(params)"
   ]
  },
  {
   "cell_type": "code",
   "execution_count": 96,
   "metadata": {
    "collapsed": true
   },
   "outputs": [],
   "source": [
    "from skopt import gp_minimize"
   ]
  },
  {
   "cell_type": "code",
   "execution_count": 102,
   "metadata": {
    "collapsed": true
   },
   "outputs": [],
   "source": [
    "res = gp_minimize(my_partial, search_ranges, acq_func=\"EI\", n_calls=100,         # the number of evaluations of f \n",
    "                  n_random_starts=30,  # the number of random initialization points\n",
    "                  noise=0.1**2,       # the noise level (optional)\n",
    "                  random_state=123)"
   ]
  },
  {
   "cell_type": "code",
   "execution_count": 103,
   "metadata": {},
   "outputs": [
    {
     "data": {
      "text/plain": [
       "([0.7271928707754365, 0.8242626856348727, 1.0, 0.470356185327613], 0.24744266)"
      ]
     },
     "execution_count": 103,
     "metadata": {},
     "output_type": "execute_result"
    }
   ],
   "source": [
    "res.x, my_partial(res.x)"
   ]
  },
  {
   "cell_type": "code",
   "execution_count": null,
   "metadata": {
    "scrolled": false
   },
   "outputs": [
    {
     "name": "stderr",
     "output_type": "stream",
     "text": [
      "\n",
      "  0%|          | 0/645 [00:00<?, ?it/s]\u001b[A"
     ]
    },
    {
     "name": "stdout",
     "output_type": "stream",
     "text": [
      "for tag code  c130307 shape is (30, 5)\n"
     ]
    },
    {
     "name": "stderr",
     "output_type": "stream",
     "text": [
      "\n",
      "  0%|          | 1/645 [00:25<4:37:36, 25.86s/it]\u001b[A"
     ]
    },
    {
     "name": "stdout",
     "output_type": "stream",
     "text": [
      "for tag code  q0202 shape is (30, 5)\n"
     ]
    },
    {
     "name": "stderr",
     "output_type": "stream",
     "text": [
      "\n",
      "  0%|          | 2/645 [00:48<4:22:25, 24.49s/it]\u001b[A"
     ]
    },
    {
     "name": "stdout",
     "output_type": "stream",
     "text": [
      "for tag code  c120402 shape is (30, 5)\n"
     ]
    },
    {
     "name": "stderr",
     "output_type": "stream",
     "text": [
      "\n",
      "  0%|          | 3/645 [01:12<4:18:30, 24.16s/it]\u001b[A"
     ]
    },
    {
     "name": "stdout",
     "output_type": "stream",
     "text": [
      "for tag code  c140105 shape is (30, 5)\n"
     ]
    },
    {
     "name": "stderr",
     "output_type": "stream",
     "text": [
      "\n",
      "  1%|          | 4/645 [01:34<4:12:03, 23.59s/it]\u001b[A"
     ]
    },
    {
     "name": "stdout",
     "output_type": "stream",
     "text": [
      "for tag code  c340201 shape is (30, 5)\n"
     ]
    },
    {
     "name": "stderr",
     "output_type": "stream",
     "text": [
      "\n",
      "  1%|          | 5/645 [02:04<4:25:08, 24.86s/it]\u001b[A"
     ]
    },
    {
     "name": "stdout",
     "output_type": "stream",
     "text": [
      "for tag code  c320103 shape is (30, 5)\n"
     ]
    },
    {
     "name": "stderr",
     "output_type": "stream",
     "text": [
      "\n",
      "  1%|          | 6/645 [02:32<4:30:38, 25.41s/it]\u001b[A"
     ]
    },
    {
     "name": "stdout",
     "output_type": "stream",
     "text": [
      "for tag code  c080207 shape is (30, 5)\n"
     ]
    },
    {
     "name": "stderr",
     "output_type": "stream",
     "text": [
      "\n",
      "  1%|          | 7/645 [02:55<4:26:14, 25.04s/it]\u001b[A"
     ]
    },
    {
     "name": "stdout",
     "output_type": "stream",
     "text": [
      "for tag code  c280203 shape is (30, 5)\n"
     ]
    },
    {
     "name": "stderr",
     "output_type": "stream",
     "text": [
      "\n",
      "  1%|          | 8/645 [03:19<4:25:21, 24.99s/it]\u001b[A"
     ]
    },
    {
     "name": "stdout",
     "output_type": "stream",
     "text": [
      "for tag code  c290216 shape is (30, 5)\n"
     ]
    },
    {
     "name": "stderr",
     "output_type": "stream",
     "text": [
      "\n",
      "  1%|▏         | 9/645 [03:43<4:23:40, 24.88s/it]\u001b[A"
     ]
    },
    {
     "name": "stdout",
     "output_type": "stream",
     "text": [
      "for tag code  c080202 shape is (31, 5)\n"
     ]
    },
    {
     "name": "stderr",
     "output_type": "stream",
     "text": [
      "\n",
      "  2%|▏         | 10/645 [04:04<4:19:16, 24.50s/it]\u001b[A"
     ]
    },
    {
     "name": "stdout",
     "output_type": "stream",
     "text": [
      "for tag code  L040105 shape is (31, 5)\n"
     ]
    },
    {
     "name": "stderr",
     "output_type": "stream",
     "text": [
      "\n",
      "  2%|▏         | 11/645 [04:25<4:15:20, 24.16s/it]\u001b[A"
     ]
    },
    {
     "name": "stdout",
     "output_type": "stream",
     "text": [
      "for tag code  c120403 shape is (31, 5)\n"
     ]
    },
    {
     "name": "stderr",
     "output_type": "stream",
     "text": [
      "\n",
      "  2%|▏         | 12/645 [04:50<4:15:00, 24.17s/it]\u001b[A"
     ]
    },
    {
     "name": "stdout",
     "output_type": "stream",
     "text": [
      "for tag code  qm0206 shape is (31, 5)\n"
     ]
    },
    {
     "name": "stderr",
     "output_type": "stream",
     "text": [
      "\n",
      "  2%|▏         | 13/645 [05:09<4:10:41, 23.80s/it]\u001b[A"
     ]
    },
    {
     "name": "stdout",
     "output_type": "stream",
     "text": [
      "for tag code  qm0106 shape is (31, 5)\n"
     ]
    },
    {
     "name": "stderr",
     "output_type": "stream",
     "text": [
      "\n",
      "  2%|▏         | 14/645 [05:33<4:10:43, 23.84s/it]\u001b[A"
     ]
    },
    {
     "name": "stdout",
     "output_type": "stream",
     "text": [
      "for tag code  c170202 shape is (31, 5)\n"
     ]
    },
    {
     "name": "stderr",
     "output_type": "stream",
     "text": [
      "\n",
      "  2%|▏         | 15/645 [05:55<4:09:07, 23.73s/it]\u001b[A"
     ]
    },
    {
     "name": "stdout",
     "output_type": "stream",
     "text": [
      "for tag code  L010305 shape is (31, 5)\n"
     ]
    },
    {
     "name": "stderr",
     "output_type": "stream",
     "text": [
      "/Users/Zhenyue/anaconda3/lib/python3.6/site-packages/skopt/optimizer/optimizer.py:399: UserWarning: The objective has been evaluated at this point before.\n",
      "  warnings.warn(\"The objective has been evaluated \"\n",
      "/Users/Zhenyue/anaconda3/lib/python3.6/site-packages/skopt/optimizer/optimizer.py:399: UserWarning: The objective has been evaluated at this point before.\n",
      "  warnings.warn(\"The objective has been evaluated \"\n",
      "/Users/Zhenyue/anaconda3/lib/python3.6/site-packages/skopt/optimizer/optimizer.py:399: UserWarning: The objective has been evaluated at this point before.\n",
      "  warnings.warn(\"The objective has been evaluated \"\n",
      "/Users/Zhenyue/anaconda3/lib/python3.6/site-packages/skopt/optimizer/optimizer.py:399: UserWarning: The objective has been evaluated at this point before.\n",
      "  warnings.warn(\"The objective has been evaluated \"\n",
      "/Users/Zhenyue/anaconda3/lib/python3.6/site-packages/skopt/optimizer/optimizer.py:399: UserWarning: The objective has been evaluated at this point before.\n",
      "  warnings.warn(\"The objective has been evaluated \"\n",
      "/Users/Zhenyue/anaconda3/lib/python3.6/site-packages/skopt/optimizer/optimizer.py:399: UserWarning: The objective has been evaluated at this point before.\n",
      "  warnings.warn(\"The objective has been evaluated \"\n",
      "/Users/Zhenyue/anaconda3/lib/python3.6/site-packages/skopt/optimizer/optimizer.py:399: UserWarning: The objective has been evaluated at this point before.\n",
      "  warnings.warn(\"The objective has been evaluated \"\n",
      "/Users/Zhenyue/anaconda3/lib/python3.6/site-packages/skopt/optimizer/optimizer.py:399: UserWarning: The objective has been evaluated at this point before.\n",
      "  warnings.warn(\"The objective has been evaluated \"\n",
      "/Users/Zhenyue/anaconda3/lib/python3.6/site-packages/skopt/optimizer/optimizer.py:399: UserWarning: The objective has been evaluated at this point before.\n",
      "  warnings.warn(\"The objective has been evaluated \"\n",
      "/Users/Zhenyue/anaconda3/lib/python3.6/site-packages/skopt/optimizer/optimizer.py:399: UserWarning: The objective has been evaluated at this point before.\n",
      "  warnings.warn(\"The objective has been evaluated \"\n",
      "/Users/Zhenyue/anaconda3/lib/python3.6/site-packages/skopt/optimizer/optimizer.py:399: UserWarning: The objective has been evaluated at this point before.\n",
      "  warnings.warn(\"The objective has been evaluated \"\n",
      "/Users/Zhenyue/anaconda3/lib/python3.6/site-packages/skopt/optimizer/optimizer.py:399: UserWarning: The objective has been evaluated at this point before.\n",
      "  warnings.warn(\"The objective has been evaluated \"\n",
      "/Users/Zhenyue/anaconda3/lib/python3.6/site-packages/skopt/optimizer/optimizer.py:399: UserWarning: The objective has been evaluated at this point before.\n",
      "  warnings.warn(\"The objective has been evaluated \"\n",
      "/Users/Zhenyue/anaconda3/lib/python3.6/site-packages/skopt/optimizer/optimizer.py:399: UserWarning: The objective has been evaluated at this point before.\n",
      "  warnings.warn(\"The objective has been evaluated \"\n",
      "/Users/Zhenyue/anaconda3/lib/python3.6/site-packages/skopt/optimizer/optimizer.py:399: UserWarning: The objective has been evaluated at this point before.\n",
      "  warnings.warn(\"The objective has been evaluated \"\n",
      "/Users/Zhenyue/anaconda3/lib/python3.6/site-packages/skopt/optimizer/optimizer.py:399: UserWarning: The objective has been evaluated at this point before.\n",
      "  warnings.warn(\"The objective has been evaluated \"\n",
      "/Users/Zhenyue/anaconda3/lib/python3.6/site-packages/skopt/optimizer/optimizer.py:399: UserWarning: The objective has been evaluated at this point before.\n",
      "  warnings.warn(\"The objective has been evaluated \"\n",
      "/Users/Zhenyue/anaconda3/lib/python3.6/site-packages/skopt/optimizer/optimizer.py:399: UserWarning: The objective has been evaluated at this point before.\n",
      "  warnings.warn(\"The objective has been evaluated \"\n",
      "/Users/Zhenyue/anaconda3/lib/python3.6/site-packages/skopt/optimizer/optimizer.py:399: UserWarning: The objective has been evaluated at this point before.\n",
      "  warnings.warn(\"The objective has been evaluated \"\n",
      "/Users/Zhenyue/anaconda3/lib/python3.6/site-packages/skopt/optimizer/optimizer.py:399: UserWarning: The objective has been evaluated at this point before.\n",
      "  warnings.warn(\"The objective has been evaluated \"\n",
      "/Users/Zhenyue/anaconda3/lib/python3.6/site-packages/skopt/optimizer/optimizer.py:399: UserWarning: The objective has been evaluated at this point before.\n",
      "  warnings.warn(\"The objective has been evaluated \"\n",
      "/Users/Zhenyue/anaconda3/lib/python3.6/site-packages/skopt/optimizer/optimizer.py:399: UserWarning: The objective has been evaluated at this point before.\n",
      "  warnings.warn(\"The objective has been evaluated \"\n",
      "/Users/Zhenyue/anaconda3/lib/python3.6/site-packages/skopt/optimizer/optimizer.py:399: UserWarning: The objective has been evaluated at this point before.\n",
      "  warnings.warn(\"The objective has been evaluated \"\n",
      "/Users/Zhenyue/anaconda3/lib/python3.6/site-packages/skopt/optimizer/optimizer.py:399: UserWarning: The objective has been evaluated at this point before.\n",
      "  warnings.warn(\"The objective has been evaluated \"\n",
      "/Users/Zhenyue/anaconda3/lib/python3.6/site-packages/skopt/optimizer/optimizer.py:399: UserWarning: The objective has been evaluated at this point before.\n",
      "  warnings.warn(\"The objective has been evaluated \"\n",
      "/Users/Zhenyue/anaconda3/lib/python3.6/site-packages/skopt/optimizer/optimizer.py:399: UserWarning: The objective has been evaluated at this point before.\n",
      "  warnings.warn(\"The objective has been evaluated \"\n",
      "/Users/Zhenyue/anaconda3/lib/python3.6/site-packages/skopt/optimizer/optimizer.py:399: UserWarning: The objective has been evaluated at this point before.\n",
      "  warnings.warn(\"The objective has been evaluated \"\n",
      "/Users/Zhenyue/anaconda3/lib/python3.6/site-packages/skopt/optimizer/optimizer.py:399: UserWarning: The objective has been evaluated at this point before.\n",
      "  warnings.warn(\"The objective has been evaluated \"\n",
      "/Users/Zhenyue/anaconda3/lib/python3.6/site-packages/skopt/optimizer/optimizer.py:399: UserWarning: The objective has been evaluated at this point before.\n",
      "  warnings.warn(\"The objective has been evaluated \"\n",
      "\n",
      "  2%|▏         | 16/645 [06:23<4:11:22, 23.98s/it]\u001b[A"
     ]
    },
    {
     "name": "stdout",
     "output_type": "stream",
     "text": [
      "for tag code  c020205 shape is (32, 5)\n"
     ]
    },
    {
     "name": "stderr",
     "output_type": "stream",
     "text": [
      "\n",
      "  3%|▎         | 17/645 [06:46<4:10:29, 23.93s/it]\u001b[A"
     ]
    },
    {
     "name": "stdout",
     "output_type": "stream",
     "text": [
      "for tag code  qm0603 shape is (32, 5)\n"
     ]
    },
    {
     "name": "stderr",
     "output_type": "stream",
     "text": [
      "\n",
      "  3%|▎         | 18/645 [07:10<4:09:46, 23.90s/it]\u001b[A"
     ]
    },
    {
     "name": "stdout",
     "output_type": "stream",
     "text": [
      "for tag code  c290224 shape is (32, 5)\n"
     ]
    },
    {
     "name": "stderr",
     "output_type": "stream",
     "text": [
      "\n",
      "  3%|▎         | 19/645 [07:35<4:10:00, 23.96s/it]\u001b[A"
     ]
    },
    {
     "name": "stdout",
     "output_type": "stream",
     "text": [
      "for tag code  c340103 shape is (32, 5)\n"
     ]
    },
    {
     "name": "stderr",
     "output_type": "stream",
     "text": [
      "\n",
      "  3%|▎         | 20/645 [08:03<4:11:40, 24.16s/it]\u001b[A"
     ]
    },
    {
     "name": "stdout",
     "output_type": "stream",
     "text": [
      "for tag code  c320303 shape is (32, 5)\n"
     ]
    },
    {
     "name": "stderr",
     "output_type": "stream",
     "text": [
      "\n",
      "  3%|▎         | 21/645 [08:27<4:11:24, 24.17s/it]\u001b[A"
     ]
    },
    {
     "name": "stdout",
     "output_type": "stream",
     "text": [
      "for tag code  c220303 shape is (32, 5)\n"
     ]
    },
    {
     "name": "stderr",
     "output_type": "stream",
     "text": [
      "\n",
      "  3%|▎         | 22/645 [08:55<4:12:48, 24.35s/it]\u001b[A"
     ]
    },
    {
     "name": "stdout",
     "output_type": "stream",
     "text": [
      "for tag code  c190601 shape is (32, 5)\n"
     ]
    },
    {
     "name": "stderr",
     "output_type": "stream",
     "text": [
      "\n",
      "  4%|▎         | 23/645 [09:19<4:12:15, 24.33s/it]\u001b[A"
     ]
    },
    {
     "name": "stdout",
     "output_type": "stream",
     "text": [
      "for tag code  c280105 shape is (32, 5)\n"
     ]
    },
    {
     "name": "stderr",
     "output_type": "stream",
     "text": [
      "\n",
      "  4%|▎         | 24/645 [09:45<4:12:34, 24.40s/it]\u001b[A"
     ]
    },
    {
     "name": "stdout",
     "output_type": "stream",
     "text": [
      "for tag code  c280202 shape is (32, 5)\n"
     ]
    },
    {
     "name": "stderr",
     "output_type": "stream",
     "text": [
      "\n",
      "  4%|▍         | 25/645 [10:12<4:13:08, 24.50s/it]\u001b[A"
     ]
    },
    {
     "name": "stdout",
     "output_type": "stream",
     "text": [
      "for tag code  c180103 shape is (33, 5)\n"
     ]
    },
    {
     "name": "stderr",
     "output_type": "stream",
     "text": [
      "\n",
      "  4%|▍         | 26/645 [10:37<4:12:55, 24.52s/it]\u001b[A"
     ]
    },
    {
     "name": "stdout",
     "output_type": "stream",
     "text": [
      "for tag code  c260220 shape is (33, 5)\n"
     ]
    },
    {
     "name": "stderr",
     "output_type": "stream",
     "text": [
      "\n",
      "  4%|▍         | 27/645 [11:03<4:12:56, 24.56s/it]\u001b[A"
     ]
    },
    {
     "name": "stdout",
     "output_type": "stream",
     "text": [
      "for tag code  L040102 shape is (33, 5)\n"
     ]
    },
    {
     "name": "stderr",
     "output_type": "stream",
     "text": [
      "\n",
      "  4%|▍         | 28/645 [11:27<4:12:28, 24.55s/it]\u001b[A"
     ]
    },
    {
     "name": "stdout",
     "output_type": "stream",
     "text": [
      "for tag code  c310204 shape is (33, 5)\n"
     ]
    },
    {
     "name": "stderr",
     "output_type": "stream",
     "text": [
      "\n",
      "  4%|▍         | 29/645 [11:51<4:11:58, 24.54s/it]\u001b[A"
     ]
    },
    {
     "name": "stdout",
     "output_type": "stream",
     "text": [
      "for tag code  c140102 shape is (33, 5)\n"
     ]
    },
    {
     "name": "stderr",
     "output_type": "stream",
     "text": [
      "\n",
      "  5%|▍         | 30/645 [12:12<4:10:21, 24.42s/it]\u001b[A"
     ]
    },
    {
     "name": "stdout",
     "output_type": "stream",
     "text": [
      "for tag code  c120405 shape is (33, 5)\n"
     ]
    },
    {
     "name": "stderr",
     "output_type": "stream",
     "text": [
      "\n",
      "  5%|▍         | 31/645 [12:37<4:10:07, 24.44s/it]\u001b[A"
     ]
    },
    {
     "name": "stdout",
     "output_type": "stream",
     "text": [
      "for tag code  qm0306 shape is (33, 5)\n"
     ]
    },
    {
     "name": "stderr",
     "output_type": "stream",
     "text": [
      "\n",
      "  5%|▍         | 32/645 [13:08<4:11:36, 24.63s/it]\u001b[A"
     ]
    },
    {
     "name": "stdout",
     "output_type": "stream",
     "text": [
      "for tag code  c160505 shape is (33, 5)\n"
     ]
    },
    {
     "name": "stderr",
     "output_type": "stream",
     "text": [
      "\n",
      "  5%|▌         | 33/645 [13:34<4:11:36, 24.67s/it]\u001b[A"
     ]
    },
    {
     "name": "stdout",
     "output_type": "stream",
     "text": [
      "for tag code  c190213 shape is (33, 5)\n"
     ]
    },
    {
     "name": "stderr",
     "output_type": "stream",
     "text": [
      "\n",
      "  5%|▌         | 34/645 [13:58<4:11:10, 24.67s/it]\u001b[A"
     ]
    },
    {
     "name": "stdout",
     "output_type": "stream",
     "text": [
      "for tag code  c320202 shape is (33, 5)\n"
     ]
    },
    {
     "name": "stderr",
     "output_type": "stream",
     "text": [
      "\n",
      "  5%|▌         | 35/645 [14:22<4:10:38, 24.65s/it]\u001b[A"
     ]
    },
    {
     "name": "stdout",
     "output_type": "stream",
     "text": [
      "for tag code  L030404 shape is (34, 5)\n"
     ]
    },
    {
     "name": "stderr",
     "output_type": "stream",
     "text": [
      "\n",
      "  6%|▌         | 36/645 [14:43<4:09:07, 24.54s/it]\u001b[A"
     ]
    },
    {
     "name": "stdout",
     "output_type": "stream",
     "text": [
      "for tag code  qm0205 shape is (34, 5)\n"
     ]
    },
    {
     "name": "stderr",
     "output_type": "stream",
     "text": [
      "\n",
      "  6%|▌         | 37/645 [15:04<4:07:37, 24.44s/it]\u001b[A"
     ]
    },
    {
     "name": "stdout",
     "output_type": "stream",
     "text": [
      "for tag code  qm0510 shape is (34, 5)\n"
     ]
    },
    {
     "name": "stderr",
     "output_type": "stream",
     "text": [
      "\n",
      "  6%|▌         | 38/645 [15:25<4:06:19, 24.35s/it]\u001b[A"
     ]
    },
    {
     "name": "stdout",
     "output_type": "stream",
     "text": [
      "for tag code  c040401 shape is (34, 5)\n"
     ]
    },
    {
     "name": "stderr",
     "output_type": "stream",
     "text": [
      "\n",
      "  6%|▌         | 39/645 [15:46<4:05:10, 24.27s/it]\u001b[A"
     ]
    },
    {
     "name": "stdout",
     "output_type": "stream",
     "text": [
      "for tag code  c280205 shape is (34, 5)\n"
     ]
    },
    {
     "name": "stderr",
     "output_type": "stream",
     "text": [
      "\n",
      "  6%|▌         | 40/645 [16:09<4:04:21, 24.23s/it]\u001b[A"
     ]
    },
    {
     "name": "stdout",
     "output_type": "stream",
     "text": [
      "for tag code  qm0508 shape is (35, 5)\n"
     ]
    },
    {
     "name": "stderr",
     "output_type": "stream",
     "text": [
      "\n",
      "  6%|▋         | 41/645 [16:30<4:03:07, 24.15s/it]\u001b[A"
     ]
    },
    {
     "name": "stdout",
     "output_type": "stream",
     "text": [
      "for tag code  z060102 shape is (35, 5)\n"
     ]
    },
    {
     "name": "stderr",
     "output_type": "stream",
     "text": [
      "\n",
      "  7%|▋         | 42/645 [16:54<4:02:44, 24.15s/it]\u001b[A"
     ]
    },
    {
     "name": "stdout",
     "output_type": "stream",
     "text": [
      "for tag code  c120407 shape is (35, 5)\n"
     ]
    },
    {
     "name": "stderr",
     "output_type": "stream",
     "text": [
      "\n",
      "  7%|▋         | 43/645 [17:14<4:01:25, 24.06s/it]\u001b[A"
     ]
    },
    {
     "name": "stdout",
     "output_type": "stream",
     "text": [
      "for tag code  c190401 shape is (35, 5)\n"
     ]
    },
    {
     "name": "stderr",
     "output_type": "stream",
     "text": [
      "\n",
      "  7%|▋         | 44/645 [17:38<4:00:56, 24.05s/it]\u001b[A"
     ]
    },
    {
     "name": "stdout",
     "output_type": "stream",
     "text": [
      "for tag code  z080104 shape is (35, 5)\n"
     ]
    },
    {
     "name": "stderr",
     "output_type": "stream",
     "text": [
      "\n",
      "  7%|▋         | 45/645 [17:59<3:59:54, 23.99s/it]\u001b[A"
     ]
    },
    {
     "name": "stdout",
     "output_type": "stream",
     "text": [
      "for tag code  c280404 shape is (36, 5)\n"
     ]
    },
    {
     "name": "stderr",
     "output_type": "stream",
     "text": [
      "\n",
      "  7%|▋         | 46/645 [18:24<3:59:38, 24.00s/it]\u001b[A"
     ]
    },
    {
     "name": "stdout",
     "output_type": "stream",
     "text": [
      "for tag code  q0201 shape is (36, 5)\n"
     ]
    },
    {
     "name": "stderr",
     "output_type": "stream",
     "text": [
      "\n",
      "  7%|▋         | 47/645 [18:49<3:59:35, 24.04s/it]\u001b[A"
     ]
    },
    {
     "name": "stdout",
     "output_type": "stream",
     "text": [
      "for tag code  q0404 shape is (36, 5)\n"
     ]
    },
    {
     "name": "stderr",
     "output_type": "stream",
     "text": [
      "\n",
      "  7%|▋         | 48/645 [19:17<3:59:51, 24.11s/it]\u001b[A"
     ]
    },
    {
     "name": "stdout",
     "output_type": "stream",
     "text": [
      "for tag code  c190503 shape is (36, 5)\n"
     ]
    },
    {
     "name": "stderr",
     "output_type": "stream",
     "text": [
      "\n",
      "  8%|▊         | 49/645 [19:37<3:58:39, 24.03s/it]\u001b[A"
     ]
    },
    {
     "name": "stdout",
     "output_type": "stream",
     "text": [
      "for tag code  c120401 shape is (36, 5)\n"
     ]
    },
    {
     "name": "stderr",
     "output_type": "stream",
     "text": [
      "\n",
      "  8%|▊         | 50/645 [19:57<3:57:24, 23.94s/it]\u001b[A"
     ]
    },
    {
     "name": "stdout",
     "output_type": "stream",
     "text": [
      "for tag code  c120411 shape is (36, 5)\n"
     ]
    },
    {
     "name": "stderr",
     "output_type": "stream",
     "text": [
      "\n",
      "  8%|▊         | 51/645 [20:21<3:57:07, 23.95s/it]\u001b[A"
     ]
    },
    {
     "name": "stdout",
     "output_type": "stream",
     "text": [
      "for tag code  c320203 shape is (37, 5)\n"
     ]
    },
    {
     "name": "stderr",
     "output_type": "stream",
     "text": [
      "\n",
      "  8%|▊         | 52/645 [20:46<3:56:49, 23.96s/it]\u001b[A"
     ]
    },
    {
     "name": "stdout",
     "output_type": "stream",
     "text": [
      "for tag code  qm0202 shape is (37, 5)\n"
     ]
    },
    {
     "name": "stderr",
     "output_type": "stream",
     "text": [
      "\n",
      "  8%|▊         | 53/645 [21:06<3:55:51, 23.90s/it]\u001b[A"
     ]
    },
    {
     "name": "stdout",
     "output_type": "stream",
     "text": [
      "for tag code  c280102 shape is (37, 5)\n"
     ]
    },
    {
     "name": "stderr",
     "output_type": "stream",
     "text": [
      "\n",
      "  8%|▊         | 54/645 [21:29<3:55:14, 23.88s/it]\u001b[A"
     ]
    },
    {
     "name": "stdout",
     "output_type": "stream",
     "text": [
      "for tag code  qm0302 shape is (37, 5)\n"
     ]
    },
    {
     "name": "stderr",
     "output_type": "stream",
     "text": [
      "\n",
      "  9%|▊         | 55/645 [21:50<3:54:19, 23.83s/it]\u001b[A"
     ]
    },
    {
     "name": "stdout",
     "output_type": "stream",
     "text": [
      "for tag code  qm0408 shape is (37, 5)\n"
     ]
    },
    {
     "name": "stderr",
     "output_type": "stream",
     "text": [
      "\n",
      "  9%|▊         | 56/645 [22:13<3:53:48, 23.82s/it]\u001b[A"
     ]
    },
    {
     "name": "stdout",
     "output_type": "stream",
     "text": [
      "for tag code  c330104 shape is (37, 5)\n"
     ]
    },
    {
     "name": "stderr",
     "output_type": "stream",
     "text": [
      "\n",
      "  9%|▉         | 57/645 [22:40<3:53:54, 23.87s/it]\u001b[A"
     ]
    },
    {
     "name": "stdout",
     "output_type": "stream",
     "text": [
      "for tag code  c130306 shape is (37, 5)\n"
     ]
    },
    {
     "name": "stderr",
     "output_type": "stream",
     "text": [
      "\n",
      "  9%|▉         | 58/645 [23:01<3:53:01, 23.82s/it]\u001b[A"
     ]
    },
    {
     "name": "stdout",
     "output_type": "stream",
     "text": [
      "for tag code  c330102 shape is (37, 5)\n"
     ]
    },
    {
     "name": "stderr",
     "output_type": "stream",
     "text": [
      "\n",
      "  9%|▉         | 59/645 [23:27<3:52:56, 23.85s/it]\u001b[A"
     ]
    },
    {
     "name": "stdout",
     "output_type": "stream",
     "text": [
      "for tag code  c310203 shape is (37, 5)\n"
     ]
    },
    {
     "name": "stderr",
     "output_type": "stream",
     "text": [
      "\n",
      "  9%|▉         | 60/645 [23:55<3:53:19, 23.93s/it]\u001b[A"
     ]
    },
    {
     "name": "stdout",
     "output_type": "stream",
     "text": [
      "for tag code  L020101 shape is (37, 5)\n"
     ]
    },
    {
     "name": "stderr",
     "output_type": "stream",
     "text": [
      "\n",
      "  9%|▉         | 61/645 [24:19<3:52:48, 23.92s/it]\u001b[A"
     ]
    },
    {
     "name": "stdout",
     "output_type": "stream",
     "text": [
      "for tag code  c290201 shape is (37, 5)\n"
     ]
    },
    {
     "name": "stderr",
     "output_type": "stream",
     "text": [
      "\n",
      " 10%|▉         | 62/645 [24:46<3:52:56, 23.97s/it]\u001b[A"
     ]
    },
    {
     "name": "stdout",
     "output_type": "stream",
     "text": [
      "for tag code  c200304 shape is (37, 5)\n"
     ]
    },
    {
     "name": "stderr",
     "output_type": "stream",
     "text": [
      "\n",
      " 10%|▉         | 63/645 [25:13<3:53:03, 24.03s/it]\u001b[A"
     ]
    },
    {
     "name": "stdout",
     "output_type": "stream",
     "text": [
      "for tag code  c280213 shape is (38, 5)\n"
     ]
    },
    {
     "name": "stderr",
     "output_type": "stream",
     "text": [
      "\n",
      " 10%|▉         | 64/645 [25:34<3:52:07, 23.97s/it]\u001b[A"
     ]
    },
    {
     "name": "stdout",
     "output_type": "stream",
     "text": [
      "for tag code  q0513 shape is (38, 5)\n"
     ]
    },
    {
     "name": "stderr",
     "output_type": "stream",
     "text": [
      "\n",
      " 10%|█         | 65/645 [25:54<3:51:09, 23.91s/it]\u001b[A"
     ]
    },
    {
     "name": "stdout",
     "output_type": "stream",
     "text": [
      "for tag code  c320102 shape is (38, 5)\n"
     ]
    },
    {
     "name": "stderr",
     "output_type": "stream",
     "text": [
      "\n",
      " 10%|█         | 66/645 [26:16<3:50:28, 23.88s/it]\u001b[A"
     ]
    },
    {
     "name": "stdout",
     "output_type": "stream",
     "text": [
      "for tag code  c290102 shape is (38, 5)\n"
     ]
    },
    {
     "name": "stderr",
     "output_type": "stream",
     "text": [
      "\n",
      " 10%|█         | 67/645 [26:37<3:49:38, 23.84s/it]\u001b[A"
     ]
    },
    {
     "name": "stdout",
     "output_type": "stream",
     "text": [
      "for tag code  c320104 shape is (39, 5)\n"
     ]
    },
    {
     "name": "stderr",
     "output_type": "stream",
     "text": [
      "\n",
      " 11%|█         | 68/645 [26:59<3:48:59, 23.81s/it]\u001b[A"
     ]
    },
    {
     "name": "stdout",
     "output_type": "stream",
     "text": [
      "for tag code  c120404 shape is (39, 5)\n"
     ]
    },
    {
     "name": "stderr",
     "output_type": "stream",
     "text": [
      "\n",
      " 11%|█         | 69/645 [27:23<3:48:40, 23.82s/it]\u001b[A"
     ]
    },
    {
     "name": "stdout",
     "output_type": "stream",
     "text": [
      "for tag code  qm0309 shape is (39, 5)\n"
     ]
    },
    {
     "name": "stderr",
     "output_type": "stream",
     "text": [
      "\n",
      " 11%|█         | 70/645 [27:44<3:47:51, 23.78s/it]\u001b[A"
     ]
    },
    {
     "name": "stdout",
     "output_type": "stream",
     "text": [
      "for tag code  z060104 shape is (40, 5)\n"
     ]
    },
    {
     "name": "stderr",
     "output_type": "stream",
     "text": [
      "\n",
      " 11%|█         | 71/645 [28:06<3:47:12, 23.75s/it]\u001b[A"
     ]
    },
    {
     "name": "stdout",
     "output_type": "stream",
     "text": [
      "for tag code  qm0407 shape is (40, 5)\n"
     ]
    },
    {
     "name": "stderr",
     "output_type": "stream",
     "text": [
      "\n",
      " 11%|█         | 72/645 [28:30<3:46:50, 23.75s/it]\u001b[A"
     ]
    },
    {
     "name": "stdout",
     "output_type": "stream",
     "text": [
      "for tag code  z060103 shape is (40, 5)\n"
     ]
    },
    {
     "name": "stderr",
     "output_type": "stream",
     "text": [
      "\n",
      " 11%|█▏        | 73/645 [28:54<3:46:27, 23.75s/it]\u001b[A"
     ]
    },
    {
     "name": "stdout",
     "output_type": "stream",
     "text": [
      "for tag code  c140101 shape is (40, 5)\n"
     ]
    },
    {
     "name": "stderr",
     "output_type": "stream",
     "text": [
      "\n",
      " 11%|█▏        | 74/645 [29:13<3:45:34, 23.70s/it]\u001b[A"
     ]
    },
    {
     "name": "stdout",
     "output_type": "stream",
     "text": [
      "for tag code  c240109 shape is (40, 5)\n"
     ]
    },
    {
     "name": "stderr",
     "output_type": "stream",
     "text": [
      "\n",
      " 12%|█▏        | 75/645 [29:42<3:45:50, 23.77s/it]\u001b[A"
     ]
    },
    {
     "name": "stdout",
     "output_type": "stream",
     "text": [
      "for tag code  c160508 shape is (40, 5)\n"
     ]
    },
    {
     "name": "stderr",
     "output_type": "stream",
     "text": [
      "\n",
      " 12%|█▏        | 76/645 [30:03<3:45:01, 23.73s/it]\u001b[A"
     ]
    },
    {
     "name": "stdout",
     "output_type": "stream",
     "text": [
      "for tag code  c040301 shape is (41, 5)\n"
     ]
    },
    {
     "name": "stderr",
     "output_type": "stream",
     "text": [
      "\n",
      " 12%|█▏        | 77/645 [30:29<3:44:55, 23.76s/it]\u001b[A"
     ]
    },
    {
     "name": "stdout",
     "output_type": "stream",
     "text": [
      "for tag code  c170304 shape is (41, 5)\n"
     ]
    },
    {
     "name": "stderr",
     "output_type": "stream",
     "text": [
      "\n",
      " 12%|█▏        | 78/645 [30:55<3:44:50, 23.79s/it]\u001b[A"
     ]
    },
    {
     "name": "stdout",
     "output_type": "stream",
     "text": [
      "for tag code  c260201 shape is (41, 5)\n"
     ]
    },
    {
     "name": "stderr",
     "output_type": "stream",
     "text": [
      "\n",
      " 12%|█▏        | 79/645 [31:18<3:44:15, 23.77s/it]\u001b[A"
     ]
    },
    {
     "name": "stdout",
     "output_type": "stream",
     "text": [
      "for tag code  c330201 shape is (41, 5)\n"
     ]
    },
    {
     "name": "stderr",
     "output_type": "stream",
     "text": [
      "\n",
      " 12%|█▏        | 80/645 [31:44<3:44:09, 23.80s/it]\u001b[A"
     ]
    },
    {
     "name": "stdout",
     "output_type": "stream",
     "text": [
      "for tag code  qm0404 shape is (41, 5)\n"
     ]
    },
    {
     "name": "stderr",
     "output_type": "stream",
     "text": [
      "\n",
      " 13%|█▎        | 81/645 [32:07<3:43:42, 23.80s/it]\u001b[A"
     ]
    },
    {
     "name": "stdout",
     "output_type": "stream",
     "text": [
      "for tag code  c080203 shape is (42, 5)\n"
     ]
    },
    {
     "name": "stderr",
     "output_type": "stream",
     "text": [
      "\n",
      " 13%|█▎        | 82/645 [32:31<3:43:19, 23.80s/it]\u001b[A"
     ]
    },
    {
     "name": "stdout",
     "output_type": "stream",
     "text": [
      "for tag code  c320304 shape is (42, 5)\n"
     ]
    },
    {
     "name": "stderr",
     "output_type": "stream",
     "text": [
      "\n",
      " 13%|█▎        | 83/645 [32:52<3:42:33, 23.76s/it]\u001b[A"
     ]
    },
    {
     "name": "stdout",
     "output_type": "stream",
     "text": [
      "for tag code  q0502 shape is (43, 5)\n"
     ]
    },
    {
     "name": "stderr",
     "output_type": "stream",
     "text": [
      "\n",
      " 13%|█▎        | 84/645 [33:14<3:41:57, 23.74s/it]\u001b[A"
     ]
    },
    {
     "name": "stdout",
     "output_type": "stream",
     "text": [
      "for tag code  c130310 shape is (43, 5)\n"
     ]
    },
    {
     "name": "stderr",
     "output_type": "stream",
     "text": [
      "\n",
      " 13%|█▎        | 85/645 [33:34<3:41:11, 23.70s/it]\u001b[A"
     ]
    },
    {
     "name": "stdout",
     "output_type": "stream",
     "text": [
      "for tag code  c120408 shape is (43, 5)\n"
     ]
    },
    {
     "name": "stderr",
     "output_type": "stream",
     "text": [
      "\n",
      " 13%|█▎        | 86/645 [33:57<3:40:46, 23.70s/it]\u001b[A"
     ]
    },
    {
     "name": "stdout",
     "output_type": "stream",
     "text": [
      "for tag code  c190406 shape is (43, 5)\n"
     ]
    },
    {
     "name": "stderr",
     "output_type": "stream",
     "text": [
      "\n",
      " 13%|█▎        | 87/645 [34:19<3:40:09, 23.67s/it]\u001b[A"
     ]
    },
    {
     "name": "stdout",
     "output_type": "stream",
     "text": [
      "for tag code  c280106 shape is (44, 5)\n"
     ]
    },
    {
     "name": "stderr",
     "output_type": "stream",
     "text": [
      "\n",
      " 14%|█▎        | 88/645 [34:43<3:39:47, 23.68s/it]\u001b[A"
     ]
    },
    {
     "name": "stdout",
     "output_type": "stream",
     "text": [
      "for tag code  c280103 shape is (44, 5)\n"
     ]
    },
    {
     "name": "stderr",
     "output_type": "stream",
     "text": [
      "\n",
      " 14%|█▍        | 89/645 [35:08<3:39:31, 23.69s/it]\u001b[A"
     ]
    },
    {
     "name": "stdout",
     "output_type": "stream",
     "text": [
      "for tag code  c320305 shape is (44, 5)\n"
     ]
    },
    {
     "name": "stderr",
     "output_type": "stream",
     "text": [
      "\n",
      " 14%|█▍        | 90/645 [35:35<3:39:29, 23.73s/it]\u001b[A"
     ]
    },
    {
     "name": "stdout",
     "output_type": "stream",
     "text": [
      "for tag code  c280204 shape is (44, 5)\n"
     ]
    },
    {
     "name": "stderr",
     "output_type": "stream",
     "text": [
      "\n",
      " 14%|█▍        | 91/645 [35:59<3:39:04, 23.73s/it]\u001b[A"
     ]
    },
    {
     "name": "stdout",
     "output_type": "stream",
     "text": [
      "for tag code  c290103 shape is (45, 5)\n"
     ]
    },
    {
     "name": "stderr",
     "output_type": "stream",
     "text": [
      "\n",
      " 14%|█▍        | 92/645 [36:19<3:38:22, 23.69s/it]\u001b[A"
     ]
    },
    {
     "name": "stdout",
     "output_type": "stream",
     "text": [
      "for tag code  q0422 shape is (45, 5)\n"
     ]
    },
    {
     "name": "stderr",
     "output_type": "stream",
     "text": [
      "\n",
      " 14%|█▍        | 93/645 [36:40<3:37:38, 23.66s/it]\u001b[A"
     ]
    },
    {
     "name": "stdout",
     "output_type": "stream",
     "text": [
      "for tag code  L040106 shape is (45, 5)\n"
     ]
    },
    {
     "name": "stderr",
     "output_type": "stream",
     "text": [
      "\n",
      " 15%|█▍        | 94/645 [37:00<3:36:56, 23.62s/it]\u001b[A"
     ]
    },
    {
     "name": "stdout",
     "output_type": "stream",
     "text": [
      "for tag code  L010304 shape is (46, 5)\n"
     ]
    },
    {
     "name": "stderr",
     "output_type": "stream",
     "text": [
      "\n",
      " 15%|█▍        | 95/645 [37:26<3:36:47, 23.65s/it]\u001b[A"
     ]
    },
    {
     "name": "stdout",
     "output_type": "stream",
     "text": [
      "for tag code  c170305 shape is (46, 5)\n"
     ]
    },
    {
     "name": "stderr",
     "output_type": "stream",
     "text": [
      "\n",
      " 15%|█▍        | 96/645 [37:46<3:36:02, 23.61s/it]\u001b[A"
     ]
    },
    {
     "name": "stdout",
     "output_type": "stream",
     "text": [
      "for tag code  c080106 shape is (46, 5)\n"
     ]
    },
    {
     "name": "stderr",
     "output_type": "stream",
     "text": [
      "\n",
      " 15%|█▌        | 97/645 [38:09<3:35:33, 23.60s/it]\u001b[A"
     ]
    },
    {
     "name": "stdout",
     "output_type": "stream",
     "text": [
      "for tag code  c160506 shape is (46, 5)\n"
     ]
    },
    {
     "name": "stderr",
     "output_type": "stream",
     "text": [
      "\n",
      " 15%|█▌        | 98/645 [38:32<3:35:05, 23.59s/it]\u001b[A"
     ]
    },
    {
     "name": "stdout",
     "output_type": "stream",
     "text": [
      "for tag code  z080101 shape is (46, 5)\n"
     ]
    },
    {
     "name": "stderr",
     "output_type": "stream",
     "text": [
      "\n",
      " 15%|█▌        | 99/645 [38:54<3:34:32, 23.58s/it]\u001b[A"
     ]
    },
    {
     "name": "stdout",
     "output_type": "stream",
     "text": [
      "for tag code  c260231 shape is (46, 5)\n"
     ]
    },
    {
     "name": "stderr",
     "output_type": "stream",
     "text": [
      "\n",
      " 16%|█▌        | 100/645 [39:15<3:33:54, 23.55s/it]\u001b[A"
     ]
    },
    {
     "name": "stdout",
     "output_type": "stream",
     "text": [
      "for tag code  c330103 shape is (46, 5)\n"
     ]
    },
    {
     "name": "stderr",
     "output_type": "stream",
     "text": [
      "\n",
      " 16%|█▌        | 101/645 [39:40<3:33:41, 23.57s/it]\u001b[A"
     ]
    },
    {
     "name": "stdout",
     "output_type": "stream",
     "text": [
      "for tag code  qm0503 shape is (47, 5)\n"
     ]
    },
    {
     "name": "stderr",
     "output_type": "stream",
     "text": [
      "\n",
      " 16%|█▌        | 102/645 [39:59<3:32:51, 23.52s/it]\u001b[A"
     ]
    },
    {
     "name": "stdout",
     "output_type": "stream",
     "text": [
      "for tag code  q0302 shape is (47, 5)\n"
     ]
    },
    {
     "name": "stderr",
     "output_type": "stream",
     "text": [
      "\n",
      " 16%|█▌        | 103/645 [40:19<3:32:09, 23.49s/it]\u001b[A"
     ]
    },
    {
     "name": "stdout",
     "output_type": "stream",
     "text": [
      "for tag code  z040203 shape is (47, 5)\n"
     ]
    },
    {
     "name": "stderr",
     "output_type": "stream",
     "text": [
      "\n",
      " 16%|█▌        | 104/645 [40:46<3:32:06, 23.52s/it]\u001b[A"
     ]
    },
    {
     "name": "stdout",
     "output_type": "stream",
     "text": [
      "for tag code  c330105 shape is (47, 5)\n"
     ]
    },
    {
     "name": "stderr",
     "output_type": "stream",
     "text": [
      "/Users/Zhenyue/anaconda3/lib/python3.6/site-packages/skopt/optimizer/optimizer.py:399: UserWarning: The objective has been evaluated at this point before.\n",
      "  warnings.warn(\"The objective has been evaluated \"\n",
      "/Users/Zhenyue/anaconda3/lib/python3.6/site-packages/skopt/optimizer/optimizer.py:399: UserWarning: The objective has been evaluated at this point before.\n",
      "  warnings.warn(\"The objective has been evaluated \"\n",
      "/Users/Zhenyue/anaconda3/lib/python3.6/site-packages/skopt/optimizer/optimizer.py:399: UserWarning: The objective has been evaluated at this point before.\n",
      "  warnings.warn(\"The objective has been evaluated \"\n",
      "/Users/Zhenyue/anaconda3/lib/python3.6/site-packages/skopt/optimizer/optimizer.py:399: UserWarning: The objective has been evaluated at this point before.\n",
      "  warnings.warn(\"The objective has been evaluated \"\n",
      "/Users/Zhenyue/anaconda3/lib/python3.6/site-packages/skopt/optimizer/optimizer.py:399: UserWarning: The objective has been evaluated at this point before.\n",
      "  warnings.warn(\"The objective has been evaluated \"\n",
      "/Users/Zhenyue/anaconda3/lib/python3.6/site-packages/skopt/optimizer/optimizer.py:399: UserWarning: The objective has been evaluated at this point before.\n",
      "  warnings.warn(\"The objective has been evaluated \"\n",
      "/Users/Zhenyue/anaconda3/lib/python3.6/site-packages/skopt/optimizer/optimizer.py:399: UserWarning: The objective has been evaluated at this point before.\n",
      "  warnings.warn(\"The objective has been evaluated \"\n",
      "/Users/Zhenyue/anaconda3/lib/python3.6/site-packages/skopt/optimizer/optimizer.py:399: UserWarning: The objective has been evaluated at this point before.\n",
      "  warnings.warn(\"The objective has been evaluated \"\n",
      "/Users/Zhenyue/anaconda3/lib/python3.6/site-packages/skopt/optimizer/optimizer.py:399: UserWarning: The objective has been evaluated at this point before.\n",
      "  warnings.warn(\"The objective has been evaluated \"\n",
      "/Users/Zhenyue/anaconda3/lib/python3.6/site-packages/skopt/optimizer/optimizer.py:399: UserWarning: The objective has been evaluated at this point before.\n",
      "  warnings.warn(\"The objective has been evaluated \"\n",
      "/Users/Zhenyue/anaconda3/lib/python3.6/site-packages/skopt/optimizer/optimizer.py:399: UserWarning: The objective has been evaluated at this point before.\n",
      "  warnings.warn(\"The objective has been evaluated \"\n",
      "/Users/Zhenyue/anaconda3/lib/python3.6/site-packages/skopt/optimizer/optimizer.py:399: UserWarning: The objective has been evaluated at this point before.\n",
      "  warnings.warn(\"The objective has been evaluated \"\n",
      "/Users/Zhenyue/anaconda3/lib/python3.6/site-packages/skopt/optimizer/optimizer.py:399: UserWarning: The objective has been evaluated at this point before.\n",
      "  warnings.warn(\"The objective has been evaluated \"\n",
      "/Users/Zhenyue/anaconda3/lib/python3.6/site-packages/skopt/optimizer/optimizer.py:399: UserWarning: The objective has been evaluated at this point before.\n",
      "  warnings.warn(\"The objective has been evaluated \"\n",
      "/Users/Zhenyue/anaconda3/lib/python3.6/site-packages/skopt/optimizer/optimizer.py:399: UserWarning: The objective has been evaluated at this point before.\n",
      "  warnings.warn(\"The objective has been evaluated \"\n",
      "/Users/Zhenyue/anaconda3/lib/python3.6/site-packages/skopt/optimizer/optimizer.py:399: UserWarning: The objective has been evaluated at this point before.\n",
      "  warnings.warn(\"The objective has been evaluated \"\n",
      "/Users/Zhenyue/anaconda3/lib/python3.6/site-packages/skopt/optimizer/optimizer.py:399: UserWarning: The objective has been evaluated at this point before.\n",
      "  warnings.warn(\"The objective has been evaluated \"\n",
      "/Users/Zhenyue/anaconda3/lib/python3.6/site-packages/skopt/optimizer/optimizer.py:399: UserWarning: The objective has been evaluated at this point before.\n",
      "  warnings.warn(\"The objective has been evaluated \"\n",
      "/Users/Zhenyue/anaconda3/lib/python3.6/site-packages/skopt/optimizer/optimizer.py:399: UserWarning: The objective has been evaluated at this point before.\n",
      "  warnings.warn(\"The objective has been evaluated \"\n",
      "/Users/Zhenyue/anaconda3/lib/python3.6/site-packages/skopt/optimizer/optimizer.py:399: UserWarning: The objective has been evaluated at this point before.\n",
      "  warnings.warn(\"The objective has been evaluated \"\n",
      "/Users/Zhenyue/anaconda3/lib/python3.6/site-packages/skopt/optimizer/optimizer.py:399: UserWarning: The objective has been evaluated at this point before.\n",
      "  warnings.warn(\"The objective has been evaluated \"\n",
      "/Users/Zhenyue/anaconda3/lib/python3.6/site-packages/skopt/optimizer/optimizer.py:399: UserWarning: The objective has been evaluated at this point before.\n",
      "  warnings.warn(\"The objective has been evaluated \"\n",
      "/Users/Zhenyue/anaconda3/lib/python3.6/site-packages/skopt/optimizer/optimizer.py:399: UserWarning: The objective has been evaluated at this point before.\n",
      "  warnings.warn(\"The objective has been evaluated \"\n",
      "/Users/Zhenyue/anaconda3/lib/python3.6/site-packages/skopt/optimizer/optimizer.py:399: UserWarning: The objective has been evaluated at this point before.\n",
      "  warnings.warn(\"The objective has been evaluated \"\n",
      "/Users/Zhenyue/anaconda3/lib/python3.6/site-packages/skopt/optimizer/optimizer.py:399: UserWarning: The objective has been evaluated at this point before.\n",
      "  warnings.warn(\"The objective has been evaluated \"\n",
      "/Users/Zhenyue/anaconda3/lib/python3.6/site-packages/skopt/optimizer/optimizer.py:399: UserWarning: The objective has been evaluated at this point before.\n",
      "  warnings.warn(\"The objective has been evaluated \"\n",
      "/Users/Zhenyue/anaconda3/lib/python3.6/site-packages/skopt/optimizer/optimizer.py:399: UserWarning: The objective has been evaluated at this point before.\n",
      "  warnings.warn(\"The objective has been evaluated \"\n",
      "/Users/Zhenyue/anaconda3/lib/python3.6/site-packages/skopt/optimizer/optimizer.py:399: UserWarning: The objective has been evaluated at this point before.\n",
      "  warnings.warn(\"The objective has been evaluated \"\n",
      "/Users/Zhenyue/anaconda3/lib/python3.6/site-packages/skopt/optimizer/optimizer.py:399: UserWarning: The objective has been evaluated at this point before.\n",
      "  warnings.warn(\"The objective has been evaluated \"\n",
      "/Users/Zhenyue/anaconda3/lib/python3.6/site-packages/skopt/optimizer/optimizer.py:399: UserWarning: The objective has been evaluated at this point before.\n",
      "  warnings.warn(\"The objective has been evaluated \"\n",
      "/Users/Zhenyue/anaconda3/lib/python3.6/site-packages/skopt/optimizer/optimizer.py:399: UserWarning: The objective has been evaluated at this point before.\n",
      "  warnings.warn(\"The objective has been evaluated \"\n",
      "\n",
      " 16%|█▋        | 105/645 [41:18<3:32:27, 23.61s/it]\u001b[A"
     ]
    },
    {
     "name": "stdout",
     "output_type": "stream",
     "text": [
      "for tag code  c170306 shape is (48, 5)\n"
     ]
    },
    {
     "name": "stderr",
     "output_type": "stream",
     "text": [
      "\n",
      " 16%|█▋        | 106/645 [41:45<3:32:22, 23.64s/it]\u001b[A"
     ]
    },
    {
     "name": "stdout",
     "output_type": "stream",
     "text": [
      "for tag code  c200108 shape is (48, 5)\n"
     ]
    },
    {
     "name": "stderr",
     "output_type": "stream",
     "text": [
      "\n",
      " 17%|█▋        | 107/645 [42:06<3:31:42, 23.61s/it]\u001b[A"
     ]
    },
    {
     "name": "stdout",
     "output_type": "stream",
     "text": [
      "for tag code  c290202 shape is (48, 5)\n"
     ]
    },
    {
     "name": "stderr",
     "output_type": "stream",
     "text": [
      "\n",
      " 17%|█▋        | 108/645 [42:27<3:31:04, 23.58s/it]\u001b[A"
     ]
    },
    {
     "name": "stdout",
     "output_type": "stream",
     "text": [
      "for tag code  c170316 shape is (48, 5)\n"
     ]
    },
    {
     "name": "stderr",
     "output_type": "stream",
     "text": [
      "\n",
      " 17%|█▋        | 109/645 [42:47<3:30:25, 23.55s/it]\u001b[A"
     ]
    },
    {
     "name": "stdout",
     "output_type": "stream",
     "text": [
      "for tag code  c170107 shape is (48, 5)\n"
     ]
    },
    {
     "name": "stderr",
     "output_type": "stream",
     "text": [
      "\n",
      " 17%|█▋        | 110/645 [43:07<3:29:44, 23.52s/it]\u001b[A"
     ]
    },
    {
     "name": "stdout",
     "output_type": "stream",
     "text": [
      "for tag code  c260225 shape is (49, 5)\n"
     ]
    },
    {
     "name": "stderr",
     "output_type": "stream",
     "text": [
      "\n",
      " 17%|█▋        | 111/645 [43:30<3:29:17, 23.52s/it]\u001b[A"
     ]
    },
    {
     "name": "stdout",
     "output_type": "stream",
     "text": [
      "for tag code  c140104 shape is (49, 5)\n"
     ]
    },
    {
     "name": "stderr",
     "output_type": "stream",
     "text": [
      "\n",
      " 17%|█▋        | 112/645 [43:53<3:28:53, 23.52s/it]\u001b[A"
     ]
    },
    {
     "name": "stdout",
     "output_type": "stream",
     "text": [
      "for tag code  c160108 shape is (49, 5)\n"
     ]
    },
    {
     "name": "stderr",
     "output_type": "stream",
     "text": [
      "\n",
      " 18%|█▊        | 113/645 [44:17<3:28:32, 23.52s/it]\u001b[A"
     ]
    },
    {
     "name": "stdout",
     "output_type": "stream",
     "text": [
      "for tag code  qm0308 shape is (50, 5)\n"
     ]
    },
    {
     "name": "stderr",
     "output_type": "stream",
     "text": [
      "\n",
      " 18%|█▊        | 114/645 [44:39<3:27:59, 23.50s/it]\u001b[A"
     ]
    },
    {
     "name": "stdout",
     "output_type": "stream",
     "text": [
      "for tag code  c180101 shape is (50, 5)\n"
     ]
    },
    {
     "name": "stderr",
     "output_type": "stream",
     "text": [
      "\n",
      " 18%|█▊        | 115/645 [45:02<3:27:35, 23.50s/it]\u001b[A"
     ]
    },
    {
     "name": "stdout",
     "output_type": "stream",
     "text": [
      "for tag code  c260203 shape is (50, 5)\n"
     ]
    },
    {
     "name": "stderr",
     "output_type": "stream",
     "text": [
      "\n",
      " 18%|█▊        | 116/645 [45:29<3:27:28, 23.53s/it]\u001b[A"
     ]
    },
    {
     "name": "stdout",
     "output_type": "stream",
     "text": [
      "for tag code  z080103 shape is (50, 5)\n"
     ]
    },
    {
     "name": "stderr",
     "output_type": "stream",
     "text": [
      "\n",
      " 18%|█▊        | 117/645 [45:56<3:27:19, 23.56s/it]\u001b[A"
     ]
    },
    {
     "name": "stdout",
     "output_type": "stream",
     "text": [
      "for tag code  c290217 shape is (50, 5)\n"
     ]
    },
    {
     "name": "stderr",
     "output_type": "stream",
     "text": [
      "\n",
      " 18%|█▊        | 118/645 [46:22<3:27:06, 23.58s/it]\u001b[A"
     ]
    },
    {
     "name": "stdout",
     "output_type": "stream",
     "text": [
      "for tag code  c190202 shape is (50, 5)\n"
     ]
    },
    {
     "name": "stderr",
     "output_type": "stream",
     "text": [
      "\n",
      " 18%|█▊        | 119/645 [46:46<3:26:43, 23.58s/it]\u001b[A"
     ]
    },
    {
     "name": "stdout",
     "output_type": "stream",
     "text": [
      "for tag code  c160503 shape is (50, 5)\n"
     ]
    },
    {
     "name": "stderr",
     "output_type": "stream",
     "text": [
      "\n",
      " 19%|█▊        | 120/645 [47:08<3:26:15, 23.57s/it]\u001b[A"
     ]
    },
    {
     "name": "stdout",
     "output_type": "stream",
     "text": [
      "for tag code  c040101 shape is (50, 5)\n"
     ]
    },
    {
     "name": "stderr",
     "output_type": "stream",
     "text": [
      "\n",
      " 19%|█▉        | 121/645 [47:31<3:25:47, 23.56s/it]\u001b[A"
     ]
    },
    {
     "name": "stdout",
     "output_type": "stream",
     "text": [
      "for tag code  c260223 shape is (50, 5)\n"
     ]
    },
    {
     "name": "stderr",
     "output_type": "stream",
     "text": [
      "\n",
      " 19%|█▉        | 122/645 [47:56<3:25:33, 23.58s/it]\u001b[A"
     ]
    },
    {
     "name": "stdout",
     "output_type": "stream",
     "text": [
      "for tag code  q0409 shape is (50, 5)\n"
     ]
    },
    {
     "name": "stderr",
     "output_type": "stream",
     "text": [
      "\n",
      " 19%|█▉        | 123/645 [48:20<3:25:09, 23.58s/it]\u001b[A"
     ]
    },
    {
     "name": "stdout",
     "output_type": "stream",
     "text": [
      "for tag code  c170303 shape is (51, 5)\n"
     ]
    },
    {
     "name": "stderr",
     "output_type": "stream",
     "text": [
      "\n",
      " 19%|█▉        | 124/645 [48:43<3:24:41, 23.57s/it]\u001b[A"
     ]
    },
    {
     "name": "stdout",
     "output_type": "stream",
     "text": [
      "for tag code  q0421 shape is (51, 5)\n"
     ]
    },
    {
     "name": "stderr",
     "output_type": "stream",
     "text": [
      "\n",
      " 19%|█▉        | 125/645 [49:03<3:24:04, 23.55s/it]\u001b[A"
     ]
    },
    {
     "name": "stdout",
     "output_type": "stream",
     "text": [
      "for tag code  z040101 shape is (51, 5)\n"
     ]
    },
    {
     "name": "stderr",
     "output_type": "stream",
     "text": [
      "\n",
      " 20%|█▉        | 126/645 [49:30<3:23:54, 23.57s/it]\u001b[A"
     ]
    },
    {
     "name": "stdout",
     "output_type": "stream",
     "text": [
      "for tag code  c080101 shape is (51, 5)\n"
     ]
    },
    {
     "name": "stderr",
     "output_type": "stream",
     "text": [
      "\n",
      " 20%|█▉        | 127/645 [49:52<3:23:26, 23.57s/it]\u001b[A"
     ]
    },
    {
     "name": "stdout",
     "output_type": "stream",
     "text": [
      "for tag code  qm0409 shape is (51, 5)\n"
     ]
    },
    {
     "name": "stderr",
     "output_type": "stream",
     "text": [
      "\n",
      " 20%|█▉        | 128/645 [50:13<3:22:52, 23.54s/it]\u001b[A"
     ]
    },
    {
     "name": "stdout",
     "output_type": "stream",
     "text": [
      "for tag code  c320105 shape is (51, 5)\n"
     ]
    },
    {
     "name": "stderr",
     "output_type": "stream",
     "text": [
      "\n",
      " 20%|██        | 129/645 [50:38<3:22:35, 23.56s/it]\u001b[A"
     ]
    },
    {
     "name": "stdout",
     "output_type": "stream",
     "text": [
      "for tag code  c170101 shape is (51, 5)\n"
     ]
    },
    {
     "name": "stderr",
     "output_type": "stream",
     "text": [
      "\n",
      " 20%|██        | 130/645 [51:01<3:22:09, 23.55s/it]\u001b[A"
     ]
    },
    {
     "name": "stdout",
     "output_type": "stream",
     "text": [
      "for tag code  c290209 shape is (51, 5)\n"
     ]
    },
    {
     "name": "stderr",
     "output_type": "stream",
     "text": [
      "\n",
      " 20%|██        | 131/645 [51:21<3:21:32, 23.53s/it]\u001b[A"
     ]
    },
    {
     "name": "stdout",
     "output_type": "stream",
     "text": [
      "for tag code  c080208 shape is (52, 5)\n"
     ]
    },
    {
     "name": "stderr",
     "output_type": "stream",
     "text": [
      "\n",
      " 20%|██        | 132/645 [51:42<3:20:59, 23.51s/it]\u001b[A"
     ]
    },
    {
     "name": "stdout",
     "output_type": "stream",
     "text": [
      "for tag code  c290104 shape is (52, 5)\n"
     ]
    },
    {
     "name": "stderr",
     "output_type": "stream",
     "text": [
      "\n",
      " 21%|██        | 133/645 [52:02<3:20:22, 23.48s/it]\u001b[A"
     ]
    },
    {
     "name": "stdout",
     "output_type": "stream",
     "text": [
      "for tag code  q0203 shape is (52, 5)\n"
     ]
    },
    {
     "name": "stderr",
     "output_type": "stream",
     "text": [
      "\n",
      " 21%|██        | 134/645 [52:28<3:20:08, 23.50s/it]\u001b[A"
     ]
    },
    {
     "name": "stdout",
     "output_type": "stream",
     "text": [
      "for tag code  c290210 shape is (52, 5)\n"
     ]
    },
    {
     "name": "stderr",
     "output_type": "stream",
     "text": [
      "\n",
      " 21%|██        | 135/645 [52:51<3:19:42, 23.49s/it]\u001b[A"
     ]
    },
    {
     "name": "stdout",
     "output_type": "stream",
     "text": [
      "for tag code  qm0509 shape is (52, 5)\n"
     ]
    },
    {
     "name": "stderr",
     "output_type": "stream",
     "text": [
      "\n",
      " 21%|██        | 136/645 [53:11<3:19:05, 23.47s/it]\u001b[A"
     ]
    },
    {
     "name": "stdout",
     "output_type": "stream",
     "text": [
      "for tag code  c130305 shape is (53, 5)\n"
     ]
    },
    {
     "name": "stderr",
     "output_type": "stream",
     "text": [
      "\n",
      " 21%|██        | 137/645 [53:32<3:18:31, 23.45s/it]\u001b[A"
     ]
    },
    {
     "name": "stdout",
     "output_type": "stream",
     "text": [
      "for tag code  c290211 shape is (53, 5)\n"
     ]
    },
    {
     "name": "stderr",
     "output_type": "stream",
     "text": [
      "\n",
      " 21%|██▏       | 138/645 [53:54<3:18:03, 23.44s/it]\u001b[A"
     ]
    },
    {
     "name": "stdout",
     "output_type": "stream",
     "text": [
      "for tag code  c080204 shape is (54, 5)\n"
     ]
    },
    {
     "name": "stderr",
     "output_type": "stream",
     "text": [
      "\n",
      " 22%|██▏       | 139/645 [54:15<3:17:30, 23.42s/it]\u001b[A"
     ]
    },
    {
     "name": "stdout",
     "output_type": "stream",
     "text": [
      "for tag code  c080205 shape is (54, 5)\n"
     ]
    },
    {
     "name": "stderr",
     "output_type": "stream",
     "text": [
      "\n",
      " 22%|██▏       | 140/645 [54:35<3:16:55, 23.40s/it]\u001b[A"
     ]
    },
    {
     "name": "stdout",
     "output_type": "stream",
     "text": [
      "for tag code  c280201 shape is (54, 5)\n"
     ]
    },
    {
     "name": "stderr",
     "output_type": "stream",
     "text": [
      "\n",
      " 22%|██▏       | 141/645 [55:03<3:16:46, 23.43s/it]\u001b[A"
     ]
    },
    {
     "name": "stdout",
     "output_type": "stream",
     "text": [
      "for tag code  c230302 shape is (54, 5)\n"
     ]
    },
    {
     "name": "stderr",
     "output_type": "stream",
     "text": [
      "\n",
      " 22%|██▏       | 142/645 [55:23<3:16:13, 23.41s/it]\u001b[A"
     ]
    },
    {
     "name": "stdout",
     "output_type": "stream",
     "text": [
      "for tag code  z050101 shape is (55, 5)\n"
     ]
    },
    {
     "name": "stderr",
     "output_type": "stream",
     "text": [
      "\n",
      " 22%|██▏       | 143/645 [55:43<3:15:37, 23.38s/it]\u001b[A"
     ]
    },
    {
     "name": "stdout",
     "output_type": "stream",
     "text": [
      "for tag code  c200206 shape is (55, 5)\n"
     ]
    },
    {
     "name": "stderr",
     "output_type": "stream",
     "text": [
      "\n",
      " 22%|██▏       | 144/645 [56:03<3:15:00, 23.35s/it]\u001b[A"
     ]
    },
    {
     "name": "stdout",
     "output_type": "stream",
     "text": [
      "for tag code  c160509 shape is (56, 5)\n"
     ]
    },
    {
     "name": "stderr",
     "output_type": "stream",
     "text": [
      "\n",
      " 22%|██▏       | 145/645 [56:22<3:14:22, 23.33s/it]\u001b[A"
     ]
    },
    {
     "name": "stdout",
     "output_type": "stream",
     "text": [
      "for tag code  z060105 shape is (56, 5)\n"
     ]
    },
    {
     "name": "stderr",
     "output_type": "stream",
     "text": [
      "\n",
      " 23%|██▎       | 146/645 [56:42<3:13:50, 23.31s/it]\u001b[A"
     ]
    },
    {
     "name": "stdout",
     "output_type": "stream",
     "text": [
      "for tag code  c170302 shape is (56, 5)\n"
     ]
    },
    {
     "name": "stderr",
     "output_type": "stream",
     "text": [
      "\n",
      " 23%|██▎       | 147/645 [57:03<3:13:19, 23.29s/it]\u001b[A"
     ]
    },
    {
     "name": "stdout",
     "output_type": "stream",
     "text": [
      "for tag code  qm0413 shape is (57, 5)\n"
     ]
    },
    {
     "name": "stderr",
     "output_type": "stream",
     "text": [
      "\n",
      " 23%|██▎       | 148/645 [57:24<3:12:46, 23.27s/it]\u001b[A"
     ]
    },
    {
     "name": "stdout",
     "output_type": "stream",
     "text": [
      "for tag code  qm0418 shape is (57, 5)\n"
     ]
    },
    {
     "name": "stderr",
     "output_type": "stream",
     "text": [
      "\n",
      " 23%|██▎       | 149/645 [57:46<3:12:19, 23.26s/it]\u001b[A"
     ]
    },
    {
     "name": "stdout",
     "output_type": "stream",
     "text": [
      "for tag code  z070103 shape is (57, 5)\n"
     ]
    },
    {
     "name": "stderr",
     "output_type": "stream",
     "text": [
      "\n",
      " 23%|██▎       | 150/645 [58:06<3:11:45, 23.24s/it]\u001b[A"
     ]
    },
    {
     "name": "stdout",
     "output_type": "stream",
     "text": [
      "for tag code  c180201 shape is (57, 5)\n"
     ]
    },
    {
     "name": "stderr",
     "output_type": "stream",
     "text": [
      "\n",
      " 23%|██▎       | 151/645 [58:28<3:11:16, 23.23s/it]\u001b[A"
     ]
    },
    {
     "name": "stdout",
     "output_type": "stream",
     "text": [
      "for tag code  c130309 shape is (57, 5)\n"
     ]
    },
    {
     "name": "stderr",
     "output_type": "stream",
     "text": [
      "\n",
      " 24%|██▎       | 152/645 [58:47<3:10:39, 23.20s/it]\u001b[A"
     ]
    },
    {
     "name": "stdout",
     "output_type": "stream",
     "text": [
      "for tag code  qm0414 shape is (57, 5)\n"
     ]
    },
    {
     "name": "stderr",
     "output_type": "stream",
     "text": [
      "\n",
      " 24%|██▎       | 153/645 [59:07<3:10:09, 23.19s/it]\u001b[A"
     ]
    },
    {
     "name": "stdout",
     "output_type": "stream",
     "text": [
      "for tag code  c160112 shape is (58, 5)\n"
     ]
    },
    {
     "name": "stderr",
     "output_type": "stream",
     "text": [
      "\n",
      " 24%|██▍       | 154/645 [59:28<3:09:35, 23.17s/it]\u001b[A"
     ]
    },
    {
     "name": "stdout",
     "output_type": "stream",
     "text": [
      "for tag code  c280101 shape is (59, 5)\n"
     ]
    },
    {
     "name": "stderr",
     "output_type": "stream",
     "text": [
      "\n",
      " 24%|██▍       | 155/645 [59:48<3:09:05, 23.15s/it]\u001b[A"
     ]
    },
    {
     "name": "stdout",
     "output_type": "stream",
     "text": [
      "for tag code  c160507 shape is (59, 5)\n"
     ]
    },
    {
     "name": "stderr",
     "output_type": "stream",
     "text": [
      "\n",
      " 24%|██▍       | 156/645 [1:00:09<3:08:34, 23.14s/it]\u001b[A"
     ]
    },
    {
     "name": "stdout",
     "output_type": "stream",
     "text": [
      "for tag code  c290213 shape is (59, 5)\n"
     ]
    },
    {
     "name": "stderr",
     "output_type": "stream",
     "text": [
      "\n",
      " 24%|██▍       | 157/645 [1:00:33<3:08:14, 23.14s/it]\u001b[A"
     ]
    },
    {
     "name": "stdout",
     "output_type": "stream",
     "text": [
      "for tag code  L010302 shape is (59, 5)\n"
     ]
    },
    {
     "name": "stderr",
     "output_type": "stream",
     "text": [
      "\n",
      " 24%|██▍       | 158/645 [1:00:47<3:07:21, 23.08s/it]\u001b[A"
     ]
    },
    {
     "name": "stdout",
     "output_type": "stream",
     "text": [
      "for tag code  c080211 shape is (59, 5)\n"
     ]
    },
    {
     "name": "stderr",
     "output_type": "stream",
     "text": [
      "\n",
      " 25%|██▍       | 159/645 [1:01:08<3:06:53, 23.07s/it]\u001b[A"
     ]
    },
    {
     "name": "stdout",
     "output_type": "stream",
     "text": [
      "for tag code  c170301 shape is (59, 5)\n"
     ]
    },
    {
     "name": "stderr",
     "output_type": "stream",
     "text": [
      "\n",
      " 25%|██▍       | 160/645 [1:01:29<3:06:22, 23.06s/it]\u001b[A"
     ]
    },
    {
     "name": "stdout",
     "output_type": "stream",
     "text": [
      "for tag code  c200109 shape is (60, 5)\n"
     ]
    },
    {
     "name": "stderr",
     "output_type": "stream",
     "text": [
      "\n",
      " 25%|██▍       | 161/645 [1:01:50<3:05:53, 23.04s/it]\u001b[A"
     ]
    },
    {
     "name": "stdout",
     "output_type": "stream",
     "text": [
      "for tag code  c130209 shape is (60, 5)\n"
     ]
    },
    {
     "name": "stderr",
     "output_type": "stream",
     "text": [
      "\n",
      " 25%|██▌       | 162/645 [1:02:13<3:05:32, 23.05s/it]\u001b[A"
     ]
    },
    {
     "name": "stdout",
     "output_type": "stream",
     "text": [
      "for tag code  qm0601 shape is (60, 5)\n"
     ]
    },
    {
     "name": "stderr",
     "output_type": "stream",
     "text": [
      "\n",
      " 25%|██▌       | 163/645 [1:02:42<3:05:25, 23.08s/it]\u001b[A"
     ]
    },
    {
     "name": "stdout",
     "output_type": "stream",
     "text": [
      "for tag code  c200211 shape is (60, 5)\n"
     ]
    },
    {
     "name": "stderr",
     "output_type": "stream",
     "text": [
      "\n",
      " 25%|██▌       | 164/645 [1:03:03<3:04:57, 23.07s/it]\u001b[A"
     ]
    },
    {
     "name": "stdout",
     "output_type": "stream",
     "text": [
      "for tag code  c160502 shape is (60, 5)\n"
     ]
    },
    {
     "name": "stderr",
     "output_type": "stream",
     "text": [
      "\n",
      " 26%|██▌       | 165/645 [1:03:17<3:04:06, 23.01s/it]\u001b[A"
     ]
    },
    {
     "name": "stdout",
     "output_type": "stream",
     "text": [
      "for tag code  c260108 shape is (60, 5)\n"
     ]
    },
    {
     "name": "stderr",
     "output_type": "stream",
     "text": [
      "\n",
      " 26%|██▌       | 166/645 [1:03:41<3:03:45, 23.02s/it]\u001b[A"
     ]
    },
    {
     "name": "stdout",
     "output_type": "stream",
     "text": [
      "for tag code  L040101 shape is (60, 5)\n"
     ]
    },
    {
     "name": "stderr",
     "output_type": "stream",
     "text": [
      "\n",
      " 26%|██▌       | 167/645 [1:04:01<3:03:16, 23.00s/it]\u001b[A"
     ]
    },
    {
     "name": "stdout",
     "output_type": "stream",
     "text": [
      "for tag code  c160504 shape is (61, 5)\n"
     ]
    },
    {
     "name": "stderr",
     "output_type": "stream",
     "text": [
      "\n",
      " 26%|██▌       | 168/645 [1:04:24<3:02:52, 23.00s/it]\u001b[A"
     ]
    },
    {
     "name": "stdout",
     "output_type": "stream",
     "text": [
      "for tag code  c170307 shape is (61, 5)\n"
     ]
    },
    {
     "name": "stderr",
     "output_type": "stream",
     "text": [
      "\n",
      " 26%|██▌       | 169/645 [1:04:48<3:02:31, 23.01s/it]\u001b[A"
     ]
    },
    {
     "name": "stdout",
     "output_type": "stream",
     "text": [
      "for tag code  c160110 shape is (63, 5)\n"
     ]
    },
    {
     "name": "stderr",
     "output_type": "stream",
     "text": [
      "\n",
      " 26%|██▋       | 170/645 [1:05:10<3:02:05, 23.00s/it]\u001b[A"
     ]
    },
    {
     "name": "stdout",
     "output_type": "stream",
     "text": [
      "for tag code  c260107 shape is (63, 5)\n"
     ]
    },
    {
     "name": "stderr",
     "output_type": "stream",
     "text": [
      "\n",
      " 27%|██▋       | 171/645 [1:05:32<3:01:39, 23.00s/it]\u001b[A"
     ]
    },
    {
     "name": "stdout",
     "output_type": "stream",
     "text": [
      "for tag code  z060201 shape is (63, 5)\n"
     ]
    },
    {
     "name": "stderr",
     "output_type": "stream",
     "text": [
      "\n",
      " 27%|██▋       | 172/645 [1:05:55<3:01:18, 23.00s/it]\u001b[A"
     ]
    },
    {
     "name": "stdout",
     "output_type": "stream",
     "text": [
      "for tag code  c140103 shape is (63, 5)\n"
     ]
    },
    {
     "name": "stderr",
     "output_type": "stream",
     "text": [
      "\n",
      " 27%|██▋       | 173/645 [1:06:17<3:00:52, 22.99s/it]\u001b[A"
     ]
    },
    {
     "name": "stdout",
     "output_type": "stream",
     "text": [
      "for tag code  c160405 shape is (64, 5)\n"
     ]
    },
    {
     "name": "stderr",
     "output_type": "stream",
     "text": [
      "\n",
      " 27%|██▋       | 174/645 [1:06:37<3:00:21, 22.98s/it]\u001b[A"
     ]
    },
    {
     "name": "stdout",
     "output_type": "stream",
     "text": [
      "for tag code  c140106 shape is (65, 5)\n"
     ]
    },
    {
     "name": "stderr",
     "output_type": "stream",
     "text": [
      "\n",
      " 27%|██▋       | 175/645 [1:06:58<2:59:52, 22.96s/it]\u001b[A"
     ]
    },
    {
     "name": "stdout",
     "output_type": "stream",
     "text": [
      "for tag code  c160501 shape is (65, 5)\n"
     ]
    },
    {
     "name": "stderr",
     "output_type": "stream",
     "text": [
      "\n",
      " 27%|██▋       | 176/645 [1:07:18<2:59:22, 22.95s/it]\u001b[A"
     ]
    },
    {
     "name": "stdout",
     "output_type": "stream",
     "text": [
      "for tag code  c110303 shape is (65, 5)\n"
     ]
    },
    {
     "name": "stderr",
     "output_type": "stream",
     "text": [
      "\n",
      " 27%|██▋       | 177/645 [1:07:43<2:59:04, 22.96s/it]\u001b[A"
     ]
    },
    {
     "name": "stdout",
     "output_type": "stream",
     "text": [
      "for tag code  qm0101 shape is (65, 5)\n"
     ]
    },
    {
     "name": "stderr",
     "output_type": "stream",
     "text": [
      "\n",
      " 28%|██▊       | 178/645 [1:08:04<2:58:35, 22.95s/it]\u001b[A"
     ]
    },
    {
     "name": "stdout",
     "output_type": "stream",
     "text": [
      "for tag code  c070412 shape is (66, 5)\n"
     ]
    },
    {
     "name": "stderr",
     "output_type": "stream",
     "text": [
      "\n",
      " 28%|██▊       | 179/645 [1:08:25<2:58:07, 22.94s/it]\u001b[A"
     ]
    },
    {
     "name": "stdout",
     "output_type": "stream",
     "text": [
      "for tag code  c220306 shape is (66, 5)\n"
     ]
    },
    {
     "name": "stderr",
     "output_type": "stream",
     "text": [
      "\n",
      " 28%|██▊       | 180/645 [1:08:45<2:57:38, 22.92s/it]\u001b[A"
     ]
    },
    {
     "name": "stdout",
     "output_type": "stream",
     "text": [
      "for tag code  c170106 shape is (66, 5)\n"
     ]
    },
    {
     "name": "stderr",
     "output_type": "stream",
     "text": [
      "\n",
      " 28%|██▊       | 181/645 [1:09:06<2:57:08, 22.91s/it]\u001b[A"
     ]
    },
    {
     "name": "stdout",
     "output_type": "stream",
     "text": [
      "for tag code  c170203 shape is (67, 5)\n"
     ]
    },
    {
     "name": "stderr",
     "output_type": "stream",
     "text": [
      "\n",
      " 28%|██▊       | 182/645 [1:09:29<2:56:48, 22.91s/it]\u001b[A"
     ]
    },
    {
     "name": "stdout",
     "output_type": "stream",
     "text": [
      "for tag code  L040104 shape is (67, 5)\n"
     ]
    },
    {
     "name": "stderr",
     "output_type": "stream",
     "text": [
      "/Users/Zhenyue/anaconda3/lib/python3.6/site-packages/skopt/optimizer/optimizer.py:399: UserWarning: The objective has been evaluated at this point before.\n",
      "  warnings.warn(\"The objective has been evaluated \"\n",
      "/Users/Zhenyue/anaconda3/lib/python3.6/site-packages/skopt/optimizer/optimizer.py:399: UserWarning: The objective has been evaluated at this point before.\n",
      "  warnings.warn(\"The objective has been evaluated \"\n",
      "/Users/Zhenyue/anaconda3/lib/python3.6/site-packages/skopt/optimizer/optimizer.py:399: UserWarning: The objective has been evaluated at this point before.\n",
      "  warnings.warn(\"The objective has been evaluated \"\n",
      "/Users/Zhenyue/anaconda3/lib/python3.6/site-packages/skopt/optimizer/optimizer.py:399: UserWarning: The objective has been evaluated at this point before.\n",
      "  warnings.warn(\"The objective has been evaluated \"\n",
      "/Users/Zhenyue/anaconda3/lib/python3.6/site-packages/skopt/optimizer/optimizer.py:399: UserWarning: The objective has been evaluated at this point before.\n",
      "  warnings.warn(\"The objective has been evaluated \"\n",
      "/Users/Zhenyue/anaconda3/lib/python3.6/site-packages/skopt/optimizer/optimizer.py:399: UserWarning: The objective has been evaluated at this point before.\n",
      "  warnings.warn(\"The objective has been evaluated \"\n",
      "/Users/Zhenyue/anaconda3/lib/python3.6/site-packages/skopt/optimizer/optimizer.py:399: UserWarning: The objective has been evaluated at this point before.\n",
      "  warnings.warn(\"The objective has been evaluated \"\n",
      "/Users/Zhenyue/anaconda3/lib/python3.6/site-packages/skopt/optimizer/optimizer.py:399: UserWarning: The objective has been evaluated at this point before.\n",
      "  warnings.warn(\"The objective has been evaluated \"\n",
      "/Users/Zhenyue/anaconda3/lib/python3.6/site-packages/skopt/optimizer/optimizer.py:399: UserWarning: The objective has been evaluated at this point before.\n",
      "  warnings.warn(\"The objective has been evaluated \"\n",
      "/Users/Zhenyue/anaconda3/lib/python3.6/site-packages/skopt/optimizer/optimizer.py:399: UserWarning: The objective has been evaluated at this point before.\n",
      "  warnings.warn(\"The objective has been evaluated \"\n",
      "/Users/Zhenyue/anaconda3/lib/python3.6/site-packages/skopt/optimizer/optimizer.py:399: UserWarning: The objective has been evaluated at this point before.\n",
      "  warnings.warn(\"The objective has been evaluated \"\n",
      "/Users/Zhenyue/anaconda3/lib/python3.6/site-packages/skopt/optimizer/optimizer.py:399: UserWarning: The objective has been evaluated at this point before.\n",
      "  warnings.warn(\"The objective has been evaluated \"\n",
      "/Users/Zhenyue/anaconda3/lib/python3.6/site-packages/skopt/optimizer/optimizer.py:399: UserWarning: The objective has been evaluated at this point before.\n",
      "  warnings.warn(\"The objective has been evaluated \"\n",
      "/Users/Zhenyue/anaconda3/lib/python3.6/site-packages/skopt/optimizer/optimizer.py:399: UserWarning: The objective has been evaluated at this point before.\n",
      "  warnings.warn(\"The objective has been evaluated \"\n",
      "/Users/Zhenyue/anaconda3/lib/python3.6/site-packages/skopt/optimizer/optimizer.py:399: UserWarning: The objective has been evaluated at this point before.\n",
      "  warnings.warn(\"The objective has been evaluated \"\n",
      "/Users/Zhenyue/anaconda3/lib/python3.6/site-packages/skopt/optimizer/optimizer.py:399: UserWarning: The objective has been evaluated at this point before.\n",
      "  warnings.warn(\"The objective has been evaluated \"\n",
      "/Users/Zhenyue/anaconda3/lib/python3.6/site-packages/skopt/optimizer/optimizer.py:399: UserWarning: The objective has been evaluated at this point before.\n",
      "  warnings.warn(\"The objective has been evaluated \"\n",
      "/Users/Zhenyue/anaconda3/lib/python3.6/site-packages/skopt/optimizer/optimizer.py:399: UserWarning: The objective has been evaluated at this point before.\n",
      "  warnings.warn(\"The objective has been evaluated \"\n",
      "/Users/Zhenyue/anaconda3/lib/python3.6/site-packages/skopt/optimizer/optimizer.py:399: UserWarning: The objective has been evaluated at this point before.\n",
      "  warnings.warn(\"The objective has been evaluated \"\n",
      "/Users/Zhenyue/anaconda3/lib/python3.6/site-packages/skopt/optimizer/optimizer.py:399: UserWarning: The objective has been evaluated at this point before.\n",
      "  warnings.warn(\"The objective has been evaluated \"\n",
      "/Users/Zhenyue/anaconda3/lib/python3.6/site-packages/skopt/optimizer/optimizer.py:399: UserWarning: The objective has been evaluated at this point before.\n",
      "  warnings.warn(\"The objective has been evaluated \"\n",
      "/Users/Zhenyue/anaconda3/lib/python3.6/site-packages/skopt/optimizer/optimizer.py:399: UserWarning: The objective has been evaluated at this point before.\n",
      "  warnings.warn(\"The objective has been evaluated \"\n",
      "/Users/Zhenyue/anaconda3/lib/python3.6/site-packages/skopt/optimizer/optimizer.py:399: UserWarning: The objective has been evaluated at this point before.\n",
      "  warnings.warn(\"The objective has been evaluated \"\n",
      "/Users/Zhenyue/anaconda3/lib/python3.6/site-packages/skopt/optimizer/optimizer.py:399: UserWarning: The objective has been evaluated at this point before.\n",
      "  warnings.warn(\"The objective has been evaluated \"\n",
      "/Users/Zhenyue/anaconda3/lib/python3.6/site-packages/skopt/optimizer/optimizer.py:399: UserWarning: The objective has been evaluated at this point before.\n",
      "  warnings.warn(\"The objective has been evaluated \"\n",
      "/Users/Zhenyue/anaconda3/lib/python3.6/site-packages/skopt/optimizer/optimizer.py:399: UserWarning: The objective has been evaluated at this point before.\n",
      "  warnings.warn(\"The objective has been evaluated \"\n",
      "/Users/Zhenyue/anaconda3/lib/python3.6/site-packages/skopt/optimizer/optimizer.py:399: UserWarning: The objective has been evaluated at this point before.\n",
      "  warnings.warn(\"The objective has been evaluated \"\n",
      "/Users/Zhenyue/anaconda3/lib/python3.6/site-packages/skopt/optimizer/optimizer.py:399: UserWarning: The objective has been evaluated at this point before.\n",
      "  warnings.warn(\"The objective has been evaluated \"\n",
      "/Users/Zhenyue/anaconda3/lib/python3.6/site-packages/skopt/optimizer/optimizer.py:399: UserWarning: The objective has been evaluated at this point before.\n",
      "  warnings.warn(\"The objective has been evaluated \"\n",
      "/Users/Zhenyue/anaconda3/lib/python3.6/site-packages/skopt/optimizer/optimizer.py:399: UserWarning: The objective has been evaluated at this point before.\n",
      "  warnings.warn(\"The objective has been evaluated \"\n",
      "\n",
      " 28%|██▊       | 183/645 [1:09:57<2:56:38, 22.94s/it]\u001b[A"
     ]
    },
    {
     "name": "stdout",
     "output_type": "stream",
     "text": [
      "for tag code  c110306 shape is (67, 5)\n"
     ]
    },
    {
     "name": "stderr",
     "output_type": "stream",
     "text": [
      "\n",
      " 29%|██▊       | 184/645 [1:10:21<2:56:16, 22.94s/it]\u001b[A"
     ]
    },
    {
     "name": "stdout",
     "output_type": "stream",
     "text": [
      "for tag code  c330203 shape is (67, 5)\n"
     ]
    },
    {
     "name": "stderr",
     "output_type": "stream",
     "text": [
      "\n",
      " 29%|██▊       | 185/645 [1:10:41<2:55:46, 22.93s/it]\u001b[A"
     ]
    },
    {
     "name": "stdout",
     "output_type": "stream",
     "text": [
      "for tag code  c130101 shape is (68, 5)\n"
     ]
    },
    {
     "name": "stderr",
     "output_type": "stream",
     "text": [
      "\n",
      " 29%|██▉       | 186/645 [1:11:00<2:55:13, 22.90s/it]\u001b[A"
     ]
    },
    {
     "name": "stdout",
     "output_type": "stream",
     "text": [
      "for tag code  c170201 shape is (68, 5)\n"
     ]
    },
    {
     "name": "stderr",
     "output_type": "stream",
     "text": [
      "\n",
      " 29%|██▉       | 187/645 [1:11:20<2:54:44, 22.89s/it]\u001b[A"
     ]
    },
    {
     "name": "stdout",
     "output_type": "stream",
     "text": [
      "for tag code  c170109 shape is (68, 5)\n"
     ]
    },
    {
     "name": "stderr",
     "output_type": "stream",
     "text": [
      "\n",
      " 29%|██▉       | 188/645 [1:11:45<2:54:25, 22.90s/it]\u001b[A"
     ]
    },
    {
     "name": "stdout",
     "output_type": "stream",
     "text": [
      "for tag code  c080209 shape is (68, 5)\n"
     ]
    },
    {
     "name": "stderr",
     "output_type": "stream",
     "text": [
      "\n",
      " 29%|██▉       | 189/645 [1:12:07<2:54:01, 22.90s/it]\u001b[A"
     ]
    },
    {
     "name": "stdout",
     "output_type": "stream",
     "text": [
      "for tag code  z070301 shape is (69, 5)\n"
     ]
    },
    {
     "name": "stderr",
     "output_type": "stream",
     "text": [
      "\n",
      " 29%|██▉       | 190/645 [1:12:28<2:53:34, 22.89s/it]\u001b[A"
     ]
    },
    {
     "name": "stdout",
     "output_type": "stream",
     "text": [
      "for tag code  c200102 shape is (69, 5)\n"
     ]
    },
    {
     "name": "stderr",
     "output_type": "stream",
     "text": [
      "\n",
      " 30%|██▉       | 191/645 [1:12:49<2:53:07, 22.88s/it]\u001b[A"
     ]
    },
    {
     "name": "stdout",
     "output_type": "stream",
     "text": [
      "for tag code  q0512 shape is (69, 5)\n"
     ]
    },
    {
     "name": "stderr",
     "output_type": "stream",
     "text": [
      "\n",
      " 30%|██▉       | 192/645 [1:13:15<2:52:49, 22.89s/it]\u001b[A"
     ]
    },
    {
     "name": "stdout",
     "output_type": "stream",
     "text": [
      "for tag code  c200209 shape is (69, 5)\n"
     ]
    },
    {
     "name": "stderr",
     "output_type": "stream",
     "text": [
      "\n",
      " 30%|██▉       | 193/645 [1:13:35<2:52:21, 22.88s/it]\u001b[A"
     ]
    },
    {
     "name": "stdout",
     "output_type": "stream",
     "text": [
      "for tag code  c120103 shape is (70, 5)\n"
     ]
    },
    {
     "name": "stderr",
     "output_type": "stream",
     "text": [
      "\n",
      " 30%|███       | 194/645 [1:13:56<2:51:52, 22.87s/it]\u001b[A"
     ]
    },
    {
     "name": "stdout",
     "output_type": "stream",
     "text": [
      "for tag code  c200306 shape is (71, 5)\n"
     ]
    },
    {
     "name": "stderr",
     "output_type": "stream",
     "text": [
      "\n",
      " 30%|███       | 195/645 [1:14:17<2:51:27, 22.86s/it]\u001b[A"
     ]
    },
    {
     "name": "stdout",
     "output_type": "stream",
     "text": [
      "for tag code  c080107 shape is (71, 5)\n"
     ]
    },
    {
     "name": "stderr",
     "output_type": "stream",
     "text": [
      "\n",
      " 30%|███       | 196/645 [1:14:38<2:50:58, 22.85s/it]\u001b[A"
     ]
    },
    {
     "name": "stdout",
     "output_type": "stream",
     "text": [
      "for tag code  c200208 shape is (71, 5)\n"
     ]
    },
    {
     "name": "stderr",
     "output_type": "stream",
     "text": [
      "\n",
      " 31%|███       | 197/645 [1:14:58<2:50:31, 22.84s/it]\u001b[A"
     ]
    },
    {
     "name": "stdout",
     "output_type": "stream",
     "text": [
      "for tag code  c110402 shape is (72, 5)\n"
     ]
    },
    {
     "name": "stderr",
     "output_type": "stream",
     "text": [
      "\n",
      " 31%|███       | 198/645 [1:15:22<2:50:08, 22.84s/it]\u001b[A"
     ]
    },
    {
     "name": "stdout",
     "output_type": "stream",
     "text": [
      "for tag code  c190407 shape is (72, 5)\n"
     ]
    },
    {
     "name": "stderr",
     "output_type": "stream",
     "text": [
      "\n",
      " 31%|███       | 199/645 [1:15:42<2:49:40, 22.83s/it]\u001b[A"
     ]
    },
    {
     "name": "stdout",
     "output_type": "stream",
     "text": [
      "for tag code  c160307 shape is (73, 5)\n"
     ]
    },
    {
     "name": "stderr",
     "output_type": "stream",
     "text": [
      "\n",
      " 31%|███       | 200/645 [1:16:05<2:49:17, 22.83s/it]\u001b[A"
     ]
    },
    {
     "name": "stdout",
     "output_type": "stream",
     "text": [
      "for tag code  c130211 shape is (73, 5)\n"
     ]
    },
    {
     "name": "stderr",
     "output_type": "stream",
     "text": [
      "\n",
      " 31%|███       | 201/645 [1:16:28<2:48:56, 22.83s/it]\u001b[A"
     ]
    },
    {
     "name": "stdout",
     "output_type": "stream",
     "text": [
      "for tag code  c190203 shape is (73, 5)\n"
     ]
    },
    {
     "name": "stderr",
     "output_type": "stream",
     "text": [
      "\n",
      " 31%|███▏      | 202/645 [1:16:53<2:48:37, 22.84s/it]\u001b[A"
     ]
    },
    {
     "name": "stdout",
     "output_type": "stream",
     "text": [
      "for tag code  c130208 shape is (73, 5)\n"
     ]
    },
    {
     "name": "stderr",
     "output_type": "stream",
     "text": [
      "\n",
      " 31%|███▏      | 203/645 [1:17:17<2:48:16, 22.84s/it]\u001b[A"
     ]
    },
    {
     "name": "stdout",
     "output_type": "stream",
     "text": [
      "for tag code  c110102 shape is (73, 5)\n"
     ]
    },
    {
     "name": "stderr",
     "output_type": "stream",
     "text": [
      "\n",
      " 32%|███▏      | 204/645 [1:17:37<2:47:48, 22.83s/it]\u001b[A"
     ]
    },
    {
     "name": "stdout",
     "output_type": "stream",
     "text": [
      "for tag code  c190303 shape is (73, 5)\n"
     ]
    },
    {
     "name": "stderr",
     "output_type": "stream",
     "text": [
      "\n",
      " 32%|███▏      | 205/645 [1:17:58<2:47:20, 22.82s/it]\u001b[A"
     ]
    },
    {
     "name": "stdout",
     "output_type": "stream",
     "text": [
      "for tag code  c070413 shape is (74, 5)\n"
     ]
    },
    {
     "name": "stderr",
     "output_type": "stream",
     "text": [
      "\n",
      " 32%|███▏      | 206/645 [1:18:18<2:46:52, 22.81s/it]\u001b[A"
     ]
    },
    {
     "name": "stdout",
     "output_type": "stream",
     "text": [
      "for tag code  c260109 shape is (74, 5)\n"
     ]
    },
    {
     "name": "stderr",
     "output_type": "stream",
     "text": [
      "\n",
      " 32%|███▏      | 207/645 [1:18:38<2:46:24, 22.80s/it]\u001b[A"
     ]
    },
    {
     "name": "stdout",
     "output_type": "stream",
     "text": [
      "for tag code  q0405 shape is (74, 5)\n"
     ]
    },
    {
     "name": "stderr",
     "output_type": "stream",
     "text": [
      "\n",
      " 32%|███▏      | 208/645 [1:19:05<2:46:09, 22.81s/it]\u001b[A"
     ]
    },
    {
     "name": "stdout",
     "output_type": "stream",
     "text": [
      "for tag code  c160308 shape is (75, 5)\n"
     ]
    },
    {
     "name": "stderr",
     "output_type": "stream",
     "text": [
      "\n",
      " 32%|███▏      | 209/645 [1:19:29<2:45:50, 22.82s/it]\u001b[A"
     ]
    },
    {
     "name": "stdout",
     "output_type": "stream",
     "text": [
      "for tag code  c150202 shape is (75, 5)\n"
     ]
    },
    {
     "name": "stderr",
     "output_type": "stream",
     "text": [
      "\n",
      " 33%|███▎      | 210/645 [1:19:52<2:45:27, 22.82s/it]\u001b[A"
     ]
    },
    {
     "name": "stdout",
     "output_type": "stream",
     "text": [
      "for tag code  c200301 shape is (75, 5)\n"
     ]
    },
    {
     "name": "stderr",
     "output_type": "stream",
     "text": [
      "\n",
      " 33%|███▎      | 211/645 [1:20:14<2:45:01, 22.82s/it]\u001b[A"
     ]
    },
    {
     "name": "stdout",
     "output_type": "stream",
     "text": [
      "for tag code  c260104 shape is (76, 5)\n"
     ]
    },
    {
     "name": "stderr",
     "output_type": "stream",
     "text": [
      "\n",
      " 33%|███▎      | 212/645 [1:20:35<2:44:36, 22.81s/it]\u001b[A"
     ]
    },
    {
     "name": "stdout",
     "output_type": "stream",
     "text": [
      "for tag code  z050204 shape is (76, 5)\n"
     ]
    },
    {
     "name": "stderr",
     "output_type": "stream",
     "text": [
      "\n",
      " 33%|███▎      | 213/645 [1:20:55<2:44:08, 22.80s/it]\u001b[A"
     ]
    },
    {
     "name": "stdout",
     "output_type": "stream",
     "text": [
      "for tag code  q0301 shape is (76, 5)\n"
     ]
    },
    {
     "name": "stderr",
     "output_type": "stream",
     "text": [
      "\n",
      " 33%|███▎      | 214/645 [1:21:19<2:43:47, 22.80s/it]\u001b[A"
     ]
    },
    {
     "name": "stdout",
     "output_type": "stream",
     "text": [
      "for tag code  c260222 shape is (76, 5)\n"
     ]
    },
    {
     "name": "stderr",
     "output_type": "stream",
     "text": [
      "\n",
      " 33%|███▎      | 215/645 [1:21:40<2:43:20, 22.79s/it]\u001b[A"
     ]
    },
    {
     "name": "stdout",
     "output_type": "stream",
     "text": [
      "for tag code  c240111 shape is (76, 5)\n"
     ]
    },
    {
     "name": "stderr",
     "output_type": "stream",
     "text": [
      "\n",
      " 33%|███▎      | 216/645 [1:22:00<2:42:53, 22.78s/it]\u001b[A"
     ]
    },
    {
     "name": "stdout",
     "output_type": "stream",
     "text": [
      "for tag code  qm0303 shape is (76, 5)\n"
     ]
    },
    {
     "name": "stderr",
     "output_type": "stream",
     "text": [
      "\n",
      " 34%|███▎      | 217/645 [1:22:24<2:42:32, 22.79s/it]\u001b[A"
     ]
    },
    {
     "name": "stdout",
     "output_type": "stream",
     "text": [
      "for tag code  c240103 shape is (77, 5)\n"
     ]
    },
    {
     "name": "stderr",
     "output_type": "stream",
     "text": [
      "\n",
      " 34%|███▍      | 218/645 [1:22:45<2:42:05, 22.78s/it]\u001b[A"
     ]
    },
    {
     "name": "stdout",
     "output_type": "stream",
     "text": [
      "for tag code  z070101 shape is (77, 5)\n"
     ]
    },
    {
     "name": "stderr",
     "output_type": "stream",
     "text": [
      "\n",
      " 34%|███▍      | 219/645 [1:23:05<2:41:37, 22.76s/it]\u001b[A"
     ]
    },
    {
     "name": "stdout",
     "output_type": "stream",
     "text": [
      "for tag code  c330202 shape is (77, 5)\n"
     ]
    },
    {
     "name": "stderr",
     "output_type": "stream",
     "text": [
      "\n",
      " 34%|███▍      | 220/645 [1:23:26<2:41:11, 22.76s/it]\u001b[A"
     ]
    },
    {
     "name": "stdout",
     "output_type": "stream",
     "text": [
      "for tag code  c070411 shape is (78, 5)\n"
     ]
    },
    {
     "name": "stderr",
     "output_type": "stream",
     "text": [
      "\n",
      " 34%|███▍      | 221/645 [1:23:47<2:40:46, 22.75s/it]\u001b[A"
     ]
    },
    {
     "name": "stdout",
     "output_type": "stream",
     "text": [
      "for tag code  c060201 shape is (78, 5)\n"
     ]
    },
    {
     "name": "stderr",
     "output_type": "stream",
     "text": [
      "\n",
      " 34%|███▍      | 222/645 [1:24:09<2:40:21, 22.75s/it]\u001b[A"
     ]
    },
    {
     "name": "stdout",
     "output_type": "stream",
     "text": [
      "for tag code  c180202 shape is (78, 5)\n"
     ]
    },
    {
     "name": "stderr",
     "output_type": "stream",
     "text": [
      "\n",
      " 35%|███▍      | 223/645 [1:24:31<2:39:57, 22.74s/it]\u001b[A"
     ]
    },
    {
     "name": "stdout",
     "output_type": "stream",
     "text": [
      "for tag code  c120101 shape is (78, 5)\n"
     ]
    },
    {
     "name": "stderr",
     "output_type": "stream",
     "text": [
      "\n",
      " 35%|███▍      | 224/645 [1:24:55<2:39:36, 22.75s/it]\u001b[A"
     ]
    },
    {
     "name": "stdout",
     "output_type": "stream",
     "text": [
      "for tag code  c180107 shape is (78, 5)\n"
     ]
    },
    {
     "name": "stderr",
     "output_type": "stream",
     "text": [
      "\n",
      " 35%|███▍      | 225/645 [1:25:15<2:39:09, 22.74s/it]\u001b[A"
     ]
    },
    {
     "name": "stdout",
     "output_type": "stream",
     "text": [
      "for tag code  c230103 shape is (78, 5)\n"
     ]
    },
    {
     "name": "stderr",
     "output_type": "stream",
     "text": [
      "\n",
      " 35%|███▌      | 226/645 [1:25:39<2:38:48, 22.74s/it]\u001b[A"
     ]
    },
    {
     "name": "stdout",
     "output_type": "stream",
     "text": [
      "for tag code  c270304 shape is (79, 5)\n"
     ]
    },
    {
     "name": "stderr",
     "output_type": "stream",
     "text": [
      "\n",
      " 35%|███▌      | 227/645 [1:25:59<2:38:21, 22.73s/it]\u001b[A"
     ]
    },
    {
     "name": "stdout",
     "output_type": "stream",
     "text": [
      "for tag code  q0205 shape is (79, 5)\n"
     ]
    },
    {
     "name": "stderr",
     "output_type": "stream",
     "text": [
      "\n",
      " 35%|███▌      | 228/645 [1:26:21<2:37:57, 22.73s/it]\u001b[A"
     ]
    },
    {
     "name": "stdout",
     "output_type": "stream",
     "text": [
      "for tag code  c190403 shape is (80, 5)\n"
     ]
    },
    {
     "name": "stderr",
     "output_type": "stream",
     "text": [
      "\n",
      " 36%|███▌      | 229/645 [1:26:47<2:37:40, 22.74s/it]\u001b[A"
     ]
    },
    {
     "name": "stdout",
     "output_type": "stream",
     "text": [
      "for tag code  c080105 shape is (80, 5)\n"
     ]
    },
    {
     "name": "stderr",
     "output_type": "stream",
     "text": [
      "\n",
      " 36%|███▌      | 230/645 [1:27:08<2:37:13, 22.73s/it]\u001b[A"
     ]
    },
    {
     "name": "stdout",
     "output_type": "stream",
     "text": [
      "for tag code  c080103 shape is (81, 5)\n"
     ]
    },
    {
     "name": "stderr",
     "output_type": "stream",
     "text": [
      "\n",
      " 36%|███▌      | 231/645 [1:27:30<2:36:49, 22.73s/it]\u001b[A"
     ]
    },
    {
     "name": "stdout",
     "output_type": "stream",
     "text": [
      "for tag code  c190212 shape is (81, 5)\n"
     ]
    },
    {
     "name": "stderr",
     "output_type": "stream",
     "text": [
      "\n",
      " 36%|███▌      | 232/645 [1:27:50<2:36:22, 22.72s/it]\u001b[A"
     ]
    },
    {
     "name": "stdout",
     "output_type": "stream",
     "text": [
      "for tag code  c160111 shape is (81, 5)\n"
     ]
    },
    {
     "name": "stderr",
     "output_type": "stream",
     "text": [
      "\n",
      " 36%|███▌      | 233/645 [1:28:11<2:35:57, 22.71s/it]\u001b[A"
     ]
    },
    {
     "name": "stdout",
     "output_type": "stream",
     "text": [
      "for tag code  c110305 shape is (82, 5)\n"
     ]
    },
    {
     "name": "stderr",
     "output_type": "stream",
     "text": [
      "\n",
      " 36%|███▋      | 234/645 [1:28:39<2:35:42, 22.73s/it]\u001b[A"
     ]
    },
    {
     "name": "stdout",
     "output_type": "stream",
     "text": [
      "for tag code  c260213 shape is (82, 5)\n"
     ]
    },
    {
     "name": "stderr",
     "output_type": "stream",
     "text": [
      "\n",
      " 36%|███▋      | 235/645 [1:29:02<2:35:21, 22.73s/it]\u001b[A"
     ]
    },
    {
     "name": "stdout",
     "output_type": "stream",
     "text": [
      "for tag code  qm0102 shape is (82, 5)\n"
     ]
    },
    {
     "name": "stderr",
     "output_type": "stream",
     "text": [
      "\n",
      " 37%|███▋      | 236/645 [1:29:22<2:34:53, 22.72s/it]\u001b[A"
     ]
    },
    {
     "name": "stdout",
     "output_type": "stream",
     "text": [
      "for tag code  c180106 shape is (82, 5)\n"
     ]
    },
    {
     "name": "stderr",
     "output_type": "stream",
     "text": [
      "\n",
      " 37%|███▋      | 237/645 [1:29:46<2:34:32, 22.73s/it]\u001b[A"
     ]
    },
    {
     "name": "stdout",
     "output_type": "stream",
     "text": [
      "for tag code  c200107 shape is (82, 5)\n"
     ]
    },
    {
     "name": "stderr",
     "output_type": "stream",
     "text": [
      "\n",
      " 37%|███▋      | 238/645 [1:30:13<2:34:17, 22.74s/it]\u001b[A"
     ]
    },
    {
     "name": "stdout",
     "output_type": "stream",
     "text": [
      "for tag code  c110304 shape is (83, 5)\n"
     ]
    },
    {
     "name": "stderr",
     "output_type": "stream",
     "text": [
      "\n",
      " 37%|███▋      | 239/645 [1:30:37<2:33:56, 22.75s/it]\u001b[A"
     ]
    },
    {
     "name": "stdout",
     "output_type": "stream",
     "text": [
      "for tag code  c170110 shape is (83, 5)\n"
     ]
    },
    {
     "name": "stderr",
     "output_type": "stream",
     "text": [
      "\n",
      " 37%|███▋      | 240/645 [1:30:54<2:33:25, 22.73s/it]\u001b[A"
     ]
    },
    {
     "name": "stdout",
     "output_type": "stream",
     "text": [
      "for tag code  c200212 shape is (83, 5)\n"
     ]
    },
    {
     "name": "stderr",
     "output_type": "stream",
     "text": [
      "\n",
      " 37%|███▋      | 241/645 [1:31:16<2:32:59, 22.72s/it]\u001b[A"
     ]
    },
    {
     "name": "stdout",
     "output_type": "stream",
     "text": [
      "for tag code  c200205 shape is (83, 5)\n"
     ]
    },
    {
     "name": "stderr",
     "output_type": "stream",
     "text": [
      "\n",
      " 38%|███▊      | 242/645 [1:31:37<2:32:35, 22.72s/it]\u001b[A"
     ]
    },
    {
     "name": "stdout",
     "output_type": "stream",
     "text": [
      "for tag code  qm0415 shape is (83, 5)\n"
     ]
    },
    {
     "name": "stderr",
     "output_type": "stream",
     "text": [
      "\n",
      " 38%|███▊      | 243/645 [1:31:57<2:32:08, 22.71s/it]\u001b[A"
     ]
    },
    {
     "name": "stdout",
     "output_type": "stream",
     "text": [
      "for tag code  c190204 shape is (84, 5)\n"
     ]
    },
    {
     "name": "stderr",
     "output_type": "stream",
     "text": [
      "\n",
      " 38%|███▊      | 244/645 [1:32:20<2:31:46, 22.71s/it]\u001b[A"
     ]
    },
    {
     "name": "stdout",
     "output_type": "stream",
     "text": [
      "for tag code  c060104 shape is (84, 5)\n"
     ]
    },
    {
     "name": "stderr",
     "output_type": "stream",
     "text": [
      "\n",
      " 38%|███▊      | 245/645 [1:32:41<2:31:19, 22.70s/it]\u001b[A"
     ]
    },
    {
     "name": "stdout",
     "output_type": "stream",
     "text": [
      "for tag code  z050203 shape is (84, 5)\n"
     ]
    },
    {
     "name": "stderr",
     "output_type": "stream",
     "text": [
      "\n",
      " 38%|███▊      | 246/645 [1:33:02<2:30:54, 22.69s/it]\u001b[A"
     ]
    },
    {
     "name": "stdout",
     "output_type": "stream",
     "text": [
      "for tag code  qm0304 shape is (85, 5)\n"
     ]
    },
    {
     "name": "stderr",
     "output_type": "stream",
     "text": [
      "\n",
      " 38%|███▊      | 247/645 [1:33:23<2:30:29, 22.69s/it]\u001b[A"
     ]
    },
    {
     "name": "stdout",
     "output_type": "stream",
     "text": [
      "for tag code  c200210 shape is (86, 5)\n"
     ]
    },
    {
     "name": "stderr",
     "output_type": "stream",
     "text": [
      "\n",
      " 38%|███▊      | 248/645 [1:33:44<2:30:03, 22.68s/it]\u001b[A"
     ]
    },
    {
     "name": "stdout",
     "output_type": "stream",
     "text": [
      "for tag code  c190405 shape is (87, 5)\n"
     ]
    },
    {
     "name": "stderr",
     "output_type": "stream",
     "text": [
      "\n",
      " 39%|███▊      | 249/645 [1:34:06<2:29:39, 22.67s/it]\u001b[A"
     ]
    },
    {
     "name": "stdout",
     "output_type": "stream",
     "text": [
      "for tag code  c080110 shape is (87, 5)\n"
     ]
    },
    {
     "name": "stderr",
     "output_type": "stream",
     "text": [
      "\n",
      " 39%|███▉      | 250/645 [1:34:27<2:29:14, 22.67s/it]\u001b[A"
     ]
    },
    {
     "name": "stdout",
     "output_type": "stream",
     "text": [
      "for tag code  c120102 shape is (87, 5)\n"
     ]
    },
    {
     "name": "stderr",
     "output_type": "stream",
     "text": [
      "\n",
      " 39%|███▉      | 251/645 [1:34:47<2:28:48, 22.66s/it]\u001b[A"
     ]
    },
    {
     "name": "stdout",
     "output_type": "stream",
     "text": [
      "for tag code  z070102 shape is (87, 5)\n"
     ]
    },
    {
     "name": "stderr",
     "output_type": "stream",
     "text": [
      "\n",
      " 39%|███▉      | 252/645 [1:35:12<2:28:28, 22.67s/it]\u001b[A"
     ]
    },
    {
     "name": "stdout",
     "output_type": "stream",
     "text": [
      "for tag code  c080210 shape is (88, 5)\n"
     ]
    },
    {
     "name": "stderr",
     "output_type": "stream",
     "text": [
      "\n",
      " 39%|███▉      | 253/645 [1:35:35<2:28:07, 22.67s/it]\u001b[A"
     ]
    },
    {
     "name": "stdout",
     "output_type": "stream",
     "text": [
      "for tag code  c070409 shape is (88, 5)\n"
     ]
    },
    {
     "name": "stderr",
     "output_type": "stream",
     "text": [
      "\n",
      " 39%|███▉      | 254/645 [1:35:58<2:27:44, 22.67s/it]\u001b[A"
     ]
    },
    {
     "name": "stdout",
     "output_type": "stream",
     "text": [
      "for tag code  c130203 shape is (88, 5)\n"
     ]
    },
    {
     "name": "stderr",
     "output_type": "stream",
     "text": [
      "\n",
      " 40%|███▉      | 255/645 [1:36:21<2:27:22, 22.67s/it]\u001b[A"
     ]
    },
    {
     "name": "stdout",
     "output_type": "stream",
     "text": [
      "for tag code  c200310 shape is (89, 5)\n"
     ]
    },
    {
     "name": "stderr",
     "output_type": "stream",
     "text": [
      "\n",
      " 40%|███▉      | 256/645 [1:36:41<2:26:55, 22.66s/it]\u001b[A"
     ]
    },
    {
     "name": "stdout",
     "output_type": "stream",
     "text": [
      "for tag code  c230303 shape is (89, 5)\n"
     ]
    },
    {
     "name": "stderr",
     "output_type": "stream",
     "text": [
      "\n",
      " 40%|███▉      | 257/645 [1:37:01<2:26:29, 22.65s/it]\u001b[A"
     ]
    },
    {
     "name": "stdout",
     "output_type": "stream",
     "text": [
      "for tag code  c190408 shape is (89, 5)\n"
     ]
    },
    {
     "name": "stderr",
     "output_type": "stream",
     "text": [
      "\n",
      " 40%|████      | 258/645 [1:37:25<2:26:07, 22.66s/it]\u001b[A"
     ]
    },
    {
     "name": "stdout",
     "output_type": "stream",
     "text": [
      "for tag code  c160305 shape is (89, 5)\n"
     ]
    },
    {
     "name": "stderr",
     "output_type": "stream",
     "text": [
      "\n",
      " 40%|████      | 259/645 [1:37:45<2:25:42, 22.65s/it]\u001b[A"
     ]
    },
    {
     "name": "stdout",
     "output_type": "stream",
     "text": [
      "for tag code  qm0108 shape is (89, 5)\n"
     ]
    },
    {
     "name": "stderr",
     "output_type": "stream",
     "text": [
      "\n",
      " 40%|████      | 260/645 [1:38:06<2:25:16, 22.64s/it]\u001b[A"
     ]
    },
    {
     "name": "stdout",
     "output_type": "stream",
     "text": [
      "for tag code  z040201 shape is (89, 5)\n"
     ]
    },
    {
     "name": "stderr",
     "output_type": "stream",
     "text": [
      "\n",
      " 40%|████      | 261/645 [1:38:28<2:24:52, 22.64s/it]\u001b[A"
     ]
    },
    {
     "name": "stdout",
     "output_type": "stream",
     "text": [
      "for tag code  c200303 shape is (89, 5)\n"
     ]
    },
    {
     "name": "stderr",
     "output_type": "stream",
     "text": [
      "\n",
      " 41%|████      | 262/645 [1:38:51<2:24:31, 22.64s/it]\u001b[A"
     ]
    },
    {
     "name": "stdout",
     "output_type": "stream",
     "text": [
      "for tag code  q0406 shape is (90, 5)\n"
     ]
    },
    {
     "name": "stderr",
     "output_type": "stream",
     "text": [
      "\n",
      " 41%|████      | 263/645 [1:39:12<2:24:05, 22.63s/it]\u001b[A"
     ]
    },
    {
     "name": "stdout",
     "output_type": "stream",
     "text": [
      "for tag code  c070304 shape is (90, 5)\n"
     ]
    },
    {
     "name": "stderr",
     "output_type": "stream",
     "text": [
      "\n",
      " 41%|████      | 264/645 [1:39:38<2:23:48, 22.65s/it]\u001b[A"
     ]
    },
    {
     "name": "stdout",
     "output_type": "stream",
     "text": [
      "for tag code  c260101 shape is (90, 5)\n"
     ]
    },
    {
     "name": "stderr",
     "output_type": "stream",
     "text": [
      "\n",
      " 41%|████      | 265/645 [1:40:04<2:23:30, 22.66s/it]\u001b[A"
     ]
    },
    {
     "name": "stdout",
     "output_type": "stream",
     "text": [
      "for tag code  c160105 shape is (90, 5)\n"
     ]
    },
    {
     "name": "stderr",
     "output_type": "stream",
     "text": [
      "\n",
      " 41%|████      | 266/645 [1:40:25<2:23:04, 22.65s/it]\u001b[A"
     ]
    },
    {
     "name": "stdout",
     "output_type": "stream",
     "text": [
      "for tag code  c180102 shape is (90, 5)\n"
     ]
    },
    {
     "name": "stderr",
     "output_type": "stream",
     "text": [
      "\n",
      " 41%|████▏     | 267/645 [1:40:48<2:22:43, 22.65s/it]\u001b[A"
     ]
    },
    {
     "name": "stdout",
     "output_type": "stream",
     "text": [
      "for tag code  c220104 shape is (90, 5)\n"
     ]
    },
    {
     "name": "stderr",
     "output_type": "stream",
     "text": [
      "\n",
      " 42%|████▏     | 268/645 [1:41:14<2:22:24, 22.66s/it]\u001b[A"
     ]
    },
    {
     "name": "stdout",
     "output_type": "stream",
     "text": [
      "for tag code  c090301 shape is (90, 5)\n"
     ]
    },
    {
     "name": "stderr",
     "output_type": "stream",
     "text": [
      "\n",
      " 42%|████▏     | 269/645 [1:41:34<2:21:58, 22.66s/it]\u001b[A"
     ]
    },
    {
     "name": "stdout",
     "output_type": "stream",
     "text": [
      "for tag code  c160306 shape is (90, 5)\n"
     ]
    },
    {
     "name": "stderr",
     "output_type": "stream",
     "text": [
      "\n",
      " 42%|████▏     | 270/645 [1:41:57<2:21:36, 22.66s/it]\u001b[A"
     ]
    },
    {
     "name": "stdout",
     "output_type": "stream",
     "text": [
      "for tag code  c190404 shape is (91, 5)\n"
     ]
    },
    {
     "name": "stderr",
     "output_type": "stream",
     "text": [
      "\n",
      " 42%|████▏     | 271/645 [1:42:21<2:21:15, 22.66s/it]\u001b[A"
     ]
    },
    {
     "name": "stdout",
     "output_type": "stream",
     "text": [
      "for tag code  c260216 shape is (92, 5)\n"
     ]
    },
    {
     "name": "stderr",
     "output_type": "stream",
     "text": [
      "\n",
      " 42%|████▏     | 272/645 [1:42:43<2:20:52, 22.66s/it]\u001b[A"
     ]
    },
    {
     "name": "stdout",
     "output_type": "stream",
     "text": [
      "for tag code  c200309 shape is (92, 5)\n"
     ]
    },
    {
     "name": "stderr",
     "output_type": "stream",
     "text": [
      "\n",
      " 42%|████▏     | 273/645 [1:43:04<2:20:27, 22.65s/it]\u001b[A"
     ]
    },
    {
     "name": "stdout",
     "output_type": "stream",
     "text": [
      "for tag code  z050205 shape is (92, 5)\n"
     ]
    },
    {
     "name": "stderr",
     "output_type": "stream",
     "text": [
      "\n",
      " 42%|████▏     | 274/645 [1:43:29<2:20:07, 22.66s/it]\u001b[A"
     ]
    },
    {
     "name": "stdout",
     "output_type": "stream",
     "text": [
      "for tag code  c240201 shape is (93, 5)\n"
     ]
    },
    {
     "name": "stderr",
     "output_type": "stream",
     "text": [
      "\n",
      " 43%|████▎     | 275/645 [1:43:51<2:19:44, 22.66s/it]\u001b[A"
     ]
    },
    {
     "name": "stdout",
     "output_type": "stream",
     "text": [
      "for tag code  c240108 shape is (93, 5)\n"
     ]
    },
    {
     "name": "stderr",
     "output_type": "stream",
     "text": [
      "\n",
      " 43%|████▎     | 276/645 [1:44:12<2:19:19, 22.66s/it]\u001b[A"
     ]
    },
    {
     "name": "stdout",
     "output_type": "stream",
     "text": [
      "for tag code  c100306 shape is (93, 5)\n"
     ]
    },
    {
     "name": "stderr",
     "output_type": "stream",
     "text": [
      "\n",
      " 43%|████▎     | 277/645 [1:44:36<2:18:59, 22.66s/it]\u001b[A"
     ]
    },
    {
     "name": "stdout",
     "output_type": "stream",
     "text": [
      "for tag code  c040505 shape is (93, 5)\n"
     ]
    },
    {
     "name": "stderr",
     "output_type": "stream",
     "text": [
      "\n",
      " 43%|████▎     | 278/645 [1:45:00<2:18:37, 22.66s/it]\u001b[A"
     ]
    },
    {
     "name": "stdout",
     "output_type": "stream",
     "text": [
      "for tag code  c100102 shape is (93, 5)\n"
     ]
    },
    {
     "name": "stderr",
     "output_type": "stream",
     "text": [
      "\n",
      " 43%|████▎     | 279/645 [1:45:22<2:18:14, 22.66s/it]\u001b[A"
     ]
    },
    {
     "name": "stdout",
     "output_type": "stream",
     "text": [
      "for tag code  c230202 shape is (93, 5)\n"
     ]
    },
    {
     "name": "stderr",
     "output_type": "stream",
     "text": [
      "\n",
      " 43%|████▎     | 280/645 [1:45:48<2:17:55, 22.67s/it]\u001b[A"
     ]
    },
    {
     "name": "stdout",
     "output_type": "stream",
     "text": [
      "for tag code  c190302 shape is (94, 5)\n"
     ]
    },
    {
     "name": "stderr",
     "output_type": "stream",
     "text": [
      "\n",
      " 44%|████▎     | 281/645 [1:46:08<2:17:29, 22.66s/it]\u001b[A"
     ]
    },
    {
     "name": "stdout",
     "output_type": "stream",
     "text": [
      "for tag code  c160403 shape is (94, 5)\n"
     ]
    },
    {
     "name": "stderr",
     "output_type": "stream",
     "text": [
      "\n",
      " 44%|████▎     | 282/645 [1:46:30<2:17:06, 22.66s/it]\u001b[A"
     ]
    },
    {
     "name": "stdout",
     "output_type": "stream",
     "text": [
      "for tag code  c170103 shape is (94, 5)\n"
     ]
    },
    {
     "name": "stderr",
     "output_type": "stream",
     "text": [
      "\n",
      " 44%|████▍     | 283/645 [1:46:50<2:16:39, 22.65s/it]\u001b[A"
     ]
    },
    {
     "name": "stdout",
     "output_type": "stream",
     "text": [
      "for tag code  c160202 shape is (94, 5)\n"
     ]
    },
    {
     "name": "stderr",
     "output_type": "stream",
     "text": [
      "\n",
      " 44%|████▍     | 284/645 [1:47:10<2:16:13, 22.64s/it]\u001b[A"
     ]
    },
    {
     "name": "stdout",
     "output_type": "stream",
     "text": [
      "for tag code  z020101 shape is (95, 5)\n"
     ]
    },
    {
     "name": "stderr",
     "output_type": "stream",
     "text": [
      "\n",
      " 44%|████▍     | 285/645 [1:47:30<2:15:47, 22.63s/it]\u001b[A"
     ]
    },
    {
     "name": "stdout",
     "output_type": "stream",
     "text": [
      "for tag code  c110203 shape is (95, 5)\n"
     ]
    },
    {
     "name": "stderr",
     "output_type": "stream",
     "text": [
      "\n",
      " 44%|████▍     | 286/645 [1:47:53<2:15:25, 22.63s/it]\u001b[A"
     ]
    },
    {
     "name": "stdout",
     "output_type": "stream",
     "text": [
      "for tag code  c060106 shape is (95, 5)\n"
     ]
    },
    {
     "name": "stderr",
     "output_type": "stream",
     "text": [
      "\n",
      " 44%|████▍     | 287/645 [1:48:13<2:15:00, 22.63s/it]\u001b[A"
     ]
    },
    {
     "name": "stdout",
     "output_type": "stream",
     "text": [
      "for tag code  z070201 shape is (96, 5)\n"
     ]
    },
    {
     "name": "stderr",
     "output_type": "stream",
     "text": [
      "\n",
      " 45%|████▍     | 288/645 [1:48:34<2:14:34, 22.62s/it]\u001b[A"
     ]
    },
    {
     "name": "stdout",
     "output_type": "stream",
     "text": [
      "for tag code  c200207 shape is (96, 5)\n"
     ]
    },
    {
     "name": "stderr",
     "output_type": "stream",
     "text": [
      "\n",
      " 45%|████▍     | 289/645 [1:48:55<2:14:10, 22.61s/it]\u001b[A"
     ]
    },
    {
     "name": "stdout",
     "output_type": "stream",
     "text": [
      "for tag code  c240106 shape is (96, 5)\n"
     ]
    },
    {
     "name": "stderr",
     "output_type": "stream",
     "text": [
      "\n",
      " 45%|████▍     | 290/645 [1:49:15<2:13:45, 22.61s/it]\u001b[A"
     ]
    },
    {
     "name": "stdout",
     "output_type": "stream",
     "text": [
      "for tag code  c070410 shape is (96, 5)\n"
     ]
    },
    {
     "name": "stderr",
     "output_type": "stream",
     "text": [
      "\n",
      " 45%|████▌     | 291/645 [1:49:36<2:13:20, 22.60s/it]\u001b[A"
     ]
    },
    {
     "name": "stdout",
     "output_type": "stream",
     "text": [
      "for tag code  z060202 shape is (96, 5)\n"
     ]
    },
    {
     "name": "stderr",
     "output_type": "stream",
     "text": [
      "\n",
      " 45%|████▌     | 292/645 [1:49:57<2:12:55, 22.59s/it]\u001b[A"
     ]
    },
    {
     "name": "stdout",
     "output_type": "stream",
     "text": [
      "for tag code  c040302 shape is (97, 5)\n"
     ]
    },
    {
     "name": "stderr",
     "output_type": "stream",
     "text": [
      "\n",
      " 45%|████▌     | 293/645 [1:50:17<2:12:29, 22.58s/it]\u001b[A"
     ]
    },
    {
     "name": "stdout",
     "output_type": "stream",
     "text": [
      "for tag code  c100201 shape is (97, 5)\n"
     ]
    },
    {
     "name": "stderr",
     "output_type": "stream",
     "text": [
      "\n",
      " 46%|████▌     | 294/645 [1:50:37<2:12:04, 22.58s/it]\u001b[A"
     ]
    },
    {
     "name": "stdout",
     "output_type": "stream",
     "text": [
      "for tag code  c040501 shape is (97, 5)\n"
     ]
    },
    {
     "name": "stderr",
     "output_type": "stream",
     "text": [
      "\n",
      " 46%|████▌     | 295/645 [1:50:58<2:11:39, 22.57s/it]\u001b[A"
     ]
    },
    {
     "name": "stdout",
     "output_type": "stream",
     "text": [
      "for tag code  z020113 shape is (97, 5)\n"
     ]
    },
    {
     "name": "stderr",
     "output_type": "stream",
     "text": [
      "\n",
      " 46%|████▌     | 296/645 [1:51:17<2:11:13, 22.56s/it]\u001b[A"
     ]
    },
    {
     "name": "stdout",
     "output_type": "stream",
     "text": [
      "for tag code  c260221 shape is (97, 5)\n"
     ]
    },
    {
     "name": "stderr",
     "output_type": "stream",
     "text": [
      "\n",
      " 46%|████▌     | 297/645 [1:51:39<2:10:50, 22.56s/it]\u001b[A"
     ]
    },
    {
     "name": "stdout",
     "output_type": "stream",
     "text": [
      "for tag code  q0407 shape is (98, 5)\n"
     ]
    },
    {
     "name": "stderr",
     "output_type": "stream",
     "text": [
      "\n",
      " 46%|████▌     | 298/645 [1:52:01<2:10:26, 22.56s/it]\u001b[A"
     ]
    },
    {
     "name": "stdout",
     "output_type": "stream",
     "text": [
      "for tag code  c200105 shape is (98, 5)\n"
     ]
    },
    {
     "name": "stderr",
     "output_type": "stream",
     "text": [
      "\n",
      " 46%|████▋     | 299/645 [1:52:27<2:10:08, 22.57s/it]\u001b[A"
     ]
    },
    {
     "name": "stdout",
     "output_type": "stream",
     "text": [
      "for tag code  c250304 shape is (98, 5)\n"
     ]
    },
    {
     "name": "stderr",
     "output_type": "stream",
     "text": [
      "\n",
      " 47%|████▋     | 300/645 [1:52:51<2:09:46, 22.57s/it]\u001b[A"
     ]
    },
    {
     "name": "stdout",
     "output_type": "stream",
     "text": [
      "for tag code  q0410 shape is (98, 5)\n"
     ]
    },
    {
     "name": "stderr",
     "output_type": "stream",
     "text": [
      "\n",
      " 47%|████▋     | 301/645 [1:53:12<2:09:23, 22.57s/it]\u001b[A"
     ]
    },
    {
     "name": "stdout",
     "output_type": "stream",
     "text": [
      "for tag code  z030201 shape is (98, 5)\n"
     ]
    },
    {
     "name": "stderr",
     "output_type": "stream",
     "text": [
      "\n",
      " 47%|████▋     | 302/645 [1:53:33<2:08:58, 22.56s/it]\u001b[A"
     ]
    },
    {
     "name": "stdout",
     "output_type": "stream",
     "text": [
      "for tag code  qm0305 shape is (98, 5)\n"
     ]
    },
    {
     "name": "stderr",
     "output_type": "stream",
     "text": [
      "\n",
      " 47%|████▋     | 303/645 [1:53:56<2:08:36, 22.56s/it]\u001b[A"
     ]
    },
    {
     "name": "stdout",
     "output_type": "stream",
     "text": [
      "for tag code  c150207 shape is (98, 5)\n"
     ]
    },
    {
     "name": "stderr",
     "output_type": "stream",
     "text": [
      "\n",
      " 47%|████▋     | 304/645 [1:54:16<2:08:11, 22.56s/it]\u001b[A"
     ]
    },
    {
     "name": "stdout",
     "output_type": "stream",
     "text": [
      "for tag code  c110301 shape is (99, 5)\n"
     ]
    },
    {
     "name": "stderr",
     "output_type": "stream",
     "text": [
      "\n",
      " 47%|████▋     | 305/645 [1:54:37<2:07:47, 22.55s/it]\u001b[A"
     ]
    },
    {
     "name": "stdout",
     "output_type": "stream",
     "text": [
      "for tag code  c170102 shape is (99, 5)\n"
     ]
    },
    {
     "name": "stderr",
     "output_type": "stream",
     "text": [
      "\n",
      " 47%|████▋     | 306/645 [1:54:58<2:07:22, 22.54s/it]\u001b[A"
     ]
    },
    {
     "name": "stdout",
     "output_type": "stream",
     "text": [
      "for tag code  c190304 shape is (99, 5)\n"
     ]
    },
    {
     "name": "stderr",
     "output_type": "stream",
     "text": [
      "\n",
      " 48%|████▊     | 307/645 [1:55:20<2:06:59, 22.54s/it]\u001b[A"
     ]
    },
    {
     "name": "stdout",
     "output_type": "stream",
     "text": [
      "for tag code  c260111 shape is (100, 5)\n"
     ]
    },
    {
     "name": "stderr",
     "output_type": "stream",
     "text": [
      "\n",
      " 48%|████▊     | 308/645 [1:55:41<2:06:34, 22.54s/it]\u001b[A"
     ]
    },
    {
     "name": "stdout",
     "output_type": "stream",
     "text": [
      "for tag code  c160201 shape is (100, 5)\n"
     ]
    },
    {
     "name": "stderr",
     "output_type": "stream",
     "text": [
      "\n",
      " 48%|████▊     | 309/645 [1:56:05<2:06:14, 22.54s/it]\u001b[A"
     ]
    },
    {
     "name": "stdout",
     "output_type": "stream",
     "text": [
      "for tag code  c100204 shape is (100, 5)\n"
     ]
    },
    {
     "name": "stderr",
     "output_type": "stream",
     "text": [
      "\n",
      " 48%|████▊     | 310/645 [1:56:26<2:05:49, 22.54s/it]\u001b[A"
     ]
    },
    {
     "name": "stdout",
     "output_type": "stream",
     "text": [
      "for tag code  c100101 shape is (101, 5)\n"
     ]
    },
    {
     "name": "stderr",
     "output_type": "stream",
     "text": [
      "\n",
      " 48%|████▊     | 311/645 [1:56:53<2:05:31, 22.55s/it]\u001b[A"
     ]
    },
    {
     "name": "stdout",
     "output_type": "stream",
     "text": [
      "for tag code  c090302 shape is (101, 5)\n"
     ]
    },
    {
     "name": "stderr",
     "output_type": "stream",
     "text": [
      "\n",
      " 48%|████▊     | 312/645 [1:57:13<2:05:07, 22.54s/it]\u001b[A"
     ]
    },
    {
     "name": "stdout",
     "output_type": "stream",
     "text": [
      "for tag code  c190402 shape is (101, 5)\n"
     ]
    },
    {
     "name": "stderr",
     "output_type": "stream",
     "text": [
      "\n",
      " 49%|████▊     | 313/645 [1:57:36<2:04:44, 22.54s/it]\u001b[A"
     ]
    },
    {
     "name": "stdout",
     "output_type": "stream",
     "text": [
      "for tag code  c160104 shape is (102, 5)\n"
     ]
    },
    {
     "name": "stderr",
     "output_type": "stream",
     "text": [
      "\n",
      " 49%|████▊     | 314/645 [1:57:56<2:04:19, 22.54s/it]\u001b[A"
     ]
    },
    {
     "name": "stdout",
     "output_type": "stream",
     "text": [
      "for tag code  c260102 shape is (102, 5)\n"
     ]
    },
    {
     "name": "stderr",
     "output_type": "stream",
     "text": [
      "\n",
      " 49%|████▉     | 315/645 [1:58:20<2:03:58, 22.54s/it]\u001b[A"
     ]
    },
    {
     "name": "stdout",
     "output_type": "stream",
     "text": [
      "for tag code  c260211 shape is (102, 5)\n"
     ]
    },
    {
     "name": "stderr",
     "output_type": "stream",
     "text": [
      "\n",
      " 49%|████▉     | 316/645 [1:58:43<2:03:36, 22.54s/it]\u001b[A"
     ]
    },
    {
     "name": "stdout",
     "output_type": "stream",
     "text": [
      "for tag code  z020104 shape is (102, 5)\n"
     ]
    },
    {
     "name": "stderr",
     "output_type": "stream",
     "text": [
      "\n",
      " 49%|████▉     | 317/645 [1:59:03<2:03:11, 22.54s/it]\u001b[A"
     ]
    },
    {
     "name": "stdout",
     "output_type": "stream",
     "text": [
      "for tag code  qm0416 shape is (103, 5)\n"
     ]
    },
    {
     "name": "stderr",
     "output_type": "stream",
     "text": [
      "\n",
      " 49%|████▉     | 318/645 [1:59:24<2:02:47, 22.53s/it]\u001b[A"
     ]
    },
    {
     "name": "stdout",
     "output_type": "stream",
     "text": [
      "for tag code  c230301 shape is (103, 5)\n"
     ]
    },
    {
     "name": "stderr",
     "output_type": "stream",
     "text": [
      "\n",
      " 49%|████▉     | 319/645 [1:59:45<2:02:23, 22.53s/it]\u001b[A"
     ]
    },
    {
     "name": "stdout",
     "output_type": "stream",
     "text": [
      "for tag code  c080102 shape is (103, 5)\n"
     ]
    },
    {
     "name": "stderr",
     "output_type": "stream",
     "text": [
      "\n",
      " 50%|████▉     | 320/645 [2:00:06<2:01:59, 22.52s/it]\u001b[A"
     ]
    },
    {
     "name": "stdout",
     "output_type": "stream",
     "text": [
      "for tag code  c170105 shape is (103, 5)\n"
     ]
    },
    {
     "name": "stderr",
     "output_type": "stream",
     "text": [
      "\n",
      " 50%|████▉     | 321/645 [2:00:29<2:01:36, 22.52s/it]\u001b[A"
     ]
    },
    {
     "name": "stdout",
     "output_type": "stream",
     "text": [
      "for tag code  c200101 shape is (104, 5)\n"
     ]
    },
    {
     "name": "stderr",
     "output_type": "stream",
     "text": [
      "\n",
      " 50%|████▉     | 322/645 [2:00:51<2:01:13, 22.52s/it]\u001b[A"
     ]
    },
    {
     "name": "stdout",
     "output_type": "stream",
     "text": [
      "for tag code  z010202 shape is (105, 5)\n"
     ]
    },
    {
     "name": "stderr",
     "output_type": "stream",
     "text": [
      "\n",
      " 50%|█████     | 323/645 [2:01:11<2:00:49, 22.51s/it]\u001b[A"
     ]
    },
    {
     "name": "stdout",
     "output_type": "stream",
     "text": [
      "for tag code  c200302 shape is (105, 5)\n"
     ]
    },
    {
     "name": "stderr",
     "output_type": "stream",
     "text": [
      "\n",
      " 50%|█████     | 324/645 [2:01:32<2:00:24, 22.51s/it]\u001b[A"
     ]
    },
    {
     "name": "stdout",
     "output_type": "stream",
     "text": [
      "for tag code  c130102 shape is (105, 5)\n"
     ]
    },
    {
     "name": "stderr",
     "output_type": "stream",
     "text": [
      "\n",
      " 50%|█████     | 325/645 [2:01:54<2:00:01, 22.51s/it]\u001b[A"
     ]
    },
    {
     "name": "stdout",
     "output_type": "stream",
     "text": [
      "for tag code  q0103 shape is (105, 5)\n"
     ]
    },
    {
     "name": "stderr",
     "output_type": "stream",
     "text": [
      "\n",
      " 51%|█████     | 326/645 [2:02:15<1:59:38, 22.50s/it]\u001b[A"
     ]
    },
    {
     "name": "stdout",
     "output_type": "stream",
     "text": [
      "for tag code  c080108 shape is (105, 5)\n"
     ]
    },
    {
     "name": "stderr",
     "output_type": "stream",
     "text": [
      "\n",
      " 51%|█████     | 327/645 [2:02:36<1:59:14, 22.50s/it]\u001b[A"
     ]
    },
    {
     "name": "stdout",
     "output_type": "stream",
     "text": [
      "for tag code  c220304 shape is (105, 5)\n"
     ]
    },
    {
     "name": "stderr",
     "output_type": "stream",
     "text": [
      "\n",
      " 51%|█████     | 328/645 [2:03:03<1:58:55, 22.51s/it]\u001b[A"
     ]
    },
    {
     "name": "stdout",
     "output_type": "stream",
     "text": [
      "for tag code  c190301 shape is (105, 5)\n"
     ]
    },
    {
     "name": "stderr",
     "output_type": "stream",
     "text": [
      "\n",
      " 51%|█████     | 329/645 [2:03:22<1:58:29, 22.50s/it]\u001b[A"
     ]
    },
    {
     "name": "stdout",
     "output_type": "stream",
     "text": [
      "for tag code  c260103 shape is (105, 5)\n"
     ]
    },
    {
     "name": "stderr",
     "output_type": "stream",
     "text": [
      "\n",
      " 51%|█████     | 330/645 [2:03:45<1:58:08, 22.50s/it]\u001b[A"
     ]
    },
    {
     "name": "stdout",
     "output_type": "stream",
     "text": [
      "for tag code  z020202 shape is (105, 5)\n"
     ]
    },
    {
     "name": "stderr",
     "output_type": "stream",
     "text": [
      "\n",
      " 51%|█████▏    | 331/645 [2:04:07<1:57:44, 22.50s/it]\u001b[A"
     ]
    },
    {
     "name": "stdout",
     "output_type": "stream",
     "text": [
      "for tag code  z020114 shape is (106, 5)\n"
     ]
    },
    {
     "name": "stderr",
     "output_type": "stream",
     "text": [
      "\n",
      " 51%|█████▏    | 332/645 [2:04:29<1:57:22, 22.50s/it]\u001b[A"
     ]
    },
    {
     "name": "stdout",
     "output_type": "stream",
     "text": [
      "for tag code  q0411 shape is (106, 5)\n"
     ]
    },
    {
     "name": "stderr",
     "output_type": "stream",
     "text": [
      "\n",
      " 52%|█████▏    | 333/645 [2:04:54<1:57:02, 22.51s/it]\u001b[A"
     ]
    },
    {
     "name": "stdout",
     "output_type": "stream",
     "text": [
      "for tag code  c080104 shape is (106, 5)\n"
     ]
    },
    {
     "name": "stderr",
     "output_type": "stream",
     "text": [
      "\n",
      " 52%|█████▏    | 334/645 [2:05:15<1:56:37, 22.50s/it]\u001b[A"
     ]
    },
    {
     "name": "stdout",
     "output_type": "stream",
     "text": [
      "for tag code  q0413 shape is (106, 5)\n"
     ]
    },
    {
     "name": "stderr",
     "output_type": "stream",
     "text": [
      "\n",
      " 52%|█████▏    | 335/645 [2:05:36<1:56:14, 22.50s/it]\u001b[A"
     ]
    },
    {
     "name": "stdout",
     "output_type": "stream",
     "text": [
      "for tag code  z020109 shape is (106, 5)\n"
     ]
    },
    {
     "name": "stderr",
     "output_type": "stream",
     "text": [
      "\n",
      " 52%|█████▏    | 336/645 [2:05:57<1:55:49, 22.49s/it]\u001b[A"
     ]
    },
    {
     "name": "stdout",
     "output_type": "stream",
     "text": [
      "for tag code  c130201 shape is (107, 5)\n"
     ]
    },
    {
     "name": "stderr",
     "output_type": "stream",
     "text": [
      "\n",
      " 52%|█████▏    | 337/645 [2:06:17<1:55:25, 22.49s/it]\u001b[A"
     ]
    },
    {
     "name": "stdout",
     "output_type": "stream",
     "text": [
      "for tag code  z030101 shape is (107, 5)\n"
     ]
    },
    {
     "name": "stderr",
     "output_type": "stream",
     "text": [
      "\n",
      " 52%|█████▏    | 338/645 [2:06:37<1:55:00, 22.48s/it]\u001b[A"
     ]
    },
    {
     "name": "stdout",
     "output_type": "stream",
     "text": [
      "for tag code  c200106 shape is (107, 5)\n"
     ]
    },
    {
     "name": "stderr",
     "output_type": "stream",
     "text": [
      "\n",
      " 53%|█████▎    | 339/645 [2:06:58<1:54:36, 22.47s/it]\u001b[A"
     ]
    },
    {
     "name": "stdout",
     "output_type": "stream",
     "text": [
      "for tag code  q0408 shape is (107, 5)\n"
     ]
    },
    {
     "name": "stderr",
     "output_type": "stream",
     "text": [
      "\n",
      " 53%|█████▎    | 340/645 [2:07:19<1:54:12, 22.47s/it]\u001b[A"
     ]
    },
    {
     "name": "stdout",
     "output_type": "stream",
     "text": [
      "for tag code  z040102 shape is (108, 5)\n"
     ]
    },
    {
     "name": "stderr",
     "output_type": "stream",
     "text": [
      "\n",
      " 53%|█████▎    | 341/645 [2:07:41<1:53:49, 22.47s/it]\u001b[A"
     ]
    },
    {
     "name": "stdout",
     "output_type": "stream",
     "text": [
      "for tag code  c150205 shape is (108, 5)\n"
     ]
    },
    {
     "name": "stderr",
     "output_type": "stream",
     "text": [
      "\n",
      " 53%|█████▎    | 342/645 [2:08:04<1:53:28, 22.47s/it]\u001b[A"
     ]
    },
    {
     "name": "stdout",
     "output_type": "stream",
     "text": [
      "for tag code  c180104 shape is (108, 5)\n"
     ]
    },
    {
     "name": "stderr",
     "output_type": "stream",
     "text": [
      "\n",
      " 53%|█████▎    | 343/645 [2:08:27<1:53:05, 22.47s/it]\u001b[A"
     ]
    },
    {
     "name": "stdout",
     "output_type": "stream",
     "text": [
      "for tag code  c100105 shape is (109, 5)\n"
     ]
    },
    {
     "name": "stderr",
     "output_type": "stream",
     "text": [
      "\n",
      " 53%|█████▎    | 344/645 [2:08:48<1:52:42, 22.47s/it]\u001b[A"
     ]
    },
    {
     "name": "stdout",
     "output_type": "stream",
     "text": [
      "for tag code  z050202 shape is (109, 5)\n"
     ]
    },
    {
     "name": "stderr",
     "output_type": "stream",
     "text": [
      "\n",
      " 53%|█████▎    | 345/645 [2:09:11<1:52:20, 22.47s/it]\u001b[A"
     ]
    },
    {
     "name": "stdout",
     "output_type": "stream",
     "text": [
      "for tag code  c130207 shape is (109, 5)\n"
     ]
    },
    {
     "name": "stderr",
     "output_type": "stream",
     "text": [
      "\n",
      " 54%|█████▎    | 346/645 [2:09:31<1:51:56, 22.46s/it]\u001b[A"
     ]
    },
    {
     "name": "stdout",
     "output_type": "stream",
     "text": [
      "for tag code  qm0301 shape is (110, 5)\n"
     ]
    },
    {
     "name": "stderr",
     "output_type": "stream",
     "text": [
      "\n",
      " 54%|█████▍    | 347/645 [2:09:53<1:51:33, 22.46s/it]\u001b[A"
     ]
    },
    {
     "name": "stdout",
     "output_type": "stream",
     "text": [
      "for tag code  c100309 shape is (110, 5)\n"
     ]
    },
    {
     "name": "stderr",
     "output_type": "stream",
     "text": [
      "\n",
      " 54%|█████▍    | 348/645 [2:10:14<1:51:08, 22.45s/it]\u001b[A"
     ]
    },
    {
     "name": "stdout",
     "output_type": "stream",
     "text": [
      "for tag code  c240110 shape is (111, 5)\n"
     ]
    },
    {
     "name": "stderr",
     "output_type": "stream",
     "text": [
      "\n",
      " 54%|█████▍    | 349/645 [2:10:40<1:50:49, 22.47s/it]\u001b[A"
     ]
    },
    {
     "name": "stdout",
     "output_type": "stream",
     "text": [
      "for tag code  c060105 shape is (111, 5)\n"
     ]
    },
    {
     "name": "stderr",
     "output_type": "stream",
     "text": [
      "\n",
      " 54%|█████▍    | 350/645 [2:11:07<1:50:31, 22.48s/it]\u001b[A"
     ]
    },
    {
     "name": "stdout",
     "output_type": "stream",
     "text": [
      "for tag code  c220108 shape is (112, 5)\n"
     ]
    },
    {
     "name": "stderr",
     "output_type": "stream",
     "text": [
      "\n",
      " 54%|█████▍    | 351/645 [2:11:32<1:50:10, 22.48s/it]\u001b[A"
     ]
    },
    {
     "name": "stdout",
     "output_type": "stream",
     "text": [
      "for tag code  c180105 shape is (112, 5)\n"
     ]
    },
    {
     "name": "stderr",
     "output_type": "stream",
     "text": [
      "\n",
      " 55%|█████▍    | 352/645 [2:11:54<1:49:48, 22.49s/it]\u001b[A"
     ]
    },
    {
     "name": "stdout",
     "output_type": "stream",
     "text": [
      "for tag code  c190501 shape is (112, 5)\n"
     ]
    },
    {
     "name": "stderr",
     "output_type": "stream",
     "text": [
      "\n",
      " 55%|█████▍    | 353/645 [2:12:21<1:49:29, 22.50s/it]\u001b[A"
     ]
    },
    {
     "name": "stdout",
     "output_type": "stream",
     "text": [
      "for tag code  z010102 shape is (112, 5)\n"
     ]
    },
    {
     "name": "stderr",
     "output_type": "stream",
     "text": [
      "\n",
      " 55%|█████▍    | 354/645 [2:12:41<1:49:04, 22.49s/it]\u001b[A"
     ]
    },
    {
     "name": "stdout",
     "output_type": "stream",
     "text": [
      "for tag code  c160404 shape is (112, 5)\n"
     ]
    },
    {
     "name": "stderr",
     "output_type": "stream",
     "text": [
      "\n",
      " 55%|█████▌    | 355/645 [2:13:02<1:48:41, 22.49s/it]\u001b[A"
     ]
    },
    {
     "name": "stdout",
     "output_type": "stream",
     "text": [
      "for tag code  c040303 shape is (112, 5)\n"
     ]
    },
    {
     "name": "stderr",
     "output_type": "stream",
     "text": [
      "\n",
      " 55%|█████▌    | 356/645 [2:13:27<1:48:20, 22.49s/it]\u001b[A"
     ]
    },
    {
     "name": "stdout",
     "output_type": "stream",
     "text": [
      "for tag code  q0402 shape is (113, 5)\n"
     ]
    },
    {
     "name": "stderr",
     "output_type": "stream",
     "text": [
      "\n",
      " 55%|█████▌    | 357/645 [2:13:48<1:47:56, 22.49s/it]\u001b[A"
     ]
    },
    {
     "name": "stdout",
     "output_type": "stream",
     "text": [
      "for tag code  c040402 shape is (113, 5)\n"
     ]
    },
    {
     "name": "stderr",
     "output_type": "stream",
     "text": [
      "\n",
      " 56%|█████▌    | 358/645 [2:14:11<1:47:34, 22.49s/it]\u001b[A"
     ]
    },
    {
     "name": "stdout",
     "output_type": "stream",
     "text": [
      "for tag code  c260106 shape is (114, 5)\n"
     ]
    },
    {
     "name": "stderr",
     "output_type": "stream",
     "text": [
      "\n",
      " 56%|█████▌    | 359/645 [2:14:31<1:47:10, 22.48s/it]\u001b[A"
     ]
    },
    {
     "name": "stdout",
     "output_type": "stream",
     "text": [
      "for tag code  c260110 shape is (114, 5)\n"
     ]
    },
    {
     "name": "stderr",
     "output_type": "stream",
     "text": [
      "\n",
      " 56%|█████▌    | 360/645 [2:14:53<1:46:47, 22.48s/it]\u001b[A"
     ]
    },
    {
     "name": "stdout",
     "output_type": "stream",
     "text": [
      "for tag code  c260207 shape is (114, 5)\n"
     ]
    },
    {
     "name": "stderr",
     "output_type": "stream",
     "text": [
      "\n",
      " 56%|█████▌    | 361/645 [2:15:17<1:46:25, 22.48s/it]\u001b[A"
     ]
    },
    {
     "name": "stdout",
     "output_type": "stream",
     "text": [
      "for tag code  c070305 shape is (114, 5)\n"
     ]
    },
    {
     "name": "stderr",
     "output_type": "stream",
     "text": [
      "\n",
      " 56%|█████▌    | 362/645 [2:15:37<1:46:02, 22.48s/it]\u001b[A"
     ]
    },
    {
     "name": "stdout",
     "output_type": "stream",
     "text": [
      "for tag code  c200214 shape is (115, 5)\n"
     ]
    },
    {
     "name": "stderr",
     "output_type": "stream",
     "text": [
      "\n",
      " 56%|█████▋    | 363/645 [2:15:58<1:45:38, 22.48s/it]\u001b[A"
     ]
    },
    {
     "name": "stdout",
     "output_type": "stream",
     "text": [
      "for tag code  q0412 shape is (115, 5)\n"
     ]
    },
    {
     "name": "stderr",
     "output_type": "stream",
     "text": [
      "\n",
      " 56%|█████▋    | 364/645 [2:16:21<1:45:16, 22.48s/it]\u001b[A"
     ]
    },
    {
     "name": "stdout",
     "output_type": "stream",
     "text": [
      "for tag code  c040203 shape is (115, 5)\n"
     ]
    },
    {
     "name": "stderr",
     "output_type": "stream",
     "text": [
      "\n",
      " 57%|█████▋    | 365/645 [2:16:42<1:44:52, 22.47s/it]\u001b[A"
     ]
    },
    {
     "name": "stdout",
     "output_type": "stream",
     "text": [
      "for tag code  c190201 shape is (115, 5)\n"
     ]
    },
    {
     "name": "stderr",
     "output_type": "stream",
     "text": [
      "\n",
      " 57%|█████▋    | 366/645 [2:17:03<1:44:28, 22.47s/it]\u001b[A"
     ]
    },
    {
     "name": "stdout",
     "output_type": "stream",
     "text": [
      "for tag code  c230102 shape is (115, 5)\n"
     ]
    },
    {
     "name": "stderr",
     "output_type": "stream",
     "text": [
      "\n",
      " 57%|█████▋    | 367/645 [2:17:28<1:44:08, 22.48s/it]\u001b[A"
     ]
    },
    {
     "name": "stdout",
     "output_type": "stream",
     "text": [
      "for tag code  c200213 shape is (115, 5)\n"
     ]
    },
    {
     "name": "stderr",
     "output_type": "stream",
     "text": [
      "\n",
      " 57%|█████▋    | 368/645 [2:17:51<1:43:45, 22.48s/it]\u001b[A"
     ]
    },
    {
     "name": "stdout",
     "output_type": "stream",
     "text": [
      "for tag code  c040208 shape is (116, 5)\n"
     ]
    },
    {
     "name": "stderr",
     "output_type": "stream",
     "text": [
      "\n",
      " 57%|█████▋    | 369/645 [2:18:11<1:43:21, 22.47s/it]\u001b[A"
     ]
    },
    {
     "name": "stdout",
     "output_type": "stream",
     "text": [
      "for tag code  c160401 shape is (116, 5)\n"
     ]
    },
    {
     "name": "stderr",
     "output_type": "stream",
     "text": [
      "\n",
      " 57%|█████▋    | 370/645 [2:18:38<1:43:03, 22.48s/it]\u001b[A"
     ]
    },
    {
     "name": "stdout",
     "output_type": "stream",
     "text": [
      "for tag code  c160302 shape is (116, 5)\n"
     ]
    },
    {
     "name": "stderr",
     "output_type": "stream",
     "text": [
      "\n",
      " 58%|█████▊    | 371/645 [2:18:59<1:42:38, 22.48s/it]\u001b[A"
     ]
    },
    {
     "name": "stdout",
     "output_type": "stream",
     "text": [
      "for tag code  c160301 shape is (116, 5)\n"
     ]
    },
    {
     "name": "stderr",
     "output_type": "stream",
     "text": [
      "\n",
      " 58%|█████▊    | 372/645 [2:19:23<1:42:17, 22.48s/it]\u001b[A"
     ]
    },
    {
     "name": "stdout",
     "output_type": "stream",
     "text": [
      "for tag code  c080109 shape is (116, 5)\n"
     ]
    },
    {
     "name": "stderr",
     "output_type": "stream",
     "text": [
      "\n",
      " 58%|█████▊    | 373/645 [2:19:44<1:41:54, 22.48s/it]\u001b[A"
     ]
    },
    {
     "name": "stdout",
     "output_type": "stream",
     "text": [
      "for tag code  z040204 shape is (117, 5)\n"
     ]
    },
    {
     "name": "stderr",
     "output_type": "stream",
     "text": [
      "\n",
      " 58%|█████▊    | 374/645 [2:20:04<1:41:30, 22.47s/it]\u001b[A"
     ]
    },
    {
     "name": "stdout",
     "output_type": "stream",
     "text": [
      "for tag code  c130205 shape is (117, 5)\n"
     ]
    },
    {
     "name": "stderr",
     "output_type": "stream",
     "text": [
      "\n",
      " 58%|█████▊    | 375/645 [2:20:28<1:41:08, 22.48s/it]\u001b[A"
     ]
    },
    {
     "name": "stdout",
     "output_type": "stream",
     "text": [
      "for tag code  c060206 shape is (117, 5)\n"
     ]
    },
    {
     "name": "stderr",
     "output_type": "stream",
     "text": [
      "\n",
      " 58%|█████▊    | 376/645 [2:20:49<1:40:44, 22.47s/it]\u001b[A"
     ]
    },
    {
     "name": "stdout",
     "output_type": "stream",
     "text": [
      "for tag code  c200201 shape is (118, 5)\n"
     ]
    },
    {
     "name": "stderr",
     "output_type": "stream",
     "text": [
      "\n",
      " 58%|█████▊    | 377/645 [2:21:09<1:40:20, 22.47s/it]\u001b[A"
     ]
    },
    {
     "name": "stdout",
     "output_type": "stream",
     "text": [
      "for tag code  c130202 shape is (118, 5)\n"
     ]
    },
    {
     "name": "stderr",
     "output_type": "stream",
     "text": [
      "\n",
      " 59%|█████▊    | 378/645 [2:21:30<1:39:57, 22.46s/it]\u001b[A"
     ]
    },
    {
     "name": "stdout",
     "output_type": "stream",
     "text": [
      "for tag code  c260210 shape is (118, 5)\n"
     ]
    },
    {
     "name": "stderr",
     "output_type": "stream",
     "text": [
      "\n",
      " 59%|█████▉    | 379/645 [2:21:54<1:39:35, 22.46s/it]\u001b[A"
     ]
    },
    {
     "name": "stdout",
     "output_type": "stream",
     "text": [
      "for tag code  c110103 shape is (118, 5)\n"
     ]
    },
    {
     "name": "stderr",
     "output_type": "stream",
     "text": [
      "\n",
      " 59%|█████▉    | 380/645 [2:22:15<1:39:12, 22.46s/it]\u001b[A"
     ]
    },
    {
     "name": "stdout",
     "output_type": "stream",
     "text": [
      "for tag code  c100301 shape is (118, 5)\n"
     ]
    },
    {
     "name": "stderr",
     "output_type": "stream",
     "text": [
      "\n",
      " 59%|█████▉    | 381/645 [2:22:41<1:38:52, 22.47s/it]\u001b[A"
     ]
    },
    {
     "name": "stdout",
     "output_type": "stream",
     "text": [
      "for tag code  c100307 shape is (118, 5)\n"
     ]
    },
    {
     "name": "stderr",
     "output_type": "stream",
     "text": [
      "\n",
      " 59%|█████▉    | 382/645 [2:23:02<1:38:29, 22.47s/it]\u001b[A"
     ]
    },
    {
     "name": "stdout",
     "output_type": "stream",
     "text": [
      "for tag code  c130210 shape is (119, 5)\n"
     ]
    },
    {
     "name": "stderr",
     "output_type": "stream",
     "text": [
      "\n",
      " 59%|█████▉    | 383/645 [2:23:23<1:38:05, 22.46s/it]\u001b[A"
     ]
    },
    {
     "name": "stdout",
     "output_type": "stream",
     "text": [
      "for tag code  c260215 shape is (120, 5)\n"
     ]
    },
    {
     "name": "stderr",
     "output_type": "stream",
     "text": [
      "\n",
      " 60%|█████▉    | 384/645 [2:23:49<1:37:45, 22.47s/it]\u001b[A"
     ]
    },
    {
     "name": "stdout",
     "output_type": "stream",
     "text": [
      "for tag code  c060107 shape is (120, 5)\n"
     ]
    },
    {
     "name": "stderr",
     "output_type": "stream",
     "text": [
      "\n",
      " 60%|█████▉    | 385/645 [2:24:09<1:37:21, 22.47s/it]\u001b[A"
     ]
    },
    {
     "name": "stdout",
     "output_type": "stream",
     "text": [
      "for tag code  c230204 shape is (122, 5)\n"
     ]
    },
    {
     "name": "stderr",
     "output_type": "stream",
     "text": [
      "\n",
      " 60%|█████▉    | 386/645 [2:24:31<1:36:58, 22.46s/it]\u001b[A"
     ]
    },
    {
     "name": "stdout",
     "output_type": "stream",
     "text": [
      "for tag code  qm0402 shape is (122, 5)\n"
     ]
    },
    {
     "name": "stderr",
     "output_type": "stream",
     "text": [
      "\n",
      " 60%|██████    | 387/645 [2:24:52<1:36:34, 22.46s/it]\u001b[A"
     ]
    },
    {
     "name": "stdout",
     "output_type": "stream",
     "text": [
      "for tag code  c150201 shape is (122, 5)\n"
     ]
    },
    {
     "name": "stderr",
     "output_type": "stream",
     "text": [
      "\n",
      " 60%|██████    | 388/645 [2:25:13<1:36:11, 22.46s/it]\u001b[A"
     ]
    },
    {
     "name": "stdout",
     "output_type": "stream",
     "text": [
      "for tag code  c120201 shape is (123, 5)\n"
     ]
    },
    {
     "name": "stderr",
     "output_type": "stream",
     "text": [
      "\n",
      " 60%|██████    | 389/645 [2:25:34<1:35:47, 22.45s/it]\u001b[A"
     ]
    },
    {
     "name": "stdout",
     "output_type": "stream",
     "text": [
      "for tag code  c170104 shape is (124, 5)\n"
     ]
    },
    {
     "name": "stderr",
     "output_type": "stream",
     "text": [
      "\n",
      " 60%|██████    | 390/645 [2:25:55<1:35:24, 22.45s/it]\u001b[A"
     ]
    },
    {
     "name": "stdout",
     "output_type": "stream",
     "text": [
      "for tag code  c060108 shape is (124, 5)\n"
     ]
    },
    {
     "name": "stderr",
     "output_type": "stream",
     "text": [
      "\n",
      " 61%|██████    | 391/645 [2:26:17<1:35:01, 22.45s/it]\u001b[A"
     ]
    },
    {
     "name": "stdout",
     "output_type": "stream",
     "text": [
      "for tag code  q0123 shape is (124, 5)\n"
     ]
    },
    {
     "name": "stderr",
     "output_type": "stream",
     "text": [
      "\n",
      " 61%|██████    | 392/645 [2:26:37<1:34:38, 22.44s/it]\u001b[A"
     ]
    },
    {
     "name": "stdout",
     "output_type": "stream",
     "text": [
      "for tag code  c230101 shape is (125, 5)\n"
     ]
    },
    {
     "name": "stderr",
     "output_type": "stream",
     "text": [
      "\n",
      " 61%|██████    | 393/645 [2:27:01<1:34:16, 22.45s/it]\u001b[A"
     ]
    },
    {
     "name": "stdout",
     "output_type": "stream",
     "text": [
      "for tag code  c200204 shape is (126, 5)\n"
     ]
    },
    {
     "name": "stderr",
     "output_type": "stream",
     "text": [
      "/Users/Zhenyue/anaconda3/lib/python3.6/site-packages/skopt/optimizer/optimizer.py:399: UserWarning: The objective has been evaluated at this point before.\n",
      "  warnings.warn(\"The objective has been evaluated \"\n",
      "\n",
      " 61%|██████    | 394/645 [2:27:27<1:33:56, 22.46s/it]\u001b[A"
     ]
    },
    {
     "name": "stdout",
     "output_type": "stream",
     "text": [
      "for tag code  c230205 shape is (126, 5)\n"
     ]
    },
    {
     "name": "stderr",
     "output_type": "stream",
     "text": [
      "\n",
      " 61%|██████    | 395/645 [2:27:49<1:33:33, 22.45s/it]\u001b[A"
     ]
    },
    {
     "name": "stdout",
     "output_type": "stream",
     "text": [
      "for tag code  q0119 shape is (126, 5)\n"
     ]
    },
    {
     "name": "stderr",
     "output_type": "stream",
     "text": [
      "\n",
      " 61%|██████▏   | 396/645 [2:28:13<1:33:12, 22.46s/it]\u001b[A"
     ]
    },
    {
     "name": "stdout",
     "output_type": "stream",
     "text": [
      "for tag code  c220105 shape is (126, 5)\n"
     ]
    },
    {
     "name": "stderr",
     "output_type": "stream",
     "text": [
      "\n",
      " 62%|██████▏   | 397/645 [2:28:34<1:32:48, 22.45s/it]\u001b[A"
     ]
    },
    {
     "name": "stdout",
     "output_type": "stream",
     "text": [
      "for tag code  c260217 shape is (127, 5)\n"
     ]
    },
    {
     "name": "stderr",
     "output_type": "stream",
     "text": [
      "\n",
      " 62%|██████▏   | 398/645 [2:28:58<1:32:27, 22.46s/it]\u001b[A"
     ]
    },
    {
     "name": "stdout",
     "output_type": "stream",
     "text": [
      "for tag code  c110204 shape is (128, 5)\n"
     ]
    },
    {
     "name": "stderr",
     "output_type": "stream",
     "text": [
      "\n",
      " 62%|██████▏   | 399/645 [2:29:18<1:32:03, 22.45s/it]\u001b[A"
     ]
    },
    {
     "name": "stdout",
     "output_type": "stream",
     "text": [
      "for tag code  c040503 shape is (128, 5)\n"
     ]
    },
    {
     "name": "stderr",
     "output_type": "stream",
     "text": [
      "\n",
      " 62%|██████▏   | 400/645 [2:29:41<1:31:41, 22.45s/it]\u001b[A"
     ]
    },
    {
     "name": "stdout",
     "output_type": "stream",
     "text": [
      "for tag code  c160203 shape is (128, 5)\n"
     ]
    },
    {
     "name": "stderr",
     "output_type": "stream",
     "text": [
      "\n",
      " 62%|██████▏   | 401/645 [2:30:01<1:31:17, 22.45s/it]\u001b[A"
     ]
    },
    {
     "name": "stdout",
     "output_type": "stream",
     "text": [
      "for tag code  c060102 shape is (129, 5)\n"
     ]
    },
    {
     "name": "stderr",
     "output_type": "stream",
     "text": [
      "\n",
      " 62%|██████▏   | 402/645 [2:30:22<1:30:54, 22.44s/it]\u001b[A"
     ]
    },
    {
     "name": "stdout",
     "output_type": "stream",
     "text": [
      "for tag code  c240107 shape is (129, 5)\n"
     ]
    },
    {
     "name": "stderr",
     "output_type": "stream",
     "text": [
      "\n",
      " 62%|██████▏   | 403/645 [2:30:45<1:30:31, 22.45s/it]\u001b[A"
     ]
    },
    {
     "name": "stdout",
     "output_type": "stream",
     "text": [
      "for tag code  q0107 shape is (129, 5)\n"
     ]
    },
    {
     "name": "stderr",
     "output_type": "stream",
     "text": [
      "\n",
      " 63%|██████▎   | 404/645 [2:31:06<1:30:08, 22.44s/it]\u001b[A"
     ]
    },
    {
     "name": "stdout",
     "output_type": "stream",
     "text": [
      "for tag code  c060109 shape is (129, 5)\n"
     ]
    },
    {
     "name": "stderr",
     "output_type": "stream",
     "text": [
      "\n",
      " 63%|██████▎   | 405/645 [2:31:25<1:29:44, 22.43s/it]\u001b[A"
     ]
    },
    {
     "name": "stdout",
     "output_type": "stream",
     "text": [
      "for tag code  c070404 shape is (129, 5)\n"
     ]
    },
    {
     "name": "stderr",
     "output_type": "stream",
     "text": [
      "\n",
      " 63%|██████▎   | 406/645 [2:31:46<1:29:20, 22.43s/it]\u001b[A"
     ]
    },
    {
     "name": "stdout",
     "output_type": "stream",
     "text": [
      "for tag code  c060110 shape is (129, 5)\n"
     ]
    },
    {
     "name": "stderr",
     "output_type": "stream",
     "text": [
      "\n",
      " 63%|██████▎   | 407/645 [2:32:12<1:29:00, 22.44s/it]\u001b[A"
     ]
    },
    {
     "name": "stdout",
     "output_type": "stream",
     "text": [
      "for tag code  z010105 shape is (129, 5)\n"
     ]
    },
    {
     "name": "stderr",
     "output_type": "stream",
     "text": [
      "\n",
      " 63%|██████▎   | 408/645 [2:32:33<1:28:36, 22.43s/it]\u001b[A"
     ]
    },
    {
     "name": "stdout",
     "output_type": "stream",
     "text": [
      "for tag code  c040504 shape is (129, 5)\n"
     ]
    },
    {
     "name": "stderr",
     "output_type": "stream",
     "text": [
      "\n",
      " 63%|██████▎   | 409/645 [2:32:56<1:28:15, 22.44s/it]\u001b[A"
     ]
    },
    {
     "name": "stdout",
     "output_type": "stream",
     "text": [
      "for tag code  c190502 shape is (129, 5)\n"
     ]
    },
    {
     "name": "stderr",
     "output_type": "stream",
     "text": [
      "\n",
      " 64%|██████▎   | 410/645 [2:33:23<1:27:55, 22.45s/it]\u001b[A"
     ]
    },
    {
     "name": "stdout",
     "output_type": "stream",
     "text": [
      "for tag code  c100304 shape is (130, 5)\n"
     ]
    },
    {
     "name": "stderr",
     "output_type": "stream",
     "text": [
      "\n",
      " 64%|██████▎   | 411/645 [2:33:49<1:27:34, 22.46s/it]\u001b[A"
     ]
    },
    {
     "name": "stdout",
     "output_type": "stream",
     "text": [
      "for tag code  c100310 shape is (130, 5)\n"
     ]
    },
    {
     "name": "stderr",
     "output_type": "stream",
     "text": [
      "\n",
      " 64%|██████▍   | 412/645 [2:34:09<1:27:11, 22.45s/it]\u001b[A"
     ]
    },
    {
     "name": "stdout",
     "output_type": "stream",
     "text": [
      "for tag code  c130103 shape is (130, 5)\n"
     ]
    },
    {
     "name": "stderr",
     "output_type": "stream",
     "text": [
      "\n",
      " 64%|██████▍   | 413/645 [2:34:30<1:26:47, 22.45s/it]\u001b[A"
     ]
    },
    {
     "name": "stdout",
     "output_type": "stream",
     "text": [
      "for tag code  c160303 shape is (130, 5)\n"
     ]
    },
    {
     "name": "stderr",
     "output_type": "stream",
     "text": [
      "\n",
      " 64%|██████▍   | 414/645 [2:34:52<1:26:25, 22.45s/it]\u001b[A"
     ]
    },
    {
     "name": "stdout",
     "output_type": "stream",
     "text": [
      "for tag code  c100308 shape is (131, 5)\n"
     ]
    },
    {
     "name": "stderr",
     "output_type": "stream",
     "text": [
      "\n",
      " 64%|██████▍   | 415/645 [2:35:12<1:26:01, 22.44s/it]\u001b[A"
     ]
    },
    {
     "name": "stdout",
     "output_type": "stream",
     "text": [
      "for tag code  c070408 shape is (131, 5)\n"
     ]
    },
    {
     "name": "stderr",
     "output_type": "stream",
     "text": [
      "\n",
      " 64%|██████▍   | 416/645 [2:35:36<1:25:39, 22.44s/it]\u001b[A"
     ]
    },
    {
     "name": "stdout",
     "output_type": "stream",
     "text": [
      "for tag code  q0501 shape is (132, 5)\n"
     ]
    },
    {
     "name": "stderr",
     "output_type": "stream",
     "text": [
      "\n",
      " 65%|██████▍   | 417/645 [2:35:57<1:25:16, 22.44s/it]\u001b[A"
     ]
    },
    {
     "name": "stdout",
     "output_type": "stream",
     "text": [
      "for tag code  z010204 shape is (132, 5)\n"
     ]
    },
    {
     "name": "stderr",
     "output_type": "stream",
     "text": [
      "\n",
      " 65%|██████▍   | 418/645 [2:36:17<1:24:52, 22.44s/it]\u001b[A"
     ]
    },
    {
     "name": "stdout",
     "output_type": "stream",
     "text": [
      "for tag code  c200307 shape is (132, 5)\n"
     ]
    },
    {
     "name": "stderr",
     "output_type": "stream",
     "text": [
      "\n",
      " 65%|██████▍   | 419/645 [2:36:38<1:24:29, 22.43s/it]\u001b[A"
     ]
    },
    {
     "name": "stdout",
     "output_type": "stream",
     "text": [
      "for tag code  q0122 shape is (132, 5)\n"
     ]
    },
    {
     "name": "stderr",
     "output_type": "stream",
     "text": [
      "\n",
      " 65%|██████▌   | 420/645 [2:36:58<1:24:05, 22.43s/it]\u001b[A"
     ]
    },
    {
     "name": "stdout",
     "output_type": "stream",
     "text": [
      "for tag code  c190211 shape is (132, 5)\n"
     ]
    },
    {
     "name": "stderr",
     "output_type": "stream",
     "text": [
      "\n",
      " 65%|██████▌   | 421/645 [2:37:22<1:23:44, 22.43s/it]\u001b[A"
     ]
    },
    {
     "name": "stdout",
     "output_type": "stream",
     "text": [
      "for tag code  c230203 shape is (133, 5)\n"
     ]
    },
    {
     "name": "stderr",
     "output_type": "stream",
     "text": [
      "\n",
      " 65%|██████▌   | 422/645 [2:37:45<1:23:21, 22.43s/it]\u001b[A"
     ]
    },
    {
     "name": "stdout",
     "output_type": "stream",
     "text": [
      "for tag code  c250303 shape is (133, 5)\n"
     ]
    },
    {
     "name": "stderr",
     "output_type": "stream",
     "text": [
      "\n",
      " 66%|██████▌   | 423/645 [2:38:05<1:22:58, 22.42s/it]\u001b[A"
     ]
    },
    {
     "name": "stdout",
     "output_type": "stream",
     "text": [
      "for tag code  z020102 shape is (134, 5)\n"
     ]
    },
    {
     "name": "stderr",
     "output_type": "stream",
     "text": [
      "\n",
      " 66%|██████▌   | 424/645 [2:38:25<1:22:34, 22.42s/it]\u001b[A"
     ]
    },
    {
     "name": "stdout",
     "output_type": "stream",
     "text": [
      "for tag code  z020105 shape is (134, 5)\n"
     ]
    },
    {
     "name": "stderr",
     "output_type": "stream",
     "text": [
      "\n",
      " 66%|██████▌   | 425/645 [2:38:48<1:22:12, 22.42s/it]\u001b[A"
     ]
    },
    {
     "name": "stdout",
     "output_type": "stream",
     "text": [
      "for tag code  c190209 shape is (135, 5)\n"
     ]
    },
    {
     "name": "stderr",
     "output_type": "stream",
     "text": [
      "\n",
      " 66%|██████▌   | 426/645 [2:39:11<1:21:50, 22.42s/it]\u001b[A"
     ]
    },
    {
     "name": "stdout",
     "output_type": "stream",
     "text": [
      "for tag code  c040403 shape is (136, 5)\n"
     ]
    },
    {
     "name": "stderr",
     "output_type": "stream",
     "text": [
      "\n",
      " 66%|██████▌   | 427/645 [2:39:36<1:21:29, 22.43s/it]\u001b[A"
     ]
    },
    {
     "name": "stdout",
     "output_type": "stream",
     "text": [
      "for tag code  c110302 shape is (137, 5)\n"
     ]
    },
    {
     "name": "stderr",
     "output_type": "stream",
     "text": [
      "\n",
      " 66%|██████▋   | 428/645 [2:39:59<1:21:07, 22.43s/it]\u001b[A"
     ]
    },
    {
     "name": "stdout",
     "output_type": "stream",
     "text": [
      "for tag code  c060103 shape is (139, 5)\n"
     ]
    },
    {
     "name": "stderr",
     "output_type": "stream",
     "text": [
      "\n",
      " 67%|██████▋   | 429/645 [2:40:19<1:20:43, 22.42s/it]\u001b[A"
     ]
    },
    {
     "name": "stdout",
     "output_type": "stream",
     "text": [
      "for tag code  q0121 shape is (139, 5)\n"
     ]
    },
    {
     "name": "stderr",
     "output_type": "stream",
     "text": [
      "\n",
      " 67%|██████▋   | 430/645 [2:40:41<1:20:20, 22.42s/it]\u001b[A"
     ]
    },
    {
     "name": "stdout",
     "output_type": "stream",
     "text": [
      "for tag code  c060101 shape is (139, 5)\n"
     ]
    },
    {
     "name": "stderr",
     "output_type": "stream",
     "text": [
      "\n",
      " 67%|██████▋   | 431/645 [2:41:01<1:19:57, 22.42s/it]\u001b[A"
     ]
    },
    {
     "name": "stdout",
     "output_type": "stream",
     "text": [
      "for tag code  c130206 shape is (139, 5)\n"
     ]
    },
    {
     "name": "stderr",
     "output_type": "stream",
     "text": [
      "\n",
      " 67%|██████▋   | 432/645 [2:41:21<1:19:33, 22.41s/it]\u001b[A"
     ]
    },
    {
     "name": "stdout",
     "output_type": "stream",
     "text": [
      "for tag code  c160106 shape is (139, 5)\n"
     ]
    },
    {
     "name": "stderr",
     "output_type": "stream",
     "text": [
      "\n",
      " 67%|██████▋   | 433/645 [2:41:44<1:19:11, 22.41s/it]\u001b[A"
     ]
    },
    {
     "name": "stdout",
     "output_type": "stream",
     "text": [
      "for tag code  z020112 shape is (140, 5)\n"
     ]
    },
    {
     "name": "stderr",
     "output_type": "stream",
     "text": [
      "\n",
      " 67%|██████▋   | 434/645 [2:42:05<1:18:48, 22.41s/it]\u001b[A"
     ]
    },
    {
     "name": "stdout",
     "output_type": "stream",
     "text": [
      "for tag code  q0120 shape is (140, 5)\n"
     ]
    },
    {
     "name": "stderr",
     "output_type": "stream",
     "text": [
      "\n",
      " 67%|██████▋   | 435/645 [2:42:25<1:18:24, 22.40s/it]\u001b[A"
     ]
    },
    {
     "name": "stdout",
     "output_type": "stream",
     "text": [
      "for tag code  c160204 shape is (140, 5)\n"
     ]
    },
    {
     "name": "stderr",
     "output_type": "stream",
     "text": [
      "\n",
      " 68%|██████▊   | 436/645 [2:42:46<1:18:01, 22.40s/it]\u001b[A"
     ]
    },
    {
     "name": "stdout",
     "output_type": "stream",
     "text": [
      "for tag code  z050201 shape is (140, 5)\n"
     ]
    },
    {
     "name": "stderr",
     "output_type": "stream",
     "text": [
      "\n",
      " 68%|██████▊   | 437/645 [2:43:08<1:17:38, 22.40s/it]\u001b[A"
     ]
    },
    {
     "name": "stdout",
     "output_type": "stream",
     "text": [
      "for tag code  c190210 shape is (140, 5)\n"
     ]
    },
    {
     "name": "stderr",
     "output_type": "stream",
     "text": [
      "\n",
      " 68%|██████▊   | 438/645 [2:43:31<1:17:16, 22.40s/it]\u001b[A"
     ]
    },
    {
     "name": "stdout",
     "output_type": "stream",
     "text": [
      "for tag code  c230208 shape is (140, 5)\n"
     ]
    },
    {
     "name": "stderr",
     "output_type": "stream",
     "text": [
      "\n",
      " 68%|██████▊   | 439/645 [2:43:55<1:16:55, 22.40s/it]\u001b[A"
     ]
    },
    {
     "name": "stdout",
     "output_type": "stream",
     "text": [
      "for tag code  z030302 shape is (141, 5)\n"
     ]
    },
    {
     "name": "stderr",
     "output_type": "stream",
     "text": [
      "\n",
      " 68%|██████▊   | 440/645 [2:44:16<1:16:32, 22.40s/it]\u001b[A"
     ]
    },
    {
     "name": "stdout",
     "output_type": "stream",
     "text": [
      "for tag code  c200103 shape is (142, 5)\n"
     ]
    },
    {
     "name": "stderr",
     "output_type": "stream",
     "text": [
      "\n",
      " 68%|██████▊   | 441/645 [2:44:39<1:16:09, 22.40s/it]\u001b[A"
     ]
    },
    {
     "name": "stdout",
     "output_type": "stream",
     "text": [
      "for tag code  c200308 shape is (143, 5)\n"
     ]
    },
    {
     "name": "stderr",
     "output_type": "stream",
     "text": [
      "\n",
      " 69%|██████▊   | 442/645 [2:45:00<1:15:46, 22.40s/it]\u001b[A"
     ]
    },
    {
     "name": "stdout",
     "output_type": "stream",
     "text": [
      "for tag code  c230201 shape is (145, 5)\n"
     ]
    },
    {
     "name": "stderr",
     "output_type": "stream",
     "text": [
      "\n",
      " 69%|██████▊   | 443/645 [2:45:27<1:15:26, 22.41s/it]\u001b[A"
     ]
    },
    {
     "name": "stdout",
     "output_type": "stream",
     "text": [
      "for tag code  c200203 shape is (146, 5)\n"
     ]
    },
    {
     "name": "stderr",
     "output_type": "stream",
     "text": [
      "\n",
      " 69%|██████▉   | 444/645 [2:45:47<1:15:03, 22.40s/it]\u001b[A"
     ]
    },
    {
     "name": "stdout",
     "output_type": "stream",
     "text": [
      "for tag code  z040202 shape is (146, 5)\n"
     ]
    },
    {
     "name": "stderr",
     "output_type": "stream",
     "text": [
      "\n",
      " 69%|██████▉   | 445/645 [2:46:07<1:14:39, 22.40s/it]\u001b[A"
     ]
    },
    {
     "name": "stdout",
     "output_type": "stream",
     "text": [
      "for tag code  c090204 shape is (146, 5)\n"
     ]
    },
    {
     "name": "stderr",
     "output_type": "stream",
     "text": [
      "\n",
      " 69%|██████▉   | 446/645 [2:46:30<1:14:17, 22.40s/it]\u001b[A"
     ]
    },
    {
     "name": "stdout",
     "output_type": "stream",
     "text": [
      "for tag code  z030401 shape is (147, 5)\n"
     ]
    },
    {
     "name": "stderr",
     "output_type": "stream",
     "text": [
      "\n",
      " 69%|██████▉   | 447/645 [2:46:51<1:13:54, 22.40s/it]\u001b[A"
     ]
    },
    {
     "name": "stdout",
     "output_type": "stream",
     "text": [
      "for tag code  q0401 shape is (147, 5)\n"
     ]
    },
    {
     "name": "stderr",
     "output_type": "stream",
     "text": [
      "\n",
      " 69%|██████▉   | 448/645 [2:47:13<1:13:32, 22.40s/it]\u001b[A"
     ]
    },
    {
     "name": "stdout",
     "output_type": "stream",
     "text": [
      "for tag code  c160107 shape is (147, 5)\n"
     ]
    },
    {
     "name": "stderr",
     "output_type": "stream",
     "text": [
      "\n",
      " 70%|██████▉   | 449/645 [2:47:35<1:13:09, 22.39s/it]\u001b[A"
     ]
    },
    {
     "name": "stdout",
     "output_type": "stream",
     "text": [
      "for tag code  qm0208 shape is (147, 5)\n"
     ]
    },
    {
     "name": "stderr",
     "output_type": "stream",
     "text": [
      "\n",
      " 70%|██████▉   | 450/645 [2:47:56<1:12:46, 22.39s/it]\u001b[A"
     ]
    },
    {
     "name": "stdout",
     "output_type": "stream",
     "text": [
      "for tag code  c040304 shape is (148, 5)\n"
     ]
    },
    {
     "name": "stderr",
     "output_type": "stream",
     "text": [
      "\n",
      " 70%|██████▉   | 451/645 [2:48:16<1:12:23, 22.39s/it]\u001b[A"
     ]
    },
    {
     "name": "stdout",
     "output_type": "stream",
     "text": [
      "for tag code  c120301 shape is (148, 5)\n"
     ]
    },
    {
     "name": "stderr",
     "output_type": "stream",
     "text": [
      "\n",
      " 70%|███████   | 452/645 [2:48:43<1:12:02, 22.40s/it]\u001b[A"
     ]
    },
    {
     "name": "stdout",
     "output_type": "stream",
     "text": [
      "for tag code  z020106 shape is (148, 5)\n"
     ]
    },
    {
     "name": "stderr",
     "output_type": "stream",
     "text": [
      "\n",
      " 70%|███████   | 453/645 [2:49:04<1:11:39, 22.39s/it]\u001b[A"
     ]
    },
    {
     "name": "stdout",
     "output_type": "stream",
     "text": [
      "for tag code  z030402 shape is (148, 5)\n"
     ]
    },
    {
     "name": "stderr",
     "output_type": "stream",
     "text": [
      "\n",
      " 70%|███████   | 454/645 [2:49:26<1:11:16, 22.39s/it]\u001b[A"
     ]
    },
    {
     "name": "stdout",
     "output_type": "stream",
     "text": [
      "for tag code  z020203 shape is (148, 5)\n"
     ]
    },
    {
     "name": "stderr",
     "output_type": "stream",
     "text": [
      "\n",
      " 71%|███████   | 455/645 [2:49:46<1:10:53, 22.39s/it]\u001b[A"
     ]
    },
    {
     "name": "stdout",
     "output_type": "stream",
     "text": [
      "for tag code  c160205 shape is (149, 5)\n"
     ]
    },
    {
     "name": "stderr",
     "output_type": "stream",
     "text": [
      "\n",
      " 71%|███████   | 456/645 [2:50:09<1:10:31, 22.39s/it]\u001b[A"
     ]
    },
    {
     "name": "stdout",
     "output_type": "stream",
     "text": [
      "for tag code  c150206 shape is (150, 5)\n"
     ]
    },
    {
     "name": "stderr",
     "output_type": "stream",
     "text": [
      "\n",
      " 71%|███████   | 457/645 [2:50:32<1:10:09, 22.39s/it]\u001b[A"
     ]
    },
    {
     "name": "stdout",
     "output_type": "stream",
     "text": [
      "for tag code  c040502 shape is (151, 5)\n"
     ]
    },
    {
     "name": "stderr",
     "output_type": "stream",
     "text": [
      "\n",
      " 71%|███████   | 458/645 [2:50:56<1:09:47, 22.40s/it]\u001b[A"
     ]
    },
    {
     "name": "stdout",
     "output_type": "stream",
     "text": [
      "for tag code  c060203 shape is (151, 5)\n"
     ]
    },
    {
     "name": "stderr",
     "output_type": "stream",
     "text": [
      "\n",
      " 71%|███████   | 459/645 [2:51:18<1:09:25, 22.39s/it]\u001b[A"
     ]
    },
    {
     "name": "stdout",
     "output_type": "stream",
     "text": [
      "for tag code  c260224 shape is (151, 5)\n"
     ]
    },
    {
     "name": "stderr",
     "output_type": "stream",
     "text": [
      "\n",
      " 71%|███████▏  | 460/645 [2:51:42<1:09:03, 22.40s/it]\u001b[A"
     ]
    },
    {
     "name": "stdout",
     "output_type": "stream",
     "text": [
      "for tag code  c130204 shape is (152, 5)\n"
     ]
    },
    {
     "name": "stderr",
     "output_type": "stream",
     "text": [
      "\n",
      " 71%|███████▏  | 461/645 [2:52:03<1:08:40, 22.39s/it]\u001b[A"
     ]
    },
    {
     "name": "stdout",
     "output_type": "stream",
     "text": [
      "for tag code  c210306 shape is (153, 5)\n"
     ]
    },
    {
     "name": "stderr",
     "output_type": "stream",
     "text": [
      "\n",
      " 72%|███████▏  | 462/645 [2:52:25<1:08:17, 22.39s/it]\u001b[A"
     ]
    },
    {
     "name": "stdout",
     "output_type": "stream",
     "text": [
      "for tag code  z010104 shape is (153, 5)\n"
     ]
    },
    {
     "name": "stderr",
     "output_type": "stream",
     "text": [
      "\n",
      " 72%|███████▏  | 463/645 [2:52:47<1:07:55, 22.39s/it]\u001b[A"
     ]
    },
    {
     "name": "stdout",
     "output_type": "stream",
     "text": [
      "for tag code  c050203 shape is (154, 5)\n"
     ]
    },
    {
     "name": "stderr",
     "output_type": "stream",
     "text": [
      "\n",
      " 72%|███████▏  | 464/645 [2:53:08<1:07:32, 22.39s/it]\u001b[A"
     ]
    },
    {
     "name": "stdout",
     "output_type": "stream",
     "text": [
      "for tag code  q0403 shape is (154, 5)\n"
     ]
    },
    {
     "name": "stderr",
     "output_type": "stream",
     "text": [
      "\n",
      " 72%|███████▏  | 465/645 [2:53:28<1:07:09, 22.38s/it]\u001b[A"
     ]
    },
    {
     "name": "stdout",
     "output_type": "stream",
     "text": [
      "for tag code  c040204 shape is (155, 5)\n"
     ]
    },
    {
     "name": "stderr",
     "output_type": "stream",
     "text": [
      "\n",
      " 72%|███████▏  | 466/645 [2:53:55<1:06:48, 22.39s/it]\u001b[A"
     ]
    },
    {
     "name": "stdout",
     "output_type": "stream",
     "text": [
      "for tag code  q0106 shape is (155, 5)\n"
     ]
    },
    {
     "name": "stderr",
     "output_type": "stream",
     "text": [
      "\n",
      " 72%|███████▏  | 467/645 [2:54:18<1:06:26, 22.39s/it]\u001b[A"
     ]
    },
    {
     "name": "stdout",
     "output_type": "stream",
     "text": [
      "for tag code  c160103 shape is (156, 5)\n"
     ]
    },
    {
     "name": "stderr",
     "output_type": "stream",
     "text": [
      "\n",
      " 73%|███████▎  | 468/645 [2:54:38<1:06:03, 22.39s/it]\u001b[A"
     ]
    },
    {
     "name": "stdout",
     "output_type": "stream",
     "text": [
      "for tag code  c210402 shape is (156, 5)\n"
     ]
    },
    {
     "name": "stderr",
     "output_type": "stream",
     "text": [
      "\n",
      " 73%|███████▎  | 469/645 [2:55:01<1:05:40, 22.39s/it]\u001b[A"
     ]
    },
    {
     "name": "stdout",
     "output_type": "stream",
     "text": [
      "for tag code  c210403 shape is (156, 5)\n"
     ]
    },
    {
     "name": "stderr",
     "output_type": "stream",
     "text": [
      "\n",
      " 73%|███████▎  | 470/645 [2:55:22<1:05:17, 22.39s/it]\u001b[A"
     ]
    },
    {
     "name": "stdout",
     "output_type": "stream",
     "text": [
      "for tag code  c100303 shape is (157, 5)\n"
     ]
    },
    {
     "name": "stderr",
     "output_type": "stream",
     "text": [
      "\n",
      " 73%|███████▎  | 471/645 [2:55:45<1:04:55, 22.39s/it]\u001b[A"
     ]
    },
    {
     "name": "stdout",
     "output_type": "stream",
     "text": [
      "for tag code  c220106 shape is (157, 5)\n"
     ]
    },
    {
     "name": "stderr",
     "output_type": "stream",
     "text": [
      "\n",
      " 73%|███████▎  | 472/645 [2:56:05<1:04:32, 22.39s/it]\u001b[A"
     ]
    },
    {
     "name": "stdout",
     "output_type": "stream",
     "text": [
      "for tag code  qm0123 shape is (158, 5)\n"
     ]
    },
    {
     "name": "stderr",
     "output_type": "stream",
     "text": [
      "\n",
      " 73%|███████▎  | 473/645 [2:56:27<1:04:09, 22.38s/it]\u001b[A"
     ]
    },
    {
     "name": "stdout",
     "output_type": "stream",
     "text": [
      "for tag code  c040205 shape is (158, 5)\n"
     ]
    },
    {
     "name": "stderr",
     "output_type": "stream",
     "text": [
      "\n",
      " 73%|███████▎  | 474/645 [2:56:49<1:03:47, 22.38s/it]\u001b[A"
     ]
    },
    {
     "name": "stdout",
     "output_type": "stream",
     "text": [
      "for tag code  c260229 shape is (158, 5)\n"
     ]
    },
    {
     "name": "stderr",
     "output_type": "stream",
     "text": [
      "\n",
      " 74%|███████▎  | 475/645 [2:57:13<1:03:25, 22.39s/it]\u001b[A"
     ]
    },
    {
     "name": "stdout",
     "output_type": "stream",
     "text": [
      "for tag code  c070406 shape is (160, 5)\n"
     ]
    },
    {
     "name": "stderr",
     "output_type": "stream",
     "text": [
      "\n",
      " 74%|███████▍  | 476/645 [2:57:34<1:03:02, 22.38s/it]\u001b[A"
     ]
    },
    {
     "name": "stdout",
     "output_type": "stream",
     "text": [
      "for tag code  c240113 shape is (160, 5)\n"
     ]
    },
    {
     "name": "stderr",
     "output_type": "stream",
     "text": [
      "\n",
      " 74%|███████▍  | 477/645 [2:57:59<1:02:41, 22.39s/it]\u001b[A"
     ]
    },
    {
     "name": "stdout",
     "output_type": "stream",
     "text": [
      "for tag code  c150203 shape is (160, 5)\n"
     ]
    },
    {
     "name": "stderr",
     "output_type": "stream",
     "text": [
      "\n",
      " 74%|███████▍  | 478/645 [2:58:21<1:02:18, 22.39s/it]\u001b[A"
     ]
    },
    {
     "name": "stdout",
     "output_type": "stream",
     "text": [
      "for tag code  c120302 shape is (160, 5)\n"
     ]
    },
    {
     "name": "stderr",
     "output_type": "stream",
     "text": [
      "\n",
      " 74%|███████▍  | 479/645 [2:58:41<1:01:55, 22.38s/it]\u001b[A"
     ]
    },
    {
     "name": "stdout",
     "output_type": "stream",
     "text": [
      "for tag code  z010201 shape is (161, 5)\n"
     ]
    },
    {
     "name": "stderr",
     "output_type": "stream",
     "text": [
      "\n",
      " 74%|███████▍  | 480/645 [2:59:02<1:01:32, 22.38s/it]\u001b[A"
     ]
    },
    {
     "name": "stdout",
     "output_type": "stream",
     "text": [
      "for tag code  c070405 shape is (161, 5)\n"
     ]
    },
    {
     "name": "stderr",
     "output_type": "stream",
     "text": [
      "\n",
      " 75%|███████▍  | 481/645 [2:59:23<1:01:09, 22.38s/it]\u001b[A"
     ]
    },
    {
     "name": "stdout",
     "output_type": "stream",
     "text": [
      "for tag code  c230207 shape is (162, 5)\n"
     ]
    },
    {
     "name": "stderr",
     "output_type": "stream",
     "text": [
      "\n",
      " 75%|███████▍  | 482/645 [2:59:45<1:00:47, 22.38s/it]\u001b[A"
     ]
    },
    {
     "name": "stdout",
     "output_type": "stream",
     "text": [
      "for tag code  c110101 shape is (162, 5)\n"
     ]
    },
    {
     "name": "stderr",
     "output_type": "stream",
     "text": [
      "\n",
      " 75%|███████▍  | 483/645 [3:00:05<1:00:24, 22.37s/it]\u001b[A"
     ]
    },
    {
     "name": "stdout",
     "output_type": "stream",
     "text": [
      "for tag code  z030102 shape is (163, 5)\n"
     ]
    },
    {
     "name": "stderr",
     "output_type": "stream",
     "text": [
      "\n",
      " 75%|███████▌  | 484/645 [3:00:26<1:00:01, 22.37s/it]\u001b[A"
     ]
    },
    {
     "name": "stdout",
     "output_type": "stream",
     "text": [
      "for tag code  c260230 shape is (163, 5)\n"
     ]
    },
    {
     "name": "stderr",
     "output_type": "stream",
     "text": [
      "\n",
      " 75%|███████▌  | 485/645 [3:00:47<59:38, 22.37s/it]  \u001b[A"
     ]
    },
    {
     "name": "stdout",
     "output_type": "stream",
     "text": [
      "for tag code  q0101 shape is (163, 5)\n"
     ]
    },
    {
     "name": "stderr",
     "output_type": "stream",
     "text": [
      "\n",
      " 75%|███████▌  | 486/645 [3:01:11<59:16, 22.37s/it]\u001b[A"
     ]
    },
    {
     "name": "stdout",
     "output_type": "stream",
     "text": [
      "for tag code  z020201 shape is (165, 5)\n"
     ]
    },
    {
     "name": "stderr",
     "output_type": "stream",
     "text": [
      "\n",
      " 76%|███████▌  | 487/645 [3:01:35<58:54, 22.37s/it]\u001b[A"
     ]
    },
    {
     "name": "stdout",
     "output_type": "stream",
     "text": [
      "for tag code  c260212 shape is (165, 5)\n"
     ]
    },
    {
     "name": "stderr",
     "output_type": "stream",
     "text": [
      "\n",
      " 76%|███████▌  | 488/645 [3:01:56<58:31, 22.37s/it]\u001b[A"
     ]
    },
    {
     "name": "stdout",
     "output_type": "stream",
     "text": [
      "for tag code  c120104 shape is (166, 5)\n"
     ]
    },
    {
     "name": "stderr",
     "output_type": "stream",
     "text": [
      "\n",
      " 76%|███████▌  | 489/645 [3:02:21<58:10, 22.38s/it]\u001b[A"
     ]
    },
    {
     "name": "stdout",
     "output_type": "stream",
     "text": [
      "for tag code  c260206 shape is (167, 5)\n"
     ]
    },
    {
     "name": "stderr",
     "output_type": "stream",
     "text": [
      "\n",
      " 76%|███████▌  | 490/645 [3:02:48<57:49, 22.39s/it]\u001b[A"
     ]
    },
    {
     "name": "stdout",
     "output_type": "stream",
     "text": [
      "for tag code  c190101 shape is (168, 5)\n"
     ]
    },
    {
     "name": "stderr",
     "output_type": "stream",
     "text": [
      "\n",
      " 76%|███████▌  | 491/645 [3:03:10<57:27, 22.38s/it]\u001b[A"
     ]
    },
    {
     "name": "stdout",
     "output_type": "stream",
     "text": [
      "for tag code  q0102 shape is (169, 5)\n"
     ]
    },
    {
     "name": "stderr",
     "output_type": "stream",
     "text": [
      "\n",
      " 76%|███████▋  | 492/645 [3:03:31<57:04, 22.38s/it]\u001b[A"
     ]
    },
    {
     "name": "stdout",
     "output_type": "stream",
     "text": [
      "for tag code  c260205 shape is (169, 5)\n"
     ]
    },
    {
     "name": "stderr",
     "output_type": "stream",
     "text": [
      "\n",
      " 76%|███████▋  | 493/645 [3:03:54<56:42, 22.38s/it]\u001b[A"
     ]
    },
    {
     "name": "stdout",
     "output_type": "stream",
     "text": [
      "for tag code  c040404 shape is (169, 5)\n"
     ]
    },
    {
     "name": "stderr",
     "output_type": "stream",
     "text": [
      "\n",
      " 77%|███████▋  | 494/645 [3:04:18<56:20, 22.38s/it]\u001b[A"
     ]
    },
    {
     "name": "stdout",
     "output_type": "stream",
     "text": [
      "for tag code  c120105 shape is (170, 5)\n"
     ]
    },
    {
     "name": "stderr",
     "output_type": "stream",
     "text": [
      "\n",
      " 77%|███████▋  | 495/645 [3:04:38<55:57, 22.38s/it]\u001b[A"
     ]
    },
    {
     "name": "stdout",
     "output_type": "stream",
     "text": [
      "for tag code  c220101 shape is (170, 5)\n"
     ]
    },
    {
     "name": "stderr",
     "output_type": "stream",
     "text": [
      "\n",
      " 77%|███████▋  | 496/645 [3:04:59<55:34, 22.38s/it]\u001b[A"
     ]
    },
    {
     "name": "stdout",
     "output_type": "stream",
     "text": [
      "for tag code  c220103 shape is (170, 5)\n"
     ]
    },
    {
     "name": "stderr",
     "output_type": "stream",
     "text": [
      "\n",
      " 77%|███████▋  | 497/645 [3:05:20<55:11, 22.38s/it]\u001b[A"
     ]
    },
    {
     "name": "stdout",
     "output_type": "stream",
     "text": [
      "for tag code  c090101 shape is (171, 5)\n"
     ]
    },
    {
     "name": "stderr",
     "output_type": "stream",
     "text": [
      "\n",
      " 77%|███████▋  | 498/645 [3:05:41<54:48, 22.37s/it]\u001b[A"
     ]
    },
    {
     "name": "stdout",
     "output_type": "stream",
     "text": [
      "for tag code  c210205 shape is (173, 5)\n"
     ]
    },
    {
     "name": "stderr",
     "output_type": "stream",
     "text": [
      "\n",
      " 77%|███████▋  | 499/645 [3:06:06<54:27, 22.38s/it]\u001b[A"
     ]
    },
    {
     "name": "stdout",
     "output_type": "stream",
     "text": [
      "for tag code  c090303 shape is (174, 5)\n"
     ]
    },
    {
     "name": "stderr",
     "output_type": "stream",
     "text": [
      "\n",
      " 78%|███████▊  | 500/645 [3:06:27<54:04, 22.38s/it]\u001b[A"
     ]
    },
    {
     "name": "stdout",
     "output_type": "stream",
     "text": [
      "for tag code  c210301 shape is (174, 5)\n"
     ]
    },
    {
     "name": "stderr",
     "output_type": "stream",
     "text": [
      "\n",
      " 78%|███████▊  | 501/645 [3:06:54<53:43, 22.38s/it]\u001b[A"
     ]
    },
    {
     "name": "stdout",
     "output_type": "stream",
     "text": [
      "for tag code  c040206 shape is (174, 5)\n"
     ]
    },
    {
     "name": "stderr",
     "output_type": "stream",
     "text": [
      "\n",
      " 78%|███████▊  | 502/645 [3:07:16<53:20, 22.38s/it]\u001b[A"
     ]
    },
    {
     "name": "stdout",
     "output_type": "stream",
     "text": [
      "for tag code  c160304 shape is (175, 5)\n"
     ]
    },
    {
     "name": "stderr",
     "output_type": "stream",
     "text": [
      "\n",
      " 78%|███████▊  | 503/645 [3:07:37<52:58, 22.38s/it]\u001b[A"
     ]
    },
    {
     "name": "stdout",
     "output_type": "stream",
     "text": [
      "for tag code  z020107 shape is (176, 5)\n"
     ]
    },
    {
     "name": "stderr",
     "output_type": "stream",
     "text": [
      "\n",
      " 78%|███████▊  | 504/645 [3:07:57<52:35, 22.38s/it]\u001b[A"
     ]
    },
    {
     "name": "stdout",
     "output_type": "stream",
     "text": [
      "for tag code  z030301 shape is (178, 5)\n"
     ]
    },
    {
     "name": "stderr",
     "output_type": "stream",
     "text": [
      "\n",
      " 78%|███████▊  | 505/645 [3:08:18<52:12, 22.37s/it]\u001b[A"
     ]
    },
    {
     "name": "stdout",
     "output_type": "stream",
     "text": [
      "for tag code  c100305 shape is (179, 5)\n"
     ]
    },
    {
     "name": "stderr",
     "output_type": "stream",
     "text": [
      "\n",
      " 78%|███████▊  | 506/645 [3:08:39<51:49, 22.37s/it]\u001b[A"
     ]
    },
    {
     "name": "stdout",
     "output_type": "stream",
     "text": [
      "for tag code  c070402 shape is (179, 5)\n"
     ]
    },
    {
     "name": "stderr",
     "output_type": "stream",
     "text": [
      "\n",
      " 79%|███████▊  | 507/645 [3:09:03<51:27, 22.37s/it]\u001b[A"
     ]
    },
    {
     "name": "stdout",
     "output_type": "stream",
     "text": [
      "for tag code  c060205 shape is (179, 5)\n"
     ]
    },
    {
     "name": "stderr",
     "output_type": "stream",
     "text": [
      "\n",
      " 79%|███████▉  | 508/645 [3:09:23<51:04, 22.37s/it]\u001b[A"
     ]
    },
    {
     "name": "stdout",
     "output_type": "stream",
     "text": [
      "for tag code  c120305 shape is (180, 5)\n"
     ]
    },
    {
     "name": "stderr",
     "output_type": "stream",
     "text": [
      "\n",
      " 79%|███████▉  | 509/645 [3:09:44<50:41, 22.37s/it]\u001b[A"
     ]
    },
    {
     "name": "stdout",
     "output_type": "stream",
     "text": [
      "for tag code  c070306 shape is (180, 5)\n"
     ]
    },
    {
     "name": "stderr",
     "output_type": "stream",
     "text": [
      "\n",
      " 79%|███████▉  | 510/645 [3:10:05<50:19, 22.36s/it]\u001b[A"
     ]
    },
    {
     "name": "stdout",
     "output_type": "stream",
     "text": [
      "for tag code  c060204 shape is (180, 5)\n"
     ]
    },
    {
     "name": "stderr",
     "output_type": "stream",
     "text": [
      "\n",
      " 79%|███████▉  | 511/645 [3:10:26<49:56, 22.36s/it]\u001b[A"
     ]
    },
    {
     "name": "stdout",
     "output_type": "stream",
     "text": [
      "for tag code  c120304 shape is (180, 5)\n"
     ]
    },
    {
     "name": "stderr",
     "output_type": "stream",
     "text": [
      "\n",
      " 79%|███████▉  | 512/645 [3:10:47<49:33, 22.36s/it]\u001b[A"
     ]
    },
    {
     "name": "stdout",
     "output_type": "stream",
     "text": [
      "for tag code  c090203 shape is (181, 5)\n"
     ]
    },
    {
     "name": "stderr",
     "output_type": "stream",
     "text": [
      "\n",
      " 80%|███████▉  | 513/645 [3:11:08<49:11, 22.36s/it]\u001b[A"
     ]
    },
    {
     "name": "stdout",
     "output_type": "stream",
     "text": [
      "for tag code  c120303 shape is (181, 5)\n"
     ]
    },
    {
     "name": "stderr",
     "output_type": "stream",
     "text": [
      "\n",
      " 80%|███████▉  | 514/645 [3:11:29<48:48, 22.35s/it]\u001b[A"
     ]
    },
    {
     "name": "stdout",
     "output_type": "stream",
     "text": [
      "for tag code  c260214 shape is (181, 5)\n"
     ]
    },
    {
     "name": "stderr",
     "output_type": "stream",
     "text": [
      "\n",
      " 80%|███████▉  | 515/645 [3:11:52<48:26, 22.35s/it]\u001b[A"
     ]
    },
    {
     "name": "stdout",
     "output_type": "stream",
     "text": [
      "for tag code  c220301 shape is (181, 5)\n"
     ]
    },
    {
     "name": "stderr",
     "output_type": "stream",
     "text": [
      "\n",
      " 80%|████████  | 516/645 [3:12:13<48:03, 22.35s/it]\u001b[A"
     ]
    },
    {
     "name": "stdout",
     "output_type": "stream",
     "text": [
      "for tag code  c200202 shape is (182, 5)\n"
     ]
    },
    {
     "name": "stderr",
     "output_type": "stream",
     "text": [
      "\n",
      " 80%|████████  | 517/645 [3:12:34<47:40, 22.35s/it]\u001b[A"
     ]
    },
    {
     "name": "stdout",
     "output_type": "stream",
     "text": [
      "for tag code  c210401 shape is (183, 5)\n"
     ]
    },
    {
     "name": "stderr",
     "output_type": "stream",
     "text": [
      "\n",
      " 80%|████████  | 518/645 [3:12:55<47:17, 22.35s/it]\u001b[A"
     ]
    },
    {
     "name": "stdout",
     "output_type": "stream",
     "text": [
      "for tag code  c070403 shape is (185, 5)\n"
     ]
    },
    {
     "name": "stderr",
     "output_type": "stream",
     "text": [
      "\n",
      " 80%|████████  | 519/645 [3:13:16<46:55, 22.34s/it]\u001b[A"
     ]
    },
    {
     "name": "stdout",
     "output_type": "stream",
     "text": [
      "for tag code  c250302 shape is (187, 5)\n"
     ]
    },
    {
     "name": "stderr",
     "output_type": "stream",
     "text": [
      "\n",
      " 81%|████████  | 520/645 [3:13:39<46:33, 22.35s/it]\u001b[A"
     ]
    },
    {
     "name": "stdout",
     "output_type": "stream",
     "text": [
      "for tag code  c210102 shape is (188, 5)\n"
     ]
    },
    {
     "name": "stderr",
     "output_type": "stream",
     "text": [
      "\n",
      " 81%|████████  | 521/645 [3:14:01<46:10, 22.34s/it]\u001b[A"
     ]
    },
    {
     "name": "stdout",
     "output_type": "stream",
     "text": [
      "for tag code  c100302 shape is (189, 5)\n"
     ]
    },
    {
     "name": "stderr",
     "output_type": "stream",
     "text": [
      "\n",
      " 81%|████████  | 522/645 [3:14:21<45:47, 22.34s/it]\u001b[A"
     ]
    },
    {
     "name": "stdout",
     "output_type": "stream",
     "text": [
      "for tag code  z030202 shape is (190, 5)\n"
     ]
    },
    {
     "name": "stderr",
     "output_type": "stream",
     "text": [
      "\n",
      " 81%|████████  | 523/645 [3:14:41<45:25, 22.34s/it]\u001b[A"
     ]
    },
    {
     "name": "stdout",
     "output_type": "stream",
     "text": [
      "for tag code  c100202 shape is (190, 5)\n"
     ]
    },
    {
     "name": "stderr",
     "output_type": "stream",
     "text": [
      "\n",
      " 81%|████████  | 524/645 [3:15:02<45:02, 22.33s/it]\u001b[A"
     ]
    },
    {
     "name": "stdout",
     "output_type": "stream",
     "text": [
      "for tag code  c250306 shape is (190, 5)\n"
     ]
    },
    {
     "name": "stderr",
     "output_type": "stream",
     "text": [
      "\n",
      " 81%|████████▏ | 525/645 [3:15:23<44:39, 22.33s/it]\u001b[A"
     ]
    },
    {
     "name": "stdout",
     "output_type": "stream",
     "text": [
      "for tag code  c060202 shape is (190, 5)\n"
     ]
    },
    {
     "name": "stderr",
     "output_type": "stream",
     "text": [
      "\n",
      " 82%|████████▏ | 526/645 [3:15:46<44:17, 22.33s/it]\u001b[A"
     ]
    },
    {
     "name": "stdout",
     "output_type": "stream",
     "text": [
      "for tag code  c110205 shape is (191, 5)\n"
     ]
    },
    {
     "name": "stderr",
     "output_type": "stream",
     "text": [
      "\n",
      " 82%|████████▏ | 527/645 [3:16:07<43:54, 22.33s/it]\u001b[A"
     ]
    },
    {
     "name": "stdout",
     "output_type": "stream",
     "text": [
      "for tag code  c200305 shape is (191, 5)\n"
     ]
    },
    {
     "name": "stderr",
     "output_type": "stream",
     "text": [
      "\n",
      " 82%|████████▏ | 528/645 [3:16:28<43:32, 22.33s/it]\u001b[A"
     ]
    },
    {
     "name": "stdout",
     "output_type": "stream",
     "text": [
      "for tag code  c250305 shape is (191, 5)\n"
     ]
    },
    {
     "name": "stderr",
     "output_type": "stream",
     "text": [
      "\n",
      " 82%|████████▏ | 529/645 [3:16:52<43:10, 22.33s/it]\u001b[A"
     ]
    },
    {
     "name": "stdout",
     "output_type": "stream",
     "text": [
      "for tag code  z030403 shape is (192, 5)\n"
     ]
    },
    {
     "name": "stderr",
     "output_type": "stream",
     "text": [
      "\n",
      " 82%|████████▏ | 530/645 [3:17:13<42:47, 22.33s/it]\u001b[A"
     ]
    },
    {
     "name": "stdout",
     "output_type": "stream",
     "text": [
      "for tag code  z010207 shape is (192, 5)\n"
     ]
    },
    {
     "name": "stderr",
     "output_type": "stream",
     "text": [
      "\n",
      " 82%|████████▏ | 531/645 [3:17:34<42:24, 22.32s/it]\u001b[A"
     ]
    },
    {
     "name": "stdout",
     "output_type": "stream",
     "text": [
      "for tag code  c160402 shape is (194, 5)\n"
     ]
    },
    {
     "name": "stderr",
     "output_type": "stream",
     "text": [
      "\n",
      " 82%|████████▏ | 532/645 [3:17:55<42:02, 22.32s/it]\u001b[A"
     ]
    },
    {
     "name": "stdout",
     "output_type": "stream",
     "text": [
      "for tag code  c040207 shape is (194, 5)\n"
     ]
    },
    {
     "name": "stderr",
     "output_type": "stream",
     "text": [
      "\n",
      " 83%|████████▎ | 533/645 [3:18:16<41:39, 22.32s/it]\u001b[A"
     ]
    },
    {
     "name": "stdout",
     "output_type": "stream",
     "text": [
      "for tag code  c190102 shape is (194, 5)\n"
     ]
    },
    {
     "name": "stderr",
     "output_type": "stream",
     "text": [
      "\n",
      " 83%|████████▎ | 534/645 [3:18:42<41:18, 22.33s/it]\u001b[A"
     ]
    },
    {
     "name": "stdout",
     "output_type": "stream",
     "text": [
      "for tag code  c240102 shape is (195, 5)\n"
     ]
    },
    {
     "name": "stderr",
     "output_type": "stream",
     "text": [
      "\n",
      " 83%|████████▎ | 535/645 [3:19:03<40:55, 22.32s/it]\u001b[A"
     ]
    },
    {
     "name": "stdout",
     "output_type": "stream",
     "text": [
      "for tag code  c040201 shape is (195, 5)\n"
     ]
    },
    {
     "name": "stderr",
     "output_type": "stream",
     "text": [
      "\n",
      " 83%|████████▎ | 536/645 [3:19:24<40:33, 22.32s/it]\u001b[A"
     ]
    },
    {
     "name": "stdout",
     "output_type": "stream",
     "text": [
      "for tag code  c260219 shape is (195, 5)\n"
     ]
    },
    {
     "name": "stderr",
     "output_type": "stream",
     "text": [
      "\n",
      " 83%|████████▎ | 537/645 [3:19:49<40:11, 22.33s/it]\u001b[A"
     ]
    },
    {
     "name": "stdout",
     "output_type": "stream",
     "text": [
      "for tag code  c090201 shape is (196, 5)\n"
     ]
    },
    {
     "name": "stderr",
     "output_type": "stream",
     "text": [
      "\n",
      " 83%|████████▎ | 538/645 [3:20:10<39:48, 22.32s/it]\u001b[A"
     ]
    },
    {
     "name": "stdout",
     "output_type": "stream",
     "text": [
      "for tag code  c260105 shape is (196, 5)\n"
     ]
    },
    {
     "name": "stderr",
     "output_type": "stream",
     "text": [
      "\n",
      " 84%|████████▎ | 539/645 [3:20:34<39:26, 22.33s/it]\u001b[A"
     ]
    },
    {
     "name": "stdout",
     "output_type": "stream",
     "text": [
      "for tag code  c070407 shape is (196, 5)\n"
     ]
    },
    {
     "name": "stderr",
     "output_type": "stream",
     "text": [
      "\n",
      " 84%|████████▎ | 540/645 [3:20:52<39:03, 22.32s/it]\u001b[A"
     ]
    },
    {
     "name": "stdout",
     "output_type": "stream",
     "text": [
      "for tag code  c240105 shape is (196, 5)\n"
     ]
    },
    {
     "name": "stderr",
     "output_type": "stream",
     "text": [
      "\n",
      " 84%|████████▍ | 541/645 [3:21:14<38:41, 22.32s/it]\u001b[A"
     ]
    },
    {
     "name": "stdout",
     "output_type": "stream",
     "text": [
      "for tag code  c260218 shape is (197, 5)\n"
     ]
    },
    {
     "name": "stderr",
     "output_type": "stream",
     "text": [
      "\n",
      " 84%|████████▍ | 542/645 [3:21:34<38:18, 22.31s/it]\u001b[A"
     ]
    },
    {
     "name": "stdout",
     "output_type": "stream",
     "text": [
      "for tag code  c050101 shape is (197, 5)\n"
     ]
    },
    {
     "name": "stderr",
     "output_type": "stream",
     "text": [
      "\n",
      " 84%|████████▍ | 543/645 [3:21:58<37:56, 22.32s/it]\u001b[A"
     ]
    },
    {
     "name": "stdout",
     "output_type": "stream",
     "text": [
      "for tag code  c160102 shape is (197, 5)\n"
     ]
    },
    {
     "name": "stderr",
     "output_type": "stream",
     "text": [
      "\n",
      " 84%|████████▍ | 544/645 [3:22:22<37:34, 22.32s/it]\u001b[A"
     ]
    },
    {
     "name": "stdout",
     "output_type": "stream",
     "text": [
      "for tag code  z010206 shape is (197, 5)\n"
     ]
    },
    {
     "name": "stderr",
     "output_type": "stream",
     "text": [
      "\n",
      " 84%|████████▍ | 545/645 [3:22:43<37:11, 22.32s/it]\u001b[A"
     ]
    },
    {
     "name": "stdout",
     "output_type": "stream",
     "text": [
      "for tag code  c210303 shape is (197, 5)\n"
     ]
    },
    {
     "name": "stderr",
     "output_type": "stream",
     "text": [
      "\n",
      " 85%|████████▍ | 546/645 [3:23:07<36:49, 22.32s/it]\u001b[A"
     ]
    },
    {
     "name": "stdout",
     "output_type": "stream",
     "text": [
      "for tag code  c150204 shape is (198, 5)\n"
     ]
    },
    {
     "name": "stderr",
     "output_type": "stream",
     "text": [
      "\n",
      " 85%|████████▍ | 547/645 [3:23:28<36:27, 22.32s/it]\u001b[A"
     ]
    },
    {
     "name": "stdout",
     "output_type": "stream",
     "text": [
      "for tag code  c090103 shape is (198, 5)\n"
     ]
    },
    {
     "name": "stderr",
     "output_type": "stream",
     "text": [
      "\n",
      " 85%|████████▍ | 548/645 [3:23:49<36:04, 22.32s/it]\u001b[A"
     ]
    },
    {
     "name": "stdout",
     "output_type": "stream",
     "text": [
      "for tag code  c240101 shape is (200, 5)\n"
     ]
    },
    {
     "name": "stderr",
     "output_type": "stream",
     "text": [
      "\n",
      " 85%|████████▌ | 549/645 [3:24:11<35:42, 22.32s/it]\u001b[A"
     ]
    },
    {
     "name": "stdout",
     "output_type": "stream",
     "text": [
      "for tag code  c050207 shape is (201, 5)\n"
     ]
    },
    {
     "name": "stderr",
     "output_type": "stream",
     "text": [
      "\n",
      " 85%|████████▌ | 550/645 [3:24:32<35:19, 22.31s/it]\u001b[A"
     ]
    },
    {
     "name": "stdout",
     "output_type": "stream",
     "text": [
      "for tag code  c220203 shape is (203, 5)\n"
     ]
    },
    {
     "name": "stderr",
     "output_type": "stream",
     "text": [
      "\n",
      " 85%|████████▌ | 551/645 [3:24:59<34:58, 22.32s/it]\u001b[A"
     ]
    },
    {
     "name": "stdout",
     "output_type": "stream",
     "text": [
      "for tag code  c110206 shape is (205, 5)\n"
     ]
    },
    {
     "name": "stderr",
     "output_type": "stream",
     "text": [
      "\n",
      " 86%|████████▌ | 552/645 [3:25:20<34:35, 22.32s/it]\u001b[A"
     ]
    },
    {
     "name": "stdout",
     "output_type": "stream",
     "text": [
      "for tag code  c160101 shape is (206, 5)\n"
     ]
    },
    {
     "name": "stderr",
     "output_type": "stream",
     "text": [
      "\n",
      " 86%|████████▌ | 553/645 [3:25:41<34:13, 22.32s/it]\u001b[A"
     ]
    },
    {
     "name": "stdout",
     "output_type": "stream",
     "text": [
      "for tag code  qm0209 shape is (206, 5)\n"
     ]
    },
    {
     "name": "stderr",
     "output_type": "stream",
     "text": [
      "\n",
      " 86%|████████▌ | 554/645 [3:26:02<33:50, 22.31s/it]\u001b[A"
     ]
    },
    {
     "name": "stdout",
     "output_type": "stream",
     "text": [
      "for tag code  qm0124 shape is (206, 5)\n"
     ]
    },
    {
     "name": "stderr",
     "output_type": "stream",
     "text": [
      "\n",
      " 86%|████████▌ | 555/645 [3:26:24<33:28, 22.31s/it]\u001b[A"
     ]
    },
    {
     "name": "stdout",
     "output_type": "stream",
     "text": [
      "for tag code  c050103 shape is (208, 5)\n"
     ]
    },
    {
     "name": "stderr",
     "output_type": "stream",
     "text": [
      "\n",
      " 86%|████████▌ | 556/645 [3:26:47<33:06, 22.32s/it]\u001b[A"
     ]
    },
    {
     "name": "stdout",
     "output_type": "stream",
     "text": [
      "for tag code  z010205 shape is (209, 5)\n"
     ]
    },
    {
     "name": "stderr",
     "output_type": "stream",
     "text": [
      "\n",
      " 86%|████████▋ | 557/645 [3:27:08<32:43, 22.31s/it]\u001b[A"
     ]
    },
    {
     "name": "stdout",
     "output_type": "stream",
     "text": [
      "for tag code  c100103 shape is (210, 5)\n"
     ]
    },
    {
     "name": "stderr",
     "output_type": "stream",
     "text": [
      "\n",
      " 87%|████████▋ | 558/645 [3:27:34<32:21, 22.32s/it]\u001b[A"
     ]
    },
    {
     "name": "stdout",
     "output_type": "stream",
     "text": [
      "for tag code  c050102 shape is (210, 5)\n"
     ]
    },
    {
     "name": "stderr",
     "output_type": "stream",
     "text": [
      "\n",
      " 87%|████████▋ | 559/645 [3:27:55<31:59, 22.32s/it]\u001b[A"
     ]
    },
    {
     "name": "stdout",
     "output_type": "stream",
     "text": [
      "for tag code  c100104 shape is (210, 5)\n"
     ]
    },
    {
     "name": "stderr",
     "output_type": "stream",
     "text": [
      "\n",
      " 87%|████████▋ | 560/645 [3:28:22<31:37, 22.33s/it]\u001b[A"
     ]
    },
    {
     "name": "stdout",
     "output_type": "stream",
     "text": [
      "for tag code  c120203 shape is (214, 5)\n"
     ]
    },
    {
     "name": "stderr",
     "output_type": "stream",
     "text": [
      "\n",
      " 87%|████████▋ | 561/645 [3:28:42<31:15, 22.32s/it]\u001b[A"
     ]
    },
    {
     "name": "stdout",
     "output_type": "stream",
     "text": [
      "for tag code  c070101 shape is (217, 5)\n"
     ]
    },
    {
     "name": "stderr",
     "output_type": "stream",
     "text": [
      "\n",
      " 87%|████████▋ | 562/645 [3:29:06<30:52, 22.32s/it]\u001b[A"
     ]
    },
    {
     "name": "stdout",
     "output_type": "stream",
     "text": [
      "for tag code  z010203 shape is (217, 5)\n"
     ]
    },
    {
     "name": "stderr",
     "output_type": "stream",
     "text": [
      "\n",
      " 87%|████████▋ | 563/645 [3:29:27<30:30, 22.32s/it]\u001b[A"
     ]
    },
    {
     "name": "stdout",
     "output_type": "stream",
     "text": [
      "for tag code  c070401 shape is (219, 5)\n"
     ]
    },
    {
     "name": "stderr",
     "output_type": "stream",
     "text": [
      "\n",
      " 87%|████████▋ | 564/645 [3:29:49<30:08, 22.32s/it]\u001b[A"
     ]
    },
    {
     "name": "stdout",
     "output_type": "stream",
     "text": [
      "for tag code  c050206 shape is (221, 5)\n"
     ]
    },
    {
     "name": "stderr",
     "output_type": "stream",
     "text": [
      "\n",
      " 88%|████████▊ | 565/645 [3:30:11<29:45, 22.32s/it]\u001b[A"
     ]
    },
    {
     "name": "stdout",
     "output_type": "stream",
     "text": [
      "for tag code  c240104 shape is (222, 5)\n"
     ]
    },
    {
     "name": "stderr",
     "output_type": "stream",
     "text": [
      "\n",
      " 88%|████████▊ | 566/645 [3:30:32<29:23, 22.32s/it]\u001b[A"
     ]
    },
    {
     "name": "stdout",
     "output_type": "stream",
     "text": [
      "for tag code  c040202 shape is (223, 5)\n"
     ]
    },
    {
     "name": "stderr",
     "output_type": "stream",
     "text": [
      "\n",
      " 88%|████████▊ | 567/645 [3:30:59<29:01, 22.33s/it]\u001b[A"
     ]
    },
    {
     "name": "stdout",
     "output_type": "stream",
     "text": [
      "for tag code  c120202 shape is (223, 5)\n"
     ]
    },
    {
     "name": "stderr",
     "output_type": "stream",
     "text": [
      "\n",
      " 88%|████████▊ | 568/645 [3:31:20<28:38, 22.32s/it]\u001b[A"
     ]
    },
    {
     "name": "stdout",
     "output_type": "stream",
     "text": [
      "for tag code  c150105 shape is (224, 5)\n"
     ]
    },
    {
     "name": "stderr",
     "output_type": "stream",
     "text": [
      "\n",
      " 88%|████████▊ | 569/645 [3:31:40<28:16, 22.32s/it]\u001b[A"
     ]
    },
    {
     "name": "stdout",
     "output_type": "stream",
     "text": [
      "for tag code  c230104 shape is (224, 5)\n"
     ]
    },
    {
     "name": "stderr",
     "output_type": "stream",
     "text": [
      "\n",
      " 88%|████████▊ | 570/645 [3:32:07<27:54, 22.33s/it]\u001b[A"
     ]
    },
    {
     "name": "stdout",
     "output_type": "stream",
     "text": [
      "for tag code  qm0107 shape is (225, 5)\n"
     ]
    },
    {
     "name": "stderr",
     "output_type": "stream",
     "text": [
      "\n",
      " 89%|████████▊ | 571/645 [3:32:29<27:32, 22.33s/it]\u001b[A"
     ]
    },
    {
     "name": "stdout",
     "output_type": "stream",
     "text": [
      "for tag code  z010103 shape is (226, 5)\n"
     ]
    },
    {
     "name": "stderr",
     "output_type": "stream",
     "text": [
      "\n",
      " 89%|████████▊ | 572/645 [3:32:51<27:09, 22.33s/it]\u001b[A"
     ]
    },
    {
     "name": "stdout",
     "output_type": "stream",
     "text": [
      "for tag code  c230206 shape is (228, 5)\n"
     ]
    },
    {
     "name": "stderr",
     "output_type": "stream",
     "text": [
      "\n",
      " 89%|████████▉ | 573/645 [3:33:12<26:47, 22.33s/it]\u001b[A"
     ]
    },
    {
     "name": "stdout",
     "output_type": "stream",
     "text": [
      "for tag code  c090205 shape is (228, 5)\n"
     ]
    },
    {
     "name": "stderr",
     "output_type": "stream",
     "text": [
      "\n",
      " 89%|████████▉ | 574/645 [3:33:33<26:24, 22.32s/it]\u001b[A"
     ]
    },
    {
     "name": "stdout",
     "output_type": "stream",
     "text": [
      "for tag code  c110401 shape is (229, 5)\n"
     ]
    },
    {
     "name": "stderr",
     "output_type": "stream",
     "text": [
      "\n",
      " 89%|████████▉ | 575/645 [3:33:56<26:02, 22.32s/it]\u001b[A"
     ]
    },
    {
     "name": "stdout",
     "output_type": "stream",
     "text": [
      "for tag code  c210204 shape is (229, 5)\n"
     ]
    },
    {
     "name": "stderr",
     "output_type": "stream",
     "text": [
      "\n",
      " 89%|████████▉ | 576/645 [3:34:19<25:40, 22.33s/it]\u001b[A"
     ]
    },
    {
     "name": "stdout",
     "output_type": "stream",
     "text": [
      "for tag code  c190103 shape is (230, 5)\n"
     ]
    },
    {
     "name": "stderr",
     "output_type": "stream",
     "text": [
      "\n",
      " 89%|████████▉ | 577/645 [3:34:40<25:17, 22.32s/it]\u001b[A"
     ]
    },
    {
     "name": "stdout",
     "output_type": "stream",
     "text": [
      "for tag code  c210108 shape is (231, 5)\n"
     ]
    },
    {
     "name": "stderr",
     "output_type": "stream",
     "text": [
      "\n",
      " 90%|████████▉ | 578/645 [3:35:01<24:55, 22.32s/it]\u001b[A"
     ]
    },
    {
     "name": "stdout",
     "output_type": "stream",
     "text": [
      "for tag code  c220202 shape is (233, 5)\n"
     ]
    },
    {
     "name": "stderr",
     "output_type": "stream",
     "text": [
      "\n",
      " 90%|████████▉ | 579/645 [3:35:25<24:33, 22.32s/it]\u001b[A"
     ]
    },
    {
     "name": "stdout",
     "output_type": "stream",
     "text": [
      "for tag code  c070201 shape is (233, 5)\n"
     ]
    },
    {
     "name": "stderr",
     "output_type": "stream",
     "text": [
      "\n",
      " 90%|████████▉ | 580/645 [3:35:46<24:10, 22.32s/it]\u001b[A"
     ]
    },
    {
     "name": "stdout",
     "output_type": "stream",
     "text": [
      "for tag code  c210104 shape is (234, 5)\n"
     ]
    },
    {
     "name": "stderr",
     "output_type": "stream",
     "text": [
      "\n",
      " 90%|█████████ | 581/645 [3:36:08<23:48, 22.32s/it]\u001b[A"
     ]
    },
    {
     "name": "stdout",
     "output_type": "stream",
     "text": [
      "for tag code  c220107 shape is (235, 5)\n"
     ]
    },
    {
     "name": "stderr",
     "output_type": "stream",
     "text": [
      "\n",
      " 90%|█████████ | 582/645 [3:36:29<23:26, 22.32s/it]\u001b[A"
     ]
    },
    {
     "name": "stdout",
     "output_type": "stream",
     "text": [
      "for tag code  c240112 shape is (236, 5)\n"
     ]
    },
    {
     "name": "stderr",
     "output_type": "stream",
     "text": [
      "\n",
      " 90%|█████████ | 583/645 [3:36:54<23:04, 22.32s/it]\u001b[A"
     ]
    },
    {
     "name": "stdout",
     "output_type": "stream",
     "text": [
      "for tag code  c260209 shape is (237, 5)\n"
     ]
    },
    {
     "name": "stderr",
     "output_type": "stream",
     "text": [
      "\n",
      " 91%|█████████ | 584/645 [3:37:15<22:41, 22.32s/it]\u001b[A"
     ]
    },
    {
     "name": "stdout",
     "output_type": "stream",
     "text": [
      "for tag code  c070202 shape is (238, 5)\n"
     ]
    },
    {
     "name": "stderr",
     "output_type": "stream",
     "text": [
      "\n",
      " 91%|█████████ | 585/645 [3:37:37<22:19, 22.32s/it]\u001b[A"
     ]
    },
    {
     "name": "stdout",
     "output_type": "stream",
     "text": [
      "for tag code  c090305 shape is (238, 5)\n"
     ]
    },
    {
     "name": "stderr",
     "output_type": "stream",
     "text": [
      "\n",
      " 91%|█████████ | 586/645 [3:37:58<21:56, 22.32s/it]\u001b[A"
     ]
    },
    {
     "name": "stdout",
     "output_type": "stream",
     "text": [
      "for tag code  c210203 shape is (238, 5)\n"
     ]
    },
    {
     "name": "stderr",
     "output_type": "stream",
     "text": [
      "\n",
      " 91%|█████████ | 587/645 [3:38:19<21:34, 22.32s/it]\u001b[A"
     ]
    },
    {
     "name": "stdout",
     "output_type": "stream",
     "text": [
      "for tag code  c070102 shape is (239, 5)\n"
     ]
    },
    {
     "name": "stderr",
     "output_type": "stream",
     "text": [
      "\n",
      " 91%|█████████ | 588/645 [3:38:40<21:11, 22.31s/it]\u001b[A"
     ]
    },
    {
     "name": "stdout",
     "output_type": "stream",
     "text": [
      "for tag code  c090304 shape is (240, 5)\n"
     ]
    },
    {
     "name": "stderr",
     "output_type": "stream",
     "text": [
      "\n",
      " 91%|█████████▏| 589/645 [3:39:02<20:49, 22.31s/it]\u001b[A"
     ]
    },
    {
     "name": "stdout",
     "output_type": "stream",
     "text": [
      "for tag code  c260208 shape is (240, 5)\n"
     ]
    },
    {
     "name": "stderr",
     "output_type": "stream",
     "text": [
      "\n",
      " 91%|█████████▏| 590/645 [3:39:27<20:27, 22.32s/it]\u001b[A"
     ]
    },
    {
     "name": "stdout",
     "output_type": "stream",
     "text": [
      "for tag code  c210207 shape is (241, 5)\n"
     ]
    },
    {
     "name": "stderr",
     "output_type": "stream",
     "text": [
      "\n",
      " 92%|█████████▏| 591/645 [3:39:52<20:05, 22.32s/it]\u001b[A"
     ]
    },
    {
     "name": "stdout",
     "output_type": "stream",
     "text": [
      "for tag code  c250201 shape is (241, 5)\n"
     ]
    },
    {
     "name": "stderr",
     "output_type": "stream",
     "text": [
      "\n",
      " 92%|█████████▏| 592/645 [3:40:15<19:43, 22.32s/it]\u001b[A"
     ]
    },
    {
     "name": "stdout",
     "output_type": "stream",
     "text": [
      "for tag code  c260204 shape is (242, 5)\n"
     ]
    },
    {
     "name": "stderr",
     "output_type": "stream",
     "text": [
      "\n",
      " 92%|█████████▏| 593/645 [3:40:37<19:20, 22.32s/it]\u001b[A"
     ]
    },
    {
     "name": "stdout",
     "output_type": "stream",
     "text": [
      "for tag code  c210302 shape is (242, 5)\n"
     ]
    },
    {
     "name": "stderr",
     "output_type": "stream",
     "text": [
      "\n",
      " 92%|█████████▏| 594/645 [3:41:04<18:58, 22.33s/it]\u001b[A"
     ]
    },
    {
     "name": "stdout",
     "output_type": "stream",
     "text": [
      "for tag code  c050104 shape is (243, 5)\n"
     ]
    },
    {
     "name": "stderr",
     "output_type": "stream",
     "text": [
      "\n",
      " 92%|█████████▏| 595/645 [3:41:24<18:36, 22.33s/it]\u001b[A"
     ]
    },
    {
     "name": "stdout",
     "output_type": "stream",
     "text": [
      "for tag code  c090202 shape is (245, 5)\n"
     ]
    },
    {
     "name": "stderr",
     "output_type": "stream",
     "text": [
      "\n",
      " 92%|█████████▏| 596/645 [3:41:46<18:13, 22.33s/it]\u001b[A"
     ]
    },
    {
     "name": "stdout",
     "output_type": "stream",
     "text": [
      "for tag code  c110202 shape is (247, 5)\n"
     ]
    },
    {
     "name": "stderr",
     "output_type": "stream",
     "text": [
      "\n",
      " 93%|█████████▎| 597/645 [3:42:08<17:51, 22.33s/it]\u001b[A"
     ]
    },
    {
     "name": "stdout",
     "output_type": "stream",
     "text": [
      "for tag code  c050201 shape is (251, 5)\n"
     ]
    },
    {
     "name": "stderr",
     "output_type": "stream",
     "text": [
      "\n",
      " 93%|█████████▎| 598/645 [3:42:31<17:29, 22.33s/it]\u001b[A"
     ]
    },
    {
     "name": "stdout",
     "output_type": "stream",
     "text": [
      "for tag code  c150101 shape is (255, 5)\n"
     ]
    },
    {
     "name": "stderr",
     "output_type": "stream",
     "text": [
      "\n",
      " 93%|█████████▎| 599/645 [3:42:52<17:06, 22.32s/it]\u001b[A"
     ]
    },
    {
     "name": "stdout",
     "output_type": "stream",
     "text": [
      "for tag code  c260202 shape is (256, 5)\n"
     ]
    },
    {
     "name": "stderr",
     "output_type": "stream",
     "text": [
      "\n",
      " 93%|█████████▎| 600/645 [3:43:13<16:44, 22.32s/it]\u001b[A"
     ]
    },
    {
     "name": "stdout",
     "output_type": "stream",
     "text": [
      "for tag code  c210206 shape is (257, 5)\n"
     ]
    },
    {
     "name": "stderr",
     "output_type": "stream",
     "text": [
      "\n",
      " 93%|█████████▎| 601/645 [3:43:38<16:22, 22.33s/it]\u001b[A"
     ]
    },
    {
     "name": "stdout",
     "output_type": "stream",
     "text": [
      "for tag code  c150102 shape is (258, 5)\n"
     ]
    },
    {
     "name": "stderr",
     "output_type": "stream",
     "text": [
      "\n",
      " 93%|█████████▎| 602/645 [3:44:00<16:00, 22.33s/it]\u001b[A"
     ]
    },
    {
     "name": "stdout",
     "output_type": "stream",
     "text": [
      "for tag code  c190104 shape is (260, 5)\n"
     ]
    },
    {
     "name": "stderr",
     "output_type": "stream",
     "text": [
      "\n",
      " 93%|█████████▎| 603/645 [3:44:26<15:37, 22.33s/it]\u001b[A"
     ]
    },
    {
     "name": "stdout",
     "output_type": "stream",
     "text": [
      "for tag code  c050205 shape is (260, 5)\n"
     ]
    },
    {
     "name": "stderr",
     "output_type": "stream",
     "text": [
      "\n",
      " 94%|█████████▎| 604/645 [3:44:49<15:15, 22.33s/it]\u001b[A"
     ]
    },
    {
     "name": "stdout",
     "output_type": "stream",
     "text": [
      "for tag code  c150103 shape is (262, 5)\n"
     ]
    },
    {
     "name": "stderr",
     "output_type": "stream",
     "text": [
      "\n",
      " 94%|█████████▍| 605/645 [3:45:11<14:53, 22.33s/it]\u001b[A"
     ]
    },
    {
     "name": "stdout",
     "output_type": "stream",
     "text": [
      "for tag code  c250202 shape is (264, 5)\n"
     ]
    },
    {
     "name": "stderr",
     "output_type": "stream",
     "text": [
      "\n",
      " 94%|█████████▍| 606/645 [3:45:32<14:30, 22.33s/it]\u001b[A"
     ]
    },
    {
     "name": "stdout",
     "output_type": "stream",
     "text": [
      "for tag code  c150104 shape is (265, 5)\n"
     ]
    },
    {
     "name": "stderr",
     "output_type": "stream",
     "text": [
      "\n",
      " 94%|█████████▍| 607/645 [3:45:53<14:08, 22.33s/it]\u001b[A"
     ]
    },
    {
     "name": "stdout",
     "output_type": "stream",
     "text": [
      "for tag code  c070301 shape is (266, 5)\n"
     ]
    },
    {
     "name": "stderr",
     "output_type": "stream",
     "text": [
      "\n",
      " 94%|█████████▍| 608/645 [3:46:14<13:46, 22.33s/it]\u001b[A"
     ]
    },
    {
     "name": "stdout",
     "output_type": "stream",
     "text": [
      "for tag code  c090102 shape is (268, 5)\n"
     ]
    },
    {
     "name": "stderr",
     "output_type": "stream",
     "text": [
      "\n",
      " 94%|█████████▍| 609/645 [3:46:37<13:23, 22.33s/it]\u001b[A"
     ]
    },
    {
     "name": "stdout",
     "output_type": "stream",
     "text": [
      "for tag code  c220102 shape is (268, 5)\n"
     ]
    },
    {
     "name": "stderr",
     "output_type": "stream",
     "text": [
      "\n",
      " 95%|█████████▍| 610/645 [3:46:59<13:01, 22.33s/it]\u001b[A"
     ]
    },
    {
     "name": "stdout",
     "output_type": "stream",
     "text": [
      "for tag code  c210110 shape is (270, 5)\n"
     ]
    },
    {
     "name": "stderr",
     "output_type": "stream",
     "text": [
      "\n",
      " 95%|█████████▍| 611/645 [3:47:19<12:39, 22.32s/it]\u001b[A"
     ]
    },
    {
     "name": "stdout",
     "output_type": "stream",
     "text": [
      "for tag code  c070110 shape is (270, 5)\n"
     ]
    },
    {
     "name": "stderr",
     "output_type": "stream",
     "text": [
      "\n",
      " 95%|█████████▍| 612/645 [3:47:40<12:16, 22.32s/it]\u001b[A"
     ]
    },
    {
     "name": "stdout",
     "output_type": "stream",
     "text": [
      "for tag code  c210103 shape is (271, 5)\n"
     ]
    },
    {
     "name": "stderr",
     "output_type": "stream",
     "text": [
      "\n",
      " 95%|█████████▌| 613/645 [3:48:07<11:54, 22.33s/it]\u001b[A"
     ]
    },
    {
     "name": "stdout",
     "output_type": "stream",
     "text": [
      "for tag code  c110201 shape is (271, 5)\n"
     ]
    },
    {
     "name": "stderr",
     "output_type": "stream",
     "text": [
      "\n",
      " 95%|█████████▌| 614/645 [3:48:29<11:32, 22.33s/it]\u001b[A"
     ]
    },
    {
     "name": "stdout",
     "output_type": "stream",
     "text": [
      "for tag code  c070107 shape is (274, 5)\n"
     ]
    },
    {
     "name": "stderr",
     "output_type": "stream",
     "text": [
      "\n",
      " 95%|█████████▌| 615/645 [3:48:50<11:09, 22.33s/it]\u001b[A"
     ]
    },
    {
     "name": "stdout",
     "output_type": "stream",
     "text": [
      "for tag code  c050204 shape is (277, 5)\n"
     ]
    },
    {
     "name": "stderr",
     "output_type": "stream",
     "text": [
      "\n",
      " 96%|█████████▌| 616/645 [3:49:13<10:47, 22.33s/it]\u001b[A"
     ]
    },
    {
     "name": "stdout",
     "output_type": "stream",
     "text": [
      "for tag code  c070108 shape is (279, 5)\n"
     ]
    },
    {
     "name": "stderr",
     "output_type": "stream",
     "text": [
      "\n",
      " 96%|█████████▌| 617/645 [3:49:35<10:25, 22.33s/it]\u001b[A"
     ]
    },
    {
     "name": "stdout",
     "output_type": "stream",
     "text": [
      "for tag code  c070111 shape is (283, 5)\n"
     ]
    },
    {
     "name": "stderr",
     "output_type": "stream",
     "text": [
      "\n",
      " 96%|█████████▌| 618/645 [3:49:55<10:02, 22.32s/it]\u001b[A"
     ]
    },
    {
     "name": "stdout",
     "output_type": "stream",
     "text": [
      "for tag code  c070206 shape is (284, 5)\n"
     ]
    },
    {
     "name": "stderr",
     "output_type": "stream",
     "text": [
      "\n",
      " 96%|█████████▌| 619/645 [3:50:19<09:40, 22.33s/it]\u001b[A"
     ]
    },
    {
     "name": "stdout",
     "output_type": "stream",
     "text": [
      "for tag code  c210208 shape is (284, 5)\n"
     ]
    },
    {
     "name": "stderr",
     "output_type": "stream",
     "text": [
      "\n",
      " 96%|█████████▌| 620/645 [3:50:40<09:18, 22.32s/it]\u001b[A"
     ]
    },
    {
     "name": "stdout",
     "output_type": "stream",
     "text": [
      "for tag code  c210101 shape is (286, 5)\n"
     ]
    },
    {
     "name": "stderr",
     "output_type": "stream",
     "text": [
      "\n",
      " 96%|█████████▋| 621/645 [3:51:04<08:55, 22.33s/it]\u001b[A"
     ]
    },
    {
     "name": "stdout",
     "output_type": "stream",
     "text": [
      "for tag code  c210109 shape is (297, 5)\n"
     ]
    },
    {
     "name": "stderr",
     "output_type": "stream",
     "text": [
      "\n",
      " 96%|█████████▋| 622/645 [3:51:30<08:33, 22.33s/it]\u001b[A"
     ]
    },
    {
     "name": "stdout",
     "output_type": "stream",
     "text": [
      "for tag code  c070109 shape is (297, 5)\n"
     ]
    },
    {
     "name": "stderr",
     "output_type": "stream",
     "text": [
      "\n",
      " 97%|█████████▋| 623/645 [3:51:52<08:11, 22.33s/it]\u001b[A"
     ]
    },
    {
     "name": "stdout",
     "output_type": "stream",
     "text": [
      "for tag code  c050202 shape is (298, 5)\n"
     ]
    },
    {
     "name": "stderr",
     "output_type": "stream",
     "text": [
      "\n",
      " 97%|█████████▋| 624/645 [3:52:14<07:48, 22.33s/it]\u001b[A"
     ]
    },
    {
     "name": "stdout",
     "output_type": "stream",
     "text": [
      "for tag code  c070205 shape is (299, 5)\n"
     ]
    },
    {
     "name": "stderr",
     "output_type": "stream",
     "text": [
      "\n",
      " 97%|█████████▋| 625/645 [3:52:37<07:26, 22.33s/it]\u001b[A"
     ]
    },
    {
     "name": "stdout",
     "output_type": "stream",
     "text": [
      "for tag code  c210305 shape is (301, 5)\n"
     ]
    },
    {
     "name": "stderr",
     "output_type": "stream",
     "text": [
      "\n",
      " 97%|█████████▋| 626/645 [3:53:04<07:04, 22.34s/it]\u001b[A"
     ]
    },
    {
     "name": "stdout",
     "output_type": "stream",
     "text": [
      "for tag code  c070204 shape is (304, 5)\n"
     ]
    },
    {
     "name": "stderr",
     "output_type": "stream",
     "text": [
      "\n",
      " 97%|█████████▋| 627/645 [3:53:25<06:42, 22.34s/it]\u001b[A"
     ]
    },
    {
     "name": "stdout",
     "output_type": "stream",
     "text": [
      "for tag code  c210201 shape is (305, 5)\n"
     ]
    },
    {
     "name": "stderr",
     "output_type": "stream",
     "text": [
      "\n",
      " 97%|█████████▋| 628/645 [3:53:46<06:19, 22.34s/it]\u001b[A"
     ]
    },
    {
     "name": "stdout",
     "output_type": "stream",
     "text": [
      "for tag code  c220201 shape is (305, 5)\n"
     ]
    },
    {
     "name": "stderr",
     "output_type": "stream",
     "text": [
      "\n",
      " 98%|█████████▊| 629/645 [3:54:08<05:57, 22.33s/it]\u001b[A"
     ]
    },
    {
     "name": "stdout",
     "output_type": "stream",
     "text": [
      "for tag code  c250101 shape is (306, 5)\n"
     ]
    },
    {
     "name": "stderr",
     "output_type": "stream",
     "text": [
      "\n",
      " 98%|█████████▊| 630/645 [3:54:28<05:34, 22.33s/it]\u001b[A"
     ]
    },
    {
     "name": "stdout",
     "output_type": "stream",
     "text": [
      "for tag code  c250102 shape is (307, 5)\n"
     ]
    },
    {
     "name": "stderr",
     "output_type": "stream",
     "text": [
      "\n",
      " 98%|█████████▊| 631/645 [3:54:50<05:12, 22.33s/it]\u001b[A"
     ]
    },
    {
     "name": "stdout",
     "output_type": "stream",
     "text": [
      "for tag code  c210304 shape is (307, 5)\n"
     ]
    },
    {
     "name": "stderr",
     "output_type": "stream",
     "text": [
      "\n",
      " 98%|█████████▊| 632/645 [3:55:12<04:50, 22.33s/it]\u001b[A"
     ]
    },
    {
     "name": "stdout",
     "output_type": "stream",
     "text": [
      "for tag code  c210106 shape is (312, 5)\n"
     ]
    },
    {
     "name": "stderr",
     "output_type": "stream",
     "text": [
      "\n",
      " 98%|█████████▊| 633/645 [3:55:34<04:27, 22.33s/it]\u001b[A"
     ]
    },
    {
     "name": "stdout",
     "output_type": "stream",
     "text": [
      "for tag code  c070103 shape is (314, 5)\n"
     ]
    },
    {
     "name": "stderr",
     "output_type": "stream",
     "text": [
      "\n",
      " 98%|█████████▊| 634/645 [3:55:55<04:05, 22.33s/it]\u001b[A"
     ]
    },
    {
     "name": "stdout",
     "output_type": "stream",
     "text": [
      "for tag code  c070203 shape is (316, 5)\n"
     ]
    },
    {
     "name": "stderr",
     "output_type": "stream",
     "text": [
      "\n",
      " 98%|█████████▊| 635/645 [3:56:19<03:43, 22.33s/it]\u001b[A"
     ]
    },
    {
     "name": "stdout",
     "output_type": "stream",
     "text": [
      "for tag code  c070104 shape is (317, 5)\n"
     ]
    },
    {
     "name": "stderr",
     "output_type": "stream",
     "text": [
      "\n",
      " 99%|█████████▊| 636/645 [3:56:41<03:20, 22.33s/it]\u001b[A"
     ]
    },
    {
     "name": "stdout",
     "output_type": "stream",
     "text": [
      "for tag code  c110104 shape is (328, 5)\n"
     ]
    },
    {
     "name": "stderr",
     "output_type": "stream",
     "text": [
      "\n",
      " 99%|█████████▉| 637/645 [3:57:05<02:58, 22.33s/it]\u001b[A"
     ]
    },
    {
     "name": "stdout",
     "output_type": "stream",
     "text": [
      "for tag code  c210202 shape is (336, 5)\n"
     ]
    },
    {
     "name": "stderr",
     "output_type": "stream",
     "text": [
      "\n",
      " 99%|█████████▉| 638/645 [3:57:34<02:36, 22.34s/it]\u001b[A"
     ]
    },
    {
     "name": "stdout",
     "output_type": "stream",
     "text": [
      "for tag code  c070302 shape is (337, 5)\n"
     ]
    },
    {
     "name": "stderr",
     "output_type": "stream",
     "text": [
      "\n",
      " 99%|█████████▉| 639/645 [3:57:57<02:14, 22.34s/it]\u001b[A"
     ]
    },
    {
     "name": "stdout",
     "output_type": "stream",
     "text": [
      "for tag code  c070106 shape is (351, 5)\n"
     ]
    },
    {
     "name": "stderr",
     "output_type": "stream",
     "text": [
      "\n",
      " 99%|█████████▉| 640/645 [3:58:19<01:51, 22.34s/it]\u001b[A"
     ]
    },
    {
     "name": "stdout",
     "output_type": "stream",
     "text": [
      "for tag code  c210107 shape is (353, 5)\n"
     ]
    },
    {
     "name": "stderr",
     "output_type": "stream",
     "text": [
      "\n",
      " 99%|█████████▉| 641/645 [3:58:40<01:29, 22.34s/it]\u001b[A"
     ]
    },
    {
     "name": "stdout",
     "output_type": "stream",
     "text": [
      "for tag code  c210105 shape is (360, 5)\n"
     ]
    },
    {
     "name": "stderr",
     "output_type": "stream",
     "text": [
      "\n",
      "100%|█████████▉| 642/645 [3:59:04<01:07, 22.34s/it]\u001b[A"
     ]
    },
    {
     "name": "stdout",
     "output_type": "stream",
     "text": [
      "for tag code  c070303 shape is (361, 5)\n"
     ]
    },
    {
     "name": "stderr",
     "output_type": "stream",
     "text": [
      "\n",
      "100%|█████████▉| 643/645 [3:59:25<00:44, 22.34s/it]\u001b[A"
     ]
    },
    {
     "name": "stdout",
     "output_type": "stream",
     "text": [
      "for tag code  c070105 shape is (364, 5)\n"
     ]
    },
    {
     "name": "stderr",
     "output_type": "stream",
     "text": [
      "\n",
      "100%|█████████▉| 644/645 [3:59:47<00:22, 22.34s/it]\u001b[A"
     ]
    },
    {
     "name": "stdout",
     "output_type": "stream",
     "text": [
      "for tag code  c210111 shape is (366, 5)\n"
     ]
    }
   ],
   "source": [
    "l0_range = (0.01, 0.5)\n",
    "trans_range = (0.01, 0.5)\n",
    "guess_range = (0.01, 0.5)\n",
    "slip_range = (0.01, 0.3)\n",
    "search_ranges = (l0_range, trans_range, guess_range, slip_range)\n",
    "\n",
    "parameters = {}\n",
    "for i in tqdm(my_df.tag_code.unique()):\n",
    "    tp=my_df[my_df['tag_code']==i]\n",
    "    print('for tag code ', i, 'shape is', tp.shape)\n",
    "    my_partial = partial(ssr, tp)\n",
    "    parameters[i] = gp_minimize(my_partial, search_ranges, acq_func=\"EI\", n_calls=100,         # the number of evaluations of f \n",
    "                  n_random_starts=30,  # the number of random initialization points\n",
    "                  noise=0.1**2,       # the noise level (optional)\n",
    "                  random_state=123).x"
   ]
  },
  {
   "cell_type": "code",
   "execution_count": 122,
   "metadata": {
    "collapsed": true
   },
   "outputs": [],
   "source": [
    "bkts = np.array(list(parameters.values()))"
   ]
  },
  {
   "cell_type": "code",
   "execution_count": 126,
   "metadata": {},
   "outputs": [
    {
     "data": {
      "text/plain": [
       "(array([1., 0., 1., 1., 0., 0., 0., 1., 0., 1.]),\n",
       " array([0.34977619, 0.36183419, 0.37389219, 0.38595019, 0.39800819,\n",
       "        0.41006619, 0.42212419, 0.43418219, 0.44624019, 0.45829819,\n",
       "        0.47035619]),\n",
       " <a list of 10 Patch objects>)"
      ]
     },
     "execution_count": 126,
     "metadata": {},
     "output_type": "execute_result"
    },
    {
     "data": {
      "image/png": "[encoded data removed]",
      "text/plain": [
       "<Figure size 432x288 with 1 Axes>"
      ]
     },
     "metadata": {},
     "output_type": "display_data"
    }
   ],
   "source": [
    "plt.hist(bkts[:,3])"
   ]
  },
  {
   "cell_type": "code",
   "execution_count": 117,
   "metadata": {},
   "outputs": [
    {
     "name": "stdout",
     "output_type": "stream",
     "text": [
      "[324, 78, 90]\n"
     ]
    },
    {
     "data": {
      "text/plain": [
       "dict_values([324, 78, 90])"
      ]
     },
     "execution_count": 117,
     "metadata": {},
     "output_type": "execute_result"
    }
   ],
   "source": [
    "food = {'pizza': 324, 'sandwich': 78, 'hot dog': 90}\n",
    "food_list=list(food.values())\n",
    "print(food_list)\n",
    "food.values()"
   ]
  },
  {
   "cell_type": "code",
   "execution_count": 68,
   "metadata": {},
   "outputs": [
    {
     "name": "stdout",
     "output_type": "stream",
     "text": [
      "total Running time: 0.0050351619720458984 197\n"
     ]
    }
   ],
   "source": [
    "time_start = time.time()\n",
    "parameters = (0.1, 0.3, 0.1, 0.12)\n",
    "ssr(tp, parameters)\n",
    "time_end = time.time()\n",
    "print('total Running time: {}'.format(time_end - time_start), tp.shape[0])"
   ]
  },
  {
   "cell_type": "code",
   "execution_count": 69,
   "metadata": {},
   "outputs": [
    {
     "name": "stdout",
     "output_type": "stream",
     "text": [
      "total Running time: 0.20855426788330078 81598\n"
     ]
    }
   ],
   "source": [
    "time_start = time.time()\n",
    "parameters = (0.1, 0.3, 0.1, 0.12)\n",
    "ssr(df1, parameters)\n",
    "time_end = time.time()\n",
    "print('total Running time: {}'.format(time_end - time_start), df1.shape[0])"
   ]
  },
  {
   "cell_type": "code",
   "execution_count": 9,
   "metadata": {},
   "outputs": [
    {
     "name": "stdout",
     "output_type": "stream",
     "text": [
      "[-0.3        -0.26666667 -0.23333333 -0.2        -0.16666667 -0.13333333\n",
      " -0.1        -0.06666667 -0.03333333  0.          0.03333333  0.06666667\n",
      "  0.1         0.13333333  0.16666667  0.2         0.23333333  0.26666667\n",
      "  0.3       ]\n",
      "0.03333333333333333 0.0\n"
     ]
    }
   ],
   "source": [
    "import numpy as np\n",
    "data = np.arange(1,20)\n",
    "m = np.mean(data)\n",
    "v = np.var(data)\n",
    "new = (data - m )/ v\n",
    "\n",
    "print(new)\n",
    "print(np.var(new),np.mean(new))"
   ]
  },
  {
   "cell_type": "code",
   "execution_count": null,
   "metadata": {
    "collapsed": true
   },
   "outputs": [],
   "source": []
  },
  {
   "cell_type": "code",
   "execution_count": null,
   "metadata": {
    "collapsed": true
   },
   "outputs": [],
   "source": []
  },
  {
   "cell_type": "code",
   "execution_count": 154,
   "metadata": {},
   "outputs": [
    {
     "ename": "TypeError",
     "evalue": "ssr() takes 2 positional arguments but 5 were given",
     "output_type": "error",
     "traceback": [
      "\u001b[1;31m---------------------------------------------------------------------------\u001b[0m",
      "\u001b[1;31mTypeError\u001b[0m                                 Traceback (most recent call last)",
      "\u001b[1;32m<ipython-input-154-4917ba4f91bc>\u001b[0m in \u001b[0;36m<module>\u001b[1;34m()\u001b[0m\n\u001b[0;32m      9\u001b[0m \u001b[1;33m\u001b[0m\u001b[0m\n\u001b[0;32m     10\u001b[0m                 \u001b[0mparameters\u001b[0m\u001b[1;33m=\u001b[0m\u001b[0ml0\u001b[0m\u001b[1;33m,\u001b[0m \u001b[0mtrans\u001b[0m\u001b[1;33m,\u001b[0m \u001b[0mguess\u001b[0m\u001b[1;33m,\u001b[0m \u001b[0mslip\u001b[0m\u001b[1;33m\u001b[0m\u001b[0m\n\u001b[1;32m---> 11\u001b[1;33m                 \u001b[0mssr_val\u001b[0m\u001b[1;33m=\u001b[0m\u001b[0mssr\u001b[0m\u001b[1;33m(\u001b[0m\u001b[0mmy_df\u001b[0m\u001b[1;33m,\u001b[0m \u001b[1;33m*\u001b[0m\u001b[0mparameters\u001b[0m\u001b[1;33m)\u001b[0m\u001b[1;33m\u001b[0m\u001b[0m\n\u001b[0m\u001b[0;32m     12\u001b[0m                 \u001b[0mmy_df_ssr\u001b[0m\u001b[1;33m.\u001b[0m\u001b[0mappend\u001b[0m\u001b[1;33m(\u001b[0m\u001b[0mssr_val\u001b[0m\u001b[1;33m)\u001b[0m\u001b[1;33m\u001b[0m\u001b[0m\n\u001b[0;32m     13\u001b[0m \u001b[1;33m\u001b[0m\u001b[0m\n",
      "\u001b[1;31mTypeError\u001b[0m: ssr() takes 2 positional arguments but 5 were given"
     ]
    }
   ],
   "source": [
    "time_start = time.time()\n",
    "my_df_ssr=[]\n",
    "min_ssr=1e5\n",
    "\n",
    "for l0 in  np.linspace(0.1, 0.5, 5):\n",
    "    for trans in np.linspace(0.1, 0.5, 5):\n",
    "        for guess in np.linspace(0.1, 0.5, 5):\n",
    "            for slip in np.linspace(0.1, 0.5, 5):\n",
    "                \n",
    "                parameters=l0, trans, guess, slip\n",
    "                ssr_val=ssr(my_df, *parameters)\n",
    "                my_df_ssr.append(ssr_val)\n",
    "                \n",
    "                if ssr_val < min_ssr :\n",
    "                    min_para=parameters\n",
    "                    min_ssr=ssr_val\n",
    "                    print(parameters, ssr_val)\n",
    "                                \n",
    "time_end = time.time()\n",
    "print('total_grid 16', 'Running time: {}'.format(time_end - time_start))"
   ]
  },
  {
   "cell_type": "code",
   "execution_count": null,
   "metadata": {
    "collapsed": true
   },
   "outputs": [],
   "source": [
    "parameters = (0.3, 0.1, 0.5, 0.1)\n",
    "ssr(my_df, *parameters)"
   ]
  },
  {
   "cell_type": "code",
   "execution_count": null,
   "metadata": {
    "collapsed": true
   },
   "outputs": [],
   "source": []
  },
  {
   "cell_type": "code",
   "execution_count": null,
   "metadata": {
    "collapsed": true
   },
   "outputs": [],
   "source": [
    "final_df=df1[['user_id', 'tag_code', 'is_right']]\n",
    "std1=final_df[final_df['tag_code']=='c210111']\n",
    "train, test =  train_test_split(std1, test_size=0.2)\n",
    "train.shape, test.shape"
   ]
  },
  {
   "cell_type": "code",
   "execution_count": null,
   "metadata": {
    "collapsed": true
   },
   "outputs": [],
   "source": [
    "time_start = time.time()\n",
    "test_ssr=[]\n",
    "train_ssr=[]\n",
    "min_ssr=1e5\n",
    "i=0\n",
    "l0=0.1\n",
    "for trans in np.linspace(0.1, 1.0, 10):\n",
    "        for guess in np.linspace(0.1, 0.5, 10):\n",
    "            for slip in np.linspace(0.1, 0.5, 10):\n",
    "                i+=1\n",
    "                parameters=l0, trans, guess, slip\n",
    "                ssr_val=ssr(train, *parameters)\n",
    "                train_ssr.append(ssr_val)\n",
    "                test_ssr.append(ssr(test, *parameters))\n",
    "                if ssr_val < min_ssr :\n",
    "                    min_para=parameters\n",
    "                    min_ssr=ssr_val\n",
    "                    print(i, parameters, ssr_val)\n",
    "                                \n",
    "time_end = time.time()\n",
    "print('total_grid 16', 'Running time: {}'.format(time_end - time_start))"
   ]
  },
  {
   "cell_type": "code",
   "execution_count": null,
   "metadata": {
    "collapsed": true,
    "scrolled": true
   },
   "outputs": [],
   "source": [
    "plt.xlim(600, 640)\n",
    "plt.plot(test_ssr)\n",
    "plt.plot(train_ssr)"
   ]
  },
  {
   "cell_type": "code",
   "execution_count": null,
   "metadata": {
    "collapsed": true
   },
   "outputs": [],
   "source": [
    "# ssr(test, *(0.4, 0.0, 0.0, 0.0))\n",
    "\n",
    "test_ssr[622]\n",
    "min(test_ssr), test_ssr.index(min(test_ssr))"
   ]
  },
  {
   "cell_type": "code",
   "execution_count": null,
   "metadata": {
    "collapsed": true
   },
   "outputs": [],
   "source": [
    "time_start = time.time()\n",
    "test_ssr=[]\n",
    "train_ssr=[]\n",
    "min_ssr=1e5\n",
    "i=0\n",
    "\n",
    "train, test = train_test_split(my_df, test_size=0.2)\n",
    "print(my_df.shape, train.shape, test.shape)\n",
    "\n",
    "for l0 in  np.linspace(0.1, 0.5, 5):\n",
    "    for trans in np.linspace(0.1, 0.5, 5):\n",
    "        for guess in np.linspace(0.1, 0.5, 5):\n",
    "            for slip in np.linspace(0.1, 0.5, 5):\n",
    "                i+=1\n",
    "                parameters=l0, trans, guess, slip\n",
    "                ssr_val=ssr(train, *parameters)\n",
    "                train_ssr.append(ssr_val)\n",
    "                test_ssr.append(ssr(test, *parameters))\n",
    "                if ssr_val < min_ssr :\n",
    "                    min_para=parameters\n",
    "                    min_ssr=ssr_val\n",
    "                    print(i, parameters, ssr_val)\n",
    "                                \n",
    "time_end = time.time()\n",
    "print('total_grid 16', 'Running time: {}'.format(time_end - time_start))"
   ]
  },
  {
   "cell_type": "code",
   "execution_count": null,
   "metadata": {
    "collapsed": true
   },
   "outputs": [],
   "source": [
    "plt.xlim(550, 600)\n",
    "plt.plot(train_ssr)\n",
    "plt.plot(test_ssr)"
   ]
  },
  {
   "cell_type": "code",
   "execution_count": null,
   "metadata": {
    "collapsed": true
   },
   "outputs": [],
   "source": [
    "min_para, ssr(df, *min_para)"
   ]
  },
  {
   "cell_type": "code",
   "execution_count": null,
   "metadata": {
    "collapsed": true
   },
   "outputs": [],
   "source": [
    "parameters = (0.5, 0.9, 0.5, 0.2)\n",
    "ssr(df, *parameters)"
   ]
  },
  {
   "cell_type": "code",
   "execution_count": null,
   "metadata": {
    "collapsed": true
   },
   "outputs": [],
   "source": [
    "ssr(df, *min_para)"
   ]
  },
  {
   "cell_type": "code",
   "execution_count": null,
   "metadata": {
    "collapsed": true
   },
   "outputs": [],
   "source": []
  },
  {
   "cell_type": "code",
   "execution_count": null,
   "metadata": {
    "collapsed": true
   },
   "outputs": [],
   "source": []
  },
  {
   "cell_type": "code",
   "execution_count": null,
   "metadata": {
    "collapsed": true
   },
   "outputs": [],
   "source": []
  }
 ],
 "metadata": {
  "kernelspec": {
   "display_name": "Python 3",
   "language": "python",
   "name": "python3"
  },
  "language_info": {
   "codemirror_mode": {
    "name": "ipython",
    "version": 3
   },
   "file_extension": ".py",
   "mimetype": "text/x-python",
   "name": "python",
   "nbconvert_exporter": "python",
   "pygments_lexer": "ipython3",
   "version": "3.6.5"
  }
 },
 "nbformat": 4,
 "nbformat_minor": 2
}
